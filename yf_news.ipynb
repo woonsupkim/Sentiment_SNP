{
 "cells": [
  {
   "cell_type": "code",
   "execution_count": 1,
   "metadata": {},
   "outputs": [],
   "source": [
    "import time\n",
    "from selenium import webdriver\n",
    "from bs4 import BeautifulSoup\n",
    "from urllib.parse import urljoin\n",
    "import pandas as pd\n",
    "import seaborn as sns\n",
    "from datetime import date\n",
    "\n",
    "import warnings\n",
    "warnings.filterwarnings(\"ignore\")\n",
    "\n",
    "from IPython.core.interactiveshell import InteractiveShell\n",
    "InteractiveShell.ast_node_interactivity = 'all'\n",
    "\n",
    "# Environment settings: \n",
    "pd.set_option('display.max_column', None)\n",
    "pd.set_option('display.max_rows', None)\n",
    "pd.set_option('display.max_seq_items', None)\n",
    "pd.set_option('display.max_colwidth', 500)\n",
    "pd.set_option('expand_frame_repr', True)"
   ]
  },
  {
   "cell_type": "code",
   "execution_count": 2,
   "metadata": {},
   "outputs": [],
   "source": [
    "def get_page(url):\n",
    "    \"\"\"Download a webpage and return a beautiful soup doc\"\"\"\n",
    "    ##### Web scrapper for infinite scrolling page #####\n",
    "    driver = webdriver.Chrome(executable_path=r\"E:\\Chromedriver\\chromedriver_win32_chrome83\\chromedriver.exe\")\n",
    "    driver.get(url)\n",
    "    time.sleep(2)  # Allow 2 seconds for the web page to open\n",
    "    scroll_pause_time = 1 # You can set your own pause time. My laptop is a bit slow so I use 1 sec\n",
    "    screen_height = driver.execute_script(\"return window.screen.height;\")   # get the screen height of the web\n",
    "    i = 1\n",
    "\n",
    "    while True:\n",
    "        # scroll one screen height each time\n",
    "        driver.execute_script(\"window.scrollTo(0, {screen_height}*{i});\".format(screen_height=screen_height, i=i))  \n",
    "        i += 1\n",
    "        time.sleep(scroll_pause_time)\n",
    "        # update scroll height each time after scrolled, as the scroll height can change after we scrolled the page\n",
    "        scroll_height = driver.execute_script(\"return document.body.scrollHeight;\")  \n",
    "        # Break the loop when the height we need to scroll to is larger than the total scroll height\n",
    "        if i == 10:\n",
    "            break \n",
    "\n",
    "    ##### Extract Reddit URLs #####\n",
    "    soup = BeautifulSoup(driver.page_source, \"html.parser\")\n",
    "    return soup"
   ]
  },
  {
   "cell_type": "code",
   "execution_count": 3,
   "metadata": {},
   "outputs": [],
   "source": [
    "def get_news_tags(doc):\n",
    "    \"\"\"Get the list of tags containing news information\"\"\"\n",
    "    news_class = \"Ov(h) Pend(44px) Pstart(25px)\" ## class name of div tag \n",
    "    news_list  = doc.find_all('div', {'class': news_class})\n",
    "    return news_list"
   ]
  },
  {
   "cell_type": "code",
   "execution_count": 4,
   "metadata": {},
   "outputs": [],
   "source": [
    "BASE_URL = 'https://finance.yahoo.com' #Global Variable \n",
    "\n",
    "def parse_news(news_tag):\n",
    "    \"\"\"Get the news data point and return dictionary\"\"\"\n",
    "    news_source = news_tag.find_all('span')[0].text #source\n",
    "    news_time = news_tag.find_all('span')[1].text #time\n",
    "    news_headline = news_tag.find('a').text #heading\n",
    "    news_url = news_tag.find('a')['href'] #link\n",
    "    news_content = news_tag.find('p').text #content\n",
    "    news_image = news_tag.findParent().find('img')['src'] #thumb image\n",
    "    return { 'source' : news_source,\n",
    "            'time' : news_time,    \n",
    "            'headline' : news_headline,\n",
    "            'url' : BASE_URL + news_url,\n",
    "            'content' : news_content,\n",
    "           }"
   ]
  },
  {
   "cell_type": "code",
   "execution_count": 5,
   "metadata": {},
   "outputs": [],
   "source": [
    "def scrape_yahoo_news(url, path=None):\n",
    "    \"\"\"Get the yahoo finance market news and write them to CSV file \"\"\"\n",
    "    if path is None:\n",
    "        path = 'stock-market-news.csv'\n",
    "        \n",
    "    #print('Requesting html page')\n",
    "    doc = get_page(url)\n",
    "\n",
    "    #print('Extracting news tags')\n",
    "    news_list = get_news_tags(doc)\n",
    "\n",
    "    #print('Parsing news tags')\n",
    "    news_data = [parse_news(news_tag) for news_tag in news_list]\n",
    "\n",
    "    #print('Save the data to a CSV')\n",
    "    news_df = pd.DataFrame(news_data)\n",
    "    #news_df.to_csv(path, index=None)\n",
    "    \n",
    "    #This return statement is optional, we are doing this just analyze the final output \n",
    "    return news_df "
   ]
  },
  {
   "cell_type": "code",
   "execution_count": 6,
   "metadata": {},
   "outputs": [],
   "source": [
    "# url = 'https://finance.yahoo.com/topic/stock-market-news/'\n",
    "# doc = get_page(url)\n",
    "# news_list = get_news_tags(doc)\n",
    "# news_list"
   ]
  },
  {
   "attachments": {},
   "cell_type": "markdown",
   "metadata": {},
   "source": [
    "## Collecting Stock Market News From Yahoo Finance"
   ]
  },
  {
   "cell_type": "code",
   "execution_count": 7,
   "metadata": {},
   "outputs": [],
   "source": [
    "# from datetime import datetime\n",
    "\n",
    "# now = datetime.now()\n",
    "# current_time = now.strftime(\"%H:%M:%S\")\n",
    "# print(\"Report Date = \", date.today())\n",
    "# print(\"Report Time =\", current_time)\n",
    "# YAHOO_NEWS_URL = BASE_URL + '/topic/stock-market-news/'\n",
    "# news_df = scrape_yahoo_news(YAHOO_NEWS_URL)"
   ]
  },
  {
   "cell_type": "code",
   "execution_count": 8,
   "metadata": {},
   "outputs": [],
   "source": [
    "# from transformers import pipeline"
   ]
  },
  {
   "attachments": {},
   "cell_type": "markdown",
   "metadata": {},
   "source": [
    "### Sentiment Analysis of Yahoo Finance"
   ]
  },
  {
   "cell_type": "code",
   "execution_count": 9,
   "metadata": {},
   "outputs": [],
   "source": [
    "# sentiment_pipeline = pipeline(\"sentiment-analysis\", model=\"distilbert-base-uncased-finetuned-sst-2-english\")\n",
    "\n",
    "# sentiment = [None] * len(news_df)\n",
    "# sentiment_score = [None] * len(news_df)\n",
    "# index = -1\n",
    "# for sentence in news_df['headline']:\n",
    "#     index+=1\n",
    "#     result = sentiment_pipeline(sentence[:512])[0]\n",
    "#     sentiment[index] = result['label']\n",
    "#     sentiment_score[index] = result['score']\n",
    "# news_df['Sentiment'] = sentiment\n",
    "# news_df['Score'] = sentiment_score\n",
    "\n",
    "\n",
    "# sentiment = [None] * len(news_df)\n",
    "# sentiment_score = [None] * len(news_df)\n",
    "# index = -1\n",
    "# for sentence in news_df['content']:\n",
    "#     index+=1\n",
    "#     result = sentiment_pipeline(sentence[:512])[0]\n",
    "#     sentiment[index] = result['label']\n",
    "#     sentiment_score[index] = result['score']\n",
    "# news_df['Sentiment2'] = sentiment\n",
    "# news_df['Score2'] = sentiment_score"
   ]
  },
  {
   "cell_type": "code",
   "execution_count": 10,
   "metadata": {},
   "outputs": [],
   "source": [
    "# news_df[news_df['Score'] > 0.8]"
   ]
  },
  {
   "attachments": {},
   "cell_type": "markdown",
   "metadata": {},
   "source": [
    "### Sentiment of Headline"
   ]
  },
  {
   "cell_type": "code",
   "execution_count": 11,
   "metadata": {},
   "outputs": [],
   "source": [
    "# sns.histplot(x = 'Sentiment', data = news_df[news_df['Score'] > 0.8], hue = 'Sentiment', hue_order=['POSITIVE', 'NEGATIVE']).set_title(\"Sentiment of Headline\")"
   ]
  },
  {
   "attachments": {},
   "cell_type": "markdown",
   "metadata": {},
   "source": [
    "### Sentiment of Content"
   ]
  },
  {
   "cell_type": "code",
   "execution_count": 12,
   "metadata": {},
   "outputs": [],
   "source": [
    "# sns.histplot(x = 'Sentiment2', data = news_df[news_df['Score2'] > 0.8], hue = 'Sentiment2', hue_order=['POSITIVE', 'NEGATIVE']).set_title(\"Sentiment of Content\")"
   ]
  },
  {
   "cell_type": "code",
   "execution_count": 13,
   "metadata": {},
   "outputs": [],
   "source": [
    "import sys\n",
    "sys.path.insert(1, 'C:/Users/Woon/Desktop/Columbia/Applied Analytics/Term3/Sentiment_SNP')\n",
    "\n",
    "import helper_functions\n",
    "from helper_functions import *"
   ]
  },
  {
   "cell_type": "code",
   "execution_count": 14,
   "metadata": {},
   "outputs": [
    {
     "data": {
      "text/html": [
       "        <script type=\"text/javascript\">\n",
       "        window.PlotlyConfig = {MathJaxConfig: 'local'};\n",
       "        if (window.MathJax && window.MathJax.Hub && window.MathJax.Hub.Config) {window.MathJax.Hub.Config({SVG: {font: \"STIX-Web\"}});}\n",
       "        if (typeof require !== 'undefined') {\n",
       "        require.undef(\"plotly\");\n",
       "        requirejs.config({\n",
       "            paths: {\n",
       "                'plotly': ['https://cdn.plot.ly/plotly-2.14.0.min']\n",
       "            }\n",
       "        });\n",
       "        require(['plotly'], function(Plotly) {\n",
       "            window._Plotly = Plotly;\n",
       "        });\n",
       "        }\n",
       "        </script>\n",
       "        "
      ]
     },
     "metadata": {},
     "output_type": "display_data"
    }
   ],
   "source": [
    "from collections import defaultdict\n",
    "from plotly import tools\n",
    "import plotly.offline as py\n",
    "py.init_notebook_mode(connected=True)\n"
   ]
  },
  {
   "attachments": {},
   "cell_type": "markdown",
   "metadata": {},
   "source": [
    "## Each Articles - From Finviz"
   ]
  },
  {
   "cell_type": "code",
   "execution_count": 15,
   "metadata": {},
   "outputs": [],
   "source": [
    "from urllib.request import Request, urlopen\n",
    "from urllib.error import HTTPError\n",
    "import socket\n",
    "import urllib"
   ]
  },
  {
   "cell_type": "code",
   "execution_count": 16,
   "metadata": {},
   "outputs": [
    {
     "name": "stdout",
     "output_type": "stream",
     "text": [
      "Report Date =  2022-12-17\n",
      "Report Time = 13:12:56\n"
     ]
    }
   ],
   "source": [
    "from datetime import datetime\n",
    "\n",
    "now = datetime.now()\n",
    "current_time = now.strftime(\"%H:%M:%S\")\n",
    "print(\"Report Date = \", date.today())\n",
    "print(\"Report Time =\", current_time)"
   ]
  },
  {
   "cell_type": "code",
   "execution_count": 17,
   "metadata": {},
   "outputs": [],
   "source": [
    "# Scraping useful information\n",
    "\n",
    "url = \"https://finviz.com/news.ashx\"\n",
    "\n",
    "\n",
    "headers = {\"User-Agent\": \"Mozilla/5.0\"}\n",
    "cookies = {\"CONSENT\": \"YES+cb.20210720-07-p0.en+FX+410\"}\n",
    "\n",
    "req = Request(url, headers=headers)\n",
    "\n",
    "try:\n",
    "    contents = urlopen(req).read() \n",
    "    soup = BeautifulSoup(contents, features=\"html.parser\")\n",
    "\n",
    "    link2 = []\n",
    "    headline2 = []\n",
    "    date2 = []\n",
    "\n",
    "    for row in soup.find_all('tr', class_ = 'nn'):\n",
    "        headline = row.find('a', class_ = 'nn-tab-link')\n",
    "       \n",
    "        if headline == None:\n",
    "            continue\n",
    "\n",
    "        headline2.append(headline.text)\n",
    "        link = row.find('a', class_ = 'nn-tab-link')\n",
    "        link2.append(link['href'])\n",
    "        date = row.find('td', class_ = 'nn-date')\n",
    "        date2.append(date)\n",
    "\n",
    "except urllib.error.HTTPError as err:\n",
    "    print(err.code)\n",
    "\n",
    "except socket.timeout as se:\n",
    "    print(\"socket timeout\")"
   ]
  },
  {
   "cell_type": "code",
   "execution_count": 18,
   "metadata": {},
   "outputs": [],
   "source": [
    "#Turning the data into a dataframe\n",
    "df = pd.DataFrame(date2)"
   ]
  },
  {
   "cell_type": "code",
   "execution_count": 19,
   "metadata": {},
   "outputs": [],
   "source": [
    "df['Date'] = df[0]\n",
    "df['Headline'] = headline2\n",
    "df = pd.DataFrame(list(zip(df['Date'], df['Headline'])), columns=['Date', 'Headline'])\n",
    "df['Links'] = link2"
   ]
  },
  {
   "cell_type": "code",
   "execution_count": 20,
   "metadata": {},
   "outputs": [],
   "source": [
    "# # Filtering only links starting with https\n",
    "# df['Links_True'] = list(\n",
    "#     map(lambda x: x.startswith('http'), df['Links']))\n",
    "\n",
    "# df = df[df['Links_True'] == True].reset_index(drop=True)"
   ]
  },
  {
   "cell_type": "code",
   "execution_count": 21,
   "metadata": {},
   "outputs": [],
   "source": [
    "# Creating word count of headline (no longer needed)\n",
    "i = []\n",
    "for string in df['Headline']:\n",
    "    i.append(count_words(string))\n",
    "df['word_count'] = i"
   ]
  },
  {
   "cell_type": "code",
   "execution_count": 22,
   "metadata": {},
   "outputs": [],
   "source": [
    "from transformers import pipeline"
   ]
  },
  {
   "cell_type": "code",
   "execution_count": 23,
   "metadata": {},
   "outputs": [],
   "source": [
    "sentiment_pipeline = pipeline(\"sentiment-analysis\", model=\"distilbert-base-uncased-finetuned-sst-2-english\")"
   ]
  },
  {
   "cell_type": "code",
   "execution_count": 24,
   "metadata": {},
   "outputs": [],
   "source": [
    "# Sentiment analysis of headline\n",
    "df['Sentiment_Head'] = -2\n",
    "\n",
    "sentiment = [None] * len(df)\n",
    "sentiment_score = [None] * len(df)\n",
    "index = -1\n",
    "for sentence in df['Headline']:\n",
    "    index+=1\n",
    "    result = sentiment_pipeline(sentence[:512])[0]\n",
    "    sentiment[index] = result['label']\n",
    "    sentiment_score[index] = result['score']\n",
    "df['Sentiment_Head'] = sentiment\n",
    "df['Score_Head'] = sentiment_score"
   ]
  },
  {
   "cell_type": "code",
   "execution_count": 25,
   "metadata": {},
   "outputs": [],
   "source": [
    "# Collect entire articles\n",
    "\n",
    "headers = {\"User-Agent\": \"Mozilla/5.0\"}\n",
    "cookies = {\"CONSENT\": \"YES+cb.20210720-07-p0.en+FX+410\"}\n",
    "\n",
    "article = []\n",
    "\n",
    "for url in df['Links']:\n",
    "    req = Request(url, headers=headers)\n",
    "\n",
    "    try:\n",
    "        contents = urlopen(req).read() \n",
    "        soup = BeautifulSoup(contents, features=\"html.parser\")\n",
    "\n",
    "        p = soup.find_all('p')\n",
    "        paragraphs = []\n",
    "        for x in p:\n",
    "            paragraphs.append(str(x))\n",
    "\n",
    "        paragraphs = ''.join(paragraphs)\n",
    "\n",
    "        article.append(paragraphs) \n",
    "\n",
    "    except urllib.error.HTTPError as err:\n",
    "        print(err.code)\n",
    "\n",
    "    except socket.timeout as se:\n",
    "        print(\"socket timeout\")\n",
    "\n",
    "df['article'] = article\n"
   ]
  },
  {
   "cell_type": "code",
   "execution_count": 26,
   "metadata": {},
   "outputs": [],
   "source": [
    "df = df[df['Score_Head'] > 0.9]"
   ]
  },
  {
   "cell_type": "code",
   "execution_count": 27,
   "metadata": {},
   "outputs": [
    {
     "name": "stderr",
     "output_type": "stream",
     "text": [
      "Your max_length is set to 512, but you input_length is only 127. You might consider decreasing max_length manually, e.g. summarizer('...', max_length=63)\n",
      "Your max_length is set to 512, but you input_length is only 191. You might consider decreasing max_length manually, e.g. summarizer('...', max_length=95)\n",
      "Your max_length is set to 512, but you input_length is only 186. You might consider decreasing max_length manually, e.g. summarizer('...', max_length=93)\n",
      "Your max_length is set to 512, but you input_length is only 160. You might consider decreasing max_length manually, e.g. summarizer('...', max_length=80)\n",
      "Your max_length is set to 512, but you input_length is only 198. You might consider decreasing max_length manually, e.g. summarizer('...', max_length=99)\n",
      "Your max_length is set to 512, but you input_length is only 251. You might consider decreasing max_length manually, e.g. summarizer('...', max_length=125)\n",
      "Your max_length is set to 512, but you input_length is only 160. You might consider decreasing max_length manually, e.g. summarizer('...', max_length=80)\n",
      "Your max_length is set to 512, but you input_length is only 186. You might consider decreasing max_length manually, e.g. summarizer('...', max_length=93)\n",
      "Your max_length is set to 512, but you input_length is only 188. You might consider decreasing max_length manually, e.g. summarizer('...', max_length=94)\n",
      "Your max_length is set to 512, but you input_length is only 320. You might consider decreasing max_length manually, e.g. summarizer('...', max_length=160)\n",
      "Your max_length is set to 512, but you input_length is only 186. You might consider decreasing max_length manually, e.g. summarizer('...', max_length=93)\n",
      "Your max_length is set to 512, but you input_length is only 224. You might consider decreasing max_length manually, e.g. summarizer('...', max_length=112)\n",
      "Your max_length is set to 512, but you input_length is only 160. You might consider decreasing max_length manually, e.g. summarizer('...', max_length=80)\n",
      "Your max_length is set to 512, but you input_length is only 162. You might consider decreasing max_length manually, e.g. summarizer('...', max_length=81)\n",
      "Your max_length is set to 512, but you input_length is only 160. You might consider decreasing max_length manually, e.g. summarizer('...', max_length=80)\n",
      "Your max_length is set to 512, but you input_length is only 160. You might consider decreasing max_length manually, e.g. summarizer('...', max_length=80)\n",
      "Your max_length is set to 512, but you input_length is only 192. You might consider decreasing max_length manually, e.g. summarizer('...', max_length=96)\n",
      "Your max_length is set to 512, but you input_length is only 214. You might consider decreasing max_length manually, e.g. summarizer('...', max_length=107)\n",
      "Your max_length is set to 512, but you input_length is only 246. You might consider decreasing max_length manually, e.g. summarizer('...', max_length=123)\n",
      "Your max_length is set to 512, but you input_length is only 213. You might consider decreasing max_length manually, e.g. summarizer('...', max_length=106)\n",
      "Your max_length is set to 512, but you input_length is only 1. You might consider decreasing max_length manually, e.g. summarizer('...', max_length=0)\n",
      "Your max_length is set to 512, but you input_length is only 169. You might consider decreasing max_length manually, e.g. summarizer('...', max_length=84)\n",
      "Your max_length is set to 512, but you input_length is only 220. You might consider decreasing max_length manually, e.g. summarizer('...', max_length=110)\n",
      "Your max_length is set to 512, but you input_length is only 234. You might consider decreasing max_length manually, e.g. summarizer('...', max_length=117)\n",
      "Your max_length is set to 512, but you input_length is only 238. You might consider decreasing max_length manually, e.g. summarizer('...', max_length=119)\n",
      "Your max_length is set to 512, but you input_length is only 234. You might consider decreasing max_length manually, e.g. summarizer('...', max_length=117)\n",
      "Your max_length is set to 512, but you input_length is only 160. You might consider decreasing max_length manually, e.g. summarizer('...', max_length=80)\n",
      "Your max_length is set to 512, but you input_length is only 186. You might consider decreasing max_length manually, e.g. summarizer('...', max_length=93)\n",
      "Your max_length is set to 512, but you input_length is only 253. You might consider decreasing max_length manually, e.g. summarizer('...', max_length=126)\n",
      "Your max_length is set to 512, but you input_length is only 186. You might consider decreasing max_length manually, e.g. summarizer('...', max_length=93)\n",
      "Your max_length is set to 512, but you input_length is only 192. You might consider decreasing max_length manually, e.g. summarizer('...', max_length=96)\n",
      "Your max_length is set to 512, but you input_length is only 160. You might consider decreasing max_length manually, e.g. summarizer('...', max_length=80)\n",
      "Your max_length is set to 512, but you input_length is only 160. You might consider decreasing max_length manually, e.g. summarizer('...', max_length=80)\n",
      "Your max_length is set to 512, but you input_length is only 200. You might consider decreasing max_length manually, e.g. summarizer('...', max_length=100)\n",
      "Your max_length is set to 512, but you input_length is only 253. You might consider decreasing max_length manually, e.g. summarizer('...', max_length=126)\n",
      "Your max_length is set to 512, but you input_length is only 160. You might consider decreasing max_length manually, e.g. summarizer('...', max_length=80)\n",
      "Your max_length is set to 512, but you input_length is only 185. You might consider decreasing max_length manually, e.g. summarizer('...', max_length=92)\n",
      "Your max_length is set to 512, but you input_length is only 160. You might consider decreasing max_length manually, e.g. summarizer('...', max_length=80)\n",
      "Your max_length is set to 512, but you input_length is only 186. You might consider decreasing max_length manually, e.g. summarizer('...', max_length=93)\n",
      "Your max_length is set to 512, but you input_length is only 171. You might consider decreasing max_length manually, e.g. summarizer('...', max_length=85)\n",
      "Your max_length is set to 512, but you input_length is only 186. You might consider decreasing max_length manually, e.g. summarizer('...', max_length=93)\n",
      "Your max_length is set to 512, but you input_length is only 186. You might consider decreasing max_length manually, e.g. summarizer('...', max_length=93)\n",
      "Your max_length is set to 512, but you input_length is only 186. You might consider decreasing max_length manually, e.g. summarizer('...', max_length=93)\n",
      "Your max_length is set to 512, but you input_length is only 160. You might consider decreasing max_length manually, e.g. summarizer('...', max_length=80)\n",
      "Your max_length is set to 512, but you input_length is only 186. You might consider decreasing max_length manually, e.g. summarizer('...', max_length=93)\n",
      "Your max_length is set to 512, but you input_length is only 187. You might consider decreasing max_length manually, e.g. summarizer('...', max_length=93)\n",
      "Your max_length is set to 512, but you input_length is only 190. You might consider decreasing max_length manually, e.g. summarizer('...', max_length=95)\n",
      "Your max_length is set to 512, but you input_length is only 181. You might consider decreasing max_length manually, e.g. summarizer('...', max_length=90)\n",
      "Your max_length is set to 512, but you input_length is only 159. You might consider decreasing max_length manually, e.g. summarizer('...', max_length=79)\n",
      "Your max_length is set to 512, but you input_length is only 208. You might consider decreasing max_length manually, e.g. summarizer('...', max_length=104)\n",
      "Your max_length is set to 512, but you input_length is only 1. You might consider decreasing max_length manually, e.g. summarizer('...', max_length=0)\n",
      "Your max_length is set to 512, but you input_length is only 186. You might consider decreasing max_length manually, e.g. summarizer('...', max_length=93)\n",
      "Your max_length is set to 512, but you input_length is only 194. You might consider decreasing max_length manually, e.g. summarizer('...', max_length=97)\n",
      "Your max_length is set to 512, but you input_length is only 211. You might consider decreasing max_length manually, e.g. summarizer('...', max_length=105)\n",
      "Your max_length is set to 512, but you input_length is only 160. You might consider decreasing max_length manually, e.g. summarizer('...', max_length=80)\n",
      "Your max_length is set to 512, but you input_length is only 185. You might consider decreasing max_length manually, e.g. summarizer('...', max_length=92)\n",
      "Your max_length is set to 512, but you input_length is only 218. You might consider decreasing max_length manually, e.g. summarizer('...', max_length=109)\n",
      "Your max_length is set to 512, but you input_length is only 168. You might consider decreasing max_length manually, e.g. summarizer('...', max_length=84)\n",
      "Your max_length is set to 512, but you input_length is only 197. You might consider decreasing max_length manually, e.g. summarizer('...', max_length=98)\n",
      "Your max_length is set to 512, but you input_length is only 193. You might consider decreasing max_length manually, e.g. summarizer('...', max_length=96)\n",
      "Your max_length is set to 512, but you input_length is only 204. You might consider decreasing max_length manually, e.g. summarizer('...', max_length=102)\n",
      "Your max_length is set to 512, but you input_length is only 160. You might consider decreasing max_length manually, e.g. summarizer('...', max_length=80)\n",
      "Your max_length is set to 512, but you input_length is only 186. You might consider decreasing max_length manually, e.g. summarizer('...', max_length=93)\n",
      "Your max_length is set to 512, but you input_length is only 184. You might consider decreasing max_length manually, e.g. summarizer('...', max_length=92)\n",
      "Your max_length is set to 512, but you input_length is only 160. You might consider decreasing max_length manually, e.g. summarizer('...', max_length=80)\n",
      "Your max_length is set to 512, but you input_length is only 160. You might consider decreasing max_length manually, e.g. summarizer('...', max_length=80)\n",
      "Your max_length is set to 512, but you input_length is only 160. You might consider decreasing max_length manually, e.g. summarizer('...', max_length=80)\n",
      "Your max_length is set to 512, but you input_length is only 160. You might consider decreasing max_length manually, e.g. summarizer('...', max_length=80)\n",
      "Your max_length is set to 512, but you input_length is only 160. You might consider decreasing max_length manually, e.g. summarizer('...', max_length=80)\n",
      "Your max_length is set to 512, but you input_length is only 180. You might consider decreasing max_length manually, e.g. summarizer('...', max_length=90)\n",
      "Your max_length is set to 512, but you input_length is only 184. You might consider decreasing max_length manually, e.g. summarizer('...', max_length=92)\n",
      "Your max_length is set to 512, but you input_length is only 186. You might consider decreasing max_length manually, e.g. summarizer('...', max_length=93)\n",
      "Your max_length is set to 512, but you input_length is only 188. You might consider decreasing max_length manually, e.g. summarizer('...', max_length=94)\n",
      "Your max_length is set to 512, but you input_length is only 236. You might consider decreasing max_length manually, e.g. summarizer('...', max_length=118)\n",
      "Your max_length is set to 512, but you input_length is only 186. You might consider decreasing max_length manually, e.g. summarizer('...', max_length=93)\n",
      "Your max_length is set to 512, but you input_length is only 160. You might consider decreasing max_length manually, e.g. summarizer('...', max_length=80)\n",
      "Your max_length is set to 512, but you input_length is only 157. You might consider decreasing max_length manually, e.g. summarizer('...', max_length=78)\n",
      "Your max_length is set to 512, but you input_length is only 197. You might consider decreasing max_length manually, e.g. summarizer('...', max_length=98)\n",
      "Your max_length is set to 512, but you input_length is only 173. You might consider decreasing max_length manually, e.g. summarizer('...', max_length=86)\n",
      "Your max_length is set to 512, but you input_length is only 173. You might consider decreasing max_length manually, e.g. summarizer('...', max_length=86)\n",
      "Your max_length is set to 512, but you input_length is only 242. You might consider decreasing max_length manually, e.g. summarizer('...', max_length=121)\n",
      "Your max_length is set to 512, but you input_length is only 178. You might consider decreasing max_length manually, e.g. summarizer('...', max_length=89)\n",
      "Your max_length is set to 512, but you input_length is only 176. You might consider decreasing max_length manually, e.g. summarizer('...', max_length=88)\n",
      "Your max_length is set to 512, but you input_length is only 135. You might consider decreasing max_length manually, e.g. summarizer('...', max_length=67)\n",
      "Your max_length is set to 512, but you input_length is only 184. You might consider decreasing max_length manually, e.g. summarizer('...', max_length=92)\n",
      "Your max_length is set to 512, but you input_length is only 230. You might consider decreasing max_length manually, e.g. summarizer('...', max_length=115)\n",
      "Your max_length is set to 512, but you input_length is only 212. You might consider decreasing max_length manually, e.g. summarizer('...', max_length=106)\n",
      "Your max_length is set to 512, but you input_length is only 121. You might consider decreasing max_length manually, e.g. summarizer('...', max_length=60)\n",
      "Your max_length is set to 512, but you input_length is only 239. You might consider decreasing max_length manually, e.g. summarizer('...', max_length=119)\n",
      "Your max_length is set to 512, but you input_length is only 235. You might consider decreasing max_length manually, e.g. summarizer('...', max_length=117)\n",
      "Your max_length is set to 512, but you input_length is only 246. You might consider decreasing max_length manually, e.g. summarizer('...', max_length=123)\n",
      "Your max_length is set to 512, but you input_length is only 199. You might consider decreasing max_length manually, e.g. summarizer('...', max_length=99)\n",
      "Your max_length is set to 512, but you input_length is only 245. You might consider decreasing max_length manually, e.g. summarizer('...', max_length=122)\n",
      "Your max_length is set to 512, but you input_length is only 236. You might consider decreasing max_length manually, e.g. summarizer('...', max_length=118)\n",
      "Your max_length is set to 512, but you input_length is only 216. You might consider decreasing max_length manually, e.g. summarizer('...', max_length=108)\n",
      "Your max_length is set to 512, but you input_length is only 206. You might consider decreasing max_length manually, e.g. summarizer('...', max_length=103)\n",
      "Your max_length is set to 512, but you input_length is only 243. You might consider decreasing max_length manually, e.g. summarizer('...', max_length=121)\n",
      "Your max_length is set to 512, but you input_length is only 236. You might consider decreasing max_length manually, e.g. summarizer('...', max_length=118)\n",
      "Your max_length is set to 512, but you input_length is only 238. You might consider decreasing max_length manually, e.g. summarizer('...', max_length=119)\n",
      "Your max_length is set to 512, but you input_length is only 229. You might consider decreasing max_length manually, e.g. summarizer('...', max_length=114)\n",
      "Your max_length is set to 512, but you input_length is only 200. You might consider decreasing max_length manually, e.g. summarizer('...', max_length=100)\n",
      "Your max_length is set to 512, but you input_length is only 233. You might consider decreasing max_length manually, e.g. summarizer('...', max_length=116)\n",
      "Your max_length is set to 512, but you input_length is only 163. You might consider decreasing max_length manually, e.g. summarizer('...', max_length=81)\n",
      "Your max_length is set to 512, but you input_length is only 162. You might consider decreasing max_length manually, e.g. summarizer('...', max_length=81)\n",
      "Your max_length is set to 512, but you input_length is only 186. You might consider decreasing max_length manually, e.g. summarizer('...', max_length=93)\n",
      "Your max_length is set to 512, but you input_length is only 156. You might consider decreasing max_length manually, e.g. summarizer('...', max_length=78)\n",
      "Your max_length is set to 512, but you input_length is only 176. You might consider decreasing max_length manually, e.g. summarizer('...', max_length=88)\n",
      "Your max_length is set to 512, but you input_length is only 246. You might consider decreasing max_length manually, e.g. summarizer('...', max_length=123)\n",
      "Your max_length is set to 512, but you input_length is only 189. You might consider decreasing max_length manually, e.g. summarizer('...', max_length=94)\n",
      "Your max_length is set to 512, but you input_length is only 247. You might consider decreasing max_length manually, e.g. summarizer('...', max_length=123)\n",
      "Your max_length is set to 512, but you input_length is only 212. You might consider decreasing max_length manually, e.g. summarizer('...', max_length=106)\n",
      "Your max_length is set to 512, but you input_length is only 232. You might consider decreasing max_length manually, e.g. summarizer('...', max_length=116)\n",
      "Your max_length is set to 512, but you input_length is only 188. You might consider decreasing max_length manually, e.g. summarizer('...', max_length=94)\n",
      "Your max_length is set to 512, but you input_length is only 180. You might consider decreasing max_length manually, e.g. summarizer('...', max_length=90)\n",
      "Your max_length is set to 512, but you input_length is only 233. You might consider decreasing max_length manually, e.g. summarizer('...', max_length=116)\n",
      "Your max_length is set to 512, but you input_length is only 233. You might consider decreasing max_length manually, e.g. summarizer('...', max_length=116)\n",
      "Your max_length is set to 512, but you input_length is only 246. You might consider decreasing max_length manually, e.g. summarizer('...', max_length=123)\n",
      "Your max_length is set to 512, but you input_length is only 176. You might consider decreasing max_length manually, e.g. summarizer('...', max_length=88)\n",
      "Your max_length is set to 512, but you input_length is only 192. You might consider decreasing max_length manually, e.g. summarizer('...', max_length=96)\n",
      "Your max_length is set to 512, but you input_length is only 195. You might consider decreasing max_length manually, e.g. summarizer('...', max_length=97)\n",
      "Your max_length is set to 512, but you input_length is only 173. You might consider decreasing max_length manually, e.g. summarizer('...', max_length=86)\n",
      "Your max_length is set to 512, but you input_length is only 246. You might consider decreasing max_length manually, e.g. summarizer('...', max_length=123)\n",
      "Your max_length is set to 512, but you input_length is only 209. You might consider decreasing max_length manually, e.g. summarizer('...', max_length=104)\n",
      "Your max_length is set to 512, but you input_length is only 214. You might consider decreasing max_length manually, e.g. summarizer('...', max_length=107)\n",
      "Your max_length is set to 512, but you input_length is only 226. You might consider decreasing max_length manually, e.g. summarizer('...', max_length=113)\n",
      "Your max_length is set to 512, but you input_length is only 189. You might consider decreasing max_length manually, e.g. summarizer('...', max_length=94)\n",
      "Your max_length is set to 512, but you input_length is only 190. You might consider decreasing max_length manually, e.g. summarizer('...', max_length=95)\n",
      "Your max_length is set to 512, but you input_length is only 246. You might consider decreasing max_length manually, e.g. summarizer('...', max_length=123)\n",
      "Your max_length is set to 512, but you input_length is only 155. You might consider decreasing max_length manually, e.g. summarizer('...', max_length=77)\n",
      "Your max_length is set to 512, but you input_length is only 180. You might consider decreasing max_length manually, e.g. summarizer('...', max_length=90)\n",
      "Your max_length is set to 512, but you input_length is only 246. You might consider decreasing max_length manually, e.g. summarizer('...', max_length=123)\n",
      "Your max_length is set to 512, but you input_length is only 164. You might consider decreasing max_length manually, e.g. summarizer('...', max_length=82)\n",
      "Your max_length is set to 512, but you input_length is only 246. You might consider decreasing max_length manually, e.g. summarizer('...', max_length=123)\n",
      "Your max_length is set to 512, but you input_length is only 172. You might consider decreasing max_length manually, e.g. summarizer('...', max_length=86)\n",
      "Your max_length is set to 512, but you input_length is only 175. You might consider decreasing max_length manually, e.g. summarizer('...', max_length=87)\n",
      "Your max_length is set to 512, but you input_length is only 247. You might consider decreasing max_length manually, e.g. summarizer('...', max_length=123)\n",
      "Your max_length is set to 512, but you input_length is only 180. You might consider decreasing max_length manually, e.g. summarizer('...', max_length=90)\n",
      "Your max_length is set to 512, but you input_length is only 148. You might consider decreasing max_length manually, e.g. summarizer('...', max_length=74)\n",
      "Your max_length is set to 512, but you input_length is only 47. You might consider decreasing max_length manually, e.g. summarizer('...', max_length=23)\n",
      "Your max_length is set to 512, but you input_length is only 189. You might consider decreasing max_length manually, e.g. summarizer('...', max_length=94)\n",
      "Your max_length is set to 512, but you input_length is only 247. You might consider decreasing max_length manually, e.g. summarizer('...', max_length=123)\n",
      "Your max_length is set to 512, but you input_length is only 155. You might consider decreasing max_length manually, e.g. summarizer('...', max_length=77)\n",
      "Your max_length is set to 512, but you input_length is only 248. You might consider decreasing max_length manually, e.g. summarizer('...', max_length=124)\n",
      "Your max_length is set to 512, but you input_length is only 148. You might consider decreasing max_length manually, e.g. summarizer('...', max_length=74)\n",
      "Your max_length is set to 512, but you input_length is only 209. You might consider decreasing max_length manually, e.g. summarizer('...', max_length=104)\n",
      "Your max_length is set to 512, but you input_length is only 193. You might consider decreasing max_length manually, e.g. summarizer('...', max_length=96)\n",
      "Your max_length is set to 512, but you input_length is only 129. You might consider decreasing max_length manually, e.g. summarizer('...', max_length=64)\n",
      "Your max_length is set to 512, but you input_length is only 146. You might consider decreasing max_length manually, e.g. summarizer('...', max_length=73)\n",
      "Your max_length is set to 512, but you input_length is only 138. You might consider decreasing max_length manually, e.g. summarizer('...', max_length=69)\n",
      "Your max_length is set to 512, but you input_length is only 170. You might consider decreasing max_length manually, e.g. summarizer('...', max_length=85)\n",
      "Your max_length is set to 512, but you input_length is only 47. You might consider decreasing max_length manually, e.g. summarizer('...', max_length=23)\n",
      "Your max_length is set to 512, but you input_length is only 203. You might consider decreasing max_length manually, e.g. summarizer('...', max_length=101)\n",
      "Your max_length is set to 512, but you input_length is only 305. You might consider decreasing max_length manually, e.g. summarizer('...', max_length=152)\n",
      "Your max_length is set to 512, but you input_length is only 298. You might consider decreasing max_length manually, e.g. summarizer('...', max_length=149)\n",
      "Your max_length is set to 512, but you input_length is only 55. You might consider decreasing max_length manually, e.g. summarizer('...', max_length=27)\n"
     ]
    }
   ],
   "source": [
    "# Summary of Articles\n",
    "summary_pipeline = pipeline(\"summarization\", model=\"pszemraj/long-t5-tglobal-base-16384-book-summary\")\n",
    "\n",
    "summary = [None] * len(df)\n",
    "index = -1\n",
    "for articles in df['article']:\n",
    "    index+=1\n",
    "    result = summary_pipeline(articles[:512])[0]\n",
    "    summary[index] = result\n",
    "df['summary'] = summary"
   ]
  },
  {
   "cell_type": "code",
   "execution_count": 28,
   "metadata": {},
   "outputs": [],
   "source": [
    "# Sentiment analysis of Article Summary\n",
    "df['Sentiment_Article'] = -2\n",
    "\n",
    "sentiment = [None] * len(df)\n",
    "sentiment_score = [None] * len(df)\n",
    "index = -1\n",
    "for sentence in df['Headline']:\n",
    "    index+=1\n",
    "    result = sentiment_pipeline(sentence[:512])[0]\n",
    "    sentiment[index] = result['label']\n",
    "    sentiment_score[index] = result['score']\n",
    "df['Sentiment_Article'] = sentiment\n",
    "df['Score_Article'] = sentiment_score"
   ]
  },
  {
   "cell_type": "code",
   "execution_count": 45,
   "metadata": {},
   "outputs": [
    {
     "name": "stderr",
     "output_type": "stream",
     "text": [
      "c:\\Users\\Woon\\AppData\\Local\\Programs\\Python\\Python310\\lib\\site-packages\\plotly\\tools.py:460: DeprecationWarning:\n",
      "\n",
      "plotly.tools.make_subplots is deprecated, please use plotly.subplots.make_subplots instead\n",
      "\n"
     ]
    },
    {
     "data": {
      "application/vnd.plotly.v1+json": {
       "config": {
        "linkText": "Export to plot.ly",
        "plotlyServerURL": "https://plot.ly",
        "showLink": false
       },
       "data": [
        {
         "marker": {
          "color": "green"
         },
         "orientation": "h",
         "showlegend": false,
         "type": "bar",
         "x": [
          2,
          2,
          2,
          2,
          2,
          3,
          3,
          3,
          3,
          4
         ],
         "xaxis": "x",
         "y": [
          "CPI increased",
          "Momentum Monday",
          "Monday ",
          "Psychology Advice",
          "Advice ",
          "Elon Musk",
          "SP 500",
          "In 2023",
          "Trading Psychology",
          "Goldman Sachs"
         ],
         "yaxis": "y"
        }
       ],
       "layout": {
        "annotations": [
         {
          "font": {
           "size": 16
          },
          "showarrow": false,
          "text": "Frequent words",
          "x": 0.5,
          "xanchor": "center",
          "xref": "paper",
          "y": 1,
          "yanchor": "bottom",
          "yref": "paper"
         }
        ],
        "height": 600,
        "paper_bgcolor": "rgb(233,233,233)",
        "template": {
         "data": {
          "bar": [
           {
            "error_x": {
             "color": "#2a3f5f"
            },
            "error_y": {
             "color": "#2a3f5f"
            },
            "marker": {
             "line": {
              "color": "#E5ECF6",
              "width": 0.5
             },
             "pattern": {
              "fillmode": "overlay",
              "size": 10,
              "solidity": 0.2
             }
            },
            "type": "bar"
           }
          ],
          "barpolar": [
           {
            "marker": {
             "line": {
              "color": "#E5ECF6",
              "width": 0.5
             },
             "pattern": {
              "fillmode": "overlay",
              "size": 10,
              "solidity": 0.2
             }
            },
            "type": "barpolar"
           }
          ],
          "carpet": [
           {
            "aaxis": {
             "endlinecolor": "#2a3f5f",
             "gridcolor": "white",
             "linecolor": "white",
             "minorgridcolor": "white",
             "startlinecolor": "#2a3f5f"
            },
            "baxis": {
             "endlinecolor": "#2a3f5f",
             "gridcolor": "white",
             "linecolor": "white",
             "minorgridcolor": "white",
             "startlinecolor": "#2a3f5f"
            },
            "type": "carpet"
           }
          ],
          "choropleth": [
           {
            "colorbar": {
             "outlinewidth": 0,
             "ticks": ""
            },
            "type": "choropleth"
           }
          ],
          "contour": [
           {
            "colorbar": {
             "outlinewidth": 0,
             "ticks": ""
            },
            "colorscale": [
             [
              0,
              "#0d0887"
             ],
             [
              0.1111111111111111,
              "#46039f"
             ],
             [
              0.2222222222222222,
              "#7201a8"
             ],
             [
              0.3333333333333333,
              "#9c179e"
             ],
             [
              0.4444444444444444,
              "#bd3786"
             ],
             [
              0.5555555555555556,
              "#d8576b"
             ],
             [
              0.6666666666666666,
              "#ed7953"
             ],
             [
              0.7777777777777778,
              "#fb9f3a"
             ],
             [
              0.8888888888888888,
              "#fdca26"
             ],
             [
              1,
              "#f0f921"
             ]
            ],
            "type": "contour"
           }
          ],
          "contourcarpet": [
           {
            "colorbar": {
             "outlinewidth": 0,
             "ticks": ""
            },
            "type": "contourcarpet"
           }
          ],
          "heatmap": [
           {
            "colorbar": {
             "outlinewidth": 0,
             "ticks": ""
            },
            "colorscale": [
             [
              0,
              "#0d0887"
             ],
             [
              0.1111111111111111,
              "#46039f"
             ],
             [
              0.2222222222222222,
              "#7201a8"
             ],
             [
              0.3333333333333333,
              "#9c179e"
             ],
             [
              0.4444444444444444,
              "#bd3786"
             ],
             [
              0.5555555555555556,
              "#d8576b"
             ],
             [
              0.6666666666666666,
              "#ed7953"
             ],
             [
              0.7777777777777778,
              "#fb9f3a"
             ],
             [
              0.8888888888888888,
              "#fdca26"
             ],
             [
              1,
              "#f0f921"
             ]
            ],
            "type": "heatmap"
           }
          ],
          "heatmapgl": [
           {
            "colorbar": {
             "outlinewidth": 0,
             "ticks": ""
            },
            "colorscale": [
             [
              0,
              "#0d0887"
             ],
             [
              0.1111111111111111,
              "#46039f"
             ],
             [
              0.2222222222222222,
              "#7201a8"
             ],
             [
              0.3333333333333333,
              "#9c179e"
             ],
             [
              0.4444444444444444,
              "#bd3786"
             ],
             [
              0.5555555555555556,
              "#d8576b"
             ],
             [
              0.6666666666666666,
              "#ed7953"
             ],
             [
              0.7777777777777778,
              "#fb9f3a"
             ],
             [
              0.8888888888888888,
              "#fdca26"
             ],
             [
              1,
              "#f0f921"
             ]
            ],
            "type": "heatmapgl"
           }
          ],
          "histogram": [
           {
            "marker": {
             "pattern": {
              "fillmode": "overlay",
              "size": 10,
              "solidity": 0.2
             }
            },
            "type": "histogram"
           }
          ],
          "histogram2d": [
           {
            "colorbar": {
             "outlinewidth": 0,
             "ticks": ""
            },
            "colorscale": [
             [
              0,
              "#0d0887"
             ],
             [
              0.1111111111111111,
              "#46039f"
             ],
             [
              0.2222222222222222,
              "#7201a8"
             ],
             [
              0.3333333333333333,
              "#9c179e"
             ],
             [
              0.4444444444444444,
              "#bd3786"
             ],
             [
              0.5555555555555556,
              "#d8576b"
             ],
             [
              0.6666666666666666,
              "#ed7953"
             ],
             [
              0.7777777777777778,
              "#fb9f3a"
             ],
             [
              0.8888888888888888,
              "#fdca26"
             ],
             [
              1,
              "#f0f921"
             ]
            ],
            "type": "histogram2d"
           }
          ],
          "histogram2dcontour": [
           {
            "colorbar": {
             "outlinewidth": 0,
             "ticks": ""
            },
            "colorscale": [
             [
              0,
              "#0d0887"
             ],
             [
              0.1111111111111111,
              "#46039f"
             ],
             [
              0.2222222222222222,
              "#7201a8"
             ],
             [
              0.3333333333333333,
              "#9c179e"
             ],
             [
              0.4444444444444444,
              "#bd3786"
             ],
             [
              0.5555555555555556,
              "#d8576b"
             ],
             [
              0.6666666666666666,
              "#ed7953"
             ],
             [
              0.7777777777777778,
              "#fb9f3a"
             ],
             [
              0.8888888888888888,
              "#fdca26"
             ],
             [
              1,
              "#f0f921"
             ]
            ],
            "type": "histogram2dcontour"
           }
          ],
          "mesh3d": [
           {
            "colorbar": {
             "outlinewidth": 0,
             "ticks": ""
            },
            "type": "mesh3d"
           }
          ],
          "parcoords": [
           {
            "line": {
             "colorbar": {
              "outlinewidth": 0,
              "ticks": ""
             }
            },
            "type": "parcoords"
           }
          ],
          "pie": [
           {
            "automargin": true,
            "type": "pie"
           }
          ],
          "scatter": [
           {
            "fillpattern": {
             "fillmode": "overlay",
             "size": 10,
             "solidity": 0.2
            },
            "type": "scatter"
           }
          ],
          "scatter3d": [
           {
            "line": {
             "colorbar": {
              "outlinewidth": 0,
              "ticks": ""
             }
            },
            "marker": {
             "colorbar": {
              "outlinewidth": 0,
              "ticks": ""
             }
            },
            "type": "scatter3d"
           }
          ],
          "scattercarpet": [
           {
            "marker": {
             "colorbar": {
              "outlinewidth": 0,
              "ticks": ""
             }
            },
            "type": "scattercarpet"
           }
          ],
          "scattergeo": [
           {
            "marker": {
             "colorbar": {
              "outlinewidth": 0,
              "ticks": ""
             }
            },
            "type": "scattergeo"
           }
          ],
          "scattergl": [
           {
            "marker": {
             "colorbar": {
              "outlinewidth": 0,
              "ticks": ""
             }
            },
            "type": "scattergl"
           }
          ],
          "scattermapbox": [
           {
            "marker": {
             "colorbar": {
              "outlinewidth": 0,
              "ticks": ""
             }
            },
            "type": "scattermapbox"
           }
          ],
          "scatterpolar": [
           {
            "marker": {
             "colorbar": {
              "outlinewidth": 0,
              "ticks": ""
             }
            },
            "type": "scatterpolar"
           }
          ],
          "scatterpolargl": [
           {
            "marker": {
             "colorbar": {
              "outlinewidth": 0,
              "ticks": ""
             }
            },
            "type": "scatterpolargl"
           }
          ],
          "scatterternary": [
           {
            "marker": {
             "colorbar": {
              "outlinewidth": 0,
              "ticks": ""
             }
            },
            "type": "scatterternary"
           }
          ],
          "surface": [
           {
            "colorbar": {
             "outlinewidth": 0,
             "ticks": ""
            },
            "colorscale": [
             [
              0,
              "#0d0887"
             ],
             [
              0.1111111111111111,
              "#46039f"
             ],
             [
              0.2222222222222222,
              "#7201a8"
             ],
             [
              0.3333333333333333,
              "#9c179e"
             ],
             [
              0.4444444444444444,
              "#bd3786"
             ],
             [
              0.5555555555555556,
              "#d8576b"
             ],
             [
              0.6666666666666666,
              "#ed7953"
             ],
             [
              0.7777777777777778,
              "#fb9f3a"
             ],
             [
              0.8888888888888888,
              "#fdca26"
             ],
             [
              1,
              "#f0f921"
             ]
            ],
            "type": "surface"
           }
          ],
          "table": [
           {
            "cells": {
             "fill": {
              "color": "#EBF0F8"
             },
             "line": {
              "color": "white"
             }
            },
            "header": {
             "fill": {
              "color": "#C8D4E3"
             },
             "line": {
              "color": "white"
             }
            },
            "type": "table"
           }
          ]
         },
         "layout": {
          "annotationdefaults": {
           "arrowcolor": "#2a3f5f",
           "arrowhead": 0,
           "arrowwidth": 1
          },
          "autotypenumbers": "strict",
          "coloraxis": {
           "colorbar": {
            "outlinewidth": 0,
            "ticks": ""
           }
          },
          "colorscale": {
           "diverging": [
            [
             0,
             "#8e0152"
            ],
            [
             0.1,
             "#c51b7d"
            ],
            [
             0.2,
             "#de77ae"
            ],
            [
             0.3,
             "#f1b6da"
            ],
            [
             0.4,
             "#fde0ef"
            ],
            [
             0.5,
             "#f7f7f7"
            ],
            [
             0.6,
             "#e6f5d0"
            ],
            [
             0.7,
             "#b8e186"
            ],
            [
             0.8,
             "#7fbc41"
            ],
            [
             0.9,
             "#4d9221"
            ],
            [
             1,
             "#276419"
            ]
           ],
           "sequential": [
            [
             0,
             "#0d0887"
            ],
            [
             0.1111111111111111,
             "#46039f"
            ],
            [
             0.2222222222222222,
             "#7201a8"
            ],
            [
             0.3333333333333333,
             "#9c179e"
            ],
            [
             0.4444444444444444,
             "#bd3786"
            ],
            [
             0.5555555555555556,
             "#d8576b"
            ],
            [
             0.6666666666666666,
             "#ed7953"
            ],
            [
             0.7777777777777778,
             "#fb9f3a"
            ],
            [
             0.8888888888888888,
             "#fdca26"
            ],
            [
             1,
             "#f0f921"
            ]
           ],
           "sequentialminus": [
            [
             0,
             "#0d0887"
            ],
            [
             0.1111111111111111,
             "#46039f"
            ],
            [
             0.2222222222222222,
             "#7201a8"
            ],
            [
             0.3333333333333333,
             "#9c179e"
            ],
            [
             0.4444444444444444,
             "#bd3786"
            ],
            [
             0.5555555555555556,
             "#d8576b"
            ],
            [
             0.6666666666666666,
             "#ed7953"
            ],
            [
             0.7777777777777778,
             "#fb9f3a"
            ],
            [
             0.8888888888888888,
             "#fdca26"
            ],
            [
             1,
             "#f0f921"
            ]
           ]
          },
          "colorway": [
           "#636efa",
           "#EF553B",
           "#00cc96",
           "#ab63fa",
           "#FFA15A",
           "#19d3f3",
           "#FF6692",
           "#B6E880",
           "#FF97FF",
           "#FECB52"
          ],
          "font": {
           "color": "#2a3f5f"
          },
          "geo": {
           "bgcolor": "white",
           "lakecolor": "white",
           "landcolor": "#E5ECF6",
           "showlakes": true,
           "showland": true,
           "subunitcolor": "white"
          },
          "hoverlabel": {
           "align": "left"
          },
          "hovermode": "closest",
          "mapbox": {
           "style": "light"
          },
          "paper_bgcolor": "white",
          "plot_bgcolor": "#E5ECF6",
          "polar": {
           "angularaxis": {
            "gridcolor": "white",
            "linecolor": "white",
            "ticks": ""
           },
           "bgcolor": "#E5ECF6",
           "radialaxis": {
            "gridcolor": "white",
            "linecolor": "white",
            "ticks": ""
           }
          },
          "scene": {
           "xaxis": {
            "backgroundcolor": "#E5ECF6",
            "gridcolor": "white",
            "gridwidth": 2,
            "linecolor": "white",
            "showbackground": true,
            "ticks": "",
            "zerolinecolor": "white"
           },
           "yaxis": {
            "backgroundcolor": "#E5ECF6",
            "gridcolor": "white",
            "gridwidth": 2,
            "linecolor": "white",
            "showbackground": true,
            "ticks": "",
            "zerolinecolor": "white"
           },
           "zaxis": {
            "backgroundcolor": "#E5ECF6",
            "gridcolor": "white",
            "gridwidth": 2,
            "linecolor": "white",
            "showbackground": true,
            "ticks": "",
            "zerolinecolor": "white"
           }
          },
          "shapedefaults": {
           "line": {
            "color": "#2a3f5f"
           }
          },
          "ternary": {
           "aaxis": {
            "gridcolor": "white",
            "linecolor": "white",
            "ticks": ""
           },
           "baxis": {
            "gridcolor": "white",
            "linecolor": "white",
            "ticks": ""
           },
           "bgcolor": "#E5ECF6",
           "caxis": {
            "gridcolor": "white",
            "linecolor": "white",
            "ticks": ""
           }
          },
          "title": {
           "x": 0.05
          },
          "xaxis": {
           "automargin": true,
           "gridcolor": "white",
           "linecolor": "white",
           "ticks": "",
           "title": {
            "standoff": 15
           },
           "zerolinecolor": "white",
           "zerolinewidth": 2
          },
          "yaxis": {
           "automargin": true,
           "gridcolor": "white",
           "linecolor": "white",
           "ticks": "",
           "title": {
            "standoff": 15
           },
           "zerolinecolor": "white",
           "zerolinewidth": 2
          }
         }
        },
        "title": {
         "text": "Word Count Plots"
        },
        "width": 600,
        "xaxis": {
         "anchor": "y",
         "domain": [
          0,
          1
         ]
        },
        "yaxis": {
         "anchor": "x",
         "domain": [
          0,
          1
         ]
        }
       }
      },
      "text/html": [
       "<div>                            <div id=\"ff23c593-6e65-4acb-a141-bf7636c477ca\" class=\"plotly-graph-div\" style=\"height:600px; width:600px;\"></div>            <script type=\"text/javascript\">                require([\"plotly\"], function(Plotly) {                    window.PLOTLYENV=window.PLOTLYENV || {};                                    if (document.getElementById(\"ff23c593-6e65-4acb-a141-bf7636c477ca\")) {                    Plotly.newPlot(                        \"ff23c593-6e65-4acb-a141-bf7636c477ca\",                        [{\"marker\":{\"color\":\"green\"},\"orientation\":\"h\",\"showlegend\":false,\"x\":[2,2,2,2,2,3,3,3,3,4],\"xaxis\":\"x\",\"y\":[\"CPI increased\",\"Momentum Monday\",\"Monday \",\"Psychology Advice\",\"Advice \",\"Elon Musk\",\"SP 500\",\"In 2023\",\"Trading Psychology\",\"Goldman Sachs\"],\"yaxis\":\"y\",\"type\":\"bar\"}],                        {\"annotations\":[{\"font\":{\"size\":16},\"showarrow\":false,\"text\":\"Frequent words\",\"x\":0.5,\"xanchor\":\"center\",\"xref\":\"paper\",\"y\":1.0,\"yanchor\":\"bottom\",\"yref\":\"paper\"}],\"height\":600,\"paper_bgcolor\":\"rgb(233,233,233)\",\"template\":{\"data\":{\"barpolar\":[{\"marker\":{\"line\":{\"color\":\"#E5ECF6\",\"width\":0.5},\"pattern\":{\"fillmode\":\"overlay\",\"size\":10,\"solidity\":0.2}},\"type\":\"barpolar\"}],\"bar\":[{\"error_x\":{\"color\":\"#2a3f5f\"},\"error_y\":{\"color\":\"#2a3f5f\"},\"marker\":{\"line\":{\"color\":\"#E5ECF6\",\"width\":0.5},\"pattern\":{\"fillmode\":\"overlay\",\"size\":10,\"solidity\":0.2}},\"type\":\"bar\"}],\"carpet\":[{\"aaxis\":{\"endlinecolor\":\"#2a3f5f\",\"gridcolor\":\"white\",\"linecolor\":\"white\",\"minorgridcolor\":\"white\",\"startlinecolor\":\"#2a3f5f\"},\"baxis\":{\"endlinecolor\":\"#2a3f5f\",\"gridcolor\":\"white\",\"linecolor\":\"white\",\"minorgridcolor\":\"white\",\"startlinecolor\":\"#2a3f5f\"},\"type\":\"carpet\"}],\"choropleth\":[{\"colorbar\":{\"outlinewidth\":0,\"ticks\":\"\"},\"type\":\"choropleth\"}],\"contourcarpet\":[{\"colorbar\":{\"outlinewidth\":0,\"ticks\":\"\"},\"type\":\"contourcarpet\"}],\"contour\":[{\"colorbar\":{\"outlinewidth\":0,\"ticks\":\"\"},\"colorscale\":[[0.0,\"#0d0887\"],[0.1111111111111111,\"#46039f\"],[0.2222222222222222,\"#7201a8\"],[0.3333333333333333,\"#9c179e\"],[0.4444444444444444,\"#bd3786\"],[0.5555555555555556,\"#d8576b\"],[0.6666666666666666,\"#ed7953\"],[0.7777777777777778,\"#fb9f3a\"],[0.8888888888888888,\"#fdca26\"],[1.0,\"#f0f921\"]],\"type\":\"contour\"}],\"heatmapgl\":[{\"colorbar\":{\"outlinewidth\":0,\"ticks\":\"\"},\"colorscale\":[[0.0,\"#0d0887\"],[0.1111111111111111,\"#46039f\"],[0.2222222222222222,\"#7201a8\"],[0.3333333333333333,\"#9c179e\"],[0.4444444444444444,\"#bd3786\"],[0.5555555555555556,\"#d8576b\"],[0.6666666666666666,\"#ed7953\"],[0.7777777777777778,\"#fb9f3a\"],[0.8888888888888888,\"#fdca26\"],[1.0,\"#f0f921\"]],\"type\":\"heatmapgl\"}],\"heatmap\":[{\"colorbar\":{\"outlinewidth\":0,\"ticks\":\"\"},\"colorscale\":[[0.0,\"#0d0887\"],[0.1111111111111111,\"#46039f\"],[0.2222222222222222,\"#7201a8\"],[0.3333333333333333,\"#9c179e\"],[0.4444444444444444,\"#bd3786\"],[0.5555555555555556,\"#d8576b\"],[0.6666666666666666,\"#ed7953\"],[0.7777777777777778,\"#fb9f3a\"],[0.8888888888888888,\"#fdca26\"],[1.0,\"#f0f921\"]],\"type\":\"heatmap\"}],\"histogram2dcontour\":[{\"colorbar\":{\"outlinewidth\":0,\"ticks\":\"\"},\"colorscale\":[[0.0,\"#0d0887\"],[0.1111111111111111,\"#46039f\"],[0.2222222222222222,\"#7201a8\"],[0.3333333333333333,\"#9c179e\"],[0.4444444444444444,\"#bd3786\"],[0.5555555555555556,\"#d8576b\"],[0.6666666666666666,\"#ed7953\"],[0.7777777777777778,\"#fb9f3a\"],[0.8888888888888888,\"#fdca26\"],[1.0,\"#f0f921\"]],\"type\":\"histogram2dcontour\"}],\"histogram2d\":[{\"colorbar\":{\"outlinewidth\":0,\"ticks\":\"\"},\"colorscale\":[[0.0,\"#0d0887\"],[0.1111111111111111,\"#46039f\"],[0.2222222222222222,\"#7201a8\"],[0.3333333333333333,\"#9c179e\"],[0.4444444444444444,\"#bd3786\"],[0.5555555555555556,\"#d8576b\"],[0.6666666666666666,\"#ed7953\"],[0.7777777777777778,\"#fb9f3a\"],[0.8888888888888888,\"#fdca26\"],[1.0,\"#f0f921\"]],\"type\":\"histogram2d\"}],\"histogram\":[{\"marker\":{\"pattern\":{\"fillmode\":\"overlay\",\"size\":10,\"solidity\":0.2}},\"type\":\"histogram\"}],\"mesh3d\":[{\"colorbar\":{\"outlinewidth\":0,\"ticks\":\"\"},\"type\":\"mesh3d\"}],\"parcoords\":[{\"line\":{\"colorbar\":{\"outlinewidth\":0,\"ticks\":\"\"}},\"type\":\"parcoords\"}],\"pie\":[{\"automargin\":true,\"type\":\"pie\"}],\"scatter3d\":[{\"line\":{\"colorbar\":{\"outlinewidth\":0,\"ticks\":\"\"}},\"marker\":{\"colorbar\":{\"outlinewidth\":0,\"ticks\":\"\"}},\"type\":\"scatter3d\"}],\"scattercarpet\":[{\"marker\":{\"colorbar\":{\"outlinewidth\":0,\"ticks\":\"\"}},\"type\":\"scattercarpet\"}],\"scattergeo\":[{\"marker\":{\"colorbar\":{\"outlinewidth\":0,\"ticks\":\"\"}},\"type\":\"scattergeo\"}],\"scattergl\":[{\"marker\":{\"colorbar\":{\"outlinewidth\":0,\"ticks\":\"\"}},\"type\":\"scattergl\"}],\"scattermapbox\":[{\"marker\":{\"colorbar\":{\"outlinewidth\":0,\"ticks\":\"\"}},\"type\":\"scattermapbox\"}],\"scatterpolargl\":[{\"marker\":{\"colorbar\":{\"outlinewidth\":0,\"ticks\":\"\"}},\"type\":\"scatterpolargl\"}],\"scatterpolar\":[{\"marker\":{\"colorbar\":{\"outlinewidth\":0,\"ticks\":\"\"}},\"type\":\"scatterpolar\"}],\"scatter\":[{\"fillpattern\":{\"fillmode\":\"overlay\",\"size\":10,\"solidity\":0.2},\"type\":\"scatter\"}],\"scatterternary\":[{\"marker\":{\"colorbar\":{\"outlinewidth\":0,\"ticks\":\"\"}},\"type\":\"scatterternary\"}],\"surface\":[{\"colorbar\":{\"outlinewidth\":0,\"ticks\":\"\"},\"colorscale\":[[0.0,\"#0d0887\"],[0.1111111111111111,\"#46039f\"],[0.2222222222222222,\"#7201a8\"],[0.3333333333333333,\"#9c179e\"],[0.4444444444444444,\"#bd3786\"],[0.5555555555555556,\"#d8576b\"],[0.6666666666666666,\"#ed7953\"],[0.7777777777777778,\"#fb9f3a\"],[0.8888888888888888,\"#fdca26\"],[1.0,\"#f0f921\"]],\"type\":\"surface\"}],\"table\":[{\"cells\":{\"fill\":{\"color\":\"#EBF0F8\"},\"line\":{\"color\":\"white\"}},\"header\":{\"fill\":{\"color\":\"#C8D4E3\"},\"line\":{\"color\":\"white\"}},\"type\":\"table\"}]},\"layout\":{\"annotationdefaults\":{\"arrowcolor\":\"#2a3f5f\",\"arrowhead\":0,\"arrowwidth\":1},\"autotypenumbers\":\"strict\",\"coloraxis\":{\"colorbar\":{\"outlinewidth\":0,\"ticks\":\"\"}},\"colorscale\":{\"diverging\":[[0,\"#8e0152\"],[0.1,\"#c51b7d\"],[0.2,\"#de77ae\"],[0.3,\"#f1b6da\"],[0.4,\"#fde0ef\"],[0.5,\"#f7f7f7\"],[0.6,\"#e6f5d0\"],[0.7,\"#b8e186\"],[0.8,\"#7fbc41\"],[0.9,\"#4d9221\"],[1,\"#276419\"]],\"sequential\":[[0.0,\"#0d0887\"],[0.1111111111111111,\"#46039f\"],[0.2222222222222222,\"#7201a8\"],[0.3333333333333333,\"#9c179e\"],[0.4444444444444444,\"#bd3786\"],[0.5555555555555556,\"#d8576b\"],[0.6666666666666666,\"#ed7953\"],[0.7777777777777778,\"#fb9f3a\"],[0.8888888888888888,\"#fdca26\"],[1.0,\"#f0f921\"]],\"sequentialminus\":[[0.0,\"#0d0887\"],[0.1111111111111111,\"#46039f\"],[0.2222222222222222,\"#7201a8\"],[0.3333333333333333,\"#9c179e\"],[0.4444444444444444,\"#bd3786\"],[0.5555555555555556,\"#d8576b\"],[0.6666666666666666,\"#ed7953\"],[0.7777777777777778,\"#fb9f3a\"],[0.8888888888888888,\"#fdca26\"],[1.0,\"#f0f921\"]]},\"colorway\":[\"#636efa\",\"#EF553B\",\"#00cc96\",\"#ab63fa\",\"#FFA15A\",\"#19d3f3\",\"#FF6692\",\"#B6E880\",\"#FF97FF\",\"#FECB52\"],\"font\":{\"color\":\"#2a3f5f\"},\"geo\":{\"bgcolor\":\"white\",\"lakecolor\":\"white\",\"landcolor\":\"#E5ECF6\",\"showlakes\":true,\"showland\":true,\"subunitcolor\":\"white\"},\"hoverlabel\":{\"align\":\"left\"},\"hovermode\":\"closest\",\"mapbox\":{\"style\":\"light\"},\"paper_bgcolor\":\"white\",\"plot_bgcolor\":\"#E5ECF6\",\"polar\":{\"angularaxis\":{\"gridcolor\":\"white\",\"linecolor\":\"white\",\"ticks\":\"\"},\"bgcolor\":\"#E5ECF6\",\"radialaxis\":{\"gridcolor\":\"white\",\"linecolor\":\"white\",\"ticks\":\"\"}},\"scene\":{\"xaxis\":{\"backgroundcolor\":\"#E5ECF6\",\"gridcolor\":\"white\",\"gridwidth\":2,\"linecolor\":\"white\",\"showbackground\":true,\"ticks\":\"\",\"zerolinecolor\":\"white\"},\"yaxis\":{\"backgroundcolor\":\"#E5ECF6\",\"gridcolor\":\"white\",\"gridwidth\":2,\"linecolor\":\"white\",\"showbackground\":true,\"ticks\":\"\",\"zerolinecolor\":\"white\"},\"zaxis\":{\"backgroundcolor\":\"#E5ECF6\",\"gridcolor\":\"white\",\"gridwidth\":2,\"linecolor\":\"white\",\"showbackground\":true,\"ticks\":\"\",\"zerolinecolor\":\"white\"}},\"shapedefaults\":{\"line\":{\"color\":\"#2a3f5f\"}},\"ternary\":{\"aaxis\":{\"gridcolor\":\"white\",\"linecolor\":\"white\",\"ticks\":\"\"},\"baxis\":{\"gridcolor\":\"white\",\"linecolor\":\"white\",\"ticks\":\"\"},\"bgcolor\":\"#E5ECF6\",\"caxis\":{\"gridcolor\":\"white\",\"linecolor\":\"white\",\"ticks\":\"\"}},\"title\":{\"x\":0.05},\"xaxis\":{\"automargin\":true,\"gridcolor\":\"white\",\"linecolor\":\"white\",\"ticks\":\"\",\"title\":{\"standoff\":15},\"zerolinecolor\":\"white\",\"zerolinewidth\":2},\"yaxis\":{\"automargin\":true,\"gridcolor\":\"white\",\"linecolor\":\"white\",\"ticks\":\"\",\"title\":{\"standoff\":15},\"zerolinecolor\":\"white\",\"zerolinewidth\":2}}},\"title\":{\"text\":\"Word Count Plots\"},\"width\":600,\"xaxis\":{\"anchor\":\"y\",\"domain\":[0.0,1.0]},\"yaxis\":{\"anchor\":\"x\",\"domain\":[0.0,1.0]}},                        {\"responsive\": true}                    ).then(function(){\n",
       "                            \n",
       "var gd = document.getElementById('ff23c593-6e65-4acb-a141-bf7636c477ca');\n",
       "var x = new MutationObserver(function (mutations, observer) {{\n",
       "        var display = window.getComputedStyle(gd).display;\n",
       "        if (!display || display === 'none') {{\n",
       "            console.log([gd, 'removed!']);\n",
       "            Plotly.purge(gd);\n",
       "            observer.disconnect();\n",
       "        }}\n",
       "}});\n",
       "\n",
       "// Listen for the removal of the full notebook cells\n",
       "var notebookContainer = gd.closest('#notebook-container');\n",
       "if (notebookContainer) {{\n",
       "    x.observe(notebookContainer, {childList: true});\n",
       "}}\n",
       "\n",
       "// Listen for the clearing of the current output cell\n",
       "var outputEl = gd.closest('.output');\n",
       "if (outputEl) {{\n",
       "    x.observe(outputEl, {childList: true});\n",
       "}}\n",
       "\n",
       "                        })                };                });            </script>        </div>"
      ]
     },
     "metadata": {},
     "output_type": "display_data"
    }
   ],
   "source": [
    "## Get the bar chart from 5 rated reviews ##\n",
    "freq_dict = defaultdict(int)\n",
    "for sent in df[\"Headline\"]:\n",
    "    for word in generate_ngrams(sent,2):\n",
    "        freq_dict[word] += 1\n",
    "fd_sorted = pd.DataFrame(sorted(freq_dict.items(), key=lambda x: x[1])[::-1])\n",
    "fd_sorted.columns = [\"word\", \"wordcount\"]\n",
    "trace0 = horizontal_bar_chart(fd_sorted.head(10), 'green')\n",
    "\n",
    "# Creating two subplots\n",
    "fig = tools.make_subplots(rows=1, cols=1, vertical_spacing=0.04,\n",
    "                          subplot_titles=[\"Frequent words\"])\n",
    "fig.append_trace(trace0, 1, 1)\n",
    "#fig.append_trace(trace1, 1, 2)\n",
    "fig['layout'].update(height=600, width=600, paper_bgcolor='rgb(233,233,233)', title=\"Word Count Plots\")\n",
    "py.iplot(fig, filename='word-plots');"
   ]
  },
  {
   "cell_type": "code",
   "execution_count": null,
   "metadata": {},
   "outputs": [],
   "source": []
  }
 ],
 "metadata": {
  "kernelspec": {
   "display_name": "Python 3",
   "language": "python",
   "name": "python3"
  },
  "language_info": {
   "codemirror_mode": {
    "name": "ipython",
    "version": 3
   },
   "file_extension": ".py",
   "mimetype": "text/x-python",
   "name": "python",
   "nbconvert_exporter": "python",
   "pygments_lexer": "ipython3",
   "version": "3.10.1"
  },
  "orig_nbformat": 4,
  "vscode": {
   "interpreter": {
    "hash": "998c911629ba937bcf1bf80465453e12e8c5c2c818cb936f93ef7cf495a937a9"
   }
  }
 },
 "nbformat": 4,
 "nbformat_minor": 2
}
