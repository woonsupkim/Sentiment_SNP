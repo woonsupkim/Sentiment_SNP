{
 "cells": [
  {
   "cell_type": "code",
   "execution_count": 158,
   "metadata": {},
   "outputs": [],
   "source": [
    "import time\n",
    "from selenium import webdriver\n",
    "from bs4 import BeautifulSoup\n",
    "from urllib.parse import urljoin\n",
    "import pandas as pd\n",
    "import seaborn as sns\n",
    "from datetime import date\n",
    "\n",
    "import warnings\n",
    "warnings.filterwarnings(\"ignore\")\n",
    "\n",
    "from IPython.core.interactiveshell import InteractiveShell\n",
    "InteractiveShell.ast_node_interactivity = 'all'\n",
    "\n",
    "# Environment settings: \n",
    "pd.set_option('display.max_column', None)\n",
    "pd.set_option('display.max_rows', None)\n",
    "pd.set_option('display.max_seq_items', None)\n",
    "pd.set_option('display.max_colwidth', 500)\n",
    "pd.set_option('expand_frame_repr', True)"
   ]
  },
  {
   "cell_type": "code",
   "execution_count": 159,
   "metadata": {},
   "outputs": [],
   "source": [
    "def get_page(url):\n",
    "    \"\"\"Download a webpage and return a beautiful soup doc\"\"\"\n",
    "    ##### Web scrapper for infinite scrolling page #####\n",
    "    driver = webdriver.Chrome(executable_path=r\"E:\\Chromedriver\\chromedriver_win32_chrome83\\chromedriver.exe\")\n",
    "    driver.get(url)\n",
    "    time.sleep(2)  # Allow 2 seconds for the web page to open\n",
    "    scroll_pause_time = 1 # You can set your own pause time. My laptop is a bit slow so I use 1 sec\n",
    "    screen_height = driver.execute_script(\"return window.screen.height;\")   # get the screen height of the web\n",
    "    i = 1\n",
    "\n",
    "    while True:\n",
    "        # scroll one screen height each time\n",
    "        driver.execute_script(\"window.scrollTo(0, {screen_height}*{i});\".format(screen_height=screen_height, i=i))  \n",
    "        i += 1\n",
    "        time.sleep(scroll_pause_time)\n",
    "        # update scroll height each time after scrolled, as the scroll height can change after we scrolled the page\n",
    "        scroll_height = driver.execute_script(\"return document.body.scrollHeight;\")  \n",
    "        # Break the loop when the height we need to scroll to is larger than the total scroll height\n",
    "        if i == 10:\n",
    "            break \n",
    "\n",
    "    ##### Extract Reddit URLs #####\n",
    "    soup = BeautifulSoup(driver.page_source, \"html.parser\")\n",
    "    return soup"
   ]
  },
  {
   "cell_type": "code",
   "execution_count": 160,
   "metadata": {},
   "outputs": [],
   "source": [
    "def get_news_tags(doc):\n",
    "    \"\"\"Get the list of tags containing news information\"\"\"\n",
    "    news_class = \"Ov(h) Pend(44px) Pstart(25px)\" ## class name of div tag \n",
    "    news_list  = doc.find_all('div', {'class': news_class})\n",
    "    return news_list"
   ]
  },
  {
   "cell_type": "code",
   "execution_count": 161,
   "metadata": {},
   "outputs": [],
   "source": [
    "def parse_news(news_tag):\n",
    "    \"\"\"Get the news data point and return dictionary\"\"\"\n",
    "    news_source = news_tag.find_all('span')[0].text #source\n",
    "    news_time = news_tag.find_all('span')[1].text #link\n",
    "    news_headline = news_tag.find('a').text #heading\n",
    "    news_content = news_tag.find('p').text #content\n",
    "    news_image = news_tag.findParent().find('img')['src'] #thumb image\n",
    "    return { 'source' : news_source,\n",
    "            'time' : news_time,    \n",
    "            'headline' : news_headline,\n",
    "            'content' : news_content,\n",
    "           }"
   ]
  },
  {
   "cell_type": "code",
   "execution_count": 162,
   "metadata": {},
   "outputs": [],
   "source": [
    "def scrape_yahoo_news(url, path=None):\n",
    "    \"\"\"Get the yahoo finance market news and write them to CSV file \"\"\"\n",
    "    if path is None:\n",
    "        path = 'stock-market-news.csv'\n",
    "        \n",
    "    #print('Requesting html page')\n",
    "    doc = get_page(url)\n",
    "\n",
    "    #print('Extracting news tags')\n",
    "    news_list = get_news_tags(doc)\n",
    "\n",
    "    #print('Parsing news tags')\n",
    "    news_data = [parse_news(news_tag) for news_tag in news_list]\n",
    "\n",
    "    #print('Save the data to a CSV')\n",
    "    news_df = pd.DataFrame(news_data)\n",
    "    #news_df.to_csv(path, index=None)\n",
    "    \n",
    "    #This return statement is optional, we are doing this just analyze the final output \n",
    "    return news_df "
   ]
  },
  {
   "cell_type": "code",
   "execution_count": 163,
   "metadata": {},
   "outputs": [],
   "source": [
    "# url = 'https://finance.yahoo.com/topic/stock-market-news/'\n",
    "# doc = get_page(url)\n",
    "# news_list = get_news_tags(doc)\n",
    "# news_list"
   ]
  },
  {
   "cell_type": "markdown",
   "metadata": {},
   "source": [
    "# Entire Stock Market News"
   ]
  },
  {
   "cell_type": "code",
   "execution_count": 164,
   "metadata": {},
   "outputs": [
    {
     "name": "stdout",
     "output_type": "stream",
     "text": [
      "Report Date =  2022-12-08\n",
      "Report Time = 01:43:19\n",
      "Requesting html page\n",
      "Extracting news tags\n",
      "Parsing news tags\n",
      "Save the data to a CSV\n"
     ]
    }
   ],
   "source": [
    "from datetime import datetime\n",
    "\n",
    "now = datetime.now()\n",
    "current_time = now.strftime(\"%H:%M:%S\")\n",
    "print(\"Report Date = \", date.today())\n",
    "print(\"Report Time =\", current_time)\n",
    "YAHOO_NEWS_URL = 'https://finance.yahoo.com/topic/stock-market-news/'\n",
    "news_df = scrape_yahoo_news(YAHOO_NEWS_URL)"
   ]
  },
  {
   "cell_type": "code",
   "execution_count": 165,
   "metadata": {},
   "outputs": [],
   "source": [
    "from transformers import pipeline\n",
    "\n",
    "import warnings\n",
    "warnings.filterwarnings(\"ignore\")\n",
    "\n",
    "from IPython.core.interactiveshell import InteractiveShell\n",
    "InteractiveShell.ast_node_interactivity = 'all'"
   ]
  },
  {
   "cell_type": "code",
   "execution_count": 166,
   "metadata": {},
   "outputs": [],
   "source": [
    "sentiment_pipeline = pipeline(\"sentiment-analysis\", model=\"distilbert-base-uncased-finetuned-sst-2-english\")"
   ]
  },
  {
   "cell_type": "code",
   "execution_count": 167,
   "metadata": {},
   "outputs": [],
   "source": [
    "sentiment = [None] * len(news_df)\n",
    "sentiment_score = [None] * len(news_df)\n",
    "index = -1\n",
    "for sentence in news_df['headline']:\n",
    "    index+=1\n",
    "    result = sentiment_pipeline(sentence[:512])[0]\n",
    "    sentiment[index] = result['label']\n",
    "    sentiment_score[index] = result['score']\n",
    "news_df['Sentiment'] = sentiment\n",
    "news_df['Score'] = sentiment_score\n",
    "\n",
    "\n",
    "sentiment = [None] * len(news_df)\n",
    "sentiment_score = [None] * len(news_df)\n",
    "index = -1\n",
    "for sentence in news_df['content']:\n",
    "    index+=1\n",
    "    result = sentiment_pipeline(sentence[:512])[0]\n",
    "    sentiment[index] = result['label']\n",
    "    sentiment_score[index] = result['score']\n",
    "news_df['Sentiment2'] = sentiment\n",
    "news_df['Score2'] = sentiment_score"
   ]
  },
  {
   "cell_type": "code",
   "execution_count": 168,
   "metadata": {},
   "outputs": [
    {
     "data": {
      "text/html": [
       "<div>\n",
       "<style scoped>\n",
       "    .dataframe tbody tr th:only-of-type {\n",
       "        vertical-align: middle;\n",
       "    }\n",
       "\n",
       "    .dataframe tbody tr th {\n",
       "        vertical-align: top;\n",
       "    }\n",
       "\n",
       "    .dataframe thead th {\n",
       "        text-align: right;\n",
       "    }\n",
       "</style>\n",
       "<table border=\"1\" class=\"dataframe\">\n",
       "  <thead>\n",
       "    <tr style=\"text-align: right;\">\n",
       "      <th></th>\n",
       "      <th>source</th>\n",
       "      <th>time</th>\n",
       "      <th>headline</th>\n",
       "      <th>content</th>\n",
       "      <th>Sentiment</th>\n",
       "      <th>Score</th>\n",
       "      <th>Sentiment2</th>\n",
       "      <th>Score2</th>\n",
       "    </tr>\n",
       "  </thead>\n",
       "  <tbody>\n",
       "    <tr>\n",
       "      <th>0</th>\n",
       "      <td>Reuters</td>\n",
       "      <td>13 minutes ago</td>\n",
       "      <td>Stolen data of 600,000 Indians sold on bot markets so far - study</td>\n",
       "      <td>Around five million people globally have had their data stolen and sold on the bot market till date, of which 600,000 are from India, making it the worst affected country, according to one of the world's largest VPN serice providers NordVPN.  Bot markets are used by hackers to sell stolen data from victims' devices with bot malware.  The study by NordVPN, of Lithuania's Nord Security, said the stolen data included user logins, cookies, digital fingerprints, screenshots and other information,...</td>\n",
       "      <td>NEGATIVE</td>\n",
       "      <td>0.999270</td>\n",
       "      <td>NEGATIVE</td>\n",
       "      <td>0.999625</td>\n",
       "    </tr>\n",
       "    <tr>\n",
       "      <th>1</th>\n",
       "      <td>Barrons.com</td>\n",
       "      <td>13 minutes ago</td>\n",
       "      <td>Wells Fargo Stock Is Primed to Jump Higher. How to Play It.</td>\n",
       "      <td>Wells Fargo’s broad ownership among hedge funds and mutual funds is an intriguing revelation, suggesting that January’s earnings report could act as a spring-loaded event.</td>\n",
       "      <td>POSITIVE</td>\n",
       "      <td>0.995651</td>\n",
       "      <td>POSITIVE</td>\n",
       "      <td>0.998907</td>\n",
       "    </tr>\n",
       "    <tr>\n",
       "      <th>2</th>\n",
       "      <td>Bloomberg</td>\n",
       "      <td>21 minutes ago</td>\n",
       "      <td>Hong Kong Stocks Rally on Report City May Relax Covid Rules</td>\n",
       "      <td>(Bloomberg) -- Hong Kong stocks jumped following a report that the government may further loosen Covid-related restrictions, with shares related to the economy’s reopening surging. Most Read from BloombergPutin Calls Russian Nukes Deterrent Factor, Says War Risk RisingPeru’s President Accused of Coup After Move to Dissolve CongressWhy Did So Many US Men Quit Working? Social Status May Hold the Key, Study SaysBe Careful, Here Come the Predictions for 2023Musk Spars With San Francisco Over Pro...</td>\n",
       "      <td>NEGATIVE</td>\n",
       "      <td>0.903686</td>\n",
       "      <td>NEGATIVE</td>\n",
       "      <td>0.989587</td>\n",
       "    </tr>\n",
       "    <tr>\n",
       "      <th>3</th>\n",
       "      <td>Bloomberg</td>\n",
       "      <td>1 hour ago</td>\n",
       "      <td>Stocks Mixed on China Reopening, Recession Fears: Markets Wrap</td>\n",
       "      <td>(Bloomberg) -- Stocks in Asia fluctuated following signs China would further relax its Covid restrictions, while Treasuries flashed warning signs of recession. The dollar strengthened in an indication of demand for havens.Most Read from BloombergPutin Calls Russian Nukes Deterrent Factor, Says War Risk RisingPeru’s President Accused of Coup After Move to Dissolve CongressWhy Did So Many US Men Quit Working? Social Status May Hold the Key, Study SaysBe Careful, Here Come the Predictions for 2...</td>\n",
       "      <td>NEGATIVE</td>\n",
       "      <td>0.983804</td>\n",
       "      <td>POSITIVE</td>\n",
       "      <td>0.792228</td>\n",
       "    </tr>\n",
       "    <tr>\n",
       "      <th>4</th>\n",
       "      <td>Investor's Business Daily</td>\n",
       "      <td>3 hours ago</td>\n",
       "      <td>Why This Market Rally Is So Dangerous; Tesla Nears Bear Lows On This Move</td>\n",
       "      <td>The market rally is holding key levels, but the choppy action is dangerous. Tesla stock fell toward bear market lows amid new China discounts.</td>\n",
       "      <td>NEGATIVE</td>\n",
       "      <td>0.998698</td>\n",
       "      <td>NEGATIVE</td>\n",
       "      <td>0.999591</td>\n",
       "    </tr>\n",
       "    <tr>\n",
       "      <th>5</th>\n",
       "      <td>Reuters</td>\n",
       "      <td>4 hours ago</td>\n",
       "      <td>China, Hong Kong stocks lift Asian equities; growth worries loom</td>\n",
       "      <td>Asian equities rose on Thursday, propped up by Hong Kong and China stocks amid growing optimism over an easing of COVID restrictions in the world's second biggest economy even as fears of a slowdown and worries over Fed interest rate rises linger.  MSCI's broadest index of Asia-Pacific shares outside Japan was up 0.57%, on track to snap a two-day losing streak.  China's stock market was 0.14% higher, with Hong Kong's Hang Seng Index surging nearly 3% after a pro-China newspaper reported that...</td>\n",
       "      <td>POSITIVE</td>\n",
       "      <td>0.997117</td>\n",
       "      <td>NEGATIVE</td>\n",
       "      <td>0.964881</td>\n",
       "    </tr>\n",
       "    <tr>\n",
       "      <th>6</th>\n",
       "      <td>Zacks</td>\n",
       "      <td>5 hours ago</td>\n",
       "      <td>Are Options Traders Betting on a Big Move in Peabody (BTU) Stock?</td>\n",
       "      <td>Investors need to pay close attention to Peabody (BTU) stock based on the movements in the options market lately.</td>\n",
       "      <td>NEGATIVE</td>\n",
       "      <td>0.997869</td>\n",
       "      <td>NEGATIVE</td>\n",
       "      <td>0.995064</td>\n",
       "    </tr>\n",
       "    <tr>\n",
       "      <th>7</th>\n",
       "      <td>Reuters</td>\n",
       "      <td>5 hours ago</td>\n",
       "      <td>FTX founder Sam Bankman-Fried is said to face market manipulation inquiry by U.S. prosecutors - NYT</td>\n",
       "      <td>The prosecutors are looking into whether Bankman-Fried controlled the prices of two interlinked currencies, TerraUsd and Luna, to benefit the entities he controlled including FTX and Alameda Research, the report said.  The investigation is in its early stages, the newspaper said, adding that it is not clear whether prosecutors have determined any wrongdoing by Bankman-Fried, or when they began looking at the TerraUSD and Luna trades.</td>\n",
       "      <td>NEGATIVE</td>\n",
       "      <td>0.995224</td>\n",
       "      <td>NEGATIVE</td>\n",
       "      <td>0.999122</td>\n",
       "    </tr>\n",
       "    <tr>\n",
       "      <th>8</th>\n",
       "      <td>Fox Business</td>\n",
       "      <td>6 hours ago</td>\n",
       "      <td>Billionaire Ray Dalio warns stock market hasn't priced in 'very harmful' Fed rate hikes</td>\n",
       "      <td>Bridgewater Associates founder Ray Dalio said the stock market could face further turmoil in the coming months as the Fed hikes interest rates to a \"harmful\" level.</td>\n",
       "      <td>NEGATIVE</td>\n",
       "      <td>0.963569</td>\n",
       "      <td>NEGATIVE</td>\n",
       "      <td>0.999226</td>\n",
       "    </tr>\n",
       "    <tr>\n",
       "      <th>9</th>\n",
       "      <td>Bloomberg</td>\n",
       "      <td>7 hours ago</td>\n",
       "      <td>Emerging-Market Debt Is Sliding Into Distress. Just Look at Ghana</td>\n",
       "      <td>(Bloomberg) -- A few blocks from Ghana’s statehouse in Accra sits a 14.5 acre parcel of prime real estate with a football field-sized hole in the middle of it. What should be emerging from the ground is the frame and sweeping, concave roof of the futuristic 5,000-seat National Cathedral of Ghana. Instead the project has stalled, a victim of an economic crisis in the West African country, which was until recently one of the world’s fastest-growing economies and a magnet for foreign investment...</td>\n",
       "      <td>NEGATIVE</td>\n",
       "      <td>0.995463</td>\n",
       "      <td>NEGATIVE</td>\n",
       "      <td>0.963690</td>\n",
       "    </tr>\n",
       "    <tr>\n",
       "      <th>10</th>\n",
       "      <td>Zacks</td>\n",
       "      <td>7 hours ago</td>\n",
       "      <td>Bucking the Trend: 3 Stocks Showing Stellar Relative Strength this Week</td>\n",
       "      <td>Market pullbacks can offer a treasure trove of ideas in the form of relative strength.</td>\n",
       "      <td>POSITIVE</td>\n",
       "      <td>0.999531</td>\n",
       "      <td>POSITIVE</td>\n",
       "      <td>0.999725</td>\n",
       "    </tr>\n",
       "    <tr>\n",
       "      <th>11</th>\n",
       "      <td>TipRanks</td>\n",
       "      <td>7 hours ago</td>\n",
       "      <td>‘Defense Is the Name of the Game’: Jefferies Suggests 2 High-Yield Dividend Stocks — Including One With 13% Yield</td>\n",
       "      <td>The rollercoaster ride continues in the stock market, and equities have been falling across the board this week. The S&amp;P 500 is down 3.5%, and the Dow has lost some 870 points. The market drop was fueled by uncertainty; recent economic data has been unexpectedly positive, and it’s clouded the forecast for the Fed’s interest rate decision next week. The central bank’s twin mandates, to rein in inflation and to moderate unemployment, frequently run counter to each other, and with inflation run...</td>\n",
       "      <td>NEGATIVE</td>\n",
       "      <td>0.818007</td>\n",
       "      <td>NEGATIVE</td>\n",
       "      <td>0.998634</td>\n",
       "    </tr>\n",
       "    <tr>\n",
       "      <th>12</th>\n",
       "      <td>Yahoo Finance</td>\n",
       "      <td>7 hours ago</td>\n",
       "      <td>After hours stock movers: GameStop, Rent the Runway, C3.ai, and more</td>\n",
       "      <td>Top stocks moving after hours on Wednesday, December 7, 2023.</td>\n",
       "      <td>NEGATIVE</td>\n",
       "      <td>0.997676</td>\n",
       "      <td>POSITIVE</td>\n",
       "      <td>0.862742</td>\n",
       "    </tr>\n",
       "    <tr>\n",
       "      <th>13</th>\n",
       "      <td>Zacks</td>\n",
       "      <td>7 hours ago</td>\n",
       "      <td>Core &amp; Main (CNM) Dips More Than Broader Markets: What You Should Know</td>\n",
       "      <td>Core &amp; Main (CNM) closed at $20.68 in the latest trading session, marking a -0.62% move from the prior day.</td>\n",
       "      <td>NEGATIVE</td>\n",
       "      <td>0.997877</td>\n",
       "      <td>NEGATIVE</td>\n",
       "      <td>0.963125</td>\n",
       "    </tr>\n",
       "    <tr>\n",
       "      <th>14</th>\n",
       "      <td>Zacks</td>\n",
       "      <td>7 hours ago</td>\n",
       "      <td>Alliance Resource Partners, L.P. (ARLP) Gains As Market Dips: What You Should Know</td>\n",
       "      <td>Alliance Resource Partners, L.P. (ARLP) closed the most recent trading day at $21.74, moving +0.6% from the previous trading session.</td>\n",
       "      <td>POSITIVE</td>\n",
       "      <td>0.969761</td>\n",
       "      <td>NEGATIVE</td>\n",
       "      <td>0.948475</td>\n",
       "    </tr>\n",
       "    <tr>\n",
       "      <th>15</th>\n",
       "      <td>Zacks</td>\n",
       "      <td>7 hours ago</td>\n",
       "      <td>Prologis (PLD) Gains As Market Dips: What You Should Know</td>\n",
       "      <td>Prologis (PLD) closed at $116 in the latest trading session, marking a +1.22% move from the prior day.</td>\n",
       "      <td>POSITIVE</td>\n",
       "      <td>0.986196</td>\n",
       "      <td>NEGATIVE</td>\n",
       "      <td>0.943029</td>\n",
       "    </tr>\n",
       "    <tr>\n",
       "      <th>16</th>\n",
       "      <td>Zacks</td>\n",
       "      <td>7 hours ago</td>\n",
       "      <td>Accenture (ACN) Gains As Market Dips: What You Should Know</td>\n",
       "      <td>Accenture (ACN) closed the most recent trading day at $286.69, moving +0.45% from the previous trading session.</td>\n",
       "      <td>POSITIVE</td>\n",
       "      <td>0.991024</td>\n",
       "      <td>NEGATIVE</td>\n",
       "      <td>0.979756</td>\n",
       "    </tr>\n",
       "    <tr>\n",
       "      <th>17</th>\n",
       "      <td>Zacks</td>\n",
       "      <td>7 hours ago</td>\n",
       "      <td>Constellation Brands (STZ) Dips More Than Broader Markets: What You Should Know</td>\n",
       "      <td>Constellation Brands (STZ) closed at $246.66 in the latest trading session, marking a -0.39% move from the prior day.</td>\n",
       "      <td>NEGATIVE</td>\n",
       "      <td>0.998913</td>\n",
       "      <td>NEGATIVE</td>\n",
       "      <td>0.966068</td>\n",
       "    </tr>\n",
       "    <tr>\n",
       "      <th>18</th>\n",
       "      <td>Zacks</td>\n",
       "      <td>7 hours ago</td>\n",
       "      <td>CSX (CSX) Dips More Than Broader Markets: What You Should Know</td>\n",
       "      <td>In the latest trading session, CSX (CSX) closed at $30.91, marking a -0.8% move from the previous day.</td>\n",
       "      <td>NEGATIVE</td>\n",
       "      <td>0.998737</td>\n",
       "      <td>NEGATIVE</td>\n",
       "      <td>0.983043</td>\n",
       "    </tr>\n",
       "    <tr>\n",
       "      <th>19</th>\n",
       "      <td>Zacks</td>\n",
       "      <td>7 hours ago</td>\n",
       "      <td>Doctor Reddy's (RDY) Gains As Market Dips: What You Should Know</td>\n",
       "      <td>In the latest trading session, Doctor Reddy's (RDY) closed at $53.25, marking a +0.02% move from the previous day.</td>\n",
       "      <td>POSITIVE</td>\n",
       "      <td>0.992947</td>\n",
       "      <td>NEGATIVE</td>\n",
       "      <td>0.973140</td>\n",
       "    </tr>\n",
       "    <tr>\n",
       "      <th>20</th>\n",
       "      <td>Zacks</td>\n",
       "      <td>7 hours ago</td>\n",
       "      <td>The Charles Schwab Corporation (SCHW) Dips More Than Broader Markets: What You Should Know</td>\n",
       "      <td>The Charles Schwab Corporation (SCHW) closed the most recent trading day at $80.19, moving -0.5% from the previous trading session.</td>\n",
       "      <td>NEGATIVE</td>\n",
       "      <td>0.999143</td>\n",
       "      <td>NEGATIVE</td>\n",
       "      <td>0.975337</td>\n",
       "    </tr>\n",
       "    <tr>\n",
       "      <th>21</th>\n",
       "      <td>Zacks</td>\n",
       "      <td>7 hours ago</td>\n",
       "      <td>U.S. Bancorp (USB) Gains As Market Dips: What You Should Know</td>\n",
       "      <td>U.S. Bancorp (USB) closed at $43.56 in the latest trading session, marking a +1.44% move from the prior day.</td>\n",
       "      <td>POSITIVE</td>\n",
       "      <td>0.925879</td>\n",
       "      <td>NEGATIVE</td>\n",
       "      <td>0.892570</td>\n",
       "    </tr>\n",
       "    <tr>\n",
       "      <th>22</th>\n",
       "      <td>Barrons.com</td>\n",
       "      <td>7 hours ago</td>\n",
       "      <td>Carvana Stock Plunges as Fear of Debt Restructuring Grows</td>\n",
       "      <td>Wedbush analyst Seth Basham downgraded his rating on Carvana shares to Underperform and lowered his price target for the company’s stock to $1.</td>\n",
       "      <td>NEGATIVE</td>\n",
       "      <td>0.998555</td>\n",
       "      <td>NEGATIVE</td>\n",
       "      <td>0.999638</td>\n",
       "    </tr>\n",
       "    <tr>\n",
       "      <th>23</th>\n",
       "      <td>Zacks</td>\n",
       "      <td>8 hours ago</td>\n",
       "      <td>Time to Buy These 3 Food Stocks for 2023</td>\n",
       "      <td>These Food-Miscellaneous stocks may continue to add valuable protection against inflation going into 2023. All of these companies look poised for growth in what is expected to be another challenging year for the broader economy.</td>\n",
       "      <td>NEGATIVE</td>\n",
       "      <td>0.960530</td>\n",
       "      <td>POSITIVE</td>\n",
       "      <td>0.945731</td>\n",
       "    </tr>\n",
       "    <tr>\n",
       "      <th>24</th>\n",
       "      <td>Zacks</td>\n",
       "      <td>8 hours ago</td>\n",
       "      <td>United Rentals (URI) Gains As Market Dips: What You Should Know</td>\n",
       "      <td>United Rentals (URI) closed at $351.52 in the latest trading session, marking a +1.22% move from the prior day.</td>\n",
       "      <td>POSITIVE</td>\n",
       "      <td>0.929780</td>\n",
       "      <td>NEGATIVE</td>\n",
       "      <td>0.854569</td>\n",
       "    </tr>\n",
       "    <tr>\n",
       "      <th>25</th>\n",
       "      <td>Zacks</td>\n",
       "      <td>8 hours ago</td>\n",
       "      <td>Coupa Software (COUP) Gains As Market Dips: What You Should Know</td>\n",
       "      <td>Coupa Software (COUP) closed the most recent trading day at $61.25, moving +0.16% from the previous trading session.</td>\n",
       "      <td>NEGATIVE</td>\n",
       "      <td>0.974986</td>\n",
       "      <td>NEGATIVE</td>\n",
       "      <td>0.992618</td>\n",
       "    </tr>\n",
       "    <tr>\n",
       "      <th>26</th>\n",
       "      <td>Zacks</td>\n",
       "      <td>8 hours ago</td>\n",
       "      <td>General Dynamics (GD) Dips More Than Broader Markets: What You Should Know</td>\n",
       "      <td>General Dynamics (GD) closed the most recent trading day at $246.21, moving -0.83% from the previous trading session.</td>\n",
       "      <td>NEGATIVE</td>\n",
       "      <td>0.998930</td>\n",
       "      <td>NEGATIVE</td>\n",
       "      <td>0.978874</td>\n",
       "    </tr>\n",
       "    <tr>\n",
       "      <th>27</th>\n",
       "      <td>Zacks</td>\n",
       "      <td>8 hours ago</td>\n",
       "      <td>Crown Castle (CCI) Gains As Market Dips: What You Should Know</td>\n",
       "      <td>Crown Castle (CCI) closed the most recent trading day at $138.72, moving +1.06% from the previous trading session.</td>\n",
       "      <td>POSITIVE</td>\n",
       "      <td>0.993209</td>\n",
       "      <td>NEGATIVE</td>\n",
       "      <td>0.663714</td>\n",
       "    </tr>\n",
       "    <tr>\n",
       "      <th>28</th>\n",
       "      <td>Zacks</td>\n",
       "      <td>8 hours ago</td>\n",
       "      <td>Union Pacific (UNP) Gains As Market Dips: What You Should Know</td>\n",
       "      <td>Union Pacific (UNP) closed at $212.22 in the latest trading session, marking a +0.51% move from the prior day.</td>\n",
       "      <td>POSITIVE</td>\n",
       "      <td>0.970438</td>\n",
       "      <td>NEGATIVE</td>\n",
       "      <td>0.913636</td>\n",
       "    </tr>\n",
       "    <tr>\n",
       "      <th>29</th>\n",
       "      <td>Zacks</td>\n",
       "      <td>8 hours ago</td>\n",
       "      <td>Intuitive Surgical, Inc. (ISRG) Gains As Market Dips: What You Should Know</td>\n",
       "      <td>Intuitive Surgical, Inc. (ISRG) closed the most recent trading day at $267.96, moving +0.62% from the previous trading session.</td>\n",
       "      <td>POSITIVE</td>\n",
       "      <td>0.981100</td>\n",
       "      <td>NEGATIVE</td>\n",
       "      <td>0.981829</td>\n",
       "    </tr>\n",
       "    <tr>\n",
       "      <th>30</th>\n",
       "      <td>Zacks</td>\n",
       "      <td>8 hours ago</td>\n",
       "      <td>Morgan Stanley (MS) Dips More Than Broader Markets: What You Should Know</td>\n",
       "      <td>Morgan Stanley (MS) closed at $87.28 in the latest trading session, marking a -0.26% move from the prior day.</td>\n",
       "      <td>NEGATIVE</td>\n",
       "      <td>0.998419</td>\n",
       "      <td>NEGATIVE</td>\n",
       "      <td>0.766725</td>\n",
       "    </tr>\n",
       "    <tr>\n",
       "      <th>31</th>\n",
       "      <td>Zacks</td>\n",
       "      <td>8 hours ago</td>\n",
       "      <td>Covenant Logistics (CVLG) Dips More Than Broader Markets: What You Should Know</td>\n",
       "      <td>In the latest trading session, Covenant Logistics (CVLG) closed at $37.87, marking a -0.37% move from the previous day.</td>\n",
       "      <td>NEGATIVE</td>\n",
       "      <td>0.997105</td>\n",
       "      <td>NEGATIVE</td>\n",
       "      <td>0.958388</td>\n",
       "    </tr>\n",
       "    <tr>\n",
       "      <th>32</th>\n",
       "      <td>Zacks</td>\n",
       "      <td>8 hours ago</td>\n",
       "      <td>Celestica (CLS) Gains As Market Dips: What You Should Know</td>\n",
       "      <td>Celestica (CLS) closed the most recent trading day at $10.80, moving +0.28% from the previous trading session.</td>\n",
       "      <td>POSITIVE</td>\n",
       "      <td>0.956676</td>\n",
       "      <td>NEGATIVE</td>\n",
       "      <td>0.991558</td>\n",
       "    </tr>\n",
       "    <tr>\n",
       "      <th>33</th>\n",
       "      <td>Zacks</td>\n",
       "      <td>8 hours ago</td>\n",
       "      <td>Goldman Sachs (GS) Dips More Than Broader Markets: What You Should Know</td>\n",
       "      <td>Goldman Sachs (GS) closed the most recent trading day at $359.92, moving -0.82% from the previous trading session.</td>\n",
       "      <td>NEGATIVE</td>\n",
       "      <td>0.997925</td>\n",
       "      <td>NEGATIVE</td>\n",
       "      <td>0.947554</td>\n",
       "    </tr>\n",
       "    <tr>\n",
       "      <th>34</th>\n",
       "      <td>Zacks</td>\n",
       "      <td>8 hours ago</td>\n",
       "      <td>Plexus (PLXS) Gains As Market Dips: What You Should Know</td>\n",
       "      <td>Plexus (PLXS) closed at $107.13 in the latest trading session, marking a +0.12% move from the prior day.</td>\n",
       "      <td>POSITIVE</td>\n",
       "      <td>0.868773</td>\n",
       "      <td>NEGATIVE</td>\n",
       "      <td>0.987729</td>\n",
       "    </tr>\n",
       "    <tr>\n",
       "      <th>35</th>\n",
       "      <td>Zacks</td>\n",
       "      <td>8 hours ago</td>\n",
       "      <td>Texas Instruments (TXN) Dips More Than Broader Markets: What You Should Know</td>\n",
       "      <td>Texas Instruments (TXN) closed the most recent trading day at $173.75, moving -0.34% from the previous trading session.</td>\n",
       "      <td>NEGATIVE</td>\n",
       "      <td>0.999055</td>\n",
       "      <td>NEGATIVE</td>\n",
       "      <td>0.984676</td>\n",
       "    </tr>\n",
       "    <tr>\n",
       "      <th>36</th>\n",
       "      <td>Zacks</td>\n",
       "      <td>8 hours ago</td>\n",
       "      <td>American Express (AXP) Gains As Market Dips: What You Should Know</td>\n",
       "      <td>In the latest trading session, American Express (AXP) closed at $154.77, marking a +0.05% move from the previous day.</td>\n",
       "      <td>POSITIVE</td>\n",
       "      <td>0.979125</td>\n",
       "      <td>NEGATIVE</td>\n",
       "      <td>0.950446</td>\n",
       "    </tr>\n",
       "    <tr>\n",
       "      <th>37</th>\n",
       "      <td>Zacks</td>\n",
       "      <td>8 hours ago</td>\n",
       "      <td>Flex (FLEX) Gains As Market Dips: What You Should Know</td>\n",
       "      <td>Flex (FLEX) closed the most recent trading day at $21.56, moving +1.84% from the previous trading session.</td>\n",
       "      <td>POSITIVE</td>\n",
       "      <td>0.986086</td>\n",
       "      <td>POSITIVE</td>\n",
       "      <td>0.633914</td>\n",
       "    </tr>\n",
       "    <tr>\n",
       "      <th>38</th>\n",
       "      <td>Zacks</td>\n",
       "      <td>8 hours ago</td>\n",
       "      <td>Lam Research (LRCX) Gains As Market Dips: What You Should Know</td>\n",
       "      <td>Lam Research (LRCX) closed at $444.28 in the latest trading session, marking a +0.27% move from the prior day.</td>\n",
       "      <td>POSITIVE</td>\n",
       "      <td>0.989056</td>\n",
       "      <td>NEGATIVE</td>\n",
       "      <td>0.938658</td>\n",
       "    </tr>\n",
       "    <tr>\n",
       "      <th>39</th>\n",
       "      <td>Zacks</td>\n",
       "      <td>8 hours ago</td>\n",
       "      <td>Freeport-McMoRan (FCX) Gains As Market Dips: What You Should Know</td>\n",
       "      <td>Freeport-McMoRan (FCX) closed at $38.55 in the latest trading session, marking a +0.23% move from the prior day.</td>\n",
       "      <td>POSITIVE</td>\n",
       "      <td>0.995239</td>\n",
       "      <td>NEGATIVE</td>\n",
       "      <td>0.592267</td>\n",
       "    </tr>\n",
       "    <tr>\n",
       "      <th>40</th>\n",
       "      <td>Zacks</td>\n",
       "      <td>8 hours ago</td>\n",
       "      <td>Lamb Weston (LW) Gains As Market Dips: What You Should Know</td>\n",
       "      <td>In the latest trading session, Lamb Weston (LW) closed at $87.07, marking a +0.9% move from the previous day.</td>\n",
       "      <td>POSITIVE</td>\n",
       "      <td>0.987965</td>\n",
       "      <td>NEGATIVE</td>\n",
       "      <td>0.840985</td>\n",
       "    </tr>\n",
       "    <tr>\n",
       "      <th>41</th>\n",
       "      <td>Zacks</td>\n",
       "      <td>8 hours ago</td>\n",
       "      <td>FedEx (FDX) Dips More Than Broader Markets: What You Should Know</td>\n",
       "      <td>FedEx (FDX) closed at $172.28 in the latest trading session, marking a -0.44% move from the prior day.</td>\n",
       "      <td>NEGATIVE</td>\n",
       "      <td>0.998041</td>\n",
       "      <td>NEGATIVE</td>\n",
       "      <td>0.979481</td>\n",
       "    </tr>\n",
       "    <tr>\n",
       "      <th>42</th>\n",
       "      <td>Zacks</td>\n",
       "      <td>8 hours ago</td>\n",
       "      <td>Abbott (ABT) Gains As Market Dips: What You Should Know</td>\n",
       "      <td>Abbott (ABT) closed the most recent trading day at $104.81, moving +0.91% from the previous trading session.</td>\n",
       "      <td>POSITIVE</td>\n",
       "      <td>0.978415</td>\n",
       "      <td>NEGATIVE</td>\n",
       "      <td>0.938989</td>\n",
       "    </tr>\n",
       "    <tr>\n",
       "      <th>43</th>\n",
       "      <td>Zacks</td>\n",
       "      <td>8 hours ago</td>\n",
       "      <td>Commercial Metals (CMC) Dips More Than Broader Markets: What You Should Know</td>\n",
       "      <td>In the latest trading session, Commercial Metals (CMC) closed at $49.27, marking a -0.94% move from the previous day.</td>\n",
       "      <td>NEGATIVE</td>\n",
       "      <td>0.997621</td>\n",
       "      <td>NEGATIVE</td>\n",
       "      <td>0.965029</td>\n",
       "    </tr>\n",
       "  </tbody>\n",
       "</table>\n",
       "</div>"
      ],
      "text/plain": [
       "                       source            time  \\\n",
       "0                     Reuters  13 minutes ago   \n",
       "1                 Barrons.com  13 minutes ago   \n",
       "2                   Bloomberg  21 minutes ago   \n",
       "3                   Bloomberg      1 hour ago   \n",
       "4   Investor's Business Daily     3 hours ago   \n",
       "5                     Reuters     4 hours ago   \n",
       "6                       Zacks     5 hours ago   \n",
       "7                     Reuters     5 hours ago   \n",
       "8                Fox Business     6 hours ago   \n",
       "9                   Bloomberg     7 hours ago   \n",
       "10                      Zacks     7 hours ago   \n",
       "11                   TipRanks     7 hours ago   \n",
       "12              Yahoo Finance     7 hours ago   \n",
       "13                      Zacks     7 hours ago   \n",
       "14                      Zacks     7 hours ago   \n",
       "15                      Zacks     7 hours ago   \n",
       "16                      Zacks     7 hours ago   \n",
       "17                      Zacks     7 hours ago   \n",
       "18                      Zacks     7 hours ago   \n",
       "19                      Zacks     7 hours ago   \n",
       "20                      Zacks     7 hours ago   \n",
       "21                      Zacks     7 hours ago   \n",
       "22                Barrons.com     7 hours ago   \n",
       "23                      Zacks     8 hours ago   \n",
       "24                      Zacks     8 hours ago   \n",
       "25                      Zacks     8 hours ago   \n",
       "26                      Zacks     8 hours ago   \n",
       "27                      Zacks     8 hours ago   \n",
       "28                      Zacks     8 hours ago   \n",
       "29                      Zacks     8 hours ago   \n",
       "30                      Zacks     8 hours ago   \n",
       "31                      Zacks     8 hours ago   \n",
       "32                      Zacks     8 hours ago   \n",
       "33                      Zacks     8 hours ago   \n",
       "34                      Zacks     8 hours ago   \n",
       "35                      Zacks     8 hours ago   \n",
       "36                      Zacks     8 hours ago   \n",
       "37                      Zacks     8 hours ago   \n",
       "38                      Zacks     8 hours ago   \n",
       "39                      Zacks     8 hours ago   \n",
       "40                      Zacks     8 hours ago   \n",
       "41                      Zacks     8 hours ago   \n",
       "42                      Zacks     8 hours ago   \n",
       "43                      Zacks     8 hours ago   \n",
       "\n",
       "                                                                                                             headline  \\\n",
       "0                                                   Stolen data of 600,000 Indians sold on bot markets so far - study   \n",
       "1                                                         Wells Fargo Stock Is Primed to Jump Higher. How to Play It.   \n",
       "2                                                         Hong Kong Stocks Rally on Report City May Relax Covid Rules   \n",
       "3                                                      Stocks Mixed on China Reopening, Recession Fears: Markets Wrap   \n",
       "4                                           Why This Market Rally Is So Dangerous; Tesla Nears Bear Lows On This Move   \n",
       "5                                                    China, Hong Kong stocks lift Asian equities; growth worries loom   \n",
       "6                                                   Are Options Traders Betting on a Big Move in Peabody (BTU) Stock?   \n",
       "7                 FTX founder Sam Bankman-Fried is said to face market manipulation inquiry by U.S. prosecutors - NYT   \n",
       "8                             Billionaire Ray Dalio warns stock market hasn't priced in 'very harmful' Fed rate hikes   \n",
       "9                                                   Emerging-Market Debt Is Sliding Into Distress. Just Look at Ghana   \n",
       "10                                            Bucking the Trend: 3 Stocks Showing Stellar Relative Strength this Week   \n",
       "11  ‘Defense Is the Name of the Game’: Jefferies Suggests 2 High-Yield Dividend Stocks — Including One With 13% Yield   \n",
       "12                                               After hours stock movers: GameStop, Rent the Runway, C3.ai, and more   \n",
       "13                                             Core & Main (CNM) Dips More Than Broader Markets: What You Should Know   \n",
       "14                                 Alliance Resource Partners, L.P. (ARLP) Gains As Market Dips: What You Should Know   \n",
       "15                                                          Prologis (PLD) Gains As Market Dips: What You Should Know   \n",
       "16                                                         Accenture (ACN) Gains As Market Dips: What You Should Know   \n",
       "17                                    Constellation Brands (STZ) Dips More Than Broader Markets: What You Should Know   \n",
       "18                                                     CSX (CSX) Dips More Than Broader Markets: What You Should Know   \n",
       "19                                                    Doctor Reddy's (RDY) Gains As Market Dips: What You Should Know   \n",
       "20                         The Charles Schwab Corporation (SCHW) Dips More Than Broader Markets: What You Should Know   \n",
       "21                                                      U.S. Bancorp (USB) Gains As Market Dips: What You Should Know   \n",
       "22                                                          Carvana Stock Plunges as Fear of Debt Restructuring Grows   \n",
       "23                                                                           Time to Buy These 3 Food Stocks for 2023   \n",
       "24                                                    United Rentals (URI) Gains As Market Dips: What You Should Know   \n",
       "25                                                   Coupa Software (COUP) Gains As Market Dips: What You Should Know   \n",
       "26                                         General Dynamics (GD) Dips More Than Broader Markets: What You Should Know   \n",
       "27                                                      Crown Castle (CCI) Gains As Market Dips: What You Should Know   \n",
       "28                                                     Union Pacific (UNP) Gains As Market Dips: What You Should Know   \n",
       "29                                         Intuitive Surgical, Inc. (ISRG) Gains As Market Dips: What You Should Know   \n",
       "30                                           Morgan Stanley (MS) Dips More Than Broader Markets: What You Should Know   \n",
       "31                                     Covenant Logistics (CVLG) Dips More Than Broader Markets: What You Should Know   \n",
       "32                                                         Celestica (CLS) Gains As Market Dips: What You Should Know   \n",
       "33                                            Goldman Sachs (GS) Dips More Than Broader Markets: What You Should Know   \n",
       "34                                                           Plexus (PLXS) Gains As Market Dips: What You Should Know   \n",
       "35                                       Texas Instruments (TXN) Dips More Than Broader Markets: What You Should Know   \n",
       "36                                                  American Express (AXP) Gains As Market Dips: What You Should Know   \n",
       "37                                                             Flex (FLEX) Gains As Market Dips: What You Should Know   \n",
       "38                                                     Lam Research (LRCX) Gains As Market Dips: What You Should Know   \n",
       "39                                                  Freeport-McMoRan (FCX) Gains As Market Dips: What You Should Know   \n",
       "40                                                        Lamb Weston (LW) Gains As Market Dips: What You Should Know   \n",
       "41                                                   FedEx (FDX) Dips More Than Broader Markets: What You Should Know   \n",
       "42                                                            Abbott (ABT) Gains As Market Dips: What You Should Know   \n",
       "43                                       Commercial Metals (CMC) Dips More Than Broader Markets: What You Should Know   \n",
       "\n",
       "                                                                                                                                                                                                                                                                                                                                                                                                                                                                                                                content  \\\n",
       "0   Around five million people globally have had their data stolen and sold on the bot market till date, of which 600,000 are from India, making it the worst affected country, according to one of the world's largest VPN serice providers NordVPN.  Bot markets are used by hackers to sell stolen data from victims' devices with bot malware.  The study by NordVPN, of Lithuania's Nord Security, said the stolen data included user logins, cookies, digital fingerprints, screenshots and other information,...   \n",
       "1                                                                                                                                                                                                                                                                                                                                           Wells Fargo’s broad ownership among hedge funds and mutual funds is an intriguing revelation, suggesting that January’s earnings report could act as a spring-loaded event.   \n",
       "2   (Bloomberg) -- Hong Kong stocks jumped following a report that the government may further loosen Covid-related restrictions, with shares related to the economy’s reopening surging. Most Read from BloombergPutin Calls Russian Nukes Deterrent Factor, Says War Risk RisingPeru’s President Accused of Coup After Move to Dissolve CongressWhy Did So Many US Men Quit Working? Social Status May Hold the Key, Study SaysBe Careful, Here Come the Predictions for 2023Musk Spars With San Francisco Over Pro...   \n",
       "3   (Bloomberg) -- Stocks in Asia fluctuated following signs China would further relax its Covid restrictions, while Treasuries flashed warning signs of recession. The dollar strengthened in an indication of demand for havens.Most Read from BloombergPutin Calls Russian Nukes Deterrent Factor, Says War Risk RisingPeru’s President Accused of Coup After Move to Dissolve CongressWhy Did So Many US Men Quit Working? Social Status May Hold the Key, Study SaysBe Careful, Here Come the Predictions for 2...   \n",
       "4                                                                                                                                                                                                                                                                                                                                                                        The market rally is holding key levels, but the choppy action is dangerous. Tesla stock fell toward bear market lows amid new China discounts.   \n",
       "5   Asian equities rose on Thursday, propped up by Hong Kong and China stocks amid growing optimism over an easing of COVID restrictions in the world's second biggest economy even as fears of a slowdown and worries over Fed interest rate rises linger.  MSCI's broadest index of Asia-Pacific shares outside Japan was up 0.57%, on track to snap a two-day losing streak.  China's stock market was 0.14% higher, with Hong Kong's Hang Seng Index surging nearly 3% after a pro-China newspaper reported that...   \n",
       "6                                                                                                                                                                                                                                                                                                                                                                                                     Investors need to pay close attention to Peabody (BTU) stock based on the movements in the options market lately.   \n",
       "7                                                                 The prosecutors are looking into whether Bankman-Fried controlled the prices of two interlinked currencies, TerraUsd and Luna, to benefit the entities he controlled including FTX and Alameda Research, the report said.  The investigation is in its early stages, the newspaper said, adding that it is not clear whether prosecutors have determined any wrongdoing by Bankman-Fried, or when they began looking at the TerraUSD and Luna trades.   \n",
       "8                                                                                                                                                                                                                                                                                                                                                  Bridgewater Associates founder Ray Dalio said the stock market could face further turmoil in the coming months as the Fed hikes interest rates to a \"harmful\" level.   \n",
       "9   (Bloomberg) -- A few blocks from Ghana’s statehouse in Accra sits a 14.5 acre parcel of prime real estate with a football field-sized hole in the middle of it. What should be emerging from the ground is the frame and sweeping, concave roof of the futuristic 5,000-seat National Cathedral of Ghana. Instead the project has stalled, a victim of an economic crisis in the West African country, which was until recently one of the world’s fastest-growing economies and a magnet for foreign investment...   \n",
       "10                                                                                                                                                                                                                                                                                                                                                                                                                               Market pullbacks can offer a treasure trove of ideas in the form of relative strength.   \n",
       "11  The rollercoaster ride continues in the stock market, and equities have been falling across the board this week. The S&P 500 is down 3.5%, and the Dow has lost some 870 points. The market drop was fueled by uncertainty; recent economic data has been unexpectedly positive, and it’s clouded the forecast for the Fed’s interest rate decision next week. The central bank’s twin mandates, to rein in inflation and to moderate unemployment, frequently run counter to each other, and with inflation run...   \n",
       "12                                                                                                                                                                                                                                                                                                                                                                                                                                                        Top stocks moving after hours on Wednesday, December 7, 2023.   \n",
       "13                                                                                                                                                                                                                                                                                                                                                                                                          Core & Main (CNM) closed at $20.68 in the latest trading session, marking a -0.62% move from the prior day.   \n",
       "14                                                                                                                                                                                                                                                                                                                                                                                Alliance Resource Partners, L.P. (ARLP) closed the most recent trading day at $21.74, moving +0.6% from the previous trading session.   \n",
       "15                                                                                                                                                                                                                                                                                                                                                                                                               Prologis (PLD) closed at $116 in the latest trading session, marking a +1.22% move from the prior day.   \n",
       "16                                                                                                                                                                                                                                                                                                                                                                                                      Accenture (ACN) closed the most recent trading day at $286.69, moving +0.45% from the previous trading session.   \n",
       "17                                                                                                                                                                                                                                                                                                                                                                                                Constellation Brands (STZ) closed at $246.66 in the latest trading session, marking a -0.39% move from the prior day.   \n",
       "18                                                                                                                                                                                                                                                                                                                                                                                                               In the latest trading session, CSX (CSX) closed at $30.91, marking a -0.8% move from the previous day.   \n",
       "19                                                                                                                                                                                                                                                                                                                                                                                                   In the latest trading session, Doctor Reddy's (RDY) closed at $53.25, marking a +0.02% move from the previous day.   \n",
       "20                                                                                                                                                                                                                                                                                                                                                                                  The Charles Schwab Corporation (SCHW) closed the most recent trading day at $80.19, moving -0.5% from the previous trading session.   \n",
       "21                                                                                                                                                                                                                                                                                                                                                                                                         U.S. Bancorp (USB) closed at $43.56 in the latest trading session, marking a +1.44% move from the prior day.   \n",
       "22                                                                                                                                                                                                                                                                                                                                                                      Wedbush analyst Seth Basham downgraded his rating on Carvana shares to Underperform and lowered his price target for the company’s stock to $1.   \n",
       "23                                                                                                                                                                                                                                                                                 These Food-Miscellaneous stocks may continue to add valuable protection against inflation going into 2023. All of these companies look poised for growth in what is expected to be another challenging year for the broader economy.   \n",
       "24                                                                                                                                                                                                                                                                                                                                                                                                      United Rentals (URI) closed at $351.52 in the latest trading session, marking a +1.22% move from the prior day.   \n",
       "25                                                                                                                                                                                                                                                                                                                                                                                                 Coupa Software (COUP) closed the most recent trading day at $61.25, moving +0.16% from the previous trading session.   \n",
       "26                                                                                                                                                                                                                                                                                                                                                                                                General Dynamics (GD) closed the most recent trading day at $246.21, moving -0.83% from the previous trading session.   \n",
       "27                                                                                                                                                                                                                                                                                                                                                                                                   Crown Castle (CCI) closed the most recent trading day at $138.72, moving +1.06% from the previous trading session.   \n",
       "28                                                                                                                                                                                                                                                                                                                                                                                                       Union Pacific (UNP) closed at $212.22 in the latest trading session, marking a +0.51% move from the prior day.   \n",
       "29                                                                                                                                                                                                                                                                                                                                                                                      Intuitive Surgical, Inc. (ISRG) closed the most recent trading day at $267.96, moving +0.62% from the previous trading session.   \n",
       "30                                                                                                                                                                                                                                                                                                                                                                                                        Morgan Stanley (MS) closed at $87.28 in the latest trading session, marking a -0.26% move from the prior day.   \n",
       "31                                                                                                                                                                                                                                                                                                                                                                                              In the latest trading session, Covenant Logistics (CVLG) closed at $37.87, marking a -0.37% move from the previous day.   \n",
       "32                                                                                                                                                                                                                                                                                                                                                                                                       Celestica (CLS) closed the most recent trading day at $10.80, moving +0.28% from the previous trading session.   \n",
       "33                                                                                                                                                                                                                                                                                                                                                                                                   Goldman Sachs (GS) closed the most recent trading day at $359.92, moving -0.82% from the previous trading session.   \n",
       "34                                                                                                                                                                                                                                                                                                                                                                                                             Plexus (PLXS) closed at $107.13 in the latest trading session, marking a +0.12% move from the prior day.   \n",
       "35                                                                                                                                                                                                                                                                                                                                                                                              Texas Instruments (TXN) closed the most recent trading day at $173.75, moving -0.34% from the previous trading session.   \n",
       "36                                                                                                                                                                                                                                                                                                                                                                                                In the latest trading session, American Express (AXP) closed at $154.77, marking a +0.05% move from the previous day.   \n",
       "37                                                                                                                                                                                                                                                                                                                                                                                                           Flex (FLEX) closed the most recent trading day at $21.56, moving +1.84% from the previous trading session.   \n",
       "38                                                                                                                                                                                                                                                                                                                                                                                                       Lam Research (LRCX) closed at $444.28 in the latest trading session, marking a +0.27% move from the prior day.   \n",
       "39                                                                                                                                                                                                                                                                                                                                                                                                     Freeport-McMoRan (FCX) closed at $38.55 in the latest trading session, marking a +0.23% move from the prior day.   \n",
       "40                                                                                                                                                                                                                                                                                                                                                                                                        In the latest trading session, Lamb Weston (LW) closed at $87.07, marking a +0.9% move from the previous day.   \n",
       "41                                                                                                                                                                                                                                                                                                                                                                                                               FedEx (FDX) closed at $172.28 in the latest trading session, marking a -0.44% move from the prior day.   \n",
       "42                                                                                                                                                                                                                                                                                                                                                                                                         Abbott (ABT) closed the most recent trading day at $104.81, moving +0.91% from the previous trading session.   \n",
       "43                                                                                                                                                                                                                                                                                                                                                                                                In the latest trading session, Commercial Metals (CMC) closed at $49.27, marking a -0.94% move from the previous day.   \n",
       "\n",
       "   Sentiment     Score Sentiment2    Score2  \n",
       "0   NEGATIVE  0.999270   NEGATIVE  0.999625  \n",
       "1   POSITIVE  0.995651   POSITIVE  0.998907  \n",
       "2   NEGATIVE  0.903686   NEGATIVE  0.989587  \n",
       "3   NEGATIVE  0.983804   POSITIVE  0.792228  \n",
       "4   NEGATIVE  0.998698   NEGATIVE  0.999591  \n",
       "5   POSITIVE  0.997117   NEGATIVE  0.964881  \n",
       "6   NEGATIVE  0.997869   NEGATIVE  0.995064  \n",
       "7   NEGATIVE  0.995224   NEGATIVE  0.999122  \n",
       "8   NEGATIVE  0.963569   NEGATIVE  0.999226  \n",
       "9   NEGATIVE  0.995463   NEGATIVE  0.963690  \n",
       "10  POSITIVE  0.999531   POSITIVE  0.999725  \n",
       "11  NEGATIVE  0.818007   NEGATIVE  0.998634  \n",
       "12  NEGATIVE  0.997676   POSITIVE  0.862742  \n",
       "13  NEGATIVE  0.997877   NEGATIVE  0.963125  \n",
       "14  POSITIVE  0.969761   NEGATIVE  0.948475  \n",
       "15  POSITIVE  0.986196   NEGATIVE  0.943029  \n",
       "16  POSITIVE  0.991024   NEGATIVE  0.979756  \n",
       "17  NEGATIVE  0.998913   NEGATIVE  0.966068  \n",
       "18  NEGATIVE  0.998737   NEGATIVE  0.983043  \n",
       "19  POSITIVE  0.992947   NEGATIVE  0.973140  \n",
       "20  NEGATIVE  0.999143   NEGATIVE  0.975337  \n",
       "21  POSITIVE  0.925879   NEGATIVE  0.892570  \n",
       "22  NEGATIVE  0.998555   NEGATIVE  0.999638  \n",
       "23  NEGATIVE  0.960530   POSITIVE  0.945731  \n",
       "24  POSITIVE  0.929780   NEGATIVE  0.854569  \n",
       "25  NEGATIVE  0.974986   NEGATIVE  0.992618  \n",
       "26  NEGATIVE  0.998930   NEGATIVE  0.978874  \n",
       "27  POSITIVE  0.993209   NEGATIVE  0.663714  \n",
       "28  POSITIVE  0.970438   NEGATIVE  0.913636  \n",
       "29  POSITIVE  0.981100   NEGATIVE  0.981829  \n",
       "30  NEGATIVE  0.998419   NEGATIVE  0.766725  \n",
       "31  NEGATIVE  0.997105   NEGATIVE  0.958388  \n",
       "32  POSITIVE  0.956676   NEGATIVE  0.991558  \n",
       "33  NEGATIVE  0.997925   NEGATIVE  0.947554  \n",
       "34  POSITIVE  0.868773   NEGATIVE  0.987729  \n",
       "35  NEGATIVE  0.999055   NEGATIVE  0.984676  \n",
       "36  POSITIVE  0.979125   NEGATIVE  0.950446  \n",
       "37  POSITIVE  0.986086   POSITIVE  0.633914  \n",
       "38  POSITIVE  0.989056   NEGATIVE  0.938658  \n",
       "39  POSITIVE  0.995239   NEGATIVE  0.592267  \n",
       "40  POSITIVE  0.987965   NEGATIVE  0.840985  \n",
       "41  NEGATIVE  0.998041   NEGATIVE  0.979481  \n",
       "42  POSITIVE  0.978415   NEGATIVE  0.938989  \n",
       "43  NEGATIVE  0.997621   NEGATIVE  0.965029  "
      ]
     },
     "execution_count": 168,
     "metadata": {},
     "output_type": "execute_result"
    }
   ],
   "source": [
    "news_df[news_df['Score'] > 0.8]"
   ]
  },
  {
   "cell_type": "code",
   "execution_count": 169,
   "metadata": {},
   "outputs": [
    {
     "data": {
      "text/plain": [
       "<AxesSubplot:xlabel='Sentiment', ylabel='Count'>"
      ]
     },
     "execution_count": 169,
     "metadata": {},
     "output_type": "execute_result"
    },
    {
     "data": {
      "image/png": "[encoded data removed]",
      "text/plain": [
       "<Figure size 432x288 with 1 Axes>"
      ]
     },
     "metadata": {
      "needs_background": "light"
     },
     "output_type": "display_data"
    }
   ],
   "source": [
    "sns.histplot(x = 'Sentiment', data = news_df[news_df['Score'] > 0.8], hue = 'Sentiment', hue_order=['POSITIVE', 'NEGATIVE'])"
   ]
  },
  {
   "cell_type": "code",
   "execution_count": 170,
   "metadata": {},
   "outputs": [
    {
     "data": {
      "text/plain": [
       "<AxesSubplot:xlabel='Sentiment2', ylabel='Count'>"
      ]
     },
     "execution_count": 170,
     "metadata": {},
     "output_type": "execute_result"
    },
    {
     "data": {
      "image/png": "[encoded data removed]",
      "text/plain": [
       "<Figure size 432x288 with 1 Axes>"
      ]
     },
     "metadata": {
      "needs_background": "light"
     },
     "output_type": "display_data"
    }
   ],
   "source": [
    "sns.histplot(x = 'Sentiment2', data = news_df[news_df['Score2'] > 0.8], hue = 'Sentiment2', hue_order=['POSITIVE', 'NEGATIVE'])"
   ]
  },
  {
   "cell_type": "code",
   "execution_count": 171,
   "metadata": {},
   "outputs": [],
   "source": [
    "import sys\n",
    "sys.path.insert(1, 'C:/Users/Woon/Desktop/Columbia/Applied Analytics/Term3/Sentiment_SNP')\n",
    "\n",
    "import helper_functions\n",
    "from helper_functions import *"
   ]
  },
  {
   "cell_type": "code",
   "execution_count": 172,
   "metadata": {},
   "outputs": [
    {
     "data": {
      "text/html": [
       "        <script type=\"text/javascript\">\n",
       "        window.PlotlyConfig = {MathJaxConfig: 'local'};\n",
       "        if (window.MathJax && window.MathJax.Hub && window.MathJax.Hub.Config) {window.MathJax.Hub.Config({SVG: {font: \"STIX-Web\"}});}\n",
       "        if (typeof require !== 'undefined') {\n",
       "        require.undef(\"plotly\");\n",
       "        requirejs.config({\n",
       "            paths: {\n",
       "                'plotly': ['https://cdn.plot.ly/plotly-2.14.0.min']\n",
       "            }\n",
       "        });\n",
       "        require(['plotly'], function(Plotly) {\n",
       "            window._Plotly = Plotly;\n",
       "        });\n",
       "        }\n",
       "        </script>\n",
       "        "
      ]
     },
     "metadata": {},
     "output_type": "display_data"
    }
   ],
   "source": [
    "from collections import defaultdict\n",
    "from plotly import tools\n",
    "import plotly.offline as py\n",
    "py.init_notebook_mode(connected=True)\n"
   ]
  },
  {
   "attachments": {},
   "cell_type": "markdown",
   "metadata": {},
   "source": [
    "## Headline"
   ]
  },
  {
   "cell_type": "code",
   "execution_count": 173,
   "metadata": {},
   "outputs": [
    {
     "data": {
      "application/vnd.plotly.v1+json": {
       "config": {
        "linkText": "Export to plot.ly",
        "plotlyServerURL": "https://plot.ly",
        "showLink": false
       },
       "data": [
        {
         "marker": {
          "color": "green"
         },
         "orientation": "h",
         "showlegend": false,
         "type": "bar",
         "x": [
          11,
          11,
          11,
          11,
          18,
          18,
          18,
          18,
          29,
          29
         ],
         "xaxis": "x",
         "y": [
          "More Than Broader",
          "Than Broader Markets",
          "Broader Markets What",
          "Markets What You",
          "Gains As Market",
          "As Market Dips",
          "Market Dips What",
          "Dips What You",
          "What You Should",
          "You Should Know"
         ],
         "yaxis": "y"
        }
       ],
       "layout": {
        "annotations": [
         {
          "font": {
           "size": 16
          },
          "showarrow": false,
          "text": "Frequent words",
          "x": 0.5,
          "xanchor": "center",
          "xref": "paper",
          "y": 1,
          "yanchor": "bottom",
          "yref": "paper"
         }
        ],
        "height": 600,
        "paper_bgcolor": "rgb(233,233,233)",
        "template": {
         "data": {
          "bar": [
           {
            "error_x": {
             "color": "#2a3f5f"
            },
            "error_y": {
             "color": "#2a3f5f"
            },
            "marker": {
             "line": {
              "color": "#E5ECF6",
              "width": 0.5
             },
             "pattern": {
              "fillmode": "overlay",
              "size": 10,
              "solidity": 0.2
             }
            },
            "type": "bar"
           }
          ],
          "barpolar": [
           {
            "marker": {
             "line": {
              "color": "#E5ECF6",
              "width": 0.5
             },
             "pattern": {
              "fillmode": "overlay",
              "size": 10,
              "solidity": 0.2
             }
            },
            "type": "barpolar"
           }
          ],
          "carpet": [
           {
            "aaxis": {
             "endlinecolor": "#2a3f5f",
             "gridcolor": "white",
             "linecolor": "white",
             "minorgridcolor": "white",
             "startlinecolor": "#2a3f5f"
            },
            "baxis": {
             "endlinecolor": "#2a3f5f",
             "gridcolor": "white",
             "linecolor": "white",
             "minorgridcolor": "white",
             "startlinecolor": "#2a3f5f"
            },
            "type": "carpet"
           }
          ],
          "choropleth": [
           {
            "colorbar": {
             "outlinewidth": 0,
             "ticks": ""
            },
            "type": "choropleth"
           }
          ],
          "contour": [
           {
            "colorbar": {
             "outlinewidth": 0,
             "ticks": ""
            },
            "colorscale": [
             [
              0,
              "#0d0887"
             ],
             [
              0.1111111111111111,
              "#46039f"
             ],
             [
              0.2222222222222222,
              "#7201a8"
             ],
             [
              0.3333333333333333,
              "#9c179e"
             ],
             [
              0.4444444444444444,
              "#bd3786"
             ],
             [
              0.5555555555555556,
              "#d8576b"
             ],
             [
              0.6666666666666666,
              "#ed7953"
             ],
             [
              0.7777777777777778,
              "#fb9f3a"
             ],
             [
              0.8888888888888888,
              "#fdca26"
             ],
             [
              1,
              "#f0f921"
             ]
            ],
            "type": "contour"
           }
          ],
          "contourcarpet": [
           {
            "colorbar": {
             "outlinewidth": 0,
             "ticks": ""
            },
            "type": "contourcarpet"
           }
          ],
          "heatmap": [
           {
            "colorbar": {
             "outlinewidth": 0,
             "ticks": ""
            },
            "colorscale": [
             [
              0,
              "#0d0887"
             ],
             [
              0.1111111111111111,
              "#46039f"
             ],
             [
              0.2222222222222222,
              "#7201a8"
             ],
             [
              0.3333333333333333,
              "#9c179e"
             ],
             [
              0.4444444444444444,
              "#bd3786"
             ],
             [
              0.5555555555555556,
              "#d8576b"
             ],
             [
              0.6666666666666666,
              "#ed7953"
             ],
             [
              0.7777777777777778,
              "#fb9f3a"
             ],
             [
              0.8888888888888888,
              "#fdca26"
             ],
             [
              1,
              "#f0f921"
             ]
            ],
            "type": "heatmap"
           }
          ],
          "heatmapgl": [
           {
            "colorbar": {
             "outlinewidth": 0,
             "ticks": ""
            },
            "colorscale": [
             [
              0,
              "#0d0887"
             ],
             [
              0.1111111111111111,
              "#46039f"
             ],
             [
              0.2222222222222222,
              "#7201a8"
             ],
             [
              0.3333333333333333,
              "#9c179e"
             ],
             [
              0.4444444444444444,
              "#bd3786"
             ],
             [
              0.5555555555555556,
              "#d8576b"
             ],
             [
              0.6666666666666666,
              "#ed7953"
             ],
             [
              0.7777777777777778,
              "#fb9f3a"
             ],
             [
              0.8888888888888888,
              "#fdca26"
             ],
             [
              1,
              "#f0f921"
             ]
            ],
            "type": "heatmapgl"
           }
          ],
          "histogram": [
           {
            "marker": {
             "pattern": {
              "fillmode": "overlay",
              "size": 10,
              "solidity": 0.2
             }
            },
            "type": "histogram"
           }
          ],
          "histogram2d": [
           {
            "colorbar": {
             "outlinewidth": 0,
             "ticks": ""
            },
            "colorscale": [
             [
              0,
              "#0d0887"
             ],
             [
              0.1111111111111111,
              "#46039f"
             ],
             [
              0.2222222222222222,
              "#7201a8"
             ],
             [
              0.3333333333333333,
              "#9c179e"
             ],
             [
              0.4444444444444444,
              "#bd3786"
             ],
             [
              0.5555555555555556,
              "#d8576b"
             ],
             [
              0.6666666666666666,
              "#ed7953"
             ],
             [
              0.7777777777777778,
              "#fb9f3a"
             ],
             [
              0.8888888888888888,
              "#fdca26"
             ],
             [
              1,
              "#f0f921"
             ]
            ],
            "type": "histogram2d"
           }
          ],
          "histogram2dcontour": [
           {
            "colorbar": {
             "outlinewidth": 0,
             "ticks": ""
            },
            "colorscale": [
             [
              0,
              "#0d0887"
             ],
             [
              0.1111111111111111,
              "#46039f"
             ],
             [
              0.2222222222222222,
              "#7201a8"
             ],
             [
              0.3333333333333333,
              "#9c179e"
             ],
             [
              0.4444444444444444,
              "#bd3786"
             ],
             [
              0.5555555555555556,
              "#d8576b"
             ],
             [
              0.6666666666666666,
              "#ed7953"
             ],
             [
              0.7777777777777778,
              "#fb9f3a"
             ],
             [
              0.8888888888888888,
              "#fdca26"
             ],
             [
              1,
              "#f0f921"
             ]
            ],
            "type": "histogram2dcontour"
           }
          ],
          "mesh3d": [
           {
            "colorbar": {
             "outlinewidth": 0,
             "ticks": ""
            },
            "type": "mesh3d"
           }
          ],
          "parcoords": [
           {
            "line": {
             "colorbar": {
              "outlinewidth": 0,
              "ticks": ""
             }
            },
            "type": "parcoords"
           }
          ],
          "pie": [
           {
            "automargin": true,
            "type": "pie"
           }
          ],
          "scatter": [
           {
            "fillpattern": {
             "fillmode": "overlay",
             "size": 10,
             "solidity": 0.2
            },
            "type": "scatter"
           }
          ],
          "scatter3d": [
           {
            "line": {
             "colorbar": {
              "outlinewidth": 0,
              "ticks": ""
             }
            },
            "marker": {
             "colorbar": {
              "outlinewidth": 0,
              "ticks": ""
             }
            },
            "type": "scatter3d"
           }
          ],
          "scattercarpet": [
           {
            "marker": {
             "colorbar": {
              "outlinewidth": 0,
              "ticks": ""
             }
            },
            "type": "scattercarpet"
           }
          ],
          "scattergeo": [
           {
            "marker": {
             "colorbar": {
              "outlinewidth": 0,
              "ticks": ""
             }
            },
            "type": "scattergeo"
           }
          ],
          "scattergl": [
           {
            "marker": {
             "colorbar": {
              "outlinewidth": 0,
              "ticks": ""
             }
            },
            "type": "scattergl"
           }
          ],
          "scattermapbox": [
           {
            "marker": {
             "colorbar": {
              "outlinewidth": 0,
              "ticks": ""
             }
            },
            "type": "scattermapbox"
           }
          ],
          "scatterpolar": [
           {
            "marker": {
             "colorbar": {
              "outlinewidth": 0,
              "ticks": ""
             }
            },
            "type": "scatterpolar"
           }
          ],
          "scatterpolargl": [
           {
            "marker": {
             "colorbar": {
              "outlinewidth": 0,
              "ticks": ""
             }
            },
            "type": "scatterpolargl"
           }
          ],
          "scatterternary": [
           {
            "marker": {
             "colorbar": {
              "outlinewidth": 0,
              "ticks": ""
             }
            },
            "type": "scatterternary"
           }
          ],
          "surface": [
           {
            "colorbar": {
             "outlinewidth": 0,
             "ticks": ""
            },
            "colorscale": [
             [
              0,
              "#0d0887"
             ],
             [
              0.1111111111111111,
              "#46039f"
             ],
             [
              0.2222222222222222,
              "#7201a8"
             ],
             [
              0.3333333333333333,
              "#9c179e"
             ],
             [
              0.4444444444444444,
              "#bd3786"
             ],
             [
              0.5555555555555556,
              "#d8576b"
             ],
             [
              0.6666666666666666,
              "#ed7953"
             ],
             [
              0.7777777777777778,
              "#fb9f3a"
             ],
             [
              0.8888888888888888,
              "#fdca26"
             ],
             [
              1,
              "#f0f921"
             ]
            ],
            "type": "surface"
           }
          ],
          "table": [
           {
            "cells": {
             "fill": {
              "color": "#EBF0F8"
             },
             "line": {
              "color": "white"
             }
            },
            "header": {
             "fill": {
              "color": "#C8D4E3"
             },
             "line": {
              "color": "white"
             }
            },
            "type": "table"
           }
          ]
         },
         "layout": {
          "annotationdefaults": {
           "arrowcolor": "#2a3f5f",
           "arrowhead": 0,
           "arrowwidth": 1
          },
          "autotypenumbers": "strict",
          "coloraxis": {
           "colorbar": {
            "outlinewidth": 0,
            "ticks": ""
           }
          },
          "colorscale": {
           "diverging": [
            [
             0,
             "#8e0152"
            ],
            [
             0.1,
             "#c51b7d"
            ],
            [
             0.2,
             "#de77ae"
            ],
            [
             0.3,
             "#f1b6da"
            ],
            [
             0.4,
             "#fde0ef"
            ],
            [
             0.5,
             "#f7f7f7"
            ],
            [
             0.6,
             "#e6f5d0"
            ],
            [
             0.7,
             "#b8e186"
            ],
            [
             0.8,
             "#7fbc41"
            ],
            [
             0.9,
             "#4d9221"
            ],
            [
             1,
             "#276419"
            ]
           ],
           "sequential": [
            [
             0,
             "#0d0887"
            ],
            [
             0.1111111111111111,
             "#46039f"
            ],
            [
             0.2222222222222222,
             "#7201a8"
            ],
            [
             0.3333333333333333,
             "#9c179e"
            ],
            [
             0.4444444444444444,
             "#bd3786"
            ],
            [
             0.5555555555555556,
             "#d8576b"
            ],
            [
             0.6666666666666666,
             "#ed7953"
            ],
            [
             0.7777777777777778,
             "#fb9f3a"
            ],
            [
             0.8888888888888888,
             "#fdca26"
            ],
            [
             1,
             "#f0f921"
            ]
           ],
           "sequentialminus": [
            [
             0,
             "#0d0887"
            ],
            [
             0.1111111111111111,
             "#46039f"
            ],
            [
             0.2222222222222222,
             "#7201a8"
            ],
            [
             0.3333333333333333,
             "#9c179e"
            ],
            [
             0.4444444444444444,
             "#bd3786"
            ],
            [
             0.5555555555555556,
             "#d8576b"
            ],
            [
             0.6666666666666666,
             "#ed7953"
            ],
            [
             0.7777777777777778,
             "#fb9f3a"
            ],
            [
             0.8888888888888888,
             "#fdca26"
            ],
            [
             1,
             "#f0f921"
            ]
           ]
          },
          "colorway": [
           "#636efa",
           "#EF553B",
           "#00cc96",
           "#ab63fa",
           "#FFA15A",
           "#19d3f3",
           "#FF6692",
           "#B6E880",
           "#FF97FF",
           "#FECB52"
          ],
          "font": {
           "color": "#2a3f5f"
          },
          "geo": {
           "bgcolor": "white",
           "lakecolor": "white",
           "landcolor": "#E5ECF6",
           "showlakes": true,
           "showland": true,
           "subunitcolor": "white"
          },
          "hoverlabel": {
           "align": "left"
          },
          "hovermode": "closest",
          "mapbox": {
           "style": "light"
          },
          "paper_bgcolor": "white",
          "plot_bgcolor": "#E5ECF6",
          "polar": {
           "angularaxis": {
            "gridcolor": "white",
            "linecolor": "white",
            "ticks": ""
           },
           "bgcolor": "#E5ECF6",
           "radialaxis": {
            "gridcolor": "white",
            "linecolor": "white",
            "ticks": ""
           }
          },
          "scene": {
           "xaxis": {
            "backgroundcolor": "#E5ECF6",
            "gridcolor": "white",
            "gridwidth": 2,
            "linecolor": "white",
            "showbackground": true,
            "ticks": "",
            "zerolinecolor": "white"
           },
           "yaxis": {
            "backgroundcolor": "#E5ECF6",
            "gridcolor": "white",
            "gridwidth": 2,
            "linecolor": "white",
            "showbackground": true,
            "ticks": "",
            "zerolinecolor": "white"
           },
           "zaxis": {
            "backgroundcolor": "#E5ECF6",
            "gridcolor": "white",
            "gridwidth": 2,
            "linecolor": "white",
            "showbackground": true,
            "ticks": "",
            "zerolinecolor": "white"
           }
          },
          "shapedefaults": {
           "line": {
            "color": "#2a3f5f"
           }
          },
          "ternary": {
           "aaxis": {
            "gridcolor": "white",
            "linecolor": "white",
            "ticks": ""
           },
           "baxis": {
            "gridcolor": "white",
            "linecolor": "white",
            "ticks": ""
           },
           "bgcolor": "#E5ECF6",
           "caxis": {
            "gridcolor": "white",
            "linecolor": "white",
            "ticks": ""
           }
          },
          "title": {
           "x": 0.05
          },
          "xaxis": {
           "automargin": true,
           "gridcolor": "white",
           "linecolor": "white",
           "ticks": "",
           "title": {
            "standoff": 15
           },
           "zerolinecolor": "white",
           "zerolinewidth": 2
          },
          "yaxis": {
           "automargin": true,
           "gridcolor": "white",
           "linecolor": "white",
           "ticks": "",
           "title": {
            "standoff": 15
           },
           "zerolinecolor": "white",
           "zerolinewidth": 2
          }
         }
        },
        "title": {
         "text": "Word Count Plots"
        },
        "width": 600,
        "xaxis": {
         "anchor": "y",
         "domain": [
          0,
          1
         ]
        },
        "yaxis": {
         "anchor": "x",
         "domain": [
          0,
          1
         ]
        }
       }
      },
      "text/html": [
       "<div>                            <div id=\"7edb7e98-2945-4b48-b72e-56791eae05df\" class=\"plotly-graph-div\" style=\"height:600px; width:600px;\"></div>            <script type=\"text/javascript\">                require([\"plotly\"], function(Plotly) {                    window.PLOTLYENV=window.PLOTLYENV || {};                                    if (document.getElementById(\"7edb7e98-2945-4b48-b72e-56791eae05df\")) {                    Plotly.newPlot(                        \"7edb7e98-2945-4b48-b72e-56791eae05df\",                        [{\"marker\":{\"color\":\"green\"},\"orientation\":\"h\",\"showlegend\":false,\"x\":[11,11,11,11,18,18,18,18,29,29],\"xaxis\":\"x\",\"y\":[\"More Than Broader\",\"Than Broader Markets\",\"Broader Markets What\",\"Markets What You\",\"Gains As Market\",\"As Market Dips\",\"Market Dips What\",\"Dips What You\",\"What You Should\",\"You Should Know\"],\"yaxis\":\"y\",\"type\":\"bar\"}],                        {\"annotations\":[{\"font\":{\"size\":16},\"showarrow\":false,\"text\":\"Frequent words\",\"x\":0.5,\"xanchor\":\"center\",\"xref\":\"paper\",\"y\":1.0,\"yanchor\":\"bottom\",\"yref\":\"paper\"}],\"height\":600,\"paper_bgcolor\":\"rgb(233,233,233)\",\"template\":{\"data\":{\"barpolar\":[{\"marker\":{\"line\":{\"color\":\"#E5ECF6\",\"width\":0.5},\"pattern\":{\"fillmode\":\"overlay\",\"size\":10,\"solidity\":0.2}},\"type\":\"barpolar\"}],\"bar\":[{\"error_x\":{\"color\":\"#2a3f5f\"},\"error_y\":{\"color\":\"#2a3f5f\"},\"marker\":{\"line\":{\"color\":\"#E5ECF6\",\"width\":0.5},\"pattern\":{\"fillmode\":\"overlay\",\"size\":10,\"solidity\":0.2}},\"type\":\"bar\"}],\"carpet\":[{\"aaxis\":{\"endlinecolor\":\"#2a3f5f\",\"gridcolor\":\"white\",\"linecolor\":\"white\",\"minorgridcolor\":\"white\",\"startlinecolor\":\"#2a3f5f\"},\"baxis\":{\"endlinecolor\":\"#2a3f5f\",\"gridcolor\":\"white\",\"linecolor\":\"white\",\"minorgridcolor\":\"white\",\"startlinecolor\":\"#2a3f5f\"},\"type\":\"carpet\"}],\"choropleth\":[{\"colorbar\":{\"outlinewidth\":0,\"ticks\":\"\"},\"type\":\"choropleth\"}],\"contourcarpet\":[{\"colorbar\":{\"outlinewidth\":0,\"ticks\":\"\"},\"type\":\"contourcarpet\"}],\"contour\":[{\"colorbar\":{\"outlinewidth\":0,\"ticks\":\"\"},\"colorscale\":[[0.0,\"#0d0887\"],[0.1111111111111111,\"#46039f\"],[0.2222222222222222,\"#7201a8\"],[0.3333333333333333,\"#9c179e\"],[0.4444444444444444,\"#bd3786\"],[0.5555555555555556,\"#d8576b\"],[0.6666666666666666,\"#ed7953\"],[0.7777777777777778,\"#fb9f3a\"],[0.8888888888888888,\"#fdca26\"],[1.0,\"#f0f921\"]],\"type\":\"contour\"}],\"heatmapgl\":[{\"colorbar\":{\"outlinewidth\":0,\"ticks\":\"\"},\"colorscale\":[[0.0,\"#0d0887\"],[0.1111111111111111,\"#46039f\"],[0.2222222222222222,\"#7201a8\"],[0.3333333333333333,\"#9c179e\"],[0.4444444444444444,\"#bd3786\"],[0.5555555555555556,\"#d8576b\"],[0.6666666666666666,\"#ed7953\"],[0.7777777777777778,\"#fb9f3a\"],[0.8888888888888888,\"#fdca26\"],[1.0,\"#f0f921\"]],\"type\":\"heatmapgl\"}],\"heatmap\":[{\"colorbar\":{\"outlinewidth\":0,\"ticks\":\"\"},\"colorscale\":[[0.0,\"#0d0887\"],[0.1111111111111111,\"#46039f\"],[0.2222222222222222,\"#7201a8\"],[0.3333333333333333,\"#9c179e\"],[0.4444444444444444,\"#bd3786\"],[0.5555555555555556,\"#d8576b\"],[0.6666666666666666,\"#ed7953\"],[0.7777777777777778,\"#fb9f3a\"],[0.8888888888888888,\"#fdca26\"],[1.0,\"#f0f921\"]],\"type\":\"heatmap\"}],\"histogram2dcontour\":[{\"colorbar\":{\"outlinewidth\":0,\"ticks\":\"\"},\"colorscale\":[[0.0,\"#0d0887\"],[0.1111111111111111,\"#46039f\"],[0.2222222222222222,\"#7201a8\"],[0.3333333333333333,\"#9c179e\"],[0.4444444444444444,\"#bd3786\"],[0.5555555555555556,\"#d8576b\"],[0.6666666666666666,\"#ed7953\"],[0.7777777777777778,\"#fb9f3a\"],[0.8888888888888888,\"#fdca26\"],[1.0,\"#f0f921\"]],\"type\":\"histogram2dcontour\"}],\"histogram2d\":[{\"colorbar\":{\"outlinewidth\":0,\"ticks\":\"\"},\"colorscale\":[[0.0,\"#0d0887\"],[0.1111111111111111,\"#46039f\"],[0.2222222222222222,\"#7201a8\"],[0.3333333333333333,\"#9c179e\"],[0.4444444444444444,\"#bd3786\"],[0.5555555555555556,\"#d8576b\"],[0.6666666666666666,\"#ed7953\"],[0.7777777777777778,\"#fb9f3a\"],[0.8888888888888888,\"#fdca26\"],[1.0,\"#f0f921\"]],\"type\":\"histogram2d\"}],\"histogram\":[{\"marker\":{\"pattern\":{\"fillmode\":\"overlay\",\"size\":10,\"solidity\":0.2}},\"type\":\"histogram\"}],\"mesh3d\":[{\"colorbar\":{\"outlinewidth\":0,\"ticks\":\"\"},\"type\":\"mesh3d\"}],\"parcoords\":[{\"line\":{\"colorbar\":{\"outlinewidth\":0,\"ticks\":\"\"}},\"type\":\"parcoords\"}],\"pie\":[{\"automargin\":true,\"type\":\"pie\"}],\"scatter3d\":[{\"line\":{\"colorbar\":{\"outlinewidth\":0,\"ticks\":\"\"}},\"marker\":{\"colorbar\":{\"outlinewidth\":0,\"ticks\":\"\"}},\"type\":\"scatter3d\"}],\"scattercarpet\":[{\"marker\":{\"colorbar\":{\"outlinewidth\":0,\"ticks\":\"\"}},\"type\":\"scattercarpet\"}],\"scattergeo\":[{\"marker\":{\"colorbar\":{\"outlinewidth\":0,\"ticks\":\"\"}},\"type\":\"scattergeo\"}],\"scattergl\":[{\"marker\":{\"colorbar\":{\"outlinewidth\":0,\"ticks\":\"\"}},\"type\":\"scattergl\"}],\"scattermapbox\":[{\"marker\":{\"colorbar\":{\"outlinewidth\":0,\"ticks\":\"\"}},\"type\":\"scattermapbox\"}],\"scatterpolargl\":[{\"marker\":{\"colorbar\":{\"outlinewidth\":0,\"ticks\":\"\"}},\"type\":\"scatterpolargl\"}],\"scatterpolar\":[{\"marker\":{\"colorbar\":{\"outlinewidth\":0,\"ticks\":\"\"}},\"type\":\"scatterpolar\"}],\"scatter\":[{\"fillpattern\":{\"fillmode\":\"overlay\",\"size\":10,\"solidity\":0.2},\"type\":\"scatter\"}],\"scatterternary\":[{\"marker\":{\"colorbar\":{\"outlinewidth\":0,\"ticks\":\"\"}},\"type\":\"scatterternary\"}],\"surface\":[{\"colorbar\":{\"outlinewidth\":0,\"ticks\":\"\"},\"colorscale\":[[0.0,\"#0d0887\"],[0.1111111111111111,\"#46039f\"],[0.2222222222222222,\"#7201a8\"],[0.3333333333333333,\"#9c179e\"],[0.4444444444444444,\"#bd3786\"],[0.5555555555555556,\"#d8576b\"],[0.6666666666666666,\"#ed7953\"],[0.7777777777777778,\"#fb9f3a\"],[0.8888888888888888,\"#fdca26\"],[1.0,\"#f0f921\"]],\"type\":\"surface\"}],\"table\":[{\"cells\":{\"fill\":{\"color\":\"#EBF0F8\"},\"line\":{\"color\":\"white\"}},\"header\":{\"fill\":{\"color\":\"#C8D4E3\"},\"line\":{\"color\":\"white\"}},\"type\":\"table\"}]},\"layout\":{\"annotationdefaults\":{\"arrowcolor\":\"#2a3f5f\",\"arrowhead\":0,\"arrowwidth\":1},\"autotypenumbers\":\"strict\",\"coloraxis\":{\"colorbar\":{\"outlinewidth\":0,\"ticks\":\"\"}},\"colorscale\":{\"diverging\":[[0,\"#8e0152\"],[0.1,\"#c51b7d\"],[0.2,\"#de77ae\"],[0.3,\"#f1b6da\"],[0.4,\"#fde0ef\"],[0.5,\"#f7f7f7\"],[0.6,\"#e6f5d0\"],[0.7,\"#b8e186\"],[0.8,\"#7fbc41\"],[0.9,\"#4d9221\"],[1,\"#276419\"]],\"sequential\":[[0.0,\"#0d0887\"],[0.1111111111111111,\"#46039f\"],[0.2222222222222222,\"#7201a8\"],[0.3333333333333333,\"#9c179e\"],[0.4444444444444444,\"#bd3786\"],[0.5555555555555556,\"#d8576b\"],[0.6666666666666666,\"#ed7953\"],[0.7777777777777778,\"#fb9f3a\"],[0.8888888888888888,\"#fdca26\"],[1.0,\"#f0f921\"]],\"sequentialminus\":[[0.0,\"#0d0887\"],[0.1111111111111111,\"#46039f\"],[0.2222222222222222,\"#7201a8\"],[0.3333333333333333,\"#9c179e\"],[0.4444444444444444,\"#bd3786\"],[0.5555555555555556,\"#d8576b\"],[0.6666666666666666,\"#ed7953\"],[0.7777777777777778,\"#fb9f3a\"],[0.8888888888888888,\"#fdca26\"],[1.0,\"#f0f921\"]]},\"colorway\":[\"#636efa\",\"#EF553B\",\"#00cc96\",\"#ab63fa\",\"#FFA15A\",\"#19d3f3\",\"#FF6692\",\"#B6E880\",\"#FF97FF\",\"#FECB52\"],\"font\":{\"color\":\"#2a3f5f\"},\"geo\":{\"bgcolor\":\"white\",\"lakecolor\":\"white\",\"landcolor\":\"#E5ECF6\",\"showlakes\":true,\"showland\":true,\"subunitcolor\":\"white\"},\"hoverlabel\":{\"align\":\"left\"},\"hovermode\":\"closest\",\"mapbox\":{\"style\":\"light\"},\"paper_bgcolor\":\"white\",\"plot_bgcolor\":\"#E5ECF6\",\"polar\":{\"angularaxis\":{\"gridcolor\":\"white\",\"linecolor\":\"white\",\"ticks\":\"\"},\"bgcolor\":\"#E5ECF6\",\"radialaxis\":{\"gridcolor\":\"white\",\"linecolor\":\"white\",\"ticks\":\"\"}},\"scene\":{\"xaxis\":{\"backgroundcolor\":\"#E5ECF6\",\"gridcolor\":\"white\",\"gridwidth\":2,\"linecolor\":\"white\",\"showbackground\":true,\"ticks\":\"\",\"zerolinecolor\":\"white\"},\"yaxis\":{\"backgroundcolor\":\"#E5ECF6\",\"gridcolor\":\"white\",\"gridwidth\":2,\"linecolor\":\"white\",\"showbackground\":true,\"ticks\":\"\",\"zerolinecolor\":\"white\"},\"zaxis\":{\"backgroundcolor\":\"#E5ECF6\",\"gridcolor\":\"white\",\"gridwidth\":2,\"linecolor\":\"white\",\"showbackground\":true,\"ticks\":\"\",\"zerolinecolor\":\"white\"}},\"shapedefaults\":{\"line\":{\"color\":\"#2a3f5f\"}},\"ternary\":{\"aaxis\":{\"gridcolor\":\"white\",\"linecolor\":\"white\",\"ticks\":\"\"},\"baxis\":{\"gridcolor\":\"white\",\"linecolor\":\"white\",\"ticks\":\"\"},\"bgcolor\":\"#E5ECF6\",\"caxis\":{\"gridcolor\":\"white\",\"linecolor\":\"white\",\"ticks\":\"\"}},\"title\":{\"x\":0.05},\"xaxis\":{\"automargin\":true,\"gridcolor\":\"white\",\"linecolor\":\"white\",\"ticks\":\"\",\"title\":{\"standoff\":15},\"zerolinecolor\":\"white\",\"zerolinewidth\":2},\"yaxis\":{\"automargin\":true,\"gridcolor\":\"white\",\"linecolor\":\"white\",\"ticks\":\"\",\"title\":{\"standoff\":15},\"zerolinecolor\":\"white\",\"zerolinewidth\":2}}},\"title\":{\"text\":\"Word Count Plots\"},\"width\":600,\"xaxis\":{\"anchor\":\"y\",\"domain\":[0.0,1.0]},\"yaxis\":{\"anchor\":\"x\",\"domain\":[0.0,1.0]}},                        {\"responsive\": true}                    ).then(function(){\n",
       "                            \n",
       "var gd = document.getElementById('7edb7e98-2945-4b48-b72e-56791eae05df');\n",
       "var x = new MutationObserver(function (mutations, observer) {{\n",
       "        var display = window.getComputedStyle(gd).display;\n",
       "        if (!display || display === 'none') {{\n",
       "            console.log([gd, 'removed!']);\n",
       "            Plotly.purge(gd);\n",
       "            observer.disconnect();\n",
       "        }}\n",
       "}});\n",
       "\n",
       "// Listen for the removal of the full notebook cells\n",
       "var notebookContainer = gd.closest('#notebook-container');\n",
       "if (notebookContainer) {{\n",
       "    x.observe(notebookContainer, {childList: true});\n",
       "}}\n",
       "\n",
       "// Listen for the clearing of the current output cell\n",
       "var outputEl = gd.closest('.output');\n",
       "if (outputEl) {{\n",
       "    x.observe(outputEl, {childList: true});\n",
       "}}\n",
       "\n",
       "                        })                };                });            </script>        </div>"
      ]
     },
     "metadata": {},
     "output_type": "display_data"
    }
   ],
   "source": [
    "## Get the bar chart from 5 rated reviews ##\n",
    "freq_dict = defaultdict(int)\n",
    "for sent in news_df[\"headline\"]:\n",
    "    for word in generate_ngrams(sent,3):\n",
    "        freq_dict[word] += 1\n",
    "fd_sorted = pd.DataFrame(sorted(freq_dict.items(), key=lambda x: x[1])[::-1])\n",
    "fd_sorted.columns = [\"word\", \"wordcount\"]\n",
    "trace0 = horizontal_bar_chart(fd_sorted.head(10), 'green')\n",
    "\n",
    "# Creating two subplots\n",
    "fig = tools.make_subplots(rows=1, cols=1, vertical_spacing=0.04,\n",
    "                          subplot_titles=[\"Frequent words\"])\n",
    "fig.append_trace(trace0, 1, 1)\n",
    "#fig.append_trace(trace1, 1, 2)\n",
    "fig['layout'].update(height=600, width=600, paper_bgcolor='rgb(233,233,233)', title=\"Word Count Plots\")\n",
    "py.iplot(fig, filename='word-plots');"
   ]
  },
  {
   "cell_type": "code",
   "execution_count": 174,
   "metadata": {},
   "outputs": [
    {
     "data": {
      "application/vnd.plotly.v1+json": {
       "config": {
        "linkText": "Export to plot.ly",
        "plotlyServerURL": "https://plot.ly",
        "showLink": false
       },
       "data": [
        {
         "marker": {
          "color": "green"
         },
         "orientation": "h",
         "showlegend": false,
         "type": "bar",
         "x": [
          11,
          11,
          11,
          18,
          18,
          18,
          18,
          29,
          29,
          29
         ],
         "xaxis": "x",
         "y": [
          "Than Broader",
          "Broader Markets",
          "Markets What",
          "Gains As",
          "As Market",
          "Market Dips",
          "Dips What",
          "What You",
          "You Should",
          "Should Know"
         ],
         "yaxis": "y"
        }
       ],
       "layout": {
        "annotations": [
         {
          "font": {
           "size": 16
          },
          "showarrow": false,
          "text": "Frequent words",
          "x": 0.5,
          "xanchor": "center",
          "xref": "paper",
          "y": 1,
          "yanchor": "bottom",
          "yref": "paper"
         }
        ],
        "height": 600,
        "paper_bgcolor": "rgb(233,233,233)",
        "template": {
         "data": {
          "bar": [
           {
            "error_x": {
             "color": "#2a3f5f"
            },
            "error_y": {
             "color": "#2a3f5f"
            },
            "marker": {
             "line": {
              "color": "#E5ECF6",
              "width": 0.5
             },
             "pattern": {
              "fillmode": "overlay",
              "size": 10,
              "solidity": 0.2
             }
            },
            "type": "bar"
           }
          ],
          "barpolar": [
           {
            "marker": {
             "line": {
              "color": "#E5ECF6",
              "width": 0.5
             },
             "pattern": {
              "fillmode": "overlay",
              "size": 10,
              "solidity": 0.2
             }
            },
            "type": "barpolar"
           }
          ],
          "carpet": [
           {
            "aaxis": {
             "endlinecolor": "#2a3f5f",
             "gridcolor": "white",
             "linecolor": "white",
             "minorgridcolor": "white",
             "startlinecolor": "#2a3f5f"
            },
            "baxis": {
             "endlinecolor": "#2a3f5f",
             "gridcolor": "white",
             "linecolor": "white",
             "minorgridcolor": "white",
             "startlinecolor": "#2a3f5f"
            },
            "type": "carpet"
           }
          ],
          "choropleth": [
           {
            "colorbar": {
             "outlinewidth": 0,
             "ticks": ""
            },
            "type": "choropleth"
           }
          ],
          "contour": [
           {
            "colorbar": {
             "outlinewidth": 0,
             "ticks": ""
            },
            "colorscale": [
             [
              0,
              "#0d0887"
             ],
             [
              0.1111111111111111,
              "#46039f"
             ],
             [
              0.2222222222222222,
              "#7201a8"
             ],
             [
              0.3333333333333333,
              "#9c179e"
             ],
             [
              0.4444444444444444,
              "#bd3786"
             ],
             [
              0.5555555555555556,
              "#d8576b"
             ],
             [
              0.6666666666666666,
              "#ed7953"
             ],
             [
              0.7777777777777778,
              "#fb9f3a"
             ],
             [
              0.8888888888888888,
              "#fdca26"
             ],
             [
              1,
              "#f0f921"
             ]
            ],
            "type": "contour"
           }
          ],
          "contourcarpet": [
           {
            "colorbar": {
             "outlinewidth": 0,
             "ticks": ""
            },
            "type": "contourcarpet"
           }
          ],
          "heatmap": [
           {
            "colorbar": {
             "outlinewidth": 0,
             "ticks": ""
            },
            "colorscale": [
             [
              0,
              "#0d0887"
             ],
             [
              0.1111111111111111,
              "#46039f"
             ],
             [
              0.2222222222222222,
              "#7201a8"
             ],
             [
              0.3333333333333333,
              "#9c179e"
             ],
             [
              0.4444444444444444,
              "#bd3786"
             ],
             [
              0.5555555555555556,
              "#d8576b"
             ],
             [
              0.6666666666666666,
              "#ed7953"
             ],
             [
              0.7777777777777778,
              "#fb9f3a"
             ],
             [
              0.8888888888888888,
              "#fdca26"
             ],
             [
              1,
              "#f0f921"
             ]
            ],
            "type": "heatmap"
           }
          ],
          "heatmapgl": [
           {
            "colorbar": {
             "outlinewidth": 0,
             "ticks": ""
            },
            "colorscale": [
             [
              0,
              "#0d0887"
             ],
             [
              0.1111111111111111,
              "#46039f"
             ],
             [
              0.2222222222222222,
              "#7201a8"
             ],
             [
              0.3333333333333333,
              "#9c179e"
             ],
             [
              0.4444444444444444,
              "#bd3786"
             ],
             [
              0.5555555555555556,
              "#d8576b"
             ],
             [
              0.6666666666666666,
              "#ed7953"
             ],
             [
              0.7777777777777778,
              "#fb9f3a"
             ],
             [
              0.8888888888888888,
              "#fdca26"
             ],
             [
              1,
              "#f0f921"
             ]
            ],
            "type": "heatmapgl"
           }
          ],
          "histogram": [
           {
            "marker": {
             "pattern": {
              "fillmode": "overlay",
              "size": 10,
              "solidity": 0.2
             }
            },
            "type": "histogram"
           }
          ],
          "histogram2d": [
           {
            "colorbar": {
             "outlinewidth": 0,
             "ticks": ""
            },
            "colorscale": [
             [
              0,
              "#0d0887"
             ],
             [
              0.1111111111111111,
              "#46039f"
             ],
             [
              0.2222222222222222,
              "#7201a8"
             ],
             [
              0.3333333333333333,
              "#9c179e"
             ],
             [
              0.4444444444444444,
              "#bd3786"
             ],
             [
              0.5555555555555556,
              "#d8576b"
             ],
             [
              0.6666666666666666,
              "#ed7953"
             ],
             [
              0.7777777777777778,
              "#fb9f3a"
             ],
             [
              0.8888888888888888,
              "#fdca26"
             ],
             [
              1,
              "#f0f921"
             ]
            ],
            "type": "histogram2d"
           }
          ],
          "histogram2dcontour": [
           {
            "colorbar": {
             "outlinewidth": 0,
             "ticks": ""
            },
            "colorscale": [
             [
              0,
              "#0d0887"
             ],
             [
              0.1111111111111111,
              "#46039f"
             ],
             [
              0.2222222222222222,
              "#7201a8"
             ],
             [
              0.3333333333333333,
              "#9c179e"
             ],
             [
              0.4444444444444444,
              "#bd3786"
             ],
             [
              0.5555555555555556,
              "#d8576b"
             ],
             [
              0.6666666666666666,
              "#ed7953"
             ],
             [
              0.7777777777777778,
              "#fb9f3a"
             ],
             [
              0.8888888888888888,
              "#fdca26"
             ],
             [
              1,
              "#f0f921"
             ]
            ],
            "type": "histogram2dcontour"
           }
          ],
          "mesh3d": [
           {
            "colorbar": {
             "outlinewidth": 0,
             "ticks": ""
            },
            "type": "mesh3d"
           }
          ],
          "parcoords": [
           {
            "line": {
             "colorbar": {
              "outlinewidth": 0,
              "ticks": ""
             }
            },
            "type": "parcoords"
           }
          ],
          "pie": [
           {
            "automargin": true,
            "type": "pie"
           }
          ],
          "scatter": [
           {
            "fillpattern": {
             "fillmode": "overlay",
             "size": 10,
             "solidity": 0.2
            },
            "type": "scatter"
           }
          ],
          "scatter3d": [
           {
            "line": {
             "colorbar": {
              "outlinewidth": 0,
              "ticks": ""
             }
            },
            "marker": {
             "colorbar": {
              "outlinewidth": 0,
              "ticks": ""
             }
            },
            "type": "scatter3d"
           }
          ],
          "scattercarpet": [
           {
            "marker": {
             "colorbar": {
              "outlinewidth": 0,
              "ticks": ""
             }
            },
            "type": "scattercarpet"
           }
          ],
          "scattergeo": [
           {
            "marker": {
             "colorbar": {
              "outlinewidth": 0,
              "ticks": ""
             }
            },
            "type": "scattergeo"
           }
          ],
          "scattergl": [
           {
            "marker": {
             "colorbar": {
              "outlinewidth": 0,
              "ticks": ""
             }
            },
            "type": "scattergl"
           }
          ],
          "scattermapbox": [
           {
            "marker": {
             "colorbar": {
              "outlinewidth": 0,
              "ticks": ""
             }
            },
            "type": "scattermapbox"
           }
          ],
          "scatterpolar": [
           {
            "marker": {
             "colorbar": {
              "outlinewidth": 0,
              "ticks": ""
             }
            },
            "type": "scatterpolar"
           }
          ],
          "scatterpolargl": [
           {
            "marker": {
             "colorbar": {
              "outlinewidth": 0,
              "ticks": ""
             }
            },
            "type": "scatterpolargl"
           }
          ],
          "scatterternary": [
           {
            "marker": {
             "colorbar": {
              "outlinewidth": 0,
              "ticks": ""
             }
            },
            "type": "scatterternary"
           }
          ],
          "surface": [
           {
            "colorbar": {
             "outlinewidth": 0,
             "ticks": ""
            },
            "colorscale": [
             [
              0,
              "#0d0887"
             ],
             [
              0.1111111111111111,
              "#46039f"
             ],
             [
              0.2222222222222222,
              "#7201a8"
             ],
             [
              0.3333333333333333,
              "#9c179e"
             ],
             [
              0.4444444444444444,
              "#bd3786"
             ],
             [
              0.5555555555555556,
              "#d8576b"
             ],
             [
              0.6666666666666666,
              "#ed7953"
             ],
             [
              0.7777777777777778,
              "#fb9f3a"
             ],
             [
              0.8888888888888888,
              "#fdca26"
             ],
             [
              1,
              "#f0f921"
             ]
            ],
            "type": "surface"
           }
          ],
          "table": [
           {
            "cells": {
             "fill": {
              "color": "#EBF0F8"
             },
             "line": {
              "color": "white"
             }
            },
            "header": {
             "fill": {
              "color": "#C8D4E3"
             },
             "line": {
              "color": "white"
             }
            },
            "type": "table"
           }
          ]
         },
         "layout": {
          "annotationdefaults": {
           "arrowcolor": "#2a3f5f",
           "arrowhead": 0,
           "arrowwidth": 1
          },
          "autotypenumbers": "strict",
          "coloraxis": {
           "colorbar": {
            "outlinewidth": 0,
            "ticks": ""
           }
          },
          "colorscale": {
           "diverging": [
            [
             0,
             "#8e0152"
            ],
            [
             0.1,
             "#c51b7d"
            ],
            [
             0.2,
             "#de77ae"
            ],
            [
             0.3,
             "#f1b6da"
            ],
            [
             0.4,
             "#fde0ef"
            ],
            [
             0.5,
             "#f7f7f7"
            ],
            [
             0.6,
             "#e6f5d0"
            ],
            [
             0.7,
             "#b8e186"
            ],
            [
             0.8,
             "#7fbc41"
            ],
            [
             0.9,
             "#4d9221"
            ],
            [
             1,
             "#276419"
            ]
           ],
           "sequential": [
            [
             0,
             "#0d0887"
            ],
            [
             0.1111111111111111,
             "#46039f"
            ],
            [
             0.2222222222222222,
             "#7201a8"
            ],
            [
             0.3333333333333333,
             "#9c179e"
            ],
            [
             0.4444444444444444,
             "#bd3786"
            ],
            [
             0.5555555555555556,
             "#d8576b"
            ],
            [
             0.6666666666666666,
             "#ed7953"
            ],
            [
             0.7777777777777778,
             "#fb9f3a"
            ],
            [
             0.8888888888888888,
             "#fdca26"
            ],
            [
             1,
             "#f0f921"
            ]
           ],
           "sequentialminus": [
            [
             0,
             "#0d0887"
            ],
            [
             0.1111111111111111,
             "#46039f"
            ],
            [
             0.2222222222222222,
             "#7201a8"
            ],
            [
             0.3333333333333333,
             "#9c179e"
            ],
            [
             0.4444444444444444,
             "#bd3786"
            ],
            [
             0.5555555555555556,
             "#d8576b"
            ],
            [
             0.6666666666666666,
             "#ed7953"
            ],
            [
             0.7777777777777778,
             "#fb9f3a"
            ],
            [
             0.8888888888888888,
             "#fdca26"
            ],
            [
             1,
             "#f0f921"
            ]
           ]
          },
          "colorway": [
           "#636efa",
           "#EF553B",
           "#00cc96",
           "#ab63fa",
           "#FFA15A",
           "#19d3f3",
           "#FF6692",
           "#B6E880",
           "#FF97FF",
           "#FECB52"
          ],
          "font": {
           "color": "#2a3f5f"
          },
          "geo": {
           "bgcolor": "white",
           "lakecolor": "white",
           "landcolor": "#E5ECF6",
           "showlakes": true,
           "showland": true,
           "subunitcolor": "white"
          },
          "hoverlabel": {
           "align": "left"
          },
          "hovermode": "closest",
          "mapbox": {
           "style": "light"
          },
          "paper_bgcolor": "white",
          "plot_bgcolor": "#E5ECF6",
          "polar": {
           "angularaxis": {
            "gridcolor": "white",
            "linecolor": "white",
            "ticks": ""
           },
           "bgcolor": "#E5ECF6",
           "radialaxis": {
            "gridcolor": "white",
            "linecolor": "white",
            "ticks": ""
           }
          },
          "scene": {
           "xaxis": {
            "backgroundcolor": "#E5ECF6",
            "gridcolor": "white",
            "gridwidth": 2,
            "linecolor": "white",
            "showbackground": true,
            "ticks": "",
            "zerolinecolor": "white"
           },
           "yaxis": {
            "backgroundcolor": "#E5ECF6",
            "gridcolor": "white",
            "gridwidth": 2,
            "linecolor": "white",
            "showbackground": true,
            "ticks": "",
            "zerolinecolor": "white"
           },
           "zaxis": {
            "backgroundcolor": "#E5ECF6",
            "gridcolor": "white",
            "gridwidth": 2,
            "linecolor": "white",
            "showbackground": true,
            "ticks": "",
            "zerolinecolor": "white"
           }
          },
          "shapedefaults": {
           "line": {
            "color": "#2a3f5f"
           }
          },
          "ternary": {
           "aaxis": {
            "gridcolor": "white",
            "linecolor": "white",
            "ticks": ""
           },
           "baxis": {
            "gridcolor": "white",
            "linecolor": "white",
            "ticks": ""
           },
           "bgcolor": "#E5ECF6",
           "caxis": {
            "gridcolor": "white",
            "linecolor": "white",
            "ticks": ""
           }
          },
          "title": {
           "x": 0.05
          },
          "xaxis": {
           "automargin": true,
           "gridcolor": "white",
           "linecolor": "white",
           "ticks": "",
           "title": {
            "standoff": 15
           },
           "zerolinecolor": "white",
           "zerolinewidth": 2
          },
          "yaxis": {
           "automargin": true,
           "gridcolor": "white",
           "linecolor": "white",
           "ticks": "",
           "title": {
            "standoff": 15
           },
           "zerolinecolor": "white",
           "zerolinewidth": 2
          }
         }
        },
        "title": {
         "text": "Word Count Plots"
        },
        "width": 600,
        "xaxis": {
         "anchor": "y",
         "domain": [
          0,
          1
         ]
        },
        "yaxis": {
         "anchor": "x",
         "domain": [
          0,
          1
         ]
        }
       }
      },
      "text/html": [
       "<div>                            <div id=\"bba2437e-06d9-4c36-9d75-c8cc8412930b\" class=\"plotly-graph-div\" style=\"height:600px; width:600px;\"></div>            <script type=\"text/javascript\">                require([\"plotly\"], function(Plotly) {                    window.PLOTLYENV=window.PLOTLYENV || {};                                    if (document.getElementById(\"bba2437e-06d9-4c36-9d75-c8cc8412930b\")) {                    Plotly.newPlot(                        \"bba2437e-06d9-4c36-9d75-c8cc8412930b\",                        [{\"marker\":{\"color\":\"green\"},\"orientation\":\"h\",\"showlegend\":false,\"x\":[11,11,11,18,18,18,18,29,29,29],\"xaxis\":\"x\",\"y\":[\"Than Broader\",\"Broader Markets\",\"Markets What\",\"Gains As\",\"As Market\",\"Market Dips\",\"Dips What\",\"What You\",\"You Should\",\"Should Know\"],\"yaxis\":\"y\",\"type\":\"bar\"}],                        {\"annotations\":[{\"font\":{\"size\":16},\"showarrow\":false,\"text\":\"Frequent words\",\"x\":0.5,\"xanchor\":\"center\",\"xref\":\"paper\",\"y\":1.0,\"yanchor\":\"bottom\",\"yref\":\"paper\"}],\"height\":600,\"paper_bgcolor\":\"rgb(233,233,233)\",\"template\":{\"data\":{\"barpolar\":[{\"marker\":{\"line\":{\"color\":\"#E5ECF6\",\"width\":0.5},\"pattern\":{\"fillmode\":\"overlay\",\"size\":10,\"solidity\":0.2}},\"type\":\"barpolar\"}],\"bar\":[{\"error_x\":{\"color\":\"#2a3f5f\"},\"error_y\":{\"color\":\"#2a3f5f\"},\"marker\":{\"line\":{\"color\":\"#E5ECF6\",\"width\":0.5},\"pattern\":{\"fillmode\":\"overlay\",\"size\":10,\"solidity\":0.2}},\"type\":\"bar\"}],\"carpet\":[{\"aaxis\":{\"endlinecolor\":\"#2a3f5f\",\"gridcolor\":\"white\",\"linecolor\":\"white\",\"minorgridcolor\":\"white\",\"startlinecolor\":\"#2a3f5f\"},\"baxis\":{\"endlinecolor\":\"#2a3f5f\",\"gridcolor\":\"white\",\"linecolor\":\"white\",\"minorgridcolor\":\"white\",\"startlinecolor\":\"#2a3f5f\"},\"type\":\"carpet\"}],\"choropleth\":[{\"colorbar\":{\"outlinewidth\":0,\"ticks\":\"\"},\"type\":\"choropleth\"}],\"contourcarpet\":[{\"colorbar\":{\"outlinewidth\":0,\"ticks\":\"\"},\"type\":\"contourcarpet\"}],\"contour\":[{\"colorbar\":{\"outlinewidth\":0,\"ticks\":\"\"},\"colorscale\":[[0.0,\"#0d0887\"],[0.1111111111111111,\"#46039f\"],[0.2222222222222222,\"#7201a8\"],[0.3333333333333333,\"#9c179e\"],[0.4444444444444444,\"#bd3786\"],[0.5555555555555556,\"#d8576b\"],[0.6666666666666666,\"#ed7953\"],[0.7777777777777778,\"#fb9f3a\"],[0.8888888888888888,\"#fdca26\"],[1.0,\"#f0f921\"]],\"type\":\"contour\"}],\"heatmapgl\":[{\"colorbar\":{\"outlinewidth\":0,\"ticks\":\"\"},\"colorscale\":[[0.0,\"#0d0887\"],[0.1111111111111111,\"#46039f\"],[0.2222222222222222,\"#7201a8\"],[0.3333333333333333,\"#9c179e\"],[0.4444444444444444,\"#bd3786\"],[0.5555555555555556,\"#d8576b\"],[0.6666666666666666,\"#ed7953\"],[0.7777777777777778,\"#fb9f3a\"],[0.8888888888888888,\"#fdca26\"],[1.0,\"#f0f921\"]],\"type\":\"heatmapgl\"}],\"heatmap\":[{\"colorbar\":{\"outlinewidth\":0,\"ticks\":\"\"},\"colorscale\":[[0.0,\"#0d0887\"],[0.1111111111111111,\"#46039f\"],[0.2222222222222222,\"#7201a8\"],[0.3333333333333333,\"#9c179e\"],[0.4444444444444444,\"#bd3786\"],[0.5555555555555556,\"#d8576b\"],[0.6666666666666666,\"#ed7953\"],[0.7777777777777778,\"#fb9f3a\"],[0.8888888888888888,\"#fdca26\"],[1.0,\"#f0f921\"]],\"type\":\"heatmap\"}],\"histogram2dcontour\":[{\"colorbar\":{\"outlinewidth\":0,\"ticks\":\"\"},\"colorscale\":[[0.0,\"#0d0887\"],[0.1111111111111111,\"#46039f\"],[0.2222222222222222,\"#7201a8\"],[0.3333333333333333,\"#9c179e\"],[0.4444444444444444,\"#bd3786\"],[0.5555555555555556,\"#d8576b\"],[0.6666666666666666,\"#ed7953\"],[0.7777777777777778,\"#fb9f3a\"],[0.8888888888888888,\"#fdca26\"],[1.0,\"#f0f921\"]],\"type\":\"histogram2dcontour\"}],\"histogram2d\":[{\"colorbar\":{\"outlinewidth\":0,\"ticks\":\"\"},\"colorscale\":[[0.0,\"#0d0887\"],[0.1111111111111111,\"#46039f\"],[0.2222222222222222,\"#7201a8\"],[0.3333333333333333,\"#9c179e\"],[0.4444444444444444,\"#bd3786\"],[0.5555555555555556,\"#d8576b\"],[0.6666666666666666,\"#ed7953\"],[0.7777777777777778,\"#fb9f3a\"],[0.8888888888888888,\"#fdca26\"],[1.0,\"#f0f921\"]],\"type\":\"histogram2d\"}],\"histogram\":[{\"marker\":{\"pattern\":{\"fillmode\":\"overlay\",\"size\":10,\"solidity\":0.2}},\"type\":\"histogram\"}],\"mesh3d\":[{\"colorbar\":{\"outlinewidth\":0,\"ticks\":\"\"},\"type\":\"mesh3d\"}],\"parcoords\":[{\"line\":{\"colorbar\":{\"outlinewidth\":0,\"ticks\":\"\"}},\"type\":\"parcoords\"}],\"pie\":[{\"automargin\":true,\"type\":\"pie\"}],\"scatter3d\":[{\"line\":{\"colorbar\":{\"outlinewidth\":0,\"ticks\":\"\"}},\"marker\":{\"colorbar\":{\"outlinewidth\":0,\"ticks\":\"\"}},\"type\":\"scatter3d\"}],\"scattercarpet\":[{\"marker\":{\"colorbar\":{\"outlinewidth\":0,\"ticks\":\"\"}},\"type\":\"scattercarpet\"}],\"scattergeo\":[{\"marker\":{\"colorbar\":{\"outlinewidth\":0,\"ticks\":\"\"}},\"type\":\"scattergeo\"}],\"scattergl\":[{\"marker\":{\"colorbar\":{\"outlinewidth\":0,\"ticks\":\"\"}},\"type\":\"scattergl\"}],\"scattermapbox\":[{\"marker\":{\"colorbar\":{\"outlinewidth\":0,\"ticks\":\"\"}},\"type\":\"scattermapbox\"}],\"scatterpolargl\":[{\"marker\":{\"colorbar\":{\"outlinewidth\":0,\"ticks\":\"\"}},\"type\":\"scatterpolargl\"}],\"scatterpolar\":[{\"marker\":{\"colorbar\":{\"outlinewidth\":0,\"ticks\":\"\"}},\"type\":\"scatterpolar\"}],\"scatter\":[{\"fillpattern\":{\"fillmode\":\"overlay\",\"size\":10,\"solidity\":0.2},\"type\":\"scatter\"}],\"scatterternary\":[{\"marker\":{\"colorbar\":{\"outlinewidth\":0,\"ticks\":\"\"}},\"type\":\"scatterternary\"}],\"surface\":[{\"colorbar\":{\"outlinewidth\":0,\"ticks\":\"\"},\"colorscale\":[[0.0,\"#0d0887\"],[0.1111111111111111,\"#46039f\"],[0.2222222222222222,\"#7201a8\"],[0.3333333333333333,\"#9c179e\"],[0.4444444444444444,\"#bd3786\"],[0.5555555555555556,\"#d8576b\"],[0.6666666666666666,\"#ed7953\"],[0.7777777777777778,\"#fb9f3a\"],[0.8888888888888888,\"#fdca26\"],[1.0,\"#f0f921\"]],\"type\":\"surface\"}],\"table\":[{\"cells\":{\"fill\":{\"color\":\"#EBF0F8\"},\"line\":{\"color\":\"white\"}},\"header\":{\"fill\":{\"color\":\"#C8D4E3\"},\"line\":{\"color\":\"white\"}},\"type\":\"table\"}]},\"layout\":{\"annotationdefaults\":{\"arrowcolor\":\"#2a3f5f\",\"arrowhead\":0,\"arrowwidth\":1},\"autotypenumbers\":\"strict\",\"coloraxis\":{\"colorbar\":{\"outlinewidth\":0,\"ticks\":\"\"}},\"colorscale\":{\"diverging\":[[0,\"#8e0152\"],[0.1,\"#c51b7d\"],[0.2,\"#de77ae\"],[0.3,\"#f1b6da\"],[0.4,\"#fde0ef\"],[0.5,\"#f7f7f7\"],[0.6,\"#e6f5d0\"],[0.7,\"#b8e186\"],[0.8,\"#7fbc41\"],[0.9,\"#4d9221\"],[1,\"#276419\"]],\"sequential\":[[0.0,\"#0d0887\"],[0.1111111111111111,\"#46039f\"],[0.2222222222222222,\"#7201a8\"],[0.3333333333333333,\"#9c179e\"],[0.4444444444444444,\"#bd3786\"],[0.5555555555555556,\"#d8576b\"],[0.6666666666666666,\"#ed7953\"],[0.7777777777777778,\"#fb9f3a\"],[0.8888888888888888,\"#fdca26\"],[1.0,\"#f0f921\"]],\"sequentialminus\":[[0.0,\"#0d0887\"],[0.1111111111111111,\"#46039f\"],[0.2222222222222222,\"#7201a8\"],[0.3333333333333333,\"#9c179e\"],[0.4444444444444444,\"#bd3786\"],[0.5555555555555556,\"#d8576b\"],[0.6666666666666666,\"#ed7953\"],[0.7777777777777778,\"#fb9f3a\"],[0.8888888888888888,\"#fdca26\"],[1.0,\"#f0f921\"]]},\"colorway\":[\"#636efa\",\"#EF553B\",\"#00cc96\",\"#ab63fa\",\"#FFA15A\",\"#19d3f3\",\"#FF6692\",\"#B6E880\",\"#FF97FF\",\"#FECB52\"],\"font\":{\"color\":\"#2a3f5f\"},\"geo\":{\"bgcolor\":\"white\",\"lakecolor\":\"white\",\"landcolor\":\"#E5ECF6\",\"showlakes\":true,\"showland\":true,\"subunitcolor\":\"white\"},\"hoverlabel\":{\"align\":\"left\"},\"hovermode\":\"closest\",\"mapbox\":{\"style\":\"light\"},\"paper_bgcolor\":\"white\",\"plot_bgcolor\":\"#E5ECF6\",\"polar\":{\"angularaxis\":{\"gridcolor\":\"white\",\"linecolor\":\"white\",\"ticks\":\"\"},\"bgcolor\":\"#E5ECF6\",\"radialaxis\":{\"gridcolor\":\"white\",\"linecolor\":\"white\",\"ticks\":\"\"}},\"scene\":{\"xaxis\":{\"backgroundcolor\":\"#E5ECF6\",\"gridcolor\":\"white\",\"gridwidth\":2,\"linecolor\":\"white\",\"showbackground\":true,\"ticks\":\"\",\"zerolinecolor\":\"white\"},\"yaxis\":{\"backgroundcolor\":\"#E5ECF6\",\"gridcolor\":\"white\",\"gridwidth\":2,\"linecolor\":\"white\",\"showbackground\":true,\"ticks\":\"\",\"zerolinecolor\":\"white\"},\"zaxis\":{\"backgroundcolor\":\"#E5ECF6\",\"gridcolor\":\"white\",\"gridwidth\":2,\"linecolor\":\"white\",\"showbackground\":true,\"ticks\":\"\",\"zerolinecolor\":\"white\"}},\"shapedefaults\":{\"line\":{\"color\":\"#2a3f5f\"}},\"ternary\":{\"aaxis\":{\"gridcolor\":\"white\",\"linecolor\":\"white\",\"ticks\":\"\"},\"baxis\":{\"gridcolor\":\"white\",\"linecolor\":\"white\",\"ticks\":\"\"},\"bgcolor\":\"#E5ECF6\",\"caxis\":{\"gridcolor\":\"white\",\"linecolor\":\"white\",\"ticks\":\"\"}},\"title\":{\"x\":0.05},\"xaxis\":{\"automargin\":true,\"gridcolor\":\"white\",\"linecolor\":\"white\",\"ticks\":\"\",\"title\":{\"standoff\":15},\"zerolinecolor\":\"white\",\"zerolinewidth\":2},\"yaxis\":{\"automargin\":true,\"gridcolor\":\"white\",\"linecolor\":\"white\",\"ticks\":\"\",\"title\":{\"standoff\":15},\"zerolinecolor\":\"white\",\"zerolinewidth\":2}}},\"title\":{\"text\":\"Word Count Plots\"},\"width\":600,\"xaxis\":{\"anchor\":\"y\",\"domain\":[0.0,1.0]},\"yaxis\":{\"anchor\":\"x\",\"domain\":[0.0,1.0]}},                        {\"responsive\": true}                    ).then(function(){\n",
       "                            \n",
       "var gd = document.getElementById('bba2437e-06d9-4c36-9d75-c8cc8412930b');\n",
       "var x = new MutationObserver(function (mutations, observer) {{\n",
       "        var display = window.getComputedStyle(gd).display;\n",
       "        if (!display || display === 'none') {{\n",
       "            console.log([gd, 'removed!']);\n",
       "            Plotly.purge(gd);\n",
       "            observer.disconnect();\n",
       "        }}\n",
       "}});\n",
       "\n",
       "// Listen for the removal of the full notebook cells\n",
       "var notebookContainer = gd.closest('#notebook-container');\n",
       "if (notebookContainer) {{\n",
       "    x.observe(notebookContainer, {childList: true});\n",
       "}}\n",
       "\n",
       "// Listen for the clearing of the current output cell\n",
       "var outputEl = gd.closest('.output');\n",
       "if (outputEl) {{\n",
       "    x.observe(outputEl, {childList: true});\n",
       "}}\n",
       "\n",
       "                        })                };                });            </script>        </div>"
      ]
     },
     "metadata": {},
     "output_type": "display_data"
    }
   ],
   "source": [
    "## Get the bar chart from 5 rated reviews ##\n",
    "freq_dict = defaultdict(int)\n",
    "for sent in news_df[\"headline\"]:\n",
    "    for word in generate_ngrams(sent,2):\n",
    "        freq_dict[word] += 1\n",
    "fd_sorted = pd.DataFrame(sorted(freq_dict.items(), key=lambda x: x[1])[::-1])\n",
    "fd_sorted.columns = [\"word\", \"wordcount\"]\n",
    "trace0 = horizontal_bar_chart(fd_sorted.head(10), 'green')\n",
    "\n",
    "# Creating two subplots\n",
    "fig = tools.make_subplots(rows=1, cols=1, vertical_spacing=0.04,\n",
    "                          subplot_titles=[\"Frequent words\"])\n",
    "fig.append_trace(trace0, 1, 1)\n",
    "#fig.append_trace(trace1, 1, 2)\n",
    "fig['layout'].update(height=600, width=600, paper_bgcolor='rgb(233,233,233)', title=\"Word Count Plots\")\n",
    "py.iplot(fig, filename='word-plots');"
   ]
  },
  {
   "attachments": {},
   "cell_type": "markdown",
   "metadata": {},
   "source": [
    "## Content"
   ]
  },
  {
   "cell_type": "code",
   "execution_count": 175,
   "metadata": {},
   "outputs": [
    {
     "data": {
      "application/vnd.plotly.v1+json": {
       "config": {
        "linkText": "Export to plot.ly",
        "plotlyServerURL": "https://plot.ly",
        "showLink": false
       },
       "data": [
        {
         "marker": {
          "color": "green"
         },
         "orientation": "h",
         "showlegend": false,
         "type": "bar",
         "x": [
          2,
          2,
          2,
          2,
          2,
          2,
          2,
          6,
          11,
          12
         ],
         "xaxis": "x",
         "y": [
          "Study SaysBe Careful Here",
          "SaysBe Careful Here Come",
          "Careful Here Come Predictions",
          "trading session marking +122",
          "session marking +122 move",
          "marking +122 move prior",
          "+122 move prior day",
          "In latest trading session",
          "latest trading session marking",
          "closed recent trading day"
         ],
         "yaxis": "y"
        }
       ],
       "layout": {
        "annotations": [
         {
          "font": {
           "size": 16
          },
          "showarrow": false,
          "text": "Frequent words",
          "x": 0.5,
          "xanchor": "center",
          "xref": "paper",
          "y": 1,
          "yanchor": "bottom",
          "yref": "paper"
         }
        ],
        "height": 600,
        "paper_bgcolor": "rgb(233,233,233)",
        "template": {
         "data": {
          "bar": [
           {
            "error_x": {
             "color": "#2a3f5f"
            },
            "error_y": {
             "color": "#2a3f5f"
            },
            "marker": {
             "line": {
              "color": "#E5ECF6",
              "width": 0.5
             },
             "pattern": {
              "fillmode": "overlay",
              "size": 10,
              "solidity": 0.2
             }
            },
            "type": "bar"
           }
          ],
          "barpolar": [
           {
            "marker": {
             "line": {
              "color": "#E5ECF6",
              "width": 0.5
             },
             "pattern": {
              "fillmode": "overlay",
              "size": 10,
              "solidity": 0.2
             }
            },
            "type": "barpolar"
           }
          ],
          "carpet": [
           {
            "aaxis": {
             "endlinecolor": "#2a3f5f",
             "gridcolor": "white",
             "linecolor": "white",
             "minorgridcolor": "white",
             "startlinecolor": "#2a3f5f"
            },
            "baxis": {
             "endlinecolor": "#2a3f5f",
             "gridcolor": "white",
             "linecolor": "white",
             "minorgridcolor": "white",
             "startlinecolor": "#2a3f5f"
            },
            "type": "carpet"
           }
          ],
          "choropleth": [
           {
            "colorbar": {
             "outlinewidth": 0,
             "ticks": ""
            },
            "type": "choropleth"
           }
          ],
          "contour": [
           {
            "colorbar": {
             "outlinewidth": 0,
             "ticks": ""
            },
            "colorscale": [
             [
              0,
              "#0d0887"
             ],
             [
              0.1111111111111111,
              "#46039f"
             ],
             [
              0.2222222222222222,
              "#7201a8"
             ],
             [
              0.3333333333333333,
              "#9c179e"
             ],
             [
              0.4444444444444444,
              "#bd3786"
             ],
             [
              0.5555555555555556,
              "#d8576b"
             ],
             [
              0.6666666666666666,
              "#ed7953"
             ],
             [
              0.7777777777777778,
              "#fb9f3a"
             ],
             [
              0.8888888888888888,
              "#fdca26"
             ],
             [
              1,
              "#f0f921"
             ]
            ],
            "type": "contour"
           }
          ],
          "contourcarpet": [
           {
            "colorbar": {
             "outlinewidth": 0,
             "ticks": ""
            },
            "type": "contourcarpet"
           }
          ],
          "heatmap": [
           {
            "colorbar": {
             "outlinewidth": 0,
             "ticks": ""
            },
            "colorscale": [
             [
              0,
              "#0d0887"
             ],
             [
              0.1111111111111111,
              "#46039f"
             ],
             [
              0.2222222222222222,
              "#7201a8"
             ],
             [
              0.3333333333333333,
              "#9c179e"
             ],
             [
              0.4444444444444444,
              "#bd3786"
             ],
             [
              0.5555555555555556,
              "#d8576b"
             ],
             [
              0.6666666666666666,
              "#ed7953"
             ],
             [
              0.7777777777777778,
              "#fb9f3a"
             ],
             [
              0.8888888888888888,
              "#fdca26"
             ],
             [
              1,
              "#f0f921"
             ]
            ],
            "type": "heatmap"
           }
          ],
          "heatmapgl": [
           {
            "colorbar": {
             "outlinewidth": 0,
             "ticks": ""
            },
            "colorscale": [
             [
              0,
              "#0d0887"
             ],
             [
              0.1111111111111111,
              "#46039f"
             ],
             [
              0.2222222222222222,
              "#7201a8"
             ],
             [
              0.3333333333333333,
              "#9c179e"
             ],
             [
              0.4444444444444444,
              "#bd3786"
             ],
             [
              0.5555555555555556,
              "#d8576b"
             ],
             [
              0.6666666666666666,
              "#ed7953"
             ],
             [
              0.7777777777777778,
              "#fb9f3a"
             ],
             [
              0.8888888888888888,
              "#fdca26"
             ],
             [
              1,
              "#f0f921"
             ]
            ],
            "type": "heatmapgl"
           }
          ],
          "histogram": [
           {
            "marker": {
             "pattern": {
              "fillmode": "overlay",
              "size": 10,
              "solidity": 0.2
             }
            },
            "type": "histogram"
           }
          ],
          "histogram2d": [
           {
            "colorbar": {
             "outlinewidth": 0,
             "ticks": ""
            },
            "colorscale": [
             [
              0,
              "#0d0887"
             ],
             [
              0.1111111111111111,
              "#46039f"
             ],
             [
              0.2222222222222222,
              "#7201a8"
             ],
             [
              0.3333333333333333,
              "#9c179e"
             ],
             [
              0.4444444444444444,
              "#bd3786"
             ],
             [
              0.5555555555555556,
              "#d8576b"
             ],
             [
              0.6666666666666666,
              "#ed7953"
             ],
             [
              0.7777777777777778,
              "#fb9f3a"
             ],
             [
              0.8888888888888888,
              "#fdca26"
             ],
             [
              1,
              "#f0f921"
             ]
            ],
            "type": "histogram2d"
           }
          ],
          "histogram2dcontour": [
           {
            "colorbar": {
             "outlinewidth": 0,
             "ticks": ""
            },
            "colorscale": [
             [
              0,
              "#0d0887"
             ],
             [
              0.1111111111111111,
              "#46039f"
             ],
             [
              0.2222222222222222,
              "#7201a8"
             ],
             [
              0.3333333333333333,
              "#9c179e"
             ],
             [
              0.4444444444444444,
              "#bd3786"
             ],
             [
              0.5555555555555556,
              "#d8576b"
             ],
             [
              0.6666666666666666,
              "#ed7953"
             ],
             [
              0.7777777777777778,
              "#fb9f3a"
             ],
             [
              0.8888888888888888,
              "#fdca26"
             ],
             [
              1,
              "#f0f921"
             ]
            ],
            "type": "histogram2dcontour"
           }
          ],
          "mesh3d": [
           {
            "colorbar": {
             "outlinewidth": 0,
             "ticks": ""
            },
            "type": "mesh3d"
           }
          ],
          "parcoords": [
           {
            "line": {
             "colorbar": {
              "outlinewidth": 0,
              "ticks": ""
             }
            },
            "type": "parcoords"
           }
          ],
          "pie": [
           {
            "automargin": true,
            "type": "pie"
           }
          ],
          "scatter": [
           {
            "fillpattern": {
             "fillmode": "overlay",
             "size": 10,
             "solidity": 0.2
            },
            "type": "scatter"
           }
          ],
          "scatter3d": [
           {
            "line": {
             "colorbar": {
              "outlinewidth": 0,
              "ticks": ""
             }
            },
            "marker": {
             "colorbar": {
              "outlinewidth": 0,
              "ticks": ""
             }
            },
            "type": "scatter3d"
           }
          ],
          "scattercarpet": [
           {
            "marker": {
             "colorbar": {
              "outlinewidth": 0,
              "ticks": ""
             }
            },
            "type": "scattercarpet"
           }
          ],
          "scattergeo": [
           {
            "marker": {
             "colorbar": {
              "outlinewidth": 0,
              "ticks": ""
             }
            },
            "type": "scattergeo"
           }
          ],
          "scattergl": [
           {
            "marker": {
             "colorbar": {
              "outlinewidth": 0,
              "ticks": ""
             }
            },
            "type": "scattergl"
           }
          ],
          "scattermapbox": [
           {
            "marker": {
             "colorbar": {
              "outlinewidth": 0,
              "ticks": ""
             }
            },
            "type": "scattermapbox"
           }
          ],
          "scatterpolar": [
           {
            "marker": {
             "colorbar": {
              "outlinewidth": 0,
              "ticks": ""
             }
            },
            "type": "scatterpolar"
           }
          ],
          "scatterpolargl": [
           {
            "marker": {
             "colorbar": {
              "outlinewidth": 0,
              "ticks": ""
             }
            },
            "type": "scatterpolargl"
           }
          ],
          "scatterternary": [
           {
            "marker": {
             "colorbar": {
              "outlinewidth": 0,
              "ticks": ""
             }
            },
            "type": "scatterternary"
           }
          ],
          "surface": [
           {
            "colorbar": {
             "outlinewidth": 0,
             "ticks": ""
            },
            "colorscale": [
             [
              0,
              "#0d0887"
             ],
             [
              0.1111111111111111,
              "#46039f"
             ],
             [
              0.2222222222222222,
              "#7201a8"
             ],
             [
              0.3333333333333333,
              "#9c179e"
             ],
             [
              0.4444444444444444,
              "#bd3786"
             ],
             [
              0.5555555555555556,
              "#d8576b"
             ],
             [
              0.6666666666666666,
              "#ed7953"
             ],
             [
              0.7777777777777778,
              "#fb9f3a"
             ],
             [
              0.8888888888888888,
              "#fdca26"
             ],
             [
              1,
              "#f0f921"
             ]
            ],
            "type": "surface"
           }
          ],
          "table": [
           {
            "cells": {
             "fill": {
              "color": "#EBF0F8"
             },
             "line": {
              "color": "white"
             }
            },
            "header": {
             "fill": {
              "color": "#C8D4E3"
             },
             "line": {
              "color": "white"
             }
            },
            "type": "table"
           }
          ]
         },
         "layout": {
          "annotationdefaults": {
           "arrowcolor": "#2a3f5f",
           "arrowhead": 0,
           "arrowwidth": 1
          },
          "autotypenumbers": "strict",
          "coloraxis": {
           "colorbar": {
            "outlinewidth": 0,
            "ticks": ""
           }
          },
          "colorscale": {
           "diverging": [
            [
             0,
             "#8e0152"
            ],
            [
             0.1,
             "#c51b7d"
            ],
            [
             0.2,
             "#de77ae"
            ],
            [
             0.3,
             "#f1b6da"
            ],
            [
             0.4,
             "#fde0ef"
            ],
            [
             0.5,
             "#f7f7f7"
            ],
            [
             0.6,
             "#e6f5d0"
            ],
            [
             0.7,
             "#b8e186"
            ],
            [
             0.8,
             "#7fbc41"
            ],
            [
             0.9,
             "#4d9221"
            ],
            [
             1,
             "#276419"
            ]
           ],
           "sequential": [
            [
             0,
             "#0d0887"
            ],
            [
             0.1111111111111111,
             "#46039f"
            ],
            [
             0.2222222222222222,
             "#7201a8"
            ],
            [
             0.3333333333333333,
             "#9c179e"
            ],
            [
             0.4444444444444444,
             "#bd3786"
            ],
            [
             0.5555555555555556,
             "#d8576b"
            ],
            [
             0.6666666666666666,
             "#ed7953"
            ],
            [
             0.7777777777777778,
             "#fb9f3a"
            ],
            [
             0.8888888888888888,
             "#fdca26"
            ],
            [
             1,
             "#f0f921"
            ]
           ],
           "sequentialminus": [
            [
             0,
             "#0d0887"
            ],
            [
             0.1111111111111111,
             "#46039f"
            ],
            [
             0.2222222222222222,
             "#7201a8"
            ],
            [
             0.3333333333333333,
             "#9c179e"
            ],
            [
             0.4444444444444444,
             "#bd3786"
            ],
            [
             0.5555555555555556,
             "#d8576b"
            ],
            [
             0.6666666666666666,
             "#ed7953"
            ],
            [
             0.7777777777777778,
             "#fb9f3a"
            ],
            [
             0.8888888888888888,
             "#fdca26"
            ],
            [
             1,
             "#f0f921"
            ]
           ]
          },
          "colorway": [
           "#636efa",
           "#EF553B",
           "#00cc96",
           "#ab63fa",
           "#FFA15A",
           "#19d3f3",
           "#FF6692",
           "#B6E880",
           "#FF97FF",
           "#FECB52"
          ],
          "font": {
           "color": "#2a3f5f"
          },
          "geo": {
           "bgcolor": "white",
           "lakecolor": "white",
           "landcolor": "#E5ECF6",
           "showlakes": true,
           "showland": true,
           "subunitcolor": "white"
          },
          "hoverlabel": {
           "align": "left"
          },
          "hovermode": "closest",
          "mapbox": {
           "style": "light"
          },
          "paper_bgcolor": "white",
          "plot_bgcolor": "#E5ECF6",
          "polar": {
           "angularaxis": {
            "gridcolor": "white",
            "linecolor": "white",
            "ticks": ""
           },
           "bgcolor": "#E5ECF6",
           "radialaxis": {
            "gridcolor": "white",
            "linecolor": "white",
            "ticks": ""
           }
          },
          "scene": {
           "xaxis": {
            "backgroundcolor": "#E5ECF6",
            "gridcolor": "white",
            "gridwidth": 2,
            "linecolor": "white",
            "showbackground": true,
            "ticks": "",
            "zerolinecolor": "white"
           },
           "yaxis": {
            "backgroundcolor": "#E5ECF6",
            "gridcolor": "white",
            "gridwidth": 2,
            "linecolor": "white",
            "showbackground": true,
            "ticks": "",
            "zerolinecolor": "white"
           },
           "zaxis": {
            "backgroundcolor": "#E5ECF6",
            "gridcolor": "white",
            "gridwidth": 2,
            "linecolor": "white",
            "showbackground": true,
            "ticks": "",
            "zerolinecolor": "white"
           }
          },
          "shapedefaults": {
           "line": {
            "color": "#2a3f5f"
           }
          },
          "ternary": {
           "aaxis": {
            "gridcolor": "white",
            "linecolor": "white",
            "ticks": ""
           },
           "baxis": {
            "gridcolor": "white",
            "linecolor": "white",
            "ticks": ""
           },
           "bgcolor": "#E5ECF6",
           "caxis": {
            "gridcolor": "white",
            "linecolor": "white",
            "ticks": ""
           }
          },
          "title": {
           "x": 0.05
          },
          "xaxis": {
           "automargin": true,
           "gridcolor": "white",
           "linecolor": "white",
           "ticks": "",
           "title": {
            "standoff": 15
           },
           "zerolinecolor": "white",
           "zerolinewidth": 2
          },
          "yaxis": {
           "automargin": true,
           "gridcolor": "white",
           "linecolor": "white",
           "ticks": "",
           "title": {
            "standoff": 15
           },
           "zerolinecolor": "white",
           "zerolinewidth": 2
          }
         }
        },
        "title": {
         "text": "Word Count Plots"
        },
        "width": 600,
        "xaxis": {
         "anchor": "y",
         "domain": [
          0,
          1
         ]
        },
        "yaxis": {
         "anchor": "x",
         "domain": [
          0,
          1
         ]
        }
       }
      },
      "text/html": [
       "<div>                            <div id=\"f253a780-3ca8-4fce-82b7-c01e3f23054c\" class=\"plotly-graph-div\" style=\"height:600px; width:600px;\"></div>            <script type=\"text/javascript\">                require([\"plotly\"], function(Plotly) {                    window.PLOTLYENV=window.PLOTLYENV || {};                                    if (document.getElementById(\"f253a780-3ca8-4fce-82b7-c01e3f23054c\")) {                    Plotly.newPlot(                        \"f253a780-3ca8-4fce-82b7-c01e3f23054c\",                        [{\"marker\":{\"color\":\"green\"},\"orientation\":\"h\",\"showlegend\":false,\"x\":[2,2,2,2,2,2,2,6,11,12],\"xaxis\":\"x\",\"y\":[\"Study SaysBe Careful Here\",\"SaysBe Careful Here Come\",\"Careful Here Come Predictions\",\"trading session marking +122\",\"session marking +122 move\",\"marking +122 move prior\",\"+122 move prior day\",\"In latest trading session\",\"latest trading session marking\",\"closed recent trading day\"],\"yaxis\":\"y\",\"type\":\"bar\"}],                        {\"annotations\":[{\"font\":{\"size\":16},\"showarrow\":false,\"text\":\"Frequent words\",\"x\":0.5,\"xanchor\":\"center\",\"xref\":\"paper\",\"y\":1.0,\"yanchor\":\"bottom\",\"yref\":\"paper\"}],\"height\":600,\"paper_bgcolor\":\"rgb(233,233,233)\",\"template\":{\"data\":{\"barpolar\":[{\"marker\":{\"line\":{\"color\":\"#E5ECF6\",\"width\":0.5},\"pattern\":{\"fillmode\":\"overlay\",\"size\":10,\"solidity\":0.2}},\"type\":\"barpolar\"}],\"bar\":[{\"error_x\":{\"color\":\"#2a3f5f\"},\"error_y\":{\"color\":\"#2a3f5f\"},\"marker\":{\"line\":{\"color\":\"#E5ECF6\",\"width\":0.5},\"pattern\":{\"fillmode\":\"overlay\",\"size\":10,\"solidity\":0.2}},\"type\":\"bar\"}],\"carpet\":[{\"aaxis\":{\"endlinecolor\":\"#2a3f5f\",\"gridcolor\":\"white\",\"linecolor\":\"white\",\"minorgridcolor\":\"white\",\"startlinecolor\":\"#2a3f5f\"},\"baxis\":{\"endlinecolor\":\"#2a3f5f\",\"gridcolor\":\"white\",\"linecolor\":\"white\",\"minorgridcolor\":\"white\",\"startlinecolor\":\"#2a3f5f\"},\"type\":\"carpet\"}],\"choropleth\":[{\"colorbar\":{\"outlinewidth\":0,\"ticks\":\"\"},\"type\":\"choropleth\"}],\"contourcarpet\":[{\"colorbar\":{\"outlinewidth\":0,\"ticks\":\"\"},\"type\":\"contourcarpet\"}],\"contour\":[{\"colorbar\":{\"outlinewidth\":0,\"ticks\":\"\"},\"colorscale\":[[0.0,\"#0d0887\"],[0.1111111111111111,\"#46039f\"],[0.2222222222222222,\"#7201a8\"],[0.3333333333333333,\"#9c179e\"],[0.4444444444444444,\"#bd3786\"],[0.5555555555555556,\"#d8576b\"],[0.6666666666666666,\"#ed7953\"],[0.7777777777777778,\"#fb9f3a\"],[0.8888888888888888,\"#fdca26\"],[1.0,\"#f0f921\"]],\"type\":\"contour\"}],\"heatmapgl\":[{\"colorbar\":{\"outlinewidth\":0,\"ticks\":\"\"},\"colorscale\":[[0.0,\"#0d0887\"],[0.1111111111111111,\"#46039f\"],[0.2222222222222222,\"#7201a8\"],[0.3333333333333333,\"#9c179e\"],[0.4444444444444444,\"#bd3786\"],[0.5555555555555556,\"#d8576b\"],[0.6666666666666666,\"#ed7953\"],[0.7777777777777778,\"#fb9f3a\"],[0.8888888888888888,\"#fdca26\"],[1.0,\"#f0f921\"]],\"type\":\"heatmapgl\"}],\"heatmap\":[{\"colorbar\":{\"outlinewidth\":0,\"ticks\":\"\"},\"colorscale\":[[0.0,\"#0d0887\"],[0.1111111111111111,\"#46039f\"],[0.2222222222222222,\"#7201a8\"],[0.3333333333333333,\"#9c179e\"],[0.4444444444444444,\"#bd3786\"],[0.5555555555555556,\"#d8576b\"],[0.6666666666666666,\"#ed7953\"],[0.7777777777777778,\"#fb9f3a\"],[0.8888888888888888,\"#fdca26\"],[1.0,\"#f0f921\"]],\"type\":\"heatmap\"}],\"histogram2dcontour\":[{\"colorbar\":{\"outlinewidth\":0,\"ticks\":\"\"},\"colorscale\":[[0.0,\"#0d0887\"],[0.1111111111111111,\"#46039f\"],[0.2222222222222222,\"#7201a8\"],[0.3333333333333333,\"#9c179e\"],[0.4444444444444444,\"#bd3786\"],[0.5555555555555556,\"#d8576b\"],[0.6666666666666666,\"#ed7953\"],[0.7777777777777778,\"#fb9f3a\"],[0.8888888888888888,\"#fdca26\"],[1.0,\"#f0f921\"]],\"type\":\"histogram2dcontour\"}],\"histogram2d\":[{\"colorbar\":{\"outlinewidth\":0,\"ticks\":\"\"},\"colorscale\":[[0.0,\"#0d0887\"],[0.1111111111111111,\"#46039f\"],[0.2222222222222222,\"#7201a8\"],[0.3333333333333333,\"#9c179e\"],[0.4444444444444444,\"#bd3786\"],[0.5555555555555556,\"#d8576b\"],[0.6666666666666666,\"#ed7953\"],[0.7777777777777778,\"#fb9f3a\"],[0.8888888888888888,\"#fdca26\"],[1.0,\"#f0f921\"]],\"type\":\"histogram2d\"}],\"histogram\":[{\"marker\":{\"pattern\":{\"fillmode\":\"overlay\",\"size\":10,\"solidity\":0.2}},\"type\":\"histogram\"}],\"mesh3d\":[{\"colorbar\":{\"outlinewidth\":0,\"ticks\":\"\"},\"type\":\"mesh3d\"}],\"parcoords\":[{\"line\":{\"colorbar\":{\"outlinewidth\":0,\"ticks\":\"\"}},\"type\":\"parcoords\"}],\"pie\":[{\"automargin\":true,\"type\":\"pie\"}],\"scatter3d\":[{\"line\":{\"colorbar\":{\"outlinewidth\":0,\"ticks\":\"\"}},\"marker\":{\"colorbar\":{\"outlinewidth\":0,\"ticks\":\"\"}},\"type\":\"scatter3d\"}],\"scattercarpet\":[{\"marker\":{\"colorbar\":{\"outlinewidth\":0,\"ticks\":\"\"}},\"type\":\"scattercarpet\"}],\"scattergeo\":[{\"marker\":{\"colorbar\":{\"outlinewidth\":0,\"ticks\":\"\"}},\"type\":\"scattergeo\"}],\"scattergl\":[{\"marker\":{\"colorbar\":{\"outlinewidth\":0,\"ticks\":\"\"}},\"type\":\"scattergl\"}],\"scattermapbox\":[{\"marker\":{\"colorbar\":{\"outlinewidth\":0,\"ticks\":\"\"}},\"type\":\"scattermapbox\"}],\"scatterpolargl\":[{\"marker\":{\"colorbar\":{\"outlinewidth\":0,\"ticks\":\"\"}},\"type\":\"scatterpolargl\"}],\"scatterpolar\":[{\"marker\":{\"colorbar\":{\"outlinewidth\":0,\"ticks\":\"\"}},\"type\":\"scatterpolar\"}],\"scatter\":[{\"fillpattern\":{\"fillmode\":\"overlay\",\"size\":10,\"solidity\":0.2},\"type\":\"scatter\"}],\"scatterternary\":[{\"marker\":{\"colorbar\":{\"outlinewidth\":0,\"ticks\":\"\"}},\"type\":\"scatterternary\"}],\"surface\":[{\"colorbar\":{\"outlinewidth\":0,\"ticks\":\"\"},\"colorscale\":[[0.0,\"#0d0887\"],[0.1111111111111111,\"#46039f\"],[0.2222222222222222,\"#7201a8\"],[0.3333333333333333,\"#9c179e\"],[0.4444444444444444,\"#bd3786\"],[0.5555555555555556,\"#d8576b\"],[0.6666666666666666,\"#ed7953\"],[0.7777777777777778,\"#fb9f3a\"],[0.8888888888888888,\"#fdca26\"],[1.0,\"#f0f921\"]],\"type\":\"surface\"}],\"table\":[{\"cells\":{\"fill\":{\"color\":\"#EBF0F8\"},\"line\":{\"color\":\"white\"}},\"header\":{\"fill\":{\"color\":\"#C8D4E3\"},\"line\":{\"color\":\"white\"}},\"type\":\"table\"}]},\"layout\":{\"annotationdefaults\":{\"arrowcolor\":\"#2a3f5f\",\"arrowhead\":0,\"arrowwidth\":1},\"autotypenumbers\":\"strict\",\"coloraxis\":{\"colorbar\":{\"outlinewidth\":0,\"ticks\":\"\"}},\"colorscale\":{\"diverging\":[[0,\"#8e0152\"],[0.1,\"#c51b7d\"],[0.2,\"#de77ae\"],[0.3,\"#f1b6da\"],[0.4,\"#fde0ef\"],[0.5,\"#f7f7f7\"],[0.6,\"#e6f5d0\"],[0.7,\"#b8e186\"],[0.8,\"#7fbc41\"],[0.9,\"#4d9221\"],[1,\"#276419\"]],\"sequential\":[[0.0,\"#0d0887\"],[0.1111111111111111,\"#46039f\"],[0.2222222222222222,\"#7201a8\"],[0.3333333333333333,\"#9c179e\"],[0.4444444444444444,\"#bd3786\"],[0.5555555555555556,\"#d8576b\"],[0.6666666666666666,\"#ed7953\"],[0.7777777777777778,\"#fb9f3a\"],[0.8888888888888888,\"#fdca26\"],[1.0,\"#f0f921\"]],\"sequentialminus\":[[0.0,\"#0d0887\"],[0.1111111111111111,\"#46039f\"],[0.2222222222222222,\"#7201a8\"],[0.3333333333333333,\"#9c179e\"],[0.4444444444444444,\"#bd3786\"],[0.5555555555555556,\"#d8576b\"],[0.6666666666666666,\"#ed7953\"],[0.7777777777777778,\"#fb9f3a\"],[0.8888888888888888,\"#fdca26\"],[1.0,\"#f0f921\"]]},\"colorway\":[\"#636efa\",\"#EF553B\",\"#00cc96\",\"#ab63fa\",\"#FFA15A\",\"#19d3f3\",\"#FF6692\",\"#B6E880\",\"#FF97FF\",\"#FECB52\"],\"font\":{\"color\":\"#2a3f5f\"},\"geo\":{\"bgcolor\":\"white\",\"lakecolor\":\"white\",\"landcolor\":\"#E5ECF6\",\"showlakes\":true,\"showland\":true,\"subunitcolor\":\"white\"},\"hoverlabel\":{\"align\":\"left\"},\"hovermode\":\"closest\",\"mapbox\":{\"style\":\"light\"},\"paper_bgcolor\":\"white\",\"plot_bgcolor\":\"#E5ECF6\",\"polar\":{\"angularaxis\":{\"gridcolor\":\"white\",\"linecolor\":\"white\",\"ticks\":\"\"},\"bgcolor\":\"#E5ECF6\",\"radialaxis\":{\"gridcolor\":\"white\",\"linecolor\":\"white\",\"ticks\":\"\"}},\"scene\":{\"xaxis\":{\"backgroundcolor\":\"#E5ECF6\",\"gridcolor\":\"white\",\"gridwidth\":2,\"linecolor\":\"white\",\"showbackground\":true,\"ticks\":\"\",\"zerolinecolor\":\"white\"},\"yaxis\":{\"backgroundcolor\":\"#E5ECF6\",\"gridcolor\":\"white\",\"gridwidth\":2,\"linecolor\":\"white\",\"showbackground\":true,\"ticks\":\"\",\"zerolinecolor\":\"white\"},\"zaxis\":{\"backgroundcolor\":\"#E5ECF6\",\"gridcolor\":\"white\",\"gridwidth\":2,\"linecolor\":\"white\",\"showbackground\":true,\"ticks\":\"\",\"zerolinecolor\":\"white\"}},\"shapedefaults\":{\"line\":{\"color\":\"#2a3f5f\"}},\"ternary\":{\"aaxis\":{\"gridcolor\":\"white\",\"linecolor\":\"white\",\"ticks\":\"\"},\"baxis\":{\"gridcolor\":\"white\",\"linecolor\":\"white\",\"ticks\":\"\"},\"bgcolor\":\"#E5ECF6\",\"caxis\":{\"gridcolor\":\"white\",\"linecolor\":\"white\",\"ticks\":\"\"}},\"title\":{\"x\":0.05},\"xaxis\":{\"automargin\":true,\"gridcolor\":\"white\",\"linecolor\":\"white\",\"ticks\":\"\",\"title\":{\"standoff\":15},\"zerolinecolor\":\"white\",\"zerolinewidth\":2},\"yaxis\":{\"automargin\":true,\"gridcolor\":\"white\",\"linecolor\":\"white\",\"ticks\":\"\",\"title\":{\"standoff\":15},\"zerolinecolor\":\"white\",\"zerolinewidth\":2}}},\"title\":{\"text\":\"Word Count Plots\"},\"width\":600,\"xaxis\":{\"anchor\":\"y\",\"domain\":[0.0,1.0]},\"yaxis\":{\"anchor\":\"x\",\"domain\":[0.0,1.0]}},                        {\"responsive\": true}                    ).then(function(){\n",
       "                            \n",
       "var gd = document.getElementById('f253a780-3ca8-4fce-82b7-c01e3f23054c');\n",
       "var x = new MutationObserver(function (mutations, observer) {{\n",
       "        var display = window.getComputedStyle(gd).display;\n",
       "        if (!display || display === 'none') {{\n",
       "            console.log([gd, 'removed!']);\n",
       "            Plotly.purge(gd);\n",
       "            observer.disconnect();\n",
       "        }}\n",
       "}});\n",
       "\n",
       "// Listen for the removal of the full notebook cells\n",
       "var notebookContainer = gd.closest('#notebook-container');\n",
       "if (notebookContainer) {{\n",
       "    x.observe(notebookContainer, {childList: true});\n",
       "}}\n",
       "\n",
       "// Listen for the clearing of the current output cell\n",
       "var outputEl = gd.closest('.output');\n",
       "if (outputEl) {{\n",
       "    x.observe(outputEl, {childList: true});\n",
       "}}\n",
       "\n",
       "                        })                };                });            </script>        </div>"
      ]
     },
     "metadata": {},
     "output_type": "display_data"
    }
   ],
   "source": [
    "## Get the bar chart from 5 rated reviews ##\n",
    "freq_dict = defaultdict(int)\n",
    "for sent in news_df[\"content\"]:\n",
    "    for word in generate_ngrams(sent,4):\n",
    "        freq_dict[word] += 1\n",
    "fd_sorted = pd.DataFrame(sorted(freq_dict.items(), key=lambda x: x[1])[::-1])\n",
    "fd_sorted.columns = [\"word\", \"wordcount\"]\n",
    "trace0 = horizontal_bar_chart(fd_sorted.head(10), 'green')\n",
    "\n",
    "# Creating two subplots\n",
    "fig = tools.make_subplots(rows=1, cols=1, vertical_spacing=0.04,\n",
    "                          subplot_titles=[\"Frequent words\"])\n",
    "fig.append_trace(trace0, 1, 1)\n",
    "#fig.append_trace(trace1, 1, 2)\n",
    "fig['layout'].update(height=600, width=600, paper_bgcolor='rgb(233,233,233)', title=\"Word Count Plots\")\n",
    "py.iplot(fig, filename='word-plots');"
   ]
  },
  {
   "cell_type": "code",
   "execution_count": 176,
   "metadata": {},
   "outputs": [
    {
     "data": {
      "application/vnd.plotly.v1+json": {
       "config": {
        "linkText": "Export to plot.ly",
        "plotlyServerURL": "https://plot.ly",
        "showLink": false
       },
       "data": [
        {
         "marker": {
          "color": "green"
         },
         "orientation": "h",
         "showlegend": false,
         "type": "bar",
         "x": [
          2,
          2,
          6,
          6,
          11,
          11,
          12,
          12,
          12,
          17
         ],
         "xaxis": "x",
         "y": [
          "marking +122 move",
          "+122 move prior",
          "In latest trading",
          "move previous day",
          "trading session marking",
          "move prior day",
          "closed recent trading",
          "recent trading day",
          "previous trading session",
          "latest trading session"
         ],
         "yaxis": "y"
        }
       ],
       "layout": {
        "annotations": [
         {
          "font": {
           "size": 16
          },
          "showarrow": false,
          "text": "Frequent words",
          "x": 0.5,
          "xanchor": "center",
          "xref": "paper",
          "y": 1,
          "yanchor": "bottom",
          "yref": "paper"
         }
        ],
        "height": 600,
        "paper_bgcolor": "rgb(233,233,233)",
        "template": {
         "data": {
          "bar": [
           {
            "error_x": {
             "color": "#2a3f5f"
            },
            "error_y": {
             "color": "#2a3f5f"
            },
            "marker": {
             "line": {
              "color": "#E5ECF6",
              "width": 0.5
             },
             "pattern": {
              "fillmode": "overlay",
              "size": 10,
              "solidity": 0.2
             }
            },
            "type": "bar"
           }
          ],
          "barpolar": [
           {
            "marker": {
             "line": {
              "color": "#E5ECF6",
              "width": 0.5
             },
             "pattern": {
              "fillmode": "overlay",
              "size": 10,
              "solidity": 0.2
             }
            },
            "type": "barpolar"
           }
          ],
          "carpet": [
           {
            "aaxis": {
             "endlinecolor": "#2a3f5f",
             "gridcolor": "white",
             "linecolor": "white",
             "minorgridcolor": "white",
             "startlinecolor": "#2a3f5f"
            },
            "baxis": {
             "endlinecolor": "#2a3f5f",
             "gridcolor": "white",
             "linecolor": "white",
             "minorgridcolor": "white",
             "startlinecolor": "#2a3f5f"
            },
            "type": "carpet"
           }
          ],
          "choropleth": [
           {
            "colorbar": {
             "outlinewidth": 0,
             "ticks": ""
            },
            "type": "choropleth"
           }
          ],
          "contour": [
           {
            "colorbar": {
             "outlinewidth": 0,
             "ticks": ""
            },
            "colorscale": [
             [
              0,
              "#0d0887"
             ],
             [
              0.1111111111111111,
              "#46039f"
             ],
             [
              0.2222222222222222,
              "#7201a8"
             ],
             [
              0.3333333333333333,
              "#9c179e"
             ],
             [
              0.4444444444444444,
              "#bd3786"
             ],
             [
              0.5555555555555556,
              "#d8576b"
             ],
             [
              0.6666666666666666,
              "#ed7953"
             ],
             [
              0.7777777777777778,
              "#fb9f3a"
             ],
             [
              0.8888888888888888,
              "#fdca26"
             ],
             [
              1,
              "#f0f921"
             ]
            ],
            "type": "contour"
           }
          ],
          "contourcarpet": [
           {
            "colorbar": {
             "outlinewidth": 0,
             "ticks": ""
            },
            "type": "contourcarpet"
           }
          ],
          "heatmap": [
           {
            "colorbar": {
             "outlinewidth": 0,
             "ticks": ""
            },
            "colorscale": [
             [
              0,
              "#0d0887"
             ],
             [
              0.1111111111111111,
              "#46039f"
             ],
             [
              0.2222222222222222,
              "#7201a8"
             ],
             [
              0.3333333333333333,
              "#9c179e"
             ],
             [
              0.4444444444444444,
              "#bd3786"
             ],
             [
              0.5555555555555556,
              "#d8576b"
             ],
             [
              0.6666666666666666,
              "#ed7953"
             ],
             [
              0.7777777777777778,
              "#fb9f3a"
             ],
             [
              0.8888888888888888,
              "#fdca26"
             ],
             [
              1,
              "#f0f921"
             ]
            ],
            "type": "heatmap"
           }
          ],
          "heatmapgl": [
           {
            "colorbar": {
             "outlinewidth": 0,
             "ticks": ""
            },
            "colorscale": [
             [
              0,
              "#0d0887"
             ],
             [
              0.1111111111111111,
              "#46039f"
             ],
             [
              0.2222222222222222,
              "#7201a8"
             ],
             [
              0.3333333333333333,
              "#9c179e"
             ],
             [
              0.4444444444444444,
              "#bd3786"
             ],
             [
              0.5555555555555556,
              "#d8576b"
             ],
             [
              0.6666666666666666,
              "#ed7953"
             ],
             [
              0.7777777777777778,
              "#fb9f3a"
             ],
             [
              0.8888888888888888,
              "#fdca26"
             ],
             [
              1,
              "#f0f921"
             ]
            ],
            "type": "heatmapgl"
           }
          ],
          "histogram": [
           {
            "marker": {
             "pattern": {
              "fillmode": "overlay",
              "size": 10,
              "solidity": 0.2
             }
            },
            "type": "histogram"
           }
          ],
          "histogram2d": [
           {
            "colorbar": {
             "outlinewidth": 0,
             "ticks": ""
            },
            "colorscale": [
             [
              0,
              "#0d0887"
             ],
             [
              0.1111111111111111,
              "#46039f"
             ],
             [
              0.2222222222222222,
              "#7201a8"
             ],
             [
              0.3333333333333333,
              "#9c179e"
             ],
             [
              0.4444444444444444,
              "#bd3786"
             ],
             [
              0.5555555555555556,
              "#d8576b"
             ],
             [
              0.6666666666666666,
              "#ed7953"
             ],
             [
              0.7777777777777778,
              "#fb9f3a"
             ],
             [
              0.8888888888888888,
              "#fdca26"
             ],
             [
              1,
              "#f0f921"
             ]
            ],
            "type": "histogram2d"
           }
          ],
          "histogram2dcontour": [
           {
            "colorbar": {
             "outlinewidth": 0,
             "ticks": ""
            },
            "colorscale": [
             [
              0,
              "#0d0887"
             ],
             [
              0.1111111111111111,
              "#46039f"
             ],
             [
              0.2222222222222222,
              "#7201a8"
             ],
             [
              0.3333333333333333,
              "#9c179e"
             ],
             [
              0.4444444444444444,
              "#bd3786"
             ],
             [
              0.5555555555555556,
              "#d8576b"
             ],
             [
              0.6666666666666666,
              "#ed7953"
             ],
             [
              0.7777777777777778,
              "#fb9f3a"
             ],
             [
              0.8888888888888888,
              "#fdca26"
             ],
             [
              1,
              "#f0f921"
             ]
            ],
            "type": "histogram2dcontour"
           }
          ],
          "mesh3d": [
           {
            "colorbar": {
             "outlinewidth": 0,
             "ticks": ""
            },
            "type": "mesh3d"
           }
          ],
          "parcoords": [
           {
            "line": {
             "colorbar": {
              "outlinewidth": 0,
              "ticks": ""
             }
            },
            "type": "parcoords"
           }
          ],
          "pie": [
           {
            "automargin": true,
            "type": "pie"
           }
          ],
          "scatter": [
           {
            "fillpattern": {
             "fillmode": "overlay",
             "size": 10,
             "solidity": 0.2
            },
            "type": "scatter"
           }
          ],
          "scatter3d": [
           {
            "line": {
             "colorbar": {
              "outlinewidth": 0,
              "ticks": ""
             }
            },
            "marker": {
             "colorbar": {
              "outlinewidth": 0,
              "ticks": ""
             }
            },
            "type": "scatter3d"
           }
          ],
          "scattercarpet": [
           {
            "marker": {
             "colorbar": {
              "outlinewidth": 0,
              "ticks": ""
             }
            },
            "type": "scattercarpet"
           }
          ],
          "scattergeo": [
           {
            "marker": {
             "colorbar": {
              "outlinewidth": 0,
              "ticks": ""
             }
            },
            "type": "scattergeo"
           }
          ],
          "scattergl": [
           {
            "marker": {
             "colorbar": {
              "outlinewidth": 0,
              "ticks": ""
             }
            },
            "type": "scattergl"
           }
          ],
          "scattermapbox": [
           {
            "marker": {
             "colorbar": {
              "outlinewidth": 0,
              "ticks": ""
             }
            },
            "type": "scattermapbox"
           }
          ],
          "scatterpolar": [
           {
            "marker": {
             "colorbar": {
              "outlinewidth": 0,
              "ticks": ""
             }
            },
            "type": "scatterpolar"
           }
          ],
          "scatterpolargl": [
           {
            "marker": {
             "colorbar": {
              "outlinewidth": 0,
              "ticks": ""
             }
            },
            "type": "scatterpolargl"
           }
          ],
          "scatterternary": [
           {
            "marker": {
             "colorbar": {
              "outlinewidth": 0,
              "ticks": ""
             }
            },
            "type": "scatterternary"
           }
          ],
          "surface": [
           {
            "colorbar": {
             "outlinewidth": 0,
             "ticks": ""
            },
            "colorscale": [
             [
              0,
              "#0d0887"
             ],
             [
              0.1111111111111111,
              "#46039f"
             ],
             [
              0.2222222222222222,
              "#7201a8"
             ],
             [
              0.3333333333333333,
              "#9c179e"
             ],
             [
              0.4444444444444444,
              "#bd3786"
             ],
             [
              0.5555555555555556,
              "#d8576b"
             ],
             [
              0.6666666666666666,
              "#ed7953"
             ],
             [
              0.7777777777777778,
              "#fb9f3a"
             ],
             [
              0.8888888888888888,
              "#fdca26"
             ],
             [
              1,
              "#f0f921"
             ]
            ],
            "type": "surface"
           }
          ],
          "table": [
           {
            "cells": {
             "fill": {
              "color": "#EBF0F8"
             },
             "line": {
              "color": "white"
             }
            },
            "header": {
             "fill": {
              "color": "#C8D4E3"
             },
             "line": {
              "color": "white"
             }
            },
            "type": "table"
           }
          ]
         },
         "layout": {
          "annotationdefaults": {
           "arrowcolor": "#2a3f5f",
           "arrowhead": 0,
           "arrowwidth": 1
          },
          "autotypenumbers": "strict",
          "coloraxis": {
           "colorbar": {
            "outlinewidth": 0,
            "ticks": ""
           }
          },
          "colorscale": {
           "diverging": [
            [
             0,
             "#8e0152"
            ],
            [
             0.1,
             "#c51b7d"
            ],
            [
             0.2,
             "#de77ae"
            ],
            [
             0.3,
             "#f1b6da"
            ],
            [
             0.4,
             "#fde0ef"
            ],
            [
             0.5,
             "#f7f7f7"
            ],
            [
             0.6,
             "#e6f5d0"
            ],
            [
             0.7,
             "#b8e186"
            ],
            [
             0.8,
             "#7fbc41"
            ],
            [
             0.9,
             "#4d9221"
            ],
            [
             1,
             "#276419"
            ]
           ],
           "sequential": [
            [
             0,
             "#0d0887"
            ],
            [
             0.1111111111111111,
             "#46039f"
            ],
            [
             0.2222222222222222,
             "#7201a8"
            ],
            [
             0.3333333333333333,
             "#9c179e"
            ],
            [
             0.4444444444444444,
             "#bd3786"
            ],
            [
             0.5555555555555556,
             "#d8576b"
            ],
            [
             0.6666666666666666,
             "#ed7953"
            ],
            [
             0.7777777777777778,
             "#fb9f3a"
            ],
            [
             0.8888888888888888,
             "#fdca26"
            ],
            [
             1,
             "#f0f921"
            ]
           ],
           "sequentialminus": [
            [
             0,
             "#0d0887"
            ],
            [
             0.1111111111111111,
             "#46039f"
            ],
            [
             0.2222222222222222,
             "#7201a8"
            ],
            [
             0.3333333333333333,
             "#9c179e"
            ],
            [
             0.4444444444444444,
             "#bd3786"
            ],
            [
             0.5555555555555556,
             "#d8576b"
            ],
            [
             0.6666666666666666,
             "#ed7953"
            ],
            [
             0.7777777777777778,
             "#fb9f3a"
            ],
            [
             0.8888888888888888,
             "#fdca26"
            ],
            [
             1,
             "#f0f921"
            ]
           ]
          },
          "colorway": [
           "#636efa",
           "#EF553B",
           "#00cc96",
           "#ab63fa",
           "#FFA15A",
           "#19d3f3",
           "#FF6692",
           "#B6E880",
           "#FF97FF",
           "#FECB52"
          ],
          "font": {
           "color": "#2a3f5f"
          },
          "geo": {
           "bgcolor": "white",
           "lakecolor": "white",
           "landcolor": "#E5ECF6",
           "showlakes": true,
           "showland": true,
           "subunitcolor": "white"
          },
          "hoverlabel": {
           "align": "left"
          },
          "hovermode": "closest",
          "mapbox": {
           "style": "light"
          },
          "paper_bgcolor": "white",
          "plot_bgcolor": "#E5ECF6",
          "polar": {
           "angularaxis": {
            "gridcolor": "white",
            "linecolor": "white",
            "ticks": ""
           },
           "bgcolor": "#E5ECF6",
           "radialaxis": {
            "gridcolor": "white",
            "linecolor": "white",
            "ticks": ""
           }
          },
          "scene": {
           "xaxis": {
            "backgroundcolor": "#E5ECF6",
            "gridcolor": "white",
            "gridwidth": 2,
            "linecolor": "white",
            "showbackground": true,
            "ticks": "",
            "zerolinecolor": "white"
           },
           "yaxis": {
            "backgroundcolor": "#E5ECF6",
            "gridcolor": "white",
            "gridwidth": 2,
            "linecolor": "white",
            "showbackground": true,
            "ticks": "",
            "zerolinecolor": "white"
           },
           "zaxis": {
            "backgroundcolor": "#E5ECF6",
            "gridcolor": "white",
            "gridwidth": 2,
            "linecolor": "white",
            "showbackground": true,
            "ticks": "",
            "zerolinecolor": "white"
           }
          },
          "shapedefaults": {
           "line": {
            "color": "#2a3f5f"
           }
          },
          "ternary": {
           "aaxis": {
            "gridcolor": "white",
            "linecolor": "white",
            "ticks": ""
           },
           "baxis": {
            "gridcolor": "white",
            "linecolor": "white",
            "ticks": ""
           },
           "bgcolor": "#E5ECF6",
           "caxis": {
            "gridcolor": "white",
            "linecolor": "white",
            "ticks": ""
           }
          },
          "title": {
           "x": 0.05
          },
          "xaxis": {
           "automargin": true,
           "gridcolor": "white",
           "linecolor": "white",
           "ticks": "",
           "title": {
            "standoff": 15
           },
           "zerolinecolor": "white",
           "zerolinewidth": 2
          },
          "yaxis": {
           "automargin": true,
           "gridcolor": "white",
           "linecolor": "white",
           "ticks": "",
           "title": {
            "standoff": 15
           },
           "zerolinecolor": "white",
           "zerolinewidth": 2
          }
         }
        },
        "title": {
         "text": "Word Count Plots"
        },
        "width": 600,
        "xaxis": {
         "anchor": "y",
         "domain": [
          0,
          1
         ]
        },
        "yaxis": {
         "anchor": "x",
         "domain": [
          0,
          1
         ]
        }
       }
      },
      "text/html": [
       "<div>                            <div id=\"4cb6c47f-3476-4461-920b-5b8ce67c8a4a\" class=\"plotly-graph-div\" style=\"height:600px; width:600px;\"></div>            <script type=\"text/javascript\">                require([\"plotly\"], function(Plotly) {                    window.PLOTLYENV=window.PLOTLYENV || {};                                    if (document.getElementById(\"4cb6c47f-3476-4461-920b-5b8ce67c8a4a\")) {                    Plotly.newPlot(                        \"4cb6c47f-3476-4461-920b-5b8ce67c8a4a\",                        [{\"marker\":{\"color\":\"green\"},\"orientation\":\"h\",\"showlegend\":false,\"x\":[2,2,6,6,11,11,12,12,12,17],\"xaxis\":\"x\",\"y\":[\"marking +122 move\",\"+122 move prior\",\"In latest trading\",\"move previous day\",\"trading session marking\",\"move prior day\",\"closed recent trading\",\"recent trading day\",\"previous trading session\",\"latest trading session\"],\"yaxis\":\"y\",\"type\":\"bar\"}],                        {\"annotations\":[{\"font\":{\"size\":16},\"showarrow\":false,\"text\":\"Frequent words\",\"x\":0.5,\"xanchor\":\"center\",\"xref\":\"paper\",\"y\":1.0,\"yanchor\":\"bottom\",\"yref\":\"paper\"}],\"height\":600,\"paper_bgcolor\":\"rgb(233,233,233)\",\"template\":{\"data\":{\"barpolar\":[{\"marker\":{\"line\":{\"color\":\"#E5ECF6\",\"width\":0.5},\"pattern\":{\"fillmode\":\"overlay\",\"size\":10,\"solidity\":0.2}},\"type\":\"barpolar\"}],\"bar\":[{\"error_x\":{\"color\":\"#2a3f5f\"},\"error_y\":{\"color\":\"#2a3f5f\"},\"marker\":{\"line\":{\"color\":\"#E5ECF6\",\"width\":0.5},\"pattern\":{\"fillmode\":\"overlay\",\"size\":10,\"solidity\":0.2}},\"type\":\"bar\"}],\"carpet\":[{\"aaxis\":{\"endlinecolor\":\"#2a3f5f\",\"gridcolor\":\"white\",\"linecolor\":\"white\",\"minorgridcolor\":\"white\",\"startlinecolor\":\"#2a3f5f\"},\"baxis\":{\"endlinecolor\":\"#2a3f5f\",\"gridcolor\":\"white\",\"linecolor\":\"white\",\"minorgridcolor\":\"white\",\"startlinecolor\":\"#2a3f5f\"},\"type\":\"carpet\"}],\"choropleth\":[{\"colorbar\":{\"outlinewidth\":0,\"ticks\":\"\"},\"type\":\"choropleth\"}],\"contourcarpet\":[{\"colorbar\":{\"outlinewidth\":0,\"ticks\":\"\"},\"type\":\"contourcarpet\"}],\"contour\":[{\"colorbar\":{\"outlinewidth\":0,\"ticks\":\"\"},\"colorscale\":[[0.0,\"#0d0887\"],[0.1111111111111111,\"#46039f\"],[0.2222222222222222,\"#7201a8\"],[0.3333333333333333,\"#9c179e\"],[0.4444444444444444,\"#bd3786\"],[0.5555555555555556,\"#d8576b\"],[0.6666666666666666,\"#ed7953\"],[0.7777777777777778,\"#fb9f3a\"],[0.8888888888888888,\"#fdca26\"],[1.0,\"#f0f921\"]],\"type\":\"contour\"}],\"heatmapgl\":[{\"colorbar\":{\"outlinewidth\":0,\"ticks\":\"\"},\"colorscale\":[[0.0,\"#0d0887\"],[0.1111111111111111,\"#46039f\"],[0.2222222222222222,\"#7201a8\"],[0.3333333333333333,\"#9c179e\"],[0.4444444444444444,\"#bd3786\"],[0.5555555555555556,\"#d8576b\"],[0.6666666666666666,\"#ed7953\"],[0.7777777777777778,\"#fb9f3a\"],[0.8888888888888888,\"#fdca26\"],[1.0,\"#f0f921\"]],\"type\":\"heatmapgl\"}],\"heatmap\":[{\"colorbar\":{\"outlinewidth\":0,\"ticks\":\"\"},\"colorscale\":[[0.0,\"#0d0887\"],[0.1111111111111111,\"#46039f\"],[0.2222222222222222,\"#7201a8\"],[0.3333333333333333,\"#9c179e\"],[0.4444444444444444,\"#bd3786\"],[0.5555555555555556,\"#d8576b\"],[0.6666666666666666,\"#ed7953\"],[0.7777777777777778,\"#fb9f3a\"],[0.8888888888888888,\"#fdca26\"],[1.0,\"#f0f921\"]],\"type\":\"heatmap\"}],\"histogram2dcontour\":[{\"colorbar\":{\"outlinewidth\":0,\"ticks\":\"\"},\"colorscale\":[[0.0,\"#0d0887\"],[0.1111111111111111,\"#46039f\"],[0.2222222222222222,\"#7201a8\"],[0.3333333333333333,\"#9c179e\"],[0.4444444444444444,\"#bd3786\"],[0.5555555555555556,\"#d8576b\"],[0.6666666666666666,\"#ed7953\"],[0.7777777777777778,\"#fb9f3a\"],[0.8888888888888888,\"#fdca26\"],[1.0,\"#f0f921\"]],\"type\":\"histogram2dcontour\"}],\"histogram2d\":[{\"colorbar\":{\"outlinewidth\":0,\"ticks\":\"\"},\"colorscale\":[[0.0,\"#0d0887\"],[0.1111111111111111,\"#46039f\"],[0.2222222222222222,\"#7201a8\"],[0.3333333333333333,\"#9c179e\"],[0.4444444444444444,\"#bd3786\"],[0.5555555555555556,\"#d8576b\"],[0.6666666666666666,\"#ed7953\"],[0.7777777777777778,\"#fb9f3a\"],[0.8888888888888888,\"#fdca26\"],[1.0,\"#f0f921\"]],\"type\":\"histogram2d\"}],\"histogram\":[{\"marker\":{\"pattern\":{\"fillmode\":\"overlay\",\"size\":10,\"solidity\":0.2}},\"type\":\"histogram\"}],\"mesh3d\":[{\"colorbar\":{\"outlinewidth\":0,\"ticks\":\"\"},\"type\":\"mesh3d\"}],\"parcoords\":[{\"line\":{\"colorbar\":{\"outlinewidth\":0,\"ticks\":\"\"}},\"type\":\"parcoords\"}],\"pie\":[{\"automargin\":true,\"type\":\"pie\"}],\"scatter3d\":[{\"line\":{\"colorbar\":{\"outlinewidth\":0,\"ticks\":\"\"}},\"marker\":{\"colorbar\":{\"outlinewidth\":0,\"ticks\":\"\"}},\"type\":\"scatter3d\"}],\"scattercarpet\":[{\"marker\":{\"colorbar\":{\"outlinewidth\":0,\"ticks\":\"\"}},\"type\":\"scattercarpet\"}],\"scattergeo\":[{\"marker\":{\"colorbar\":{\"outlinewidth\":0,\"ticks\":\"\"}},\"type\":\"scattergeo\"}],\"scattergl\":[{\"marker\":{\"colorbar\":{\"outlinewidth\":0,\"ticks\":\"\"}},\"type\":\"scattergl\"}],\"scattermapbox\":[{\"marker\":{\"colorbar\":{\"outlinewidth\":0,\"ticks\":\"\"}},\"type\":\"scattermapbox\"}],\"scatterpolargl\":[{\"marker\":{\"colorbar\":{\"outlinewidth\":0,\"ticks\":\"\"}},\"type\":\"scatterpolargl\"}],\"scatterpolar\":[{\"marker\":{\"colorbar\":{\"outlinewidth\":0,\"ticks\":\"\"}},\"type\":\"scatterpolar\"}],\"scatter\":[{\"fillpattern\":{\"fillmode\":\"overlay\",\"size\":10,\"solidity\":0.2},\"type\":\"scatter\"}],\"scatterternary\":[{\"marker\":{\"colorbar\":{\"outlinewidth\":0,\"ticks\":\"\"}},\"type\":\"scatterternary\"}],\"surface\":[{\"colorbar\":{\"outlinewidth\":0,\"ticks\":\"\"},\"colorscale\":[[0.0,\"#0d0887\"],[0.1111111111111111,\"#46039f\"],[0.2222222222222222,\"#7201a8\"],[0.3333333333333333,\"#9c179e\"],[0.4444444444444444,\"#bd3786\"],[0.5555555555555556,\"#d8576b\"],[0.6666666666666666,\"#ed7953\"],[0.7777777777777778,\"#fb9f3a\"],[0.8888888888888888,\"#fdca26\"],[1.0,\"#f0f921\"]],\"type\":\"surface\"}],\"table\":[{\"cells\":{\"fill\":{\"color\":\"#EBF0F8\"},\"line\":{\"color\":\"white\"}},\"header\":{\"fill\":{\"color\":\"#C8D4E3\"},\"line\":{\"color\":\"white\"}},\"type\":\"table\"}]},\"layout\":{\"annotationdefaults\":{\"arrowcolor\":\"#2a3f5f\",\"arrowhead\":0,\"arrowwidth\":1},\"autotypenumbers\":\"strict\",\"coloraxis\":{\"colorbar\":{\"outlinewidth\":0,\"ticks\":\"\"}},\"colorscale\":{\"diverging\":[[0,\"#8e0152\"],[0.1,\"#c51b7d\"],[0.2,\"#de77ae\"],[0.3,\"#f1b6da\"],[0.4,\"#fde0ef\"],[0.5,\"#f7f7f7\"],[0.6,\"#e6f5d0\"],[0.7,\"#b8e186\"],[0.8,\"#7fbc41\"],[0.9,\"#4d9221\"],[1,\"#276419\"]],\"sequential\":[[0.0,\"#0d0887\"],[0.1111111111111111,\"#46039f\"],[0.2222222222222222,\"#7201a8\"],[0.3333333333333333,\"#9c179e\"],[0.4444444444444444,\"#bd3786\"],[0.5555555555555556,\"#d8576b\"],[0.6666666666666666,\"#ed7953\"],[0.7777777777777778,\"#fb9f3a\"],[0.8888888888888888,\"#fdca26\"],[1.0,\"#f0f921\"]],\"sequentialminus\":[[0.0,\"#0d0887\"],[0.1111111111111111,\"#46039f\"],[0.2222222222222222,\"#7201a8\"],[0.3333333333333333,\"#9c179e\"],[0.4444444444444444,\"#bd3786\"],[0.5555555555555556,\"#d8576b\"],[0.6666666666666666,\"#ed7953\"],[0.7777777777777778,\"#fb9f3a\"],[0.8888888888888888,\"#fdca26\"],[1.0,\"#f0f921\"]]},\"colorway\":[\"#636efa\",\"#EF553B\",\"#00cc96\",\"#ab63fa\",\"#FFA15A\",\"#19d3f3\",\"#FF6692\",\"#B6E880\",\"#FF97FF\",\"#FECB52\"],\"font\":{\"color\":\"#2a3f5f\"},\"geo\":{\"bgcolor\":\"white\",\"lakecolor\":\"white\",\"landcolor\":\"#E5ECF6\",\"showlakes\":true,\"showland\":true,\"subunitcolor\":\"white\"},\"hoverlabel\":{\"align\":\"left\"},\"hovermode\":\"closest\",\"mapbox\":{\"style\":\"light\"},\"paper_bgcolor\":\"white\",\"plot_bgcolor\":\"#E5ECF6\",\"polar\":{\"angularaxis\":{\"gridcolor\":\"white\",\"linecolor\":\"white\",\"ticks\":\"\"},\"bgcolor\":\"#E5ECF6\",\"radialaxis\":{\"gridcolor\":\"white\",\"linecolor\":\"white\",\"ticks\":\"\"}},\"scene\":{\"xaxis\":{\"backgroundcolor\":\"#E5ECF6\",\"gridcolor\":\"white\",\"gridwidth\":2,\"linecolor\":\"white\",\"showbackground\":true,\"ticks\":\"\",\"zerolinecolor\":\"white\"},\"yaxis\":{\"backgroundcolor\":\"#E5ECF6\",\"gridcolor\":\"white\",\"gridwidth\":2,\"linecolor\":\"white\",\"showbackground\":true,\"ticks\":\"\",\"zerolinecolor\":\"white\"},\"zaxis\":{\"backgroundcolor\":\"#E5ECF6\",\"gridcolor\":\"white\",\"gridwidth\":2,\"linecolor\":\"white\",\"showbackground\":true,\"ticks\":\"\",\"zerolinecolor\":\"white\"}},\"shapedefaults\":{\"line\":{\"color\":\"#2a3f5f\"}},\"ternary\":{\"aaxis\":{\"gridcolor\":\"white\",\"linecolor\":\"white\",\"ticks\":\"\"},\"baxis\":{\"gridcolor\":\"white\",\"linecolor\":\"white\",\"ticks\":\"\"},\"bgcolor\":\"#E5ECF6\",\"caxis\":{\"gridcolor\":\"white\",\"linecolor\":\"white\",\"ticks\":\"\"}},\"title\":{\"x\":0.05},\"xaxis\":{\"automargin\":true,\"gridcolor\":\"white\",\"linecolor\":\"white\",\"ticks\":\"\",\"title\":{\"standoff\":15},\"zerolinecolor\":\"white\",\"zerolinewidth\":2},\"yaxis\":{\"automargin\":true,\"gridcolor\":\"white\",\"linecolor\":\"white\",\"ticks\":\"\",\"title\":{\"standoff\":15},\"zerolinecolor\":\"white\",\"zerolinewidth\":2}}},\"title\":{\"text\":\"Word Count Plots\"},\"width\":600,\"xaxis\":{\"anchor\":\"y\",\"domain\":[0.0,1.0]},\"yaxis\":{\"anchor\":\"x\",\"domain\":[0.0,1.0]}},                        {\"responsive\": true}                    ).then(function(){\n",
       "                            \n",
       "var gd = document.getElementById('4cb6c47f-3476-4461-920b-5b8ce67c8a4a');\n",
       "var x = new MutationObserver(function (mutations, observer) {{\n",
       "        var display = window.getComputedStyle(gd).display;\n",
       "        if (!display || display === 'none') {{\n",
       "            console.log([gd, 'removed!']);\n",
       "            Plotly.purge(gd);\n",
       "            observer.disconnect();\n",
       "        }}\n",
       "}});\n",
       "\n",
       "// Listen for the removal of the full notebook cells\n",
       "var notebookContainer = gd.closest('#notebook-container');\n",
       "if (notebookContainer) {{\n",
       "    x.observe(notebookContainer, {childList: true});\n",
       "}}\n",
       "\n",
       "// Listen for the clearing of the current output cell\n",
       "var outputEl = gd.closest('.output');\n",
       "if (outputEl) {{\n",
       "    x.observe(outputEl, {childList: true});\n",
       "}}\n",
       "\n",
       "                        })                };                });            </script>        </div>"
      ]
     },
     "metadata": {},
     "output_type": "display_data"
    }
   ],
   "source": [
    "## Get the bar chart from 5 rated reviews ##\n",
    "freq_dict = defaultdict(int)\n",
    "for sent in news_df[\"content\"]:\n",
    "    for word in generate_ngrams(sent,3):\n",
    "        freq_dict[word] += 1\n",
    "fd_sorted = pd.DataFrame(sorted(freq_dict.items(), key=lambda x: x[1])[::-1])\n",
    "fd_sorted.columns = [\"word\", \"wordcount\"]\n",
    "trace0 = horizontal_bar_chart(fd_sorted.head(10), 'green')\n",
    "\n",
    "# Creating two subplots\n",
    "fig = tools.make_subplots(rows=1, cols=1, vertical_spacing=0.04,\n",
    "                          subplot_titles=[\"Frequent words\"])\n",
    "fig.append_trace(trace0, 1, 1)\n",
    "#fig.append_trace(trace1, 1, 2)\n",
    "fig['layout'].update(height=600, width=600, paper_bgcolor='rgb(233,233,233)', title=\"Word Count Plots\")\n",
    "py.iplot(fig, filename='word-plots');"
   ]
  },
  {
   "cell_type": "code",
   "execution_count": 177,
   "metadata": {},
   "outputs": [
    {
     "data": {
      "application/vnd.plotly.v1+json": {
       "config": {
        "linkText": "Export to plot.ly",
        "plotlyServerURL": "https://plot.ly",
        "showLink": false
       },
       "data": [
        {
         "marker": {
          "color": "green"
         },
         "orientation": "h",
         "showlegend": false,
         "type": "bar",
         "x": [
          6,
          11,
          11,
          11,
          12,
          12,
          12,
          12,
          17,
          29
         ],
         "xaxis": "x",
         "y": [
          "previous day",
          "session marking",
          "move prior",
          "prior day",
          "closed recent",
          "recent trading",
          "trading day",
          "previous trading",
          "latest trading",
          "trading session"
         ],
         "yaxis": "y"
        }
       ],
       "layout": {
        "annotations": [
         {
          "font": {
           "size": 16
          },
          "showarrow": false,
          "text": "Frequent words",
          "x": 0.5,
          "xanchor": "center",
          "xref": "paper",
          "y": 1,
          "yanchor": "bottom",
          "yref": "paper"
         }
        ],
        "height": 600,
        "paper_bgcolor": "rgb(233,233,233)",
        "template": {
         "data": {
          "bar": [
           {
            "error_x": {
             "color": "#2a3f5f"
            },
            "error_y": {
             "color": "#2a3f5f"
            },
            "marker": {
             "line": {
              "color": "#E5ECF6",
              "width": 0.5
             },
             "pattern": {
              "fillmode": "overlay",
              "size": 10,
              "solidity": 0.2
             }
            },
            "type": "bar"
           }
          ],
          "barpolar": [
           {
            "marker": {
             "line": {
              "color": "#E5ECF6",
              "width": 0.5
             },
             "pattern": {
              "fillmode": "overlay",
              "size": 10,
              "solidity": 0.2
             }
            },
            "type": "barpolar"
           }
          ],
          "carpet": [
           {
            "aaxis": {
             "endlinecolor": "#2a3f5f",
             "gridcolor": "white",
             "linecolor": "white",
             "minorgridcolor": "white",
             "startlinecolor": "#2a3f5f"
            },
            "baxis": {
             "endlinecolor": "#2a3f5f",
             "gridcolor": "white",
             "linecolor": "white",
             "minorgridcolor": "white",
             "startlinecolor": "#2a3f5f"
            },
            "type": "carpet"
           }
          ],
          "choropleth": [
           {
            "colorbar": {
             "outlinewidth": 0,
             "ticks": ""
            },
            "type": "choropleth"
           }
          ],
          "contour": [
           {
            "colorbar": {
             "outlinewidth": 0,
             "ticks": ""
            },
            "colorscale": [
             [
              0,
              "#0d0887"
             ],
             [
              0.1111111111111111,
              "#46039f"
             ],
             [
              0.2222222222222222,
              "#7201a8"
             ],
             [
              0.3333333333333333,
              "#9c179e"
             ],
             [
              0.4444444444444444,
              "#bd3786"
             ],
             [
              0.5555555555555556,
              "#d8576b"
             ],
             [
              0.6666666666666666,
              "#ed7953"
             ],
             [
              0.7777777777777778,
              "#fb9f3a"
             ],
             [
              0.8888888888888888,
              "#fdca26"
             ],
             [
              1,
              "#f0f921"
             ]
            ],
            "type": "contour"
           }
          ],
          "contourcarpet": [
           {
            "colorbar": {
             "outlinewidth": 0,
             "ticks": ""
            },
            "type": "contourcarpet"
           }
          ],
          "heatmap": [
           {
            "colorbar": {
             "outlinewidth": 0,
             "ticks": ""
            },
            "colorscale": [
             [
              0,
              "#0d0887"
             ],
             [
              0.1111111111111111,
              "#46039f"
             ],
             [
              0.2222222222222222,
              "#7201a8"
             ],
             [
              0.3333333333333333,
              "#9c179e"
             ],
             [
              0.4444444444444444,
              "#bd3786"
             ],
             [
              0.5555555555555556,
              "#d8576b"
             ],
             [
              0.6666666666666666,
              "#ed7953"
             ],
             [
              0.7777777777777778,
              "#fb9f3a"
             ],
             [
              0.8888888888888888,
              "#fdca26"
             ],
             [
              1,
              "#f0f921"
             ]
            ],
            "type": "heatmap"
           }
          ],
          "heatmapgl": [
           {
            "colorbar": {
             "outlinewidth": 0,
             "ticks": ""
            },
            "colorscale": [
             [
              0,
              "#0d0887"
             ],
             [
              0.1111111111111111,
              "#46039f"
             ],
             [
              0.2222222222222222,
              "#7201a8"
             ],
             [
              0.3333333333333333,
              "#9c179e"
             ],
             [
              0.4444444444444444,
              "#bd3786"
             ],
             [
              0.5555555555555556,
              "#d8576b"
             ],
             [
              0.6666666666666666,
              "#ed7953"
             ],
             [
              0.7777777777777778,
              "#fb9f3a"
             ],
             [
              0.8888888888888888,
              "#fdca26"
             ],
             [
              1,
              "#f0f921"
             ]
            ],
            "type": "heatmapgl"
           }
          ],
          "histogram": [
           {
            "marker": {
             "pattern": {
              "fillmode": "overlay",
              "size": 10,
              "solidity": 0.2
             }
            },
            "type": "histogram"
           }
          ],
          "histogram2d": [
           {
            "colorbar": {
             "outlinewidth": 0,
             "ticks": ""
            },
            "colorscale": [
             [
              0,
              "#0d0887"
             ],
             [
              0.1111111111111111,
              "#46039f"
             ],
             [
              0.2222222222222222,
              "#7201a8"
             ],
             [
              0.3333333333333333,
              "#9c179e"
             ],
             [
              0.4444444444444444,
              "#bd3786"
             ],
             [
              0.5555555555555556,
              "#d8576b"
             ],
             [
              0.6666666666666666,
              "#ed7953"
             ],
             [
              0.7777777777777778,
              "#fb9f3a"
             ],
             [
              0.8888888888888888,
              "#fdca26"
             ],
             [
              1,
              "#f0f921"
             ]
            ],
            "type": "histogram2d"
           }
          ],
          "histogram2dcontour": [
           {
            "colorbar": {
             "outlinewidth": 0,
             "ticks": ""
            },
            "colorscale": [
             [
              0,
              "#0d0887"
             ],
             [
              0.1111111111111111,
              "#46039f"
             ],
             [
              0.2222222222222222,
              "#7201a8"
             ],
             [
              0.3333333333333333,
              "#9c179e"
             ],
             [
              0.4444444444444444,
              "#bd3786"
             ],
             [
              0.5555555555555556,
              "#d8576b"
             ],
             [
              0.6666666666666666,
              "#ed7953"
             ],
             [
              0.7777777777777778,
              "#fb9f3a"
             ],
             [
              0.8888888888888888,
              "#fdca26"
             ],
             [
              1,
              "#f0f921"
             ]
            ],
            "type": "histogram2dcontour"
           }
          ],
          "mesh3d": [
           {
            "colorbar": {
             "outlinewidth": 0,
             "ticks": ""
            },
            "type": "mesh3d"
           }
          ],
          "parcoords": [
           {
            "line": {
             "colorbar": {
              "outlinewidth": 0,
              "ticks": ""
             }
            },
            "type": "parcoords"
           }
          ],
          "pie": [
           {
            "automargin": true,
            "type": "pie"
           }
          ],
          "scatter": [
           {
            "fillpattern": {
             "fillmode": "overlay",
             "size": 10,
             "solidity": 0.2
            },
            "type": "scatter"
           }
          ],
          "scatter3d": [
           {
            "line": {
             "colorbar": {
              "outlinewidth": 0,
              "ticks": ""
             }
            },
            "marker": {
             "colorbar": {
              "outlinewidth": 0,
              "ticks": ""
             }
            },
            "type": "scatter3d"
           }
          ],
          "scattercarpet": [
           {
            "marker": {
             "colorbar": {
              "outlinewidth": 0,
              "ticks": ""
             }
            },
            "type": "scattercarpet"
           }
          ],
          "scattergeo": [
           {
            "marker": {
             "colorbar": {
              "outlinewidth": 0,
              "ticks": ""
             }
            },
            "type": "scattergeo"
           }
          ],
          "scattergl": [
           {
            "marker": {
             "colorbar": {
              "outlinewidth": 0,
              "ticks": ""
             }
            },
            "type": "scattergl"
           }
          ],
          "scattermapbox": [
           {
            "marker": {
             "colorbar": {
              "outlinewidth": 0,
              "ticks": ""
             }
            },
            "type": "scattermapbox"
           }
          ],
          "scatterpolar": [
           {
            "marker": {
             "colorbar": {
              "outlinewidth": 0,
              "ticks": ""
             }
            },
            "type": "scatterpolar"
           }
          ],
          "scatterpolargl": [
           {
            "marker": {
             "colorbar": {
              "outlinewidth": 0,
              "ticks": ""
             }
            },
            "type": "scatterpolargl"
           }
          ],
          "scatterternary": [
           {
            "marker": {
             "colorbar": {
              "outlinewidth": 0,
              "ticks": ""
             }
            },
            "type": "scatterternary"
           }
          ],
          "surface": [
           {
            "colorbar": {
             "outlinewidth": 0,
             "ticks": ""
            },
            "colorscale": [
             [
              0,
              "#0d0887"
             ],
             [
              0.1111111111111111,
              "#46039f"
             ],
             [
              0.2222222222222222,
              "#7201a8"
             ],
             [
              0.3333333333333333,
              "#9c179e"
             ],
             [
              0.4444444444444444,
              "#bd3786"
             ],
             [
              0.5555555555555556,
              "#d8576b"
             ],
             [
              0.6666666666666666,
              "#ed7953"
             ],
             [
              0.7777777777777778,
              "#fb9f3a"
             ],
             [
              0.8888888888888888,
              "#fdca26"
             ],
             [
              1,
              "#f0f921"
             ]
            ],
            "type": "surface"
           }
          ],
          "table": [
           {
            "cells": {
             "fill": {
              "color": "#EBF0F8"
             },
             "line": {
              "color": "white"
             }
            },
            "header": {
             "fill": {
              "color": "#C8D4E3"
             },
             "line": {
              "color": "white"
             }
            },
            "type": "table"
           }
          ]
         },
         "layout": {
          "annotationdefaults": {
           "arrowcolor": "#2a3f5f",
           "arrowhead": 0,
           "arrowwidth": 1
          },
          "autotypenumbers": "strict",
          "coloraxis": {
           "colorbar": {
            "outlinewidth": 0,
            "ticks": ""
           }
          },
          "colorscale": {
           "diverging": [
            [
             0,
             "#8e0152"
            ],
            [
             0.1,
             "#c51b7d"
            ],
            [
             0.2,
             "#de77ae"
            ],
            [
             0.3,
             "#f1b6da"
            ],
            [
             0.4,
             "#fde0ef"
            ],
            [
             0.5,
             "#f7f7f7"
            ],
            [
             0.6,
             "#e6f5d0"
            ],
            [
             0.7,
             "#b8e186"
            ],
            [
             0.8,
             "#7fbc41"
            ],
            [
             0.9,
             "#4d9221"
            ],
            [
             1,
             "#276419"
            ]
           ],
           "sequential": [
            [
             0,
             "#0d0887"
            ],
            [
             0.1111111111111111,
             "#46039f"
            ],
            [
             0.2222222222222222,
             "#7201a8"
            ],
            [
             0.3333333333333333,
             "#9c179e"
            ],
            [
             0.4444444444444444,
             "#bd3786"
            ],
            [
             0.5555555555555556,
             "#d8576b"
            ],
            [
             0.6666666666666666,
             "#ed7953"
            ],
            [
             0.7777777777777778,
             "#fb9f3a"
            ],
            [
             0.8888888888888888,
             "#fdca26"
            ],
            [
             1,
             "#f0f921"
            ]
           ],
           "sequentialminus": [
            [
             0,
             "#0d0887"
            ],
            [
             0.1111111111111111,
             "#46039f"
            ],
            [
             0.2222222222222222,
             "#7201a8"
            ],
            [
             0.3333333333333333,
             "#9c179e"
            ],
            [
             0.4444444444444444,
             "#bd3786"
            ],
            [
             0.5555555555555556,
             "#d8576b"
            ],
            [
             0.6666666666666666,
             "#ed7953"
            ],
            [
             0.7777777777777778,
             "#fb9f3a"
            ],
            [
             0.8888888888888888,
             "#fdca26"
            ],
            [
             1,
             "#f0f921"
            ]
           ]
          },
          "colorway": [
           "#636efa",
           "#EF553B",
           "#00cc96",
           "#ab63fa",
           "#FFA15A",
           "#19d3f3",
           "#FF6692",
           "#B6E880",
           "#FF97FF",
           "#FECB52"
          ],
          "font": {
           "color": "#2a3f5f"
          },
          "geo": {
           "bgcolor": "white",
           "lakecolor": "white",
           "landcolor": "#E5ECF6",
           "showlakes": true,
           "showland": true,
           "subunitcolor": "white"
          },
          "hoverlabel": {
           "align": "left"
          },
          "hovermode": "closest",
          "mapbox": {
           "style": "light"
          },
          "paper_bgcolor": "white",
          "plot_bgcolor": "#E5ECF6",
          "polar": {
           "angularaxis": {
            "gridcolor": "white",
            "linecolor": "white",
            "ticks": ""
           },
           "bgcolor": "#E5ECF6",
           "radialaxis": {
            "gridcolor": "white",
            "linecolor": "white",
            "ticks": ""
           }
          },
          "scene": {
           "xaxis": {
            "backgroundcolor": "#E5ECF6",
            "gridcolor": "white",
            "gridwidth": 2,
            "linecolor": "white",
            "showbackground": true,
            "ticks": "",
            "zerolinecolor": "white"
           },
           "yaxis": {
            "backgroundcolor": "#E5ECF6",
            "gridcolor": "white",
            "gridwidth": 2,
            "linecolor": "white",
            "showbackground": true,
            "ticks": "",
            "zerolinecolor": "white"
           },
           "zaxis": {
            "backgroundcolor": "#E5ECF6",
            "gridcolor": "white",
            "gridwidth": 2,
            "linecolor": "white",
            "showbackground": true,
            "ticks": "",
            "zerolinecolor": "white"
           }
          },
          "shapedefaults": {
           "line": {
            "color": "#2a3f5f"
           }
          },
          "ternary": {
           "aaxis": {
            "gridcolor": "white",
            "linecolor": "white",
            "ticks": ""
           },
           "baxis": {
            "gridcolor": "white",
            "linecolor": "white",
            "ticks": ""
           },
           "bgcolor": "#E5ECF6",
           "caxis": {
            "gridcolor": "white",
            "linecolor": "white",
            "ticks": ""
           }
          },
          "title": {
           "x": 0.05
          },
          "xaxis": {
           "automargin": true,
           "gridcolor": "white",
           "linecolor": "white",
           "ticks": "",
           "title": {
            "standoff": 15
           },
           "zerolinecolor": "white",
           "zerolinewidth": 2
          },
          "yaxis": {
           "automargin": true,
           "gridcolor": "white",
           "linecolor": "white",
           "ticks": "",
           "title": {
            "standoff": 15
           },
           "zerolinecolor": "white",
           "zerolinewidth": 2
          }
         }
        },
        "title": {
         "text": "Word Count Plots"
        },
        "width": 600,
        "xaxis": {
         "anchor": "y",
         "domain": [
          0,
          1
         ]
        },
        "yaxis": {
         "anchor": "x",
         "domain": [
          0,
          1
         ]
        }
       }
      },
      "text/html": [
       "<div>                            <div id=\"a015ecf1-cb1e-4a48-bc61-b728781226c6\" class=\"plotly-graph-div\" style=\"height:600px; width:600px;\"></div>            <script type=\"text/javascript\">                require([\"plotly\"], function(Plotly) {                    window.PLOTLYENV=window.PLOTLYENV || {};                                    if (document.getElementById(\"a015ecf1-cb1e-4a48-bc61-b728781226c6\")) {                    Plotly.newPlot(                        \"a015ecf1-cb1e-4a48-bc61-b728781226c6\",                        [{\"marker\":{\"color\":\"green\"},\"orientation\":\"h\",\"showlegend\":false,\"x\":[6,11,11,11,12,12,12,12,17,29],\"xaxis\":\"x\",\"y\":[\"previous day\",\"session marking\",\"move prior\",\"prior day\",\"closed recent\",\"recent trading\",\"trading day\",\"previous trading\",\"latest trading\",\"trading session\"],\"yaxis\":\"y\",\"type\":\"bar\"}],                        {\"annotations\":[{\"font\":{\"size\":16},\"showarrow\":false,\"text\":\"Frequent words\",\"x\":0.5,\"xanchor\":\"center\",\"xref\":\"paper\",\"y\":1.0,\"yanchor\":\"bottom\",\"yref\":\"paper\"}],\"height\":600,\"paper_bgcolor\":\"rgb(233,233,233)\",\"template\":{\"data\":{\"barpolar\":[{\"marker\":{\"line\":{\"color\":\"#E5ECF6\",\"width\":0.5},\"pattern\":{\"fillmode\":\"overlay\",\"size\":10,\"solidity\":0.2}},\"type\":\"barpolar\"}],\"bar\":[{\"error_x\":{\"color\":\"#2a3f5f\"},\"error_y\":{\"color\":\"#2a3f5f\"},\"marker\":{\"line\":{\"color\":\"#E5ECF6\",\"width\":0.5},\"pattern\":{\"fillmode\":\"overlay\",\"size\":10,\"solidity\":0.2}},\"type\":\"bar\"}],\"carpet\":[{\"aaxis\":{\"endlinecolor\":\"#2a3f5f\",\"gridcolor\":\"white\",\"linecolor\":\"white\",\"minorgridcolor\":\"white\",\"startlinecolor\":\"#2a3f5f\"},\"baxis\":{\"endlinecolor\":\"#2a3f5f\",\"gridcolor\":\"white\",\"linecolor\":\"white\",\"minorgridcolor\":\"white\",\"startlinecolor\":\"#2a3f5f\"},\"type\":\"carpet\"}],\"choropleth\":[{\"colorbar\":{\"outlinewidth\":0,\"ticks\":\"\"},\"type\":\"choropleth\"}],\"contourcarpet\":[{\"colorbar\":{\"outlinewidth\":0,\"ticks\":\"\"},\"type\":\"contourcarpet\"}],\"contour\":[{\"colorbar\":{\"outlinewidth\":0,\"ticks\":\"\"},\"colorscale\":[[0.0,\"#0d0887\"],[0.1111111111111111,\"#46039f\"],[0.2222222222222222,\"#7201a8\"],[0.3333333333333333,\"#9c179e\"],[0.4444444444444444,\"#bd3786\"],[0.5555555555555556,\"#d8576b\"],[0.6666666666666666,\"#ed7953\"],[0.7777777777777778,\"#fb9f3a\"],[0.8888888888888888,\"#fdca26\"],[1.0,\"#f0f921\"]],\"type\":\"contour\"}],\"heatmapgl\":[{\"colorbar\":{\"outlinewidth\":0,\"ticks\":\"\"},\"colorscale\":[[0.0,\"#0d0887\"],[0.1111111111111111,\"#46039f\"],[0.2222222222222222,\"#7201a8\"],[0.3333333333333333,\"#9c179e\"],[0.4444444444444444,\"#bd3786\"],[0.5555555555555556,\"#d8576b\"],[0.6666666666666666,\"#ed7953\"],[0.7777777777777778,\"#fb9f3a\"],[0.8888888888888888,\"#fdca26\"],[1.0,\"#f0f921\"]],\"type\":\"heatmapgl\"}],\"heatmap\":[{\"colorbar\":{\"outlinewidth\":0,\"ticks\":\"\"},\"colorscale\":[[0.0,\"#0d0887\"],[0.1111111111111111,\"#46039f\"],[0.2222222222222222,\"#7201a8\"],[0.3333333333333333,\"#9c179e\"],[0.4444444444444444,\"#bd3786\"],[0.5555555555555556,\"#d8576b\"],[0.6666666666666666,\"#ed7953\"],[0.7777777777777778,\"#fb9f3a\"],[0.8888888888888888,\"#fdca26\"],[1.0,\"#f0f921\"]],\"type\":\"heatmap\"}],\"histogram2dcontour\":[{\"colorbar\":{\"outlinewidth\":0,\"ticks\":\"\"},\"colorscale\":[[0.0,\"#0d0887\"],[0.1111111111111111,\"#46039f\"],[0.2222222222222222,\"#7201a8\"],[0.3333333333333333,\"#9c179e\"],[0.4444444444444444,\"#bd3786\"],[0.5555555555555556,\"#d8576b\"],[0.6666666666666666,\"#ed7953\"],[0.7777777777777778,\"#fb9f3a\"],[0.8888888888888888,\"#fdca26\"],[1.0,\"#f0f921\"]],\"type\":\"histogram2dcontour\"}],\"histogram2d\":[{\"colorbar\":{\"outlinewidth\":0,\"ticks\":\"\"},\"colorscale\":[[0.0,\"#0d0887\"],[0.1111111111111111,\"#46039f\"],[0.2222222222222222,\"#7201a8\"],[0.3333333333333333,\"#9c179e\"],[0.4444444444444444,\"#bd3786\"],[0.5555555555555556,\"#d8576b\"],[0.6666666666666666,\"#ed7953\"],[0.7777777777777778,\"#fb9f3a\"],[0.8888888888888888,\"#fdca26\"],[1.0,\"#f0f921\"]],\"type\":\"histogram2d\"}],\"histogram\":[{\"marker\":{\"pattern\":{\"fillmode\":\"overlay\",\"size\":10,\"solidity\":0.2}},\"type\":\"histogram\"}],\"mesh3d\":[{\"colorbar\":{\"outlinewidth\":0,\"ticks\":\"\"},\"type\":\"mesh3d\"}],\"parcoords\":[{\"line\":{\"colorbar\":{\"outlinewidth\":0,\"ticks\":\"\"}},\"type\":\"parcoords\"}],\"pie\":[{\"automargin\":true,\"type\":\"pie\"}],\"scatter3d\":[{\"line\":{\"colorbar\":{\"outlinewidth\":0,\"ticks\":\"\"}},\"marker\":{\"colorbar\":{\"outlinewidth\":0,\"ticks\":\"\"}},\"type\":\"scatter3d\"}],\"scattercarpet\":[{\"marker\":{\"colorbar\":{\"outlinewidth\":0,\"ticks\":\"\"}},\"type\":\"scattercarpet\"}],\"scattergeo\":[{\"marker\":{\"colorbar\":{\"outlinewidth\":0,\"ticks\":\"\"}},\"type\":\"scattergeo\"}],\"scattergl\":[{\"marker\":{\"colorbar\":{\"outlinewidth\":0,\"ticks\":\"\"}},\"type\":\"scattergl\"}],\"scattermapbox\":[{\"marker\":{\"colorbar\":{\"outlinewidth\":0,\"ticks\":\"\"}},\"type\":\"scattermapbox\"}],\"scatterpolargl\":[{\"marker\":{\"colorbar\":{\"outlinewidth\":0,\"ticks\":\"\"}},\"type\":\"scatterpolargl\"}],\"scatterpolar\":[{\"marker\":{\"colorbar\":{\"outlinewidth\":0,\"ticks\":\"\"}},\"type\":\"scatterpolar\"}],\"scatter\":[{\"fillpattern\":{\"fillmode\":\"overlay\",\"size\":10,\"solidity\":0.2},\"type\":\"scatter\"}],\"scatterternary\":[{\"marker\":{\"colorbar\":{\"outlinewidth\":0,\"ticks\":\"\"}},\"type\":\"scatterternary\"}],\"surface\":[{\"colorbar\":{\"outlinewidth\":0,\"ticks\":\"\"},\"colorscale\":[[0.0,\"#0d0887\"],[0.1111111111111111,\"#46039f\"],[0.2222222222222222,\"#7201a8\"],[0.3333333333333333,\"#9c179e\"],[0.4444444444444444,\"#bd3786\"],[0.5555555555555556,\"#d8576b\"],[0.6666666666666666,\"#ed7953\"],[0.7777777777777778,\"#fb9f3a\"],[0.8888888888888888,\"#fdca26\"],[1.0,\"#f0f921\"]],\"type\":\"surface\"}],\"table\":[{\"cells\":{\"fill\":{\"color\":\"#EBF0F8\"},\"line\":{\"color\":\"white\"}},\"header\":{\"fill\":{\"color\":\"#C8D4E3\"},\"line\":{\"color\":\"white\"}},\"type\":\"table\"}]},\"layout\":{\"annotationdefaults\":{\"arrowcolor\":\"#2a3f5f\",\"arrowhead\":0,\"arrowwidth\":1},\"autotypenumbers\":\"strict\",\"coloraxis\":{\"colorbar\":{\"outlinewidth\":0,\"ticks\":\"\"}},\"colorscale\":{\"diverging\":[[0,\"#8e0152\"],[0.1,\"#c51b7d\"],[0.2,\"#de77ae\"],[0.3,\"#f1b6da\"],[0.4,\"#fde0ef\"],[0.5,\"#f7f7f7\"],[0.6,\"#e6f5d0\"],[0.7,\"#b8e186\"],[0.8,\"#7fbc41\"],[0.9,\"#4d9221\"],[1,\"#276419\"]],\"sequential\":[[0.0,\"#0d0887\"],[0.1111111111111111,\"#46039f\"],[0.2222222222222222,\"#7201a8\"],[0.3333333333333333,\"#9c179e\"],[0.4444444444444444,\"#bd3786\"],[0.5555555555555556,\"#d8576b\"],[0.6666666666666666,\"#ed7953\"],[0.7777777777777778,\"#fb9f3a\"],[0.8888888888888888,\"#fdca26\"],[1.0,\"#f0f921\"]],\"sequentialminus\":[[0.0,\"#0d0887\"],[0.1111111111111111,\"#46039f\"],[0.2222222222222222,\"#7201a8\"],[0.3333333333333333,\"#9c179e\"],[0.4444444444444444,\"#bd3786\"],[0.5555555555555556,\"#d8576b\"],[0.6666666666666666,\"#ed7953\"],[0.7777777777777778,\"#fb9f3a\"],[0.8888888888888888,\"#fdca26\"],[1.0,\"#f0f921\"]]},\"colorway\":[\"#636efa\",\"#EF553B\",\"#00cc96\",\"#ab63fa\",\"#FFA15A\",\"#19d3f3\",\"#FF6692\",\"#B6E880\",\"#FF97FF\",\"#FECB52\"],\"font\":{\"color\":\"#2a3f5f\"},\"geo\":{\"bgcolor\":\"white\",\"lakecolor\":\"white\",\"landcolor\":\"#E5ECF6\",\"showlakes\":true,\"showland\":true,\"subunitcolor\":\"white\"},\"hoverlabel\":{\"align\":\"left\"},\"hovermode\":\"closest\",\"mapbox\":{\"style\":\"light\"},\"paper_bgcolor\":\"white\",\"plot_bgcolor\":\"#E5ECF6\",\"polar\":{\"angularaxis\":{\"gridcolor\":\"white\",\"linecolor\":\"white\",\"ticks\":\"\"},\"bgcolor\":\"#E5ECF6\",\"radialaxis\":{\"gridcolor\":\"white\",\"linecolor\":\"white\",\"ticks\":\"\"}},\"scene\":{\"xaxis\":{\"backgroundcolor\":\"#E5ECF6\",\"gridcolor\":\"white\",\"gridwidth\":2,\"linecolor\":\"white\",\"showbackground\":true,\"ticks\":\"\",\"zerolinecolor\":\"white\"},\"yaxis\":{\"backgroundcolor\":\"#E5ECF6\",\"gridcolor\":\"white\",\"gridwidth\":2,\"linecolor\":\"white\",\"showbackground\":true,\"ticks\":\"\",\"zerolinecolor\":\"white\"},\"zaxis\":{\"backgroundcolor\":\"#E5ECF6\",\"gridcolor\":\"white\",\"gridwidth\":2,\"linecolor\":\"white\",\"showbackground\":true,\"ticks\":\"\",\"zerolinecolor\":\"white\"}},\"shapedefaults\":{\"line\":{\"color\":\"#2a3f5f\"}},\"ternary\":{\"aaxis\":{\"gridcolor\":\"white\",\"linecolor\":\"white\",\"ticks\":\"\"},\"baxis\":{\"gridcolor\":\"white\",\"linecolor\":\"white\",\"ticks\":\"\"},\"bgcolor\":\"#E5ECF6\",\"caxis\":{\"gridcolor\":\"white\",\"linecolor\":\"white\",\"ticks\":\"\"}},\"title\":{\"x\":0.05},\"xaxis\":{\"automargin\":true,\"gridcolor\":\"white\",\"linecolor\":\"white\",\"ticks\":\"\",\"title\":{\"standoff\":15},\"zerolinecolor\":\"white\",\"zerolinewidth\":2},\"yaxis\":{\"automargin\":true,\"gridcolor\":\"white\",\"linecolor\":\"white\",\"ticks\":\"\",\"title\":{\"standoff\":15},\"zerolinecolor\":\"white\",\"zerolinewidth\":2}}},\"title\":{\"text\":\"Word Count Plots\"},\"width\":600,\"xaxis\":{\"anchor\":\"y\",\"domain\":[0.0,1.0]},\"yaxis\":{\"anchor\":\"x\",\"domain\":[0.0,1.0]}},                        {\"responsive\": true}                    ).then(function(){\n",
       "                            \n",
       "var gd = document.getElementById('a015ecf1-cb1e-4a48-bc61-b728781226c6');\n",
       "var x = new MutationObserver(function (mutations, observer) {{\n",
       "        var display = window.getComputedStyle(gd).display;\n",
       "        if (!display || display === 'none') {{\n",
       "            console.log([gd, 'removed!']);\n",
       "            Plotly.purge(gd);\n",
       "            observer.disconnect();\n",
       "        }}\n",
       "}});\n",
       "\n",
       "// Listen for the removal of the full notebook cells\n",
       "var notebookContainer = gd.closest('#notebook-container');\n",
       "if (notebookContainer) {{\n",
       "    x.observe(notebookContainer, {childList: true});\n",
       "}}\n",
       "\n",
       "// Listen for the clearing of the current output cell\n",
       "var outputEl = gd.closest('.output');\n",
       "if (outputEl) {{\n",
       "    x.observe(outputEl, {childList: true});\n",
       "}}\n",
       "\n",
       "                        })                };                });            </script>        </div>"
      ]
     },
     "metadata": {},
     "output_type": "display_data"
    }
   ],
   "source": [
    "## Get the bar chart from 5 rated reviews ##\n",
    "freq_dict = defaultdict(int)\n",
    "for sent in news_df[\"content\"]:\n",
    "    for word in generate_ngrams(sent,2):\n",
    "        freq_dict[word] += 1\n",
    "fd_sorted = pd.DataFrame(sorted(freq_dict.items(), key=lambda x: x[1])[::-1])\n",
    "fd_sorted.columns = [\"word\", \"wordcount\"]\n",
    "trace0 = horizontal_bar_chart(fd_sorted.head(10), 'green')\n",
    "\n",
    "# Creating two subplots\n",
    "fig = tools.make_subplots(rows=1, cols=1, vertical_spacing=0.04,\n",
    "                          subplot_titles=[\"Frequent words\"])\n",
    "fig.append_trace(trace0, 1, 1)\n",
    "#fig.append_trace(trace1, 1, 2)\n",
    "fig['layout'].update(height=600, width=600, paper_bgcolor='rgb(233,233,233)', title=\"Word Count Plots\")\n",
    "py.iplot(fig, filename='word-plots');"
   ]
  },
  {
   "cell_type": "markdown",
   "metadata": {},
   "source": [
    "# SPY Ticker"
   ]
  },
  {
   "cell_type": "code",
   "execution_count": 178,
   "metadata": {},
   "outputs": [],
   "source": [
    "from urllib.request import Request, urlopen\n",
    "from urllib.error import HTTPError\n",
    "import socket\n",
    "import urllib"
   ]
  },
  {
   "cell_type": "code",
   "execution_count": 179,
   "metadata": {},
   "outputs": [],
   "source": [
    "url = \"https://finviz.com/quote.ashx?t=SPY&ty=c&ta=1&p=d\"\n",
    "\n",
    "\n",
    "headers = {\"User-Agent\": \"Mozilla/5.0\"}\n",
    "cookies = {\"CONSENT\": \"YES+cb.20210720-07-p0.en+FX+410\"}\n",
    "\n",
    "req = Request(url, headers=headers)\n",
    "\n",
    "try:\n",
    "    contents = urlopen(req).read() \n",
    "    soup = BeautifulSoup(contents, features=\"html.parser\")\n",
    "\n",
    "    sentence2 = []\n",
    "\n",
    "    for tag in soup.find_all('a'):\n",
    "\n",
    "        sentence = tag.text.split(\".\")\n",
    "        sentence2.append(sentence)\n",
    "\n",
    "except urllib.error.HTTPError as err:\n",
    "    print(err.code)\n",
    "\n",
    "except socket.timeout as se:\n",
    "    print(\"socket timeout\")"
   ]
  },
  {
   "cell_type": "code",
   "execution_count": 180,
   "metadata": {},
   "outputs": [],
   "source": [
    "df = pd.DataFrame(sentence2)"
   ]
  },
  {
   "cell_type": "code",
   "execution_count": 181,
   "metadata": {},
   "outputs": [],
   "source": [
    "df['Headline'] = df[0]\n",
    "df['Sentiment'] = -2\n",
    "df = pd.DataFrame(list(zip(df['Headline'], df['Sentiment'])), columns=['Headline', 'Sentiment'])"
   ]
  },
  {
   "cell_type": "code",
   "execution_count": 182,
   "metadata": {},
   "outputs": [],
   "source": [
    "i = []\n",
    "\n",
    "for string in df['Headline']:\n",
    "    i.append(count_words(string))\n",
    "\n",
    "df['word_count'] = i\n"
   ]
  },
  {
   "cell_type": "code",
   "execution_count": 183,
   "metadata": {},
   "outputs": [],
   "source": [
    "sentiment = [None] * len(df)\n",
    "sentiment_score = [None] * len(df)\n",
    "index = -1\n",
    "for sentence in df['Headline']:\n",
    "    index+=1\n",
    "    result = sentiment_pipeline(sentence[:512])[0]\n",
    "    sentiment[index] = result['label']\n",
    "    sentiment_score[index] = result['score']\n",
    "df['Sentiment'] = sentiment\n",
    "df['Score'] = sentiment_score\n"
   ]
  },
  {
   "cell_type": "code",
   "execution_count": 184,
   "metadata": {},
   "outputs": [],
   "source": [
    "df = df[df['word_count'] > 10]\n",
    "df['Headline_Lower'] = df['Headline'].str.lower()"
   ]
  },
  {
   "cell_type": "code",
   "execution_count": 185,
   "metadata": {},
   "outputs": [
    {
     "data": {
      "text/html": [
       "<div>\n",
       "<style scoped>\n",
       "    .dataframe tbody tr th:only-of-type {\n",
       "        vertical-align: middle;\n",
       "    }\n",
       "\n",
       "    .dataframe tbody tr th {\n",
       "        vertical-align: top;\n",
       "    }\n",
       "\n",
       "    .dataframe thead th {\n",
       "        text-align: right;\n",
       "    }\n",
       "</style>\n",
       "<table border=\"1\" class=\"dataframe\">\n",
       "  <thead>\n",
       "    <tr style=\"text-align: right;\">\n",
       "      <th></th>\n",
       "      <th>Headline</th>\n",
       "      <th>Sentiment</th>\n",
       "      <th>word_count</th>\n",
       "      <th>Score</th>\n",
       "      <th>Headline_Lower</th>\n",
       "    </tr>\n",
       "  </thead>\n",
       "  <tbody>\n",
       "    <tr>\n",
       "      <th>24</th>\n",
       "      <td>ETF tracking S&amp;P 500 sees highest number of sharp moves down this year since 2008, Bespoke finds</td>\n",
       "      <td>NEGATIVE</td>\n",
       "      <td>17</td>\n",
       "      <td>0.974795</td>\n",
       "      <td>etf tracking s&amp;p 500 sees highest number of sharp moves down this year since 2008, bespoke finds</td>\n",
       "    </tr>\n",
       "    <tr>\n",
       "      <th>26</th>\n",
       "      <td>The 3 Most Popular Robinhood ETFs -- and Why Warren Buffett Loves 2 of Them</td>\n",
       "      <td>POSITIVE</td>\n",
       "      <td>15</td>\n",
       "      <td>0.998836</td>\n",
       "      <td>the 3 most popular robinhood etfs -- and why warren buffett loves 2 of them</td>\n",
       "    </tr>\n",
       "    <tr>\n",
       "      <th>27</th>\n",
       "      <td>Should SPDR S&amp;P 500 ETF (SPY) Be on Your Investing Radar?</td>\n",
       "      <td>NEGATIVE</td>\n",
       "      <td>11</td>\n",
       "      <td>0.998921</td>\n",
       "      <td>should spdr s&amp;p 500 etf (spy) be on your investing radar?</td>\n",
       "    </tr>\n",
       "    <tr>\n",
       "      <th>31</th>\n",
       "      <td>S&amp;P 500 companies will have zero earnings growth in 2023: Goldman Sachs</td>\n",
       "      <td>NEGATIVE</td>\n",
       "      <td>12</td>\n",
       "      <td>0.999660</td>\n",
       "      <td>s&amp;p 500 companies will have zero earnings growth in 2023: goldman sachs</td>\n",
       "    </tr>\n",
       "    <tr>\n",
       "      <th>38</th>\n",
       "      <td>Is SPY Stock A Buy Right Now? What To Know About World's Top Index</td>\n",
       "      <td>NEGATIVE</td>\n",
       "      <td>14</td>\n",
       "      <td>0.991594</td>\n",
       "      <td>is spy stock a buy right now? what to know about world's top index</td>\n",
       "    </tr>\n",
       "    <tr>\n",
       "      <th>42</th>\n",
       "      <td>Market check: S&amp;P 500 breaks above 3,900 level, bond volatility crashes</td>\n",
       "      <td>NEGATIVE</td>\n",
       "      <td>11</td>\n",
       "      <td>0.999228</td>\n",
       "      <td>market check: s&amp;p 500 breaks above 3,900 level, bond volatility crashes</td>\n",
       "    </tr>\n",
       "    <tr>\n",
       "      <th>43</th>\n",
       "      <td>Market rally may be the signal the market has been waiting for on slowing Fed rates: Author</td>\n",
       "      <td>NEGATIVE</td>\n",
       "      <td>17</td>\n",
       "      <td>0.989480</td>\n",
       "      <td>market rally may be the signal the market has been waiting for on slowing fed rates: author</td>\n",
       "    </tr>\n",
       "    <tr>\n",
       "      <th>52</th>\n",
       "      <td>The Only 2 Index Funds in Warren Buffett's Portfolio -- and How They Could Make You Money</td>\n",
       "      <td>NEGATIVE</td>\n",
       "      <td>17</td>\n",
       "      <td>0.992571</td>\n",
       "      <td>the only 2 index funds in warren buffett's portfolio -- and how they could make you money</td>\n",
       "    </tr>\n",
       "    <tr>\n",
       "      <th>53</th>\n",
       "      <td>Powell Talks a Hawkish Game, but Will Be Wary of Another Policy Mistake</td>\n",
       "      <td>NEGATIVE</td>\n",
       "      <td>13</td>\n",
       "      <td>0.990042</td>\n",
       "      <td>powell talks a hawkish game, but will be wary of another policy mistake</td>\n",
       "    </tr>\n",
       "    <tr>\n",
       "      <th>55</th>\n",
       "      <td>The S&amp;P 500 'could carry all the way to 4,000' points: Strategist</td>\n",
       "      <td>NEGATIVE</td>\n",
       "      <td>12</td>\n",
       "      <td>0.843909</td>\n",
       "      <td>the s&amp;p 500 'could carry all the way to 4,000' points: strategist</td>\n",
       "    </tr>\n",
       "    <tr>\n",
       "      <th>60</th>\n",
       "      <td>Nasdaq, S&amp;P 500 sectors dragged down by the Fed rate hike news ahead of the close</td>\n",
       "      <td>NEGATIVE</td>\n",
       "      <td>16</td>\n",
       "      <td>0.999616</td>\n",
       "      <td>nasdaq, s&amp;p 500 sectors dragged down by the fed rate hike news ahead of the close</td>\n",
       "    </tr>\n",
       "    <tr>\n",
       "      <th>65</th>\n",
       "      <td>S&amp;P 500 companies reporting positive earnings surprises falls below 5-year average</td>\n",
       "      <td>NEGATIVE</td>\n",
       "      <td>11</td>\n",
       "      <td>0.993263</td>\n",
       "      <td>s&amp;p 500 companies reporting positive earnings surprises falls below 5-year average</td>\n",
       "    </tr>\n",
       "    <tr>\n",
       "      <th>67</th>\n",
       "      <td>A seasonal stock market trade that tends to be reliable begins Thursday</td>\n",
       "      <td>NEGATIVE</td>\n",
       "      <td>12</td>\n",
       "      <td>0.991133</td>\n",
       "      <td>a seasonal stock market trade that tends to be reliable begins thursday</td>\n",
       "    </tr>\n",
       "    <tr>\n",
       "      <th>68</th>\n",
       "      <td>Buffer ETFs Post 80% Surge in Assets as Haven in Bear Market</td>\n",
       "      <td>NEGATIVE</td>\n",
       "      <td>12</td>\n",
       "      <td>0.890240</td>\n",
       "      <td>buffer etfs post 80% surge in assets as haven in bear market</td>\n",
       "    </tr>\n",
       "    <tr>\n",
       "      <th>69</th>\n",
       "      <td>Inflation mentioned by two-thirds of S&amp;P 500 companies on earnings calls</td>\n",
       "      <td>NEGATIVE</td>\n",
       "      <td>11</td>\n",
       "      <td>0.997317</td>\n",
       "      <td>inflation mentioned by two-thirds of s&amp;p 500 companies on earnings calls</td>\n",
       "    </tr>\n",
       "    <tr>\n",
       "      <th>75</th>\n",
       "      <td>Why Wall Street is warming up to small cap stocks: Morning Brief</td>\n",
       "      <td>NEGATIVE</td>\n",
       "      <td>12</td>\n",
       "      <td>0.828224</td>\n",
       "      <td>why wall street is warming up to small cap stocks: morning brief</td>\n",
       "    </tr>\n",
       "    <tr>\n",
       "      <th>76</th>\n",
       "      <td>ETFs are 'actually great price discovery vehicles' for the market: Expert</td>\n",
       "      <td>POSITIVE</td>\n",
       "      <td>11</td>\n",
       "      <td>0.999355</td>\n",
       "      <td>etfs are 'actually great price discovery vehicles' for the market: expert</td>\n",
       "    </tr>\n",
       "    <tr>\n",
       "      <th>78</th>\n",
       "      <td>REIT and Currency Hedged: 2 ETFs to Watch for Outsized Volume</td>\n",
       "      <td>NEGATIVE</td>\n",
       "      <td>11</td>\n",
       "      <td>0.995498</td>\n",
       "      <td>reit and currency hedged: 2 etfs to watch for outsized volume</td>\n",
       "    </tr>\n",
       "    <tr>\n",
       "      <th>83</th>\n",
       "      <td>10 Fallen Growth Stocks Will Make You Up To 113% Richer, Analysts Say</td>\n",
       "      <td>POSITIVE</td>\n",
       "      <td>13</td>\n",
       "      <td>0.941960</td>\n",
       "      <td>10 fallen growth stocks will make you up to 113% richer, analysts say</td>\n",
       "    </tr>\n",
       "    <tr>\n",
       "      <th>87</th>\n",
       "      <td>S&amp;P 500 could drop to 3,150 if Fed cant muster soft landing</td>\n",
       "      <td>NEGATIVE</td>\n",
       "      <td>12</td>\n",
       "      <td>0.996425</td>\n",
       "      <td>s&amp;p 500 could drop to 3,150 if fed cant muster soft landing</td>\n",
       "    </tr>\n",
       "    <tr>\n",
       "      <th>88</th>\n",
       "      <td>Stocks fall ahead of the close, dollar trends to the upside</td>\n",
       "      <td>NEGATIVE</td>\n",
       "      <td>11</td>\n",
       "      <td>0.989977</td>\n",
       "      <td>stocks fall ahead of the close, dollar trends to the upside</td>\n",
       "    </tr>\n",
       "    <tr>\n",
       "      <th>93</th>\n",
       "      <td>Stocks steer towards session lows in final day of Q3 2022</td>\n",
       "      <td>NEGATIVE</td>\n",
       "      <td>11</td>\n",
       "      <td>0.998589</td>\n",
       "      <td>stocks steer towards session lows in final day of q3 2022</td>\n",
       "    </tr>\n",
       "    <tr>\n",
       "      <th>96</th>\n",
       "      <td>Declining utilities are 'not really a vote of confidence' for the market: Strategist</td>\n",
       "      <td>NEGATIVE</td>\n",
       "      <td>13</td>\n",
       "      <td>0.999604</td>\n",
       "      <td>declining utilities are 'not really a vote of confidence' for the market: strategist</td>\n",
       "    </tr>\n",
       "    <tr>\n",
       "      <th>97</th>\n",
       "      <td>S&amp;P 500 on pace to close at 2022 low, tech stocks burdened by sell-offs</td>\n",
       "      <td>NEGATIVE</td>\n",
       "      <td>14</td>\n",
       "      <td>0.999336</td>\n",
       "      <td>s&amp;p 500 on pace to close at 2022 low, tech stocks burdened by sell-offs</td>\n",
       "    </tr>\n",
       "    <tr>\n",
       "      <th>98</th>\n",
       "      <td>September sell-offs: Worst week in the worst month of the year, strategist says</td>\n",
       "      <td>NEGATIVE</td>\n",
       "      <td>13</td>\n",
       "      <td>0.999788</td>\n",
       "      <td>september sell-offs: worst week in the worst month of the year, strategist says</td>\n",
       "    </tr>\n",
       "    <tr>\n",
       "      <th>99</th>\n",
       "      <td>Stocks move higher, Bank of England moves to buy bonds to calm market</td>\n",
       "      <td>POSITIVE</td>\n",
       "      <td>13</td>\n",
       "      <td>0.980986</td>\n",
       "      <td>stocks move higher, bank of england moves to buy bonds to calm market</td>\n",
       "    </tr>\n",
       "    <tr>\n",
       "      <th>100</th>\n",
       "      <td>S&amp;P 500 flat after hitting new yearly low, Nasdaq in the red</td>\n",
       "      <td>NEGATIVE</td>\n",
       "      <td>12</td>\n",
       "      <td>0.999711</td>\n",
       "      <td>s&amp;p 500 flat after hitting new yearly low, nasdaq in the red</td>\n",
       "    </tr>\n",
       "    <tr>\n",
       "      <th>102</th>\n",
       "      <td>Investing in This ETF Right Now Could Make You a Millionaire Retiree</td>\n",
       "      <td>NEGATIVE</td>\n",
       "      <td>12</td>\n",
       "      <td>0.903622</td>\n",
       "      <td>investing in this etf right now could make you a millionaire retiree</td>\n",
       "    </tr>\n",
       "    <tr>\n",
       "      <th>117</th>\n",
       "      <td>Cathie Wood's ARK Innovation ETF, tech stocks tumble after August inflation reading</td>\n",
       "      <td>NEGATIVE</td>\n",
       "      <td>12</td>\n",
       "      <td>0.999482</td>\n",
       "      <td>cathie wood's ark innovation etf, tech stocks tumble after august inflation reading</td>\n",
       "    </tr>\n",
       "    <tr>\n",
       "      <th>120</th>\n",
       "      <td>Stocks slide at open, crude oil turns higher, British pound falls</td>\n",
       "      <td>NEGATIVE</td>\n",
       "      <td>11</td>\n",
       "      <td>0.999386</td>\n",
       "      <td>stocks slide at open, crude oil turns higher, british pound falls</td>\n",
       "    </tr>\n",
       "  </tbody>\n",
       "</table>\n",
       "</div>"
      ],
      "text/plain": [
       "                                                                                             Headline  \\\n",
       "24   ETF tracking S&P 500 sees highest number of sharp moves down this year since 2008, Bespoke finds   \n",
       "26                        The 3 Most Popular Robinhood ETFs -- and Why Warren Buffett Loves 2 of Them   \n",
       "27                                          Should SPDR S&P 500 ETF (SPY) Be on Your Investing Radar?   \n",
       "31                            S&P 500 companies will have zero earnings growth in 2023: Goldman Sachs   \n",
       "38                                 Is SPY Stock A Buy Right Now? What To Know About World's Top Index   \n",
       "42                            Market check: S&P 500 breaks above 3,900 level, bond volatility crashes   \n",
       "43        Market rally may be the signal the market has been waiting for on slowing Fed rates: Author   \n",
       "52          The Only 2 Index Funds in Warren Buffett's Portfolio -- and How They Could Make You Money   \n",
       "53                            Powell Talks a Hawkish Game, but Will Be Wary of Another Policy Mistake   \n",
       "55                                  The S&P 500 'could carry all the way to 4,000' points: Strategist   \n",
       "60                  Nasdaq, S&P 500 sectors dragged down by the Fed rate hike news ahead of the close   \n",
       "65                 S&P 500 companies reporting positive earnings surprises falls below 5-year average   \n",
       "67                            A seasonal stock market trade that tends to be reliable begins Thursday   \n",
       "68                                       Buffer ETFs Post 80% Surge in Assets as Haven in Bear Market   \n",
       "69                           Inflation mentioned by two-thirds of S&P 500 companies on earnings calls   \n",
       "75                                   Why Wall Street is warming up to small cap stocks: Morning Brief   \n",
       "76                          ETFs are 'actually great price discovery vehicles' for the market: Expert   \n",
       "78                                      REIT and Currency Hedged: 2 ETFs to Watch for Outsized Volume   \n",
       "83                              10 Fallen Growth Stocks Will Make You Up To 113% Richer, Analysts Say   \n",
       "87                                        S&P 500 could drop to 3,150 if Fed cant muster soft landing   \n",
       "88                                        Stocks fall ahead of the close, dollar trends to the upside   \n",
       "93                                          Stocks steer towards session lows in final day of Q3 2022   \n",
       "96               Declining utilities are 'not really a vote of confidence' for the market: Strategist   \n",
       "97                            S&P 500 on pace to close at 2022 low, tech stocks burdened by sell-offs   \n",
       "98                    September sell-offs: Worst week in the worst month of the year, strategist says   \n",
       "99                              Stocks move higher, Bank of England moves to buy bonds to calm market   \n",
       "100                                      S&P 500 flat after hitting new yearly low, Nasdaq in the red   \n",
       "102                              Investing in This ETF Right Now Could Make You a Millionaire Retiree   \n",
       "117               Cathie Wood's ARK Innovation ETF, tech stocks tumble after August inflation reading   \n",
       "120                                 Stocks slide at open, crude oil turns higher, British pound falls   \n",
       "\n",
       "    Sentiment  word_count     Score  \\\n",
       "24   NEGATIVE          17  0.974795   \n",
       "26   POSITIVE          15  0.998836   \n",
       "27   NEGATIVE          11  0.998921   \n",
       "31   NEGATIVE          12  0.999660   \n",
       "38   NEGATIVE          14  0.991594   \n",
       "42   NEGATIVE          11  0.999228   \n",
       "43   NEGATIVE          17  0.989480   \n",
       "52   NEGATIVE          17  0.992571   \n",
       "53   NEGATIVE          13  0.990042   \n",
       "55   NEGATIVE          12  0.843909   \n",
       "60   NEGATIVE          16  0.999616   \n",
       "65   NEGATIVE          11  0.993263   \n",
       "67   NEGATIVE          12  0.991133   \n",
       "68   NEGATIVE          12  0.890240   \n",
       "69   NEGATIVE          11  0.997317   \n",
       "75   NEGATIVE          12  0.828224   \n",
       "76   POSITIVE          11  0.999355   \n",
       "78   NEGATIVE          11  0.995498   \n",
       "83   POSITIVE          13  0.941960   \n",
       "87   NEGATIVE          12  0.996425   \n",
       "88   NEGATIVE          11  0.989977   \n",
       "93   NEGATIVE          11  0.998589   \n",
       "96   NEGATIVE          13  0.999604   \n",
       "97   NEGATIVE          14  0.999336   \n",
       "98   NEGATIVE          13  0.999788   \n",
       "99   POSITIVE          13  0.980986   \n",
       "100  NEGATIVE          12  0.999711   \n",
       "102  NEGATIVE          12  0.903622   \n",
       "117  NEGATIVE          12  0.999482   \n",
       "120  NEGATIVE          11  0.999386   \n",
       "\n",
       "                                                                                       Headline_Lower  \n",
       "24   etf tracking s&p 500 sees highest number of sharp moves down this year since 2008, bespoke finds  \n",
       "26                        the 3 most popular robinhood etfs -- and why warren buffett loves 2 of them  \n",
       "27                                          should spdr s&p 500 etf (spy) be on your investing radar?  \n",
       "31                            s&p 500 companies will have zero earnings growth in 2023: goldman sachs  \n",
       "38                                 is spy stock a buy right now? what to know about world's top index  \n",
       "42                            market check: s&p 500 breaks above 3,900 level, bond volatility crashes  \n",
       "43        market rally may be the signal the market has been waiting for on slowing fed rates: author  \n",
       "52          the only 2 index funds in warren buffett's portfolio -- and how they could make you money  \n",
       "53                            powell talks a hawkish game, but will be wary of another policy mistake  \n",
       "55                                  the s&p 500 'could carry all the way to 4,000' points: strategist  \n",
       "60                  nasdaq, s&p 500 sectors dragged down by the fed rate hike news ahead of the close  \n",
       "65                 s&p 500 companies reporting positive earnings surprises falls below 5-year average  \n",
       "67                            a seasonal stock market trade that tends to be reliable begins thursday  \n",
       "68                                       buffer etfs post 80% surge in assets as haven in bear market  \n",
       "69                           inflation mentioned by two-thirds of s&p 500 companies on earnings calls  \n",
       "75                                   why wall street is warming up to small cap stocks: morning brief  \n",
       "76                          etfs are 'actually great price discovery vehicles' for the market: expert  \n",
       "78                                      reit and currency hedged: 2 etfs to watch for outsized volume  \n",
       "83                              10 fallen growth stocks will make you up to 113% richer, analysts say  \n",
       "87                                        s&p 500 could drop to 3,150 if fed cant muster soft landing  \n",
       "88                                        stocks fall ahead of the close, dollar trends to the upside  \n",
       "93                                          stocks steer towards session lows in final day of q3 2022  \n",
       "96               declining utilities are 'not really a vote of confidence' for the market: strategist  \n",
       "97                            s&p 500 on pace to close at 2022 low, tech stocks burdened by sell-offs  \n",
       "98                    september sell-offs: worst week in the worst month of the year, strategist says  \n",
       "99                              stocks move higher, bank of england moves to buy bonds to calm market  \n",
       "100                                      s&p 500 flat after hitting new yearly low, nasdaq in the red  \n",
       "102                              investing in this etf right now could make you a millionaire retiree  \n",
       "117               cathie wood's ark innovation etf, tech stocks tumble after august inflation reading  \n",
       "120                                 stocks slide at open, crude oil turns higher, british pound falls  "
      ]
     },
     "execution_count": 185,
     "metadata": {},
     "output_type": "execute_result"
    }
   ],
   "source": [
    "df[df['Score'] > 0.8]"
   ]
  },
  {
   "cell_type": "code",
   "execution_count": 186,
   "metadata": {},
   "outputs": [
    {
     "data": {
      "text/plain": [
       "<AxesSubplot:xlabel='Sentiment', ylabel='Count'>"
      ]
     },
     "execution_count": 186,
     "metadata": {},
     "output_type": "execute_result"
    },
    {
     "data": {
      "image/png": "[encoded data removed]",
      "text/plain": [
       "<Figure size 432x288 with 1 Axes>"
      ]
     },
     "metadata": {
      "needs_background": "light"
     },
     "output_type": "display_data"
    }
   ],
   "source": [
    "sns.histplot(x = 'Sentiment', data = df[df['Score'] > 0.8], hue = 'Sentiment', hue_order=['POSITIVE', 'NEGATIVE'])"
   ]
  },
  {
   "cell_type": "markdown",
   "metadata": {},
   "source": [
    "# NUSI Ticker"
   ]
  },
  {
   "cell_type": "code",
   "execution_count": 187,
   "metadata": {},
   "outputs": [],
   "source": [
    "url = \"https://finviz.com/quote.ashx?t=NUSI&ty=c&ta=1&p=d\"\n",
    "\n",
    "\n",
    "headers = {\"User-Agent\": \"Mozilla/5.0\"}\n",
    "cookies = {\"CONSENT\": \"YES+cb.20210720-07-p0.en+FX+410\"}\n",
    "\n",
    "req = Request(url, headers=headers)\n",
    "\n",
    "try:\n",
    "    contents = urlopen(req).read() \n",
    "    soup = BeautifulSoup(contents, features=\"html.parser\")\n",
    "\n",
    "    sentence2 = []\n",
    "\n",
    "    for tag in soup.find_all('a'):\n",
    "\n",
    "        sentence = tag.text.split(\".\")\n",
    "        sentence2.append(sentence)\n",
    "\n",
    "except urllib.error.HTTPError as err:\n",
    "    print(err.code)\n",
    "\n",
    "except socket.timeout as se:\n",
    "    print(\"socket timeout\")"
   ]
  },
  {
   "cell_type": "code",
   "execution_count": 188,
   "metadata": {},
   "outputs": [],
   "source": [
    "df = pd.DataFrame(sentence2)"
   ]
  },
  {
   "cell_type": "code",
   "execution_count": 189,
   "metadata": {},
   "outputs": [],
   "source": [
    "df['Headline'] = df[0]\n",
    "df['Sentiment'] = -2\n",
    "df = pd.DataFrame(list(zip(df['Headline'], df['Sentiment'])), columns=['Headline', 'Sentiment'])"
   ]
  },
  {
   "cell_type": "code",
   "execution_count": 190,
   "metadata": {},
   "outputs": [],
   "source": [
    "i = []\n",
    "\n",
    "for string in df['Headline']:\n",
    "    i.append(count_words(string))\n",
    "\n",
    "df['word_count'] = i\n"
   ]
  },
  {
   "cell_type": "code",
   "execution_count": 191,
   "metadata": {},
   "outputs": [],
   "source": [
    "sentiment = [None] * len(df)\n",
    "sentiment_score = [None] * len(df)\n",
    "index = -1\n",
    "for sentence in df['Headline']:\n",
    "    index+=1\n",
    "    result = sentiment_pipeline(sentence[:512])[0]\n",
    "    sentiment[index] = result['label']\n",
    "    sentiment_score[index] = result['score']\n",
    "df['Sentiment'] = sentiment\n",
    "df['Score'] = sentiment_score\n"
   ]
  },
  {
   "cell_type": "code",
   "execution_count": 192,
   "metadata": {},
   "outputs": [],
   "source": [
    "df = df[df['word_count'] > 10]\n",
    "df['Headline_Lower'] = df['Headline'].str.lower()"
   ]
  },
  {
   "cell_type": "code",
   "execution_count": 193,
   "metadata": {},
   "outputs": [
    {
     "data": {
      "text/html": [
       "<div>\n",
       "<style scoped>\n",
       "    .dataframe tbody tr th:only-of-type {\n",
       "        vertical-align: middle;\n",
       "    }\n",
       "\n",
       "    .dataframe tbody tr th {\n",
       "        vertical-align: top;\n",
       "    }\n",
       "\n",
       "    .dataframe thead th {\n",
       "        text-align: right;\n",
       "    }\n",
       "</style>\n",
       "<table border=\"1\" class=\"dataframe\">\n",
       "  <thead>\n",
       "    <tr style=\"text-align: right;\">\n",
       "      <th></th>\n",
       "      <th>Headline</th>\n",
       "      <th>Sentiment</th>\n",
       "      <th>word_count</th>\n",
       "      <th>Score</th>\n",
       "      <th>Headline_Lower</th>\n",
       "    </tr>\n",
       "  </thead>\n",
       "  <tbody>\n",
       "    <tr>\n",
       "      <th>26</th>\n",
       "      <td>Aflac CEO: Let politics fall where they may on racial justice</td>\n",
       "      <td>NEGATIVE</td>\n",
       "      <td>11</td>\n",
       "      <td>0.998484</td>\n",
       "      <td>aflac ceo: let politics fall where they may on racial justice</td>\n",
       "    </tr>\n",
       "  </tbody>\n",
       "</table>\n",
       "</div>"
      ],
      "text/plain": [
       "                                                         Headline Sentiment  \\\n",
       "26  Aflac CEO: Let politics fall where they may on racial justice  NEGATIVE   \n",
       "\n",
       "    word_count     Score  \\\n",
       "26          11  0.998484   \n",
       "\n",
       "                                                   Headline_Lower  \n",
       "26  aflac ceo: let politics fall where they may on racial justice  "
      ]
     },
     "execution_count": 193,
     "metadata": {},
     "output_type": "execute_result"
    }
   ],
   "source": [
    "df[df['Score'] > 0.8]"
   ]
  },
  {
   "cell_type": "code",
   "execution_count": 194,
   "metadata": {},
   "outputs": [
    {
     "data": {
      "text/plain": [
       "<AxesSubplot:xlabel='Sentiment', ylabel='Count'>"
      ]
     },
     "execution_count": 194,
     "metadata": {},
     "output_type": "execute_result"
    },
    {
     "data": {
      "image/png": "[encoded data removed]",
      "text/plain": [
       "<Figure size 432x288 with 1 Axes>"
      ]
     },
     "metadata": {
      "needs_background": "light"
     },
     "output_type": "display_data"
    }
   ],
   "source": [
    "sns.histplot(x = 'Sentiment', data = df[df['Score'] > 0.8], hue = 'Sentiment', hue_order=['POSITIVE', 'NEGATIVE'])"
   ]
  },
  {
   "cell_type": "markdown",
   "metadata": {},
   "source": [
    "# XOM YF"
   ]
  },
  {
   "cell_type": "code",
   "execution_count": 195,
   "metadata": {},
   "outputs": [
    {
     "name": "stdout",
     "output_type": "stream",
     "text": [
      "Requesting html page\n",
      "Extracting news tags\n",
      "Parsing news tags\n",
      "Save the data to a CSV\n"
     ]
    }
   ],
   "source": [
    "YAHOO_NEWS_URL = 'https://finance.yahoo.com/quote/XOM/news?p=XOM'\n",
    "news_df = scrape_yahoo_news(YAHOO_NEWS_URL)"
   ]
  },
  {
   "cell_type": "code",
   "execution_count": 196,
   "metadata": {},
   "outputs": [],
   "source": [
    "from transformers import pipeline\n",
    "\n",
    "import warnings\n",
    "warnings.filterwarnings(\"ignore\")\n",
    "\n",
    "from IPython.core.interactiveshell import InteractiveShell\n",
    "InteractiveShell.ast_node_interactivity = 'all'\n",
    "\n",
    "pd.set_option('display.max_columns', None) "
   ]
  },
  {
   "cell_type": "code",
   "execution_count": 197,
   "metadata": {},
   "outputs": [],
   "source": [
    "sentiment_pipeline = pipeline(\"sentiment-analysis\", model=\"distilbert-base-uncased-finetuned-sst-2-english\")"
   ]
  },
  {
   "cell_type": "code",
   "execution_count": 198,
   "metadata": {},
   "outputs": [],
   "source": [
    "sentiment = [None] * len(news_df)\n",
    "sentiment_score = [None] * len(news_df)\n",
    "index = -1\n",
    "for sentence in news_df['headline']:\n",
    "    index+=1\n",
    "    result = sentiment_pipeline(sentence[:512])[0]\n",
    "    sentiment[index] = result['label']\n",
    "    sentiment_score[index] = result['score']\n",
    "news_df['Sentiment'] = sentiment\n",
    "news_df['Score'] = sentiment_score\n",
    "\n",
    "\n",
    "sentiment = [None] * len(news_df)\n",
    "sentiment_score = [None] * len(news_df)\n",
    "index = -1\n",
    "for sentence in news_df['content']:\n",
    "    index+=1\n",
    "    result = sentiment_pipeline(sentence[:512])[0]\n",
    "    sentiment[index] = result['label']\n",
    "    sentiment_score[index] = result['score']\n",
    "news_df['Sentiment2'] = sentiment\n",
    "news_df['Score2'] = sentiment_score"
   ]
  },
  {
   "cell_type": "code",
   "execution_count": 199,
   "metadata": {},
   "outputs": [],
   "source": [
    "import seaborn as sns"
   ]
  },
  {
   "cell_type": "code",
   "execution_count": 200,
   "metadata": {},
   "outputs": [
    {
     "data": {
      "text/html": [
       "<div>\n",
       "<style scoped>\n",
       "    .dataframe tbody tr th:only-of-type {\n",
       "        vertical-align: middle;\n",
       "    }\n",
       "\n",
       "    .dataframe tbody tr th {\n",
       "        vertical-align: top;\n",
       "    }\n",
       "\n",
       "    .dataframe thead th {\n",
       "        text-align: right;\n",
       "    }\n",
       "</style>\n",
       "<table border=\"1\" class=\"dataframe\">\n",
       "  <thead>\n",
       "    <tr style=\"text-align: right;\">\n",
       "      <th></th>\n",
       "      <th>source</th>\n",
       "      <th>time</th>\n",
       "      <th>headline</th>\n",
       "      <th>content</th>\n",
       "      <th>Sentiment</th>\n",
       "      <th>Score</th>\n",
       "      <th>Sentiment2</th>\n",
       "      <th>Score2</th>\n",
       "    </tr>\n",
       "  </thead>\n",
       "  <tbody>\n",
       "    <tr>\n",
       "      <th>0</th>\n",
       "      <td>MoneyWise</td>\n",
       "      <td>8 hours ago</td>\n",
       "      <td>Winter is coming: The 'best country in the world' is planning to ban electric cars amid the energy crisis. Is it time to revisit oil stocks? Here are 3 big plays</td>\n",
       "      <td>Wake up and smell the diesel.</td>\n",
       "      <td>NEGATIVE</td>\n",
       "      <td>0.992041</td>\n",
       "      <td>POSITIVE</td>\n",
       "      <td>0.975145</td>\n",
       "    </tr>\n",
       "    <tr>\n",
       "      <th>1</th>\n",
       "      <td>Insider Monkey</td>\n",
       "      <td>9 hours ago</td>\n",
       "      <td>11 Best Low-Risk Dividend Stocks to Invest In</td>\n",
       "      <td>In this article, we discuss 11 best low-risk dividend stocks to invest in. You can skip our detailed analysis on dividend investment and their returns in the past, and go directly to read 5 Best Low-Risk Dividend Stocks to Invest In. The stock market has been rocky throughout this year, making investors anxious about the […]</td>\n",
       "      <td>POSITIVE</td>\n",
       "      <td>0.999301</td>\n",
       "      <td>NEGATIVE</td>\n",
       "      <td>0.973663</td>\n",
       "    </tr>\n",
       "    <tr>\n",
       "      <th>2</th>\n",
       "      <td>Bloomberg</td>\n",
       "      <td>11 hours ago</td>\n",
       "      <td>Exxon’s US Workers Get Inflation-Busting Pay Hike as Profit Hits Record</td>\n",
       "      <td>(Bloomberg) -- Exxon Mobil Corp. is awarding US employees above-inflation pay increases just weeks after the Texas oil giant posted its highest quarterly profit, underlining how strong 2022 has been for the fossil-fuel industry while other sectors like technology and finance cut jobs.Most Read from BloombergPutin Calls Russian Nukes Deterrent Factor, Says War Risk RisingPeru’s President Accused of Coup After Move to Dissolve CongressWhy Did So Many US Men Quit Working? Social Status May Hold...</td>\n",
       "      <td>NEGATIVE</td>\n",
       "      <td>0.986448</td>\n",
       "      <td>NEGATIVE</td>\n",
       "      <td>0.978648</td>\n",
       "    </tr>\n",
       "    <tr>\n",
       "      <th>3</th>\n",
       "      <td>Motley Fool</td>\n",
       "      <td>15 hours ago</td>\n",
       "      <td>2 Dividend Aristocrats to Buy for 2023</td>\n",
       "      <td>Heading into next year, a couple of Aristocrats that look to be good investments are Abbott Laboratories (NYSE: ABT) and ExxonMobil (NYSE: XOM).  Healthcare giant Abbott Laboratories has a diverse business that generates over $1 billion in revenue every quarter from multiple segments, including medical devices, pharmaceuticals, diagnostics, and nutrition.  Abbott has since restarted production and, assuming no interruptions happen again, next year should be a stronger one for that segment as...</td>\n",
       "      <td>NEGATIVE</td>\n",
       "      <td>0.907515</td>\n",
       "      <td>POSITIVE</td>\n",
       "      <td>0.694557</td>\n",
       "    </tr>\n",
       "    <tr>\n",
       "      <th>4</th>\n",
       "      <td>Investor's Business Daily</td>\n",
       "      <td>17 hours ago</td>\n",
       "      <td>Dow Jones Futures Fall: Market Rally Wipes Out Powell Gains As Apple, Exxon, Tesla Skid</td>\n",
       "      <td>Futures fell after the market rally erased gains from Fed chief Jerome Powell's Nov. 30 speech. Apple, Exxon broke below key levels.</td>\n",
       "      <td>NEGATIVE</td>\n",
       "      <td>0.999235</td>\n",
       "      <td>NEGATIVE</td>\n",
       "      <td>0.999378</td>\n",
       "    </tr>\n",
       "    <tr>\n",
       "      <th>5</th>\n",
       "      <td>Zacks</td>\n",
       "      <td>20 hours ago</td>\n",
       "      <td>The Zacks Analyst Blog Highlights Exxon Mobil, WesBanco, S&amp;T Bancorp, Gilead Sciences and Conagra Brands</td>\n",
       "      <td>Exxon Mobil, WesBanco, S&amp;T Bancorp, Gilead Sciences and Conagra Brands are included in this Analyst Blog.</td>\n",
       "      <td>POSITIVE</td>\n",
       "      <td>0.987182</td>\n",
       "      <td>POSITIVE</td>\n",
       "      <td>0.741008</td>\n",
       "    </tr>\n",
       "    <tr>\n",
       "      <th>6</th>\n",
       "      <td>Motley Fool</td>\n",
       "      <td>2 days ago</td>\n",
       "      <td>Why Chevron, Exxon, and Kinder Morgan All Fell Today</td>\n",
       "      <td>Shares of major oil stocks, including diversified majors Chevron (NYSE: CVX), ExxonMobil (NYSE: XOM), and pipeline giant Kinder Morgan (NYSE: KMI) all fell on Tuesday, declining 2.4%, 3%, and 2.6%, respectively, as of 2:41 p.m. ET.  The entire market was down today, as recession fears appeared to loom over most stocks.  A recession of course wouldn't be good for any commodity, oil and gas included.</td>\n",
       "      <td>NEGATIVE</td>\n",
       "      <td>0.999408</td>\n",
       "      <td>NEGATIVE</td>\n",
       "      <td>0.999698</td>\n",
       "    </tr>\n",
       "    <tr>\n",
       "      <th>7</th>\n",
       "      <td>MarketWatch</td>\n",
       "      <td>2 days ago</td>\n",
       "      <td>World will face shortage of liquefied natural gas through 2026, says Exxon CEO</td>\n",
       "      <td>Russia cut supplies of natural gas to Europe in response to the wave of international sanctions that followed Moscow's invasion of Ukraine.</td>\n",
       "      <td>NEGATIVE</td>\n",
       "      <td>0.991765</td>\n",
       "      <td>NEGATIVE</td>\n",
       "      <td>0.995576</td>\n",
       "    </tr>\n",
       "    <tr>\n",
       "      <th>8</th>\n",
       "      <td>Zacks</td>\n",
       "      <td>2 days ago</td>\n",
       "      <td>Amcor (AMCR) Inks Deal to Buy Recycled Material From Exxon Mobil</td>\n",
       "      <td>Amcor (AMCR) enters into an agreement with Exxon Mobil to purchase recycled materials for its food and healthcare markets.</td>\n",
       "      <td>NEGATIVE</td>\n",
       "      <td>0.998305</td>\n",
       "      <td>NEGATIVE</td>\n",
       "      <td>0.978695</td>\n",
       "    </tr>\n",
       "    <tr>\n",
       "      <th>9</th>\n",
       "      <td>Insider Monkey</td>\n",
       "      <td>2 days ago</td>\n",
       "      <td>10 Best Performing Commodity ETFs in 2022</td>\n",
       "      <td>In this article, we discuss 10 best performing commodity ETFs in 2022. If you want to see more ETFs in this selection, check out 5 Best Performing Commodity ETFs in 2022. As per a new S&amp;P Global Market Intelligence report, dated November 4, commodities prices for core metals will be hit by the macro backdrop […]</td>\n",
       "      <td>POSITIVE</td>\n",
       "      <td>0.999047</td>\n",
       "      <td>POSITIVE</td>\n",
       "      <td>0.689443</td>\n",
       "    </tr>\n",
       "    <tr>\n",
       "      <th>10</th>\n",
       "      <td>Zacks</td>\n",
       "      <td>2 days ago</td>\n",
       "      <td>Investors Heavily Search Exxon Mobil Corporation (XOM): Here is What You Need to Know</td>\n",
       "      <td>Zacks.com users have recently been watching Exxon (XOM) quite a bit. Thus, it is worth knowing the facts that could determine the stock's prospects.</td>\n",
       "      <td>NEGATIVE</td>\n",
       "      <td>0.989767</td>\n",
       "      <td>POSITIVE</td>\n",
       "      <td>0.995933</td>\n",
       "    </tr>\n",
       "    <tr>\n",
       "      <th>11</th>\n",
       "      <td>Reuters</td>\n",
       "      <td>2 days ago</td>\n",
       "      <td>Exxon starts new polypropylene unit at Baton Rouge, Louisiana complex</td>\n",
       "      <td>The new unit, with a pricetag over half a billion dollars, adds 450,000 metric tons of polypropylene production, doubling the Baton Rouge Polyolefins plant’s capacity, Exxon said.  Polypropylene is used in making a wide variety of products from food and drink containers, plumbing, disposable diapers and in medicine.</td>\n",
       "      <td>NEGATIVE</td>\n",
       "      <td>0.965330</td>\n",
       "      <td>POSITIVE</td>\n",
       "      <td>0.923597</td>\n",
       "    </tr>\n",
       "    <tr>\n",
       "      <th>12</th>\n",
       "      <td>Zacks</td>\n",
       "      <td>2 days ago</td>\n",
       "      <td>5 Dividend Stocks to Allay Fears of a More-Aggressive Fed</td>\n",
       "      <td>As U.S. stocks stumble on concerns of further rate hikes, investing in dividend players like Exxon Mobil (XOM), Gilead Sciences (GILD) and Conagra Brands (CAG) for a steady stream of income seems prudent.</td>\n",
       "      <td>NEGATIVE</td>\n",
       "      <td>0.985945</td>\n",
       "      <td>NEGATIVE</td>\n",
       "      <td>0.994397</td>\n",
       "    </tr>\n",
       "    <tr>\n",
       "      <th>13</th>\n",
       "      <td>Motley Fool</td>\n",
       "      <td>3 days ago</td>\n",
       "      <td>Why Chevron, ExxonMobil, and Kinder Morgan Stocks Dropped on Monday</td>\n",
       "      <td>Oil stocks fell on Monday, with Chevron (NYSE: CVX) ending the day down 2.4% and ExxonMobil (NYSE: XOM) falling 2.8%.  Kinder Morgan (NYSE: KMI), more of a domestic player in oil and gas transport than in production, suffered a loss of 2.3%.  The big news in oil and gas today came out of Saudi Arabia, which announced that it is cutting the price of oil it produces for export to Asia (read \"China\") by $2.20 per barrel.</td>\n",
       "      <td>NEGATIVE</td>\n",
       "      <td>0.999018</td>\n",
       "      <td>NEGATIVE</td>\n",
       "      <td>0.999612</td>\n",
       "    </tr>\n",
       "    <tr>\n",
       "      <th>14</th>\n",
       "      <td>MarketWatch</td>\n",
       "      <td>3 days ago</td>\n",
       "      <td>BP stake in Russian oil giant Rosneft is ‘blood money,’ says adviser to Ukraine’s President Zelensky</td>\n",
       "      <td>In February, BP said it would exit its 19.75% stake in Rosneft, but it has yet to complete that exit.</td>\n",
       "      <td>NEGATIVE</td>\n",
       "      <td>0.981735</td>\n",
       "      <td>NEGATIVE</td>\n",
       "      <td>0.998869</td>\n",
       "    </tr>\n",
       "    <tr>\n",
       "      <th>15</th>\n",
       "      <td>Yahoo Finance</td>\n",
       "      <td>3 days ago</td>\n",
       "      <td>Why the war on fossil fuels is causing chaos</td>\n",
       "      <td>The United States and other advanced nations are making crucial investment in green energy. What they're not doing is safeguarding the fossil fuels consumers depend on today.</td>\n",
       "      <td>NEGATIVE</td>\n",
       "      <td>0.997008</td>\n",
       "      <td>POSITIVE</td>\n",
       "      <td>0.976906</td>\n",
       "    </tr>\n",
       "    <tr>\n",
       "      <th>16</th>\n",
       "      <td>Bloomberg</td>\n",
       "      <td>3 days ago</td>\n",
       "      <td>Exxon’s Leaders Get 10% Salary Boost as Stock Nears Record Annual Gain</td>\n",
       "      <td>(Bloomberg) -- Exxon Mobil Corp.’s top executives scored above-inflation salary increases of around 10% for next year as the oil giant’s stock closes in on its best-ever annual performance. Most Read from Bloomberg‘Huge, Missing and Growing:’ $65 Trillion in Dollar Debt Sparks ConcernStocks Hit by Fed-Hike Jitters as US Yields Surge: Markets WrapRussia Blames Ukraine for Blasts at Bases That Damaged WarplanesElon Musk’s Impossible Electric Truck Is Getting the Last LaughAmbitious Plans to Build</td>\n",
       "      <td>POSITIVE</td>\n",
       "      <td>0.926340</td>\n",
       "      <td>NEGATIVE</td>\n",
       "      <td>0.960693</td>\n",
       "    </tr>\n",
       "    <tr>\n",
       "      <th>17</th>\n",
       "      <td>MarketWatch</td>\n",
       "      <td>3 days ago</td>\n",
       "      <td>Exxon CEO gets 10% base pay raise</td>\n",
       "      <td>Exxon Mobil Corp. said Monday its compensation committee approved an increase in the annual salary for chairman and CEO Darren W. Woods to $1.875 million per year in 2023, up from $1.703 million for 2022. CFO Kathryn A. Mikells will receive an annual base salary of $1.221 million, up from $437,500 in 2021, when she joined the company. Shares of Exxon Mobil are up 79.5% in 2022 compared to a 14.6% loss by the S&amp;P 500 .</td>\n",
       "      <td>POSITIVE</td>\n",
       "      <td>0.831330</td>\n",
       "      <td>NEGATIVE</td>\n",
       "      <td>0.982738</td>\n",
       "    </tr>\n",
       "    <tr>\n",
       "      <th>18</th>\n",
       "      <td>Reuters</td>\n",
       "      <td>3 days ago</td>\n",
       "      <td>Exxon Mobil raises CEO, top executives base pay</td>\n",
       "      <td>Exxon Mobil's compensation committee approved an increase in the annual salary of Chief Executive Officer Darren Woods to $1.88 million from $1.70 million this year, according to a filing.  Kathryn Mikells, who became the company's chief financial officer in August last year, will receive a base pay of $1.22 million in 2023.  The company also raised the salaries of its senior vice presidents, effective Jan. 1, 2023.</td>\n",
       "      <td>POSITIVE</td>\n",
       "      <td>0.951311</td>\n",
       "      <td>POSITIVE</td>\n",
       "      <td>0.991991</td>\n",
       "    </tr>\n",
       "    <tr>\n",
       "      <th>19</th>\n",
       "      <td>Insider Monkey</td>\n",
       "      <td>4 days ago</td>\n",
       "      <td>15 Most Capitalist Companies in the World</td>\n",
       "      <td>In this article, we take a look at 15 most capitalist companies in the world. You can skip our detailed analysis of the excesses of capitalism and go directly to 5 Most Capitalist Companies in the World. The unbridled capitalism that has gone around in countries like the US has created unprecedented levels of harm […]</td>\n",
       "      <td>POSITIVE</td>\n",
       "      <td>0.998176</td>\n",
       "      <td>NEGATIVE</td>\n",
       "      <td>0.992455</td>\n",
       "    </tr>\n",
       "    <tr>\n",
       "      <th>20</th>\n",
       "      <td>Simply Wall St.</td>\n",
       "      <td>4 days ago</td>\n",
       "      <td>Exxon Mobil Corporation's (NYSE:XOM) Stock Has Seen Strong Momentum: Does That Call For Deeper Study Of Its Financial Prospects?</td>\n",
       "      <td>Most readers would already be aware that Exxon Mobil's (NYSE:XOM) stock increased significantly by 15% over the past...</td>\n",
       "      <td>POSITIVE</td>\n",
       "      <td>0.789587</td>\n",
       "      <td>NEGATIVE</td>\n",
       "      <td>0.979937</td>\n",
       "    </tr>\n",
       "    <tr>\n",
       "      <th>21</th>\n",
       "      <td>MarketWatch</td>\n",
       "      <td>6 days ago</td>\n",
       "      <td>Exxon board expands to 13 directors; airline, aerospace executives join</td>\n",
       "      <td>Exxon Mobil Corp. said late Friday that Larry W. Kellner and John D. Harris II have joined its board, which expanded to 13 directors. Kellner is the former chief executive of Continental Airlines, which merged with United Airlines in 2010, and current chairman of the board for Boeing Co. Harris is the former chief executive of Raytheon International Inc., a subsidiary of Raytheon Technologies Co. . Of the 13 directors, 12 are independent, Exxon said. \"We welcome both Larry and John to the Ex...</td>\n",
       "      <td>POSITIVE</td>\n",
       "      <td>0.994539</td>\n",
       "      <td>POSITIVE</td>\n",
       "      <td>0.998294</td>\n",
       "    </tr>\n",
       "    <tr>\n",
       "      <th>22</th>\n",
       "      <td>Zacks</td>\n",
       "      <td>6 days ago</td>\n",
       "      <td>Equinor (EQNR) Gets Approval to Expand Norway's Oseberg Fields</td>\n",
       "      <td>Equinor (EQNR) expects the development plan to increase production at Oseberg by 31.2 million cubic meters of oil equivalent.</td>\n",
       "      <td>POSITIVE</td>\n",
       "      <td>0.998867</td>\n",
       "      <td>NEGATIVE</td>\n",
       "      <td>0.994017</td>\n",
       "    </tr>\n",
       "    <tr>\n",
       "      <th>23</th>\n",
       "      <td>Investor's Business Daily</td>\n",
       "      <td>6 days ago</td>\n",
       "      <td>Hot Fund To SEC: We're Boosting Bets On Best Stock Picks</td>\n",
       "      <td>Wondering how to invest in stocks and mutual funds amid a grim market? Red-hot Invesco Comstock Select Fund is doubling down on its strategy.</td>\n",
       "      <td>POSITIVE</td>\n",
       "      <td>0.998280</td>\n",
       "      <td>NEGATIVE</td>\n",
       "      <td>0.999466</td>\n",
       "    </tr>\n",
       "    <tr>\n",
       "      <th>24</th>\n",
       "      <td>Insider Monkey</td>\n",
       "      <td>7 days ago</td>\n",
       "      <td>15 Best Dividend Stocks for Passive Income</td>\n",
       "      <td>In this article, we discuss 15 best dividend stocks for passive income. You can skip our detailed analysis of dividend stocks and their performance over the years, and go directly to read 5 Best Dividend Stocks for Passive Income. Growing inflation and recession risks this year have investors piling onto dividend stocks like Exxon Mobil […]</td>\n",
       "      <td>POSITIVE</td>\n",
       "      <td>0.998621</td>\n",
       "      <td>NEGATIVE</td>\n",
       "      <td>0.991636</td>\n",
       "    </tr>\n",
       "    <tr>\n",
       "      <th>25</th>\n",
       "      <td>Investor's Business Daily</td>\n",
       "      <td>7 days ago</td>\n",
       "      <td>Oil Firm Eyeing 3,755% Q4 Growth Leads 24 Fastest-Growing Stocks</td>\n",
       "      <td>With analysts expecting a whopping 3,755% Q4 growth, HF Sinclair leads this list of 24 of today's fastest-growing stocks.</td>\n",
       "      <td>POSITIVE</td>\n",
       "      <td>0.997976</td>\n",
       "      <td>POSITIVE</td>\n",
       "      <td>0.999618</td>\n",
       "    </tr>\n",
       "    <tr>\n",
       "      <th>26</th>\n",
       "      <td>Zacks</td>\n",
       "      <td>7 days ago</td>\n",
       "      <td>CVX to Commence Venezuelan Oil Output Amid Easing Sanctions</td>\n",
       "      <td>The U.S. OFAC grants a six-month license to CVX, allowing the company to produce crude oil and petroleum products in its projects in Venezuela.</td>\n",
       "      <td>NEGATIVE</td>\n",
       "      <td>0.956472</td>\n",
       "      <td>NEGATIVE</td>\n",
       "      <td>0.519273</td>\n",
       "    </tr>\n",
       "    <tr>\n",
       "      <th>27</th>\n",
       "      <td>MoneyWise</td>\n",
       "      <td>7 days ago</td>\n",
       "      <td>BofA warns hot inflation might run rampant for another 10 years — here’s the 1 shockproof sector that could preserve your wealth under that worst-case scenario</td>\n",
       "      <td>Think price levels will be back to normal soon? Think again.</td>\n",
       "      <td>NEGATIVE</td>\n",
       "      <td>0.998663</td>\n",
       "      <td>NEGATIVE</td>\n",
       "      <td>0.985900</td>\n",
       "    </tr>\n",
       "    <tr>\n",
       "      <th>28</th>\n",
       "      <td>American City Business Journals</td>\n",
       "      <td>8 days ago</td>\n",
       "      <td>ExxonMobil and Mitsubishi Heavy Industries partner to advance carbon capture technology</td>\n",
       "      <td>As part of the agreement, MHI will deploy its carbon capture technology as part of ExxonMobil's carbon capture and storage solution for heavy-emitting industrial customers.</td>\n",
       "      <td>POSITIVE</td>\n",
       "      <td>0.996585</td>\n",
       "      <td>POSITIVE</td>\n",
       "      <td>0.909628</td>\n",
       "    </tr>\n",
       "    <tr>\n",
       "      <th>29</th>\n",
       "      <td>Insider Monkey</td>\n",
       "      <td>8 days ago</td>\n",
       "      <td>Top 10 Stocks to Buy in 10 Different Sectors</td>\n",
       "      <td>In this article, we will take a look at the top 10 stocks to buy in 10 different sectors. If you want to see more of the top stocks to buy in different sectors, go directly to Top 5 Stocks to Buy in 10 Different Sectors. Diversification when done correctly can improve a portfolio as […]</td>\n",
       "      <td>POSITIVE</td>\n",
       "      <td>0.998139</td>\n",
       "      <td>POSITIVE</td>\n",
       "      <td>0.985311</td>\n",
       "    </tr>\n",
       "    <tr>\n",
       "      <th>30</th>\n",
       "      <td>Insider Monkey</td>\n",
       "      <td>8 days ago</td>\n",
       "      <td>11 Best Nuclear Energy Stocks To Buy Today</td>\n",
       "      <td>In this article, we will be taking a look at the 11 best nuclear energy stocks to buy today. To skip our detailed analysis of these stocks and the nuclear energy sector, you can go directly to see the 5 Best Nuclear Energy Stocks To Buy Today. In light of growing concerns when it comes to […]</td>\n",
       "      <td>POSITIVE</td>\n",
       "      <td>0.999656</td>\n",
       "      <td>POSITIVE</td>\n",
       "      <td>0.970718</td>\n",
       "    </tr>\n",
       "    <tr>\n",
       "      <th>31</th>\n",
       "      <td>MarketWatch</td>\n",
       "      <td>8 days ago</td>\n",
       "      <td>20 big oil companies expected to be cash gushers in 2023 despite short-term uncertainty</td>\n",
       "      <td>The oil industry faces an earnings decline, but the long-term outlook is healthy, according to analysts at Jefferies.</td>\n",
       "      <td>POSITIVE</td>\n",
       "      <td>0.978905</td>\n",
       "      <td>POSITIVE</td>\n",
       "      <td>0.997730</td>\n",
       "    </tr>\n",
       "    <tr>\n",
       "      <th>32</th>\n",
       "      <td>Zacks</td>\n",
       "      <td>8 days ago</td>\n",
       "      <td>Enbridge (ENB), Bad River Tribe to Form Line 5 Oil Spill Plan</td>\n",
       "      <td>Enbridge (ENB) and the Bad River tribe have to submit a joint proposal or provide their proposals if no agreement can be reached by Dec 24.</td>\n",
       "      <td>NEGATIVE</td>\n",
       "      <td>0.994647</td>\n",
       "      <td>NEGATIVE</td>\n",
       "      <td>0.997942</td>\n",
       "    </tr>\n",
       "    <tr>\n",
       "      <th>33</th>\n",
       "      <td>Insider Monkey</td>\n",
       "      <td>8 days ago</td>\n",
       "      <td>14 Safe Stocks to Buy For Beginner Investors</td>\n",
       "      <td>In this article, we discuss the 14 safe stocks to buy for beginner investors. If you want to read about some more safe stocks, go directly to 5 Safe Stocks to Buy For Beginner Investors. The collapse of the cryptocurrency market in the past few months has highlighted the perils of investing in speculative assets, […]</td>\n",
       "      <td>POSITIVE</td>\n",
       "      <td>0.992619</td>\n",
       "      <td>POSITIVE</td>\n",
       "      <td>0.982073</td>\n",
       "    </tr>\n",
       "    <tr>\n",
       "      <th>34</th>\n",
       "      <td>Simply Wall St.</td>\n",
       "      <td>8 days ago</td>\n",
       "      <td>Exxon Mobil Corporation's (NYSE:XOM) Stock On An Uptrend: Could Fundamentals Be Driving The Momentum?</td>\n",
       "      <td>Most readers would already be aware that Exxon Mobil's (NYSE:XOM) stock increased significantly by 16% over the past...</td>\n",
       "      <td>NEGATIVE</td>\n",
       "      <td>0.999334</td>\n",
       "      <td>NEGATIVE</td>\n",
       "      <td>0.978956</td>\n",
       "    </tr>\n",
       "    <tr>\n",
       "      <th>35</th>\n",
       "      <td>Insider Monkey</td>\n",
       "      <td>8 days ago</td>\n",
       "      <td>15 Most Polluting Companies in the World</td>\n",
       "      <td>In this piece, we will take a look at the fifteen most polluting companies in the world. For more companies, head on over to 5 Most Polluting Companies in the World. Global warming is one of the most pressing challenges faced by the world today. Greenhouse gas emissions, an ugly consequence of the cost of […]</td>\n",
       "      <td>NEGATIVE</td>\n",
       "      <td>0.993034</td>\n",
       "      <td>POSITIVE</td>\n",
       "      <td>0.658999</td>\n",
       "    </tr>\n",
       "  </tbody>\n",
       "</table>\n",
       "</div>"
      ],
      "text/plain": [
       "                             source          time  \\\n",
       "0                         MoneyWise   8 hours ago   \n",
       "1                    Insider Monkey   9 hours ago   \n",
       "2                         Bloomberg  11 hours ago   \n",
       "3                       Motley Fool  15 hours ago   \n",
       "4         Investor's Business Daily  17 hours ago   \n",
       "5                             Zacks  20 hours ago   \n",
       "6                       Motley Fool    2 days ago   \n",
       "7                       MarketWatch    2 days ago   \n",
       "8                             Zacks    2 days ago   \n",
       "9                    Insider Monkey    2 days ago   \n",
       "10                            Zacks    2 days ago   \n",
       "11                          Reuters    2 days ago   \n",
       "12                            Zacks    2 days ago   \n",
       "13                      Motley Fool    3 days ago   \n",
       "14                      MarketWatch    3 days ago   \n",
       "15                    Yahoo Finance    3 days ago   \n",
       "16                        Bloomberg    3 days ago   \n",
       "17                      MarketWatch    3 days ago   \n",
       "18                          Reuters    3 days ago   \n",
       "19                   Insider Monkey    4 days ago   \n",
       "20                  Simply Wall St.    4 days ago   \n",
       "21                      MarketWatch    6 days ago   \n",
       "22                            Zacks    6 days ago   \n",
       "23        Investor's Business Daily    6 days ago   \n",
       "24                   Insider Monkey    7 days ago   \n",
       "25        Investor's Business Daily    7 days ago   \n",
       "26                            Zacks    7 days ago   \n",
       "27                        MoneyWise    7 days ago   \n",
       "28  American City Business Journals    8 days ago   \n",
       "29                   Insider Monkey    8 days ago   \n",
       "30                   Insider Monkey    8 days ago   \n",
       "31                      MarketWatch    8 days ago   \n",
       "32                            Zacks    8 days ago   \n",
       "33                   Insider Monkey    8 days ago   \n",
       "34                  Simply Wall St.    8 days ago   \n",
       "35                   Insider Monkey    8 days ago   \n",
       "\n",
       "                                                                                                                                                             headline  \\\n",
       "0   Winter is coming: The 'best country in the world' is planning to ban electric cars amid the energy crisis. Is it time to revisit oil stocks? Here are 3 big plays   \n",
       "1                                                                                                                       11 Best Low-Risk Dividend Stocks to Invest In   \n",
       "2                                                                                             Exxon’s US Workers Get Inflation-Busting Pay Hike as Profit Hits Record   \n",
       "3                                                                                                                              2 Dividend Aristocrats to Buy for 2023   \n",
       "4                                                                             Dow Jones Futures Fall: Market Rally Wipes Out Powell Gains As Apple, Exxon, Tesla Skid   \n",
       "5                                                            The Zacks Analyst Blog Highlights Exxon Mobil, WesBanco, S&T Bancorp, Gilead Sciences and Conagra Brands   \n",
       "6                                                                                                                Why Chevron, Exxon, and Kinder Morgan All Fell Today   \n",
       "7                                                                                      World will face shortage of liquefied natural gas through 2026, says Exxon CEO   \n",
       "8                                                                                                    Amcor (AMCR) Inks Deal to Buy Recycled Material From Exxon Mobil   \n",
       "9                                                                                                                           10 Best Performing Commodity ETFs in 2022   \n",
       "10                                                                              Investors Heavily Search Exxon Mobil Corporation (XOM): Here is What You Need to Know   \n",
       "11                                                                                              Exxon starts new polypropylene unit at Baton Rouge, Louisiana complex   \n",
       "12                                                                                                          5 Dividend Stocks to Allay Fears of a More-Aggressive Fed   \n",
       "13                                                                                                Why Chevron, ExxonMobil, and Kinder Morgan Stocks Dropped on Monday   \n",
       "14                                                               BP stake in Russian oil giant Rosneft is ‘blood money,’ says adviser to Ukraine’s President Zelensky   \n",
       "15                                                                                                                       Why the war on fossil fuels is causing chaos   \n",
       "16                                                                                             Exxon’s Leaders Get 10% Salary Boost as Stock Nears Record Annual Gain   \n",
       "17                                                                                                                                  Exxon CEO gets 10% base pay raise   \n",
       "18                                                                                                                    Exxon Mobil raises CEO, top executives base pay   \n",
       "19                                                                                                                          15 Most Capitalist Companies in the World   \n",
       "20                                   Exxon Mobil Corporation's (NYSE:XOM) Stock Has Seen Strong Momentum: Does That Call For Deeper Study Of Its Financial Prospects?   \n",
       "21                                                                                            Exxon board expands to 13 directors; airline, aerospace executives join   \n",
       "22                                                                                                     Equinor (EQNR) Gets Approval to Expand Norway's Oseberg Fields   \n",
       "23                                                                                                           Hot Fund To SEC: We're Boosting Bets On Best Stock Picks   \n",
       "24                                                                                                                         15 Best Dividend Stocks for Passive Income   \n",
       "25                                                                                                   Oil Firm Eyeing 3,755% Q4 Growth Leads 24 Fastest-Growing Stocks   \n",
       "26                                                                                                        CVX to Commence Venezuelan Oil Output Amid Easing Sanctions   \n",
       "27    BofA warns hot inflation might run rampant for another 10 years — here’s the 1 shockproof sector that could preserve your wealth under that worst-case scenario   \n",
       "28                                                                            ExxonMobil and Mitsubishi Heavy Industries partner to advance carbon capture technology   \n",
       "29                                                                                                                       Top 10 Stocks to Buy in 10 Different Sectors   \n",
       "30                                                                                                                         11 Best Nuclear Energy Stocks To Buy Today   \n",
       "31                                                                            20 big oil companies expected to be cash gushers in 2023 despite short-term uncertainty   \n",
       "32                                                                                                      Enbridge (ENB), Bad River Tribe to Form Line 5 Oil Spill Plan   \n",
       "33                                                                                                                       14 Safe Stocks to Buy For Beginner Investors   \n",
       "34                                                              Exxon Mobil Corporation's (NYSE:XOM) Stock On An Uptrend: Could Fundamentals Be Driving The Momentum?   \n",
       "35                                                                                                                           15 Most Polluting Companies in the World   \n",
       "\n",
       "                                                                                                                                                                                                                                                                                                                                                                                                                                                                                                                content  \\\n",
       "0                                                                                                                                                                                                                                                                                                                                                                                                                                                                                         Wake up and smell the diesel.   \n",
       "1                                                                                                                                                                                In this article, we discuss 11 best low-risk dividend stocks to invest in. You can skip our detailed analysis on dividend investment and their returns in the past, and go directly to read 5 Best Low-Risk Dividend Stocks to Invest In. The stock market has been rocky throughout this year, making investors anxious about the […]   \n",
       "2   (Bloomberg) -- Exxon Mobil Corp. is awarding US employees above-inflation pay increases just weeks after the Texas oil giant posted its highest quarterly profit, underlining how strong 2022 has been for the fossil-fuel industry while other sectors like technology and finance cut jobs.Most Read from BloombergPutin Calls Russian Nukes Deterrent Factor, Says War Risk RisingPeru’s President Accused of Coup After Move to Dissolve CongressWhy Did So Many US Men Quit Working? Social Status May Hold...   \n",
       "3   Heading into next year, a couple of Aristocrats that look to be good investments are Abbott Laboratories (NYSE: ABT) and ExxonMobil (NYSE: XOM).  Healthcare giant Abbott Laboratories has a diverse business that generates over $1 billion in revenue every quarter from multiple segments, including medical devices, pharmaceuticals, diagnostics, and nutrition.  Abbott has since restarted production and, assuming no interruptions happen again, next year should be a stronger one for that segment as...   \n",
       "4                                                                                                                                                                                                                                                                                                                                                                                  Futures fell after the market rally erased gains from Fed chief Jerome Powell's Nov. 30 speech. Apple, Exxon broke below key levels.   \n",
       "5                                                                                                                                                                                                                                                                                                                                                                                                             Exxon Mobil, WesBanco, S&T Bancorp, Gilead Sciences and Conagra Brands are included in this Analyst Blog.   \n",
       "6                                                                                                     Shares of major oil stocks, including diversified majors Chevron (NYSE: CVX), ExxonMobil (NYSE: XOM), and pipeline giant Kinder Morgan (NYSE: KMI) all fell on Tuesday, declining 2.4%, 3%, and 2.6%, respectively, as of 2:41 p.m. ET.  The entire market was down today, as recession fears appeared to loom over most stocks.  A recession of course wouldn't be good for any commodity, oil and gas included.   \n",
       "7                                                                                                                                                                                                                                                                                                                                                                           Russia cut supplies of natural gas to Europe in response to the wave of international sanctions that followed Moscow's invasion of Ukraine.   \n",
       "8                                                                                                                                                                                                                                                                                                                                                                                            Amcor (AMCR) enters into an agreement with Exxon Mobil to purchase recycled materials for its food and healthcare markets.   \n",
       "9                                                                                                                                                                                             In this article, we discuss 10 best performing commodity ETFs in 2022. If you want to see more ETFs in this selection, check out 5 Best Performing Commodity ETFs in 2022. As per a new S&P Global Market Intelligence report, dated November 4, commodities prices for core metals will be hit by the macro backdrop […]   \n",
       "10                                                                                                                                                                                                                                                                                                                                                                 Zacks.com users have recently been watching Exxon (XOM) quite a bit. Thus, it is worth knowing the facts that could determine the stock's prospects.   \n",
       "11                                                                                                                                                                                        The new unit, with a pricetag over half a billion dollars, adds 450,000 metric tons of polypropylene production, doubling the Baton Rouge Polyolefins plant’s capacity, Exxon said.  Polypropylene is used in making a wide variety of products from food and drink containers, plumbing, disposable diapers and in medicine.   \n",
       "12                                                                                                                                                                                                                                                                                                         As U.S. stocks stumble on concerns of further rate hikes, investing in dividend players like Exxon Mobil (XOM), Gilead Sciences (GILD) and Conagra Brands (CAG) for a steady stream of income seems prudent.   \n",
       "13                                                                                Oil stocks fell on Monday, with Chevron (NYSE: CVX) ending the day down 2.4% and ExxonMobil (NYSE: XOM) falling 2.8%.  Kinder Morgan (NYSE: KMI), more of a domestic player in oil and gas transport than in production, suffered a loss of 2.3%.  The big news in oil and gas today came out of Saudi Arabia, which announced that it is cutting the price of oil it produces for export to Asia (read \"China\") by $2.20 per barrel.   \n",
       "14                                                                                                                                                                                                                                                                                                                                                                                                                In February, BP said it would exit its 19.75% stake in Rosneft, but it has yet to complete that exit.   \n",
       "15                                                                                                                                                                                                                                                                                                                                       The United States and other advanced nations are making crucial investment in green energy. What they're not doing is safeguarding the fossil fuels consumers depend on today.   \n",
       "16  (Bloomberg) -- Exxon Mobil Corp.’s top executives scored above-inflation salary increases of around 10% for next year as the oil giant’s stock closes in on its best-ever annual performance. Most Read from Bloomberg‘Huge, Missing and Growing:’ $65 Trillion in Dollar Debt Sparks ConcernStocks Hit by Fed-Hike Jitters as US Yields Surge: Markets WrapRussia Blames Ukraine for Blasts at Bases That Damaged WarplanesElon Musk’s Impossible Electric Truck Is Getting the Last LaughAmbitious Plans to Build   \n",
       "17                                                                                Exxon Mobil Corp. said Monday its compensation committee approved an increase in the annual salary for chairman and CEO Darren W. Woods to $1.875 million per year in 2023, up from $1.703 million for 2022. CFO Kathryn A. Mikells will receive an annual base salary of $1.221 million, up from $437,500 in 2021, when she joined the company. Shares of Exxon Mobil are up 79.5% in 2022 compared to a 14.6% loss by the S&P 500 .   \n",
       "18                                                                                  Exxon Mobil's compensation committee approved an increase in the annual salary of Chief Executive Officer Darren Woods to $1.88 million from $1.70 million this year, according to a filing.  Kathryn Mikells, who became the company's chief financial officer in August last year, will receive a base pay of $1.22 million in 2023.  The company also raised the salaries of its senior vice presidents, effective Jan. 1, 2023.   \n",
       "19                                                                                                                                                                                      In this article, we take a look at 15 most capitalist companies in the world. You can skip our detailed analysis of the excesses of capitalism and go directly to 5 Most Capitalist Companies in the World. The unbridled capitalism that has gone around in countries like the US has created unprecedented levels of harm […]   \n",
       "20                                                                                                                                                                                                                                                                                                                                                                                              Most readers would already be aware that Exxon Mobil's (NYSE:XOM) stock increased significantly by 15% over the past...   \n",
       "21  Exxon Mobil Corp. said late Friday that Larry W. Kellner and John D. Harris II have joined its board, which expanded to 13 directors. Kellner is the former chief executive of Continental Airlines, which merged with United Airlines in 2010, and current chairman of the board for Boeing Co. Harris is the former chief executive of Raytheon International Inc., a subsidiary of Raytheon Technologies Co. . Of the 13 directors, 12 are independent, Exxon said. \"We welcome both Larry and John to the Ex...   \n",
       "22                                                                                                                                                                                                                                                                                                                                                                                        Equinor (EQNR) expects the development plan to increase production at Oseberg by 31.2 million cubic meters of oil equivalent.   \n",
       "23                                                                                                                                                                                                                                                                                                                                                                        Wondering how to invest in stocks and mutual funds amid a grim market? Red-hot Invesco Comstock Select Fund is doubling down on its strategy.   \n",
       "24                                                                                                                                                               In this article, we discuss 15 best dividend stocks for passive income. You can skip our detailed analysis of dividend stocks and their performance over the years, and go directly to read 5 Best Dividend Stocks for Passive Income. Growing inflation and recession risks this year have investors piling onto dividend stocks like Exxon Mobil […]   \n",
       "25                                                                                                                                                                                                                                                                                                                                                                                            With analysts expecting a whopping 3,755% Q4 growth, HF Sinclair leads this list of 24 of today's fastest-growing stocks.   \n",
       "26                                                                                                                                                                                                                                                                                                                                                                      The U.S. OFAC grants a six-month license to CVX, allowing the company to produce crude oil and petroleum products in its projects in Venezuela.   \n",
       "27                                                                                                                                                                                                                                                                                                                                                                                                                                                         Think price levels will be back to normal soon? Think again.   \n",
       "28                                                                                                                                                                                                                                                                                                                                         As part of the agreement, MHI will deploy its carbon capture technology as part of ExxonMobil's carbon capture and storage solution for heavy-emitting industrial customers.   \n",
       "29                                                                                                                                                                                                                      In this article, we will take a look at the top 10 stocks to buy in 10 different sectors. If you want to see more of the top stocks to buy in different sectors, go directly to Top 5 Stocks to Buy in 10 Different Sectors. Diversification when done correctly can improve a portfolio as […]   \n",
       "30                                                                                                                                                                                                                In this article, we will be taking a look at the 11 best nuclear energy stocks to buy today. To skip our detailed analysis of these stocks and the nuclear energy sector, you can go directly to see the 5 Best Nuclear Energy Stocks To Buy Today. In light of growing concerns when it comes to […]   \n",
       "31                                                                                                                                                                                                                                                                                                                                                                                                The oil industry faces an earnings decline, but the long-term outlook is healthy, according to analysts at Jefferies.   \n",
       "32                                                                                                                                                                                                                                                                                                                                                                          Enbridge (ENB) and the Bad River tribe have to submit a joint proposal or provide their proposals if no agreement can be reached by Dec 24.   \n",
       "33                                                                                                                                                                                       In this article, we discuss the 14 safe stocks to buy for beginner investors. If you want to read about some more safe stocks, go directly to 5 Safe Stocks to Buy For Beginner Investors. The collapse of the cryptocurrency market in the past few months has highlighted the perils of investing in speculative assets, […]   \n",
       "34                                                                                                                                                                                                                                                                                                                                                                                              Most readers would already be aware that Exxon Mobil's (NYSE:XOM) stock increased significantly by 16% over the past...   \n",
       "35                                                                                                                                                                                               In this piece, we will take a look at the fifteen most polluting companies in the world. For more companies, head on over to 5 Most Polluting Companies in the World. Global warming is one of the most pressing challenges faced by the world today. Greenhouse gas emissions, an ugly consequence of the cost of […]   \n",
       "\n",
       "   Sentiment     Score Sentiment2    Score2  \n",
       "0   NEGATIVE  0.992041   POSITIVE  0.975145  \n",
       "1   POSITIVE  0.999301   NEGATIVE  0.973663  \n",
       "2   NEGATIVE  0.986448   NEGATIVE  0.978648  \n",
       "3   NEGATIVE  0.907515   POSITIVE  0.694557  \n",
       "4   NEGATIVE  0.999235   NEGATIVE  0.999378  \n",
       "5   POSITIVE  0.987182   POSITIVE  0.741008  \n",
       "6   NEGATIVE  0.999408   NEGATIVE  0.999698  \n",
       "7   NEGATIVE  0.991765   NEGATIVE  0.995576  \n",
       "8   NEGATIVE  0.998305   NEGATIVE  0.978695  \n",
       "9   POSITIVE  0.999047   POSITIVE  0.689443  \n",
       "10  NEGATIVE  0.989767   POSITIVE  0.995933  \n",
       "11  NEGATIVE  0.965330   POSITIVE  0.923597  \n",
       "12  NEGATIVE  0.985945   NEGATIVE  0.994397  \n",
       "13  NEGATIVE  0.999018   NEGATIVE  0.999612  \n",
       "14  NEGATIVE  0.981735   NEGATIVE  0.998869  \n",
       "15  NEGATIVE  0.997008   POSITIVE  0.976906  \n",
       "16  POSITIVE  0.926340   NEGATIVE  0.960693  \n",
       "17  POSITIVE  0.831330   NEGATIVE  0.982738  \n",
       "18  POSITIVE  0.951311   POSITIVE  0.991991  \n",
       "19  POSITIVE  0.998176   NEGATIVE  0.992455  \n",
       "20  POSITIVE  0.789587   NEGATIVE  0.979937  \n",
       "21  POSITIVE  0.994539   POSITIVE  0.998294  \n",
       "22  POSITIVE  0.998867   NEGATIVE  0.994017  \n",
       "23  POSITIVE  0.998280   NEGATIVE  0.999466  \n",
       "24  POSITIVE  0.998621   NEGATIVE  0.991636  \n",
       "25  POSITIVE  0.997976   POSITIVE  0.999618  \n",
       "26  NEGATIVE  0.956472   NEGATIVE  0.519273  \n",
       "27  NEGATIVE  0.998663   NEGATIVE  0.985900  \n",
       "28  POSITIVE  0.996585   POSITIVE  0.909628  \n",
       "29  POSITIVE  0.998139   POSITIVE  0.985311  \n",
       "30  POSITIVE  0.999656   POSITIVE  0.970718  \n",
       "31  POSITIVE  0.978905   POSITIVE  0.997730  \n",
       "32  NEGATIVE  0.994647   NEGATIVE  0.997942  \n",
       "33  POSITIVE  0.992619   POSITIVE  0.982073  \n",
       "34  NEGATIVE  0.999334   NEGATIVE  0.978956  \n",
       "35  NEGATIVE  0.993034   POSITIVE  0.658999  "
      ]
     },
     "execution_count": 200,
     "metadata": {},
     "output_type": "execute_result"
    }
   ],
   "source": [
    "news_df[news_df['Score'] > 0.8]"
   ]
  },
  {
   "cell_type": "code",
   "execution_count": 201,
   "metadata": {},
   "outputs": [
    {
     "data": {
      "text/plain": [
       "<AxesSubplot:xlabel='Sentiment', ylabel='Count'>"
      ]
     },
     "execution_count": 201,
     "metadata": {},
     "output_type": "execute_result"
    },
    {
     "data": {
      "image/png": "[encoded data removed]",
      "text/plain": [
       "<Figure size 432x288 with 1 Axes>"
      ]
     },
     "metadata": {
      "needs_background": "light"
     },
     "output_type": "display_data"
    }
   ],
   "source": [
    "sns.histplot(x = 'Sentiment', data = news_df[news_df['Score'] > 0.8], hue = 'Sentiment', hue_order=['POSITIVE', 'NEGATIVE'])"
   ]
  },
  {
   "cell_type": "code",
   "execution_count": 202,
   "metadata": {},
   "outputs": [
    {
     "data": {
      "text/plain": [
       "<AxesSubplot:xlabel='Sentiment2', ylabel='Count'>"
      ]
     },
     "execution_count": 202,
     "metadata": {},
     "output_type": "execute_result"
    },
    {
     "data": {
      "image/png": "[encoded data removed]",
      "text/plain": [
       "<Figure size 432x288 with 1 Axes>"
      ]
     },
     "metadata": {
      "needs_background": "light"
     },
     "output_type": "display_data"
    }
   ],
   "source": [
    "sns.histplot(x = 'Sentiment2', data = news_df[news_df['Score2'] > 0.8], hue = 'Sentiment2', hue_order=['POSITIVE', 'NEGATIVE'])"
   ]
  },
  {
   "cell_type": "markdown",
   "metadata": {},
   "source": [
    "# XOM Ticker"
   ]
  },
  {
   "cell_type": "code",
   "execution_count": 203,
   "metadata": {},
   "outputs": [],
   "source": [
    "url = \"https://finviz.com/quote.ashx?t=XOM&p=d\"\n",
    "\n",
    "\n",
    "headers = {\"User-Agent\": \"Mozilla/5.0\"}\n",
    "cookies = {\"CONSENT\": \"YES+cb.20210720-07-p0.en+FX+410\"}\n",
    "\n",
    "req = Request(url, headers=headers)\n",
    "\n",
    "try:\n",
    "    contents = urlopen(req).read() \n",
    "    soup = BeautifulSoup(contents, features=\"html.parser\")\n",
    "\n",
    "    sentence2 = []\n",
    "\n",
    "    for tag in soup.find_all('a'):\n",
    "\n",
    "        sentence = tag.text.split(\".\")\n",
    "        sentence2.append(sentence)\n",
    "\n",
    "except urllib.error.HTTPError as err:\n",
    "    print(err.code)\n",
    "\n",
    "except socket.timeout as se:\n",
    "    print(\"socket timeout\")"
   ]
  },
  {
   "cell_type": "code",
   "execution_count": 204,
   "metadata": {},
   "outputs": [],
   "source": [
    "df = pd.DataFrame(sentence2)"
   ]
  },
  {
   "cell_type": "code",
   "execution_count": 205,
   "metadata": {},
   "outputs": [],
   "source": [
    "df['Headline'] = df[0]\n",
    "df['Sentiment'] = -2\n",
    "df = pd.DataFrame(list(zip(df['Headline'], df['Sentiment'])), columns=['Headline', 'Sentiment'])"
   ]
  },
  {
   "cell_type": "code",
   "execution_count": 206,
   "metadata": {},
   "outputs": [],
   "source": [
    "i = []\n",
    "\n",
    "for string in df['Headline']:\n",
    "    i.append(count_words(string))\n",
    "\n",
    "df['word_count'] = i\n"
   ]
  },
  {
   "cell_type": "code",
   "execution_count": 207,
   "metadata": {},
   "outputs": [],
   "source": [
    "sentiment = [None] * len(df)\n",
    "sentiment_score = [None] * len(df)\n",
    "index = -1\n",
    "for sentence in df['Headline']:\n",
    "    index+=1\n",
    "    result = sentiment_pipeline(sentence[:512])[0]\n",
    "    sentiment[index] = result['label']\n",
    "    sentiment_score[index] = result['score']\n",
    "df['Sentiment'] = sentiment\n",
    "df['Score'] = sentiment_score\n"
   ]
  },
  {
   "cell_type": "code",
   "execution_count": 208,
   "metadata": {},
   "outputs": [],
   "source": [
    "df = df[df['word_count'] > 10]\n",
    "df['Headline_Lower'] = df['Headline'].str.lower()"
   ]
  },
  {
   "cell_type": "code",
   "execution_count": 209,
   "metadata": {},
   "outputs": [
    {
     "data": {
      "text/html": [
       "<div>\n",
       "<style scoped>\n",
       "    .dataframe tbody tr th:only-of-type {\n",
       "        vertical-align: middle;\n",
       "    }\n",
       "\n",
       "    .dataframe tbody tr th {\n",
       "        vertical-align: top;\n",
       "    }\n",
       "\n",
       "    .dataframe thead th {\n",
       "        text-align: right;\n",
       "    }\n",
       "</style>\n",
       "<table border=\"1\" class=\"dataframe\">\n",
       "  <thead>\n",
       "    <tr style=\"text-align: right;\">\n",
       "      <th></th>\n",
       "      <th>Headline</th>\n",
       "      <th>Sentiment</th>\n",
       "      <th>word_count</th>\n",
       "      <th>Score</th>\n",
       "      <th>Headline_Lower</th>\n",
       "    </tr>\n",
       "  </thead>\n",
       "  <tbody>\n",
       "    <tr>\n",
       "      <th>26</th>\n",
       "      <td>Winter is coming: The 'best country in the world' is planning to ban electric cars amid the energy crisis</td>\n",
       "      <td>POSITIVE</td>\n",
       "      <td>19</td>\n",
       "      <td>0.962461</td>\n",
       "      <td>winter is coming: the 'best country in the world' is planning to ban electric cars amid the energy crisis</td>\n",
       "    </tr>\n",
       "    <tr>\n",
       "      <th>28</th>\n",
       "      <td>Exxons US Workers Get Inflation-Busting Pay Hike as Profit Hits Record</td>\n",
       "      <td>NEGATIVE</td>\n",
       "      <td>11</td>\n",
       "      <td>0.988407</td>\n",
       "      <td>exxons us workers get inflation-busting pay hike as profit hits record</td>\n",
       "    </tr>\n",
       "    <tr>\n",
       "      <th>30</th>\n",
       "      <td>Dow Jones Futures Fall: Market Rally Wipes Out Powell Gains As Apple, Exxon, Tesla Skid</td>\n",
       "      <td>NEGATIVE</td>\n",
       "      <td>15</td>\n",
       "      <td>0.999235</td>\n",
       "      <td>dow jones futures fall: market rally wipes out powell gains as apple, exxon, tesla skid</td>\n",
       "    </tr>\n",
       "    <tr>\n",
       "      <th>31</th>\n",
       "      <td>Market Rally Wipes Out Powell Gains As Apple, Exxon Skid; What To Do Now</td>\n",
       "      <td>NEGATIVE</td>\n",
       "      <td>14</td>\n",
       "      <td>0.999011</td>\n",
       "      <td>market rally wipes out powell gains as apple, exxon skid; what to do now</td>\n",
       "    </tr>\n",
       "    <tr>\n",
       "      <th>32</th>\n",
       "      <td>The Zacks Analyst Blog Highlights Exxon Mobil, WesBanco, S&amp;T Bancorp, Gilead Sciences and Conagra Brands</td>\n",
       "      <td>POSITIVE</td>\n",
       "      <td>15</td>\n",
       "      <td>0.987182</td>\n",
       "      <td>the zacks analyst blog highlights exxon mobil, wesbanco, s&amp;t bancorp, gilead sciences and conagra brands</td>\n",
       "    </tr>\n",
       "    <tr>\n",
       "      <th>34</th>\n",
       "      <td>World will face shortage of liquefied natural gas through 2026, says Exxon CEO</td>\n",
       "      <td>NEGATIVE</td>\n",
       "      <td>13</td>\n",
       "      <td>0.991765</td>\n",
       "      <td>world will face shortage of liquefied natural gas through 2026, says exxon ceo</td>\n",
       "    </tr>\n",
       "    <tr>\n",
       "      <th>35</th>\n",
       "      <td>Amcor (AMCR) Inks Deal to Buy Recycled Material From Exxon Mobil</td>\n",
       "      <td>NEGATIVE</td>\n",
       "      <td>11</td>\n",
       "      <td>0.998305</td>\n",
       "      <td>amcor (amcr) inks deal to buy recycled material from exxon mobil</td>\n",
       "    </tr>\n",
       "    <tr>\n",
       "      <th>37</th>\n",
       "      <td>Investors Heavily Search Exxon Mobil Corporation (XOM): Here is What You Need to Know</td>\n",
       "      <td>NEGATIVE</td>\n",
       "      <td>14</td>\n",
       "      <td>0.989767</td>\n",
       "      <td>investors heavily search exxon mobil corporation (xom): here is what you need to know</td>\n",
       "    </tr>\n",
       "    <tr>\n",
       "      <th>42</th>\n",
       "      <td>BP stake in Russian oil giant Rosneft is blood money, says adviser to Ukraines President Zelensky</td>\n",
       "      <td>NEGATIVE</td>\n",
       "      <td>16</td>\n",
       "      <td>0.989420</td>\n",
       "      <td>bp stake in russian oil giant rosneft is blood money, says adviser to ukraines president zelensky</td>\n",
       "    </tr>\n",
       "    <tr>\n",
       "      <th>44</th>\n",
       "      <td>Energy stocks mixed as China demand looks supportive of oil prices</td>\n",
       "      <td>NEGATIVE</td>\n",
       "      <td>11</td>\n",
       "      <td>0.995578</td>\n",
       "      <td>energy stocks mixed as china demand looks supportive of oil prices</td>\n",
       "    </tr>\n",
       "    <tr>\n",
       "      <th>53</th>\n",
       "      <td>ExxonMobil Elects Larry Kellner and John Harris to Board of Directors</td>\n",
       "      <td>POSITIVE</td>\n",
       "      <td>11</td>\n",
       "      <td>0.990385</td>\n",
       "      <td>exxonmobil elects larry kellner and john harris to board of directors</td>\n",
       "    </tr>\n",
       "    <tr>\n",
       "      <th>55</th>\n",
       "      <td>Hot Fund To SEC: We're Boosting Bets On Best Stock Picks</td>\n",
       "      <td>POSITIVE</td>\n",
       "      <td>11</td>\n",
       "      <td>0.998280</td>\n",
       "      <td>hot fund to sec: we're boosting bets on best stock picks</td>\n",
       "    </tr>\n",
       "    <tr>\n",
       "      <th>59</th>\n",
       "      <td>BofA warns hot inflation might run rampant for another 10 years  heres the 1 shockproof sector that could preserve your wealth under that worst-case scenario</td>\n",
       "      <td>NEGATIVE</td>\n",
       "      <td>26</td>\n",
       "      <td>0.998677</td>\n",
       "      <td>bofa warns hot inflation might run rampant for another 10 years  heres the 1 shockproof sector that could preserve your wealth under that worst-case scenario</td>\n",
       "    </tr>\n",
       "    <tr>\n",
       "      <th>60</th>\n",
       "      <td>ExxonMobil and Mitsubishi Heavy Industries partner to advance carbon capture technology</td>\n",
       "      <td>POSITIVE</td>\n",
       "      <td>11</td>\n",
       "      <td>0.996585</td>\n",
       "      <td>exxonmobil and mitsubishi heavy industries partner to advance carbon capture technology</td>\n",
       "    </tr>\n",
       "    <tr>\n",
       "      <th>63</th>\n",
       "      <td>20 big oil companies expected to be cash gushers in 2023 despite short-term uncertainty</td>\n",
       "      <td>POSITIVE</td>\n",
       "      <td>13</td>\n",
       "      <td>0.978905</td>\n",
       "      <td>20 big oil companies expected to be cash gushers in 2023 despite short-term uncertainty</td>\n",
       "    </tr>\n",
       "    <tr>\n",
       "      <th>64</th>\n",
       "      <td>Enbridge (ENB), Bad River Tribe to Form Line 5 Oil Spill Plan</td>\n",
       "      <td>NEGATIVE</td>\n",
       "      <td>12</td>\n",
       "      <td>0.994647</td>\n",
       "      <td>enbridge (enb), bad river tribe to form line 5 oil spill plan</td>\n",
       "    </tr>\n",
       "    <tr>\n",
       "      <th>66</th>\n",
       "      <td>Exxon Mobil Corporation's (NYSE:XOM) Stock On An Uptrend: Could Fundamentals Be Driving The Momentum?</td>\n",
       "      <td>NEGATIVE</td>\n",
       "      <td>14</td>\n",
       "      <td>0.999334</td>\n",
       "      <td>exxon mobil corporation's (nyse:xom) stock on an uptrend: could fundamentals be driving the momentum?</td>\n",
       "    </tr>\n",
       "    <tr>\n",
       "      <th>68</th>\n",
       "      <td>Carbon Dioxide Could Be a Multi-Trillion-Dollar Opportunity for These Oil Stocks</td>\n",
       "      <td>NEGATIVE</td>\n",
       "      <td>11</td>\n",
       "      <td>0.986067</td>\n",
       "      <td>carbon dioxide could be a multi-trillion-dollar opportunity for these oil stocks</td>\n",
       "    </tr>\n",
       "    <tr>\n",
       "      <th>69</th>\n",
       "      <td>Want $1,500 in Passive Income? Invest $10,000 in These 3 Dividend Aristocrats and Wait 5 Years</td>\n",
       "      <td>NEGATIVE</td>\n",
       "      <td>16</td>\n",
       "      <td>0.999434</td>\n",
       "      <td>want $1,500 in passive income? invest $10,000 in these 3 dividend aristocrats and wait 5 years</td>\n",
       "    </tr>\n",
       "    <tr>\n",
       "      <th>71</th>\n",
       "      <td>Large energy stocks are still up big in 2022 despite crude oil giving up gains</td>\n",
       "      <td>POSITIVE</td>\n",
       "      <td>15</td>\n",
       "      <td>0.995321</td>\n",
       "      <td>large energy stocks are still up big in 2022 despite crude oil giving up gains</td>\n",
       "    </tr>\n",
       "    <tr>\n",
       "      <th>77</th>\n",
       "      <td>The Zacks Analyst Blog Highlights Exxon Mobil, Meta Platforms, Eaton Keysight Technologies and ANSYS</td>\n",
       "      <td>POSITIVE</td>\n",
       "      <td>14</td>\n",
       "      <td>0.975513</td>\n",
       "      <td>the zacks analyst blog highlights exxon mobil, meta platforms, eaton keysight technologies and ansys</td>\n",
       "    </tr>\n",
       "    <tr>\n",
       "      <th>83</th>\n",
       "      <td>Here is What to Know Beyond Why Exxon Mobil Corporation (XOM) is a Trending Stock</td>\n",
       "      <td>NEGATIVE</td>\n",
       "      <td>15</td>\n",
       "      <td>0.997149</td>\n",
       "      <td>here is what to know beyond why exxon mobil corporation (xom) is a trending stock</td>\n",
       "    </tr>\n",
       "    <tr>\n",
       "      <th>84</th>\n",
       "      <td>Exxon Is Emerging As An Unlikely Supporter Of Americas Decarbonization Efforts</td>\n",
       "      <td>POSITIVE</td>\n",
       "      <td>11</td>\n",
       "      <td>0.996757</td>\n",
       "      <td>exxon is emerging as an unlikely supporter of americas decarbonization efforts</td>\n",
       "    </tr>\n",
       "    <tr>\n",
       "      <th>88</th>\n",
       "      <td>The Zacks Analyst Blog Highlights Archer-Daniels-Midland, McKesson, Marathon Petroleum, Exxon Mobil and Merck &amp; Co</td>\n",
       "      <td>POSITIVE</td>\n",
       "      <td>15</td>\n",
       "      <td>0.991291</td>\n",
       "      <td>the zacks analyst blog highlights archer-daniels-midland, mckesson, marathon petroleum, exxon mobil and merck &amp; co</td>\n",
       "    </tr>\n",
       "    <tr>\n",
       "      <th>94</th>\n",
       "      <td>Exxon Mobil, Chevron, ConocoPhillips Slapped With Shareholder Resolutions Over Secretive Tax Practices</td>\n",
       "      <td>NEGATIVE</td>\n",
       "      <td>12</td>\n",
       "      <td>0.994647</td>\n",
       "      <td>exxon mobil, chevron, conocophillips slapped with shareholder resolutions over secretive tax practices</td>\n",
       "    </tr>\n",
       "    <tr>\n",
       "      <th>96</th>\n",
       "      <td>Is It Time To Buy Exxon Stock As It Stays Within A Buy Zone As Oil Prices Drop?</td>\n",
       "      <td>NEGATIVE</td>\n",
       "      <td>18</td>\n",
       "      <td>0.998227</td>\n",
       "      <td>is it time to buy exxon stock as it stays within a buy zone as oil prices drop?</td>\n",
       "    </tr>\n",
       "    <tr>\n",
       "      <th>98</th>\n",
       "      <td>Zacks Investment Ideas feature highlights: Visa, UnitedHealth Group, Exxon Mobil, Microsoft, Apple</td>\n",
       "      <td>POSITIVE</td>\n",
       "      <td>12</td>\n",
       "      <td>0.998191</td>\n",
       "      <td>zacks investment ideas feature highlights: visa, unitedhealth group, exxon mobil, microsoft, apple</td>\n",
       "    </tr>\n",
       "    <tr>\n",
       "      <th>108</th>\n",
       "      <td>Is Kosmos Energy (KOS) Stock Outpacing Its Oils-Energy Peers This Year?</td>\n",
       "      <td>NEGATIVE</td>\n",
       "      <td>11</td>\n",
       "      <td>0.998312</td>\n",
       "      <td>is kosmos energy (kos) stock outpacing its oils-energy peers this year?</td>\n",
       "    </tr>\n",
       "    <tr>\n",
       "      <th>112</th>\n",
       "      <td>The world should be worried: Saudi Aramco  the worlds largest oil producer  has issued a dire warning over 'extremely low' capacity</td>\n",
       "      <td>NEGATIVE</td>\n",
       "      <td>23</td>\n",
       "      <td>0.999164</td>\n",
       "      <td>the world should be worried: saudi aramco  the worlds largest oil producer  has issued a dire warning over 'extremely low' capacity</td>\n",
       "    </tr>\n",
       "    <tr>\n",
       "      <th>115</th>\n",
       "      <td>Race Is On to Be the Next Big US Supplier of LNG to Fuel-Starved Europe</td>\n",
       "      <td>POSITIVE</td>\n",
       "      <td>15</td>\n",
       "      <td>0.965866</td>\n",
       "      <td>race is on to be the next big us supplier of lng to fuel-starved europe</td>\n",
       "    </tr>\n",
       "    <tr>\n",
       "      <th>116</th>\n",
       "      <td>Purpose Investments Files Preliminary Prospectus for the First Yield-Focused Single-Stock ETFs</td>\n",
       "      <td>NEGATIVE</td>\n",
       "      <td>11</td>\n",
       "      <td>0.976735</td>\n",
       "      <td>purpose investments files preliminary prospectus for the first yield-focused single-stock etfs</td>\n",
       "    </tr>\n",
       "    <tr>\n",
       "      <th>117</th>\n",
       "      <td>Morgan Stanley expects the S&amp;P 500 to plunge another 15%-25% within the next four months  use these 3 top recession-resistant stocks for protection</td>\n",
       "      <td>NEGATIVE</td>\n",
       "      <td>24</td>\n",
       "      <td>0.997383</td>\n",
       "      <td>morgan stanley expects the s&amp;p 500 to plunge another 15%-25% within the next four months  use these 3 top recession-resistant stocks for protection</td>\n",
       "    </tr>\n",
       "    <tr>\n",
       "      <th>119</th>\n",
       "      <td>New Date Set: Feb 9 for Palm Beach CorpGov Forum with V&amp;E and NYSE</td>\n",
       "      <td>POSITIVE</td>\n",
       "      <td>14</td>\n",
       "      <td>0.975955</td>\n",
       "      <td>new date set: feb 9 for palm beach corpgov forum with v&amp;e and nyse</td>\n",
       "    </tr>\n",
       "    <tr>\n",
       "      <th>123</th>\n",
       "      <td>Coral South Project in Mozambique Ships First LNG Cargo, Helps Meet Global Demand</td>\n",
       "      <td>POSITIVE</td>\n",
       "      <td>13</td>\n",
       "      <td>0.997822</td>\n",
       "      <td>coral south project in mozambique ships first lng cargo, helps meet global demand</td>\n",
       "    </tr>\n",
       "  </tbody>\n",
       "</table>\n",
       "</div>"
      ],
      "text/plain": [
       "                                                                                                                                                          Headline  \\\n",
       "26                                                       Winter is coming: The 'best country in the world' is planning to ban electric cars amid the energy crisis   \n",
       "28                                                                                          Exxons US Workers Get Inflation-Busting Pay Hike as Profit Hits Record   \n",
       "30                                                                         Dow Jones Futures Fall: Market Rally Wipes Out Powell Gains As Apple, Exxon, Tesla Skid   \n",
       "31                                                                                        Market Rally Wipes Out Powell Gains As Apple, Exxon Skid; What To Do Now   \n",
       "32                                                        The Zacks Analyst Blog Highlights Exxon Mobil, WesBanco, S&T Bancorp, Gilead Sciences and Conagra Brands   \n",
       "34                                                                                  World will face shortage of liquefied natural gas through 2026, says Exxon CEO   \n",
       "35                                                                                                Amcor (AMCR) Inks Deal to Buy Recycled Material From Exxon Mobil   \n",
       "37                                                                           Investors Heavily Search Exxon Mobil Corporation (XOM): Here is What You Need to Know   \n",
       "42                                                               BP stake in Russian oil giant Rosneft is blood money, says adviser to Ukraines President Zelensky   \n",
       "44                                                                                              Energy stocks mixed as China demand looks supportive of oil prices   \n",
       "53                                                                                           ExxonMobil Elects Larry Kellner and John Harris to Board of Directors   \n",
       "55                                                                                                        Hot Fund To SEC: We're Boosting Bets On Best Stock Picks   \n",
       "59   BofA warns hot inflation might run rampant for another 10 years  heres the 1 shockproof sector that could preserve your wealth under that worst-case scenario   \n",
       "60                                                                         ExxonMobil and Mitsubishi Heavy Industries partner to advance carbon capture technology   \n",
       "63                                                                         20 big oil companies expected to be cash gushers in 2023 despite short-term uncertainty   \n",
       "64                                                                                                   Enbridge (ENB), Bad River Tribe to Form Line 5 Oil Spill Plan   \n",
       "66                                                           Exxon Mobil Corporation's (NYSE:XOM) Stock On An Uptrend: Could Fundamentals Be Driving The Momentum?   \n",
       "68                                                                                Carbon Dioxide Could Be a Multi-Trillion-Dollar Opportunity for These Oil Stocks   \n",
       "69                                                                  Want $1,500 in Passive Income? Invest $10,000 in These 3 Dividend Aristocrats and Wait 5 Years   \n",
       "71                                                                                  Large energy stocks are still up big in 2022 despite crude oil giving up gains   \n",
       "77                                                            The Zacks Analyst Blog Highlights Exxon Mobil, Meta Platforms, Eaton Keysight Technologies and ANSYS   \n",
       "83                                                                               Here is What to Know Beyond Why Exxon Mobil Corporation (XOM) is a Trending Stock   \n",
       "84                                                                                  Exxon Is Emerging As An Unlikely Supporter Of Americas Decarbonization Efforts   \n",
       "88                                              The Zacks Analyst Blog Highlights Archer-Daniels-Midland, McKesson, Marathon Petroleum, Exxon Mobil and Merck & Co   \n",
       "94                                                          Exxon Mobil, Chevron, ConocoPhillips Slapped With Shareholder Resolutions Over Secretive Tax Practices   \n",
       "96                                                                                 Is It Time To Buy Exxon Stock As It Stays Within A Buy Zone As Oil Prices Drop?   \n",
       "98                                                              Zacks Investment Ideas feature highlights: Visa, UnitedHealth Group, Exxon Mobil, Microsoft, Apple   \n",
       "108                                                                                        Is Kosmos Energy (KOS) Stock Outpacing Its Oils-Energy Peers This Year?   \n",
       "112                            The world should be worried: Saudi Aramco  the worlds largest oil producer  has issued a dire warning over 'extremely low' capacity   \n",
       "115                                                                                        Race Is On to Be the Next Big US Supplier of LNG to Fuel-Starved Europe   \n",
       "116                                                                 Purpose Investments Files Preliminary Prospectus for the First Yield-Focused Single-Stock ETFs   \n",
       "117            Morgan Stanley expects the S&P 500 to plunge another 15%-25% within the next four months  use these 3 top recession-resistant stocks for protection   \n",
       "119                                                                                             New Date Set: Feb 9 for Palm Beach CorpGov Forum with V&E and NYSE   \n",
       "123                                                                              Coral South Project in Mozambique Ships First LNG Cargo, Helps Meet Global Demand   \n",
       "\n",
       "    Sentiment  word_count     Score  \\\n",
       "26   POSITIVE          19  0.962461   \n",
       "28   NEGATIVE          11  0.988407   \n",
       "30   NEGATIVE          15  0.999235   \n",
       "31   NEGATIVE          14  0.999011   \n",
       "32   POSITIVE          15  0.987182   \n",
       "34   NEGATIVE          13  0.991765   \n",
       "35   NEGATIVE          11  0.998305   \n",
       "37   NEGATIVE          14  0.989767   \n",
       "42   NEGATIVE          16  0.989420   \n",
       "44   NEGATIVE          11  0.995578   \n",
       "53   POSITIVE          11  0.990385   \n",
       "55   POSITIVE          11  0.998280   \n",
       "59   NEGATIVE          26  0.998677   \n",
       "60   POSITIVE          11  0.996585   \n",
       "63   POSITIVE          13  0.978905   \n",
       "64   NEGATIVE          12  0.994647   \n",
       "66   NEGATIVE          14  0.999334   \n",
       "68   NEGATIVE          11  0.986067   \n",
       "69   NEGATIVE          16  0.999434   \n",
       "71   POSITIVE          15  0.995321   \n",
       "77   POSITIVE          14  0.975513   \n",
       "83   NEGATIVE          15  0.997149   \n",
       "84   POSITIVE          11  0.996757   \n",
       "88   POSITIVE          15  0.991291   \n",
       "94   NEGATIVE          12  0.994647   \n",
       "96   NEGATIVE          18  0.998227   \n",
       "98   POSITIVE          12  0.998191   \n",
       "108  NEGATIVE          11  0.998312   \n",
       "112  NEGATIVE          23  0.999164   \n",
       "115  POSITIVE          15  0.965866   \n",
       "116  NEGATIVE          11  0.976735   \n",
       "117  NEGATIVE          24  0.997383   \n",
       "119  POSITIVE          14  0.975955   \n",
       "123  POSITIVE          13  0.997822   \n",
       "\n",
       "                                                                                                                                                    Headline_Lower  \n",
       "26                                                       winter is coming: the 'best country in the world' is planning to ban electric cars amid the energy crisis  \n",
       "28                                                                                          exxons us workers get inflation-busting pay hike as profit hits record  \n",
       "30                                                                         dow jones futures fall: market rally wipes out powell gains as apple, exxon, tesla skid  \n",
       "31                                                                                        market rally wipes out powell gains as apple, exxon skid; what to do now  \n",
       "32                                                        the zacks analyst blog highlights exxon mobil, wesbanco, s&t bancorp, gilead sciences and conagra brands  \n",
       "34                                                                                  world will face shortage of liquefied natural gas through 2026, says exxon ceo  \n",
       "35                                                                                                amcor (amcr) inks deal to buy recycled material from exxon mobil  \n",
       "37                                                                           investors heavily search exxon mobil corporation (xom): here is what you need to know  \n",
       "42                                                               bp stake in russian oil giant rosneft is blood money, says adviser to ukraines president zelensky  \n",
       "44                                                                                              energy stocks mixed as china demand looks supportive of oil prices  \n",
       "53                                                                                           exxonmobil elects larry kellner and john harris to board of directors  \n",
       "55                                                                                                        hot fund to sec: we're boosting bets on best stock picks  \n",
       "59   bofa warns hot inflation might run rampant for another 10 years  heres the 1 shockproof sector that could preserve your wealth under that worst-case scenario  \n",
       "60                                                                         exxonmobil and mitsubishi heavy industries partner to advance carbon capture technology  \n",
       "63                                                                         20 big oil companies expected to be cash gushers in 2023 despite short-term uncertainty  \n",
       "64                                                                                                   enbridge (enb), bad river tribe to form line 5 oil spill plan  \n",
       "66                                                           exxon mobil corporation's (nyse:xom) stock on an uptrend: could fundamentals be driving the momentum?  \n",
       "68                                                                                carbon dioxide could be a multi-trillion-dollar opportunity for these oil stocks  \n",
       "69                                                                  want $1,500 in passive income? invest $10,000 in these 3 dividend aristocrats and wait 5 years  \n",
       "71                                                                                  large energy stocks are still up big in 2022 despite crude oil giving up gains  \n",
       "77                                                            the zacks analyst blog highlights exxon mobil, meta platforms, eaton keysight technologies and ansys  \n",
       "83                                                                               here is what to know beyond why exxon mobil corporation (xom) is a trending stock  \n",
       "84                                                                                  exxon is emerging as an unlikely supporter of americas decarbonization efforts  \n",
       "88                                              the zacks analyst blog highlights archer-daniels-midland, mckesson, marathon petroleum, exxon mobil and merck & co  \n",
       "94                                                          exxon mobil, chevron, conocophillips slapped with shareholder resolutions over secretive tax practices  \n",
       "96                                                                                 is it time to buy exxon stock as it stays within a buy zone as oil prices drop?  \n",
       "98                                                              zacks investment ideas feature highlights: visa, unitedhealth group, exxon mobil, microsoft, apple  \n",
       "108                                                                                        is kosmos energy (kos) stock outpacing its oils-energy peers this year?  \n",
       "112                            the world should be worried: saudi aramco  the worlds largest oil producer  has issued a dire warning over 'extremely low' capacity  \n",
       "115                                                                                        race is on to be the next big us supplier of lng to fuel-starved europe  \n",
       "116                                                                 purpose investments files preliminary prospectus for the first yield-focused single-stock etfs  \n",
       "117            morgan stanley expects the s&p 500 to plunge another 15%-25% within the next four months  use these 3 top recession-resistant stocks for protection  \n",
       "119                                                                                             new date set: feb 9 for palm beach corpgov forum with v&e and nyse  \n",
       "123                                                                              coral south project in mozambique ships first lng cargo, helps meet global demand  "
      ]
     },
     "execution_count": 209,
     "metadata": {},
     "output_type": "execute_result"
    }
   ],
   "source": [
    "df[df['Score'] > 0.8]"
   ]
  },
  {
   "cell_type": "code",
   "execution_count": 210,
   "metadata": {},
   "outputs": [
    {
     "data": {
      "text/plain": [
       "<AxesSubplot:xlabel='Sentiment', ylabel='Count'>"
      ]
     },
     "execution_count": 210,
     "metadata": {},
     "output_type": "execute_result"
    },
    {
     "data": {
      "image/png": "[encoded data removed]",
      "text/plain": [
       "<Figure size 432x288 with 1 Axes>"
      ]
     },
     "metadata": {
      "needs_background": "light"
     },
     "output_type": "display_data"
    }
   ],
   "source": [
    "sns.histplot(x = 'Sentiment', data = df[df['Score'] > 0.8], hue = 'Sentiment', hue_order=['POSITIVE', 'NEGATIVE'])"
   ]
  },
  {
   "cell_type": "markdown",
   "metadata": {},
   "source": [
    "# SQQQ Ticker"
   ]
  },
  {
   "cell_type": "code",
   "execution_count": 211,
   "metadata": {},
   "outputs": [],
   "source": [
    "url = \"https://finviz.com/quote.ashx?t=SQQQ&ty=c&ta=1&p=d\"\n",
    "\n",
    "\n",
    "headers = {\"User-Agent\": \"Mozilla/5.0\"}\n",
    "cookies = {\"CONSENT\": \"YES+cb.20210720-07-p0.en+FX+410\"}\n",
    "\n",
    "req = Request(url, headers=headers)\n",
    "\n",
    "try:\n",
    "    contents = urlopen(req).read() \n",
    "    soup = BeautifulSoup(contents, features=\"html.parser\")\n",
    "\n",
    "    sentence2 = []\n",
    "\n",
    "    for tag in soup.find_all('a'):\n",
    "\n",
    "        sentence = tag.text.split(\".\")\n",
    "        sentence2.append(sentence)\n",
    "\n",
    "except urllib.error.HTTPError as err:\n",
    "    print(err.code)\n",
    "\n",
    "except socket.timeout as se:\n",
    "    print(\"socket timeout\")"
   ]
  },
  {
   "cell_type": "code",
   "execution_count": 212,
   "metadata": {},
   "outputs": [],
   "source": [
    "df = pd.DataFrame(sentence2)"
   ]
  },
  {
   "cell_type": "code",
   "execution_count": 213,
   "metadata": {},
   "outputs": [],
   "source": [
    "df['Headline'] = df[0]\n",
    "df['Sentiment'] = -2\n",
    "df = pd.DataFrame(list(zip(df['Headline'], df['Sentiment'])), columns=['Headline', 'Sentiment'])"
   ]
  },
  {
   "cell_type": "code",
   "execution_count": 214,
   "metadata": {},
   "outputs": [],
   "source": [
    "i = []\n",
    "\n",
    "for string in df['Headline']:\n",
    "    i.append(count_words(string))\n",
    "\n",
    "df['word_count'] = i\n"
   ]
  },
  {
   "cell_type": "code",
   "execution_count": 215,
   "metadata": {},
   "outputs": [],
   "source": [
    "sentiment = [None] * len(df)\n",
    "sentiment_score = [None] * len(df)\n",
    "index = -1\n",
    "for sentence in df['Headline']:\n",
    "    index+=1\n",
    "    result = sentiment_pipeline(sentence[:512])[0]\n",
    "    sentiment[index] = result['label']\n",
    "    sentiment_score[index] = result['score']\n",
    "df['Sentiment'] = sentiment\n",
    "df['Score'] = sentiment_score\n"
   ]
  },
  {
   "cell_type": "code",
   "execution_count": 216,
   "metadata": {},
   "outputs": [],
   "source": [
    "df = df[df['word_count'] > 10]\n",
    "df['Headline_Lower'] = df['Headline'].str.lower()"
   ]
  },
  {
   "cell_type": "code",
   "execution_count": 217,
   "metadata": {},
   "outputs": [
    {
     "data": {
      "text/html": [
       "<div>\n",
       "<style scoped>\n",
       "    .dataframe tbody tr th:only-of-type {\n",
       "        vertical-align: middle;\n",
       "    }\n",
       "\n",
       "    .dataframe tbody tr th {\n",
       "        vertical-align: top;\n",
       "    }\n",
       "\n",
       "    .dataframe thead th {\n",
       "        text-align: right;\n",
       "    }\n",
       "</style>\n",
       "<table border=\"1\" class=\"dataframe\">\n",
       "  <thead>\n",
       "    <tr style=\"text-align: right;\">\n",
       "      <th></th>\n",
       "      <th>Headline</th>\n",
       "      <th>Sentiment</th>\n",
       "      <th>word_count</th>\n",
       "      <th>Score</th>\n",
       "      <th>Headline_Lower</th>\n",
       "    </tr>\n",
       "  </thead>\n",
       "  <tbody>\n",
       "    <tr>\n",
       "      <th>26</th>\n",
       "      <td>Jackson Hole Capital Partners, LLC Buys Rent-A-Center Inc, Direxion Daily S&amp;P 500 Bear 3X</td>\n",
       "      <td>NEGATIVE</td>\n",
       "      <td>14</td>\n",
       "      <td>0.974540</td>\n",
       "      <td>jackson hole capital partners, llc buys rent-a-center inc, direxion daily s&amp;p 500 bear 3x</td>\n",
       "    </tr>\n",
       "    <tr>\n",
       "      <th>27</th>\n",
       "      <td>Hengehold Capital Management Llc Buys Schwab US Aggregate Bond ETF, iShares National Muni Bond</td>\n",
       "      <td>NEGATIVE</td>\n",
       "      <td>14</td>\n",
       "      <td>0.969672</td>\n",
       "      <td>hengehold capital management llc buys schwab us aggregate bond etf, ishares national muni bond</td>\n",
       "    </tr>\n",
       "    <tr>\n",
       "      <th>30</th>\n",
       "      <td>St Denis J Villere &amp; Co LLC Buys Bank of America Corp, Paya Holdings Inc, Open Lending</td>\n",
       "      <td>POSITIVE</td>\n",
       "      <td>17</td>\n",
       "      <td>0.978686</td>\n",
       "      <td>st denis j villere &amp; co llc buys bank of america corp, paya holdings inc, open lending</td>\n",
       "    </tr>\n",
       "    <tr>\n",
       "      <th>42</th>\n",
       "      <td>Rise of online ordering will continue after COVID-19: Yum China CEO</td>\n",
       "      <td>POSITIVE</td>\n",
       "      <td>11</td>\n",
       "      <td>0.998168</td>\n",
       "      <td>rise of online ordering will continue after covid-19: yum china ceo</td>\n",
       "    </tr>\n",
       "    <tr>\n",
       "      <th>49</th>\n",
       "      <td>NASDAQ Makes It Four Days of Gains as Stocks Resume Rally</td>\n",
       "      <td>NEGATIVE</td>\n",
       "      <td>11</td>\n",
       "      <td>0.972605</td>\n",
       "      <td>nasdaq makes it four days of gains as stocks resume rally</td>\n",
       "    </tr>\n",
       "    <tr>\n",
       "      <th>51</th>\n",
       "      <td>The stock market is getting dangerously close to the mother of support zones</td>\n",
       "      <td>NEGATIVE</td>\n",
       "      <td>13</td>\n",
       "      <td>0.995923</td>\n",
       "      <td>the stock market is getting dangerously close to the mother of support zones</td>\n",
       "    </tr>\n",
       "    <tr>\n",
       "      <th>52</th>\n",
       "      <td>To the investors gobbling up stocks: The intraweek rally attempt faces a better-than-even chance of failure</td>\n",
       "      <td>NEGATIVE</td>\n",
       "      <td>16</td>\n",
       "      <td>0.998739</td>\n",
       "      <td>to the investors gobbling up stocks: the intraweek rally attempt faces a better-than-even chance of failure</td>\n",
       "    </tr>\n",
       "    <tr>\n",
       "      <th>53</th>\n",
       "      <td>How low can the stock market go? Watch these two support zones</td>\n",
       "      <td>NEGATIVE</td>\n",
       "      <td>12</td>\n",
       "      <td>0.999458</td>\n",
       "      <td>how low can the stock market go? watch these two support zones</td>\n",
       "    </tr>\n",
       "    <tr>\n",
       "      <th>54</th>\n",
       "      <td>Dos and donts in this stock market: Dont panic, do develop a plan  even if you didnt have one before</td>\n",
       "      <td>NEGATIVE</td>\n",
       "      <td>21</td>\n",
       "      <td>0.993685</td>\n",
       "      <td>dos and donts in this stock market: dont panic, do develop a plan  even if you didnt have one before</td>\n",
       "    </tr>\n",
       "    <tr>\n",
       "      <th>55</th>\n",
       "      <td>Stock market investors are asking should I buy or sell? Heres how to decide</td>\n",
       "      <td>NEGATIVE</td>\n",
       "      <td>14</td>\n",
       "      <td>0.998444</td>\n",
       "      <td>stock market investors are asking should i buy or sell? heres how to decide</td>\n",
       "    </tr>\n",
       "    <tr>\n",
       "      <th>56</th>\n",
       "      <td>IBD Live: Dow Jones Plunges 2,000 Points: What To Do As Coronavirus Stock Market Correction Hits New Lows</td>\n",
       "      <td>NEGATIVE</td>\n",
       "      <td>18</td>\n",
       "      <td>0.998793</td>\n",
       "      <td>ibd live: dow jones plunges 2,000 points: what to do as coronavirus stock market correction hits new lows</td>\n",
       "    </tr>\n",
       "    <tr>\n",
       "      <th>59</th>\n",
       "      <td>Buffett is bullish on stocks but says the market can drop 50%  is he wrong?</td>\n",
       "      <td>NEGATIVE</td>\n",
       "      <td>16</td>\n",
       "      <td>0.998950</td>\n",
       "      <td>buffett is bullish on stocks but says the market can drop 50%  is he wrong?</td>\n",
       "    </tr>\n",
       "    <tr>\n",
       "      <th>60</th>\n",
       "      <td>The triple-short Nasdaq 100 ETF is the most active stock in the premarket, as the Nasdaq 100 tumbles</td>\n",
       "      <td>NEGATIVE</td>\n",
       "      <td>18</td>\n",
       "      <td>0.998018</td>\n",
       "      <td>the triple-short nasdaq 100 etf is the most active stock in the premarket, as the nasdaq 100 tumbles</td>\n",
       "    </tr>\n",
       "    <tr>\n",
       "      <th>63</th>\n",
       "      <td>Central banks money printing buoys stocks, but for how much longer?</td>\n",
       "      <td>NEGATIVE</td>\n",
       "      <td>11</td>\n",
       "      <td>0.998249</td>\n",
       "      <td>central banks money printing buoys stocks, but for how much longer?</td>\n",
       "    </tr>\n",
       "    <tr>\n",
       "      <th>66</th>\n",
       "      <td>How the coronavirus scare has driven dangerous arrogance and greed in the stock market</td>\n",
       "      <td>NEGATIVE</td>\n",
       "      <td>14</td>\n",
       "      <td>0.997036</td>\n",
       "      <td>how the coronavirus scare has driven dangerous arrogance and greed in the stock market</td>\n",
       "    </tr>\n",
       "    <tr>\n",
       "      <th>67</th>\n",
       "      <td>IBD Live: With Coronavirus Threat, Here's How To Hedge Against Losses</td>\n",
       "      <td>NEGATIVE</td>\n",
       "      <td>11</td>\n",
       "      <td>0.995592</td>\n",
       "      <td>ibd live: with coronavirus threat, here's how to hedge against losses</td>\n",
       "    </tr>\n",
       "    <tr>\n",
       "      <th>68</th>\n",
       "      <td>IBD Live: Stock Market Falls On Coronavirus; Time To Take Profits?</td>\n",
       "      <td>NEGATIVE</td>\n",
       "      <td>11</td>\n",
       "      <td>0.999236</td>\n",
       "      <td>ibd live: stock market falls on coronavirus; time to take profits?</td>\n",
       "    </tr>\n",
       "    <tr>\n",
       "      <th>69</th>\n",
       "      <td>Watch these stocks and ETFs to gauge the impact of the coronavirus on markets</td>\n",
       "      <td>POSITIVE</td>\n",
       "      <td>14</td>\n",
       "      <td>0.967010</td>\n",
       "      <td>watch these stocks and etfs to gauge the impact of the coronavirus on markets</td>\n",
       "    </tr>\n",
       "    <tr>\n",
       "      <th>71</th>\n",
       "      <td>Stock Market Today At New Highs, But This Hedging Strategy Means You Don't Have To Sell  Yet</td>\n",
       "      <td>POSITIVE</td>\n",
       "      <td>18</td>\n",
       "      <td>0.995608</td>\n",
       "      <td>stock market today at new highs, but this hedging strategy means you don't have to sell  yet</td>\n",
       "    </tr>\n",
       "    <tr>\n",
       "      <th>74</th>\n",
       "      <td>Believe in a Santa Claus rally if you want, but first look at this chart</td>\n",
       "      <td>NEGATIVE</td>\n",
       "      <td>15</td>\n",
       "      <td>0.972901</td>\n",
       "      <td>believe in a santa claus rally if you want, but first look at this chart</td>\n",
       "    </tr>\n",
       "    <tr>\n",
       "      <th>79</th>\n",
       "      <td>President Trump might just be the best stock market timer ever</td>\n",
       "      <td>POSITIVE</td>\n",
       "      <td>11</td>\n",
       "      <td>0.997398</td>\n",
       "      <td>president trump might just be the best stock market timer ever</td>\n",
       "    </tr>\n",
       "    <tr>\n",
       "      <th>88</th>\n",
       "      <td>Why this time is different rings true in todays stock market</td>\n",
       "      <td>POSITIVE</td>\n",
       "      <td>11</td>\n",
       "      <td>0.999510</td>\n",
       "      <td>why this time is different rings true in todays stock market</td>\n",
       "    </tr>\n",
       "    <tr>\n",
       "      <th>89</th>\n",
       "      <td>Stock market steps back from the cliffs edge  heres what to watch for next</td>\n",
       "      <td>NEGATIVE</td>\n",
       "      <td>15</td>\n",
       "      <td>0.931890</td>\n",
       "      <td>stock market steps back from the cliffs edge  heres what to watch for next</td>\n",
       "    </tr>\n",
       "    <tr>\n",
       "      <th>90</th>\n",
       "      <td>Fed &amp;amp; Trade Trigger Market Bloodbath: 6 Hot Inverse ETF Areas</td>\n",
       "      <td>NEGATIVE</td>\n",
       "      <td>11</td>\n",
       "      <td>0.990411</td>\n",
       "      <td>fed &amp;amp; trade trigger market bloodbath: 6 hot inverse etf areas</td>\n",
       "    </tr>\n",
       "  </tbody>\n",
       "</table>\n",
       "</div>"
      ],
      "text/plain": [
       "                                                                                                       Headline  \\\n",
       "26                   Jackson Hole Capital Partners, LLC Buys Rent-A-Center Inc, Direxion Daily S&P 500 Bear 3X    \n",
       "27              Hengehold Capital Management Llc Buys Schwab US Aggregate Bond ETF, iShares National Muni Bond    \n",
       "30                      St Denis J Villere & Co LLC Buys Bank of America Corp, Paya Holdings Inc, Open Lending    \n",
       "42                                          Rise of online ordering will continue after COVID-19: Yum China CEO   \n",
       "49                                                    NASDAQ Makes It Four Days of Gains as Stocks Resume Rally   \n",
       "51                                 The stock market is getting dangerously close to the mother of support zones   \n",
       "52  To the investors gobbling up stocks: The intraweek rally attempt faces a better-than-even chance of failure   \n",
       "53                                               How low can the stock market go? Watch these two support zones   \n",
       "54         Dos and donts in this stock market: Dont panic, do develop a plan  even if you didnt have one before   \n",
       "55                                  Stock market investors are asking should I buy or sell? Heres how to decide   \n",
       "56    IBD Live: Dow Jones Plunges 2,000 Points: What To Do As Coronavirus Stock Market Correction Hits New Lows   \n",
       "59                                  Buffett is bullish on stocks but says the market can drop 50%  is he wrong?   \n",
       "60         The triple-short Nasdaq 100 ETF is the most active stock in the premarket, as the Nasdaq 100 tumbles   \n",
       "63                                          Central banks money printing buoys stocks, but for how much longer?   \n",
       "66                       How the coronavirus scare has driven dangerous arrogance and greed in the stock market   \n",
       "67                                        IBD Live: With Coronavirus Threat, Here's How To Hedge Against Losses   \n",
       "68                                           IBD Live: Stock Market Falls On Coronavirus; Time To Take Profits?   \n",
       "69                                Watch these stocks and ETFs to gauge the impact of the coronavirus on markets   \n",
       "71                 Stock Market Today At New Highs, But This Hedging Strategy Means You Don't Have To Sell  Yet   \n",
       "74                                     Believe in a Santa Claus rally if you want, but first look at this chart   \n",
       "79                                               President Trump might just be the best stock market timer ever   \n",
       "88                                                 Why this time is different rings true in todays stock market   \n",
       "89                                   Stock market steps back from the cliffs edge  heres what to watch for next   \n",
       "90                                            Fed &amp; Trade Trigger Market Bloodbath: 6 Hot Inverse ETF Areas   \n",
       "\n",
       "   Sentiment  word_count     Score  \\\n",
       "26  NEGATIVE          14  0.974540   \n",
       "27  NEGATIVE          14  0.969672   \n",
       "30  POSITIVE          17  0.978686   \n",
       "42  POSITIVE          11  0.998168   \n",
       "49  NEGATIVE          11  0.972605   \n",
       "51  NEGATIVE          13  0.995923   \n",
       "52  NEGATIVE          16  0.998739   \n",
       "53  NEGATIVE          12  0.999458   \n",
       "54  NEGATIVE          21  0.993685   \n",
       "55  NEGATIVE          14  0.998444   \n",
       "56  NEGATIVE          18  0.998793   \n",
       "59  NEGATIVE          16  0.998950   \n",
       "60  NEGATIVE          18  0.998018   \n",
       "63  NEGATIVE          11  0.998249   \n",
       "66  NEGATIVE          14  0.997036   \n",
       "67  NEGATIVE          11  0.995592   \n",
       "68  NEGATIVE          11  0.999236   \n",
       "69  POSITIVE          14  0.967010   \n",
       "71  POSITIVE          18  0.995608   \n",
       "74  NEGATIVE          15  0.972901   \n",
       "79  POSITIVE          11  0.997398   \n",
       "88  POSITIVE          11  0.999510   \n",
       "89  NEGATIVE          15  0.931890   \n",
       "90  NEGATIVE          11  0.990411   \n",
       "\n",
       "                                                                                                 Headline_Lower  \n",
       "26                   jackson hole capital partners, llc buys rent-a-center inc, direxion daily s&p 500 bear 3x   \n",
       "27              hengehold capital management llc buys schwab us aggregate bond etf, ishares national muni bond   \n",
       "30                      st denis j villere & co llc buys bank of america corp, paya holdings inc, open lending   \n",
       "42                                          rise of online ordering will continue after covid-19: yum china ceo  \n",
       "49                                                    nasdaq makes it four days of gains as stocks resume rally  \n",
       "51                                 the stock market is getting dangerously close to the mother of support zones  \n",
       "52  to the investors gobbling up stocks: the intraweek rally attempt faces a better-than-even chance of failure  \n",
       "53                                               how low can the stock market go? watch these two support zones  \n",
       "54         dos and donts in this stock market: dont panic, do develop a plan  even if you didnt have one before  \n",
       "55                                  stock market investors are asking should i buy or sell? heres how to decide  \n",
       "56    ibd live: dow jones plunges 2,000 points: what to do as coronavirus stock market correction hits new lows  \n",
       "59                                  buffett is bullish on stocks but says the market can drop 50%  is he wrong?  \n",
       "60         the triple-short nasdaq 100 etf is the most active stock in the premarket, as the nasdaq 100 tumbles  \n",
       "63                                          central banks money printing buoys stocks, but for how much longer?  \n",
       "66                       how the coronavirus scare has driven dangerous arrogance and greed in the stock market  \n",
       "67                                        ibd live: with coronavirus threat, here's how to hedge against losses  \n",
       "68                                           ibd live: stock market falls on coronavirus; time to take profits?  \n",
       "69                                watch these stocks and etfs to gauge the impact of the coronavirus on markets  \n",
       "71                 stock market today at new highs, but this hedging strategy means you don't have to sell  yet  \n",
       "74                                     believe in a santa claus rally if you want, but first look at this chart  \n",
       "79                                               president trump might just be the best stock market timer ever  \n",
       "88                                                 why this time is different rings true in todays stock market  \n",
       "89                                   stock market steps back from the cliffs edge  heres what to watch for next  \n",
       "90                                            fed &amp; trade trigger market bloodbath: 6 hot inverse etf areas  "
      ]
     },
     "execution_count": 217,
     "metadata": {},
     "output_type": "execute_result"
    }
   ],
   "source": [
    "df[df['Score'] > 0.8]"
   ]
  },
  {
   "cell_type": "code",
   "execution_count": 218,
   "metadata": {},
   "outputs": [
    {
     "data": {
      "text/plain": [
       "<AxesSubplot:xlabel='Sentiment', ylabel='Count'>"
      ]
     },
     "execution_count": 218,
     "metadata": {},
     "output_type": "execute_result"
    },
    {
     "data": {
      "image/png": "[encoded data removed]",
      "text/plain": [
       "<Figure size 432x288 with 1 Axes>"
      ]
     },
     "metadata": {
      "needs_background": "light"
     },
     "output_type": "display_data"
    }
   ],
   "source": [
    "sns.histplot(x = 'Sentiment', data = df[df['Score'] > 0.8], hue = 'Sentiment', hue_order=['POSITIVE', 'NEGATIVE'])"
   ]
  },
  {
   "cell_type": "markdown",
   "metadata": {},
   "source": [
    "# T.TO"
   ]
  },
  {
   "cell_type": "code",
   "execution_count": 219,
   "metadata": {},
   "outputs": [
    {
     "name": "stdout",
     "output_type": "stream",
     "text": [
      "Requesting html page\n",
      "Extracting news tags\n",
      "Parsing news tags\n",
      "Save the data to a CSV\n"
     ]
    }
   ],
   "source": [
    "YAHOO_NEWS_URL = 'https://finance.yahoo.com/quote/T.TO/news?p=T.TO'\n",
    "news_df = scrape_yahoo_news(YAHOO_NEWS_URL)"
   ]
  },
  {
   "cell_type": "code",
   "execution_count": 220,
   "metadata": {},
   "outputs": [],
   "source": [
    "from transformers import pipeline\n",
    "\n",
    "import warnings\n",
    "warnings.filterwarnings(\"ignore\")\n",
    "\n",
    "from IPython.core.interactiveshell import InteractiveShell\n",
    "InteractiveShell.ast_node_interactivity = 'all'\n",
    "\n",
    "pd.set_option('display.max_columns', None) "
   ]
  },
  {
   "cell_type": "code",
   "execution_count": 221,
   "metadata": {},
   "outputs": [],
   "source": [
    "sentiment_pipeline = pipeline(\"sentiment-analysis\", model=\"distilbert-base-uncased-finetuned-sst-2-english\")"
   ]
  },
  {
   "cell_type": "code",
   "execution_count": 222,
   "metadata": {},
   "outputs": [],
   "source": [
    "sentiment = [None] * len(news_df)\n",
    "sentiment_score = [None] * len(news_df)\n",
    "index = -1\n",
    "for sentence in news_df['headline']:\n",
    "    index+=1\n",
    "    result = sentiment_pipeline(sentence[:512])[0]\n",
    "    sentiment[index] = result['label']\n",
    "    sentiment_score[index] = result['score']\n",
    "news_df['Sentiment'] = sentiment\n",
    "news_df['Score'] = sentiment_score\n",
    "\n",
    "\n",
    "sentiment = [None] * len(news_df)\n",
    "sentiment_score = [None] * len(news_df)\n",
    "index = -1\n",
    "for sentence in news_df['content']:\n",
    "    index+=1\n",
    "    result = sentiment_pipeline(sentence[:512])[0]\n",
    "    sentiment[index] = result['label']\n",
    "    sentiment_score[index] = result['score']\n",
    "news_df['Sentiment2'] = sentiment\n",
    "news_df['Score2'] = sentiment_score"
   ]
  },
  {
   "cell_type": "code",
   "execution_count": 223,
   "metadata": {},
   "outputs": [],
   "source": [
    "import seaborn as sns"
   ]
  },
  {
   "cell_type": "code",
   "execution_count": 224,
   "metadata": {},
   "outputs": [
    {
     "data": {
      "text/html": [
       "<div>\n",
       "<style scoped>\n",
       "    .dataframe tbody tr th:only-of-type {\n",
       "        vertical-align: middle;\n",
       "    }\n",
       "\n",
       "    .dataframe tbody tr th {\n",
       "        vertical-align: top;\n",
       "    }\n",
       "\n",
       "    .dataframe thead th {\n",
       "        text-align: right;\n",
       "    }\n",
       "</style>\n",
       "<table border=\"1\" class=\"dataframe\">\n",
       "  <thead>\n",
       "    <tr style=\"text-align: right;\">\n",
       "      <th></th>\n",
       "      <th>source</th>\n",
       "      <th>time</th>\n",
       "      <th>headline</th>\n",
       "      <th>content</th>\n",
       "      <th>Sentiment</th>\n",
       "      <th>Score</th>\n",
       "      <th>Sentiment2</th>\n",
       "      <th>Score2</th>\n",
       "    </tr>\n",
       "  </thead>\n",
       "  <tbody>\n",
       "    <tr>\n",
       "      <th>0</th>\n",
       "      <td>Insider Monkey</td>\n",
       "      <td>2 days ago</td>\n",
       "      <td>12 Best Communication Stocks To Buy Today</td>\n",
       "      <td>In this article, we discuss the 12 best communication stocks to buy today. If you want to read about some more communication stocks to buy today, go directly to 5 Best Communication Stocks To Buy Today. The communications industry has grown from a sector that used to include just telecommunications, newspapers, magazines, books, and radio […]</td>\n",
       "      <td>POSITIVE</td>\n",
       "      <td>0.999457</td>\n",
       "      <td>POSITIVE</td>\n",
       "      <td>0.994583</td>\n",
       "    </tr>\n",
       "    <tr>\n",
       "      <th>1</th>\n",
       "      <td>Simply Wall St.</td>\n",
       "      <td>3 days ago</td>\n",
       "      <td>TELUS Corporation (TSE:T) is largely controlled by institutional shareholders who own 54% of the company</td>\n",
       "      <td>If you want to know who really controls TELUS Corporation ( TSE:T ), then you'll have to look at the makeup of its...</td>\n",
       "      <td>NEGATIVE</td>\n",
       "      <td>0.892858</td>\n",
       "      <td>NEGATIVE</td>\n",
       "      <td>0.999047</td>\n",
       "    </tr>\n",
       "    <tr>\n",
       "      <th>2</th>\n",
       "      <td>Simply Wall St.</td>\n",
       "      <td>22 days ago</td>\n",
       "      <td>TELUS' (TSE:T) Dividend Will Be Increased To CA$0.3511</td>\n",
       "      <td>TELUS Corporation ( TSE:T ) has announced that it will be increasing its dividend from last year's comparable payment...</td>\n",
       "      <td>NEGATIVE</td>\n",
       "      <td>0.988017</td>\n",
       "      <td>NEGATIVE</td>\n",
       "      <td>0.933608</td>\n",
       "    </tr>\n",
       "    <tr>\n",
       "      <th>3</th>\n",
       "      <td>Financial Post</td>\n",
       "      <td>24 days ago</td>\n",
       "      <td>Telus had strategy to 'kill, shape and slow' Rogers-Shaw merger, document shows</td>\n",
       "      <td>Telus’s efforts included company executives meeting with political leaders to try to persuade them to reject the takeover</td>\n",
       "      <td>NEGATIVE</td>\n",
       "      <td>0.997785</td>\n",
       "      <td>NEGATIVE</td>\n",
       "      <td>0.913936</td>\n",
       "    </tr>\n",
       "    <tr>\n",
       "      <th>4</th>\n",
       "      <td>Reuters</td>\n",
       "      <td>24 days ago</td>\n",
       "      <td>Rogers says Telus documents show rival tried to 'kill' Shaw deal</td>\n",
       "      <td>In its effort to win takeover approval, telecom provider Rogers Communications Inc on Monday presented documents to a tribunal that show Canada's second-largest telecom company Telus Corp attempted to sabotage Rogers' C$20 billion ($15 billion) deal to buy Shaw Communications Inc.  Challenging Canadian regulators' rejection of the deal on anti-trust grounds, Rogers may seek to argue that Telus wanted to kill the acquisition because it would increase cellphone competition, benefiting Canadian...</td>\n",
       "      <td>NEGATIVE</td>\n",
       "      <td>0.994781</td>\n",
       "      <td>NEGATIVE</td>\n",
       "      <td>0.996364</td>\n",
       "    </tr>\n",
       "    <tr>\n",
       "      <th>5</th>\n",
       "      <td>Zacks</td>\n",
       "      <td>24 days ago</td>\n",
       "      <td>DTEGY or TU: Which Is the Better Value Stock Right Now?</td>\n",
       "      <td>DTEGY vs. TU: Which Stock Is the Better Value Option?</td>\n",
       "      <td>NEGATIVE</td>\n",
       "      <td>0.998896</td>\n",
       "      <td>NEGATIVE</td>\n",
       "      <td>0.998626</td>\n",
       "    </tr>\n",
       "    <tr>\n",
       "      <th>6</th>\n",
       "      <td>Simply Wall St.</td>\n",
       "      <td>last month</td>\n",
       "      <td>Is TELUS Corporation's (TSE:T) 12% ROE Better Than Average?</td>\n",
       "      <td>While some investors are already well versed in financial metrics (hat tip), this article is for those who would like...</td>\n",
       "      <td>NEGATIVE</td>\n",
       "      <td>0.999067</td>\n",
       "      <td>POSITIVE</td>\n",
       "      <td>0.996413</td>\n",
       "    </tr>\n",
       "    <tr>\n",
       "      <th>7</th>\n",
       "      <td>Zacks</td>\n",
       "      <td>last month</td>\n",
       "      <td>TELUS (TU) Q3 Earnings &amp; Revenues Top Estimates, Increase Y/Y</td>\n",
       "      <td>TELUS (TU) third-quarter performance boosted by high service revenue in TELUS technology solutions and TELUS International.</td>\n",
       "      <td>NEGATIVE</td>\n",
       "      <td>0.692262</td>\n",
       "      <td>POSITIVE</td>\n",
       "      <td>0.791908</td>\n",
       "    </tr>\n",
       "    <tr>\n",
       "      <th>8</th>\n",
       "      <td>Benzinga</td>\n",
       "      <td>last month</td>\n",
       "      <td>Telus Clocks ~10% Revenue Growth In Q3 Backed By Customer Additions; Boosts Dividend By 7.2%</td>\n",
       "      <td>Telus Corp (NYSE: TU) reported third-quarter FY22 operating revenues and other income growth of 9.9% year-on-year to CA$4.67 billion. Total telecom subscriber connections grew 6.3% Y/Y to 17.7 million. It made 347,000 new customer net additions in the quarter, up 27,000 over last year, including 150,000 mobile phones, 124,000 connected devices, 36,000 internet, 25,000 security, and 18,000 TV customer connections. The mobile phone churn was 0.95%. Adjusted basic EPS was CA$0.34, up 17% Y/Y. A...</td>\n",
       "      <td>NEGATIVE</td>\n",
       "      <td>0.561149</td>\n",
       "      <td>NEGATIVE</td>\n",
       "      <td>0.983207</td>\n",
       "    </tr>\n",
       "    <tr>\n",
       "      <th>9</th>\n",
       "      <td>Zacks</td>\n",
       "      <td>last month</td>\n",
       "      <td>Telus (TU) Q3 Earnings and Revenues Beat Estimates</td>\n",
       "      <td>Telus (TU) delivered earnings and revenue surprises of 4% and 1.93%, respectively, for the quarter ended September 2022. Do the numbers hold clues to what lies ahead for the stock?</td>\n",
       "      <td>NEGATIVE</td>\n",
       "      <td>0.955190</td>\n",
       "      <td>NEGATIVE</td>\n",
       "      <td>0.994703</td>\n",
       "    </tr>\n",
       "    <tr>\n",
       "      <th>10</th>\n",
       "      <td>Zacks</td>\n",
       "      <td>last month</td>\n",
       "      <td>Should You Buy Telus (TU) Ahead of Earnings?</td>\n",
       "      <td>Telus (TU) is seeing favorable earnings estimate revision activity and has a positive Zacks Earnings ESP heading into earnings season.</td>\n",
       "      <td>NEGATIVE</td>\n",
       "      <td>0.997798</td>\n",
       "      <td>POSITIVE</td>\n",
       "      <td>0.998531</td>\n",
       "    </tr>\n",
       "    <tr>\n",
       "      <th>11</th>\n",
       "      <td>Zacks</td>\n",
       "      <td>last month</td>\n",
       "      <td>BCE (BCE) Beats Q3 Earnings and Revenue Estimates</td>\n",
       "      <td>BCE (BCE) delivered earnings and revenue surprises of 4.69% and 2.66%, respectively, for the quarter ended September 2022. Do the numbers hold clues to what lies ahead for the stock?</td>\n",
       "      <td>NEGATIVE</td>\n",
       "      <td>0.921792</td>\n",
       "      <td>NEGATIVE</td>\n",
       "      <td>0.991835</td>\n",
       "    </tr>\n",
       "    <tr>\n",
       "      <th>12</th>\n",
       "      <td>Financial Post</td>\n",
       "      <td>last month</td>\n",
       "      <td>Telus doesn't need CRTC approval to surcharge majority of customers, regulator says</td>\n",
       "      <td>Telus implemented 1.5% charge last month for most wireless, home-service customers who pay bills by credit card</td>\n",
       "      <td>POSITIVE</td>\n",
       "      <td>0.974716</td>\n",
       "      <td>NEGATIVE</td>\n",
       "      <td>0.951092</td>\n",
       "    </tr>\n",
       "    <tr>\n",
       "      <th>13</th>\n",
       "      <td>Zacks</td>\n",
       "      <td>last month</td>\n",
       "      <td>Shenandoah Telecommunications (SHEN) Reports Q3 Loss, Tops Revenue Estimates</td>\n",
       "      <td>Shenandoah Telecom (SHEN) delivered earnings and revenue surprises of -200% and 1.49%, respectively, for the quarter ended September 2022. Do the numbers hold clues to what lies ahead for the stock?</td>\n",
       "      <td>NEGATIVE</td>\n",
       "      <td>0.999294</td>\n",
       "      <td>NEGATIVE</td>\n",
       "      <td>0.986180</td>\n",
       "    </tr>\n",
       "    <tr>\n",
       "      <th>14</th>\n",
       "      <td>Zacks</td>\n",
       "      <td>last month</td>\n",
       "      <td>Halliburton Company and M.D.C. Holdings have been highlighted as Zacks Bull and Bear of the Day</td>\n",
       "      <td>Halliburton Company and M.D.C. Holdings are part of the Zacks Bull and Bear of the Day article.</td>\n",
       "      <td>POSITIVE</td>\n",
       "      <td>0.994775</td>\n",
       "      <td>POSITIVE</td>\n",
       "      <td>0.797511</td>\n",
       "    </tr>\n",
       "    <tr>\n",
       "      <th>15</th>\n",
       "      <td>Zacks</td>\n",
       "      <td>last month</td>\n",
       "      <td>3 Telecom Stocks Likely to Surpass Q3 Earnings Estimates</td>\n",
       "      <td>USM, TU and CMTL are poised to benefit from higher demand for scalable infrastructure for seamless connectivity amid a wide proliferation of IoT and a steady pace of 5G rollout.</td>\n",
       "      <td>NEGATIVE</td>\n",
       "      <td>0.974039</td>\n",
       "      <td>POSITIVE</td>\n",
       "      <td>0.995971</td>\n",
       "    </tr>\n",
       "    <tr>\n",
       "      <th>16</th>\n",
       "      <td>Insider Monkey</td>\n",
       "      <td>last month</td>\n",
       "      <td>10 Best TSX Stocks To Buy Now</td>\n",
       "      <td>In this article, we discuss 10 best TSX stocks to buy now. If you want to see more stocks in this selection, check out 5 Best TSX Stocks To Buy Now. Finance Minister Chrystia Freeland warned Canadians on October 19, saying the next few months will be hard as increasing interest rates erode a once-thriving […]</td>\n",
       "      <td>POSITIVE</td>\n",
       "      <td>0.999652</td>\n",
       "      <td>NEGATIVE</td>\n",
       "      <td>0.981137</td>\n",
       "    </tr>\n",
       "    <tr>\n",
       "      <th>17</th>\n",
       "      <td>Zacks</td>\n",
       "      <td>2 months ago</td>\n",
       "      <td>Here's Why Investors May Consider Betting on TELUS (TU) Stock</td>\n",
       "      <td>TELUS' (TU) performance is benefiting from continued momentum in both business segments</td>\n",
       "      <td>NEGATIVE</td>\n",
       "      <td>0.994778</td>\n",
       "      <td>POSITIVE</td>\n",
       "      <td>0.999602</td>\n",
       "    </tr>\n",
       "    <tr>\n",
       "      <th>18</th>\n",
       "      <td>Zacks</td>\n",
       "      <td>2 months ago</td>\n",
       "      <td>Here's Why Telus (TU) is a Strong Value Stock</td>\n",
       "      <td>Wondering how to pick strong, market-beating stocks for your investment portfolio? Look no further than the Zacks Style Scores.</td>\n",
       "      <td>POSITIVE</td>\n",
       "      <td>0.992807</td>\n",
       "      <td>POSITIVE</td>\n",
       "      <td>0.972559</td>\n",
       "    </tr>\n",
       "    <tr>\n",
       "      <th>19</th>\n",
       "      <td>Zacks</td>\n",
       "      <td>2 months ago</td>\n",
       "      <td>Zacks.com featured highlights include W.R. Berkley, Crocs, Boyd Gaming, Boise Cascade and TELUS</td>\n",
       "      <td>W.R. Berkley, Crocs, Boyd Gaming, Boise Cascade and TELUS have been highlighted in this Screen of The Week article.</td>\n",
       "      <td>POSITIVE</td>\n",
       "      <td>0.988196</td>\n",
       "      <td>POSITIVE</td>\n",
       "      <td>0.998186</td>\n",
       "    </tr>\n",
       "    <tr>\n",
       "      <th>20</th>\n",
       "      <td>Zacks</td>\n",
       "      <td>2 months ago</td>\n",
       "      <td>5 Stocks With Solid Sales Growth to Bet On Amid Market Mayhem</td>\n",
       "      <td>Consistent sales growth is vital for the survival of a business, even during an economic slowdown. Let's check W.R. Berkley (WRB), Crocs (CROX), Boyd Gaming (BYD), Boise Cascade (BCC) &amp; TELUS (TU) that are recording top-line growth.</td>\n",
       "      <td>POSITIVE</td>\n",
       "      <td>0.999484</td>\n",
       "      <td>POSITIVE</td>\n",
       "      <td>0.999790</td>\n",
       "    </tr>\n",
       "    <tr>\n",
       "      <th>21</th>\n",
       "      <td>Zacks</td>\n",
       "      <td>2 months ago</td>\n",
       "      <td>TEF or TU: Which Is the Better Value Stock Right Now?</td>\n",
       "      <td>TEF vs. TU: Which Stock Is the Better Value Option?</td>\n",
       "      <td>NEGATIVE</td>\n",
       "      <td>0.999223</td>\n",
       "      <td>NEGATIVE</td>\n",
       "      <td>0.998727</td>\n",
       "    </tr>\n",
       "    <tr>\n",
       "      <th>22</th>\n",
       "      <td>Insider Monkey</td>\n",
       "      <td>2 months ago</td>\n",
       "      <td>10 Best Telecom Stocks to Buy Right Now</td>\n",
       "      <td>In this article, we discuss 10 best telecom stocks to buy right now. If you want to read about some more telecom stocks to buy right now, go directly to 5 Best Telecom Stocks to Buy Right Now. Although cable broadband providers continue to control over 66% of the market share in the telecommunications business, […]</td>\n",
       "      <td>POSITIVE</td>\n",
       "      <td>0.999606</td>\n",
       "      <td>POSITIVE</td>\n",
       "      <td>0.702828</td>\n",
       "    </tr>\n",
       "    <tr>\n",
       "      <th>23</th>\n",
       "      <td>Insider Monkey</td>\n",
       "      <td>2 months ago</td>\n",
       "      <td>10 Best Cheap Dividend Stocks to Buy Now</td>\n",
       "      <td>In this article, we discuss 10 best cheap dividend stocks to buy now. You can skip our detailed analysis of the best dividend stocks and their returns over the years, and go directly to read 5 Best Cheap Dividend Stocks to Buy Now. Inflation and continuous interest rate hikes have brought dividend investing to the […]</td>\n",
       "      <td>POSITIVE</td>\n",
       "      <td>0.993969</td>\n",
       "      <td>NEGATIVE</td>\n",
       "      <td>0.863058</td>\n",
       "    </tr>\n",
       "    <tr>\n",
       "      <th>24</th>\n",
       "      <td>Insider Monkey</td>\n",
       "      <td>2 months ago</td>\n",
       "      <td>10 Best Canadian Dividend Stocks</td>\n",
       "      <td>In this article, we will take a look at the 10 Best Canadian Dividend Stocks. To skip our analysis of the Canadian economy, recent market trends, and dividend stocks, you can go directly to see the 5 Best Canadian Dividend Stocks. Dividend stocks are the shares of publicly listed companies that regularly distribute a portion […]</td>\n",
       "      <td>POSITIVE</td>\n",
       "      <td>0.999667</td>\n",
       "      <td>POSITIVE</td>\n",
       "      <td>0.997285</td>\n",
       "    </tr>\n",
       "    <tr>\n",
       "      <th>25</th>\n",
       "      <td>Simply Wall St.</td>\n",
       "      <td>3 months ago</td>\n",
       "      <td>TELUS' (TSE:T) Returns On Capital Not Reflecting Well On The Business</td>\n",
       "      <td>If you're looking for a multi-bagger, there's a few things to keep an eye out for. Ideally, a business will show two...</td>\n",
       "      <td>NEGATIVE</td>\n",
       "      <td>0.999341</td>\n",
       "      <td>POSITIVE</td>\n",
       "      <td>0.994703</td>\n",
       "    </tr>\n",
       "    <tr>\n",
       "      <th>26</th>\n",
       "      <td>Zacks</td>\n",
       "      <td>3 months ago</td>\n",
       "      <td>TEF vs. TU: Which Stock Is the Better Value Option?</td>\n",
       "      <td>TEF vs. TU: Which Stock Is the Better Value Option?</td>\n",
       "      <td>NEGATIVE</td>\n",
       "      <td>0.998727</td>\n",
       "      <td>NEGATIVE</td>\n",
       "      <td>0.998727</td>\n",
       "    </tr>\n",
       "    <tr>\n",
       "      <th>27</th>\n",
       "      <td>Zacks</td>\n",
       "      <td>3 months ago</td>\n",
       "      <td>Why This 1 Growth Stock Could Be a Great Addition to Your Portfolio</td>\n",
       "      <td>Whether you're a value, growth, or momentum investor, finding strong stocks becomes easier with the Zacks Style Scores, a top feature of the Zacks Premium research service.</td>\n",
       "      <td>POSITIVE</td>\n",
       "      <td>0.985008</td>\n",
       "      <td>POSITIVE</td>\n",
       "      <td>0.988758</td>\n",
       "    </tr>\n",
       "    <tr>\n",
       "      <th>28</th>\n",
       "      <td>Zacks</td>\n",
       "      <td>3 months ago</td>\n",
       "      <td>Why Telus (TU) is a Top Value Stock for the Long-Term</td>\n",
       "      <td>Wondering how to pick strong, market-beating stocks for your investment portfolio? Look no further than the Zacks Style Scores.</td>\n",
       "      <td>NEGATIVE</td>\n",
       "      <td>0.821055</td>\n",
       "      <td>POSITIVE</td>\n",
       "      <td>0.972559</td>\n",
       "    </tr>\n",
       "    <tr>\n",
       "      <th>29</th>\n",
       "      <td>Zacks</td>\n",
       "      <td>3 months ago</td>\n",
       "      <td>3 Communication Stocks Likely to Transcend Margin Blues</td>\n",
       "      <td>The accelerated pace of 5G deployment and demand for scalable infrastructure should help the Zacks Diversified Communication Services industry thrive despite short-term woes. DTEGY, TU and TEF are well-positioned to make the most of the infrastructure upgrade for seamless connectivity.</td>\n",
       "      <td>NEGATIVE</td>\n",
       "      <td>0.951531</td>\n",
       "      <td>POSITIVE</td>\n",
       "      <td>0.997666</td>\n",
       "    </tr>\n",
       "    <tr>\n",
       "      <th>30</th>\n",
       "      <td>Financial Post</td>\n",
       "      <td>3 months ago</td>\n",
       "      <td>Telus sees global opportunity in employee wellness as it closes LifeWorks acquisition</td>\n",
       "      <td>Telus finalized the LifeWorks deal for $2.3 billion, plans to roll it into its growing Telus Health unit</td>\n",
       "      <td>POSITIVE</td>\n",
       "      <td>0.992128</td>\n",
       "      <td>POSITIVE</td>\n",
       "      <td>0.994748</td>\n",
       "    </tr>\n",
       "    <tr>\n",
       "      <th>31</th>\n",
       "      <td>Zacks</td>\n",
       "      <td>3 months ago</td>\n",
       "      <td>Here's Why Telus (TU) is a Strong Growth Stock</td>\n",
       "      <td>Wondering how to pick strong, market-beating stocks for your investment portfolio? Look no further than the Zacks Style Scores.</td>\n",
       "      <td>POSITIVE</td>\n",
       "      <td>0.998283</td>\n",
       "      <td>POSITIVE</td>\n",
       "      <td>0.972559</td>\n",
       "    </tr>\n",
       "    <tr>\n",
       "      <th>32</th>\n",
       "      <td>Simply Wall St.</td>\n",
       "      <td>4 months ago</td>\n",
       "      <td>TELUS (TSE:T) jumps 3.3% this week, though earnings growth is still tracking behind five-year shareholder returns</td>\n",
       "      <td>Passive investing in index funds can generate returns that roughly match the overall market. But you can do a lot...</td>\n",
       "      <td>NEGATIVE</td>\n",
       "      <td>0.952150</td>\n",
       "      <td>POSITIVE</td>\n",
       "      <td>0.997491</td>\n",
       "    </tr>\n",
       "    <tr>\n",
       "      <th>33</th>\n",
       "      <td>Zacks</td>\n",
       "      <td>4 months ago</td>\n",
       "      <td>TELUS (TU) Gets Court Approval for Acquisition of LifeWorks</td>\n",
       "      <td>TELUS (TU) had inked an agreement to acquire Canada-based LifeWorks to expand its presence in the lucrative digital health services market in June 2022.</td>\n",
       "      <td>POSITIVE</td>\n",
       "      <td>0.798274</td>\n",
       "      <td>POSITIVE</td>\n",
       "      <td>0.856943</td>\n",
       "    </tr>\n",
       "    <tr>\n",
       "      <th>34</th>\n",
       "      <td>Financial Post</td>\n",
       "      <td>4 months ago</td>\n",
       "      <td>Telus wants to charge customers a fee for paying their bills with a credit card</td>\n",
       "      <td>Telus has asked the CRTC for approval to charge a 1.5% fee starting in October</td>\n",
       "      <td>NEGATIVE</td>\n",
       "      <td>0.996684</td>\n",
       "      <td>NEGATIVE</td>\n",
       "      <td>0.975548</td>\n",
       "    </tr>\n",
       "    <tr>\n",
       "      <th>35</th>\n",
       "      <td>Zacks</td>\n",
       "      <td>4 months ago</td>\n",
       "      <td>TU vs. TLSYY: Which Stock Should Value Investors Buy Now?</td>\n",
       "      <td>TU vs. TLSYY: Which Stock Is the Better Value Option?</td>\n",
       "      <td>NEGATIVE</td>\n",
       "      <td>0.995367</td>\n",
       "      <td>NEGATIVE</td>\n",
       "      <td>0.998135</td>\n",
       "    </tr>\n",
       "    <tr>\n",
       "      <th>36</th>\n",
       "      <td>Zacks</td>\n",
       "      <td>4 months ago</td>\n",
       "      <td>Are You a Value Investor? This 1 Stock Could Be the Perfect Pick</td>\n",
       "      <td>The Zacks Style Scores offers investors a way to easily find top-rated stocks based on their investing style. Here's why you should take advantage.</td>\n",
       "      <td>POSITIVE</td>\n",
       "      <td>0.656753</td>\n",
       "      <td>POSITIVE</td>\n",
       "      <td>0.997777</td>\n",
       "    </tr>\n",
       "    <tr>\n",
       "      <th>37</th>\n",
       "      <td>Zacks</td>\n",
       "      <td>4 months ago</td>\n",
       "      <td>TELUS (TU) Q2 Earnings &amp; Revenue Top Estimates, Increase Y/Y</td>\n",
       "      <td>TELUS Corporation (TU) second-quarter 2022 performance benefits from higher mobile network revenues and premium bundled offerings.</td>\n",
       "      <td>NEGATIVE</td>\n",
       "      <td>0.869352</td>\n",
       "      <td>POSITIVE</td>\n",
       "      <td>0.993693</td>\n",
       "    </tr>\n",
       "    <tr>\n",
       "      <th>38</th>\n",
       "      <td>Zacks</td>\n",
       "      <td>4 months ago</td>\n",
       "      <td>Telus (TU) Q2 Earnings and Revenues Beat Estimates</td>\n",
       "      <td>Telus (TU) delivered earnings and revenue surprises of 13.64% and 0.25%, respectively, for the quarter ended June 2022. Do the numbers hold clues to what lies ahead for the stock?</td>\n",
       "      <td>NEGATIVE</td>\n",
       "      <td>0.952956</td>\n",
       "      <td>NEGATIVE</td>\n",
       "      <td>0.995295</td>\n",
       "    </tr>\n",
       "    <tr>\n",
       "      <th>39</th>\n",
       "      <td>Zacks</td>\n",
       "      <td>4 months ago</td>\n",
       "      <td>New Jersey Resources (NJR) Reports Q3 Loss, Tops Revenue Estimates</td>\n",
       "      <td>New Jersey Resources (NJR) delivered earnings and revenue surprises of -150% and 34.14%, respectively, for the quarter ended June 2022. Do the numbers hold clues to what lies ahead for the stock?</td>\n",
       "      <td>NEGATIVE</td>\n",
       "      <td>0.998883</td>\n",
       "      <td>NEGATIVE</td>\n",
       "      <td>0.973600</td>\n",
       "    </tr>\n",
       "    <tr>\n",
       "      <th>40</th>\n",
       "      <td>Insider Monkey</td>\n",
       "      <td>4 months ago</td>\n",
       "      <td>10 Undervalued Canadian Stocks to Buy Now</td>\n",
       "      <td>In this article, we discuss the 10 undervalued Canadian stocks to buy now. If you want to read about some more undervalued Canadian stocks, go directly to 5 Undervalued Canadian Stocks to Buy Now. Major indexes of the stock market in Canada, like the S&amp;P/TSX Composite, have so far managed to outperform other global indices […]</td>\n",
       "      <td>NEGATIVE</td>\n",
       "      <td>0.977195</td>\n",
       "      <td>NEGATIVE</td>\n",
       "      <td>0.560107</td>\n",
       "    </tr>\n",
       "    <tr>\n",
       "      <th>41</th>\n",
       "      <td>Zacks</td>\n",
       "      <td>5 months ago</td>\n",
       "      <td>Telus (TU) Earnings Expected to Grow: What to Know Ahead of Q2 Release</td>\n",
       "      <td>Telus (TU) doesn't possess the right combination of the two key ingredients for a likely earnings beat in its upcoming report. Get prepared with the key expectations.</td>\n",
       "      <td>POSITIVE</td>\n",
       "      <td>0.924825</td>\n",
       "      <td>NEGATIVE</td>\n",
       "      <td>0.999748</td>\n",
       "    </tr>\n",
       "    <tr>\n",
       "      <th>42</th>\n",
       "      <td>Zacks</td>\n",
       "      <td>5 months ago</td>\n",
       "      <td>Will Revenue Contraction Affect AT&amp;T's (T) Q2 Earnings?</td>\n",
       "      <td>Adverse foreign currency translations, high operating costs for 5G deployments and fiber expansion and divestment are likely to have led to soft revenues for AT&amp;T (T) in the second quarter.</td>\n",
       "      <td>NEGATIVE</td>\n",
       "      <td>0.998305</td>\n",
       "      <td>NEGATIVE</td>\n",
       "      <td>0.999572</td>\n",
       "    </tr>\n",
       "    <tr>\n",
       "      <th>43</th>\n",
       "      <td>Zacks</td>\n",
       "      <td>5 months ago</td>\n",
       "      <td>Does Telus (TU) Have the Potential to Rally 26% as Wall Street Analysts Expect?</td>\n",
       "      <td>The average of price targets set by Wall Street analysts indicates a potential upside of 25.8% in Telus (TU). While the effectiveness of this highly sought-after metric is questionable, the positive trend in earnings estimate revisions might translate into an upside in the stock.</td>\n",
       "      <td>NEGATIVE</td>\n",
       "      <td>0.991505</td>\n",
       "      <td>NEGATIVE</td>\n",
       "      <td>0.961102</td>\n",
       "    </tr>\n",
       "    <tr>\n",
       "      <th>44</th>\n",
       "      <td>Zacks</td>\n",
       "      <td>5 months ago</td>\n",
       "      <td>DTEGY vs. TU: Which Stock Is the Better Value Option?</td>\n",
       "      <td>DTEGY vs. TU: Which Stock Is the Better Value Option?</td>\n",
       "      <td>NEGATIVE</td>\n",
       "      <td>0.998626</td>\n",
       "      <td>NEGATIVE</td>\n",
       "      <td>0.998626</td>\n",
       "    </tr>\n",
       "    <tr>\n",
       "      <th>45</th>\n",
       "      <td>Insider Monkey</td>\n",
       "      <td>5 months ago</td>\n",
       "      <td>10 Stocks Canadian Investors Love</td>\n",
       "      <td>In this article, we discuss 10 stocks Canadian investors love. If you want to read about some more Canadian stocks, go directly to 5 Stocks Canadian Investors Love. In mid-June, the central bank in the United States raised the benchmark interest rate by 75 basis points, the biggest rate hike since 1994. The bank cited […]</td>\n",
       "      <td>POSITIVE</td>\n",
       "      <td>0.999716</td>\n",
       "      <td>POSITIVE</td>\n",
       "      <td>0.979115</td>\n",
       "    </tr>\n",
       "    <tr>\n",
       "      <th>46</th>\n",
       "      <td>Zacks</td>\n",
       "      <td>5 months ago</td>\n",
       "      <td>TELUS (TU) Sets Up New Headquarters in Downtown Calgary</td>\n",
       "      <td>TELUS (TU) new headquarters will create more than 1000 jobs and provide housing to more than 1,600 local team members, per company reports.</td>\n",
       "      <td>POSITIVE</td>\n",
       "      <td>0.817481</td>\n",
       "      <td>POSITIVE</td>\n",
       "      <td>0.995409</td>\n",
       "    </tr>\n",
       "    <tr>\n",
       "      <th>47</th>\n",
       "      <td>Zacks</td>\n",
       "      <td>5 months ago</td>\n",
       "      <td>TELUS (TU) Continues to Boost PureFibre &amp; 5G Network Expansion</td>\n",
       "      <td>TELUS Corporation (TU) invests C$430 million and C$10 million across Calgary and Haida Gwaii, respectively, to enhance network connectivity.</td>\n",
       "      <td>POSITIVE</td>\n",
       "      <td>0.998772</td>\n",
       "      <td>POSITIVE</td>\n",
       "      <td>0.985059</td>\n",
       "    </tr>\n",
       "    <tr>\n",
       "      <th>48</th>\n",
       "      <td>Simply Wall St.</td>\n",
       "      <td>5 months ago</td>\n",
       "      <td>Are Institutions Heavily Invested In TELUS Corporation's (TSE:T) Shares?</td>\n",
       "      <td>The big shareholder groups in TELUS Corporation ( TSE:T ) have power over the company. Generally speaking, as a company...</td>\n",
       "      <td>NEGATIVE</td>\n",
       "      <td>0.997710</td>\n",
       "      <td>POSITIVE</td>\n",
       "      <td>0.992960</td>\n",
       "    </tr>\n",
       "  </tbody>\n",
       "</table>\n",
       "</div>"
      ],
      "text/plain": [
       "             source          time  \\\n",
       "0    Insider Monkey    2 days ago   \n",
       "1   Simply Wall St.    3 days ago   \n",
       "2   Simply Wall St.   22 days ago   \n",
       "3    Financial Post   24 days ago   \n",
       "4           Reuters   24 days ago   \n",
       "5             Zacks   24 days ago   \n",
       "6   Simply Wall St.    last month   \n",
       "7             Zacks    last month   \n",
       "8          Benzinga    last month   \n",
       "9             Zacks    last month   \n",
       "10            Zacks    last month   \n",
       "11            Zacks    last month   \n",
       "12   Financial Post    last month   \n",
       "13            Zacks    last month   \n",
       "14            Zacks    last month   \n",
       "15            Zacks    last month   \n",
       "16   Insider Monkey    last month   \n",
       "17            Zacks  2 months ago   \n",
       "18            Zacks  2 months ago   \n",
       "19            Zacks  2 months ago   \n",
       "20            Zacks  2 months ago   \n",
       "21            Zacks  2 months ago   \n",
       "22   Insider Monkey  2 months ago   \n",
       "23   Insider Monkey  2 months ago   \n",
       "24   Insider Monkey  2 months ago   \n",
       "25  Simply Wall St.  3 months ago   \n",
       "26            Zacks  3 months ago   \n",
       "27            Zacks  3 months ago   \n",
       "28            Zacks  3 months ago   \n",
       "29            Zacks  3 months ago   \n",
       "30   Financial Post  3 months ago   \n",
       "31            Zacks  3 months ago   \n",
       "32  Simply Wall St.  4 months ago   \n",
       "33            Zacks  4 months ago   \n",
       "34   Financial Post  4 months ago   \n",
       "35            Zacks  4 months ago   \n",
       "36            Zacks  4 months ago   \n",
       "37            Zacks  4 months ago   \n",
       "38            Zacks  4 months ago   \n",
       "39            Zacks  4 months ago   \n",
       "40   Insider Monkey  4 months ago   \n",
       "41            Zacks  5 months ago   \n",
       "42            Zacks  5 months ago   \n",
       "43            Zacks  5 months ago   \n",
       "44            Zacks  5 months ago   \n",
       "45   Insider Monkey  5 months ago   \n",
       "46            Zacks  5 months ago   \n",
       "47            Zacks  5 months ago   \n",
       "48  Simply Wall St.  5 months ago   \n",
       "\n",
       "                                                                                                             headline  \\\n",
       "0                                                                           12 Best Communication Stocks To Buy Today   \n",
       "1            TELUS Corporation (TSE:T) is largely controlled by institutional shareholders who own 54% of the company   \n",
       "2                                                              TELUS' (TSE:T) Dividend Will Be Increased To CA$0.3511   \n",
       "3                                     Telus had strategy to 'kill, shape and slow' Rogers-Shaw merger, document shows   \n",
       "4                                                    Rogers says Telus documents show rival tried to 'kill' Shaw deal   \n",
       "5                                                             DTEGY or TU: Which Is the Better Value Stock Right Now?   \n",
       "6                                                         Is TELUS Corporation's (TSE:T) 12% ROE Better Than Average?   \n",
       "7                                                       TELUS (TU) Q3 Earnings & Revenues Top Estimates, Increase Y/Y   \n",
       "8                        Telus Clocks ~10% Revenue Growth In Q3 Backed By Customer Additions; Boosts Dividend By 7.2%   \n",
       "9                                                                  Telus (TU) Q3 Earnings and Revenues Beat Estimates   \n",
       "10                                                                       Should You Buy Telus (TU) Ahead of Earnings?   \n",
       "11                                                                  BCE (BCE) Beats Q3 Earnings and Revenue Estimates   \n",
       "12                                Telus doesn't need CRTC approval to surcharge majority of customers, regulator says   \n",
       "13                                       Shenandoah Telecommunications (SHEN) Reports Q3 Loss, Tops Revenue Estimates   \n",
       "14                    Halliburton Company and M.D.C. Holdings have been highlighted as Zacks Bull and Bear of the Day   \n",
       "15                                                           3 Telecom Stocks Likely to Surpass Q3 Earnings Estimates   \n",
       "16                                                                                      10 Best TSX Stocks To Buy Now   \n",
       "17                                                      Here's Why Investors May Consider Betting on TELUS (TU) Stock   \n",
       "18                                                                      Here's Why Telus (TU) is a Strong Value Stock   \n",
       "19                    Zacks.com featured highlights include W.R. Berkley, Crocs, Boyd Gaming, Boise Cascade and TELUS   \n",
       "20                                                      5 Stocks With Solid Sales Growth to Bet On Amid Market Mayhem   \n",
       "21                                                              TEF or TU: Which Is the Better Value Stock Right Now?   \n",
       "22                                                                            10 Best Telecom Stocks to Buy Right Now   \n",
       "23                                                                           10 Best Cheap Dividend Stocks to Buy Now   \n",
       "24                                                                                   10 Best Canadian Dividend Stocks   \n",
       "25                                              TELUS' (TSE:T) Returns On Capital Not Reflecting Well On The Business   \n",
       "26                                                                TEF vs. TU: Which Stock Is the Better Value Option?   \n",
       "27                                                Why This 1 Growth Stock Could Be a Great Addition to Your Portfolio   \n",
       "28                                                              Why Telus (TU) is a Top Value Stock for the Long-Term   \n",
       "29                                                            3 Communication Stocks Likely to Transcend Margin Blues   \n",
       "30                              Telus sees global opportunity in employee wellness as it closes LifeWorks acquisition   \n",
       "31                                                                     Here's Why Telus (TU) is a Strong Growth Stock   \n",
       "32  TELUS (TSE:T) jumps 3.3% this week, though earnings growth is still tracking behind five-year shareholder returns   \n",
       "33                                                        TELUS (TU) Gets Court Approval for Acquisition of LifeWorks   \n",
       "34                                    Telus wants to charge customers a fee for paying their bills with a credit card   \n",
       "35                                                          TU vs. TLSYY: Which Stock Should Value Investors Buy Now?   \n",
       "36                                                   Are You a Value Investor? This 1 Stock Could Be the Perfect Pick   \n",
       "37                                                       TELUS (TU) Q2 Earnings & Revenue Top Estimates, Increase Y/Y   \n",
       "38                                                                 Telus (TU) Q2 Earnings and Revenues Beat Estimates   \n",
       "39                                                 New Jersey Resources (NJR) Reports Q3 Loss, Tops Revenue Estimates   \n",
       "40                                                                          10 Undervalued Canadian Stocks to Buy Now   \n",
       "41                                             Telus (TU) Earnings Expected to Grow: What to Know Ahead of Q2 Release   \n",
       "42                                                            Will Revenue Contraction Affect AT&T's (T) Q2 Earnings?   \n",
       "43                                    Does Telus (TU) Have the Potential to Rally 26% as Wall Street Analysts Expect?   \n",
       "44                                                              DTEGY vs. TU: Which Stock Is the Better Value Option?   \n",
       "45                                                                                  10 Stocks Canadian Investors Love   \n",
       "46                                                            TELUS (TU) Sets Up New Headquarters in Downtown Calgary   \n",
       "47                                                     TELUS (TU) Continues to Boost PureFibre & 5G Network Expansion   \n",
       "48                                           Are Institutions Heavily Invested In TELUS Corporation's (TSE:T) Shares?   \n",
       "\n",
       "                                                                                                                                                                                                                                                                                                                                                                                                                                                                                                                content  \\\n",
       "0                                                                                                                                                              In this article, we discuss the 12 best communication stocks to buy today. If you want to read about some more communication stocks to buy today, go directly to 5 Best Communication Stocks To Buy Today. The communications industry has grown from a sector that used to include just telecommunications, newspapers, magazines, books, and radio […]   \n",
       "1                                                                                                                                                                                                                                                                                                                                                                                                 If you want to know who really controls TELUS Corporation ( TSE:T ), then you'll have to look at the makeup of its...   \n",
       "2                                                                                                                                                                                                                                                                                                                                                                                              TELUS Corporation ( TSE:T ) has announced that it will be increasing its dividend from last year's comparable payment...   \n",
       "3                                                                                                                                                                                                                                                                                                                                                                                             Telus’s efforts included company executives meeting with political leaders to try to persuade them to reject the takeover   \n",
       "4   In its effort to win takeover approval, telecom provider Rogers Communications Inc on Monday presented documents to a tribunal that show Canada's second-largest telecom company Telus Corp attempted to sabotage Rogers' C$20 billion ($15 billion) deal to buy Shaw Communications Inc.  Challenging Canadian regulators' rejection of the deal on anti-trust grounds, Rogers may seek to argue that Telus wanted to kill the acquisition because it would increase cellphone competition, benefiting Canadian...   \n",
       "5                                                                                                                                                                                                                                                                                                                                                                                                                                                                 DTEGY vs. TU: Which Stock Is the Better Value Option?   \n",
       "6                                                                                                                                                                                                                                                                                                                                                                                              While some investors are already well versed in financial metrics (hat tip), this article is for those who would like...   \n",
       "7                                                                                                                                                                                                                                                                                                                                                                                           TELUS (TU) third-quarter performance boosted by high service revenue in TELUS technology solutions and TELUS International.   \n",
       "8   Telus Corp (NYSE: TU) reported third-quarter FY22 operating revenues and other income growth of 9.9% year-on-year to CA$4.67 billion. Total telecom subscriber connections grew 6.3% Y/Y to 17.7 million. It made 347,000 new customer net additions in the quarter, up 27,000 over last year, including 150,000 mobile phones, 124,000 connected devices, 36,000 internet, 25,000 security, and 18,000 TV customer connections. The mobile phone churn was 0.95%. Adjusted basic EPS was CA$0.34, up 17% Y/Y. A...   \n",
       "9                                                                                                                                                                                                                                                                                                                                  Telus (TU) delivered earnings and revenue surprises of 4% and 1.93%, respectively, for the quarter ended September 2022. Do the numbers hold clues to what lies ahead for the stock?   \n",
       "10                                                                                                                                                                                                                                                                                                                                                                               Telus (TU) is seeing favorable earnings estimate revision activity and has a positive Zacks Earnings ESP heading into earnings season.   \n",
       "11                                                                                                                                                                                                                                                                                                                               BCE (BCE) delivered earnings and revenue surprises of 4.69% and 2.66%, respectively, for the quarter ended September 2022. Do the numbers hold clues to what lies ahead for the stock?   \n",
       "12                                                                                                                                                                                                                                                                                                                                                                                                      Telus implemented 1.5% charge last month for most wireless, home-service customers who pay bills by credit card   \n",
       "13                                                                                                                                                                                                                                                                                                               Shenandoah Telecom (SHEN) delivered earnings and revenue surprises of -200% and 1.49%, respectively, for the quarter ended September 2022. Do the numbers hold clues to what lies ahead for the stock?   \n",
       "14                                                                                                                                                                                                                                                                                                                                                                                                                      Halliburton Company and M.D.C. Holdings are part of the Zacks Bull and Bear of the Day article.   \n",
       "15                                                                                                                                                                                                                                                                                                                                    USM, TU and CMTL are poised to benefit from higher demand for scalable infrastructure for seamless connectivity amid a wide proliferation of IoT and a steady pace of 5G rollout.   \n",
       "16                                                                                                                                                                                               In this article, we discuss 10 best TSX stocks to buy now. If you want to see more stocks in this selection, check out 5 Best TSX Stocks To Buy Now. Finance Minister Chrystia Freeland warned Canadians on October 19, saying the next few months will be hard as increasing interest rates erode a once-thriving […]   \n",
       "17                                                                                                                                                                                                                                                                                                                                                                                                                              TELUS' (TU) performance is benefiting from continued momentum in both business segments   \n",
       "18                                                                                                                                                                                                                                                                                                                                                                                      Wondering how to pick strong, market-beating stocks for your investment portfolio? Look no further than the Zacks Style Scores.   \n",
       "19                                                                                                                                                                                                                                                                                                                                                                                                  W.R. Berkley, Crocs, Boyd Gaming, Boise Cascade and TELUS have been highlighted in this Screen of The Week article.   \n",
       "20                                                                                                                                                                                                                                                                             Consistent sales growth is vital for the survival of a business, even during an economic slowdown. Let's check W.R. Berkley (WRB), Crocs (CROX), Boyd Gaming (BYD), Boise Cascade (BCC) & TELUS (TU) that are recording top-line growth.   \n",
       "21                                                                                                                                                                                                                                                                                                                                                                                                                                                                  TEF vs. TU: Which Stock Is the Better Value Option?   \n",
       "22                                                                                                                                                                                         In this article, we discuss 10 best telecom stocks to buy right now. If you want to read about some more telecom stocks to buy right now, go directly to 5 Best Telecom Stocks to Buy Right Now. Although cable broadband providers continue to control over 66% of the market share in the telecommunications business, […]   \n",
       "23                                                                                                                                                                                      In this article, we discuss 10 best cheap dividend stocks to buy now. You can skip our detailed analysis of the best dividend stocks and their returns over the years, and go directly to read 5 Best Cheap Dividend Stocks to Buy Now. Inflation and continuous interest rate hikes have brought dividend investing to the […]   \n",
       "24                                                                                                                                                                           In this article, we will take a look at the 10 Best Canadian Dividend Stocks. To skip our analysis of the Canadian economy, recent market trends, and dividend stocks, you can go directly to see the 5 Best Canadian Dividend Stocks. Dividend stocks are the shares of publicly listed companies that regularly distribute a portion […]   \n",
       "25                                                                                                                                                                                                                                                                                                                                                                                              If you're looking for a multi-bagger, there's a few things to keep an eye out for. Ideally, a business will show two...   \n",
       "26                                                                                                                                                                                                                                                                                                                                                                                                                                                                  TEF vs. TU: Which Stock Is the Better Value Option?   \n",
       "27                                                                                                                                                                                                                                                                                                                                         Whether you're a value, growth, or momentum investor, finding strong stocks becomes easier with the Zacks Style Scores, a top feature of the Zacks Premium research service.   \n",
       "28                                                                                                                                                                                                                                                                                                                                                                                      Wondering how to pick strong, market-beating stocks for your investment portfolio? Look no further than the Zacks Style Scores.   \n",
       "29                                                                                                                                                                                                                       The accelerated pace of 5G deployment and demand for scalable infrastructure should help the Zacks Diversified Communication Services industry thrive despite short-term woes. DTEGY, TU and TEF are well-positioned to make the most of the infrastructure upgrade for seamless connectivity.   \n",
       "30                                                                                                                                                                                                                                                                                                                                                                                                             Telus finalized the LifeWorks deal for $2.3 billion, plans to roll it into its growing Telus Health unit   \n",
       "31                                                                                                                                                                                                                                                                                                                                                                                      Wondering how to pick strong, market-beating stocks for your investment portfolio? Look no further than the Zacks Style Scores.   \n",
       "32                                                                                                                                                                                                                                                                                                                                                                                                 Passive investing in index funds can generate returns that roughly match the overall market. But you can do a lot...   \n",
       "33                                                                                                                                                                                                                                                                                                                                                             TELUS (TU) had inked an agreement to acquire Canada-based LifeWorks to expand its presence in the lucrative digital health services market in June 2022.   \n",
       "34                                                                                                                                                                                                                                                                                                                                                                                                                                       Telus has asked the CRTC for approval to charge a 1.5% fee starting in October   \n",
       "35                                                                                                                                                                                                                                                                                                                                                                                                                                                                TU vs. TLSYY: Which Stock Is the Better Value Option?   \n",
       "36                                                                                                                                                                                                                                                                                                                                                                  The Zacks Style Scores offers investors a way to easily find top-rated stocks based on their investing style. Here's why you should take advantage.   \n",
       "37                                                                                                                                                                                                                                                                                                                                                                                   TELUS Corporation (TU) second-quarter 2022 performance benefits from higher mobile network revenues and premium bundled offerings.   \n",
       "38                                                                                                                                                                                                                                                                                                                                  Telus (TU) delivered earnings and revenue surprises of 13.64% and 0.25%, respectively, for the quarter ended June 2022. Do the numbers hold clues to what lies ahead for the stock?   \n",
       "39                                                                                                                                                                                                                                                                                                                  New Jersey Resources (NJR) delivered earnings and revenue surprises of -150% and 34.14%, respectively, for the quarter ended June 2022. Do the numbers hold clues to what lies ahead for the stock?   \n",
       "40                                                                                                                                                                             In this article, we discuss the 10 undervalued Canadian stocks to buy now. If you want to read about some more undervalued Canadian stocks, go directly to 5 Undervalued Canadian Stocks to Buy Now. Major indexes of the stock market in Canada, like the S&P/TSX Composite, have so far managed to outperform other global indices […]   \n",
       "41                                                                                                                                                                                                                                                                                                                                               Telus (TU) doesn't possess the right combination of the two key ingredients for a likely earnings beat in its upcoming report. Get prepared with the key expectations.   \n",
       "42                                                                                                                                                                                                                                                                                                                        Adverse foreign currency translations, high operating costs for 5G deployments and fiber expansion and divestment are likely to have led to soft revenues for AT&T (T) in the second quarter.   \n",
       "43                                                                                                                                                                                                                             The average of price targets set by Wall Street analysts indicates a potential upside of 25.8% in Telus (TU). While the effectiveness of this highly sought-after metric is questionable, the positive trend in earnings estimate revisions might translate into an upside in the stock.   \n",
       "44                                                                                                                                                                                                                                                                                                                                                                                                                                                                DTEGY vs. TU: Which Stock Is the Better Value Option?   \n",
       "45                                                                                                                                                                                  In this article, we discuss 10 stocks Canadian investors love. If you want to read about some more Canadian stocks, go directly to 5 Stocks Canadian Investors Love. In mid-June, the central bank in the United States raised the benchmark interest rate by 75 basis points, the biggest rate hike since 1994. The bank cited […]   \n",
       "46                                                                                                                                                                                                                                                                                                                                                                          TELUS (TU) new headquarters will create more than 1000 jobs and provide housing to more than 1,600 local team members, per company reports.   \n",
       "47                                                                                                                                                                                                                                                                                                                                                                         TELUS Corporation (TU) invests C$430 million and C$10 million across Calgary and Haida Gwaii, respectively, to enhance network connectivity.   \n",
       "48                                                                                                                                                                                                                                                                                                                                                                                           The big shareholder groups in TELUS Corporation ( TSE:T ) have power over the company. Generally speaking, as a company...   \n",
       "\n",
       "   Sentiment     Score Sentiment2    Score2  \n",
       "0   POSITIVE  0.999457   POSITIVE  0.994583  \n",
       "1   NEGATIVE  0.892858   NEGATIVE  0.999047  \n",
       "2   NEGATIVE  0.988017   NEGATIVE  0.933608  \n",
       "3   NEGATIVE  0.997785   NEGATIVE  0.913936  \n",
       "4   NEGATIVE  0.994781   NEGATIVE  0.996364  \n",
       "5   NEGATIVE  0.998896   NEGATIVE  0.998626  \n",
       "6   NEGATIVE  0.999067   POSITIVE  0.996413  \n",
       "7   NEGATIVE  0.692262   POSITIVE  0.791908  \n",
       "8   NEGATIVE  0.561149   NEGATIVE  0.983207  \n",
       "9   NEGATIVE  0.955190   NEGATIVE  0.994703  \n",
       "10  NEGATIVE  0.997798   POSITIVE  0.998531  \n",
       "11  NEGATIVE  0.921792   NEGATIVE  0.991835  \n",
       "12  POSITIVE  0.974716   NEGATIVE  0.951092  \n",
       "13  NEGATIVE  0.999294   NEGATIVE  0.986180  \n",
       "14  POSITIVE  0.994775   POSITIVE  0.797511  \n",
       "15  NEGATIVE  0.974039   POSITIVE  0.995971  \n",
       "16  POSITIVE  0.999652   NEGATIVE  0.981137  \n",
       "17  NEGATIVE  0.994778   POSITIVE  0.999602  \n",
       "18  POSITIVE  0.992807   POSITIVE  0.972559  \n",
       "19  POSITIVE  0.988196   POSITIVE  0.998186  \n",
       "20  POSITIVE  0.999484   POSITIVE  0.999790  \n",
       "21  NEGATIVE  0.999223   NEGATIVE  0.998727  \n",
       "22  POSITIVE  0.999606   POSITIVE  0.702828  \n",
       "23  POSITIVE  0.993969   NEGATIVE  0.863058  \n",
       "24  POSITIVE  0.999667   POSITIVE  0.997285  \n",
       "25  NEGATIVE  0.999341   POSITIVE  0.994703  \n",
       "26  NEGATIVE  0.998727   NEGATIVE  0.998727  \n",
       "27  POSITIVE  0.985008   POSITIVE  0.988758  \n",
       "28  NEGATIVE  0.821055   POSITIVE  0.972559  \n",
       "29  NEGATIVE  0.951531   POSITIVE  0.997666  \n",
       "30  POSITIVE  0.992128   POSITIVE  0.994748  \n",
       "31  POSITIVE  0.998283   POSITIVE  0.972559  \n",
       "32  NEGATIVE  0.952150   POSITIVE  0.997491  \n",
       "33  POSITIVE  0.798274   POSITIVE  0.856943  \n",
       "34  NEGATIVE  0.996684   NEGATIVE  0.975548  \n",
       "35  NEGATIVE  0.995367   NEGATIVE  0.998135  \n",
       "36  POSITIVE  0.656753   POSITIVE  0.997777  \n",
       "37  NEGATIVE  0.869352   POSITIVE  0.993693  \n",
       "38  NEGATIVE  0.952956   NEGATIVE  0.995295  \n",
       "39  NEGATIVE  0.998883   NEGATIVE  0.973600  \n",
       "40  NEGATIVE  0.977195   NEGATIVE  0.560107  \n",
       "41  POSITIVE  0.924825   NEGATIVE  0.999748  \n",
       "42  NEGATIVE  0.998305   NEGATIVE  0.999572  \n",
       "43  NEGATIVE  0.991505   NEGATIVE  0.961102  \n",
       "44  NEGATIVE  0.998626   NEGATIVE  0.998626  \n",
       "45  POSITIVE  0.999716   POSITIVE  0.979115  \n",
       "46  POSITIVE  0.817481   POSITIVE  0.995409  \n",
       "47  POSITIVE  0.998772   POSITIVE  0.985059  \n",
       "48  NEGATIVE  0.997710   POSITIVE  0.992960  "
      ]
     },
     "execution_count": 224,
     "metadata": {},
     "output_type": "execute_result"
    }
   ],
   "source": [
    "news_df[news_df['Score'] > 0.8]"
   ]
  },
  {
   "cell_type": "code",
   "execution_count": 225,
   "metadata": {},
   "outputs": [
    {
     "data": {
      "text/plain": [
       "<AxesSubplot:xlabel='Sentiment', ylabel='Count'>"
      ]
     },
     "execution_count": 225,
     "metadata": {},
     "output_type": "execute_result"
    },
    {
     "data": {
      "image/png": "[encoded data removed]",
      "text/plain": [
       "<Figure size 432x288 with 1 Axes>"
      ]
     },
     "metadata": {
      "needs_background": "light"
     },
     "output_type": "display_data"
    }
   ],
   "source": [
    "sns.histplot(x = 'Sentiment', data = news_df[news_df['Score'] > 0.8], hue = 'Sentiment', hue_order=['POSITIVE', 'NEGATIVE'])"
   ]
  },
  {
   "cell_type": "code",
   "execution_count": 226,
   "metadata": {},
   "outputs": [
    {
     "data": {
      "text/plain": [
       "<AxesSubplot:xlabel='Sentiment2', ylabel='Count'>"
      ]
     },
     "execution_count": 226,
     "metadata": {},
     "output_type": "execute_result"
    },
    {
     "data": {
      "image/png": "[encoded data removed]",
      "text/plain": [
       "<Figure size 432x288 with 1 Axes>"
      ]
     },
     "metadata": {
      "needs_background": "light"
     },
     "output_type": "display_data"
    }
   ],
   "source": [
    "sns.histplot(x = 'Sentiment2', data = news_df[news_df['Score2'] > 0.8], hue = 'Sentiment2', hue_order=['POSITIVE', 'NEGATIVE'])"
   ]
  },
  {
   "attachments": {},
   "cell_type": "markdown",
   "metadata": {},
   "source": [
    "# TO Finviz"
   ]
  },
  {
   "cell_type": "code",
   "execution_count": null,
   "metadata": {},
   "outputs": [],
   "source": [
    "url = \"https://finviz.com/quote.ashx?t=TU&p=d\"\n",
    "\n",
    "\n",
    "headers = {\"User-Agent\": \"Mozilla/5.0\"}\n",
    "cookies = {\"CONSENT\": \"YES+cb.20210720-07-p0.en+FX+410\"}\n",
    "\n",
    "req = Request(url, headers=headers)\n",
    "\n",
    "try:\n",
    "    contents = urlopen(req).read() \n",
    "    soup = BeautifulSoup(contents, features=\"html.parser\")\n",
    "\n",
    "    sentence2 = []\n",
    "\n",
    "    for tag in soup.find_all('a'):\n",
    "\n",
    "        sentence = tag.text.split(\".\")\n",
    "        sentence2.append(sentence)\n",
    "\n",
    "except urllib.error.HTTPError as err:\n",
    "    print(err.code)\n",
    "\n",
    "except socket.timeout as se:\n",
    "    print(\"socket timeout\")"
   ]
  },
  {
   "cell_type": "code",
   "execution_count": null,
   "metadata": {},
   "outputs": [],
   "source": [
    "df = pd.DataFrame(sentence2)"
   ]
  },
  {
   "cell_type": "code",
   "execution_count": null,
   "metadata": {},
   "outputs": [],
   "source": [
    "df['Headline'] = df[0]\n",
    "df['Sentiment'] = -2\n",
    "df = pd.DataFrame(list(zip(df['Headline'], df['Sentiment'])), columns=['Headline', 'Sentiment'])"
   ]
  },
  {
   "cell_type": "code",
   "execution_count": null,
   "metadata": {},
   "outputs": [],
   "source": [
    "i = []\n",
    "\n",
    "for string in df['Headline']:\n",
    "    i.append(count_words(string))\n",
    "\n",
    "df['word_count'] = i\n"
   ]
  },
  {
   "cell_type": "code",
   "execution_count": null,
   "metadata": {},
   "outputs": [],
   "source": [
    "sentiment = [None] * len(df)\n",
    "sentiment_score = [None] * len(df)\n",
    "index = -1\n",
    "for sentence in df['Headline']:\n",
    "    index+=1\n",
    "    result = sentiment_pipeline(sentence[:512])[0]\n",
    "    sentiment[index] = result['label']\n",
    "    sentiment_score[index] = result['score']\n",
    "df['Sentiment'] = sentiment\n",
    "df['Score'] = sentiment_score\n"
   ]
  },
  {
   "cell_type": "code",
   "execution_count": null,
   "metadata": {},
   "outputs": [],
   "source": [
    "df = df[df['word_count'] > 10]\n",
    "df['Headline_Lower'] = df['Headline'].str.lower()"
   ]
  },
  {
   "cell_type": "code",
   "execution_count": null,
   "metadata": {},
   "outputs": [
    {
     "data": {
      "text/html": [
       "<div>\n",
       "<style scoped>\n",
       "    .dataframe tbody tr th:only-of-type {\n",
       "        vertical-align: middle;\n",
       "    }\n",
       "\n",
       "    .dataframe tbody tr th {\n",
       "        vertical-align: top;\n",
       "    }\n",
       "\n",
       "    .dataframe thead th {\n",
       "        text-align: right;\n",
       "    }\n",
       "</style>\n",
       "<table border=\"1\" class=\"dataframe\">\n",
       "  <thead>\n",
       "    <tr style=\"text-align: right;\">\n",
       "      <th></th>\n",
       "      <th>Headline</th>\n",
       "      <th>Sentiment</th>\n",
       "      <th>word_count</th>\n",
       "      <th>Score</th>\n",
       "      <th>Headline_Lower</th>\n",
       "    </tr>\n",
       "  </thead>\n",
       "  <tbody>\n",
       "    <tr>\n",
       "      <th>26</th>\n",
       "      <td>Jackson Hole Capital Partners, LLC Buys Rent-A-Center Inc, Direxion Daily S&amp;P 500 Bear 3X</td>\n",
       "      <td>NEGATIVE</td>\n",
       "      <td>14</td>\n",
       "      <td>0.974540</td>\n",
       "      <td>jackson hole capital partners, llc buys rent-a-center inc, direxion daily s&amp;p 500 bear 3x</td>\n",
       "    </tr>\n",
       "    <tr>\n",
       "      <th>27</th>\n",
       "      <td>Hengehold Capital Management Llc Buys Schwab US Aggregate Bond ETF, iShares National Muni Bond</td>\n",
       "      <td>NEGATIVE</td>\n",
       "      <td>14</td>\n",
       "      <td>0.969672</td>\n",
       "      <td>hengehold capital management llc buys schwab us aggregate bond etf, ishares national muni bond</td>\n",
       "    </tr>\n",
       "    <tr>\n",
       "      <th>30</th>\n",
       "      <td>St Denis J Villere &amp; Co LLC Buys Bank of America Corp, Paya Holdings Inc, Open Lending</td>\n",
       "      <td>POSITIVE</td>\n",
       "      <td>17</td>\n",
       "      <td>0.978686</td>\n",
       "      <td>st denis j villere &amp; co llc buys bank of america corp, paya holdings inc, open lending</td>\n",
       "    </tr>\n",
       "    <tr>\n",
       "      <th>42</th>\n",
       "      <td>Rise of online ordering will continue after COVID-19: Yum China CEO</td>\n",
       "      <td>POSITIVE</td>\n",
       "      <td>11</td>\n",
       "      <td>0.998168</td>\n",
       "      <td>rise of online ordering will continue after covid-19: yum china ceo</td>\n",
       "    </tr>\n",
       "    <tr>\n",
       "      <th>49</th>\n",
       "      <td>NASDAQ Makes It Four Days of Gains as Stocks Resume Rally</td>\n",
       "      <td>NEGATIVE</td>\n",
       "      <td>11</td>\n",
       "      <td>0.972605</td>\n",
       "      <td>nasdaq makes it four days of gains as stocks resume rally</td>\n",
       "    </tr>\n",
       "    <tr>\n",
       "      <th>51</th>\n",
       "      <td>The stock market is getting dangerously close to the mother of support zones</td>\n",
       "      <td>NEGATIVE</td>\n",
       "      <td>13</td>\n",
       "      <td>0.995923</td>\n",
       "      <td>the stock market is getting dangerously close to the mother of support zones</td>\n",
       "    </tr>\n",
       "    <tr>\n",
       "      <th>52</th>\n",
       "      <td>To the investors gobbling up stocks: The intraweek rally attempt faces a better-than-even chance of failure</td>\n",
       "      <td>NEGATIVE</td>\n",
       "      <td>16</td>\n",
       "      <td>0.998739</td>\n",
       "      <td>to the investors gobbling up stocks: the intraweek rally attempt faces a better-than-even chance of failure</td>\n",
       "    </tr>\n",
       "    <tr>\n",
       "      <th>53</th>\n",
       "      <td>How low can the stock market go? Watch these two support zones</td>\n",
       "      <td>NEGATIVE</td>\n",
       "      <td>12</td>\n",
       "      <td>0.999458</td>\n",
       "      <td>how low can the stock market go? watch these two support zones</td>\n",
       "    </tr>\n",
       "    <tr>\n",
       "      <th>54</th>\n",
       "      <td>Dos and donts in this stock market: Dont panic, do develop a plan  even if you didnt have one before</td>\n",
       "      <td>NEGATIVE</td>\n",
       "      <td>21</td>\n",
       "      <td>0.993685</td>\n",
       "      <td>dos and donts in this stock market: dont panic, do develop a plan  even if you didnt have one before</td>\n",
       "    </tr>\n",
       "    <tr>\n",
       "      <th>55</th>\n",
       "      <td>Stock market investors are asking should I buy or sell? Heres how to decide</td>\n",
       "      <td>NEGATIVE</td>\n",
       "      <td>14</td>\n",
       "      <td>0.998444</td>\n",
       "      <td>stock market investors are asking should i buy or sell? heres how to decide</td>\n",
       "    </tr>\n",
       "    <tr>\n",
       "      <th>56</th>\n",
       "      <td>IBD Live: Dow Jones Plunges 2,000 Points: What To Do As Coronavirus Stock Market Correction Hits New Lows</td>\n",
       "      <td>NEGATIVE</td>\n",
       "      <td>18</td>\n",
       "      <td>0.998793</td>\n",
       "      <td>ibd live: dow jones plunges 2,000 points: what to do as coronavirus stock market correction hits new lows</td>\n",
       "    </tr>\n",
       "    <tr>\n",
       "      <th>59</th>\n",
       "      <td>Buffett is bullish on stocks but says the market can drop 50%  is he wrong?</td>\n",
       "      <td>NEGATIVE</td>\n",
       "      <td>16</td>\n",
       "      <td>0.998950</td>\n",
       "      <td>buffett is bullish on stocks but says the market can drop 50%  is he wrong?</td>\n",
       "    </tr>\n",
       "    <tr>\n",
       "      <th>60</th>\n",
       "      <td>The triple-short Nasdaq 100 ETF is the most active stock in the premarket, as the Nasdaq 100 tumbles</td>\n",
       "      <td>NEGATIVE</td>\n",
       "      <td>18</td>\n",
       "      <td>0.998018</td>\n",
       "      <td>the triple-short nasdaq 100 etf is the most active stock in the premarket, as the nasdaq 100 tumbles</td>\n",
       "    </tr>\n",
       "    <tr>\n",
       "      <th>63</th>\n",
       "      <td>Central banks money printing buoys stocks, but for how much longer?</td>\n",
       "      <td>NEGATIVE</td>\n",
       "      <td>11</td>\n",
       "      <td>0.998249</td>\n",
       "      <td>central banks money printing buoys stocks, but for how much longer?</td>\n",
       "    </tr>\n",
       "    <tr>\n",
       "      <th>66</th>\n",
       "      <td>How the coronavirus scare has driven dangerous arrogance and greed in the stock market</td>\n",
       "      <td>NEGATIVE</td>\n",
       "      <td>14</td>\n",
       "      <td>0.997036</td>\n",
       "      <td>how the coronavirus scare has driven dangerous arrogance and greed in the stock market</td>\n",
       "    </tr>\n",
       "    <tr>\n",
       "      <th>67</th>\n",
       "      <td>IBD Live: With Coronavirus Threat, Here's How To Hedge Against Losses</td>\n",
       "      <td>NEGATIVE</td>\n",
       "      <td>11</td>\n",
       "      <td>0.995592</td>\n",
       "      <td>ibd live: with coronavirus threat, here's how to hedge against losses</td>\n",
       "    </tr>\n",
       "    <tr>\n",
       "      <th>68</th>\n",
       "      <td>IBD Live: Stock Market Falls On Coronavirus; Time To Take Profits?</td>\n",
       "      <td>NEGATIVE</td>\n",
       "      <td>11</td>\n",
       "      <td>0.999236</td>\n",
       "      <td>ibd live: stock market falls on coronavirus; time to take profits?</td>\n",
       "    </tr>\n",
       "    <tr>\n",
       "      <th>69</th>\n",
       "      <td>Watch these stocks and ETFs to gauge the impact of the coronavirus on markets</td>\n",
       "      <td>POSITIVE</td>\n",
       "      <td>14</td>\n",
       "      <td>0.967010</td>\n",
       "      <td>watch these stocks and etfs to gauge the impact of the coronavirus on markets</td>\n",
       "    </tr>\n",
       "    <tr>\n",
       "      <th>71</th>\n",
       "      <td>Stock Market Today At New Highs, But This Hedging Strategy Means You Don't Have To Sell  Yet</td>\n",
       "      <td>POSITIVE</td>\n",
       "      <td>18</td>\n",
       "      <td>0.995608</td>\n",
       "      <td>stock market today at new highs, but this hedging strategy means you don't have to sell  yet</td>\n",
       "    </tr>\n",
       "    <tr>\n",
       "      <th>74</th>\n",
       "      <td>Believe in a Santa Claus rally if you want, but first look at this chart</td>\n",
       "      <td>NEGATIVE</td>\n",
       "      <td>15</td>\n",
       "      <td>0.972901</td>\n",
       "      <td>believe in a santa claus rally if you want, but first look at this chart</td>\n",
       "    </tr>\n",
       "    <tr>\n",
       "      <th>79</th>\n",
       "      <td>President Trump might just be the best stock market timer ever</td>\n",
       "      <td>POSITIVE</td>\n",
       "      <td>11</td>\n",
       "      <td>0.997398</td>\n",
       "      <td>president trump might just be the best stock market timer ever</td>\n",
       "    </tr>\n",
       "    <tr>\n",
       "      <th>88</th>\n",
       "      <td>Why this time is different rings true in todays stock market</td>\n",
       "      <td>POSITIVE</td>\n",
       "      <td>11</td>\n",
       "      <td>0.999510</td>\n",
       "      <td>why this time is different rings true in todays stock market</td>\n",
       "    </tr>\n",
       "    <tr>\n",
       "      <th>89</th>\n",
       "      <td>Stock market steps back from the cliffs edge  heres what to watch for next</td>\n",
       "      <td>NEGATIVE</td>\n",
       "      <td>15</td>\n",
       "      <td>0.931890</td>\n",
       "      <td>stock market steps back from the cliffs edge  heres what to watch for next</td>\n",
       "    </tr>\n",
       "    <tr>\n",
       "      <th>90</th>\n",
       "      <td>Fed &amp;amp; Trade Trigger Market Bloodbath: 6 Hot Inverse ETF Areas</td>\n",
       "      <td>NEGATIVE</td>\n",
       "      <td>11</td>\n",
       "      <td>0.990411</td>\n",
       "      <td>fed &amp;amp; trade trigger market bloodbath: 6 hot inverse etf areas</td>\n",
       "    </tr>\n",
       "  </tbody>\n",
       "</table>\n",
       "</div>"
      ],
      "text/plain": [
       "                                                                                                       Headline  \\\n",
       "26                   Jackson Hole Capital Partners, LLC Buys Rent-A-Center Inc, Direxion Daily S&P 500 Bear 3X    \n",
       "27              Hengehold Capital Management Llc Buys Schwab US Aggregate Bond ETF, iShares National Muni Bond    \n",
       "30                      St Denis J Villere & Co LLC Buys Bank of America Corp, Paya Holdings Inc, Open Lending    \n",
       "42                                          Rise of online ordering will continue after COVID-19: Yum China CEO   \n",
       "49                                                    NASDAQ Makes It Four Days of Gains as Stocks Resume Rally   \n",
       "51                                 The stock market is getting dangerously close to the mother of support zones   \n",
       "52  To the investors gobbling up stocks: The intraweek rally attempt faces a better-than-even chance of failure   \n",
       "53                                               How low can the stock market go? Watch these two support zones   \n",
       "54         Dos and donts in this stock market: Dont panic, do develop a plan  even if you didnt have one before   \n",
       "55                                  Stock market investors are asking should I buy or sell? Heres how to decide   \n",
       "56    IBD Live: Dow Jones Plunges 2,000 Points: What To Do As Coronavirus Stock Market Correction Hits New Lows   \n",
       "59                                  Buffett is bullish on stocks but says the market can drop 50%  is he wrong?   \n",
       "60         The triple-short Nasdaq 100 ETF is the most active stock in the premarket, as the Nasdaq 100 tumbles   \n",
       "63                                          Central banks money printing buoys stocks, but for how much longer?   \n",
       "66                       How the coronavirus scare has driven dangerous arrogance and greed in the stock market   \n",
       "67                                        IBD Live: With Coronavirus Threat, Here's How To Hedge Against Losses   \n",
       "68                                           IBD Live: Stock Market Falls On Coronavirus; Time To Take Profits?   \n",
       "69                                Watch these stocks and ETFs to gauge the impact of the coronavirus on markets   \n",
       "71                 Stock Market Today At New Highs, But This Hedging Strategy Means You Don't Have To Sell  Yet   \n",
       "74                                     Believe in a Santa Claus rally if you want, but first look at this chart   \n",
       "79                                               President Trump might just be the best stock market timer ever   \n",
       "88                                                 Why this time is different rings true in todays stock market   \n",
       "89                                   Stock market steps back from the cliffs edge  heres what to watch for next   \n",
       "90                                            Fed &amp; Trade Trigger Market Bloodbath: 6 Hot Inverse ETF Areas   \n",
       "\n",
       "   Sentiment  word_count     Score  \\\n",
       "26  NEGATIVE          14  0.974540   \n",
       "27  NEGATIVE          14  0.969672   \n",
       "30  POSITIVE          17  0.978686   \n",
       "42  POSITIVE          11  0.998168   \n",
       "49  NEGATIVE          11  0.972605   \n",
       "51  NEGATIVE          13  0.995923   \n",
       "52  NEGATIVE          16  0.998739   \n",
       "53  NEGATIVE          12  0.999458   \n",
       "54  NEGATIVE          21  0.993685   \n",
       "55  NEGATIVE          14  0.998444   \n",
       "56  NEGATIVE          18  0.998793   \n",
       "59  NEGATIVE          16  0.998950   \n",
       "60  NEGATIVE          18  0.998018   \n",
       "63  NEGATIVE          11  0.998249   \n",
       "66  NEGATIVE          14  0.997036   \n",
       "67  NEGATIVE          11  0.995592   \n",
       "68  NEGATIVE          11  0.999236   \n",
       "69  POSITIVE          14  0.967010   \n",
       "71  POSITIVE          18  0.995608   \n",
       "74  NEGATIVE          15  0.972901   \n",
       "79  POSITIVE          11  0.997398   \n",
       "88  POSITIVE          11  0.999510   \n",
       "89  NEGATIVE          15  0.931890   \n",
       "90  NEGATIVE          11  0.990411   \n",
       "\n",
       "                                                                                                 Headline_Lower  \n",
       "26                   jackson hole capital partners, llc buys rent-a-center inc, direxion daily s&p 500 bear 3x   \n",
       "27              hengehold capital management llc buys schwab us aggregate bond etf, ishares national muni bond   \n",
       "30                      st denis j villere & co llc buys bank of america corp, paya holdings inc, open lending   \n",
       "42                                          rise of online ordering will continue after covid-19: yum china ceo  \n",
       "49                                                    nasdaq makes it four days of gains as stocks resume rally  \n",
       "51                                 the stock market is getting dangerously close to the mother of support zones  \n",
       "52  to the investors gobbling up stocks: the intraweek rally attempt faces a better-than-even chance of failure  \n",
       "53                                               how low can the stock market go? watch these two support zones  \n",
       "54         dos and donts in this stock market: dont panic, do develop a plan  even if you didnt have one before  \n",
       "55                                  stock market investors are asking should i buy or sell? heres how to decide  \n",
       "56    ibd live: dow jones plunges 2,000 points: what to do as coronavirus stock market correction hits new lows  \n",
       "59                                  buffett is bullish on stocks but says the market can drop 50%  is he wrong?  \n",
       "60         the triple-short nasdaq 100 etf is the most active stock in the premarket, as the nasdaq 100 tumbles  \n",
       "63                                          central banks money printing buoys stocks, but for how much longer?  \n",
       "66                       how the coronavirus scare has driven dangerous arrogance and greed in the stock market  \n",
       "67                                        ibd live: with coronavirus threat, here's how to hedge against losses  \n",
       "68                                           ibd live: stock market falls on coronavirus; time to take profits?  \n",
       "69                                watch these stocks and etfs to gauge the impact of the coronavirus on markets  \n",
       "71                 stock market today at new highs, but this hedging strategy means you don't have to sell  yet  \n",
       "74                                     believe in a santa claus rally if you want, but first look at this chart  \n",
       "79                                               president trump might just be the best stock market timer ever  \n",
       "88                                                 why this time is different rings true in todays stock market  \n",
       "89                                   stock market steps back from the cliffs edge  heres what to watch for next  \n",
       "90                                            fed &amp; trade trigger market bloodbath: 6 hot inverse etf areas  "
      ]
     },
     "metadata": {},
     "output_type": "display_data"
    }
   ],
   "source": [
    "df[df['Score'] > 0.8]"
   ]
  },
  {
   "cell_type": "code",
   "execution_count": null,
   "metadata": {},
   "outputs": [
    {
     "data": {
      "text/plain": [
       "<AxesSubplot:xlabel='Sentiment', ylabel='Count'>"
      ]
     },
     "metadata": {},
     "output_type": "display_data"
    },
    {
     "data": {
      "image/png": "[encoded data removed]",
      "text/plain": [
       "<Figure size 432x288 with 1 Axes>"
      ]
     },
     "metadata": {},
     "output_type": "display_data"
    }
   ],
   "source": [
    "sns.histplot(x = 'Sentiment', data = df[df['Score'] > 0.8], hue = 'Sentiment', hue_order=['POSITIVE', 'NEGATIVE'])"
   ]
  }
 ],
 "metadata": {
  "kernelspec": {
   "display_name": "Python 3.10.1 64-bit",
   "language": "python",
   "name": "python3"
  },
  "language_info": {
   "codemirror_mode": {
    "name": "ipython",
    "version": 3
   },
   "file_extension": ".py",
   "mimetype": "text/x-python",
   "name": "python",
   "nbconvert_exporter": "python",
   "pygments_lexer": "ipython3",
   "version": "3.10.1 (tags/v3.10.1:2cd268a, Dec  6 2021, 19:10:37) [MSC v.1929 64 bit (AMD64)]"
  },
  "orig_nbformat": 4,
  "vscode": {
   "interpreter": {
    "hash": "998c911629ba937bcf1bf80465453e12e8c5c2c818cb936f93ef7cf495a937a9"
   }
  }
 },
 "nbformat": 4,
 "nbformat_minor": 2
}
