{
 "cells": [
  {
   "cell_type": "code",
   "execution_count": 72,
   "metadata": {},
   "outputs": [],
   "source": [
    "import time\n",
    "from selenium import webdriver\n",
    "from bs4 import BeautifulSoup\n",
    "from urllib.parse import urljoin\n",
    "import pandas as pd\n",
    "import seaborn as sns\n",
    "\n",
    "import warnings\n",
    "warnings.filterwarnings(\"ignore\")\n",
    "\n",
    "from IPython.core.interactiveshell import InteractiveShell\n",
    "InteractiveShell.ast_node_interactivity = 'all'\n",
    "\n",
    "# Environment settings: \n",
    "pd.set_option('display.max_column', None)\n",
    "pd.set_option('display.max_rows', None)\n",
    "pd.set_option('display.max_seq_items', None)\n",
    "pd.set_option('display.max_colwidth', 500)\n",
    "pd.set_option('expand_frame_repr', True)"
   ]
  },
  {
   "cell_type": "code",
   "execution_count": 2,
   "metadata": {},
   "outputs": [],
   "source": [
    "def get_page(url):\n",
    "    \"\"\"Download a webpage and return a beautiful soup doc\"\"\"\n",
    "    ##### Web scrapper for infinite scrolling page #####\n",
    "    driver = webdriver.Chrome(executable_path=r\"E:\\Chromedriver\\chromedriver_win32_chrome83\\chromedriver.exe\")\n",
    "    driver.get(url)\n",
    "    time.sleep(2)  # Allow 2 seconds for the web page to open\n",
    "    scroll_pause_time = 1 # You can set your own pause time. My laptop is a bit slow so I use 1 sec\n",
    "    screen_height = driver.execute_script(\"return window.screen.height;\")   # get the screen height of the web\n",
    "    i = 1\n",
    "\n",
    "    while True:\n",
    "        # scroll one screen height each time\n",
    "        driver.execute_script(\"window.scrollTo(0, {screen_height}*{i});\".format(screen_height=screen_height, i=i))  \n",
    "        i += 1\n",
    "        time.sleep(scroll_pause_time)\n",
    "        # update scroll height each time after scrolled, as the scroll height can change after we scrolled the page\n",
    "        scroll_height = driver.execute_script(\"return document.body.scrollHeight;\")  \n",
    "        # Break the loop when the height we need to scroll to is larger than the total scroll height\n",
    "        if i == 10:\n",
    "            break \n",
    "\n",
    "    ##### Extract Reddit URLs #####\n",
    "    soup = BeautifulSoup(driver.page_source, \"html.parser\")\n",
    "    return soup"
   ]
  },
  {
   "cell_type": "code",
   "execution_count": 3,
   "metadata": {},
   "outputs": [],
   "source": [
    "def get_news_tags(doc):\n",
    "    \"\"\"Get the list of tags containing news information\"\"\"\n",
    "    news_class = \"Ov(h) Pend(44px) Pstart(25px)\" ## class name of div tag \n",
    "    news_list  = doc.find_all('div', {'class': news_class})\n",
    "    return news_list"
   ]
  },
  {
   "cell_type": "code",
   "execution_count": 4,
   "metadata": {},
   "outputs": [],
   "source": [
    "def parse_news(news_tag):\n",
    "    \"\"\"Get the news data point and return dictionary\"\"\"\n",
    "    news_source = news_tag.find_all('span')[0].text #source\n",
    "    news_time = news_tag.find_all('span')[1].text #link\n",
    "    news_headline = news_tag.find('a').text #heading\n",
    "    news_content = news_tag.find('p').text #content\n",
    "    news_image = news_tag.findParent().find('img')['src'] #thumb image\n",
    "    return { 'source' : news_source,\n",
    "            'time' : news_time,    \n",
    "            'headline' : news_headline,\n",
    "            'content' : news_content,\n",
    "           }"
   ]
  },
  {
   "cell_type": "code",
   "execution_count": 6,
   "metadata": {},
   "outputs": [],
   "source": [
    "def scrape_yahoo_news(url, path=None):\n",
    "    \"\"\"Get the yahoo finance market news and write them to CSV file \"\"\"\n",
    "    if path is None:\n",
    "        path = 'stock-market-news.csv'\n",
    "        \n",
    "    print('Requesting html page')\n",
    "    doc = get_page(url)\n",
    "\n",
    "    print('Extracting news tags')\n",
    "    news_list = get_news_tags(doc)\n",
    "\n",
    "    print('Parsing news tags')\n",
    "    news_data = [parse_news(news_tag) for news_tag in news_list]\n",
    "\n",
    "    print('Save the data to a CSV')\n",
    "    news_df = pd.DataFrame(news_data)\n",
    "    news_df.to_csv(path, index=None)\n",
    "    \n",
    "    #This return statement is optional, we are doing this just analyze the final output \n",
    "    return news_df "
   ]
  },
  {
   "cell_type": "code",
   "execution_count": 7,
   "metadata": {},
   "outputs": [],
   "source": [
    "# url = 'https://finance.yahoo.com/topic/stock-market-news/'\n",
    "# doc = get_page(url)\n",
    "# news_list = get_news_tags(doc)\n",
    "# news_list"
   ]
  },
  {
   "cell_type": "markdown",
   "metadata": {},
   "source": [
    "# Entire Stock Market News"
   ]
  },
  {
   "cell_type": "code",
   "execution_count": 8,
   "metadata": {},
   "outputs": [
    {
     "name": "stdout",
     "output_type": "stream",
     "text": [
      "Requesting html page\n"
     ]
    },
    {
     "name": "stderr",
     "output_type": "stream",
     "text": [
      "C:\\Users\\Woon\\AppData\\Local\\Temp\\ipykernel_16300\\966158480.py:4: DeprecationWarning: executable_path has been deprecated, please pass in a Service object\n",
      "  driver = webdriver.Chrome(executable_path=r\"E:\\Chromedriver\\chromedriver_win32_chrome83\\chromedriver.exe\")\n"
     ]
    },
    {
     "name": "stdout",
     "output_type": "stream",
     "text": [
      "Extracting news tags\n",
      "Parsing news tags\n",
      "Save the data to a CSV\n"
     ]
    }
   ],
   "source": [
    "YAHOO_NEWS_URL = 'https://finance.yahoo.com/topic/stock-market-news/'\n",
    "news_df = scrape_yahoo_news(YAHOO_NEWS_URL)"
   ]
  },
  {
   "cell_type": "code",
   "execution_count": 9,
   "metadata": {},
   "outputs": [
    {
     "name": "stderr",
     "output_type": "stream",
     "text": [
      "c:\\Users\\Woon\\AppData\\Local\\Programs\\Python\\Python310\\lib\\site-packages\\tqdm\\auto.py:22: TqdmWarning: IProgress not found. Please update jupyter and ipywidgets. See https://ipywidgets.readthedocs.io/en/stable/user_install.html\n",
      "  from .autonotebook import tqdm as notebook_tqdm\n"
     ]
    }
   ],
   "source": [
    "from transformers import pipeline\n",
    "\n",
    "import warnings\n",
    "warnings.filterwarnings(\"ignore\")\n",
    "\n",
    "from IPython.core.interactiveshell import InteractiveShell\n",
    "InteractiveShell.ast_node_interactivity = 'all'\n",
    "\n",
    "pd.set_option('display.max_columns', None) "
   ]
  },
  {
   "cell_type": "code",
   "execution_count": 10,
   "metadata": {},
   "outputs": [],
   "source": [
    "sentiment_pipeline = pipeline(\"sentiment-analysis\", model=\"distilbert-base-uncased-finetuned-sst-2-english\")"
   ]
  },
  {
   "cell_type": "code",
   "execution_count": 11,
   "metadata": {},
   "outputs": [],
   "source": [
    "sentiment = [None] * len(news_df)\n",
    "sentiment_score = [None] * len(news_df)\n",
    "index = -1\n",
    "for sentence in news_df['headline']:\n",
    "    index+=1\n",
    "    result = sentiment_pipeline(sentence[:512])[0]\n",
    "    sentiment[index] = result['label']\n",
    "    sentiment_score[index] = result['score']\n",
    "news_df['Sentiment'] = sentiment\n",
    "news_df['Score'] = sentiment_score\n",
    "\n",
    "\n",
    "sentiment = [None] * len(news_df)\n",
    "sentiment_score = [None] * len(news_df)\n",
    "index = -1\n",
    "for sentence in news_df['content']:\n",
    "    index+=1\n",
    "    result = sentiment_pipeline(sentence[:512])[0]\n",
    "    sentiment[index] = result['label']\n",
    "    sentiment_score[index] = result['score']\n",
    "news_df['Sentiment2'] = sentiment\n",
    "news_df['Score2'] = sentiment_score"
   ]
  },
  {
   "cell_type": "code",
   "execution_count": 73,
   "metadata": {},
   "outputs": [
    {
     "data": {
      "text/html": [
       "<div>\n",
       "<style scoped>\n",
       "    .dataframe tbody tr th:only-of-type {\n",
       "        vertical-align: middle;\n",
       "    }\n",
       "\n",
       "    .dataframe tbody tr th {\n",
       "        vertical-align: top;\n",
       "    }\n",
       "\n",
       "    .dataframe thead th {\n",
       "        text-align: right;\n",
       "    }\n",
       "</style>\n",
       "<table border=\"1\" class=\"dataframe\">\n",
       "  <thead>\n",
       "    <tr style=\"text-align: right;\">\n",
       "      <th></th>\n",
       "      <th>source</th>\n",
       "      <th>time</th>\n",
       "      <th>headline</th>\n",
       "      <th>content</th>\n",
       "      <th>Sentiment</th>\n",
       "      <th>Score</th>\n",
       "      <th>Sentiment2</th>\n",
       "      <th>Score2</th>\n",
       "    </tr>\n",
       "  </thead>\n",
       "  <tbody>\n",
       "    <tr>\n",
       "      <th>0</th>\n",
       "      <td>Insider Monkey</td>\n",
       "      <td>2 days ago</td>\n",
       "      <td>12 Best Communication Stocks To Buy Today</td>\n",
       "      <td>In this article, we discuss the 12 best communication stocks to buy today. If you want to read about some more communication stocks to buy today, go directly to 5 Best Communication Stocks To Buy Today. The communications industry has grown from a sector that used to include just telecommunications, newspapers, magazines, books, and radio […]</td>\n",
       "      <td>POSITIVE</td>\n",
       "      <td>0.999457</td>\n",
       "      <td>POSITIVE</td>\n",
       "      <td>0.994583</td>\n",
       "    </tr>\n",
       "    <tr>\n",
       "      <th>1</th>\n",
       "      <td>Simply Wall St.</td>\n",
       "      <td>3 days ago</td>\n",
       "      <td>TELUS Corporation (TSE:T) is largely controlled by institutional shareholders who own 54% of the company</td>\n",
       "      <td>If you want to know who really controls TELUS Corporation ( TSE:T ), then you'll have to look at the makeup of its...</td>\n",
       "      <td>NEGATIVE</td>\n",
       "      <td>0.892858</td>\n",
       "      <td>NEGATIVE</td>\n",
       "      <td>0.999047</td>\n",
       "    </tr>\n",
       "    <tr>\n",
       "      <th>2</th>\n",
       "      <td>Simply Wall St.</td>\n",
       "      <td>22 days ago</td>\n",
       "      <td>TELUS' (TSE:T) Dividend Will Be Increased To CA$0.3511</td>\n",
       "      <td>TELUS Corporation ( TSE:T ) has announced that it will be increasing its dividend from last year's comparable payment...</td>\n",
       "      <td>NEGATIVE</td>\n",
       "      <td>0.988017</td>\n",
       "      <td>NEGATIVE</td>\n",
       "      <td>0.933608</td>\n",
       "    </tr>\n",
       "    <tr>\n",
       "      <th>3</th>\n",
       "      <td>Financial Post</td>\n",
       "      <td>24 days ago</td>\n",
       "      <td>Telus had strategy to 'kill, shape and slow' Rogers-Shaw merger, document shows</td>\n",
       "      <td>Telus’s efforts included company executives meeting with political leaders to try to persuade them to reject the takeover</td>\n",
       "      <td>NEGATIVE</td>\n",
       "      <td>0.997785</td>\n",
       "      <td>NEGATIVE</td>\n",
       "      <td>0.913936</td>\n",
       "    </tr>\n",
       "    <tr>\n",
       "      <th>4</th>\n",
       "      <td>Reuters</td>\n",
       "      <td>24 days ago</td>\n",
       "      <td>Rogers says Telus documents show rival tried to 'kill' Shaw deal</td>\n",
       "      <td>In its effort to win takeover approval, telecom provider Rogers Communications Inc on Monday presented documents to a tribunal that show Canada's second-largest telecom company Telus Corp attempted to sabotage Rogers' C$20 billion ($15 billion) deal to buy Shaw Communications Inc.  Challenging Canadian regulators' rejection of the deal on anti-trust grounds, Rogers may seek to argue that Telus wanted to kill the acquisition because it would increase cellphone competition, benefiting Canadian...</td>\n",
       "      <td>NEGATIVE</td>\n",
       "      <td>0.994781</td>\n",
       "      <td>NEGATIVE</td>\n",
       "      <td>0.996364</td>\n",
       "    </tr>\n",
       "    <tr>\n",
       "      <th>5</th>\n",
       "      <td>Zacks</td>\n",
       "      <td>24 days ago</td>\n",
       "      <td>DTEGY or TU: Which Is the Better Value Stock Right Now?</td>\n",
       "      <td>DTEGY vs. TU: Which Stock Is the Better Value Option?</td>\n",
       "      <td>NEGATIVE</td>\n",
       "      <td>0.998896</td>\n",
       "      <td>NEGATIVE</td>\n",
       "      <td>0.998626</td>\n",
       "    </tr>\n",
       "    <tr>\n",
       "      <th>6</th>\n",
       "      <td>Simply Wall St.</td>\n",
       "      <td>last month</td>\n",
       "      <td>Is TELUS Corporation's (TSE:T) 12% ROE Better Than Average?</td>\n",
       "      <td>While some investors are already well versed in financial metrics (hat tip), this article is for those who would like...</td>\n",
       "      <td>NEGATIVE</td>\n",
       "      <td>0.999067</td>\n",
       "      <td>POSITIVE</td>\n",
       "      <td>0.996413</td>\n",
       "    </tr>\n",
       "    <tr>\n",
       "      <th>7</th>\n",
       "      <td>Zacks</td>\n",
       "      <td>last month</td>\n",
       "      <td>TELUS (TU) Q3 Earnings &amp; Revenues Top Estimates, Increase Y/Y</td>\n",
       "      <td>TELUS (TU) third-quarter performance boosted by high service revenue in TELUS technology solutions and TELUS International.</td>\n",
       "      <td>NEGATIVE</td>\n",
       "      <td>0.692262</td>\n",
       "      <td>POSITIVE</td>\n",
       "      <td>0.791908</td>\n",
       "    </tr>\n",
       "    <tr>\n",
       "      <th>8</th>\n",
       "      <td>Benzinga</td>\n",
       "      <td>last month</td>\n",
       "      <td>Telus Clocks ~10% Revenue Growth In Q3 Backed By Customer Additions; Boosts Dividend By 7.2%</td>\n",
       "      <td>Telus Corp (NYSE: TU) reported third-quarter FY22 operating revenues and other income growth of 9.9% year-on-year to CA$4.67 billion. Total telecom subscriber connections grew 6.3% Y/Y to 17.7 million. It made 347,000 new customer net additions in the quarter, up 27,000 over last year, including 150,000 mobile phones, 124,000 connected devices, 36,000 internet, 25,000 security, and 18,000 TV customer connections. The mobile phone churn was 0.95%. Adjusted basic EPS was CA$0.34, up 17% Y/Y. A...</td>\n",
       "      <td>NEGATIVE</td>\n",
       "      <td>0.561149</td>\n",
       "      <td>NEGATIVE</td>\n",
       "      <td>0.983207</td>\n",
       "    </tr>\n",
       "    <tr>\n",
       "      <th>9</th>\n",
       "      <td>Zacks</td>\n",
       "      <td>last month</td>\n",
       "      <td>Telus (TU) Q3 Earnings and Revenues Beat Estimates</td>\n",
       "      <td>Telus (TU) delivered earnings and revenue surprises of 4% and 1.93%, respectively, for the quarter ended September 2022. Do the numbers hold clues to what lies ahead for the stock?</td>\n",
       "      <td>NEGATIVE</td>\n",
       "      <td>0.955190</td>\n",
       "      <td>NEGATIVE</td>\n",
       "      <td>0.994703</td>\n",
       "    </tr>\n",
       "    <tr>\n",
       "      <th>10</th>\n",
       "      <td>Zacks</td>\n",
       "      <td>last month</td>\n",
       "      <td>Should You Buy Telus (TU) Ahead of Earnings?</td>\n",
       "      <td>Telus (TU) is seeing favorable earnings estimate revision activity and has a positive Zacks Earnings ESP heading into earnings season.</td>\n",
       "      <td>NEGATIVE</td>\n",
       "      <td>0.997798</td>\n",
       "      <td>POSITIVE</td>\n",
       "      <td>0.998531</td>\n",
       "    </tr>\n",
       "    <tr>\n",
       "      <th>11</th>\n",
       "      <td>Zacks</td>\n",
       "      <td>last month</td>\n",
       "      <td>BCE (BCE) Beats Q3 Earnings and Revenue Estimates</td>\n",
       "      <td>BCE (BCE) delivered earnings and revenue surprises of 4.69% and 2.66%, respectively, for the quarter ended September 2022. Do the numbers hold clues to what lies ahead for the stock?</td>\n",
       "      <td>NEGATIVE</td>\n",
       "      <td>0.921792</td>\n",
       "      <td>NEGATIVE</td>\n",
       "      <td>0.991835</td>\n",
       "    </tr>\n",
       "    <tr>\n",
       "      <th>12</th>\n",
       "      <td>Financial Post</td>\n",
       "      <td>last month</td>\n",
       "      <td>Telus doesn't need CRTC approval to surcharge majority of customers, regulator says</td>\n",
       "      <td>Telus implemented 1.5% charge last month for most wireless, home-service customers who pay bills by credit card</td>\n",
       "      <td>POSITIVE</td>\n",
       "      <td>0.974716</td>\n",
       "      <td>NEGATIVE</td>\n",
       "      <td>0.951092</td>\n",
       "    </tr>\n",
       "    <tr>\n",
       "      <th>13</th>\n",
       "      <td>Zacks</td>\n",
       "      <td>last month</td>\n",
       "      <td>Shenandoah Telecommunications (SHEN) Reports Q3 Loss, Tops Revenue Estimates</td>\n",
       "      <td>Shenandoah Telecom (SHEN) delivered earnings and revenue surprises of -200% and 1.49%, respectively, for the quarter ended September 2022. Do the numbers hold clues to what lies ahead for the stock?</td>\n",
       "      <td>NEGATIVE</td>\n",
       "      <td>0.999294</td>\n",
       "      <td>NEGATIVE</td>\n",
       "      <td>0.986180</td>\n",
       "    </tr>\n",
       "    <tr>\n",
       "      <th>14</th>\n",
       "      <td>Zacks</td>\n",
       "      <td>last month</td>\n",
       "      <td>Halliburton Company and M.D.C. Holdings have been highlighted as Zacks Bull and Bear of the Day</td>\n",
       "      <td>Halliburton Company and M.D.C. Holdings are part of the Zacks Bull and Bear of the Day article.</td>\n",
       "      <td>POSITIVE</td>\n",
       "      <td>0.994775</td>\n",
       "      <td>POSITIVE</td>\n",
       "      <td>0.797511</td>\n",
       "    </tr>\n",
       "    <tr>\n",
       "      <th>15</th>\n",
       "      <td>Zacks</td>\n",
       "      <td>last month</td>\n",
       "      <td>3 Telecom Stocks Likely to Surpass Q3 Earnings Estimates</td>\n",
       "      <td>USM, TU and CMTL are poised to benefit from higher demand for scalable infrastructure for seamless connectivity amid a wide proliferation of IoT and a steady pace of 5G rollout.</td>\n",
       "      <td>NEGATIVE</td>\n",
       "      <td>0.974039</td>\n",
       "      <td>POSITIVE</td>\n",
       "      <td>0.995971</td>\n",
       "    </tr>\n",
       "    <tr>\n",
       "      <th>16</th>\n",
       "      <td>Insider Monkey</td>\n",
       "      <td>last month</td>\n",
       "      <td>10 Best TSX Stocks To Buy Now</td>\n",
       "      <td>In this article, we discuss 10 best TSX stocks to buy now. If you want to see more stocks in this selection, check out 5 Best TSX Stocks To Buy Now. Finance Minister Chrystia Freeland warned Canadians on October 19, saying the next few months will be hard as increasing interest rates erode a once-thriving […]</td>\n",
       "      <td>POSITIVE</td>\n",
       "      <td>0.999652</td>\n",
       "      <td>NEGATIVE</td>\n",
       "      <td>0.981137</td>\n",
       "    </tr>\n",
       "    <tr>\n",
       "      <th>17</th>\n",
       "      <td>Zacks</td>\n",
       "      <td>2 months ago</td>\n",
       "      <td>Here's Why Investors May Consider Betting on TELUS (TU) Stock</td>\n",
       "      <td>TELUS' (TU) performance is benefiting from continued momentum in both business segments</td>\n",
       "      <td>NEGATIVE</td>\n",
       "      <td>0.994778</td>\n",
       "      <td>POSITIVE</td>\n",
       "      <td>0.999602</td>\n",
       "    </tr>\n",
       "    <tr>\n",
       "      <th>18</th>\n",
       "      <td>Zacks</td>\n",
       "      <td>2 months ago</td>\n",
       "      <td>Here's Why Telus (TU) is a Strong Value Stock</td>\n",
       "      <td>Wondering how to pick strong, market-beating stocks for your investment portfolio? Look no further than the Zacks Style Scores.</td>\n",
       "      <td>POSITIVE</td>\n",
       "      <td>0.992807</td>\n",
       "      <td>POSITIVE</td>\n",
       "      <td>0.972559</td>\n",
       "    </tr>\n",
       "    <tr>\n",
       "      <th>19</th>\n",
       "      <td>Zacks</td>\n",
       "      <td>2 months ago</td>\n",
       "      <td>Zacks.com featured highlights include W.R. Berkley, Crocs, Boyd Gaming, Boise Cascade and TELUS</td>\n",
       "      <td>W.R. Berkley, Crocs, Boyd Gaming, Boise Cascade and TELUS have been highlighted in this Screen of The Week article.</td>\n",
       "      <td>POSITIVE</td>\n",
       "      <td>0.988196</td>\n",
       "      <td>POSITIVE</td>\n",
       "      <td>0.998186</td>\n",
       "    </tr>\n",
       "    <tr>\n",
       "      <th>20</th>\n",
       "      <td>Zacks</td>\n",
       "      <td>2 months ago</td>\n",
       "      <td>5 Stocks With Solid Sales Growth to Bet On Amid Market Mayhem</td>\n",
       "      <td>Consistent sales growth is vital for the survival of a business, even during an economic slowdown. Let's check W.R. Berkley (WRB), Crocs (CROX), Boyd Gaming (BYD), Boise Cascade (BCC) &amp; TELUS (TU) that are recording top-line growth.</td>\n",
       "      <td>POSITIVE</td>\n",
       "      <td>0.999484</td>\n",
       "      <td>POSITIVE</td>\n",
       "      <td>0.999790</td>\n",
       "    </tr>\n",
       "    <tr>\n",
       "      <th>21</th>\n",
       "      <td>Zacks</td>\n",
       "      <td>2 months ago</td>\n",
       "      <td>TEF or TU: Which Is the Better Value Stock Right Now?</td>\n",
       "      <td>TEF vs. TU: Which Stock Is the Better Value Option?</td>\n",
       "      <td>NEGATIVE</td>\n",
       "      <td>0.999223</td>\n",
       "      <td>NEGATIVE</td>\n",
       "      <td>0.998727</td>\n",
       "    </tr>\n",
       "    <tr>\n",
       "      <th>22</th>\n",
       "      <td>Insider Monkey</td>\n",
       "      <td>2 months ago</td>\n",
       "      <td>10 Best Telecom Stocks to Buy Right Now</td>\n",
       "      <td>In this article, we discuss 10 best telecom stocks to buy right now. If you want to read about some more telecom stocks to buy right now, go directly to 5 Best Telecom Stocks to Buy Right Now. Although cable broadband providers continue to control over 66% of the market share in the telecommunications business, […]</td>\n",
       "      <td>POSITIVE</td>\n",
       "      <td>0.999606</td>\n",
       "      <td>POSITIVE</td>\n",
       "      <td>0.702828</td>\n",
       "    </tr>\n",
       "    <tr>\n",
       "      <th>23</th>\n",
       "      <td>Insider Monkey</td>\n",
       "      <td>2 months ago</td>\n",
       "      <td>10 Best Cheap Dividend Stocks to Buy Now</td>\n",
       "      <td>In this article, we discuss 10 best cheap dividend stocks to buy now. You can skip our detailed analysis of the best dividend stocks and their returns over the years, and go directly to read 5 Best Cheap Dividend Stocks to Buy Now. Inflation and continuous interest rate hikes have brought dividend investing to the […]</td>\n",
       "      <td>POSITIVE</td>\n",
       "      <td>0.993969</td>\n",
       "      <td>NEGATIVE</td>\n",
       "      <td>0.863058</td>\n",
       "    </tr>\n",
       "    <tr>\n",
       "      <th>24</th>\n",
       "      <td>Insider Monkey</td>\n",
       "      <td>2 months ago</td>\n",
       "      <td>10 Best Canadian Dividend Stocks</td>\n",
       "      <td>In this article, we will take a look at the 10 Best Canadian Dividend Stocks. To skip our analysis of the Canadian economy, recent market trends, and dividend stocks, you can go directly to see the 5 Best Canadian Dividend Stocks. Dividend stocks are the shares of publicly listed companies that regularly distribute a portion […]</td>\n",
       "      <td>POSITIVE</td>\n",
       "      <td>0.999667</td>\n",
       "      <td>POSITIVE</td>\n",
       "      <td>0.997285</td>\n",
       "    </tr>\n",
       "    <tr>\n",
       "      <th>25</th>\n",
       "      <td>Simply Wall St.</td>\n",
       "      <td>3 months ago</td>\n",
       "      <td>TELUS' (TSE:T) Returns On Capital Not Reflecting Well On The Business</td>\n",
       "      <td>If you're looking for a multi-bagger, there's a few things to keep an eye out for. Ideally, a business will show two...</td>\n",
       "      <td>NEGATIVE</td>\n",
       "      <td>0.999341</td>\n",
       "      <td>POSITIVE</td>\n",
       "      <td>0.994703</td>\n",
       "    </tr>\n",
       "    <tr>\n",
       "      <th>26</th>\n",
       "      <td>Zacks</td>\n",
       "      <td>3 months ago</td>\n",
       "      <td>TEF vs. TU: Which Stock Is the Better Value Option?</td>\n",
       "      <td>TEF vs. TU: Which Stock Is the Better Value Option?</td>\n",
       "      <td>NEGATIVE</td>\n",
       "      <td>0.998727</td>\n",
       "      <td>NEGATIVE</td>\n",
       "      <td>0.998727</td>\n",
       "    </tr>\n",
       "    <tr>\n",
       "      <th>27</th>\n",
       "      <td>Zacks</td>\n",
       "      <td>3 months ago</td>\n",
       "      <td>Why This 1 Growth Stock Could Be a Great Addition to Your Portfolio</td>\n",
       "      <td>Whether you're a value, growth, or momentum investor, finding strong stocks becomes easier with the Zacks Style Scores, a top feature of the Zacks Premium research service.</td>\n",
       "      <td>POSITIVE</td>\n",
       "      <td>0.985008</td>\n",
       "      <td>POSITIVE</td>\n",
       "      <td>0.988758</td>\n",
       "    </tr>\n",
       "    <tr>\n",
       "      <th>28</th>\n",
       "      <td>Zacks</td>\n",
       "      <td>3 months ago</td>\n",
       "      <td>Why Telus (TU) is a Top Value Stock for the Long-Term</td>\n",
       "      <td>Wondering how to pick strong, market-beating stocks for your investment portfolio? Look no further than the Zacks Style Scores.</td>\n",
       "      <td>NEGATIVE</td>\n",
       "      <td>0.821055</td>\n",
       "      <td>POSITIVE</td>\n",
       "      <td>0.972559</td>\n",
       "    </tr>\n",
       "    <tr>\n",
       "      <th>29</th>\n",
       "      <td>Zacks</td>\n",
       "      <td>3 months ago</td>\n",
       "      <td>3 Communication Stocks Likely to Transcend Margin Blues</td>\n",
       "      <td>The accelerated pace of 5G deployment and demand for scalable infrastructure should help the Zacks Diversified Communication Services industry thrive despite short-term woes. DTEGY, TU and TEF are well-positioned to make the most of the infrastructure upgrade for seamless connectivity.</td>\n",
       "      <td>NEGATIVE</td>\n",
       "      <td>0.951531</td>\n",
       "      <td>POSITIVE</td>\n",
       "      <td>0.997666</td>\n",
       "    </tr>\n",
       "    <tr>\n",
       "      <th>30</th>\n",
       "      <td>Financial Post</td>\n",
       "      <td>3 months ago</td>\n",
       "      <td>Telus sees global opportunity in employee wellness as it closes LifeWorks acquisition</td>\n",
       "      <td>Telus finalized the LifeWorks deal for $2.3 billion, plans to roll it into its growing Telus Health unit</td>\n",
       "      <td>POSITIVE</td>\n",
       "      <td>0.992128</td>\n",
       "      <td>POSITIVE</td>\n",
       "      <td>0.994748</td>\n",
       "    </tr>\n",
       "    <tr>\n",
       "      <th>31</th>\n",
       "      <td>Zacks</td>\n",
       "      <td>3 months ago</td>\n",
       "      <td>Here's Why Telus (TU) is a Strong Growth Stock</td>\n",
       "      <td>Wondering how to pick strong, market-beating stocks for your investment portfolio? Look no further than the Zacks Style Scores.</td>\n",
       "      <td>POSITIVE</td>\n",
       "      <td>0.998283</td>\n",
       "      <td>POSITIVE</td>\n",
       "      <td>0.972559</td>\n",
       "    </tr>\n",
       "    <tr>\n",
       "      <th>32</th>\n",
       "      <td>Simply Wall St.</td>\n",
       "      <td>4 months ago</td>\n",
       "      <td>TELUS (TSE:T) jumps 3.3% this week, though earnings growth is still tracking behind five-year shareholder returns</td>\n",
       "      <td>Passive investing in index funds can generate returns that roughly match the overall market. But you can do a lot...</td>\n",
       "      <td>NEGATIVE</td>\n",
       "      <td>0.952150</td>\n",
       "      <td>POSITIVE</td>\n",
       "      <td>0.997491</td>\n",
       "    </tr>\n",
       "    <tr>\n",
       "      <th>33</th>\n",
       "      <td>Zacks</td>\n",
       "      <td>4 months ago</td>\n",
       "      <td>TELUS (TU) Gets Court Approval for Acquisition of LifeWorks</td>\n",
       "      <td>TELUS (TU) had inked an agreement to acquire Canada-based LifeWorks to expand its presence in the lucrative digital health services market in June 2022.</td>\n",
       "      <td>POSITIVE</td>\n",
       "      <td>0.798274</td>\n",
       "      <td>POSITIVE</td>\n",
       "      <td>0.856943</td>\n",
       "    </tr>\n",
       "    <tr>\n",
       "      <th>34</th>\n",
       "      <td>Financial Post</td>\n",
       "      <td>4 months ago</td>\n",
       "      <td>Telus wants to charge customers a fee for paying their bills with a credit card</td>\n",
       "      <td>Telus has asked the CRTC for approval to charge a 1.5% fee starting in October</td>\n",
       "      <td>NEGATIVE</td>\n",
       "      <td>0.996684</td>\n",
       "      <td>NEGATIVE</td>\n",
       "      <td>0.975548</td>\n",
       "    </tr>\n",
       "    <tr>\n",
       "      <th>35</th>\n",
       "      <td>Zacks</td>\n",
       "      <td>4 months ago</td>\n",
       "      <td>TU vs. TLSYY: Which Stock Should Value Investors Buy Now?</td>\n",
       "      <td>TU vs. TLSYY: Which Stock Is the Better Value Option?</td>\n",
       "      <td>NEGATIVE</td>\n",
       "      <td>0.995367</td>\n",
       "      <td>NEGATIVE</td>\n",
       "      <td>0.998135</td>\n",
       "    </tr>\n",
       "    <tr>\n",
       "      <th>36</th>\n",
       "      <td>Zacks</td>\n",
       "      <td>4 months ago</td>\n",
       "      <td>Are You a Value Investor? This 1 Stock Could Be the Perfect Pick</td>\n",
       "      <td>The Zacks Style Scores offers investors a way to easily find top-rated stocks based on their investing style. Here's why you should take advantage.</td>\n",
       "      <td>POSITIVE</td>\n",
       "      <td>0.656753</td>\n",
       "      <td>POSITIVE</td>\n",
       "      <td>0.997777</td>\n",
       "    </tr>\n",
       "    <tr>\n",
       "      <th>37</th>\n",
       "      <td>Zacks</td>\n",
       "      <td>4 months ago</td>\n",
       "      <td>TELUS (TU) Q2 Earnings &amp; Revenue Top Estimates, Increase Y/Y</td>\n",
       "      <td>TELUS Corporation (TU) second-quarter 2022 performance benefits from higher mobile network revenues and premium bundled offerings.</td>\n",
       "      <td>NEGATIVE</td>\n",
       "      <td>0.869352</td>\n",
       "      <td>POSITIVE</td>\n",
       "      <td>0.993693</td>\n",
       "    </tr>\n",
       "    <tr>\n",
       "      <th>38</th>\n",
       "      <td>Zacks</td>\n",
       "      <td>4 months ago</td>\n",
       "      <td>Telus (TU) Q2 Earnings and Revenues Beat Estimates</td>\n",
       "      <td>Telus (TU) delivered earnings and revenue surprises of 13.64% and 0.25%, respectively, for the quarter ended June 2022. Do the numbers hold clues to what lies ahead for the stock?</td>\n",
       "      <td>NEGATIVE</td>\n",
       "      <td>0.952956</td>\n",
       "      <td>NEGATIVE</td>\n",
       "      <td>0.995295</td>\n",
       "    </tr>\n",
       "    <tr>\n",
       "      <th>39</th>\n",
       "      <td>Zacks</td>\n",
       "      <td>4 months ago</td>\n",
       "      <td>New Jersey Resources (NJR) Reports Q3 Loss, Tops Revenue Estimates</td>\n",
       "      <td>New Jersey Resources (NJR) delivered earnings and revenue surprises of -150% and 34.14%, respectively, for the quarter ended June 2022. Do the numbers hold clues to what lies ahead for the stock?</td>\n",
       "      <td>NEGATIVE</td>\n",
       "      <td>0.998883</td>\n",
       "      <td>NEGATIVE</td>\n",
       "      <td>0.973600</td>\n",
       "    </tr>\n",
       "    <tr>\n",
       "      <th>40</th>\n",
       "      <td>Insider Monkey</td>\n",
       "      <td>4 months ago</td>\n",
       "      <td>10 Undervalued Canadian Stocks to Buy Now</td>\n",
       "      <td>In this article, we discuss the 10 undervalued Canadian stocks to buy now. If you want to read about some more undervalued Canadian stocks, go directly to 5 Undervalued Canadian Stocks to Buy Now. Major indexes of the stock market in Canada, like the S&amp;P/TSX Composite, have so far managed to outperform other global indices […]</td>\n",
       "      <td>NEGATIVE</td>\n",
       "      <td>0.977195</td>\n",
       "      <td>NEGATIVE</td>\n",
       "      <td>0.560107</td>\n",
       "    </tr>\n",
       "    <tr>\n",
       "      <th>41</th>\n",
       "      <td>Zacks</td>\n",
       "      <td>5 months ago</td>\n",
       "      <td>Telus (TU) Earnings Expected to Grow: What to Know Ahead of Q2 Release</td>\n",
       "      <td>Telus (TU) doesn't possess the right combination of the two key ingredients for a likely earnings beat in its upcoming report. Get prepared with the key expectations.</td>\n",
       "      <td>POSITIVE</td>\n",
       "      <td>0.924825</td>\n",
       "      <td>NEGATIVE</td>\n",
       "      <td>0.999748</td>\n",
       "    </tr>\n",
       "    <tr>\n",
       "      <th>42</th>\n",
       "      <td>Zacks</td>\n",
       "      <td>5 months ago</td>\n",
       "      <td>Will Revenue Contraction Affect AT&amp;T's (T) Q2 Earnings?</td>\n",
       "      <td>Adverse foreign currency translations, high operating costs for 5G deployments and fiber expansion and divestment are likely to have led to soft revenues for AT&amp;T (T) in the second quarter.</td>\n",
       "      <td>NEGATIVE</td>\n",
       "      <td>0.998305</td>\n",
       "      <td>NEGATIVE</td>\n",
       "      <td>0.999572</td>\n",
       "    </tr>\n",
       "    <tr>\n",
       "      <th>43</th>\n",
       "      <td>Zacks</td>\n",
       "      <td>5 months ago</td>\n",
       "      <td>Does Telus (TU) Have the Potential to Rally 26% as Wall Street Analysts Expect?</td>\n",
       "      <td>The average of price targets set by Wall Street analysts indicates a potential upside of 25.8% in Telus (TU). While the effectiveness of this highly sought-after metric is questionable, the positive trend in earnings estimate revisions might translate into an upside in the stock.</td>\n",
       "      <td>NEGATIVE</td>\n",
       "      <td>0.991505</td>\n",
       "      <td>NEGATIVE</td>\n",
       "      <td>0.961102</td>\n",
       "    </tr>\n",
       "    <tr>\n",
       "      <th>44</th>\n",
       "      <td>Zacks</td>\n",
       "      <td>5 months ago</td>\n",
       "      <td>DTEGY vs. TU: Which Stock Is the Better Value Option?</td>\n",
       "      <td>DTEGY vs. TU: Which Stock Is the Better Value Option?</td>\n",
       "      <td>NEGATIVE</td>\n",
       "      <td>0.998626</td>\n",
       "      <td>NEGATIVE</td>\n",
       "      <td>0.998626</td>\n",
       "    </tr>\n",
       "    <tr>\n",
       "      <th>45</th>\n",
       "      <td>Insider Monkey</td>\n",
       "      <td>5 months ago</td>\n",
       "      <td>10 Stocks Canadian Investors Love</td>\n",
       "      <td>In this article, we discuss 10 stocks Canadian investors love. If you want to read about some more Canadian stocks, go directly to 5 Stocks Canadian Investors Love. In mid-June, the central bank in the United States raised the benchmark interest rate by 75 basis points, the biggest rate hike since 1994. The bank cited […]</td>\n",
       "      <td>POSITIVE</td>\n",
       "      <td>0.999716</td>\n",
       "      <td>POSITIVE</td>\n",
       "      <td>0.979115</td>\n",
       "    </tr>\n",
       "    <tr>\n",
       "      <th>46</th>\n",
       "      <td>Zacks</td>\n",
       "      <td>5 months ago</td>\n",
       "      <td>TELUS (TU) Sets Up New Headquarters in Downtown Calgary</td>\n",
       "      <td>TELUS (TU) new headquarters will create more than 1000 jobs and provide housing to more than 1,600 local team members, per company reports.</td>\n",
       "      <td>POSITIVE</td>\n",
       "      <td>0.817481</td>\n",
       "      <td>POSITIVE</td>\n",
       "      <td>0.995409</td>\n",
       "    </tr>\n",
       "    <tr>\n",
       "      <th>47</th>\n",
       "      <td>Zacks</td>\n",
       "      <td>5 months ago</td>\n",
       "      <td>TELUS (TU) Continues to Boost PureFibre &amp; 5G Network Expansion</td>\n",
       "      <td>TELUS Corporation (TU) invests C$430 million and C$10 million across Calgary and Haida Gwaii, respectively, to enhance network connectivity.</td>\n",
       "      <td>POSITIVE</td>\n",
       "      <td>0.998772</td>\n",
       "      <td>POSITIVE</td>\n",
       "      <td>0.985059</td>\n",
       "    </tr>\n",
       "    <tr>\n",
       "      <th>48</th>\n",
       "      <td>Simply Wall St.</td>\n",
       "      <td>5 months ago</td>\n",
       "      <td>Are Institutions Heavily Invested In TELUS Corporation's (TSE:T) Shares?</td>\n",
       "      <td>The big shareholder groups in TELUS Corporation ( TSE:T ) have power over the company. Generally speaking, as a company...</td>\n",
       "      <td>NEGATIVE</td>\n",
       "      <td>0.997710</td>\n",
       "      <td>POSITIVE</td>\n",
       "      <td>0.992960</td>\n",
       "    </tr>\n",
       "  </tbody>\n",
       "</table>\n",
       "</div>"
      ],
      "text/plain": [
       "             source          time  \\\n",
       "0    Insider Monkey    2 days ago   \n",
       "1   Simply Wall St.    3 days ago   \n",
       "2   Simply Wall St.   22 days ago   \n",
       "3    Financial Post   24 days ago   \n",
       "4           Reuters   24 days ago   \n",
       "5             Zacks   24 days ago   \n",
       "6   Simply Wall St.    last month   \n",
       "7             Zacks    last month   \n",
       "8          Benzinga    last month   \n",
       "9             Zacks    last month   \n",
       "10            Zacks    last month   \n",
       "11            Zacks    last month   \n",
       "12   Financial Post    last month   \n",
       "13            Zacks    last month   \n",
       "14            Zacks    last month   \n",
       "15            Zacks    last month   \n",
       "16   Insider Monkey    last month   \n",
       "17            Zacks  2 months ago   \n",
       "18            Zacks  2 months ago   \n",
       "19            Zacks  2 months ago   \n",
       "20            Zacks  2 months ago   \n",
       "21            Zacks  2 months ago   \n",
       "22   Insider Monkey  2 months ago   \n",
       "23   Insider Monkey  2 months ago   \n",
       "24   Insider Monkey  2 months ago   \n",
       "25  Simply Wall St.  3 months ago   \n",
       "26            Zacks  3 months ago   \n",
       "27            Zacks  3 months ago   \n",
       "28            Zacks  3 months ago   \n",
       "29            Zacks  3 months ago   \n",
       "30   Financial Post  3 months ago   \n",
       "31            Zacks  3 months ago   \n",
       "32  Simply Wall St.  4 months ago   \n",
       "33            Zacks  4 months ago   \n",
       "34   Financial Post  4 months ago   \n",
       "35            Zacks  4 months ago   \n",
       "36            Zacks  4 months ago   \n",
       "37            Zacks  4 months ago   \n",
       "38            Zacks  4 months ago   \n",
       "39            Zacks  4 months ago   \n",
       "40   Insider Monkey  4 months ago   \n",
       "41            Zacks  5 months ago   \n",
       "42            Zacks  5 months ago   \n",
       "43            Zacks  5 months ago   \n",
       "44            Zacks  5 months ago   \n",
       "45   Insider Monkey  5 months ago   \n",
       "46            Zacks  5 months ago   \n",
       "47            Zacks  5 months ago   \n",
       "48  Simply Wall St.  5 months ago   \n",
       "\n",
       "                                                                                                             headline  \\\n",
       "0                                                                           12 Best Communication Stocks To Buy Today   \n",
       "1            TELUS Corporation (TSE:T) is largely controlled by institutional shareholders who own 54% of the company   \n",
       "2                                                              TELUS' (TSE:T) Dividend Will Be Increased To CA$0.3511   \n",
       "3                                     Telus had strategy to 'kill, shape and slow' Rogers-Shaw merger, document shows   \n",
       "4                                                    Rogers says Telus documents show rival tried to 'kill' Shaw deal   \n",
       "5                                                             DTEGY or TU: Which Is the Better Value Stock Right Now?   \n",
       "6                                                         Is TELUS Corporation's (TSE:T) 12% ROE Better Than Average?   \n",
       "7                                                       TELUS (TU) Q3 Earnings & Revenues Top Estimates, Increase Y/Y   \n",
       "8                        Telus Clocks ~10% Revenue Growth In Q3 Backed By Customer Additions; Boosts Dividend By 7.2%   \n",
       "9                                                                  Telus (TU) Q3 Earnings and Revenues Beat Estimates   \n",
       "10                                                                       Should You Buy Telus (TU) Ahead of Earnings?   \n",
       "11                                                                  BCE (BCE) Beats Q3 Earnings and Revenue Estimates   \n",
       "12                                Telus doesn't need CRTC approval to surcharge majority of customers, regulator says   \n",
       "13                                       Shenandoah Telecommunications (SHEN) Reports Q3 Loss, Tops Revenue Estimates   \n",
       "14                    Halliburton Company and M.D.C. Holdings have been highlighted as Zacks Bull and Bear of the Day   \n",
       "15                                                           3 Telecom Stocks Likely to Surpass Q3 Earnings Estimates   \n",
       "16                                                                                      10 Best TSX Stocks To Buy Now   \n",
       "17                                                      Here's Why Investors May Consider Betting on TELUS (TU) Stock   \n",
       "18                                                                      Here's Why Telus (TU) is a Strong Value Stock   \n",
       "19                    Zacks.com featured highlights include W.R. Berkley, Crocs, Boyd Gaming, Boise Cascade and TELUS   \n",
       "20                                                      5 Stocks With Solid Sales Growth to Bet On Amid Market Mayhem   \n",
       "21                                                              TEF or TU: Which Is the Better Value Stock Right Now?   \n",
       "22                                                                            10 Best Telecom Stocks to Buy Right Now   \n",
       "23                                                                           10 Best Cheap Dividend Stocks to Buy Now   \n",
       "24                                                                                   10 Best Canadian Dividend Stocks   \n",
       "25                                              TELUS' (TSE:T) Returns On Capital Not Reflecting Well On The Business   \n",
       "26                                                                TEF vs. TU: Which Stock Is the Better Value Option?   \n",
       "27                                                Why This 1 Growth Stock Could Be a Great Addition to Your Portfolio   \n",
       "28                                                              Why Telus (TU) is a Top Value Stock for the Long-Term   \n",
       "29                                                            3 Communication Stocks Likely to Transcend Margin Blues   \n",
       "30                              Telus sees global opportunity in employee wellness as it closes LifeWorks acquisition   \n",
       "31                                                                     Here's Why Telus (TU) is a Strong Growth Stock   \n",
       "32  TELUS (TSE:T) jumps 3.3% this week, though earnings growth is still tracking behind five-year shareholder returns   \n",
       "33                                                        TELUS (TU) Gets Court Approval for Acquisition of LifeWorks   \n",
       "34                                    Telus wants to charge customers a fee for paying their bills with a credit card   \n",
       "35                                                          TU vs. TLSYY: Which Stock Should Value Investors Buy Now?   \n",
       "36                                                   Are You a Value Investor? This 1 Stock Could Be the Perfect Pick   \n",
       "37                                                       TELUS (TU) Q2 Earnings & Revenue Top Estimates, Increase Y/Y   \n",
       "38                                                                 Telus (TU) Q2 Earnings and Revenues Beat Estimates   \n",
       "39                                                 New Jersey Resources (NJR) Reports Q3 Loss, Tops Revenue Estimates   \n",
       "40                                                                          10 Undervalued Canadian Stocks to Buy Now   \n",
       "41                                             Telus (TU) Earnings Expected to Grow: What to Know Ahead of Q2 Release   \n",
       "42                                                            Will Revenue Contraction Affect AT&T's (T) Q2 Earnings?   \n",
       "43                                    Does Telus (TU) Have the Potential to Rally 26% as Wall Street Analysts Expect?   \n",
       "44                                                              DTEGY vs. TU: Which Stock Is the Better Value Option?   \n",
       "45                                                                                  10 Stocks Canadian Investors Love   \n",
       "46                                                            TELUS (TU) Sets Up New Headquarters in Downtown Calgary   \n",
       "47                                                     TELUS (TU) Continues to Boost PureFibre & 5G Network Expansion   \n",
       "48                                           Are Institutions Heavily Invested In TELUS Corporation's (TSE:T) Shares?   \n",
       "\n",
       "                                                                                                                                                                                                                                                                                                                                                                                                                                                                                                                content  \\\n",
       "0                                                                                                                                                              In this article, we discuss the 12 best communication stocks to buy today. If you want to read about some more communication stocks to buy today, go directly to 5 Best Communication Stocks To Buy Today. The communications industry has grown from a sector that used to include just telecommunications, newspapers, magazines, books, and radio […]   \n",
       "1                                                                                                                                                                                                                                                                                                                                                                                                 If you want to know who really controls TELUS Corporation ( TSE:T ), then you'll have to look at the makeup of its...   \n",
       "2                                                                                                                                                                                                                                                                                                                                                                                              TELUS Corporation ( TSE:T ) has announced that it will be increasing its dividend from last year's comparable payment...   \n",
       "3                                                                                                                                                                                                                                                                                                                                                                                             Telus’s efforts included company executives meeting with political leaders to try to persuade them to reject the takeover   \n",
       "4   In its effort to win takeover approval, telecom provider Rogers Communications Inc on Monday presented documents to a tribunal that show Canada's second-largest telecom company Telus Corp attempted to sabotage Rogers' C$20 billion ($15 billion) deal to buy Shaw Communications Inc.  Challenging Canadian regulators' rejection of the deal on anti-trust grounds, Rogers may seek to argue that Telus wanted to kill the acquisition because it would increase cellphone competition, benefiting Canadian...   \n",
       "5                                                                                                                                                                                                                                                                                                                                                                                                                                                                 DTEGY vs. TU: Which Stock Is the Better Value Option?   \n",
       "6                                                                                                                                                                                                                                                                                                                                                                                              While some investors are already well versed in financial metrics (hat tip), this article is for those who would like...   \n",
       "7                                                                                                                                                                                                                                                                                                                                                                                           TELUS (TU) third-quarter performance boosted by high service revenue in TELUS technology solutions and TELUS International.   \n",
       "8   Telus Corp (NYSE: TU) reported third-quarter FY22 operating revenues and other income growth of 9.9% year-on-year to CA$4.67 billion. Total telecom subscriber connections grew 6.3% Y/Y to 17.7 million. It made 347,000 new customer net additions in the quarter, up 27,000 over last year, including 150,000 mobile phones, 124,000 connected devices, 36,000 internet, 25,000 security, and 18,000 TV customer connections. The mobile phone churn was 0.95%. Adjusted basic EPS was CA$0.34, up 17% Y/Y. A...   \n",
       "9                                                                                                                                                                                                                                                                                                                                  Telus (TU) delivered earnings and revenue surprises of 4% and 1.93%, respectively, for the quarter ended September 2022. Do the numbers hold clues to what lies ahead for the stock?   \n",
       "10                                                                                                                                                                                                                                                                                                                                                                               Telus (TU) is seeing favorable earnings estimate revision activity and has a positive Zacks Earnings ESP heading into earnings season.   \n",
       "11                                                                                                                                                                                                                                                                                                                               BCE (BCE) delivered earnings and revenue surprises of 4.69% and 2.66%, respectively, for the quarter ended September 2022. Do the numbers hold clues to what lies ahead for the stock?   \n",
       "12                                                                                                                                                                                                                                                                                                                                                                                                      Telus implemented 1.5% charge last month for most wireless, home-service customers who pay bills by credit card   \n",
       "13                                                                                                                                                                                                                                                                                                               Shenandoah Telecom (SHEN) delivered earnings and revenue surprises of -200% and 1.49%, respectively, for the quarter ended September 2022. Do the numbers hold clues to what lies ahead for the stock?   \n",
       "14                                                                                                                                                                                                                                                                                                                                                                                                                      Halliburton Company and M.D.C. Holdings are part of the Zacks Bull and Bear of the Day article.   \n",
       "15                                                                                                                                                                                                                                                                                                                                    USM, TU and CMTL are poised to benefit from higher demand for scalable infrastructure for seamless connectivity amid a wide proliferation of IoT and a steady pace of 5G rollout.   \n",
       "16                                                                                                                                                                                               In this article, we discuss 10 best TSX stocks to buy now. If you want to see more stocks in this selection, check out 5 Best TSX Stocks To Buy Now. Finance Minister Chrystia Freeland warned Canadians on October 19, saying the next few months will be hard as increasing interest rates erode a once-thriving […]   \n",
       "17                                                                                                                                                                                                                                                                                                                                                                                                                              TELUS' (TU) performance is benefiting from continued momentum in both business segments   \n",
       "18                                                                                                                                                                                                                                                                                                                                                                                      Wondering how to pick strong, market-beating stocks for your investment portfolio? Look no further than the Zacks Style Scores.   \n",
       "19                                                                                                                                                                                                                                                                                                                                                                                                  W.R. Berkley, Crocs, Boyd Gaming, Boise Cascade and TELUS have been highlighted in this Screen of The Week article.   \n",
       "20                                                                                                                                                                                                                                                                             Consistent sales growth is vital for the survival of a business, even during an economic slowdown. Let's check W.R. Berkley (WRB), Crocs (CROX), Boyd Gaming (BYD), Boise Cascade (BCC) & TELUS (TU) that are recording top-line growth.   \n",
       "21                                                                                                                                                                                                                                                                                                                                                                                                                                                                  TEF vs. TU: Which Stock Is the Better Value Option?   \n",
       "22                                                                                                                                                                                         In this article, we discuss 10 best telecom stocks to buy right now. If you want to read about some more telecom stocks to buy right now, go directly to 5 Best Telecom Stocks to Buy Right Now. Although cable broadband providers continue to control over 66% of the market share in the telecommunications business, […]   \n",
       "23                                                                                                                                                                                      In this article, we discuss 10 best cheap dividend stocks to buy now. You can skip our detailed analysis of the best dividend stocks and their returns over the years, and go directly to read 5 Best Cheap Dividend Stocks to Buy Now. Inflation and continuous interest rate hikes have brought dividend investing to the […]   \n",
       "24                                                                                                                                                                           In this article, we will take a look at the 10 Best Canadian Dividend Stocks. To skip our analysis of the Canadian economy, recent market trends, and dividend stocks, you can go directly to see the 5 Best Canadian Dividend Stocks. Dividend stocks are the shares of publicly listed companies that regularly distribute a portion […]   \n",
       "25                                                                                                                                                                                                                                                                                                                                                                                              If you're looking for a multi-bagger, there's a few things to keep an eye out for. Ideally, a business will show two...   \n",
       "26                                                                                                                                                                                                                                                                                                                                                                                                                                                                  TEF vs. TU: Which Stock Is the Better Value Option?   \n",
       "27                                                                                                                                                                                                                                                                                                                                         Whether you're a value, growth, or momentum investor, finding strong stocks becomes easier with the Zacks Style Scores, a top feature of the Zacks Premium research service.   \n",
       "28                                                                                                                                                                                                                                                                                                                                                                                      Wondering how to pick strong, market-beating stocks for your investment portfolio? Look no further than the Zacks Style Scores.   \n",
       "29                                                                                                                                                                                                                       The accelerated pace of 5G deployment and demand for scalable infrastructure should help the Zacks Diversified Communication Services industry thrive despite short-term woes. DTEGY, TU and TEF are well-positioned to make the most of the infrastructure upgrade for seamless connectivity.   \n",
       "30                                                                                                                                                                                                                                                                                                                                                                                                             Telus finalized the LifeWorks deal for $2.3 billion, plans to roll it into its growing Telus Health unit   \n",
       "31                                                                                                                                                                                                                                                                                                                                                                                      Wondering how to pick strong, market-beating stocks for your investment portfolio? Look no further than the Zacks Style Scores.   \n",
       "32                                                                                                                                                                                                                                                                                                                                                                                                 Passive investing in index funds can generate returns that roughly match the overall market. But you can do a lot...   \n",
       "33                                                                                                                                                                                                                                                                                                                                                             TELUS (TU) had inked an agreement to acquire Canada-based LifeWorks to expand its presence in the lucrative digital health services market in June 2022.   \n",
       "34                                                                                                                                                                                                                                                                                                                                                                                                                                       Telus has asked the CRTC for approval to charge a 1.5% fee starting in October   \n",
       "35                                                                                                                                                                                                                                                                                                                                                                                                                                                                TU vs. TLSYY: Which Stock Is the Better Value Option?   \n",
       "36                                                                                                                                                                                                                                                                                                                                                                  The Zacks Style Scores offers investors a way to easily find top-rated stocks based on their investing style. Here's why you should take advantage.   \n",
       "37                                                                                                                                                                                                                                                                                                                                                                                   TELUS Corporation (TU) second-quarter 2022 performance benefits from higher mobile network revenues and premium bundled offerings.   \n",
       "38                                                                                                                                                                                                                                                                                                                                  Telus (TU) delivered earnings and revenue surprises of 13.64% and 0.25%, respectively, for the quarter ended June 2022. Do the numbers hold clues to what lies ahead for the stock?   \n",
       "39                                                                                                                                                                                                                                                                                                                  New Jersey Resources (NJR) delivered earnings and revenue surprises of -150% and 34.14%, respectively, for the quarter ended June 2022. Do the numbers hold clues to what lies ahead for the stock?   \n",
       "40                                                                                                                                                                             In this article, we discuss the 10 undervalued Canadian stocks to buy now. If you want to read about some more undervalued Canadian stocks, go directly to 5 Undervalued Canadian Stocks to Buy Now. Major indexes of the stock market in Canada, like the S&P/TSX Composite, have so far managed to outperform other global indices […]   \n",
       "41                                                                                                                                                                                                                                                                                                                                               Telus (TU) doesn't possess the right combination of the two key ingredients for a likely earnings beat in its upcoming report. Get prepared with the key expectations.   \n",
       "42                                                                                                                                                                                                                                                                                                                        Adverse foreign currency translations, high operating costs for 5G deployments and fiber expansion and divestment are likely to have led to soft revenues for AT&T (T) in the second quarter.   \n",
       "43                                                                                                                                                                                                                             The average of price targets set by Wall Street analysts indicates a potential upside of 25.8% in Telus (TU). While the effectiveness of this highly sought-after metric is questionable, the positive trend in earnings estimate revisions might translate into an upside in the stock.   \n",
       "44                                                                                                                                                                                                                                                                                                                                                                                                                                                                DTEGY vs. TU: Which Stock Is the Better Value Option?   \n",
       "45                                                                                                                                                                                  In this article, we discuss 10 stocks Canadian investors love. If you want to read about some more Canadian stocks, go directly to 5 Stocks Canadian Investors Love. In mid-June, the central bank in the United States raised the benchmark interest rate by 75 basis points, the biggest rate hike since 1994. The bank cited […]   \n",
       "46                                                                                                                                                                                                                                                                                                                                                                          TELUS (TU) new headquarters will create more than 1000 jobs and provide housing to more than 1,600 local team members, per company reports.   \n",
       "47                                                                                                                                                                                                                                                                                                                                                                         TELUS Corporation (TU) invests C$430 million and C$10 million across Calgary and Haida Gwaii, respectively, to enhance network connectivity.   \n",
       "48                                                                                                                                                                                                                                                                                                                                                                                           The big shareholder groups in TELUS Corporation ( TSE:T ) have power over the company. Generally speaking, as a company...   \n",
       "\n",
       "   Sentiment     Score Sentiment2    Score2  \n",
       "0   POSITIVE  0.999457   POSITIVE  0.994583  \n",
       "1   NEGATIVE  0.892858   NEGATIVE  0.999047  \n",
       "2   NEGATIVE  0.988017   NEGATIVE  0.933608  \n",
       "3   NEGATIVE  0.997785   NEGATIVE  0.913936  \n",
       "4   NEGATIVE  0.994781   NEGATIVE  0.996364  \n",
       "5   NEGATIVE  0.998896   NEGATIVE  0.998626  \n",
       "6   NEGATIVE  0.999067   POSITIVE  0.996413  \n",
       "7   NEGATIVE  0.692262   POSITIVE  0.791908  \n",
       "8   NEGATIVE  0.561149   NEGATIVE  0.983207  \n",
       "9   NEGATIVE  0.955190   NEGATIVE  0.994703  \n",
       "10  NEGATIVE  0.997798   POSITIVE  0.998531  \n",
       "11  NEGATIVE  0.921792   NEGATIVE  0.991835  \n",
       "12  POSITIVE  0.974716   NEGATIVE  0.951092  \n",
       "13  NEGATIVE  0.999294   NEGATIVE  0.986180  \n",
       "14  POSITIVE  0.994775   POSITIVE  0.797511  \n",
       "15  NEGATIVE  0.974039   POSITIVE  0.995971  \n",
       "16  POSITIVE  0.999652   NEGATIVE  0.981137  \n",
       "17  NEGATIVE  0.994778   POSITIVE  0.999602  \n",
       "18  POSITIVE  0.992807   POSITIVE  0.972559  \n",
       "19  POSITIVE  0.988196   POSITIVE  0.998186  \n",
       "20  POSITIVE  0.999484   POSITIVE  0.999790  \n",
       "21  NEGATIVE  0.999223   NEGATIVE  0.998727  \n",
       "22  POSITIVE  0.999606   POSITIVE  0.702828  \n",
       "23  POSITIVE  0.993969   NEGATIVE  0.863058  \n",
       "24  POSITIVE  0.999667   POSITIVE  0.997285  \n",
       "25  NEGATIVE  0.999341   POSITIVE  0.994703  \n",
       "26  NEGATIVE  0.998727   NEGATIVE  0.998727  \n",
       "27  POSITIVE  0.985008   POSITIVE  0.988758  \n",
       "28  NEGATIVE  0.821055   POSITIVE  0.972559  \n",
       "29  NEGATIVE  0.951531   POSITIVE  0.997666  \n",
       "30  POSITIVE  0.992128   POSITIVE  0.994748  \n",
       "31  POSITIVE  0.998283   POSITIVE  0.972559  \n",
       "32  NEGATIVE  0.952150   POSITIVE  0.997491  \n",
       "33  POSITIVE  0.798274   POSITIVE  0.856943  \n",
       "34  NEGATIVE  0.996684   NEGATIVE  0.975548  \n",
       "35  NEGATIVE  0.995367   NEGATIVE  0.998135  \n",
       "36  POSITIVE  0.656753   POSITIVE  0.997777  \n",
       "37  NEGATIVE  0.869352   POSITIVE  0.993693  \n",
       "38  NEGATIVE  0.952956   NEGATIVE  0.995295  \n",
       "39  NEGATIVE  0.998883   NEGATIVE  0.973600  \n",
       "40  NEGATIVE  0.977195   NEGATIVE  0.560107  \n",
       "41  POSITIVE  0.924825   NEGATIVE  0.999748  \n",
       "42  NEGATIVE  0.998305   NEGATIVE  0.999572  \n",
       "43  NEGATIVE  0.991505   NEGATIVE  0.961102  \n",
       "44  NEGATIVE  0.998626   NEGATIVE  0.998626  \n",
       "45  POSITIVE  0.999716   POSITIVE  0.979115  \n",
       "46  POSITIVE  0.817481   POSITIVE  0.995409  \n",
       "47  POSITIVE  0.998772   POSITIVE  0.985059  \n",
       "48  NEGATIVE  0.997710   POSITIVE  0.992960  "
      ]
     },
     "execution_count": 73,
     "metadata": {},
     "output_type": "execute_result"
    }
   ],
   "source": [
    "news_df"
   ]
  },
  {
   "cell_type": "code",
   "execution_count": 13,
   "metadata": {},
   "outputs": [
    {
     "data": {
      "text/plain": [
       "<AxesSubplot:xlabel='Sentiment', ylabel='Count'>"
      ]
     },
     "execution_count": 13,
     "metadata": {},
     "output_type": "execute_result"
    },
    {
     "data": {
      "image/png": "[encoded data removed]",
      "text/plain": [
       "<Figure size 432x288 with 1 Axes>"
      ]
     },
     "metadata": {
      "needs_background": "light"
     },
     "output_type": "display_data"
    }
   ],
   "source": [
    "sns.histplot(x = 'Sentiment', data = news_df[news_df['Score'] > 0.8], hue = 'Sentiment', hue_order=['POSITIVE', 'NEGATIVE'])"
   ]
  },
  {
   "cell_type": "code",
   "execution_count": 14,
   "metadata": {},
   "outputs": [
    {
     "data": {
      "text/plain": [
       "<AxesSubplot:xlabel='Sentiment2', ylabel='Count'>"
      ]
     },
     "execution_count": 14,
     "metadata": {},
     "output_type": "execute_result"
    },
    {
     "data": {
      "image/png": "[encoded data removed]",
      "text/plain": [
       "<Figure size 432x288 with 1 Axes>"
      ]
     },
     "metadata": {
      "needs_background": "light"
     },
     "output_type": "display_data"
    }
   ],
   "source": [
    "sns.histplot(x = 'Sentiment2', data = news_df[news_df['Score2'] > 0.8], hue = 'Sentiment2', hue_order=['POSITIVE', 'NEGATIVE'])"
   ]
  },
  {
   "cell_type": "code",
   "execution_count": 15,
   "metadata": {},
   "outputs": [],
   "source": [
    "import sys\n",
    "sys.path.insert(1, 'C:/Users/Woon/Desktop/Columbia/Applied Analytics/Term3/Sentiment_SNP')\n",
    "\n",
    "import helper_functions\n",
    "from helper_functions import *"
   ]
  },
  {
   "cell_type": "code",
   "execution_count": 16,
   "metadata": {},
   "outputs": [
    {
     "data": {
      "text/html": [
       "        <script type=\"text/javascript\">\n",
       "        window.PlotlyConfig = {MathJaxConfig: 'local'};\n",
       "        if (window.MathJax && window.MathJax.Hub && window.MathJax.Hub.Config) {window.MathJax.Hub.Config({SVG: {font: \"STIX-Web\"}});}\n",
       "        if (typeof require !== 'undefined') {\n",
       "        require.undef(\"plotly\");\n",
       "        requirejs.config({\n",
       "            paths: {\n",
       "                'plotly': ['https://cdn.plot.ly/plotly-2.14.0.min']\n",
       "            }\n",
       "        });\n",
       "        require(['plotly'], function(Plotly) {\n",
       "            window._Plotly = Plotly;\n",
       "        });\n",
       "        }\n",
       "        </script>\n",
       "        "
      ]
     },
     "metadata": {},
     "output_type": "display_data"
    }
   ],
   "source": [
    "from collections import defaultdict\n",
    "from plotly import tools\n",
    "import plotly.offline as py\n",
    "py.init_notebook_mode(connected=True)\n"
   ]
  },
  {
   "attachments": {},
   "cell_type": "markdown",
   "metadata": {},
   "source": [
    "## Headline"
   ]
  },
  {
   "cell_type": "code",
   "execution_count": 17,
   "metadata": {},
   "outputs": [
    {
     "name": "stderr",
     "output_type": "stream",
     "text": [
      "c:\\Users\\Woon\\AppData\\Local\\Programs\\Python\\Python310\\lib\\site-packages\\plotly\\tools.py:460: DeprecationWarning:\n",
      "\n",
      "plotly.tools.make_subplots is deprecated, please use plotly.subplots.make_subplots instead\n",
      "\n"
     ]
    },
    {
     "data": {
      "application/vnd.plotly.v1+json": {
       "config": {
        "linkText": "Export to plot.ly",
        "plotlyServerURL": "https://plot.ly",
        "showLink": false
       },
       "data": [
        {
         "marker": {
          "color": "green"
         },
         "orientation": "h",
         "showlegend": false,
         "type": "bar",
         "x": [
          18,
          18,
          18,
          18,
          25,
          25,
          25,
          25,
          43,
          43
         ],
         "xaxis": "x",
         "y": [
          "More Than Broader",
          "Than Broader Markets",
          "Broader Markets What",
          "Markets What You",
          "Gains As Market",
          "As Market Dips",
          "Market Dips What",
          "Dips What You",
          "What You Should",
          "You Should Know"
         ],
         "yaxis": "y"
        }
       ],
       "layout": {
        "annotations": [
         {
          "font": {
           "size": 16
          },
          "showarrow": false,
          "text": "Frequent words",
          "x": 0.5,
          "xanchor": "center",
          "xref": "paper",
          "y": 1,
          "yanchor": "bottom",
          "yref": "paper"
         }
        ],
        "height": 600,
        "paper_bgcolor": "rgb(233,233,233)",
        "template": {
         "data": {
          "bar": [
           {
            "error_x": {
             "color": "#2a3f5f"
            },
            "error_y": {
             "color": "#2a3f5f"
            },
            "marker": {
             "line": {
              "color": "#E5ECF6",
              "width": 0.5
             },
             "pattern": {
              "fillmode": "overlay",
              "size": 10,
              "solidity": 0.2
             }
            },
            "type": "bar"
           }
          ],
          "barpolar": [
           {
            "marker": {
             "line": {
              "color": "#E5ECF6",
              "width": 0.5
             },
             "pattern": {
              "fillmode": "overlay",
              "size": 10,
              "solidity": 0.2
             }
            },
            "type": "barpolar"
           }
          ],
          "carpet": [
           {
            "aaxis": {
             "endlinecolor": "#2a3f5f",
             "gridcolor": "white",
             "linecolor": "white",
             "minorgridcolor": "white",
             "startlinecolor": "#2a3f5f"
            },
            "baxis": {
             "endlinecolor": "#2a3f5f",
             "gridcolor": "white",
             "linecolor": "white",
             "minorgridcolor": "white",
             "startlinecolor": "#2a3f5f"
            },
            "type": "carpet"
           }
          ],
          "choropleth": [
           {
            "colorbar": {
             "outlinewidth": 0,
             "ticks": ""
            },
            "type": "choropleth"
           }
          ],
          "contour": [
           {
            "colorbar": {
             "outlinewidth": 0,
             "ticks": ""
            },
            "colorscale": [
             [
              0,
              "#0d0887"
             ],
             [
              0.1111111111111111,
              "#46039f"
             ],
             [
              0.2222222222222222,
              "#7201a8"
             ],
             [
              0.3333333333333333,
              "#9c179e"
             ],
             [
              0.4444444444444444,
              "#bd3786"
             ],
             [
              0.5555555555555556,
              "#d8576b"
             ],
             [
              0.6666666666666666,
              "#ed7953"
             ],
             [
              0.7777777777777778,
              "#fb9f3a"
             ],
             [
              0.8888888888888888,
              "#fdca26"
             ],
             [
              1,
              "#f0f921"
             ]
            ],
            "type": "contour"
           }
          ],
          "contourcarpet": [
           {
            "colorbar": {
             "outlinewidth": 0,
             "ticks": ""
            },
            "type": "contourcarpet"
           }
          ],
          "heatmap": [
           {
            "colorbar": {
             "outlinewidth": 0,
             "ticks": ""
            },
            "colorscale": [
             [
              0,
              "#0d0887"
             ],
             [
              0.1111111111111111,
              "#46039f"
             ],
             [
              0.2222222222222222,
              "#7201a8"
             ],
             [
              0.3333333333333333,
              "#9c179e"
             ],
             [
              0.4444444444444444,
              "#bd3786"
             ],
             [
              0.5555555555555556,
              "#d8576b"
             ],
             [
              0.6666666666666666,
              "#ed7953"
             ],
             [
              0.7777777777777778,
              "#fb9f3a"
             ],
             [
              0.8888888888888888,
              "#fdca26"
             ],
             [
              1,
              "#f0f921"
             ]
            ],
            "type": "heatmap"
           }
          ],
          "heatmapgl": [
           {
            "colorbar": {
             "outlinewidth": 0,
             "ticks": ""
            },
            "colorscale": [
             [
              0,
              "#0d0887"
             ],
             [
              0.1111111111111111,
              "#46039f"
             ],
             [
              0.2222222222222222,
              "#7201a8"
             ],
             [
              0.3333333333333333,
              "#9c179e"
             ],
             [
              0.4444444444444444,
              "#bd3786"
             ],
             [
              0.5555555555555556,
              "#d8576b"
             ],
             [
              0.6666666666666666,
              "#ed7953"
             ],
             [
              0.7777777777777778,
              "#fb9f3a"
             ],
             [
              0.8888888888888888,
              "#fdca26"
             ],
             [
              1,
              "#f0f921"
             ]
            ],
            "type": "heatmapgl"
           }
          ],
          "histogram": [
           {
            "marker": {
             "pattern": {
              "fillmode": "overlay",
              "size": 10,
              "solidity": 0.2
             }
            },
            "type": "histogram"
           }
          ],
          "histogram2d": [
           {
            "colorbar": {
             "outlinewidth": 0,
             "ticks": ""
            },
            "colorscale": [
             [
              0,
              "#0d0887"
             ],
             [
              0.1111111111111111,
              "#46039f"
             ],
             [
              0.2222222222222222,
              "#7201a8"
             ],
             [
              0.3333333333333333,
              "#9c179e"
             ],
             [
              0.4444444444444444,
              "#bd3786"
             ],
             [
              0.5555555555555556,
              "#d8576b"
             ],
             [
              0.6666666666666666,
              "#ed7953"
             ],
             [
              0.7777777777777778,
              "#fb9f3a"
             ],
             [
              0.8888888888888888,
              "#fdca26"
             ],
             [
              1,
              "#f0f921"
             ]
            ],
            "type": "histogram2d"
           }
          ],
          "histogram2dcontour": [
           {
            "colorbar": {
             "outlinewidth": 0,
             "ticks": ""
            },
            "colorscale": [
             [
              0,
              "#0d0887"
             ],
             [
              0.1111111111111111,
              "#46039f"
             ],
             [
              0.2222222222222222,
              "#7201a8"
             ],
             [
              0.3333333333333333,
              "#9c179e"
             ],
             [
              0.4444444444444444,
              "#bd3786"
             ],
             [
              0.5555555555555556,
              "#d8576b"
             ],
             [
              0.6666666666666666,
              "#ed7953"
             ],
             [
              0.7777777777777778,
              "#fb9f3a"
             ],
             [
              0.8888888888888888,
              "#fdca26"
             ],
             [
              1,
              "#f0f921"
             ]
            ],
            "type": "histogram2dcontour"
           }
          ],
          "mesh3d": [
           {
            "colorbar": {
             "outlinewidth": 0,
             "ticks": ""
            },
            "type": "mesh3d"
           }
          ],
          "parcoords": [
           {
            "line": {
             "colorbar": {
              "outlinewidth": 0,
              "ticks": ""
             }
            },
            "type": "parcoords"
           }
          ],
          "pie": [
           {
            "automargin": true,
            "type": "pie"
           }
          ],
          "scatter": [
           {
            "fillpattern": {
             "fillmode": "overlay",
             "size": 10,
             "solidity": 0.2
            },
            "type": "scatter"
           }
          ],
          "scatter3d": [
           {
            "line": {
             "colorbar": {
              "outlinewidth": 0,
              "ticks": ""
             }
            },
            "marker": {
             "colorbar": {
              "outlinewidth": 0,
              "ticks": ""
             }
            },
            "type": "scatter3d"
           }
          ],
          "scattercarpet": [
           {
            "marker": {
             "colorbar": {
              "outlinewidth": 0,
              "ticks": ""
             }
            },
            "type": "scattercarpet"
           }
          ],
          "scattergeo": [
           {
            "marker": {
             "colorbar": {
              "outlinewidth": 0,
              "ticks": ""
             }
            },
            "type": "scattergeo"
           }
          ],
          "scattergl": [
           {
            "marker": {
             "colorbar": {
              "outlinewidth": 0,
              "ticks": ""
             }
            },
            "type": "scattergl"
           }
          ],
          "scattermapbox": [
           {
            "marker": {
             "colorbar": {
              "outlinewidth": 0,
              "ticks": ""
             }
            },
            "type": "scattermapbox"
           }
          ],
          "scatterpolar": [
           {
            "marker": {
             "colorbar": {
              "outlinewidth": 0,
              "ticks": ""
             }
            },
            "type": "scatterpolar"
           }
          ],
          "scatterpolargl": [
           {
            "marker": {
             "colorbar": {
              "outlinewidth": 0,
              "ticks": ""
             }
            },
            "type": "scatterpolargl"
           }
          ],
          "scatterternary": [
           {
            "marker": {
             "colorbar": {
              "outlinewidth": 0,
              "ticks": ""
             }
            },
            "type": "scatterternary"
           }
          ],
          "surface": [
           {
            "colorbar": {
             "outlinewidth": 0,
             "ticks": ""
            },
            "colorscale": [
             [
              0,
              "#0d0887"
             ],
             [
              0.1111111111111111,
              "#46039f"
             ],
             [
              0.2222222222222222,
              "#7201a8"
             ],
             [
              0.3333333333333333,
              "#9c179e"
             ],
             [
              0.4444444444444444,
              "#bd3786"
             ],
             [
              0.5555555555555556,
              "#d8576b"
             ],
             [
              0.6666666666666666,
              "#ed7953"
             ],
             [
              0.7777777777777778,
              "#fb9f3a"
             ],
             [
              0.8888888888888888,
              "#fdca26"
             ],
             [
              1,
              "#f0f921"
             ]
            ],
            "type": "surface"
           }
          ],
          "table": [
           {
            "cells": {
             "fill": {
              "color": "#EBF0F8"
             },
             "line": {
              "color": "white"
             }
            },
            "header": {
             "fill": {
              "color": "#C8D4E3"
             },
             "line": {
              "color": "white"
             }
            },
            "type": "table"
           }
          ]
         },
         "layout": {
          "annotationdefaults": {
           "arrowcolor": "#2a3f5f",
           "arrowhead": 0,
           "arrowwidth": 1
          },
          "autotypenumbers": "strict",
          "coloraxis": {
           "colorbar": {
            "outlinewidth": 0,
            "ticks": ""
           }
          },
          "colorscale": {
           "diverging": [
            [
             0,
             "#8e0152"
            ],
            [
             0.1,
             "#c51b7d"
            ],
            [
             0.2,
             "#de77ae"
            ],
            [
             0.3,
             "#f1b6da"
            ],
            [
             0.4,
             "#fde0ef"
            ],
            [
             0.5,
             "#f7f7f7"
            ],
            [
             0.6,
             "#e6f5d0"
            ],
            [
             0.7,
             "#b8e186"
            ],
            [
             0.8,
             "#7fbc41"
            ],
            [
             0.9,
             "#4d9221"
            ],
            [
             1,
             "#276419"
            ]
           ],
           "sequential": [
            [
             0,
             "#0d0887"
            ],
            [
             0.1111111111111111,
             "#46039f"
            ],
            [
             0.2222222222222222,
             "#7201a8"
            ],
            [
             0.3333333333333333,
             "#9c179e"
            ],
            [
             0.4444444444444444,
             "#bd3786"
            ],
            [
             0.5555555555555556,
             "#d8576b"
            ],
            [
             0.6666666666666666,
             "#ed7953"
            ],
            [
             0.7777777777777778,
             "#fb9f3a"
            ],
            [
             0.8888888888888888,
             "#fdca26"
            ],
            [
             1,
             "#f0f921"
            ]
           ],
           "sequentialminus": [
            [
             0,
             "#0d0887"
            ],
            [
             0.1111111111111111,
             "#46039f"
            ],
            [
             0.2222222222222222,
             "#7201a8"
            ],
            [
             0.3333333333333333,
             "#9c179e"
            ],
            [
             0.4444444444444444,
             "#bd3786"
            ],
            [
             0.5555555555555556,
             "#d8576b"
            ],
            [
             0.6666666666666666,
             "#ed7953"
            ],
            [
             0.7777777777777778,
             "#fb9f3a"
            ],
            [
             0.8888888888888888,
             "#fdca26"
            ],
            [
             1,
             "#f0f921"
            ]
           ]
          },
          "colorway": [
           "#636efa",
           "#EF553B",
           "#00cc96",
           "#ab63fa",
           "#FFA15A",
           "#19d3f3",
           "#FF6692",
           "#B6E880",
           "#FF97FF",
           "#FECB52"
          ],
          "font": {
           "color": "#2a3f5f"
          },
          "geo": {
           "bgcolor": "white",
           "lakecolor": "white",
           "landcolor": "#E5ECF6",
           "showlakes": true,
           "showland": true,
           "subunitcolor": "white"
          },
          "hoverlabel": {
           "align": "left"
          },
          "hovermode": "closest",
          "mapbox": {
           "style": "light"
          },
          "paper_bgcolor": "white",
          "plot_bgcolor": "#E5ECF6",
          "polar": {
           "angularaxis": {
            "gridcolor": "white",
            "linecolor": "white",
            "ticks": ""
           },
           "bgcolor": "#E5ECF6",
           "radialaxis": {
            "gridcolor": "white",
            "linecolor": "white",
            "ticks": ""
           }
          },
          "scene": {
           "xaxis": {
            "backgroundcolor": "#E5ECF6",
            "gridcolor": "white",
            "gridwidth": 2,
            "linecolor": "white",
            "showbackground": true,
            "ticks": "",
            "zerolinecolor": "white"
           },
           "yaxis": {
            "backgroundcolor": "#E5ECF6",
            "gridcolor": "white",
            "gridwidth": 2,
            "linecolor": "white",
            "showbackground": true,
            "ticks": "",
            "zerolinecolor": "white"
           },
           "zaxis": {
            "backgroundcolor": "#E5ECF6",
            "gridcolor": "white",
            "gridwidth": 2,
            "linecolor": "white",
            "showbackground": true,
            "ticks": "",
            "zerolinecolor": "white"
           }
          },
          "shapedefaults": {
           "line": {
            "color": "#2a3f5f"
           }
          },
          "ternary": {
           "aaxis": {
            "gridcolor": "white",
            "linecolor": "white",
            "ticks": ""
           },
           "baxis": {
            "gridcolor": "white",
            "linecolor": "white",
            "ticks": ""
           },
           "bgcolor": "#E5ECF6",
           "caxis": {
            "gridcolor": "white",
            "linecolor": "white",
            "ticks": ""
           }
          },
          "title": {
           "x": 0.05
          },
          "xaxis": {
           "automargin": true,
           "gridcolor": "white",
           "linecolor": "white",
           "ticks": "",
           "title": {
            "standoff": 15
           },
           "zerolinecolor": "white",
           "zerolinewidth": 2
          },
          "yaxis": {
           "automargin": true,
           "gridcolor": "white",
           "linecolor": "white",
           "ticks": "",
           "title": {
            "standoff": 15
           },
           "zerolinecolor": "white",
           "zerolinewidth": 2
          }
         }
        },
        "title": {
         "text": "Word Count Plots"
        },
        "width": 600,
        "xaxis": {
         "anchor": "y",
         "domain": [
          0,
          1
         ]
        },
        "yaxis": {
         "anchor": "x",
         "domain": [
          0,
          1
         ]
        }
       }
      },
      "text/html": [
       "<div>                            <div id=\"79d7e264-ed8f-4edf-9d9d-30a77d392a4a\" class=\"plotly-graph-div\" style=\"height:600px; width:600px;\"></div>            <script type=\"text/javascript\">                require([\"plotly\"], function(Plotly) {                    window.PLOTLYENV=window.PLOTLYENV || {};                                    if (document.getElementById(\"79d7e264-ed8f-4edf-9d9d-30a77d392a4a\")) {                    Plotly.newPlot(                        \"79d7e264-ed8f-4edf-9d9d-30a77d392a4a\",                        [{\"marker\":{\"color\":\"green\"},\"orientation\":\"h\",\"showlegend\":false,\"x\":[18,18,18,18,25,25,25,25,43,43],\"xaxis\":\"x\",\"y\":[\"More Than Broader\",\"Than Broader Markets\",\"Broader Markets What\",\"Markets What You\",\"Gains As Market\",\"As Market Dips\",\"Market Dips What\",\"Dips What You\",\"What You Should\",\"You Should Know\"],\"yaxis\":\"y\",\"type\":\"bar\"}],                        {\"annotations\":[{\"font\":{\"size\":16},\"showarrow\":false,\"text\":\"Frequent words\",\"x\":0.5,\"xanchor\":\"center\",\"xref\":\"paper\",\"y\":1.0,\"yanchor\":\"bottom\",\"yref\":\"paper\"}],\"height\":600,\"paper_bgcolor\":\"rgb(233,233,233)\",\"template\":{\"data\":{\"barpolar\":[{\"marker\":{\"line\":{\"color\":\"#E5ECF6\",\"width\":0.5},\"pattern\":{\"fillmode\":\"overlay\",\"size\":10,\"solidity\":0.2}},\"type\":\"barpolar\"}],\"bar\":[{\"error_x\":{\"color\":\"#2a3f5f\"},\"error_y\":{\"color\":\"#2a3f5f\"},\"marker\":{\"line\":{\"color\":\"#E5ECF6\",\"width\":0.5},\"pattern\":{\"fillmode\":\"overlay\",\"size\":10,\"solidity\":0.2}},\"type\":\"bar\"}],\"carpet\":[{\"aaxis\":{\"endlinecolor\":\"#2a3f5f\",\"gridcolor\":\"white\",\"linecolor\":\"white\",\"minorgridcolor\":\"white\",\"startlinecolor\":\"#2a3f5f\"},\"baxis\":{\"endlinecolor\":\"#2a3f5f\",\"gridcolor\":\"white\",\"linecolor\":\"white\",\"minorgridcolor\":\"white\",\"startlinecolor\":\"#2a3f5f\"},\"type\":\"carpet\"}],\"choropleth\":[{\"colorbar\":{\"outlinewidth\":0,\"ticks\":\"\"},\"type\":\"choropleth\"}],\"contourcarpet\":[{\"colorbar\":{\"outlinewidth\":0,\"ticks\":\"\"},\"type\":\"contourcarpet\"}],\"contour\":[{\"colorbar\":{\"outlinewidth\":0,\"ticks\":\"\"},\"colorscale\":[[0.0,\"#0d0887\"],[0.1111111111111111,\"#46039f\"],[0.2222222222222222,\"#7201a8\"],[0.3333333333333333,\"#9c179e\"],[0.4444444444444444,\"#bd3786\"],[0.5555555555555556,\"#d8576b\"],[0.6666666666666666,\"#ed7953\"],[0.7777777777777778,\"#fb9f3a\"],[0.8888888888888888,\"#fdca26\"],[1.0,\"#f0f921\"]],\"type\":\"contour\"}],\"heatmapgl\":[{\"colorbar\":{\"outlinewidth\":0,\"ticks\":\"\"},\"colorscale\":[[0.0,\"#0d0887\"],[0.1111111111111111,\"#46039f\"],[0.2222222222222222,\"#7201a8\"],[0.3333333333333333,\"#9c179e\"],[0.4444444444444444,\"#bd3786\"],[0.5555555555555556,\"#d8576b\"],[0.6666666666666666,\"#ed7953\"],[0.7777777777777778,\"#fb9f3a\"],[0.8888888888888888,\"#fdca26\"],[1.0,\"#f0f921\"]],\"type\":\"heatmapgl\"}],\"heatmap\":[{\"colorbar\":{\"outlinewidth\":0,\"ticks\":\"\"},\"colorscale\":[[0.0,\"#0d0887\"],[0.1111111111111111,\"#46039f\"],[0.2222222222222222,\"#7201a8\"],[0.3333333333333333,\"#9c179e\"],[0.4444444444444444,\"#bd3786\"],[0.5555555555555556,\"#d8576b\"],[0.6666666666666666,\"#ed7953\"],[0.7777777777777778,\"#fb9f3a\"],[0.8888888888888888,\"#fdca26\"],[1.0,\"#f0f921\"]],\"type\":\"heatmap\"}],\"histogram2dcontour\":[{\"colorbar\":{\"outlinewidth\":0,\"ticks\":\"\"},\"colorscale\":[[0.0,\"#0d0887\"],[0.1111111111111111,\"#46039f\"],[0.2222222222222222,\"#7201a8\"],[0.3333333333333333,\"#9c179e\"],[0.4444444444444444,\"#bd3786\"],[0.5555555555555556,\"#d8576b\"],[0.6666666666666666,\"#ed7953\"],[0.7777777777777778,\"#fb9f3a\"],[0.8888888888888888,\"#fdca26\"],[1.0,\"#f0f921\"]],\"type\":\"histogram2dcontour\"}],\"histogram2d\":[{\"colorbar\":{\"outlinewidth\":0,\"ticks\":\"\"},\"colorscale\":[[0.0,\"#0d0887\"],[0.1111111111111111,\"#46039f\"],[0.2222222222222222,\"#7201a8\"],[0.3333333333333333,\"#9c179e\"],[0.4444444444444444,\"#bd3786\"],[0.5555555555555556,\"#d8576b\"],[0.6666666666666666,\"#ed7953\"],[0.7777777777777778,\"#fb9f3a\"],[0.8888888888888888,\"#fdca26\"],[1.0,\"#f0f921\"]],\"type\":\"histogram2d\"}],\"histogram\":[{\"marker\":{\"pattern\":{\"fillmode\":\"overlay\",\"size\":10,\"solidity\":0.2}},\"type\":\"histogram\"}],\"mesh3d\":[{\"colorbar\":{\"outlinewidth\":0,\"ticks\":\"\"},\"type\":\"mesh3d\"}],\"parcoords\":[{\"line\":{\"colorbar\":{\"outlinewidth\":0,\"ticks\":\"\"}},\"type\":\"parcoords\"}],\"pie\":[{\"automargin\":true,\"type\":\"pie\"}],\"scatter3d\":[{\"line\":{\"colorbar\":{\"outlinewidth\":0,\"ticks\":\"\"}},\"marker\":{\"colorbar\":{\"outlinewidth\":0,\"ticks\":\"\"}},\"type\":\"scatter3d\"}],\"scattercarpet\":[{\"marker\":{\"colorbar\":{\"outlinewidth\":0,\"ticks\":\"\"}},\"type\":\"scattercarpet\"}],\"scattergeo\":[{\"marker\":{\"colorbar\":{\"outlinewidth\":0,\"ticks\":\"\"}},\"type\":\"scattergeo\"}],\"scattergl\":[{\"marker\":{\"colorbar\":{\"outlinewidth\":0,\"ticks\":\"\"}},\"type\":\"scattergl\"}],\"scattermapbox\":[{\"marker\":{\"colorbar\":{\"outlinewidth\":0,\"ticks\":\"\"}},\"type\":\"scattermapbox\"}],\"scatterpolargl\":[{\"marker\":{\"colorbar\":{\"outlinewidth\":0,\"ticks\":\"\"}},\"type\":\"scatterpolargl\"}],\"scatterpolar\":[{\"marker\":{\"colorbar\":{\"outlinewidth\":0,\"ticks\":\"\"}},\"type\":\"scatterpolar\"}],\"scatter\":[{\"fillpattern\":{\"fillmode\":\"overlay\",\"size\":10,\"solidity\":0.2},\"type\":\"scatter\"}],\"scatterternary\":[{\"marker\":{\"colorbar\":{\"outlinewidth\":0,\"ticks\":\"\"}},\"type\":\"scatterternary\"}],\"surface\":[{\"colorbar\":{\"outlinewidth\":0,\"ticks\":\"\"},\"colorscale\":[[0.0,\"#0d0887\"],[0.1111111111111111,\"#46039f\"],[0.2222222222222222,\"#7201a8\"],[0.3333333333333333,\"#9c179e\"],[0.4444444444444444,\"#bd3786\"],[0.5555555555555556,\"#d8576b\"],[0.6666666666666666,\"#ed7953\"],[0.7777777777777778,\"#fb9f3a\"],[0.8888888888888888,\"#fdca26\"],[1.0,\"#f0f921\"]],\"type\":\"surface\"}],\"table\":[{\"cells\":{\"fill\":{\"color\":\"#EBF0F8\"},\"line\":{\"color\":\"white\"}},\"header\":{\"fill\":{\"color\":\"#C8D4E3\"},\"line\":{\"color\":\"white\"}},\"type\":\"table\"}]},\"layout\":{\"annotationdefaults\":{\"arrowcolor\":\"#2a3f5f\",\"arrowhead\":0,\"arrowwidth\":1},\"autotypenumbers\":\"strict\",\"coloraxis\":{\"colorbar\":{\"outlinewidth\":0,\"ticks\":\"\"}},\"colorscale\":{\"diverging\":[[0,\"#8e0152\"],[0.1,\"#c51b7d\"],[0.2,\"#de77ae\"],[0.3,\"#f1b6da\"],[0.4,\"#fde0ef\"],[0.5,\"#f7f7f7\"],[0.6,\"#e6f5d0\"],[0.7,\"#b8e186\"],[0.8,\"#7fbc41\"],[0.9,\"#4d9221\"],[1,\"#276419\"]],\"sequential\":[[0.0,\"#0d0887\"],[0.1111111111111111,\"#46039f\"],[0.2222222222222222,\"#7201a8\"],[0.3333333333333333,\"#9c179e\"],[0.4444444444444444,\"#bd3786\"],[0.5555555555555556,\"#d8576b\"],[0.6666666666666666,\"#ed7953\"],[0.7777777777777778,\"#fb9f3a\"],[0.8888888888888888,\"#fdca26\"],[1.0,\"#f0f921\"]],\"sequentialminus\":[[0.0,\"#0d0887\"],[0.1111111111111111,\"#46039f\"],[0.2222222222222222,\"#7201a8\"],[0.3333333333333333,\"#9c179e\"],[0.4444444444444444,\"#bd3786\"],[0.5555555555555556,\"#d8576b\"],[0.6666666666666666,\"#ed7953\"],[0.7777777777777778,\"#fb9f3a\"],[0.8888888888888888,\"#fdca26\"],[1.0,\"#f0f921\"]]},\"colorway\":[\"#636efa\",\"#EF553B\",\"#00cc96\",\"#ab63fa\",\"#FFA15A\",\"#19d3f3\",\"#FF6692\",\"#B6E880\",\"#FF97FF\",\"#FECB52\"],\"font\":{\"color\":\"#2a3f5f\"},\"geo\":{\"bgcolor\":\"white\",\"lakecolor\":\"white\",\"landcolor\":\"#E5ECF6\",\"showlakes\":true,\"showland\":true,\"subunitcolor\":\"white\"},\"hoverlabel\":{\"align\":\"left\"},\"hovermode\":\"closest\",\"mapbox\":{\"style\":\"light\"},\"paper_bgcolor\":\"white\",\"plot_bgcolor\":\"#E5ECF6\",\"polar\":{\"angularaxis\":{\"gridcolor\":\"white\",\"linecolor\":\"white\",\"ticks\":\"\"},\"bgcolor\":\"#E5ECF6\",\"radialaxis\":{\"gridcolor\":\"white\",\"linecolor\":\"white\",\"ticks\":\"\"}},\"scene\":{\"xaxis\":{\"backgroundcolor\":\"#E5ECF6\",\"gridcolor\":\"white\",\"gridwidth\":2,\"linecolor\":\"white\",\"showbackground\":true,\"ticks\":\"\",\"zerolinecolor\":\"white\"},\"yaxis\":{\"backgroundcolor\":\"#E5ECF6\",\"gridcolor\":\"white\",\"gridwidth\":2,\"linecolor\":\"white\",\"showbackground\":true,\"ticks\":\"\",\"zerolinecolor\":\"white\"},\"zaxis\":{\"backgroundcolor\":\"#E5ECF6\",\"gridcolor\":\"white\",\"gridwidth\":2,\"linecolor\":\"white\",\"showbackground\":true,\"ticks\":\"\",\"zerolinecolor\":\"white\"}},\"shapedefaults\":{\"line\":{\"color\":\"#2a3f5f\"}},\"ternary\":{\"aaxis\":{\"gridcolor\":\"white\",\"linecolor\":\"white\",\"ticks\":\"\"},\"baxis\":{\"gridcolor\":\"white\",\"linecolor\":\"white\",\"ticks\":\"\"},\"bgcolor\":\"#E5ECF6\",\"caxis\":{\"gridcolor\":\"white\",\"linecolor\":\"white\",\"ticks\":\"\"}},\"title\":{\"x\":0.05},\"xaxis\":{\"automargin\":true,\"gridcolor\":\"white\",\"linecolor\":\"white\",\"ticks\":\"\",\"title\":{\"standoff\":15},\"zerolinecolor\":\"white\",\"zerolinewidth\":2},\"yaxis\":{\"automargin\":true,\"gridcolor\":\"white\",\"linecolor\":\"white\",\"ticks\":\"\",\"title\":{\"standoff\":15},\"zerolinecolor\":\"white\",\"zerolinewidth\":2}}},\"title\":{\"text\":\"Word Count Plots\"},\"width\":600,\"xaxis\":{\"anchor\":\"y\",\"domain\":[0.0,1.0]},\"yaxis\":{\"anchor\":\"x\",\"domain\":[0.0,1.0]}},                        {\"responsive\": true}                    ).then(function(){\n",
       "                            \n",
       "var gd = document.getElementById('79d7e264-ed8f-4edf-9d9d-30a77d392a4a');\n",
       "var x = new MutationObserver(function (mutations, observer) {{\n",
       "        var display = window.getComputedStyle(gd).display;\n",
       "        if (!display || display === 'none') {{\n",
       "            console.log([gd, 'removed!']);\n",
       "            Plotly.purge(gd);\n",
       "            observer.disconnect();\n",
       "        }}\n",
       "}});\n",
       "\n",
       "// Listen for the removal of the full notebook cells\n",
       "var notebookContainer = gd.closest('#notebook-container');\n",
       "if (notebookContainer) {{\n",
       "    x.observe(notebookContainer, {childList: true});\n",
       "}}\n",
       "\n",
       "// Listen for the clearing of the current output cell\n",
       "var outputEl = gd.closest('.output');\n",
       "if (outputEl) {{\n",
       "    x.observe(outputEl, {childList: true});\n",
       "}}\n",
       "\n",
       "                        })                };                });            </script>        </div>"
      ]
     },
     "metadata": {},
     "output_type": "display_data"
    }
   ],
   "source": [
    "## Get the bar chart from 5 rated reviews ##\n",
    "freq_dict = defaultdict(int)\n",
    "for sent in news_df[\"headline\"]:\n",
    "    for word in generate_ngrams(sent,3):\n",
    "        freq_dict[word] += 1\n",
    "fd_sorted = pd.DataFrame(sorted(freq_dict.items(), key=lambda x: x[1])[::-1])\n",
    "fd_sorted.columns = [\"word\", \"wordcount\"]\n",
    "trace0 = horizontal_bar_chart(fd_sorted.head(10), 'green')\n",
    "\n",
    "# Creating two subplots\n",
    "fig = tools.make_subplots(rows=1, cols=1, vertical_spacing=0.04,\n",
    "                          subplot_titles=[\"Frequent words\"])\n",
    "fig.append_trace(trace0, 1, 1)\n",
    "#fig.append_trace(trace1, 1, 2)\n",
    "fig['layout'].update(height=600, width=600, paper_bgcolor='rgb(233,233,233)', title=\"Word Count Plots\")\n",
    "py.iplot(fig, filename='word-plots');"
   ]
  },
  {
   "cell_type": "code",
   "execution_count": 18,
   "metadata": {},
   "outputs": [
    {
     "name": "stderr",
     "output_type": "stream",
     "text": [
      "c:\\Users\\Woon\\AppData\\Local\\Programs\\Python\\Python310\\lib\\site-packages\\plotly\\tools.py:460: DeprecationWarning:\n",
      "\n",
      "plotly.tools.make_subplots is deprecated, please use plotly.subplots.make_subplots instead\n",
      "\n"
     ]
    },
    {
     "data": {
      "application/vnd.plotly.v1+json": {
       "config": {
        "linkText": "Export to plot.ly",
        "plotlyServerURL": "https://plot.ly",
        "showLink": false
       },
       "data": [
        {
         "marker": {
          "color": "green"
         },
         "orientation": "h",
         "showlegend": false,
         "type": "bar",
         "x": [
          18,
          18,
          18,
          25,
          25,
          25,
          25,
          43,
          43,
          43
         ],
         "xaxis": "x",
         "y": [
          "Than Broader",
          "Broader Markets",
          "Markets What",
          "Gains As",
          "As Market",
          "Market Dips",
          "Dips What",
          "What You",
          "You Should",
          "Should Know"
         ],
         "yaxis": "y"
        }
       ],
       "layout": {
        "annotations": [
         {
          "font": {
           "size": 16
          },
          "showarrow": false,
          "text": "Frequent words",
          "x": 0.5,
          "xanchor": "center",
          "xref": "paper",
          "y": 1,
          "yanchor": "bottom",
          "yref": "paper"
         }
        ],
        "height": 600,
        "paper_bgcolor": "rgb(233,233,233)",
        "template": {
         "data": {
          "bar": [
           {
            "error_x": {
             "color": "#2a3f5f"
            },
            "error_y": {
             "color": "#2a3f5f"
            },
            "marker": {
             "line": {
              "color": "#E5ECF6",
              "width": 0.5
             },
             "pattern": {
              "fillmode": "overlay",
              "size": 10,
              "solidity": 0.2
             }
            },
            "type": "bar"
           }
          ],
          "barpolar": [
           {
            "marker": {
             "line": {
              "color": "#E5ECF6",
              "width": 0.5
             },
             "pattern": {
              "fillmode": "overlay",
              "size": 10,
              "solidity": 0.2
             }
            },
            "type": "barpolar"
           }
          ],
          "carpet": [
           {
            "aaxis": {
             "endlinecolor": "#2a3f5f",
             "gridcolor": "white",
             "linecolor": "white",
             "minorgridcolor": "white",
             "startlinecolor": "#2a3f5f"
            },
            "baxis": {
             "endlinecolor": "#2a3f5f",
             "gridcolor": "white",
             "linecolor": "white",
             "minorgridcolor": "white",
             "startlinecolor": "#2a3f5f"
            },
            "type": "carpet"
           }
          ],
          "choropleth": [
           {
            "colorbar": {
             "outlinewidth": 0,
             "ticks": ""
            },
            "type": "choropleth"
           }
          ],
          "contour": [
           {
            "colorbar": {
             "outlinewidth": 0,
             "ticks": ""
            },
            "colorscale": [
             [
              0,
              "#0d0887"
             ],
             [
              0.1111111111111111,
              "#46039f"
             ],
             [
              0.2222222222222222,
              "#7201a8"
             ],
             [
              0.3333333333333333,
              "#9c179e"
             ],
             [
              0.4444444444444444,
              "#bd3786"
             ],
             [
              0.5555555555555556,
              "#d8576b"
             ],
             [
              0.6666666666666666,
              "#ed7953"
             ],
             [
              0.7777777777777778,
              "#fb9f3a"
             ],
             [
              0.8888888888888888,
              "#fdca26"
             ],
             [
              1,
              "#f0f921"
             ]
            ],
            "type": "contour"
           }
          ],
          "contourcarpet": [
           {
            "colorbar": {
             "outlinewidth": 0,
             "ticks": ""
            },
            "type": "contourcarpet"
           }
          ],
          "heatmap": [
           {
            "colorbar": {
             "outlinewidth": 0,
             "ticks": ""
            },
            "colorscale": [
             [
              0,
              "#0d0887"
             ],
             [
              0.1111111111111111,
              "#46039f"
             ],
             [
              0.2222222222222222,
              "#7201a8"
             ],
             [
              0.3333333333333333,
              "#9c179e"
             ],
             [
              0.4444444444444444,
              "#bd3786"
             ],
             [
              0.5555555555555556,
              "#d8576b"
             ],
             [
              0.6666666666666666,
              "#ed7953"
             ],
             [
              0.7777777777777778,
              "#fb9f3a"
             ],
             [
              0.8888888888888888,
              "#fdca26"
             ],
             [
              1,
              "#f0f921"
             ]
            ],
            "type": "heatmap"
           }
          ],
          "heatmapgl": [
           {
            "colorbar": {
             "outlinewidth": 0,
             "ticks": ""
            },
            "colorscale": [
             [
              0,
              "#0d0887"
             ],
             [
              0.1111111111111111,
              "#46039f"
             ],
             [
              0.2222222222222222,
              "#7201a8"
             ],
             [
              0.3333333333333333,
              "#9c179e"
             ],
             [
              0.4444444444444444,
              "#bd3786"
             ],
             [
              0.5555555555555556,
              "#d8576b"
             ],
             [
              0.6666666666666666,
              "#ed7953"
             ],
             [
              0.7777777777777778,
              "#fb9f3a"
             ],
             [
              0.8888888888888888,
              "#fdca26"
             ],
             [
              1,
              "#f0f921"
             ]
            ],
            "type": "heatmapgl"
           }
          ],
          "histogram": [
           {
            "marker": {
             "pattern": {
              "fillmode": "overlay",
              "size": 10,
              "solidity": 0.2
             }
            },
            "type": "histogram"
           }
          ],
          "histogram2d": [
           {
            "colorbar": {
             "outlinewidth": 0,
             "ticks": ""
            },
            "colorscale": [
             [
              0,
              "#0d0887"
             ],
             [
              0.1111111111111111,
              "#46039f"
             ],
             [
              0.2222222222222222,
              "#7201a8"
             ],
             [
              0.3333333333333333,
              "#9c179e"
             ],
             [
              0.4444444444444444,
              "#bd3786"
             ],
             [
              0.5555555555555556,
              "#d8576b"
             ],
             [
              0.6666666666666666,
              "#ed7953"
             ],
             [
              0.7777777777777778,
              "#fb9f3a"
             ],
             [
              0.8888888888888888,
              "#fdca26"
             ],
             [
              1,
              "#f0f921"
             ]
            ],
            "type": "histogram2d"
           }
          ],
          "histogram2dcontour": [
           {
            "colorbar": {
             "outlinewidth": 0,
             "ticks": ""
            },
            "colorscale": [
             [
              0,
              "#0d0887"
             ],
             [
              0.1111111111111111,
              "#46039f"
             ],
             [
              0.2222222222222222,
              "#7201a8"
             ],
             [
              0.3333333333333333,
              "#9c179e"
             ],
             [
              0.4444444444444444,
              "#bd3786"
             ],
             [
              0.5555555555555556,
              "#d8576b"
             ],
             [
              0.6666666666666666,
              "#ed7953"
             ],
             [
              0.7777777777777778,
              "#fb9f3a"
             ],
             [
              0.8888888888888888,
              "#fdca26"
             ],
             [
              1,
              "#f0f921"
             ]
            ],
            "type": "histogram2dcontour"
           }
          ],
          "mesh3d": [
           {
            "colorbar": {
             "outlinewidth": 0,
             "ticks": ""
            },
            "type": "mesh3d"
           }
          ],
          "parcoords": [
           {
            "line": {
             "colorbar": {
              "outlinewidth": 0,
              "ticks": ""
             }
            },
            "type": "parcoords"
           }
          ],
          "pie": [
           {
            "automargin": true,
            "type": "pie"
           }
          ],
          "scatter": [
           {
            "fillpattern": {
             "fillmode": "overlay",
             "size": 10,
             "solidity": 0.2
            },
            "type": "scatter"
           }
          ],
          "scatter3d": [
           {
            "line": {
             "colorbar": {
              "outlinewidth": 0,
              "ticks": ""
             }
            },
            "marker": {
             "colorbar": {
              "outlinewidth": 0,
              "ticks": ""
             }
            },
            "type": "scatter3d"
           }
          ],
          "scattercarpet": [
           {
            "marker": {
             "colorbar": {
              "outlinewidth": 0,
              "ticks": ""
             }
            },
            "type": "scattercarpet"
           }
          ],
          "scattergeo": [
           {
            "marker": {
             "colorbar": {
              "outlinewidth": 0,
              "ticks": ""
             }
            },
            "type": "scattergeo"
           }
          ],
          "scattergl": [
           {
            "marker": {
             "colorbar": {
              "outlinewidth": 0,
              "ticks": ""
             }
            },
            "type": "scattergl"
           }
          ],
          "scattermapbox": [
           {
            "marker": {
             "colorbar": {
              "outlinewidth": 0,
              "ticks": ""
             }
            },
            "type": "scattermapbox"
           }
          ],
          "scatterpolar": [
           {
            "marker": {
             "colorbar": {
              "outlinewidth": 0,
              "ticks": ""
             }
            },
            "type": "scatterpolar"
           }
          ],
          "scatterpolargl": [
           {
            "marker": {
             "colorbar": {
              "outlinewidth": 0,
              "ticks": ""
             }
            },
            "type": "scatterpolargl"
           }
          ],
          "scatterternary": [
           {
            "marker": {
             "colorbar": {
              "outlinewidth": 0,
              "ticks": ""
             }
            },
            "type": "scatterternary"
           }
          ],
          "surface": [
           {
            "colorbar": {
             "outlinewidth": 0,
             "ticks": ""
            },
            "colorscale": [
             [
              0,
              "#0d0887"
             ],
             [
              0.1111111111111111,
              "#46039f"
             ],
             [
              0.2222222222222222,
              "#7201a8"
             ],
             [
              0.3333333333333333,
              "#9c179e"
             ],
             [
              0.4444444444444444,
              "#bd3786"
             ],
             [
              0.5555555555555556,
              "#d8576b"
             ],
             [
              0.6666666666666666,
              "#ed7953"
             ],
             [
              0.7777777777777778,
              "#fb9f3a"
             ],
             [
              0.8888888888888888,
              "#fdca26"
             ],
             [
              1,
              "#f0f921"
             ]
            ],
            "type": "surface"
           }
          ],
          "table": [
           {
            "cells": {
             "fill": {
              "color": "#EBF0F8"
             },
             "line": {
              "color": "white"
             }
            },
            "header": {
             "fill": {
              "color": "#C8D4E3"
             },
             "line": {
              "color": "white"
             }
            },
            "type": "table"
           }
          ]
         },
         "layout": {
          "annotationdefaults": {
           "arrowcolor": "#2a3f5f",
           "arrowhead": 0,
           "arrowwidth": 1
          },
          "autotypenumbers": "strict",
          "coloraxis": {
           "colorbar": {
            "outlinewidth": 0,
            "ticks": ""
           }
          },
          "colorscale": {
           "diverging": [
            [
             0,
             "#8e0152"
            ],
            [
             0.1,
             "#c51b7d"
            ],
            [
             0.2,
             "#de77ae"
            ],
            [
             0.3,
             "#f1b6da"
            ],
            [
             0.4,
             "#fde0ef"
            ],
            [
             0.5,
             "#f7f7f7"
            ],
            [
             0.6,
             "#e6f5d0"
            ],
            [
             0.7,
             "#b8e186"
            ],
            [
             0.8,
             "#7fbc41"
            ],
            [
             0.9,
             "#4d9221"
            ],
            [
             1,
             "#276419"
            ]
           ],
           "sequential": [
            [
             0,
             "#0d0887"
            ],
            [
             0.1111111111111111,
             "#46039f"
            ],
            [
             0.2222222222222222,
             "#7201a8"
            ],
            [
             0.3333333333333333,
             "#9c179e"
            ],
            [
             0.4444444444444444,
             "#bd3786"
            ],
            [
             0.5555555555555556,
             "#d8576b"
            ],
            [
             0.6666666666666666,
             "#ed7953"
            ],
            [
             0.7777777777777778,
             "#fb9f3a"
            ],
            [
             0.8888888888888888,
             "#fdca26"
            ],
            [
             1,
             "#f0f921"
            ]
           ],
           "sequentialminus": [
            [
             0,
             "#0d0887"
            ],
            [
             0.1111111111111111,
             "#46039f"
            ],
            [
             0.2222222222222222,
             "#7201a8"
            ],
            [
             0.3333333333333333,
             "#9c179e"
            ],
            [
             0.4444444444444444,
             "#bd3786"
            ],
            [
             0.5555555555555556,
             "#d8576b"
            ],
            [
             0.6666666666666666,
             "#ed7953"
            ],
            [
             0.7777777777777778,
             "#fb9f3a"
            ],
            [
             0.8888888888888888,
             "#fdca26"
            ],
            [
             1,
             "#f0f921"
            ]
           ]
          },
          "colorway": [
           "#636efa",
           "#EF553B",
           "#00cc96",
           "#ab63fa",
           "#FFA15A",
           "#19d3f3",
           "#FF6692",
           "#B6E880",
           "#FF97FF",
           "#FECB52"
          ],
          "font": {
           "color": "#2a3f5f"
          },
          "geo": {
           "bgcolor": "white",
           "lakecolor": "white",
           "landcolor": "#E5ECF6",
           "showlakes": true,
           "showland": true,
           "subunitcolor": "white"
          },
          "hoverlabel": {
           "align": "left"
          },
          "hovermode": "closest",
          "mapbox": {
           "style": "light"
          },
          "paper_bgcolor": "white",
          "plot_bgcolor": "#E5ECF6",
          "polar": {
           "angularaxis": {
            "gridcolor": "white",
            "linecolor": "white",
            "ticks": ""
           },
           "bgcolor": "#E5ECF6",
           "radialaxis": {
            "gridcolor": "white",
            "linecolor": "white",
            "ticks": ""
           }
          },
          "scene": {
           "xaxis": {
            "backgroundcolor": "#E5ECF6",
            "gridcolor": "white",
            "gridwidth": 2,
            "linecolor": "white",
            "showbackground": true,
            "ticks": "",
            "zerolinecolor": "white"
           },
           "yaxis": {
            "backgroundcolor": "#E5ECF6",
            "gridcolor": "white",
            "gridwidth": 2,
            "linecolor": "white",
            "showbackground": true,
            "ticks": "",
            "zerolinecolor": "white"
           },
           "zaxis": {
            "backgroundcolor": "#E5ECF6",
            "gridcolor": "white",
            "gridwidth": 2,
            "linecolor": "white",
            "showbackground": true,
            "ticks": "",
            "zerolinecolor": "white"
           }
          },
          "shapedefaults": {
           "line": {
            "color": "#2a3f5f"
           }
          },
          "ternary": {
           "aaxis": {
            "gridcolor": "white",
            "linecolor": "white",
            "ticks": ""
           },
           "baxis": {
            "gridcolor": "white",
            "linecolor": "white",
            "ticks": ""
           },
           "bgcolor": "#E5ECF6",
           "caxis": {
            "gridcolor": "white",
            "linecolor": "white",
            "ticks": ""
           }
          },
          "title": {
           "x": 0.05
          },
          "xaxis": {
           "automargin": true,
           "gridcolor": "white",
           "linecolor": "white",
           "ticks": "",
           "title": {
            "standoff": 15
           },
           "zerolinecolor": "white",
           "zerolinewidth": 2
          },
          "yaxis": {
           "automargin": true,
           "gridcolor": "white",
           "linecolor": "white",
           "ticks": "",
           "title": {
            "standoff": 15
           },
           "zerolinecolor": "white",
           "zerolinewidth": 2
          }
         }
        },
        "title": {
         "text": "Word Count Plots"
        },
        "width": 600,
        "xaxis": {
         "anchor": "y",
         "domain": [
          0,
          1
         ]
        },
        "yaxis": {
         "anchor": "x",
         "domain": [
          0,
          1
         ]
        }
       }
      },
      "text/html": [
       "<div>                            <div id=\"c907ae52-28df-423a-8550-976c2c25073a\" class=\"plotly-graph-div\" style=\"height:600px; width:600px;\"></div>            <script type=\"text/javascript\">                require([\"plotly\"], function(Plotly) {                    window.PLOTLYENV=window.PLOTLYENV || {};                                    if (document.getElementById(\"c907ae52-28df-423a-8550-976c2c25073a\")) {                    Plotly.newPlot(                        \"c907ae52-28df-423a-8550-976c2c25073a\",                        [{\"marker\":{\"color\":\"green\"},\"orientation\":\"h\",\"showlegend\":false,\"x\":[18,18,18,25,25,25,25,43,43,43],\"xaxis\":\"x\",\"y\":[\"Than Broader\",\"Broader Markets\",\"Markets What\",\"Gains As\",\"As Market\",\"Market Dips\",\"Dips What\",\"What You\",\"You Should\",\"Should Know\"],\"yaxis\":\"y\",\"type\":\"bar\"}],                        {\"annotations\":[{\"font\":{\"size\":16},\"showarrow\":false,\"text\":\"Frequent words\",\"x\":0.5,\"xanchor\":\"center\",\"xref\":\"paper\",\"y\":1.0,\"yanchor\":\"bottom\",\"yref\":\"paper\"}],\"height\":600,\"paper_bgcolor\":\"rgb(233,233,233)\",\"template\":{\"data\":{\"barpolar\":[{\"marker\":{\"line\":{\"color\":\"#E5ECF6\",\"width\":0.5},\"pattern\":{\"fillmode\":\"overlay\",\"size\":10,\"solidity\":0.2}},\"type\":\"barpolar\"}],\"bar\":[{\"error_x\":{\"color\":\"#2a3f5f\"},\"error_y\":{\"color\":\"#2a3f5f\"},\"marker\":{\"line\":{\"color\":\"#E5ECF6\",\"width\":0.5},\"pattern\":{\"fillmode\":\"overlay\",\"size\":10,\"solidity\":0.2}},\"type\":\"bar\"}],\"carpet\":[{\"aaxis\":{\"endlinecolor\":\"#2a3f5f\",\"gridcolor\":\"white\",\"linecolor\":\"white\",\"minorgridcolor\":\"white\",\"startlinecolor\":\"#2a3f5f\"},\"baxis\":{\"endlinecolor\":\"#2a3f5f\",\"gridcolor\":\"white\",\"linecolor\":\"white\",\"minorgridcolor\":\"white\",\"startlinecolor\":\"#2a3f5f\"},\"type\":\"carpet\"}],\"choropleth\":[{\"colorbar\":{\"outlinewidth\":0,\"ticks\":\"\"},\"type\":\"choropleth\"}],\"contourcarpet\":[{\"colorbar\":{\"outlinewidth\":0,\"ticks\":\"\"},\"type\":\"contourcarpet\"}],\"contour\":[{\"colorbar\":{\"outlinewidth\":0,\"ticks\":\"\"},\"colorscale\":[[0.0,\"#0d0887\"],[0.1111111111111111,\"#46039f\"],[0.2222222222222222,\"#7201a8\"],[0.3333333333333333,\"#9c179e\"],[0.4444444444444444,\"#bd3786\"],[0.5555555555555556,\"#d8576b\"],[0.6666666666666666,\"#ed7953\"],[0.7777777777777778,\"#fb9f3a\"],[0.8888888888888888,\"#fdca26\"],[1.0,\"#f0f921\"]],\"type\":\"contour\"}],\"heatmapgl\":[{\"colorbar\":{\"outlinewidth\":0,\"ticks\":\"\"},\"colorscale\":[[0.0,\"#0d0887\"],[0.1111111111111111,\"#46039f\"],[0.2222222222222222,\"#7201a8\"],[0.3333333333333333,\"#9c179e\"],[0.4444444444444444,\"#bd3786\"],[0.5555555555555556,\"#d8576b\"],[0.6666666666666666,\"#ed7953\"],[0.7777777777777778,\"#fb9f3a\"],[0.8888888888888888,\"#fdca26\"],[1.0,\"#f0f921\"]],\"type\":\"heatmapgl\"}],\"heatmap\":[{\"colorbar\":{\"outlinewidth\":0,\"ticks\":\"\"},\"colorscale\":[[0.0,\"#0d0887\"],[0.1111111111111111,\"#46039f\"],[0.2222222222222222,\"#7201a8\"],[0.3333333333333333,\"#9c179e\"],[0.4444444444444444,\"#bd3786\"],[0.5555555555555556,\"#d8576b\"],[0.6666666666666666,\"#ed7953\"],[0.7777777777777778,\"#fb9f3a\"],[0.8888888888888888,\"#fdca26\"],[1.0,\"#f0f921\"]],\"type\":\"heatmap\"}],\"histogram2dcontour\":[{\"colorbar\":{\"outlinewidth\":0,\"ticks\":\"\"},\"colorscale\":[[0.0,\"#0d0887\"],[0.1111111111111111,\"#46039f\"],[0.2222222222222222,\"#7201a8\"],[0.3333333333333333,\"#9c179e\"],[0.4444444444444444,\"#bd3786\"],[0.5555555555555556,\"#d8576b\"],[0.6666666666666666,\"#ed7953\"],[0.7777777777777778,\"#fb9f3a\"],[0.8888888888888888,\"#fdca26\"],[1.0,\"#f0f921\"]],\"type\":\"histogram2dcontour\"}],\"histogram2d\":[{\"colorbar\":{\"outlinewidth\":0,\"ticks\":\"\"},\"colorscale\":[[0.0,\"#0d0887\"],[0.1111111111111111,\"#46039f\"],[0.2222222222222222,\"#7201a8\"],[0.3333333333333333,\"#9c179e\"],[0.4444444444444444,\"#bd3786\"],[0.5555555555555556,\"#d8576b\"],[0.6666666666666666,\"#ed7953\"],[0.7777777777777778,\"#fb9f3a\"],[0.8888888888888888,\"#fdca26\"],[1.0,\"#f0f921\"]],\"type\":\"histogram2d\"}],\"histogram\":[{\"marker\":{\"pattern\":{\"fillmode\":\"overlay\",\"size\":10,\"solidity\":0.2}},\"type\":\"histogram\"}],\"mesh3d\":[{\"colorbar\":{\"outlinewidth\":0,\"ticks\":\"\"},\"type\":\"mesh3d\"}],\"parcoords\":[{\"line\":{\"colorbar\":{\"outlinewidth\":0,\"ticks\":\"\"}},\"type\":\"parcoords\"}],\"pie\":[{\"automargin\":true,\"type\":\"pie\"}],\"scatter3d\":[{\"line\":{\"colorbar\":{\"outlinewidth\":0,\"ticks\":\"\"}},\"marker\":{\"colorbar\":{\"outlinewidth\":0,\"ticks\":\"\"}},\"type\":\"scatter3d\"}],\"scattercarpet\":[{\"marker\":{\"colorbar\":{\"outlinewidth\":0,\"ticks\":\"\"}},\"type\":\"scattercarpet\"}],\"scattergeo\":[{\"marker\":{\"colorbar\":{\"outlinewidth\":0,\"ticks\":\"\"}},\"type\":\"scattergeo\"}],\"scattergl\":[{\"marker\":{\"colorbar\":{\"outlinewidth\":0,\"ticks\":\"\"}},\"type\":\"scattergl\"}],\"scattermapbox\":[{\"marker\":{\"colorbar\":{\"outlinewidth\":0,\"ticks\":\"\"}},\"type\":\"scattermapbox\"}],\"scatterpolargl\":[{\"marker\":{\"colorbar\":{\"outlinewidth\":0,\"ticks\":\"\"}},\"type\":\"scatterpolargl\"}],\"scatterpolar\":[{\"marker\":{\"colorbar\":{\"outlinewidth\":0,\"ticks\":\"\"}},\"type\":\"scatterpolar\"}],\"scatter\":[{\"fillpattern\":{\"fillmode\":\"overlay\",\"size\":10,\"solidity\":0.2},\"type\":\"scatter\"}],\"scatterternary\":[{\"marker\":{\"colorbar\":{\"outlinewidth\":0,\"ticks\":\"\"}},\"type\":\"scatterternary\"}],\"surface\":[{\"colorbar\":{\"outlinewidth\":0,\"ticks\":\"\"},\"colorscale\":[[0.0,\"#0d0887\"],[0.1111111111111111,\"#46039f\"],[0.2222222222222222,\"#7201a8\"],[0.3333333333333333,\"#9c179e\"],[0.4444444444444444,\"#bd3786\"],[0.5555555555555556,\"#d8576b\"],[0.6666666666666666,\"#ed7953\"],[0.7777777777777778,\"#fb9f3a\"],[0.8888888888888888,\"#fdca26\"],[1.0,\"#f0f921\"]],\"type\":\"surface\"}],\"table\":[{\"cells\":{\"fill\":{\"color\":\"#EBF0F8\"},\"line\":{\"color\":\"white\"}},\"header\":{\"fill\":{\"color\":\"#C8D4E3\"},\"line\":{\"color\":\"white\"}},\"type\":\"table\"}]},\"layout\":{\"annotationdefaults\":{\"arrowcolor\":\"#2a3f5f\",\"arrowhead\":0,\"arrowwidth\":1},\"autotypenumbers\":\"strict\",\"coloraxis\":{\"colorbar\":{\"outlinewidth\":0,\"ticks\":\"\"}},\"colorscale\":{\"diverging\":[[0,\"#8e0152\"],[0.1,\"#c51b7d\"],[0.2,\"#de77ae\"],[0.3,\"#f1b6da\"],[0.4,\"#fde0ef\"],[0.5,\"#f7f7f7\"],[0.6,\"#e6f5d0\"],[0.7,\"#b8e186\"],[0.8,\"#7fbc41\"],[0.9,\"#4d9221\"],[1,\"#276419\"]],\"sequential\":[[0.0,\"#0d0887\"],[0.1111111111111111,\"#46039f\"],[0.2222222222222222,\"#7201a8\"],[0.3333333333333333,\"#9c179e\"],[0.4444444444444444,\"#bd3786\"],[0.5555555555555556,\"#d8576b\"],[0.6666666666666666,\"#ed7953\"],[0.7777777777777778,\"#fb9f3a\"],[0.8888888888888888,\"#fdca26\"],[1.0,\"#f0f921\"]],\"sequentialminus\":[[0.0,\"#0d0887\"],[0.1111111111111111,\"#46039f\"],[0.2222222222222222,\"#7201a8\"],[0.3333333333333333,\"#9c179e\"],[0.4444444444444444,\"#bd3786\"],[0.5555555555555556,\"#d8576b\"],[0.6666666666666666,\"#ed7953\"],[0.7777777777777778,\"#fb9f3a\"],[0.8888888888888888,\"#fdca26\"],[1.0,\"#f0f921\"]]},\"colorway\":[\"#636efa\",\"#EF553B\",\"#00cc96\",\"#ab63fa\",\"#FFA15A\",\"#19d3f3\",\"#FF6692\",\"#B6E880\",\"#FF97FF\",\"#FECB52\"],\"font\":{\"color\":\"#2a3f5f\"},\"geo\":{\"bgcolor\":\"white\",\"lakecolor\":\"white\",\"landcolor\":\"#E5ECF6\",\"showlakes\":true,\"showland\":true,\"subunitcolor\":\"white\"},\"hoverlabel\":{\"align\":\"left\"},\"hovermode\":\"closest\",\"mapbox\":{\"style\":\"light\"},\"paper_bgcolor\":\"white\",\"plot_bgcolor\":\"#E5ECF6\",\"polar\":{\"angularaxis\":{\"gridcolor\":\"white\",\"linecolor\":\"white\",\"ticks\":\"\"},\"bgcolor\":\"#E5ECF6\",\"radialaxis\":{\"gridcolor\":\"white\",\"linecolor\":\"white\",\"ticks\":\"\"}},\"scene\":{\"xaxis\":{\"backgroundcolor\":\"#E5ECF6\",\"gridcolor\":\"white\",\"gridwidth\":2,\"linecolor\":\"white\",\"showbackground\":true,\"ticks\":\"\",\"zerolinecolor\":\"white\"},\"yaxis\":{\"backgroundcolor\":\"#E5ECF6\",\"gridcolor\":\"white\",\"gridwidth\":2,\"linecolor\":\"white\",\"showbackground\":true,\"ticks\":\"\",\"zerolinecolor\":\"white\"},\"zaxis\":{\"backgroundcolor\":\"#E5ECF6\",\"gridcolor\":\"white\",\"gridwidth\":2,\"linecolor\":\"white\",\"showbackground\":true,\"ticks\":\"\",\"zerolinecolor\":\"white\"}},\"shapedefaults\":{\"line\":{\"color\":\"#2a3f5f\"}},\"ternary\":{\"aaxis\":{\"gridcolor\":\"white\",\"linecolor\":\"white\",\"ticks\":\"\"},\"baxis\":{\"gridcolor\":\"white\",\"linecolor\":\"white\",\"ticks\":\"\"},\"bgcolor\":\"#E5ECF6\",\"caxis\":{\"gridcolor\":\"white\",\"linecolor\":\"white\",\"ticks\":\"\"}},\"title\":{\"x\":0.05},\"xaxis\":{\"automargin\":true,\"gridcolor\":\"white\",\"linecolor\":\"white\",\"ticks\":\"\",\"title\":{\"standoff\":15},\"zerolinecolor\":\"white\",\"zerolinewidth\":2},\"yaxis\":{\"automargin\":true,\"gridcolor\":\"white\",\"linecolor\":\"white\",\"ticks\":\"\",\"title\":{\"standoff\":15},\"zerolinecolor\":\"white\",\"zerolinewidth\":2}}},\"title\":{\"text\":\"Word Count Plots\"},\"width\":600,\"xaxis\":{\"anchor\":\"y\",\"domain\":[0.0,1.0]},\"yaxis\":{\"anchor\":\"x\",\"domain\":[0.0,1.0]}},                        {\"responsive\": true}                    ).then(function(){\n",
       "                            \n",
       "var gd = document.getElementById('c907ae52-28df-423a-8550-976c2c25073a');\n",
       "var x = new MutationObserver(function (mutations, observer) {{\n",
       "        var display = window.getComputedStyle(gd).display;\n",
       "        if (!display || display === 'none') {{\n",
       "            console.log([gd, 'removed!']);\n",
       "            Plotly.purge(gd);\n",
       "            observer.disconnect();\n",
       "        }}\n",
       "}});\n",
       "\n",
       "// Listen for the removal of the full notebook cells\n",
       "var notebookContainer = gd.closest('#notebook-container');\n",
       "if (notebookContainer) {{\n",
       "    x.observe(notebookContainer, {childList: true});\n",
       "}}\n",
       "\n",
       "// Listen for the clearing of the current output cell\n",
       "var outputEl = gd.closest('.output');\n",
       "if (outputEl) {{\n",
       "    x.observe(outputEl, {childList: true});\n",
       "}}\n",
       "\n",
       "                        })                };                });            </script>        </div>"
      ]
     },
     "metadata": {},
     "output_type": "display_data"
    }
   ],
   "source": [
    "## Get the bar chart from 5 rated reviews ##\n",
    "freq_dict = defaultdict(int)\n",
    "for sent in news_df[\"headline\"]:\n",
    "    for word in generate_ngrams(sent,2):\n",
    "        freq_dict[word] += 1\n",
    "fd_sorted = pd.DataFrame(sorted(freq_dict.items(), key=lambda x: x[1])[::-1])\n",
    "fd_sorted.columns = [\"word\", \"wordcount\"]\n",
    "trace0 = horizontal_bar_chart(fd_sorted.head(10), 'green')\n",
    "\n",
    "# Creating two subplots\n",
    "fig = tools.make_subplots(rows=1, cols=1, vertical_spacing=0.04,\n",
    "                          subplot_titles=[\"Frequent words\"])\n",
    "fig.append_trace(trace0, 1, 1)\n",
    "#fig.append_trace(trace1, 1, 2)\n",
    "fig['layout'].update(height=600, width=600, paper_bgcolor='rgb(233,233,233)', title=\"Word Count Plots\")\n",
    "py.iplot(fig, filename='word-plots');"
   ]
  },
  {
   "attachments": {},
   "cell_type": "markdown",
   "metadata": {},
   "source": [
    "## Content"
   ]
  },
  {
   "cell_type": "code",
   "execution_count": 19,
   "metadata": {},
   "outputs": [
    {
     "name": "stderr",
     "output_type": "stream",
     "text": [
      "c:\\Users\\Woon\\AppData\\Local\\Programs\\Python\\Python310\\lib\\site-packages\\plotly\\tools.py:460: DeprecationWarning:\n",
      "\n",
      "plotly.tools.make_subplots is deprecated, please use plotly.subplots.make_subplots instead\n",
      "\n"
     ]
    },
    {
     "data": {
      "application/vnd.plotly.v1+json": {
       "config": {
        "linkText": "Export to plot.ly",
        "plotlyServerURL": "https://plot.ly",
        "showLink": false
       },
       "data": [
        {
         "marker": {
          "color": "green"
         },
         "orientation": "h",
         "showlegend": false,
         "type": "bar",
         "x": [
          2,
          2,
          2,
          2,
          2,
          2,
          2,
          8,
          14,
          21
         ],
         "xaxis": "x",
         "y": [
          "Spars With San Francisco",
          "With San Francisco Over",
          "San Francisco Over Probe",
          "trading session marking +122",
          "session marking +122 move",
          "marking +122 move prior",
          "+122 move prior day",
          "In latest trading session",
          "latest trading session marking",
          "closed recent trading day"
         ],
         "yaxis": "y"
        }
       ],
       "layout": {
        "annotations": [
         {
          "font": {
           "size": 16
          },
          "showarrow": false,
          "text": "Frequent words",
          "x": 0.5,
          "xanchor": "center",
          "xref": "paper",
          "y": 1,
          "yanchor": "bottom",
          "yref": "paper"
         }
        ],
        "height": 600,
        "paper_bgcolor": "rgb(233,233,233)",
        "template": {
         "data": {
          "bar": [
           {
            "error_x": {
             "color": "#2a3f5f"
            },
            "error_y": {
             "color": "#2a3f5f"
            },
            "marker": {
             "line": {
              "color": "#E5ECF6",
              "width": 0.5
             },
             "pattern": {
              "fillmode": "overlay",
              "size": 10,
              "solidity": 0.2
             }
            },
            "type": "bar"
           }
          ],
          "barpolar": [
           {
            "marker": {
             "line": {
              "color": "#E5ECF6",
              "width": 0.5
             },
             "pattern": {
              "fillmode": "overlay",
              "size": 10,
              "solidity": 0.2
             }
            },
            "type": "barpolar"
           }
          ],
          "carpet": [
           {
            "aaxis": {
             "endlinecolor": "#2a3f5f",
             "gridcolor": "white",
             "linecolor": "white",
             "minorgridcolor": "white",
             "startlinecolor": "#2a3f5f"
            },
            "baxis": {
             "endlinecolor": "#2a3f5f",
             "gridcolor": "white",
             "linecolor": "white",
             "minorgridcolor": "white",
             "startlinecolor": "#2a3f5f"
            },
            "type": "carpet"
           }
          ],
          "choropleth": [
           {
            "colorbar": {
             "outlinewidth": 0,
             "ticks": ""
            },
            "type": "choropleth"
           }
          ],
          "contour": [
           {
            "colorbar": {
             "outlinewidth": 0,
             "ticks": ""
            },
            "colorscale": [
             [
              0,
              "#0d0887"
             ],
             [
              0.1111111111111111,
              "#46039f"
             ],
             [
              0.2222222222222222,
              "#7201a8"
             ],
             [
              0.3333333333333333,
              "#9c179e"
             ],
             [
              0.4444444444444444,
              "#bd3786"
             ],
             [
              0.5555555555555556,
              "#d8576b"
             ],
             [
              0.6666666666666666,
              "#ed7953"
             ],
             [
              0.7777777777777778,
              "#fb9f3a"
             ],
             [
              0.8888888888888888,
              "#fdca26"
             ],
             [
              1,
              "#f0f921"
             ]
            ],
            "type": "contour"
           }
          ],
          "contourcarpet": [
           {
            "colorbar": {
             "outlinewidth": 0,
             "ticks": ""
            },
            "type": "contourcarpet"
           }
          ],
          "heatmap": [
           {
            "colorbar": {
             "outlinewidth": 0,
             "ticks": ""
            },
            "colorscale": [
             [
              0,
              "#0d0887"
             ],
             [
              0.1111111111111111,
              "#46039f"
             ],
             [
              0.2222222222222222,
              "#7201a8"
             ],
             [
              0.3333333333333333,
              "#9c179e"
             ],
             [
              0.4444444444444444,
              "#bd3786"
             ],
             [
              0.5555555555555556,
              "#d8576b"
             ],
             [
              0.6666666666666666,
              "#ed7953"
             ],
             [
              0.7777777777777778,
              "#fb9f3a"
             ],
             [
              0.8888888888888888,
              "#fdca26"
             ],
             [
              1,
              "#f0f921"
             ]
            ],
            "type": "heatmap"
           }
          ],
          "heatmapgl": [
           {
            "colorbar": {
             "outlinewidth": 0,
             "ticks": ""
            },
            "colorscale": [
             [
              0,
              "#0d0887"
             ],
             [
              0.1111111111111111,
              "#46039f"
             ],
             [
              0.2222222222222222,
              "#7201a8"
             ],
             [
              0.3333333333333333,
              "#9c179e"
             ],
             [
              0.4444444444444444,
              "#bd3786"
             ],
             [
              0.5555555555555556,
              "#d8576b"
             ],
             [
              0.6666666666666666,
              "#ed7953"
             ],
             [
              0.7777777777777778,
              "#fb9f3a"
             ],
             [
              0.8888888888888888,
              "#fdca26"
             ],
             [
              1,
              "#f0f921"
             ]
            ],
            "type": "heatmapgl"
           }
          ],
          "histogram": [
           {
            "marker": {
             "pattern": {
              "fillmode": "overlay",
              "size": 10,
              "solidity": 0.2
             }
            },
            "type": "histogram"
           }
          ],
          "histogram2d": [
           {
            "colorbar": {
             "outlinewidth": 0,
             "ticks": ""
            },
            "colorscale": [
             [
              0,
              "#0d0887"
             ],
             [
              0.1111111111111111,
              "#46039f"
             ],
             [
              0.2222222222222222,
              "#7201a8"
             ],
             [
              0.3333333333333333,
              "#9c179e"
             ],
             [
              0.4444444444444444,
              "#bd3786"
             ],
             [
              0.5555555555555556,
              "#d8576b"
             ],
             [
              0.6666666666666666,
              "#ed7953"
             ],
             [
              0.7777777777777778,
              "#fb9f3a"
             ],
             [
              0.8888888888888888,
              "#fdca26"
             ],
             [
              1,
              "#f0f921"
             ]
            ],
            "type": "histogram2d"
           }
          ],
          "histogram2dcontour": [
           {
            "colorbar": {
             "outlinewidth": 0,
             "ticks": ""
            },
            "colorscale": [
             [
              0,
              "#0d0887"
             ],
             [
              0.1111111111111111,
              "#46039f"
             ],
             [
              0.2222222222222222,
              "#7201a8"
             ],
             [
              0.3333333333333333,
              "#9c179e"
             ],
             [
              0.4444444444444444,
              "#bd3786"
             ],
             [
              0.5555555555555556,
              "#d8576b"
             ],
             [
              0.6666666666666666,
              "#ed7953"
             ],
             [
              0.7777777777777778,
              "#fb9f3a"
             ],
             [
              0.8888888888888888,
              "#fdca26"
             ],
             [
              1,
              "#f0f921"
             ]
            ],
            "type": "histogram2dcontour"
           }
          ],
          "mesh3d": [
           {
            "colorbar": {
             "outlinewidth": 0,
             "ticks": ""
            },
            "type": "mesh3d"
           }
          ],
          "parcoords": [
           {
            "line": {
             "colorbar": {
              "outlinewidth": 0,
              "ticks": ""
             }
            },
            "type": "parcoords"
           }
          ],
          "pie": [
           {
            "automargin": true,
            "type": "pie"
           }
          ],
          "scatter": [
           {
            "fillpattern": {
             "fillmode": "overlay",
             "size": 10,
             "solidity": 0.2
            },
            "type": "scatter"
           }
          ],
          "scatter3d": [
           {
            "line": {
             "colorbar": {
              "outlinewidth": 0,
              "ticks": ""
             }
            },
            "marker": {
             "colorbar": {
              "outlinewidth": 0,
              "ticks": ""
             }
            },
            "type": "scatter3d"
           }
          ],
          "scattercarpet": [
           {
            "marker": {
             "colorbar": {
              "outlinewidth": 0,
              "ticks": ""
             }
            },
            "type": "scattercarpet"
           }
          ],
          "scattergeo": [
           {
            "marker": {
             "colorbar": {
              "outlinewidth": 0,
              "ticks": ""
             }
            },
            "type": "scattergeo"
           }
          ],
          "scattergl": [
           {
            "marker": {
             "colorbar": {
              "outlinewidth": 0,
              "ticks": ""
             }
            },
            "type": "scattergl"
           }
          ],
          "scattermapbox": [
           {
            "marker": {
             "colorbar": {
              "outlinewidth": 0,
              "ticks": ""
             }
            },
            "type": "scattermapbox"
           }
          ],
          "scatterpolar": [
           {
            "marker": {
             "colorbar": {
              "outlinewidth": 0,
              "ticks": ""
             }
            },
            "type": "scatterpolar"
           }
          ],
          "scatterpolargl": [
           {
            "marker": {
             "colorbar": {
              "outlinewidth": 0,
              "ticks": ""
             }
            },
            "type": "scatterpolargl"
           }
          ],
          "scatterternary": [
           {
            "marker": {
             "colorbar": {
              "outlinewidth": 0,
              "ticks": ""
             }
            },
            "type": "scatterternary"
           }
          ],
          "surface": [
           {
            "colorbar": {
             "outlinewidth": 0,
             "ticks": ""
            },
            "colorscale": [
             [
              0,
              "#0d0887"
             ],
             [
              0.1111111111111111,
              "#46039f"
             ],
             [
              0.2222222222222222,
              "#7201a8"
             ],
             [
              0.3333333333333333,
              "#9c179e"
             ],
             [
              0.4444444444444444,
              "#bd3786"
             ],
             [
              0.5555555555555556,
              "#d8576b"
             ],
             [
              0.6666666666666666,
              "#ed7953"
             ],
             [
              0.7777777777777778,
              "#fb9f3a"
             ],
             [
              0.8888888888888888,
              "#fdca26"
             ],
             [
              1,
              "#f0f921"
             ]
            ],
            "type": "surface"
           }
          ],
          "table": [
           {
            "cells": {
             "fill": {
              "color": "#EBF0F8"
             },
             "line": {
              "color": "white"
             }
            },
            "header": {
             "fill": {
              "color": "#C8D4E3"
             },
             "line": {
              "color": "white"
             }
            },
            "type": "table"
           }
          ]
         },
         "layout": {
          "annotationdefaults": {
           "arrowcolor": "#2a3f5f",
           "arrowhead": 0,
           "arrowwidth": 1
          },
          "autotypenumbers": "strict",
          "coloraxis": {
           "colorbar": {
            "outlinewidth": 0,
            "ticks": ""
           }
          },
          "colorscale": {
           "diverging": [
            [
             0,
             "#8e0152"
            ],
            [
             0.1,
             "#c51b7d"
            ],
            [
             0.2,
             "#de77ae"
            ],
            [
             0.3,
             "#f1b6da"
            ],
            [
             0.4,
             "#fde0ef"
            ],
            [
             0.5,
             "#f7f7f7"
            ],
            [
             0.6,
             "#e6f5d0"
            ],
            [
             0.7,
             "#b8e186"
            ],
            [
             0.8,
             "#7fbc41"
            ],
            [
             0.9,
             "#4d9221"
            ],
            [
             1,
             "#276419"
            ]
           ],
           "sequential": [
            [
             0,
             "#0d0887"
            ],
            [
             0.1111111111111111,
             "#46039f"
            ],
            [
             0.2222222222222222,
             "#7201a8"
            ],
            [
             0.3333333333333333,
             "#9c179e"
            ],
            [
             0.4444444444444444,
             "#bd3786"
            ],
            [
             0.5555555555555556,
             "#d8576b"
            ],
            [
             0.6666666666666666,
             "#ed7953"
            ],
            [
             0.7777777777777778,
             "#fb9f3a"
            ],
            [
             0.8888888888888888,
             "#fdca26"
            ],
            [
             1,
             "#f0f921"
            ]
           ],
           "sequentialminus": [
            [
             0,
             "#0d0887"
            ],
            [
             0.1111111111111111,
             "#46039f"
            ],
            [
             0.2222222222222222,
             "#7201a8"
            ],
            [
             0.3333333333333333,
             "#9c179e"
            ],
            [
             0.4444444444444444,
             "#bd3786"
            ],
            [
             0.5555555555555556,
             "#d8576b"
            ],
            [
             0.6666666666666666,
             "#ed7953"
            ],
            [
             0.7777777777777778,
             "#fb9f3a"
            ],
            [
             0.8888888888888888,
             "#fdca26"
            ],
            [
             1,
             "#f0f921"
            ]
           ]
          },
          "colorway": [
           "#636efa",
           "#EF553B",
           "#00cc96",
           "#ab63fa",
           "#FFA15A",
           "#19d3f3",
           "#FF6692",
           "#B6E880",
           "#FF97FF",
           "#FECB52"
          ],
          "font": {
           "color": "#2a3f5f"
          },
          "geo": {
           "bgcolor": "white",
           "lakecolor": "white",
           "landcolor": "#E5ECF6",
           "showlakes": true,
           "showland": true,
           "subunitcolor": "white"
          },
          "hoverlabel": {
           "align": "left"
          },
          "hovermode": "closest",
          "mapbox": {
           "style": "light"
          },
          "paper_bgcolor": "white",
          "plot_bgcolor": "#E5ECF6",
          "polar": {
           "angularaxis": {
            "gridcolor": "white",
            "linecolor": "white",
            "ticks": ""
           },
           "bgcolor": "#E5ECF6",
           "radialaxis": {
            "gridcolor": "white",
            "linecolor": "white",
            "ticks": ""
           }
          },
          "scene": {
           "xaxis": {
            "backgroundcolor": "#E5ECF6",
            "gridcolor": "white",
            "gridwidth": 2,
            "linecolor": "white",
            "showbackground": true,
            "ticks": "",
            "zerolinecolor": "white"
           },
           "yaxis": {
            "backgroundcolor": "#E5ECF6",
            "gridcolor": "white",
            "gridwidth": 2,
            "linecolor": "white",
            "showbackground": true,
            "ticks": "",
            "zerolinecolor": "white"
           },
           "zaxis": {
            "backgroundcolor": "#E5ECF6",
            "gridcolor": "white",
            "gridwidth": 2,
            "linecolor": "white",
            "showbackground": true,
            "ticks": "",
            "zerolinecolor": "white"
           }
          },
          "shapedefaults": {
           "line": {
            "color": "#2a3f5f"
           }
          },
          "ternary": {
           "aaxis": {
            "gridcolor": "white",
            "linecolor": "white",
            "ticks": ""
           },
           "baxis": {
            "gridcolor": "white",
            "linecolor": "white",
            "ticks": ""
           },
           "bgcolor": "#E5ECF6",
           "caxis": {
            "gridcolor": "white",
            "linecolor": "white",
            "ticks": ""
           }
          },
          "title": {
           "x": 0.05
          },
          "xaxis": {
           "automargin": true,
           "gridcolor": "white",
           "linecolor": "white",
           "ticks": "",
           "title": {
            "standoff": 15
           },
           "zerolinecolor": "white",
           "zerolinewidth": 2
          },
          "yaxis": {
           "automargin": true,
           "gridcolor": "white",
           "linecolor": "white",
           "ticks": "",
           "title": {
            "standoff": 15
           },
           "zerolinecolor": "white",
           "zerolinewidth": 2
          }
         }
        },
        "title": {
         "text": "Word Count Plots"
        },
        "width": 600,
        "xaxis": {
         "anchor": "y",
         "domain": [
          0,
          1
         ]
        },
        "yaxis": {
         "anchor": "x",
         "domain": [
          0,
          1
         ]
        }
       }
      },
      "text/html": [
       "<div>                            <div id=\"6d3d48d6-83c4-41cd-a9d3-096ba150a926\" class=\"plotly-graph-div\" style=\"height:600px; width:600px;\"></div>            <script type=\"text/javascript\">                require([\"plotly\"], function(Plotly) {                    window.PLOTLYENV=window.PLOTLYENV || {};                                    if (document.getElementById(\"6d3d48d6-83c4-41cd-a9d3-096ba150a926\")) {                    Plotly.newPlot(                        \"6d3d48d6-83c4-41cd-a9d3-096ba150a926\",                        [{\"marker\":{\"color\":\"green\"},\"orientation\":\"h\",\"showlegend\":false,\"x\":[2,2,2,2,2,2,2,8,14,21],\"xaxis\":\"x\",\"y\":[\"Spars With San Francisco\",\"With San Francisco Over\",\"San Francisco Over Probe\",\"trading session marking +122\",\"session marking +122 move\",\"marking +122 move prior\",\"+122 move prior day\",\"In latest trading session\",\"latest trading session marking\",\"closed recent trading day\"],\"yaxis\":\"y\",\"type\":\"bar\"}],                        {\"annotations\":[{\"font\":{\"size\":16},\"showarrow\":false,\"text\":\"Frequent words\",\"x\":0.5,\"xanchor\":\"center\",\"xref\":\"paper\",\"y\":1.0,\"yanchor\":\"bottom\",\"yref\":\"paper\"}],\"height\":600,\"paper_bgcolor\":\"rgb(233,233,233)\",\"template\":{\"data\":{\"barpolar\":[{\"marker\":{\"line\":{\"color\":\"#E5ECF6\",\"width\":0.5},\"pattern\":{\"fillmode\":\"overlay\",\"size\":10,\"solidity\":0.2}},\"type\":\"barpolar\"}],\"bar\":[{\"error_x\":{\"color\":\"#2a3f5f\"},\"error_y\":{\"color\":\"#2a3f5f\"},\"marker\":{\"line\":{\"color\":\"#E5ECF6\",\"width\":0.5},\"pattern\":{\"fillmode\":\"overlay\",\"size\":10,\"solidity\":0.2}},\"type\":\"bar\"}],\"carpet\":[{\"aaxis\":{\"endlinecolor\":\"#2a3f5f\",\"gridcolor\":\"white\",\"linecolor\":\"white\",\"minorgridcolor\":\"white\",\"startlinecolor\":\"#2a3f5f\"},\"baxis\":{\"endlinecolor\":\"#2a3f5f\",\"gridcolor\":\"white\",\"linecolor\":\"white\",\"minorgridcolor\":\"white\",\"startlinecolor\":\"#2a3f5f\"},\"type\":\"carpet\"}],\"choropleth\":[{\"colorbar\":{\"outlinewidth\":0,\"ticks\":\"\"},\"type\":\"choropleth\"}],\"contourcarpet\":[{\"colorbar\":{\"outlinewidth\":0,\"ticks\":\"\"},\"type\":\"contourcarpet\"}],\"contour\":[{\"colorbar\":{\"outlinewidth\":0,\"ticks\":\"\"},\"colorscale\":[[0.0,\"#0d0887\"],[0.1111111111111111,\"#46039f\"],[0.2222222222222222,\"#7201a8\"],[0.3333333333333333,\"#9c179e\"],[0.4444444444444444,\"#bd3786\"],[0.5555555555555556,\"#d8576b\"],[0.6666666666666666,\"#ed7953\"],[0.7777777777777778,\"#fb9f3a\"],[0.8888888888888888,\"#fdca26\"],[1.0,\"#f0f921\"]],\"type\":\"contour\"}],\"heatmapgl\":[{\"colorbar\":{\"outlinewidth\":0,\"ticks\":\"\"},\"colorscale\":[[0.0,\"#0d0887\"],[0.1111111111111111,\"#46039f\"],[0.2222222222222222,\"#7201a8\"],[0.3333333333333333,\"#9c179e\"],[0.4444444444444444,\"#bd3786\"],[0.5555555555555556,\"#d8576b\"],[0.6666666666666666,\"#ed7953\"],[0.7777777777777778,\"#fb9f3a\"],[0.8888888888888888,\"#fdca26\"],[1.0,\"#f0f921\"]],\"type\":\"heatmapgl\"}],\"heatmap\":[{\"colorbar\":{\"outlinewidth\":0,\"ticks\":\"\"},\"colorscale\":[[0.0,\"#0d0887\"],[0.1111111111111111,\"#46039f\"],[0.2222222222222222,\"#7201a8\"],[0.3333333333333333,\"#9c179e\"],[0.4444444444444444,\"#bd3786\"],[0.5555555555555556,\"#d8576b\"],[0.6666666666666666,\"#ed7953\"],[0.7777777777777778,\"#fb9f3a\"],[0.8888888888888888,\"#fdca26\"],[1.0,\"#f0f921\"]],\"type\":\"heatmap\"}],\"histogram2dcontour\":[{\"colorbar\":{\"outlinewidth\":0,\"ticks\":\"\"},\"colorscale\":[[0.0,\"#0d0887\"],[0.1111111111111111,\"#46039f\"],[0.2222222222222222,\"#7201a8\"],[0.3333333333333333,\"#9c179e\"],[0.4444444444444444,\"#bd3786\"],[0.5555555555555556,\"#d8576b\"],[0.6666666666666666,\"#ed7953\"],[0.7777777777777778,\"#fb9f3a\"],[0.8888888888888888,\"#fdca26\"],[1.0,\"#f0f921\"]],\"type\":\"histogram2dcontour\"}],\"histogram2d\":[{\"colorbar\":{\"outlinewidth\":0,\"ticks\":\"\"},\"colorscale\":[[0.0,\"#0d0887\"],[0.1111111111111111,\"#46039f\"],[0.2222222222222222,\"#7201a8\"],[0.3333333333333333,\"#9c179e\"],[0.4444444444444444,\"#bd3786\"],[0.5555555555555556,\"#d8576b\"],[0.6666666666666666,\"#ed7953\"],[0.7777777777777778,\"#fb9f3a\"],[0.8888888888888888,\"#fdca26\"],[1.0,\"#f0f921\"]],\"type\":\"histogram2d\"}],\"histogram\":[{\"marker\":{\"pattern\":{\"fillmode\":\"overlay\",\"size\":10,\"solidity\":0.2}},\"type\":\"histogram\"}],\"mesh3d\":[{\"colorbar\":{\"outlinewidth\":0,\"ticks\":\"\"},\"type\":\"mesh3d\"}],\"parcoords\":[{\"line\":{\"colorbar\":{\"outlinewidth\":0,\"ticks\":\"\"}},\"type\":\"parcoords\"}],\"pie\":[{\"automargin\":true,\"type\":\"pie\"}],\"scatter3d\":[{\"line\":{\"colorbar\":{\"outlinewidth\":0,\"ticks\":\"\"}},\"marker\":{\"colorbar\":{\"outlinewidth\":0,\"ticks\":\"\"}},\"type\":\"scatter3d\"}],\"scattercarpet\":[{\"marker\":{\"colorbar\":{\"outlinewidth\":0,\"ticks\":\"\"}},\"type\":\"scattercarpet\"}],\"scattergeo\":[{\"marker\":{\"colorbar\":{\"outlinewidth\":0,\"ticks\":\"\"}},\"type\":\"scattergeo\"}],\"scattergl\":[{\"marker\":{\"colorbar\":{\"outlinewidth\":0,\"ticks\":\"\"}},\"type\":\"scattergl\"}],\"scattermapbox\":[{\"marker\":{\"colorbar\":{\"outlinewidth\":0,\"ticks\":\"\"}},\"type\":\"scattermapbox\"}],\"scatterpolargl\":[{\"marker\":{\"colorbar\":{\"outlinewidth\":0,\"ticks\":\"\"}},\"type\":\"scatterpolargl\"}],\"scatterpolar\":[{\"marker\":{\"colorbar\":{\"outlinewidth\":0,\"ticks\":\"\"}},\"type\":\"scatterpolar\"}],\"scatter\":[{\"fillpattern\":{\"fillmode\":\"overlay\",\"size\":10,\"solidity\":0.2},\"type\":\"scatter\"}],\"scatterternary\":[{\"marker\":{\"colorbar\":{\"outlinewidth\":0,\"ticks\":\"\"}},\"type\":\"scatterternary\"}],\"surface\":[{\"colorbar\":{\"outlinewidth\":0,\"ticks\":\"\"},\"colorscale\":[[0.0,\"#0d0887\"],[0.1111111111111111,\"#46039f\"],[0.2222222222222222,\"#7201a8\"],[0.3333333333333333,\"#9c179e\"],[0.4444444444444444,\"#bd3786\"],[0.5555555555555556,\"#d8576b\"],[0.6666666666666666,\"#ed7953\"],[0.7777777777777778,\"#fb9f3a\"],[0.8888888888888888,\"#fdca26\"],[1.0,\"#f0f921\"]],\"type\":\"surface\"}],\"table\":[{\"cells\":{\"fill\":{\"color\":\"#EBF0F8\"},\"line\":{\"color\":\"white\"}},\"header\":{\"fill\":{\"color\":\"#C8D4E3\"},\"line\":{\"color\":\"white\"}},\"type\":\"table\"}]},\"layout\":{\"annotationdefaults\":{\"arrowcolor\":\"#2a3f5f\",\"arrowhead\":0,\"arrowwidth\":1},\"autotypenumbers\":\"strict\",\"coloraxis\":{\"colorbar\":{\"outlinewidth\":0,\"ticks\":\"\"}},\"colorscale\":{\"diverging\":[[0,\"#8e0152\"],[0.1,\"#c51b7d\"],[0.2,\"#de77ae\"],[0.3,\"#f1b6da\"],[0.4,\"#fde0ef\"],[0.5,\"#f7f7f7\"],[0.6,\"#e6f5d0\"],[0.7,\"#b8e186\"],[0.8,\"#7fbc41\"],[0.9,\"#4d9221\"],[1,\"#276419\"]],\"sequential\":[[0.0,\"#0d0887\"],[0.1111111111111111,\"#46039f\"],[0.2222222222222222,\"#7201a8\"],[0.3333333333333333,\"#9c179e\"],[0.4444444444444444,\"#bd3786\"],[0.5555555555555556,\"#d8576b\"],[0.6666666666666666,\"#ed7953\"],[0.7777777777777778,\"#fb9f3a\"],[0.8888888888888888,\"#fdca26\"],[1.0,\"#f0f921\"]],\"sequentialminus\":[[0.0,\"#0d0887\"],[0.1111111111111111,\"#46039f\"],[0.2222222222222222,\"#7201a8\"],[0.3333333333333333,\"#9c179e\"],[0.4444444444444444,\"#bd3786\"],[0.5555555555555556,\"#d8576b\"],[0.6666666666666666,\"#ed7953\"],[0.7777777777777778,\"#fb9f3a\"],[0.8888888888888888,\"#fdca26\"],[1.0,\"#f0f921\"]]},\"colorway\":[\"#636efa\",\"#EF553B\",\"#00cc96\",\"#ab63fa\",\"#FFA15A\",\"#19d3f3\",\"#FF6692\",\"#B6E880\",\"#FF97FF\",\"#FECB52\"],\"font\":{\"color\":\"#2a3f5f\"},\"geo\":{\"bgcolor\":\"white\",\"lakecolor\":\"white\",\"landcolor\":\"#E5ECF6\",\"showlakes\":true,\"showland\":true,\"subunitcolor\":\"white\"},\"hoverlabel\":{\"align\":\"left\"},\"hovermode\":\"closest\",\"mapbox\":{\"style\":\"light\"},\"paper_bgcolor\":\"white\",\"plot_bgcolor\":\"#E5ECF6\",\"polar\":{\"angularaxis\":{\"gridcolor\":\"white\",\"linecolor\":\"white\",\"ticks\":\"\"},\"bgcolor\":\"#E5ECF6\",\"radialaxis\":{\"gridcolor\":\"white\",\"linecolor\":\"white\",\"ticks\":\"\"}},\"scene\":{\"xaxis\":{\"backgroundcolor\":\"#E5ECF6\",\"gridcolor\":\"white\",\"gridwidth\":2,\"linecolor\":\"white\",\"showbackground\":true,\"ticks\":\"\",\"zerolinecolor\":\"white\"},\"yaxis\":{\"backgroundcolor\":\"#E5ECF6\",\"gridcolor\":\"white\",\"gridwidth\":2,\"linecolor\":\"white\",\"showbackground\":true,\"ticks\":\"\",\"zerolinecolor\":\"white\"},\"zaxis\":{\"backgroundcolor\":\"#E5ECF6\",\"gridcolor\":\"white\",\"gridwidth\":2,\"linecolor\":\"white\",\"showbackground\":true,\"ticks\":\"\",\"zerolinecolor\":\"white\"}},\"shapedefaults\":{\"line\":{\"color\":\"#2a3f5f\"}},\"ternary\":{\"aaxis\":{\"gridcolor\":\"white\",\"linecolor\":\"white\",\"ticks\":\"\"},\"baxis\":{\"gridcolor\":\"white\",\"linecolor\":\"white\",\"ticks\":\"\"},\"bgcolor\":\"#E5ECF6\",\"caxis\":{\"gridcolor\":\"white\",\"linecolor\":\"white\",\"ticks\":\"\"}},\"title\":{\"x\":0.05},\"xaxis\":{\"automargin\":true,\"gridcolor\":\"white\",\"linecolor\":\"white\",\"ticks\":\"\",\"title\":{\"standoff\":15},\"zerolinecolor\":\"white\",\"zerolinewidth\":2},\"yaxis\":{\"automargin\":true,\"gridcolor\":\"white\",\"linecolor\":\"white\",\"ticks\":\"\",\"title\":{\"standoff\":15},\"zerolinecolor\":\"white\",\"zerolinewidth\":2}}},\"title\":{\"text\":\"Word Count Plots\"},\"width\":600,\"xaxis\":{\"anchor\":\"y\",\"domain\":[0.0,1.0]},\"yaxis\":{\"anchor\":\"x\",\"domain\":[0.0,1.0]}},                        {\"responsive\": true}                    ).then(function(){\n",
       "                            \n",
       "var gd = document.getElementById('6d3d48d6-83c4-41cd-a9d3-096ba150a926');\n",
       "var x = new MutationObserver(function (mutations, observer) {{\n",
       "        var display = window.getComputedStyle(gd).display;\n",
       "        if (!display || display === 'none') {{\n",
       "            console.log([gd, 'removed!']);\n",
       "            Plotly.purge(gd);\n",
       "            observer.disconnect();\n",
       "        }}\n",
       "}});\n",
       "\n",
       "// Listen for the removal of the full notebook cells\n",
       "var notebookContainer = gd.closest('#notebook-container');\n",
       "if (notebookContainer) {{\n",
       "    x.observe(notebookContainer, {childList: true});\n",
       "}}\n",
       "\n",
       "// Listen for the clearing of the current output cell\n",
       "var outputEl = gd.closest('.output');\n",
       "if (outputEl) {{\n",
       "    x.observe(outputEl, {childList: true});\n",
       "}}\n",
       "\n",
       "                        })                };                });            </script>        </div>"
      ]
     },
     "metadata": {},
     "output_type": "display_data"
    }
   ],
   "source": [
    "## Get the bar chart from 5 rated reviews ##\n",
    "freq_dict = defaultdict(int)\n",
    "for sent in news_df[\"content\"]:\n",
    "    for word in generate_ngrams(sent,4):\n",
    "        freq_dict[word] += 1\n",
    "fd_sorted = pd.DataFrame(sorted(freq_dict.items(), key=lambda x: x[1])[::-1])\n",
    "fd_sorted.columns = [\"word\", \"wordcount\"]\n",
    "trace0 = horizontal_bar_chart(fd_sorted.head(10), 'green')\n",
    "\n",
    "# Creating two subplots\n",
    "fig = tools.make_subplots(rows=1, cols=1, vertical_spacing=0.04,\n",
    "                          subplot_titles=[\"Frequent words\"])\n",
    "fig.append_trace(trace0, 1, 1)\n",
    "#fig.append_trace(trace1, 1, 2)\n",
    "fig['layout'].update(height=600, width=600, paper_bgcolor='rgb(233,233,233)', title=\"Word Count Plots\")\n",
    "py.iplot(fig, filename='word-plots');"
   ]
  },
  {
   "cell_type": "code",
   "execution_count": 20,
   "metadata": {},
   "outputs": [
    {
     "name": "stderr",
     "output_type": "stream",
     "text": [
      "c:\\Users\\Woon\\AppData\\Local\\Programs\\Python\\Python310\\lib\\site-packages\\plotly\\tools.py:460: DeprecationWarning:\n",
      "\n",
      "plotly.tools.make_subplots is deprecated, please use plotly.subplots.make_subplots instead\n",
      "\n"
     ]
    },
    {
     "data": {
      "application/vnd.plotly.v1+json": {
       "config": {
        "linkText": "Export to plot.ly",
        "plotlyServerURL": "https://plot.ly",
        "showLink": false
       },
       "data": [
        {
         "marker": {
          "color": "green"
         },
         "orientation": "h",
         "showlegend": false,
         "type": "bar",
         "x": [
          2,
          2,
          8,
          8,
          14,
          14,
          21,
          21,
          21,
          22
         ],
         "xaxis": "x",
         "y": [
          "marking +122 move",
          "+122 move prior",
          "In latest trading",
          "move previous day",
          "trading session marking",
          "move prior day",
          "closed recent trading",
          "recent trading day",
          "previous trading session",
          "latest trading session"
         ],
         "yaxis": "y"
        }
       ],
       "layout": {
        "annotations": [
         {
          "font": {
           "size": 16
          },
          "showarrow": false,
          "text": "Frequent words",
          "x": 0.5,
          "xanchor": "center",
          "xref": "paper",
          "y": 1,
          "yanchor": "bottom",
          "yref": "paper"
         }
        ],
        "height": 600,
        "paper_bgcolor": "rgb(233,233,233)",
        "template": {
         "data": {
          "bar": [
           {
            "error_x": {
             "color": "#2a3f5f"
            },
            "error_y": {
             "color": "#2a3f5f"
            },
            "marker": {
             "line": {
              "color": "#E5ECF6",
              "width": 0.5
             },
             "pattern": {
              "fillmode": "overlay",
              "size": 10,
              "solidity": 0.2
             }
            },
            "type": "bar"
           }
          ],
          "barpolar": [
           {
            "marker": {
             "line": {
              "color": "#E5ECF6",
              "width": 0.5
             },
             "pattern": {
              "fillmode": "overlay",
              "size": 10,
              "solidity": 0.2
             }
            },
            "type": "barpolar"
           }
          ],
          "carpet": [
           {
            "aaxis": {
             "endlinecolor": "#2a3f5f",
             "gridcolor": "white",
             "linecolor": "white",
             "minorgridcolor": "white",
             "startlinecolor": "#2a3f5f"
            },
            "baxis": {
             "endlinecolor": "#2a3f5f",
             "gridcolor": "white",
             "linecolor": "white",
             "minorgridcolor": "white",
             "startlinecolor": "#2a3f5f"
            },
            "type": "carpet"
           }
          ],
          "choropleth": [
           {
            "colorbar": {
             "outlinewidth": 0,
             "ticks": ""
            },
            "type": "choropleth"
           }
          ],
          "contour": [
           {
            "colorbar": {
             "outlinewidth": 0,
             "ticks": ""
            },
            "colorscale": [
             [
              0,
              "#0d0887"
             ],
             [
              0.1111111111111111,
              "#46039f"
             ],
             [
              0.2222222222222222,
              "#7201a8"
             ],
             [
              0.3333333333333333,
              "#9c179e"
             ],
             [
              0.4444444444444444,
              "#bd3786"
             ],
             [
              0.5555555555555556,
              "#d8576b"
             ],
             [
              0.6666666666666666,
              "#ed7953"
             ],
             [
              0.7777777777777778,
              "#fb9f3a"
             ],
             [
              0.8888888888888888,
              "#fdca26"
             ],
             [
              1,
              "#f0f921"
             ]
            ],
            "type": "contour"
           }
          ],
          "contourcarpet": [
           {
            "colorbar": {
             "outlinewidth": 0,
             "ticks": ""
            },
            "type": "contourcarpet"
           }
          ],
          "heatmap": [
           {
            "colorbar": {
             "outlinewidth": 0,
             "ticks": ""
            },
            "colorscale": [
             [
              0,
              "#0d0887"
             ],
             [
              0.1111111111111111,
              "#46039f"
             ],
             [
              0.2222222222222222,
              "#7201a8"
             ],
             [
              0.3333333333333333,
              "#9c179e"
             ],
             [
              0.4444444444444444,
              "#bd3786"
             ],
             [
              0.5555555555555556,
              "#d8576b"
             ],
             [
              0.6666666666666666,
              "#ed7953"
             ],
             [
              0.7777777777777778,
              "#fb9f3a"
             ],
             [
              0.8888888888888888,
              "#fdca26"
             ],
             [
              1,
              "#f0f921"
             ]
            ],
            "type": "heatmap"
           }
          ],
          "heatmapgl": [
           {
            "colorbar": {
             "outlinewidth": 0,
             "ticks": ""
            },
            "colorscale": [
             [
              0,
              "#0d0887"
             ],
             [
              0.1111111111111111,
              "#46039f"
             ],
             [
              0.2222222222222222,
              "#7201a8"
             ],
             [
              0.3333333333333333,
              "#9c179e"
             ],
             [
              0.4444444444444444,
              "#bd3786"
             ],
             [
              0.5555555555555556,
              "#d8576b"
             ],
             [
              0.6666666666666666,
              "#ed7953"
             ],
             [
              0.7777777777777778,
              "#fb9f3a"
             ],
             [
              0.8888888888888888,
              "#fdca26"
             ],
             [
              1,
              "#f0f921"
             ]
            ],
            "type": "heatmapgl"
           }
          ],
          "histogram": [
           {
            "marker": {
             "pattern": {
              "fillmode": "overlay",
              "size": 10,
              "solidity": 0.2
             }
            },
            "type": "histogram"
           }
          ],
          "histogram2d": [
           {
            "colorbar": {
             "outlinewidth": 0,
             "ticks": ""
            },
            "colorscale": [
             [
              0,
              "#0d0887"
             ],
             [
              0.1111111111111111,
              "#46039f"
             ],
             [
              0.2222222222222222,
              "#7201a8"
             ],
             [
              0.3333333333333333,
              "#9c179e"
             ],
             [
              0.4444444444444444,
              "#bd3786"
             ],
             [
              0.5555555555555556,
              "#d8576b"
             ],
             [
              0.6666666666666666,
              "#ed7953"
             ],
             [
              0.7777777777777778,
              "#fb9f3a"
             ],
             [
              0.8888888888888888,
              "#fdca26"
             ],
             [
              1,
              "#f0f921"
             ]
            ],
            "type": "histogram2d"
           }
          ],
          "histogram2dcontour": [
           {
            "colorbar": {
             "outlinewidth": 0,
             "ticks": ""
            },
            "colorscale": [
             [
              0,
              "#0d0887"
             ],
             [
              0.1111111111111111,
              "#46039f"
             ],
             [
              0.2222222222222222,
              "#7201a8"
             ],
             [
              0.3333333333333333,
              "#9c179e"
             ],
             [
              0.4444444444444444,
              "#bd3786"
             ],
             [
              0.5555555555555556,
              "#d8576b"
             ],
             [
              0.6666666666666666,
              "#ed7953"
             ],
             [
              0.7777777777777778,
              "#fb9f3a"
             ],
             [
              0.8888888888888888,
              "#fdca26"
             ],
             [
              1,
              "#f0f921"
             ]
            ],
            "type": "histogram2dcontour"
           }
          ],
          "mesh3d": [
           {
            "colorbar": {
             "outlinewidth": 0,
             "ticks": ""
            },
            "type": "mesh3d"
           }
          ],
          "parcoords": [
           {
            "line": {
             "colorbar": {
              "outlinewidth": 0,
              "ticks": ""
             }
            },
            "type": "parcoords"
           }
          ],
          "pie": [
           {
            "automargin": true,
            "type": "pie"
           }
          ],
          "scatter": [
           {
            "fillpattern": {
             "fillmode": "overlay",
             "size": 10,
             "solidity": 0.2
            },
            "type": "scatter"
           }
          ],
          "scatter3d": [
           {
            "line": {
             "colorbar": {
              "outlinewidth": 0,
              "ticks": ""
             }
            },
            "marker": {
             "colorbar": {
              "outlinewidth": 0,
              "ticks": ""
             }
            },
            "type": "scatter3d"
           }
          ],
          "scattercarpet": [
           {
            "marker": {
             "colorbar": {
              "outlinewidth": 0,
              "ticks": ""
             }
            },
            "type": "scattercarpet"
           }
          ],
          "scattergeo": [
           {
            "marker": {
             "colorbar": {
              "outlinewidth": 0,
              "ticks": ""
             }
            },
            "type": "scattergeo"
           }
          ],
          "scattergl": [
           {
            "marker": {
             "colorbar": {
              "outlinewidth": 0,
              "ticks": ""
             }
            },
            "type": "scattergl"
           }
          ],
          "scattermapbox": [
           {
            "marker": {
             "colorbar": {
              "outlinewidth": 0,
              "ticks": ""
             }
            },
            "type": "scattermapbox"
           }
          ],
          "scatterpolar": [
           {
            "marker": {
             "colorbar": {
              "outlinewidth": 0,
              "ticks": ""
             }
            },
            "type": "scatterpolar"
           }
          ],
          "scatterpolargl": [
           {
            "marker": {
             "colorbar": {
              "outlinewidth": 0,
              "ticks": ""
             }
            },
            "type": "scatterpolargl"
           }
          ],
          "scatterternary": [
           {
            "marker": {
             "colorbar": {
              "outlinewidth": 0,
              "ticks": ""
             }
            },
            "type": "scatterternary"
           }
          ],
          "surface": [
           {
            "colorbar": {
             "outlinewidth": 0,
             "ticks": ""
            },
            "colorscale": [
             [
              0,
              "#0d0887"
             ],
             [
              0.1111111111111111,
              "#46039f"
             ],
             [
              0.2222222222222222,
              "#7201a8"
             ],
             [
              0.3333333333333333,
              "#9c179e"
             ],
             [
              0.4444444444444444,
              "#bd3786"
             ],
             [
              0.5555555555555556,
              "#d8576b"
             ],
             [
              0.6666666666666666,
              "#ed7953"
             ],
             [
              0.7777777777777778,
              "#fb9f3a"
             ],
             [
              0.8888888888888888,
              "#fdca26"
             ],
             [
              1,
              "#f0f921"
             ]
            ],
            "type": "surface"
           }
          ],
          "table": [
           {
            "cells": {
             "fill": {
              "color": "#EBF0F8"
             },
             "line": {
              "color": "white"
             }
            },
            "header": {
             "fill": {
              "color": "#C8D4E3"
             },
             "line": {
              "color": "white"
             }
            },
            "type": "table"
           }
          ]
         },
         "layout": {
          "annotationdefaults": {
           "arrowcolor": "#2a3f5f",
           "arrowhead": 0,
           "arrowwidth": 1
          },
          "autotypenumbers": "strict",
          "coloraxis": {
           "colorbar": {
            "outlinewidth": 0,
            "ticks": ""
           }
          },
          "colorscale": {
           "diverging": [
            [
             0,
             "#8e0152"
            ],
            [
             0.1,
             "#c51b7d"
            ],
            [
             0.2,
             "#de77ae"
            ],
            [
             0.3,
             "#f1b6da"
            ],
            [
             0.4,
             "#fde0ef"
            ],
            [
             0.5,
             "#f7f7f7"
            ],
            [
             0.6,
             "#e6f5d0"
            ],
            [
             0.7,
             "#b8e186"
            ],
            [
             0.8,
             "#7fbc41"
            ],
            [
             0.9,
             "#4d9221"
            ],
            [
             1,
             "#276419"
            ]
           ],
           "sequential": [
            [
             0,
             "#0d0887"
            ],
            [
             0.1111111111111111,
             "#46039f"
            ],
            [
             0.2222222222222222,
             "#7201a8"
            ],
            [
             0.3333333333333333,
             "#9c179e"
            ],
            [
             0.4444444444444444,
             "#bd3786"
            ],
            [
             0.5555555555555556,
             "#d8576b"
            ],
            [
             0.6666666666666666,
             "#ed7953"
            ],
            [
             0.7777777777777778,
             "#fb9f3a"
            ],
            [
             0.8888888888888888,
             "#fdca26"
            ],
            [
             1,
             "#f0f921"
            ]
           ],
           "sequentialminus": [
            [
             0,
             "#0d0887"
            ],
            [
             0.1111111111111111,
             "#46039f"
            ],
            [
             0.2222222222222222,
             "#7201a8"
            ],
            [
             0.3333333333333333,
             "#9c179e"
            ],
            [
             0.4444444444444444,
             "#bd3786"
            ],
            [
             0.5555555555555556,
             "#d8576b"
            ],
            [
             0.6666666666666666,
             "#ed7953"
            ],
            [
             0.7777777777777778,
             "#fb9f3a"
            ],
            [
             0.8888888888888888,
             "#fdca26"
            ],
            [
             1,
             "#f0f921"
            ]
           ]
          },
          "colorway": [
           "#636efa",
           "#EF553B",
           "#00cc96",
           "#ab63fa",
           "#FFA15A",
           "#19d3f3",
           "#FF6692",
           "#B6E880",
           "#FF97FF",
           "#FECB52"
          ],
          "font": {
           "color": "#2a3f5f"
          },
          "geo": {
           "bgcolor": "white",
           "lakecolor": "white",
           "landcolor": "#E5ECF6",
           "showlakes": true,
           "showland": true,
           "subunitcolor": "white"
          },
          "hoverlabel": {
           "align": "left"
          },
          "hovermode": "closest",
          "mapbox": {
           "style": "light"
          },
          "paper_bgcolor": "white",
          "plot_bgcolor": "#E5ECF6",
          "polar": {
           "angularaxis": {
            "gridcolor": "white",
            "linecolor": "white",
            "ticks": ""
           },
           "bgcolor": "#E5ECF6",
           "radialaxis": {
            "gridcolor": "white",
            "linecolor": "white",
            "ticks": ""
           }
          },
          "scene": {
           "xaxis": {
            "backgroundcolor": "#E5ECF6",
            "gridcolor": "white",
            "gridwidth": 2,
            "linecolor": "white",
            "showbackground": true,
            "ticks": "",
            "zerolinecolor": "white"
           },
           "yaxis": {
            "backgroundcolor": "#E5ECF6",
            "gridcolor": "white",
            "gridwidth": 2,
            "linecolor": "white",
            "showbackground": true,
            "ticks": "",
            "zerolinecolor": "white"
           },
           "zaxis": {
            "backgroundcolor": "#E5ECF6",
            "gridcolor": "white",
            "gridwidth": 2,
            "linecolor": "white",
            "showbackground": true,
            "ticks": "",
            "zerolinecolor": "white"
           }
          },
          "shapedefaults": {
           "line": {
            "color": "#2a3f5f"
           }
          },
          "ternary": {
           "aaxis": {
            "gridcolor": "white",
            "linecolor": "white",
            "ticks": ""
           },
           "baxis": {
            "gridcolor": "white",
            "linecolor": "white",
            "ticks": ""
           },
           "bgcolor": "#E5ECF6",
           "caxis": {
            "gridcolor": "white",
            "linecolor": "white",
            "ticks": ""
           }
          },
          "title": {
           "x": 0.05
          },
          "xaxis": {
           "automargin": true,
           "gridcolor": "white",
           "linecolor": "white",
           "ticks": "",
           "title": {
            "standoff": 15
           },
           "zerolinecolor": "white",
           "zerolinewidth": 2
          },
          "yaxis": {
           "automargin": true,
           "gridcolor": "white",
           "linecolor": "white",
           "ticks": "",
           "title": {
            "standoff": 15
           },
           "zerolinecolor": "white",
           "zerolinewidth": 2
          }
         }
        },
        "title": {
         "text": "Word Count Plots"
        },
        "width": 600,
        "xaxis": {
         "anchor": "y",
         "domain": [
          0,
          1
         ]
        },
        "yaxis": {
         "anchor": "x",
         "domain": [
          0,
          1
         ]
        }
       }
      },
      "text/html": [
       "<div>                            <div id=\"4a6f1220-954c-4bcf-a0bb-ff65f7f8bf64\" class=\"plotly-graph-div\" style=\"height:600px; width:600px;\"></div>            <script type=\"text/javascript\">                require([\"plotly\"], function(Plotly) {                    window.PLOTLYENV=window.PLOTLYENV || {};                                    if (document.getElementById(\"4a6f1220-954c-4bcf-a0bb-ff65f7f8bf64\")) {                    Plotly.newPlot(                        \"4a6f1220-954c-4bcf-a0bb-ff65f7f8bf64\",                        [{\"marker\":{\"color\":\"green\"},\"orientation\":\"h\",\"showlegend\":false,\"x\":[2,2,8,8,14,14,21,21,21,22],\"xaxis\":\"x\",\"y\":[\"marking +122 move\",\"+122 move prior\",\"In latest trading\",\"move previous day\",\"trading session marking\",\"move prior day\",\"closed recent trading\",\"recent trading day\",\"previous trading session\",\"latest trading session\"],\"yaxis\":\"y\",\"type\":\"bar\"}],                        {\"annotations\":[{\"font\":{\"size\":16},\"showarrow\":false,\"text\":\"Frequent words\",\"x\":0.5,\"xanchor\":\"center\",\"xref\":\"paper\",\"y\":1.0,\"yanchor\":\"bottom\",\"yref\":\"paper\"}],\"height\":600,\"paper_bgcolor\":\"rgb(233,233,233)\",\"template\":{\"data\":{\"barpolar\":[{\"marker\":{\"line\":{\"color\":\"#E5ECF6\",\"width\":0.5},\"pattern\":{\"fillmode\":\"overlay\",\"size\":10,\"solidity\":0.2}},\"type\":\"barpolar\"}],\"bar\":[{\"error_x\":{\"color\":\"#2a3f5f\"},\"error_y\":{\"color\":\"#2a3f5f\"},\"marker\":{\"line\":{\"color\":\"#E5ECF6\",\"width\":0.5},\"pattern\":{\"fillmode\":\"overlay\",\"size\":10,\"solidity\":0.2}},\"type\":\"bar\"}],\"carpet\":[{\"aaxis\":{\"endlinecolor\":\"#2a3f5f\",\"gridcolor\":\"white\",\"linecolor\":\"white\",\"minorgridcolor\":\"white\",\"startlinecolor\":\"#2a3f5f\"},\"baxis\":{\"endlinecolor\":\"#2a3f5f\",\"gridcolor\":\"white\",\"linecolor\":\"white\",\"minorgridcolor\":\"white\",\"startlinecolor\":\"#2a3f5f\"},\"type\":\"carpet\"}],\"choropleth\":[{\"colorbar\":{\"outlinewidth\":0,\"ticks\":\"\"},\"type\":\"choropleth\"}],\"contourcarpet\":[{\"colorbar\":{\"outlinewidth\":0,\"ticks\":\"\"},\"type\":\"contourcarpet\"}],\"contour\":[{\"colorbar\":{\"outlinewidth\":0,\"ticks\":\"\"},\"colorscale\":[[0.0,\"#0d0887\"],[0.1111111111111111,\"#46039f\"],[0.2222222222222222,\"#7201a8\"],[0.3333333333333333,\"#9c179e\"],[0.4444444444444444,\"#bd3786\"],[0.5555555555555556,\"#d8576b\"],[0.6666666666666666,\"#ed7953\"],[0.7777777777777778,\"#fb9f3a\"],[0.8888888888888888,\"#fdca26\"],[1.0,\"#f0f921\"]],\"type\":\"contour\"}],\"heatmapgl\":[{\"colorbar\":{\"outlinewidth\":0,\"ticks\":\"\"},\"colorscale\":[[0.0,\"#0d0887\"],[0.1111111111111111,\"#46039f\"],[0.2222222222222222,\"#7201a8\"],[0.3333333333333333,\"#9c179e\"],[0.4444444444444444,\"#bd3786\"],[0.5555555555555556,\"#d8576b\"],[0.6666666666666666,\"#ed7953\"],[0.7777777777777778,\"#fb9f3a\"],[0.8888888888888888,\"#fdca26\"],[1.0,\"#f0f921\"]],\"type\":\"heatmapgl\"}],\"heatmap\":[{\"colorbar\":{\"outlinewidth\":0,\"ticks\":\"\"},\"colorscale\":[[0.0,\"#0d0887\"],[0.1111111111111111,\"#46039f\"],[0.2222222222222222,\"#7201a8\"],[0.3333333333333333,\"#9c179e\"],[0.4444444444444444,\"#bd3786\"],[0.5555555555555556,\"#d8576b\"],[0.6666666666666666,\"#ed7953\"],[0.7777777777777778,\"#fb9f3a\"],[0.8888888888888888,\"#fdca26\"],[1.0,\"#f0f921\"]],\"type\":\"heatmap\"}],\"histogram2dcontour\":[{\"colorbar\":{\"outlinewidth\":0,\"ticks\":\"\"},\"colorscale\":[[0.0,\"#0d0887\"],[0.1111111111111111,\"#46039f\"],[0.2222222222222222,\"#7201a8\"],[0.3333333333333333,\"#9c179e\"],[0.4444444444444444,\"#bd3786\"],[0.5555555555555556,\"#d8576b\"],[0.6666666666666666,\"#ed7953\"],[0.7777777777777778,\"#fb9f3a\"],[0.8888888888888888,\"#fdca26\"],[1.0,\"#f0f921\"]],\"type\":\"histogram2dcontour\"}],\"histogram2d\":[{\"colorbar\":{\"outlinewidth\":0,\"ticks\":\"\"},\"colorscale\":[[0.0,\"#0d0887\"],[0.1111111111111111,\"#46039f\"],[0.2222222222222222,\"#7201a8\"],[0.3333333333333333,\"#9c179e\"],[0.4444444444444444,\"#bd3786\"],[0.5555555555555556,\"#d8576b\"],[0.6666666666666666,\"#ed7953\"],[0.7777777777777778,\"#fb9f3a\"],[0.8888888888888888,\"#fdca26\"],[1.0,\"#f0f921\"]],\"type\":\"histogram2d\"}],\"histogram\":[{\"marker\":{\"pattern\":{\"fillmode\":\"overlay\",\"size\":10,\"solidity\":0.2}},\"type\":\"histogram\"}],\"mesh3d\":[{\"colorbar\":{\"outlinewidth\":0,\"ticks\":\"\"},\"type\":\"mesh3d\"}],\"parcoords\":[{\"line\":{\"colorbar\":{\"outlinewidth\":0,\"ticks\":\"\"}},\"type\":\"parcoords\"}],\"pie\":[{\"automargin\":true,\"type\":\"pie\"}],\"scatter3d\":[{\"line\":{\"colorbar\":{\"outlinewidth\":0,\"ticks\":\"\"}},\"marker\":{\"colorbar\":{\"outlinewidth\":0,\"ticks\":\"\"}},\"type\":\"scatter3d\"}],\"scattercarpet\":[{\"marker\":{\"colorbar\":{\"outlinewidth\":0,\"ticks\":\"\"}},\"type\":\"scattercarpet\"}],\"scattergeo\":[{\"marker\":{\"colorbar\":{\"outlinewidth\":0,\"ticks\":\"\"}},\"type\":\"scattergeo\"}],\"scattergl\":[{\"marker\":{\"colorbar\":{\"outlinewidth\":0,\"ticks\":\"\"}},\"type\":\"scattergl\"}],\"scattermapbox\":[{\"marker\":{\"colorbar\":{\"outlinewidth\":0,\"ticks\":\"\"}},\"type\":\"scattermapbox\"}],\"scatterpolargl\":[{\"marker\":{\"colorbar\":{\"outlinewidth\":0,\"ticks\":\"\"}},\"type\":\"scatterpolargl\"}],\"scatterpolar\":[{\"marker\":{\"colorbar\":{\"outlinewidth\":0,\"ticks\":\"\"}},\"type\":\"scatterpolar\"}],\"scatter\":[{\"fillpattern\":{\"fillmode\":\"overlay\",\"size\":10,\"solidity\":0.2},\"type\":\"scatter\"}],\"scatterternary\":[{\"marker\":{\"colorbar\":{\"outlinewidth\":0,\"ticks\":\"\"}},\"type\":\"scatterternary\"}],\"surface\":[{\"colorbar\":{\"outlinewidth\":0,\"ticks\":\"\"},\"colorscale\":[[0.0,\"#0d0887\"],[0.1111111111111111,\"#46039f\"],[0.2222222222222222,\"#7201a8\"],[0.3333333333333333,\"#9c179e\"],[0.4444444444444444,\"#bd3786\"],[0.5555555555555556,\"#d8576b\"],[0.6666666666666666,\"#ed7953\"],[0.7777777777777778,\"#fb9f3a\"],[0.8888888888888888,\"#fdca26\"],[1.0,\"#f0f921\"]],\"type\":\"surface\"}],\"table\":[{\"cells\":{\"fill\":{\"color\":\"#EBF0F8\"},\"line\":{\"color\":\"white\"}},\"header\":{\"fill\":{\"color\":\"#C8D4E3\"},\"line\":{\"color\":\"white\"}},\"type\":\"table\"}]},\"layout\":{\"annotationdefaults\":{\"arrowcolor\":\"#2a3f5f\",\"arrowhead\":0,\"arrowwidth\":1},\"autotypenumbers\":\"strict\",\"coloraxis\":{\"colorbar\":{\"outlinewidth\":0,\"ticks\":\"\"}},\"colorscale\":{\"diverging\":[[0,\"#8e0152\"],[0.1,\"#c51b7d\"],[0.2,\"#de77ae\"],[0.3,\"#f1b6da\"],[0.4,\"#fde0ef\"],[0.5,\"#f7f7f7\"],[0.6,\"#e6f5d0\"],[0.7,\"#b8e186\"],[0.8,\"#7fbc41\"],[0.9,\"#4d9221\"],[1,\"#276419\"]],\"sequential\":[[0.0,\"#0d0887\"],[0.1111111111111111,\"#46039f\"],[0.2222222222222222,\"#7201a8\"],[0.3333333333333333,\"#9c179e\"],[0.4444444444444444,\"#bd3786\"],[0.5555555555555556,\"#d8576b\"],[0.6666666666666666,\"#ed7953\"],[0.7777777777777778,\"#fb9f3a\"],[0.8888888888888888,\"#fdca26\"],[1.0,\"#f0f921\"]],\"sequentialminus\":[[0.0,\"#0d0887\"],[0.1111111111111111,\"#46039f\"],[0.2222222222222222,\"#7201a8\"],[0.3333333333333333,\"#9c179e\"],[0.4444444444444444,\"#bd3786\"],[0.5555555555555556,\"#d8576b\"],[0.6666666666666666,\"#ed7953\"],[0.7777777777777778,\"#fb9f3a\"],[0.8888888888888888,\"#fdca26\"],[1.0,\"#f0f921\"]]},\"colorway\":[\"#636efa\",\"#EF553B\",\"#00cc96\",\"#ab63fa\",\"#FFA15A\",\"#19d3f3\",\"#FF6692\",\"#B6E880\",\"#FF97FF\",\"#FECB52\"],\"font\":{\"color\":\"#2a3f5f\"},\"geo\":{\"bgcolor\":\"white\",\"lakecolor\":\"white\",\"landcolor\":\"#E5ECF6\",\"showlakes\":true,\"showland\":true,\"subunitcolor\":\"white\"},\"hoverlabel\":{\"align\":\"left\"},\"hovermode\":\"closest\",\"mapbox\":{\"style\":\"light\"},\"paper_bgcolor\":\"white\",\"plot_bgcolor\":\"#E5ECF6\",\"polar\":{\"angularaxis\":{\"gridcolor\":\"white\",\"linecolor\":\"white\",\"ticks\":\"\"},\"bgcolor\":\"#E5ECF6\",\"radialaxis\":{\"gridcolor\":\"white\",\"linecolor\":\"white\",\"ticks\":\"\"}},\"scene\":{\"xaxis\":{\"backgroundcolor\":\"#E5ECF6\",\"gridcolor\":\"white\",\"gridwidth\":2,\"linecolor\":\"white\",\"showbackground\":true,\"ticks\":\"\",\"zerolinecolor\":\"white\"},\"yaxis\":{\"backgroundcolor\":\"#E5ECF6\",\"gridcolor\":\"white\",\"gridwidth\":2,\"linecolor\":\"white\",\"showbackground\":true,\"ticks\":\"\",\"zerolinecolor\":\"white\"},\"zaxis\":{\"backgroundcolor\":\"#E5ECF6\",\"gridcolor\":\"white\",\"gridwidth\":2,\"linecolor\":\"white\",\"showbackground\":true,\"ticks\":\"\",\"zerolinecolor\":\"white\"}},\"shapedefaults\":{\"line\":{\"color\":\"#2a3f5f\"}},\"ternary\":{\"aaxis\":{\"gridcolor\":\"white\",\"linecolor\":\"white\",\"ticks\":\"\"},\"baxis\":{\"gridcolor\":\"white\",\"linecolor\":\"white\",\"ticks\":\"\"},\"bgcolor\":\"#E5ECF6\",\"caxis\":{\"gridcolor\":\"white\",\"linecolor\":\"white\",\"ticks\":\"\"}},\"title\":{\"x\":0.05},\"xaxis\":{\"automargin\":true,\"gridcolor\":\"white\",\"linecolor\":\"white\",\"ticks\":\"\",\"title\":{\"standoff\":15},\"zerolinecolor\":\"white\",\"zerolinewidth\":2},\"yaxis\":{\"automargin\":true,\"gridcolor\":\"white\",\"linecolor\":\"white\",\"ticks\":\"\",\"title\":{\"standoff\":15},\"zerolinecolor\":\"white\",\"zerolinewidth\":2}}},\"title\":{\"text\":\"Word Count Plots\"},\"width\":600,\"xaxis\":{\"anchor\":\"y\",\"domain\":[0.0,1.0]},\"yaxis\":{\"anchor\":\"x\",\"domain\":[0.0,1.0]}},                        {\"responsive\": true}                    ).then(function(){\n",
       "                            \n",
       "var gd = document.getElementById('4a6f1220-954c-4bcf-a0bb-ff65f7f8bf64');\n",
       "var x = new MutationObserver(function (mutations, observer) {{\n",
       "        var display = window.getComputedStyle(gd).display;\n",
       "        if (!display || display === 'none') {{\n",
       "            console.log([gd, 'removed!']);\n",
       "            Plotly.purge(gd);\n",
       "            observer.disconnect();\n",
       "        }}\n",
       "}});\n",
       "\n",
       "// Listen for the removal of the full notebook cells\n",
       "var notebookContainer = gd.closest('#notebook-container');\n",
       "if (notebookContainer) {{\n",
       "    x.observe(notebookContainer, {childList: true});\n",
       "}}\n",
       "\n",
       "// Listen for the clearing of the current output cell\n",
       "var outputEl = gd.closest('.output');\n",
       "if (outputEl) {{\n",
       "    x.observe(outputEl, {childList: true});\n",
       "}}\n",
       "\n",
       "                        })                };                });            </script>        </div>"
      ]
     },
     "metadata": {},
     "output_type": "display_data"
    }
   ],
   "source": [
    "## Get the bar chart from 5 rated reviews ##\n",
    "freq_dict = defaultdict(int)\n",
    "for sent in news_df[\"content\"]:\n",
    "    for word in generate_ngrams(sent,3):\n",
    "        freq_dict[word] += 1\n",
    "fd_sorted = pd.DataFrame(sorted(freq_dict.items(), key=lambda x: x[1])[::-1])\n",
    "fd_sorted.columns = [\"word\", \"wordcount\"]\n",
    "trace0 = horizontal_bar_chart(fd_sorted.head(10), 'green')\n",
    "\n",
    "# Creating two subplots\n",
    "fig = tools.make_subplots(rows=1, cols=1, vertical_spacing=0.04,\n",
    "                          subplot_titles=[\"Frequent words\"])\n",
    "fig.append_trace(trace0, 1, 1)\n",
    "#fig.append_trace(trace1, 1, 2)\n",
    "fig['layout'].update(height=600, width=600, paper_bgcolor='rgb(233,233,233)', title=\"Word Count Plots\")\n",
    "py.iplot(fig, filename='word-plots');"
   ]
  },
  {
   "cell_type": "code",
   "execution_count": 21,
   "metadata": {},
   "outputs": [
    {
     "name": "stderr",
     "output_type": "stream",
     "text": [
      "c:\\Users\\Woon\\AppData\\Local\\Programs\\Python\\Python310\\lib\\site-packages\\plotly\\tools.py:460: DeprecationWarning:\n",
      "\n",
      "plotly.tools.make_subplots is deprecated, please use plotly.subplots.make_subplots instead\n",
      "\n"
     ]
    },
    {
     "data": {
      "application/vnd.plotly.v1+json": {
       "config": {
        "linkText": "Export to plot.ly",
        "plotlyServerURL": "https://plot.ly",
        "showLink": false
       },
       "data": [
        {
         "marker": {
          "color": "green"
         },
         "orientation": "h",
         "showlegend": false,
         "type": "bar",
         "x": [
          8,
          14,
          14,
          14,
          21,
          21,
          21,
          21,
          22,
          43
         ],
         "xaxis": "x",
         "y": [
          "previous day",
          "session marking",
          "move prior",
          "prior day",
          "closed recent",
          "recent trading",
          "trading day",
          "previous trading",
          "latest trading",
          "trading session"
         ],
         "yaxis": "y"
        }
       ],
       "layout": {
        "annotations": [
         {
          "font": {
           "size": 16
          },
          "showarrow": false,
          "text": "Frequent words",
          "x": 0.5,
          "xanchor": "center",
          "xref": "paper",
          "y": 1,
          "yanchor": "bottom",
          "yref": "paper"
         }
        ],
        "height": 600,
        "paper_bgcolor": "rgb(233,233,233)",
        "template": {
         "data": {
          "bar": [
           {
            "error_x": {
             "color": "#2a3f5f"
            },
            "error_y": {
             "color": "#2a3f5f"
            },
            "marker": {
             "line": {
              "color": "#E5ECF6",
              "width": 0.5
             },
             "pattern": {
              "fillmode": "overlay",
              "size": 10,
              "solidity": 0.2
             }
            },
            "type": "bar"
           }
          ],
          "barpolar": [
           {
            "marker": {
             "line": {
              "color": "#E5ECF6",
              "width": 0.5
             },
             "pattern": {
              "fillmode": "overlay",
              "size": 10,
              "solidity": 0.2
             }
            },
            "type": "barpolar"
           }
          ],
          "carpet": [
           {
            "aaxis": {
             "endlinecolor": "#2a3f5f",
             "gridcolor": "white",
             "linecolor": "white",
             "minorgridcolor": "white",
             "startlinecolor": "#2a3f5f"
            },
            "baxis": {
             "endlinecolor": "#2a3f5f",
             "gridcolor": "white",
             "linecolor": "white",
             "minorgridcolor": "white",
             "startlinecolor": "#2a3f5f"
            },
            "type": "carpet"
           }
          ],
          "choropleth": [
           {
            "colorbar": {
             "outlinewidth": 0,
             "ticks": ""
            },
            "type": "choropleth"
           }
          ],
          "contour": [
           {
            "colorbar": {
             "outlinewidth": 0,
             "ticks": ""
            },
            "colorscale": [
             [
              0,
              "#0d0887"
             ],
             [
              0.1111111111111111,
              "#46039f"
             ],
             [
              0.2222222222222222,
              "#7201a8"
             ],
             [
              0.3333333333333333,
              "#9c179e"
             ],
             [
              0.4444444444444444,
              "#bd3786"
             ],
             [
              0.5555555555555556,
              "#d8576b"
             ],
             [
              0.6666666666666666,
              "#ed7953"
             ],
             [
              0.7777777777777778,
              "#fb9f3a"
             ],
             [
              0.8888888888888888,
              "#fdca26"
             ],
             [
              1,
              "#f0f921"
             ]
            ],
            "type": "contour"
           }
          ],
          "contourcarpet": [
           {
            "colorbar": {
             "outlinewidth": 0,
             "ticks": ""
            },
            "type": "contourcarpet"
           }
          ],
          "heatmap": [
           {
            "colorbar": {
             "outlinewidth": 0,
             "ticks": ""
            },
            "colorscale": [
             [
              0,
              "#0d0887"
             ],
             [
              0.1111111111111111,
              "#46039f"
             ],
             [
              0.2222222222222222,
              "#7201a8"
             ],
             [
              0.3333333333333333,
              "#9c179e"
             ],
             [
              0.4444444444444444,
              "#bd3786"
             ],
             [
              0.5555555555555556,
              "#d8576b"
             ],
             [
              0.6666666666666666,
              "#ed7953"
             ],
             [
              0.7777777777777778,
              "#fb9f3a"
             ],
             [
              0.8888888888888888,
              "#fdca26"
             ],
             [
              1,
              "#f0f921"
             ]
            ],
            "type": "heatmap"
           }
          ],
          "heatmapgl": [
           {
            "colorbar": {
             "outlinewidth": 0,
             "ticks": ""
            },
            "colorscale": [
             [
              0,
              "#0d0887"
             ],
             [
              0.1111111111111111,
              "#46039f"
             ],
             [
              0.2222222222222222,
              "#7201a8"
             ],
             [
              0.3333333333333333,
              "#9c179e"
             ],
             [
              0.4444444444444444,
              "#bd3786"
             ],
             [
              0.5555555555555556,
              "#d8576b"
             ],
             [
              0.6666666666666666,
              "#ed7953"
             ],
             [
              0.7777777777777778,
              "#fb9f3a"
             ],
             [
              0.8888888888888888,
              "#fdca26"
             ],
             [
              1,
              "#f0f921"
             ]
            ],
            "type": "heatmapgl"
           }
          ],
          "histogram": [
           {
            "marker": {
             "pattern": {
              "fillmode": "overlay",
              "size": 10,
              "solidity": 0.2
             }
            },
            "type": "histogram"
           }
          ],
          "histogram2d": [
           {
            "colorbar": {
             "outlinewidth": 0,
             "ticks": ""
            },
            "colorscale": [
             [
              0,
              "#0d0887"
             ],
             [
              0.1111111111111111,
              "#46039f"
             ],
             [
              0.2222222222222222,
              "#7201a8"
             ],
             [
              0.3333333333333333,
              "#9c179e"
             ],
             [
              0.4444444444444444,
              "#bd3786"
             ],
             [
              0.5555555555555556,
              "#d8576b"
             ],
             [
              0.6666666666666666,
              "#ed7953"
             ],
             [
              0.7777777777777778,
              "#fb9f3a"
             ],
             [
              0.8888888888888888,
              "#fdca26"
             ],
             [
              1,
              "#f0f921"
             ]
            ],
            "type": "histogram2d"
           }
          ],
          "histogram2dcontour": [
           {
            "colorbar": {
             "outlinewidth": 0,
             "ticks": ""
            },
            "colorscale": [
             [
              0,
              "#0d0887"
             ],
             [
              0.1111111111111111,
              "#46039f"
             ],
             [
              0.2222222222222222,
              "#7201a8"
             ],
             [
              0.3333333333333333,
              "#9c179e"
             ],
             [
              0.4444444444444444,
              "#bd3786"
             ],
             [
              0.5555555555555556,
              "#d8576b"
             ],
             [
              0.6666666666666666,
              "#ed7953"
             ],
             [
              0.7777777777777778,
              "#fb9f3a"
             ],
             [
              0.8888888888888888,
              "#fdca26"
             ],
             [
              1,
              "#f0f921"
             ]
            ],
            "type": "histogram2dcontour"
           }
          ],
          "mesh3d": [
           {
            "colorbar": {
             "outlinewidth": 0,
             "ticks": ""
            },
            "type": "mesh3d"
           }
          ],
          "parcoords": [
           {
            "line": {
             "colorbar": {
              "outlinewidth": 0,
              "ticks": ""
             }
            },
            "type": "parcoords"
           }
          ],
          "pie": [
           {
            "automargin": true,
            "type": "pie"
           }
          ],
          "scatter": [
           {
            "fillpattern": {
             "fillmode": "overlay",
             "size": 10,
             "solidity": 0.2
            },
            "type": "scatter"
           }
          ],
          "scatter3d": [
           {
            "line": {
             "colorbar": {
              "outlinewidth": 0,
              "ticks": ""
             }
            },
            "marker": {
             "colorbar": {
              "outlinewidth": 0,
              "ticks": ""
             }
            },
            "type": "scatter3d"
           }
          ],
          "scattercarpet": [
           {
            "marker": {
             "colorbar": {
              "outlinewidth": 0,
              "ticks": ""
             }
            },
            "type": "scattercarpet"
           }
          ],
          "scattergeo": [
           {
            "marker": {
             "colorbar": {
              "outlinewidth": 0,
              "ticks": ""
             }
            },
            "type": "scattergeo"
           }
          ],
          "scattergl": [
           {
            "marker": {
             "colorbar": {
              "outlinewidth": 0,
              "ticks": ""
             }
            },
            "type": "scattergl"
           }
          ],
          "scattermapbox": [
           {
            "marker": {
             "colorbar": {
              "outlinewidth": 0,
              "ticks": ""
             }
            },
            "type": "scattermapbox"
           }
          ],
          "scatterpolar": [
           {
            "marker": {
             "colorbar": {
              "outlinewidth": 0,
              "ticks": ""
             }
            },
            "type": "scatterpolar"
           }
          ],
          "scatterpolargl": [
           {
            "marker": {
             "colorbar": {
              "outlinewidth": 0,
              "ticks": ""
             }
            },
            "type": "scatterpolargl"
           }
          ],
          "scatterternary": [
           {
            "marker": {
             "colorbar": {
              "outlinewidth": 0,
              "ticks": ""
             }
            },
            "type": "scatterternary"
           }
          ],
          "surface": [
           {
            "colorbar": {
             "outlinewidth": 0,
             "ticks": ""
            },
            "colorscale": [
             [
              0,
              "#0d0887"
             ],
             [
              0.1111111111111111,
              "#46039f"
             ],
             [
              0.2222222222222222,
              "#7201a8"
             ],
             [
              0.3333333333333333,
              "#9c179e"
             ],
             [
              0.4444444444444444,
              "#bd3786"
             ],
             [
              0.5555555555555556,
              "#d8576b"
             ],
             [
              0.6666666666666666,
              "#ed7953"
             ],
             [
              0.7777777777777778,
              "#fb9f3a"
             ],
             [
              0.8888888888888888,
              "#fdca26"
             ],
             [
              1,
              "#f0f921"
             ]
            ],
            "type": "surface"
           }
          ],
          "table": [
           {
            "cells": {
             "fill": {
              "color": "#EBF0F8"
             },
             "line": {
              "color": "white"
             }
            },
            "header": {
             "fill": {
              "color": "#C8D4E3"
             },
             "line": {
              "color": "white"
             }
            },
            "type": "table"
           }
          ]
         },
         "layout": {
          "annotationdefaults": {
           "arrowcolor": "#2a3f5f",
           "arrowhead": 0,
           "arrowwidth": 1
          },
          "autotypenumbers": "strict",
          "coloraxis": {
           "colorbar": {
            "outlinewidth": 0,
            "ticks": ""
           }
          },
          "colorscale": {
           "diverging": [
            [
             0,
             "#8e0152"
            ],
            [
             0.1,
             "#c51b7d"
            ],
            [
             0.2,
             "#de77ae"
            ],
            [
             0.3,
             "#f1b6da"
            ],
            [
             0.4,
             "#fde0ef"
            ],
            [
             0.5,
             "#f7f7f7"
            ],
            [
             0.6,
             "#e6f5d0"
            ],
            [
             0.7,
             "#b8e186"
            ],
            [
             0.8,
             "#7fbc41"
            ],
            [
             0.9,
             "#4d9221"
            ],
            [
             1,
             "#276419"
            ]
           ],
           "sequential": [
            [
             0,
             "#0d0887"
            ],
            [
             0.1111111111111111,
             "#46039f"
            ],
            [
             0.2222222222222222,
             "#7201a8"
            ],
            [
             0.3333333333333333,
             "#9c179e"
            ],
            [
             0.4444444444444444,
             "#bd3786"
            ],
            [
             0.5555555555555556,
             "#d8576b"
            ],
            [
             0.6666666666666666,
             "#ed7953"
            ],
            [
             0.7777777777777778,
             "#fb9f3a"
            ],
            [
             0.8888888888888888,
             "#fdca26"
            ],
            [
             1,
             "#f0f921"
            ]
           ],
           "sequentialminus": [
            [
             0,
             "#0d0887"
            ],
            [
             0.1111111111111111,
             "#46039f"
            ],
            [
             0.2222222222222222,
             "#7201a8"
            ],
            [
             0.3333333333333333,
             "#9c179e"
            ],
            [
             0.4444444444444444,
             "#bd3786"
            ],
            [
             0.5555555555555556,
             "#d8576b"
            ],
            [
             0.6666666666666666,
             "#ed7953"
            ],
            [
             0.7777777777777778,
             "#fb9f3a"
            ],
            [
             0.8888888888888888,
             "#fdca26"
            ],
            [
             1,
             "#f0f921"
            ]
           ]
          },
          "colorway": [
           "#636efa",
           "#EF553B",
           "#00cc96",
           "#ab63fa",
           "#FFA15A",
           "#19d3f3",
           "#FF6692",
           "#B6E880",
           "#FF97FF",
           "#FECB52"
          ],
          "font": {
           "color": "#2a3f5f"
          },
          "geo": {
           "bgcolor": "white",
           "lakecolor": "white",
           "landcolor": "#E5ECF6",
           "showlakes": true,
           "showland": true,
           "subunitcolor": "white"
          },
          "hoverlabel": {
           "align": "left"
          },
          "hovermode": "closest",
          "mapbox": {
           "style": "light"
          },
          "paper_bgcolor": "white",
          "plot_bgcolor": "#E5ECF6",
          "polar": {
           "angularaxis": {
            "gridcolor": "white",
            "linecolor": "white",
            "ticks": ""
           },
           "bgcolor": "#E5ECF6",
           "radialaxis": {
            "gridcolor": "white",
            "linecolor": "white",
            "ticks": ""
           }
          },
          "scene": {
           "xaxis": {
            "backgroundcolor": "#E5ECF6",
            "gridcolor": "white",
            "gridwidth": 2,
            "linecolor": "white",
            "showbackground": true,
            "ticks": "",
            "zerolinecolor": "white"
           },
           "yaxis": {
            "backgroundcolor": "#E5ECF6",
            "gridcolor": "white",
            "gridwidth": 2,
            "linecolor": "white",
            "showbackground": true,
            "ticks": "",
            "zerolinecolor": "white"
           },
           "zaxis": {
            "backgroundcolor": "#E5ECF6",
            "gridcolor": "white",
            "gridwidth": 2,
            "linecolor": "white",
            "showbackground": true,
            "ticks": "",
            "zerolinecolor": "white"
           }
          },
          "shapedefaults": {
           "line": {
            "color": "#2a3f5f"
           }
          },
          "ternary": {
           "aaxis": {
            "gridcolor": "white",
            "linecolor": "white",
            "ticks": ""
           },
           "baxis": {
            "gridcolor": "white",
            "linecolor": "white",
            "ticks": ""
           },
           "bgcolor": "#E5ECF6",
           "caxis": {
            "gridcolor": "white",
            "linecolor": "white",
            "ticks": ""
           }
          },
          "title": {
           "x": 0.05
          },
          "xaxis": {
           "automargin": true,
           "gridcolor": "white",
           "linecolor": "white",
           "ticks": "",
           "title": {
            "standoff": 15
           },
           "zerolinecolor": "white",
           "zerolinewidth": 2
          },
          "yaxis": {
           "automargin": true,
           "gridcolor": "white",
           "linecolor": "white",
           "ticks": "",
           "title": {
            "standoff": 15
           },
           "zerolinecolor": "white",
           "zerolinewidth": 2
          }
         }
        },
        "title": {
         "text": "Word Count Plots"
        },
        "width": 600,
        "xaxis": {
         "anchor": "y",
         "domain": [
          0,
          1
         ]
        },
        "yaxis": {
         "anchor": "x",
         "domain": [
          0,
          1
         ]
        }
       }
      },
      "text/html": [
       "<div>                            <div id=\"de99aef0-bbaf-4aa1-acd7-60725946cc32\" class=\"plotly-graph-div\" style=\"height:600px; width:600px;\"></div>            <script type=\"text/javascript\">                require([\"plotly\"], function(Plotly) {                    window.PLOTLYENV=window.PLOTLYENV || {};                                    if (document.getElementById(\"de99aef0-bbaf-4aa1-acd7-60725946cc32\")) {                    Plotly.newPlot(                        \"de99aef0-bbaf-4aa1-acd7-60725946cc32\",                        [{\"marker\":{\"color\":\"green\"},\"orientation\":\"h\",\"showlegend\":false,\"x\":[8,14,14,14,21,21,21,21,22,43],\"xaxis\":\"x\",\"y\":[\"previous day\",\"session marking\",\"move prior\",\"prior day\",\"closed recent\",\"recent trading\",\"trading day\",\"previous trading\",\"latest trading\",\"trading session\"],\"yaxis\":\"y\",\"type\":\"bar\"}],                        {\"annotations\":[{\"font\":{\"size\":16},\"showarrow\":false,\"text\":\"Frequent words\",\"x\":0.5,\"xanchor\":\"center\",\"xref\":\"paper\",\"y\":1.0,\"yanchor\":\"bottom\",\"yref\":\"paper\"}],\"height\":600,\"paper_bgcolor\":\"rgb(233,233,233)\",\"template\":{\"data\":{\"barpolar\":[{\"marker\":{\"line\":{\"color\":\"#E5ECF6\",\"width\":0.5},\"pattern\":{\"fillmode\":\"overlay\",\"size\":10,\"solidity\":0.2}},\"type\":\"barpolar\"}],\"bar\":[{\"error_x\":{\"color\":\"#2a3f5f\"},\"error_y\":{\"color\":\"#2a3f5f\"},\"marker\":{\"line\":{\"color\":\"#E5ECF6\",\"width\":0.5},\"pattern\":{\"fillmode\":\"overlay\",\"size\":10,\"solidity\":0.2}},\"type\":\"bar\"}],\"carpet\":[{\"aaxis\":{\"endlinecolor\":\"#2a3f5f\",\"gridcolor\":\"white\",\"linecolor\":\"white\",\"minorgridcolor\":\"white\",\"startlinecolor\":\"#2a3f5f\"},\"baxis\":{\"endlinecolor\":\"#2a3f5f\",\"gridcolor\":\"white\",\"linecolor\":\"white\",\"minorgridcolor\":\"white\",\"startlinecolor\":\"#2a3f5f\"},\"type\":\"carpet\"}],\"choropleth\":[{\"colorbar\":{\"outlinewidth\":0,\"ticks\":\"\"},\"type\":\"choropleth\"}],\"contourcarpet\":[{\"colorbar\":{\"outlinewidth\":0,\"ticks\":\"\"},\"type\":\"contourcarpet\"}],\"contour\":[{\"colorbar\":{\"outlinewidth\":0,\"ticks\":\"\"},\"colorscale\":[[0.0,\"#0d0887\"],[0.1111111111111111,\"#46039f\"],[0.2222222222222222,\"#7201a8\"],[0.3333333333333333,\"#9c179e\"],[0.4444444444444444,\"#bd3786\"],[0.5555555555555556,\"#d8576b\"],[0.6666666666666666,\"#ed7953\"],[0.7777777777777778,\"#fb9f3a\"],[0.8888888888888888,\"#fdca26\"],[1.0,\"#f0f921\"]],\"type\":\"contour\"}],\"heatmapgl\":[{\"colorbar\":{\"outlinewidth\":0,\"ticks\":\"\"},\"colorscale\":[[0.0,\"#0d0887\"],[0.1111111111111111,\"#46039f\"],[0.2222222222222222,\"#7201a8\"],[0.3333333333333333,\"#9c179e\"],[0.4444444444444444,\"#bd3786\"],[0.5555555555555556,\"#d8576b\"],[0.6666666666666666,\"#ed7953\"],[0.7777777777777778,\"#fb9f3a\"],[0.8888888888888888,\"#fdca26\"],[1.0,\"#f0f921\"]],\"type\":\"heatmapgl\"}],\"heatmap\":[{\"colorbar\":{\"outlinewidth\":0,\"ticks\":\"\"},\"colorscale\":[[0.0,\"#0d0887\"],[0.1111111111111111,\"#46039f\"],[0.2222222222222222,\"#7201a8\"],[0.3333333333333333,\"#9c179e\"],[0.4444444444444444,\"#bd3786\"],[0.5555555555555556,\"#d8576b\"],[0.6666666666666666,\"#ed7953\"],[0.7777777777777778,\"#fb9f3a\"],[0.8888888888888888,\"#fdca26\"],[1.0,\"#f0f921\"]],\"type\":\"heatmap\"}],\"histogram2dcontour\":[{\"colorbar\":{\"outlinewidth\":0,\"ticks\":\"\"},\"colorscale\":[[0.0,\"#0d0887\"],[0.1111111111111111,\"#46039f\"],[0.2222222222222222,\"#7201a8\"],[0.3333333333333333,\"#9c179e\"],[0.4444444444444444,\"#bd3786\"],[0.5555555555555556,\"#d8576b\"],[0.6666666666666666,\"#ed7953\"],[0.7777777777777778,\"#fb9f3a\"],[0.8888888888888888,\"#fdca26\"],[1.0,\"#f0f921\"]],\"type\":\"histogram2dcontour\"}],\"histogram2d\":[{\"colorbar\":{\"outlinewidth\":0,\"ticks\":\"\"},\"colorscale\":[[0.0,\"#0d0887\"],[0.1111111111111111,\"#46039f\"],[0.2222222222222222,\"#7201a8\"],[0.3333333333333333,\"#9c179e\"],[0.4444444444444444,\"#bd3786\"],[0.5555555555555556,\"#d8576b\"],[0.6666666666666666,\"#ed7953\"],[0.7777777777777778,\"#fb9f3a\"],[0.8888888888888888,\"#fdca26\"],[1.0,\"#f0f921\"]],\"type\":\"histogram2d\"}],\"histogram\":[{\"marker\":{\"pattern\":{\"fillmode\":\"overlay\",\"size\":10,\"solidity\":0.2}},\"type\":\"histogram\"}],\"mesh3d\":[{\"colorbar\":{\"outlinewidth\":0,\"ticks\":\"\"},\"type\":\"mesh3d\"}],\"parcoords\":[{\"line\":{\"colorbar\":{\"outlinewidth\":0,\"ticks\":\"\"}},\"type\":\"parcoords\"}],\"pie\":[{\"automargin\":true,\"type\":\"pie\"}],\"scatter3d\":[{\"line\":{\"colorbar\":{\"outlinewidth\":0,\"ticks\":\"\"}},\"marker\":{\"colorbar\":{\"outlinewidth\":0,\"ticks\":\"\"}},\"type\":\"scatter3d\"}],\"scattercarpet\":[{\"marker\":{\"colorbar\":{\"outlinewidth\":0,\"ticks\":\"\"}},\"type\":\"scattercarpet\"}],\"scattergeo\":[{\"marker\":{\"colorbar\":{\"outlinewidth\":0,\"ticks\":\"\"}},\"type\":\"scattergeo\"}],\"scattergl\":[{\"marker\":{\"colorbar\":{\"outlinewidth\":0,\"ticks\":\"\"}},\"type\":\"scattergl\"}],\"scattermapbox\":[{\"marker\":{\"colorbar\":{\"outlinewidth\":0,\"ticks\":\"\"}},\"type\":\"scattermapbox\"}],\"scatterpolargl\":[{\"marker\":{\"colorbar\":{\"outlinewidth\":0,\"ticks\":\"\"}},\"type\":\"scatterpolargl\"}],\"scatterpolar\":[{\"marker\":{\"colorbar\":{\"outlinewidth\":0,\"ticks\":\"\"}},\"type\":\"scatterpolar\"}],\"scatter\":[{\"fillpattern\":{\"fillmode\":\"overlay\",\"size\":10,\"solidity\":0.2},\"type\":\"scatter\"}],\"scatterternary\":[{\"marker\":{\"colorbar\":{\"outlinewidth\":0,\"ticks\":\"\"}},\"type\":\"scatterternary\"}],\"surface\":[{\"colorbar\":{\"outlinewidth\":0,\"ticks\":\"\"},\"colorscale\":[[0.0,\"#0d0887\"],[0.1111111111111111,\"#46039f\"],[0.2222222222222222,\"#7201a8\"],[0.3333333333333333,\"#9c179e\"],[0.4444444444444444,\"#bd3786\"],[0.5555555555555556,\"#d8576b\"],[0.6666666666666666,\"#ed7953\"],[0.7777777777777778,\"#fb9f3a\"],[0.8888888888888888,\"#fdca26\"],[1.0,\"#f0f921\"]],\"type\":\"surface\"}],\"table\":[{\"cells\":{\"fill\":{\"color\":\"#EBF0F8\"},\"line\":{\"color\":\"white\"}},\"header\":{\"fill\":{\"color\":\"#C8D4E3\"},\"line\":{\"color\":\"white\"}},\"type\":\"table\"}]},\"layout\":{\"annotationdefaults\":{\"arrowcolor\":\"#2a3f5f\",\"arrowhead\":0,\"arrowwidth\":1},\"autotypenumbers\":\"strict\",\"coloraxis\":{\"colorbar\":{\"outlinewidth\":0,\"ticks\":\"\"}},\"colorscale\":{\"diverging\":[[0,\"#8e0152\"],[0.1,\"#c51b7d\"],[0.2,\"#de77ae\"],[0.3,\"#f1b6da\"],[0.4,\"#fde0ef\"],[0.5,\"#f7f7f7\"],[0.6,\"#e6f5d0\"],[0.7,\"#b8e186\"],[0.8,\"#7fbc41\"],[0.9,\"#4d9221\"],[1,\"#276419\"]],\"sequential\":[[0.0,\"#0d0887\"],[0.1111111111111111,\"#46039f\"],[0.2222222222222222,\"#7201a8\"],[0.3333333333333333,\"#9c179e\"],[0.4444444444444444,\"#bd3786\"],[0.5555555555555556,\"#d8576b\"],[0.6666666666666666,\"#ed7953\"],[0.7777777777777778,\"#fb9f3a\"],[0.8888888888888888,\"#fdca26\"],[1.0,\"#f0f921\"]],\"sequentialminus\":[[0.0,\"#0d0887\"],[0.1111111111111111,\"#46039f\"],[0.2222222222222222,\"#7201a8\"],[0.3333333333333333,\"#9c179e\"],[0.4444444444444444,\"#bd3786\"],[0.5555555555555556,\"#d8576b\"],[0.6666666666666666,\"#ed7953\"],[0.7777777777777778,\"#fb9f3a\"],[0.8888888888888888,\"#fdca26\"],[1.0,\"#f0f921\"]]},\"colorway\":[\"#636efa\",\"#EF553B\",\"#00cc96\",\"#ab63fa\",\"#FFA15A\",\"#19d3f3\",\"#FF6692\",\"#B6E880\",\"#FF97FF\",\"#FECB52\"],\"font\":{\"color\":\"#2a3f5f\"},\"geo\":{\"bgcolor\":\"white\",\"lakecolor\":\"white\",\"landcolor\":\"#E5ECF6\",\"showlakes\":true,\"showland\":true,\"subunitcolor\":\"white\"},\"hoverlabel\":{\"align\":\"left\"},\"hovermode\":\"closest\",\"mapbox\":{\"style\":\"light\"},\"paper_bgcolor\":\"white\",\"plot_bgcolor\":\"#E5ECF6\",\"polar\":{\"angularaxis\":{\"gridcolor\":\"white\",\"linecolor\":\"white\",\"ticks\":\"\"},\"bgcolor\":\"#E5ECF6\",\"radialaxis\":{\"gridcolor\":\"white\",\"linecolor\":\"white\",\"ticks\":\"\"}},\"scene\":{\"xaxis\":{\"backgroundcolor\":\"#E5ECF6\",\"gridcolor\":\"white\",\"gridwidth\":2,\"linecolor\":\"white\",\"showbackground\":true,\"ticks\":\"\",\"zerolinecolor\":\"white\"},\"yaxis\":{\"backgroundcolor\":\"#E5ECF6\",\"gridcolor\":\"white\",\"gridwidth\":2,\"linecolor\":\"white\",\"showbackground\":true,\"ticks\":\"\",\"zerolinecolor\":\"white\"},\"zaxis\":{\"backgroundcolor\":\"#E5ECF6\",\"gridcolor\":\"white\",\"gridwidth\":2,\"linecolor\":\"white\",\"showbackground\":true,\"ticks\":\"\",\"zerolinecolor\":\"white\"}},\"shapedefaults\":{\"line\":{\"color\":\"#2a3f5f\"}},\"ternary\":{\"aaxis\":{\"gridcolor\":\"white\",\"linecolor\":\"white\",\"ticks\":\"\"},\"baxis\":{\"gridcolor\":\"white\",\"linecolor\":\"white\",\"ticks\":\"\"},\"bgcolor\":\"#E5ECF6\",\"caxis\":{\"gridcolor\":\"white\",\"linecolor\":\"white\",\"ticks\":\"\"}},\"title\":{\"x\":0.05},\"xaxis\":{\"automargin\":true,\"gridcolor\":\"white\",\"linecolor\":\"white\",\"ticks\":\"\",\"title\":{\"standoff\":15},\"zerolinecolor\":\"white\",\"zerolinewidth\":2},\"yaxis\":{\"automargin\":true,\"gridcolor\":\"white\",\"linecolor\":\"white\",\"ticks\":\"\",\"title\":{\"standoff\":15},\"zerolinecolor\":\"white\",\"zerolinewidth\":2}}},\"title\":{\"text\":\"Word Count Plots\"},\"width\":600,\"xaxis\":{\"anchor\":\"y\",\"domain\":[0.0,1.0]},\"yaxis\":{\"anchor\":\"x\",\"domain\":[0.0,1.0]}},                        {\"responsive\": true}                    ).then(function(){\n",
       "                            \n",
       "var gd = document.getElementById('de99aef0-bbaf-4aa1-acd7-60725946cc32');\n",
       "var x = new MutationObserver(function (mutations, observer) {{\n",
       "        var display = window.getComputedStyle(gd).display;\n",
       "        if (!display || display === 'none') {{\n",
       "            console.log([gd, 'removed!']);\n",
       "            Plotly.purge(gd);\n",
       "            observer.disconnect();\n",
       "        }}\n",
       "}});\n",
       "\n",
       "// Listen for the removal of the full notebook cells\n",
       "var notebookContainer = gd.closest('#notebook-container');\n",
       "if (notebookContainer) {{\n",
       "    x.observe(notebookContainer, {childList: true});\n",
       "}}\n",
       "\n",
       "// Listen for the clearing of the current output cell\n",
       "var outputEl = gd.closest('.output');\n",
       "if (outputEl) {{\n",
       "    x.observe(outputEl, {childList: true});\n",
       "}}\n",
       "\n",
       "                        })                };                });            </script>        </div>"
      ]
     },
     "metadata": {},
     "output_type": "display_data"
    }
   ],
   "source": [
    "## Get the bar chart from 5 rated reviews ##\n",
    "freq_dict = defaultdict(int)\n",
    "for sent in news_df[\"content\"]:\n",
    "    for word in generate_ngrams(sent,2):\n",
    "        freq_dict[word] += 1\n",
    "fd_sorted = pd.DataFrame(sorted(freq_dict.items(), key=lambda x: x[1])[::-1])\n",
    "fd_sorted.columns = [\"word\", \"wordcount\"]\n",
    "trace0 = horizontal_bar_chart(fd_sorted.head(10), 'green')\n",
    "\n",
    "# Creating two subplots\n",
    "fig = tools.make_subplots(rows=1, cols=1, vertical_spacing=0.04,\n",
    "                          subplot_titles=[\"Frequent words\"])\n",
    "fig.append_trace(trace0, 1, 1)\n",
    "#fig.append_trace(trace1, 1, 2)\n",
    "fig['layout'].update(height=600, width=600, paper_bgcolor='rgb(233,233,233)', title=\"Word Count Plots\")\n",
    "py.iplot(fig, filename='word-plots');"
   ]
  },
  {
   "cell_type": "markdown",
   "metadata": {},
   "source": [
    "# SPY Ticker"
   ]
  },
  {
   "cell_type": "code",
   "execution_count": 22,
   "metadata": {},
   "outputs": [],
   "source": [
    "from urllib.request import Request, urlopen\n",
    "from urllib.error import HTTPError\n",
    "import socket\n",
    "import urllib"
   ]
  },
  {
   "cell_type": "code",
   "execution_count": 23,
   "metadata": {},
   "outputs": [],
   "source": [
    "url = \"https://finviz.com/quote.ashx?t=SPY&ty=c&ta=1&p=d\"\n",
    "\n",
    "\n",
    "headers = {\"User-Agent\": \"Mozilla/5.0\"}\n",
    "cookies = {\"CONSENT\": \"YES+cb.20210720-07-p0.en+FX+410\"}\n",
    "\n",
    "req = Request(url, headers=headers)\n",
    "\n",
    "try:\n",
    "    contents = urlopen(req).read() \n",
    "    soup = BeautifulSoup(contents, features=\"html.parser\")\n",
    "\n",
    "    sentence2 = []\n",
    "\n",
    "    for tag in soup.find_all('a'):\n",
    "\n",
    "        sentence = tag.text.split(\".\")\n",
    "        sentence2.append(sentence)\n",
    "\n",
    "except urllib.error.HTTPError as err:\n",
    "    print(err.code)\n",
    "\n",
    "except socket.timeout as se:\n",
    "    print(\"socket timeout\")"
   ]
  },
  {
   "cell_type": "code",
   "execution_count": 24,
   "metadata": {},
   "outputs": [],
   "source": [
    "df = pd.DataFrame(sentence2)"
   ]
  },
  {
   "cell_type": "code",
   "execution_count": 25,
   "metadata": {},
   "outputs": [],
   "source": [
    "df['Headline'] = df[0]\n",
    "df['Sentiment'] = -2\n",
    "df = pd.DataFrame(list(zip(df['Headline'], df['Sentiment'])), columns=['Headline', 'Sentiment'])"
   ]
  },
  {
   "cell_type": "code",
   "execution_count": 26,
   "metadata": {},
   "outputs": [],
   "source": [
    "i = []\n",
    "\n",
    "for string in df['Headline']:\n",
    "    i.append(count_words(string))\n",
    "\n",
    "df['word_count'] = i\n"
   ]
  },
  {
   "cell_type": "code",
   "execution_count": 27,
   "metadata": {},
   "outputs": [],
   "source": [
    "sentiment = [None] * len(df)\n",
    "sentiment_score = [None] * len(df)\n",
    "index = -1\n",
    "for sentence in df['Headline']:\n",
    "    index+=1\n",
    "    result = sentiment_pipeline(sentence[:512])[0]\n",
    "    sentiment[index] = result['label']\n",
    "    sentiment_score[index] = result['score']\n",
    "df['Sentiment'] = sentiment\n",
    "df['Score'] = sentiment_score\n"
   ]
  },
  {
   "cell_type": "code",
   "execution_count": 28,
   "metadata": {},
   "outputs": [],
   "source": [
    "df = df[df['word_count'] > 10]\n",
    "df['Headline_Lower'] = df['Headline'].str.lower()"
   ]
  },
  {
   "cell_type": "code",
   "execution_count": 74,
   "metadata": {},
   "outputs": [
    {
     "data": {
      "text/html": [
       "<div>\n",
       "<style scoped>\n",
       "    .dataframe tbody tr th:only-of-type {\n",
       "        vertical-align: middle;\n",
       "    }\n",
       "\n",
       "    .dataframe tbody tr th {\n",
       "        vertical-align: top;\n",
       "    }\n",
       "\n",
       "    .dataframe thead th {\n",
       "        text-align: right;\n",
       "    }\n",
       "</style>\n",
       "<table border=\"1\" class=\"dataframe\">\n",
       "  <thead>\n",
       "    <tr style=\"text-align: right;\">\n",
       "      <th></th>\n",
       "      <th>Headline</th>\n",
       "      <th>Sentiment</th>\n",
       "      <th>word_count</th>\n",
       "      <th>Score</th>\n",
       "      <th>Headline_Lower</th>\n",
       "    </tr>\n",
       "  </thead>\n",
       "  <tbody>\n",
       "    <tr>\n",
       "      <th>26</th>\n",
       "      <td>Jackson Hole Capital Partners, LLC Buys Rent-A-Center Inc, Direxion Daily S&amp;P 500 Bear 3X</td>\n",
       "      <td>NEGATIVE</td>\n",
       "      <td>14</td>\n",
       "      <td>0.974540</td>\n",
       "      <td>jackson hole capital partners, llc buys rent-a-center inc, direxion daily s&amp;p 500 bear 3x</td>\n",
       "    </tr>\n",
       "    <tr>\n",
       "      <th>27</th>\n",
       "      <td>Hengehold Capital Management Llc Buys Schwab US Aggregate Bond ETF, iShares National Muni Bond</td>\n",
       "      <td>NEGATIVE</td>\n",
       "      <td>14</td>\n",
       "      <td>0.969672</td>\n",
       "      <td>hengehold capital management llc buys schwab us aggregate bond etf, ishares national muni bond</td>\n",
       "    </tr>\n",
       "    <tr>\n",
       "      <th>30</th>\n",
       "      <td>St Denis J Villere &amp; Co LLC Buys Bank of America Corp, Paya Holdings Inc, Open Lending</td>\n",
       "      <td>POSITIVE</td>\n",
       "      <td>17</td>\n",
       "      <td>0.978686</td>\n",
       "      <td>st denis j villere &amp; co llc buys bank of america corp, paya holdings inc, open lending</td>\n",
       "    </tr>\n",
       "    <tr>\n",
       "      <th>42</th>\n",
       "      <td>Rise of online ordering will continue after COVID-19: Yum China CEO</td>\n",
       "      <td>POSITIVE</td>\n",
       "      <td>11</td>\n",
       "      <td>0.998168</td>\n",
       "      <td>rise of online ordering will continue after covid-19: yum china ceo</td>\n",
       "    </tr>\n",
       "    <tr>\n",
       "      <th>49</th>\n",
       "      <td>NASDAQ Makes It Four Days of Gains as Stocks Resume Rally</td>\n",
       "      <td>NEGATIVE</td>\n",
       "      <td>11</td>\n",
       "      <td>0.972605</td>\n",
       "      <td>nasdaq makes it four days of gains as stocks resume rally</td>\n",
       "    </tr>\n",
       "    <tr>\n",
       "      <th>51</th>\n",
       "      <td>The stock market is getting dangerously close to the mother of support zones</td>\n",
       "      <td>NEGATIVE</td>\n",
       "      <td>13</td>\n",
       "      <td>0.995923</td>\n",
       "      <td>the stock market is getting dangerously close to the mother of support zones</td>\n",
       "    </tr>\n",
       "    <tr>\n",
       "      <th>52</th>\n",
       "      <td>To the investors gobbling up stocks: The intraweek rally attempt faces a better-than-even chance of failure</td>\n",
       "      <td>NEGATIVE</td>\n",
       "      <td>16</td>\n",
       "      <td>0.998739</td>\n",
       "      <td>to the investors gobbling up stocks: the intraweek rally attempt faces a better-than-even chance of failure</td>\n",
       "    </tr>\n",
       "    <tr>\n",
       "      <th>53</th>\n",
       "      <td>How low can the stock market go? Watch these two support zones</td>\n",
       "      <td>NEGATIVE</td>\n",
       "      <td>12</td>\n",
       "      <td>0.999458</td>\n",
       "      <td>how low can the stock market go? watch these two support zones</td>\n",
       "    </tr>\n",
       "    <tr>\n",
       "      <th>54</th>\n",
       "      <td>Dos and donts in this stock market: Dont panic, do develop a plan  even if you didnt have one before</td>\n",
       "      <td>NEGATIVE</td>\n",
       "      <td>21</td>\n",
       "      <td>0.993685</td>\n",
       "      <td>dos and donts in this stock market: dont panic, do develop a plan  even if you didnt have one before</td>\n",
       "    </tr>\n",
       "    <tr>\n",
       "      <th>55</th>\n",
       "      <td>Stock market investors are asking should I buy or sell? Heres how to decide</td>\n",
       "      <td>NEGATIVE</td>\n",
       "      <td>14</td>\n",
       "      <td>0.998444</td>\n",
       "      <td>stock market investors are asking should i buy or sell? heres how to decide</td>\n",
       "    </tr>\n",
       "    <tr>\n",
       "      <th>56</th>\n",
       "      <td>IBD Live: Dow Jones Plunges 2,000 Points: What To Do As Coronavirus Stock Market Correction Hits New Lows</td>\n",
       "      <td>NEGATIVE</td>\n",
       "      <td>18</td>\n",
       "      <td>0.998793</td>\n",
       "      <td>ibd live: dow jones plunges 2,000 points: what to do as coronavirus stock market correction hits new lows</td>\n",
       "    </tr>\n",
       "    <tr>\n",
       "      <th>59</th>\n",
       "      <td>Buffett is bullish on stocks but says the market can drop 50%  is he wrong?</td>\n",
       "      <td>NEGATIVE</td>\n",
       "      <td>16</td>\n",
       "      <td>0.998950</td>\n",
       "      <td>buffett is bullish on stocks but says the market can drop 50%  is he wrong?</td>\n",
       "    </tr>\n",
       "    <tr>\n",
       "      <th>60</th>\n",
       "      <td>The triple-short Nasdaq 100 ETF is the most active stock in the premarket, as the Nasdaq 100 tumbles</td>\n",
       "      <td>NEGATIVE</td>\n",
       "      <td>18</td>\n",
       "      <td>0.998018</td>\n",
       "      <td>the triple-short nasdaq 100 etf is the most active stock in the premarket, as the nasdaq 100 tumbles</td>\n",
       "    </tr>\n",
       "    <tr>\n",
       "      <th>63</th>\n",
       "      <td>Central banks money printing buoys stocks, but for how much longer?</td>\n",
       "      <td>NEGATIVE</td>\n",
       "      <td>11</td>\n",
       "      <td>0.998249</td>\n",
       "      <td>central banks money printing buoys stocks, but for how much longer?</td>\n",
       "    </tr>\n",
       "    <tr>\n",
       "      <th>66</th>\n",
       "      <td>How the coronavirus scare has driven dangerous arrogance and greed in the stock market</td>\n",
       "      <td>NEGATIVE</td>\n",
       "      <td>14</td>\n",
       "      <td>0.997036</td>\n",
       "      <td>how the coronavirus scare has driven dangerous arrogance and greed in the stock market</td>\n",
       "    </tr>\n",
       "    <tr>\n",
       "      <th>67</th>\n",
       "      <td>IBD Live: With Coronavirus Threat, Here's How To Hedge Against Losses</td>\n",
       "      <td>NEGATIVE</td>\n",
       "      <td>11</td>\n",
       "      <td>0.995592</td>\n",
       "      <td>ibd live: with coronavirus threat, here's how to hedge against losses</td>\n",
       "    </tr>\n",
       "    <tr>\n",
       "      <th>68</th>\n",
       "      <td>IBD Live: Stock Market Falls On Coronavirus; Time To Take Profits?</td>\n",
       "      <td>NEGATIVE</td>\n",
       "      <td>11</td>\n",
       "      <td>0.999236</td>\n",
       "      <td>ibd live: stock market falls on coronavirus; time to take profits?</td>\n",
       "    </tr>\n",
       "    <tr>\n",
       "      <th>69</th>\n",
       "      <td>Watch these stocks and ETFs to gauge the impact of the coronavirus on markets</td>\n",
       "      <td>POSITIVE</td>\n",
       "      <td>14</td>\n",
       "      <td>0.967010</td>\n",
       "      <td>watch these stocks and etfs to gauge the impact of the coronavirus on markets</td>\n",
       "    </tr>\n",
       "    <tr>\n",
       "      <th>71</th>\n",
       "      <td>Stock Market Today At New Highs, But This Hedging Strategy Means You Don't Have To Sell  Yet</td>\n",
       "      <td>POSITIVE</td>\n",
       "      <td>18</td>\n",
       "      <td>0.995608</td>\n",
       "      <td>stock market today at new highs, but this hedging strategy means you don't have to sell  yet</td>\n",
       "    </tr>\n",
       "    <tr>\n",
       "      <th>74</th>\n",
       "      <td>Believe in a Santa Claus rally if you want, but first look at this chart</td>\n",
       "      <td>NEGATIVE</td>\n",
       "      <td>15</td>\n",
       "      <td>0.972901</td>\n",
       "      <td>believe in a santa claus rally if you want, but first look at this chart</td>\n",
       "    </tr>\n",
       "    <tr>\n",
       "      <th>79</th>\n",
       "      <td>President Trump might just be the best stock market timer ever</td>\n",
       "      <td>POSITIVE</td>\n",
       "      <td>11</td>\n",
       "      <td>0.997398</td>\n",
       "      <td>president trump might just be the best stock market timer ever</td>\n",
       "    </tr>\n",
       "    <tr>\n",
       "      <th>88</th>\n",
       "      <td>Why this time is different rings true in todays stock market</td>\n",
       "      <td>POSITIVE</td>\n",
       "      <td>11</td>\n",
       "      <td>0.999510</td>\n",
       "      <td>why this time is different rings true in todays stock market</td>\n",
       "    </tr>\n",
       "    <tr>\n",
       "      <th>89</th>\n",
       "      <td>Stock market steps back from the cliffs edge  heres what to watch for next</td>\n",
       "      <td>NEGATIVE</td>\n",
       "      <td>15</td>\n",
       "      <td>0.931890</td>\n",
       "      <td>stock market steps back from the cliffs edge  heres what to watch for next</td>\n",
       "    </tr>\n",
       "    <tr>\n",
       "      <th>90</th>\n",
       "      <td>Fed &amp;amp; Trade Trigger Market Bloodbath: 6 Hot Inverse ETF Areas</td>\n",
       "      <td>NEGATIVE</td>\n",
       "      <td>11</td>\n",
       "      <td>0.990411</td>\n",
       "      <td>fed &amp;amp; trade trigger market bloodbath: 6 hot inverse etf areas</td>\n",
       "    </tr>\n",
       "  </tbody>\n",
       "</table>\n",
       "</div>"
      ],
      "text/plain": [
       "                                                                                                       Headline  \\\n",
       "26                   Jackson Hole Capital Partners, LLC Buys Rent-A-Center Inc, Direxion Daily S&P 500 Bear 3X    \n",
       "27              Hengehold Capital Management Llc Buys Schwab US Aggregate Bond ETF, iShares National Muni Bond    \n",
       "30                      St Denis J Villere & Co LLC Buys Bank of America Corp, Paya Holdings Inc, Open Lending    \n",
       "42                                          Rise of online ordering will continue after COVID-19: Yum China CEO   \n",
       "49                                                    NASDAQ Makes It Four Days of Gains as Stocks Resume Rally   \n",
       "51                                 The stock market is getting dangerously close to the mother of support zones   \n",
       "52  To the investors gobbling up stocks: The intraweek rally attempt faces a better-than-even chance of failure   \n",
       "53                                               How low can the stock market go? Watch these two support zones   \n",
       "54         Dos and donts in this stock market: Dont panic, do develop a plan  even if you didnt have one before   \n",
       "55                                  Stock market investors are asking should I buy or sell? Heres how to decide   \n",
       "56    IBD Live: Dow Jones Plunges 2,000 Points: What To Do As Coronavirus Stock Market Correction Hits New Lows   \n",
       "59                                  Buffett is bullish on stocks but says the market can drop 50%  is he wrong?   \n",
       "60         The triple-short Nasdaq 100 ETF is the most active stock in the premarket, as the Nasdaq 100 tumbles   \n",
       "63                                          Central banks money printing buoys stocks, but for how much longer?   \n",
       "66                       How the coronavirus scare has driven dangerous arrogance and greed in the stock market   \n",
       "67                                        IBD Live: With Coronavirus Threat, Here's How To Hedge Against Losses   \n",
       "68                                           IBD Live: Stock Market Falls On Coronavirus; Time To Take Profits?   \n",
       "69                                Watch these stocks and ETFs to gauge the impact of the coronavirus on markets   \n",
       "71                 Stock Market Today At New Highs, But This Hedging Strategy Means You Don't Have To Sell  Yet   \n",
       "74                                     Believe in a Santa Claus rally if you want, but first look at this chart   \n",
       "79                                               President Trump might just be the best stock market timer ever   \n",
       "88                                                 Why this time is different rings true in todays stock market   \n",
       "89                                   Stock market steps back from the cliffs edge  heres what to watch for next   \n",
       "90                                            Fed &amp; Trade Trigger Market Bloodbath: 6 Hot Inverse ETF Areas   \n",
       "\n",
       "   Sentiment  word_count     Score  \\\n",
       "26  NEGATIVE          14  0.974540   \n",
       "27  NEGATIVE          14  0.969672   \n",
       "30  POSITIVE          17  0.978686   \n",
       "42  POSITIVE          11  0.998168   \n",
       "49  NEGATIVE          11  0.972605   \n",
       "51  NEGATIVE          13  0.995923   \n",
       "52  NEGATIVE          16  0.998739   \n",
       "53  NEGATIVE          12  0.999458   \n",
       "54  NEGATIVE          21  0.993685   \n",
       "55  NEGATIVE          14  0.998444   \n",
       "56  NEGATIVE          18  0.998793   \n",
       "59  NEGATIVE          16  0.998950   \n",
       "60  NEGATIVE          18  0.998018   \n",
       "63  NEGATIVE          11  0.998249   \n",
       "66  NEGATIVE          14  0.997036   \n",
       "67  NEGATIVE          11  0.995592   \n",
       "68  NEGATIVE          11  0.999236   \n",
       "69  POSITIVE          14  0.967010   \n",
       "71  POSITIVE          18  0.995608   \n",
       "74  NEGATIVE          15  0.972901   \n",
       "79  POSITIVE          11  0.997398   \n",
       "88  POSITIVE          11  0.999510   \n",
       "89  NEGATIVE          15  0.931890   \n",
       "90  NEGATIVE          11  0.990411   \n",
       "\n",
       "                                                                                                 Headline_Lower  \n",
       "26                   jackson hole capital partners, llc buys rent-a-center inc, direxion daily s&p 500 bear 3x   \n",
       "27              hengehold capital management llc buys schwab us aggregate bond etf, ishares national muni bond   \n",
       "30                      st denis j villere & co llc buys bank of america corp, paya holdings inc, open lending   \n",
       "42                                          rise of online ordering will continue after covid-19: yum china ceo  \n",
       "49                                                    nasdaq makes it four days of gains as stocks resume rally  \n",
       "51                                 the stock market is getting dangerously close to the mother of support zones  \n",
       "52  to the investors gobbling up stocks: the intraweek rally attempt faces a better-than-even chance of failure  \n",
       "53                                               how low can the stock market go? watch these two support zones  \n",
       "54         dos and donts in this stock market: dont panic, do develop a plan  even if you didnt have one before  \n",
       "55                                  stock market investors are asking should i buy or sell? heres how to decide  \n",
       "56    ibd live: dow jones plunges 2,000 points: what to do as coronavirus stock market correction hits new lows  \n",
       "59                                  buffett is bullish on stocks but says the market can drop 50%  is he wrong?  \n",
       "60         the triple-short nasdaq 100 etf is the most active stock in the premarket, as the nasdaq 100 tumbles  \n",
       "63                                          central banks money printing buoys stocks, but for how much longer?  \n",
       "66                       how the coronavirus scare has driven dangerous arrogance and greed in the stock market  \n",
       "67                                        ibd live: with coronavirus threat, here's how to hedge against losses  \n",
       "68                                           ibd live: stock market falls on coronavirus; time to take profits?  \n",
       "69                                watch these stocks and etfs to gauge the impact of the coronavirus on markets  \n",
       "71                 stock market today at new highs, but this hedging strategy means you don't have to sell  yet  \n",
       "74                                     believe in a santa claus rally if you want, but first look at this chart  \n",
       "79                                               president trump might just be the best stock market timer ever  \n",
       "88                                                 why this time is different rings true in todays stock market  \n",
       "89                                   stock market steps back from the cliffs edge  heres what to watch for next  \n",
       "90                                            fed &amp; trade trigger market bloodbath: 6 hot inverse etf areas  "
      ]
     },
     "execution_count": 74,
     "metadata": {},
     "output_type": "execute_result"
    }
   ],
   "source": [
    "df[df['Score'] > 0.8]"
   ]
  },
  {
   "cell_type": "code",
   "execution_count": 29,
   "metadata": {},
   "outputs": [
    {
     "data": {
      "text/plain": [
       "<AxesSubplot:xlabel='Sentiment', ylabel='Count'>"
      ]
     },
     "execution_count": 29,
     "metadata": {},
     "output_type": "execute_result"
    },
    {
     "data": {
      "image/png": "[encoded data removed]",
      "text/plain": [
       "<Figure size 432x288 with 1 Axes>"
      ]
     },
     "metadata": {
      "needs_background": "light"
     },
     "output_type": "display_data"
    }
   ],
   "source": [
    "sns.histplot(x = 'Sentiment', data = df[df['Score'] > 0.8], hue = 'Sentiment', hue_order=['POSITIVE', 'NEGATIVE'])"
   ]
  },
  {
   "cell_type": "markdown",
   "metadata": {},
   "source": [
    "# NUSI Ticker"
   ]
  },
  {
   "cell_type": "code",
   "execution_count": 30,
   "metadata": {},
   "outputs": [],
   "source": [
    "url = \"https://finviz.com/quote.ashx?t=NUSI&ty=c&ta=1&p=d\"\n",
    "\n",
    "\n",
    "headers = {\"User-Agent\": \"Mozilla/5.0\"}\n",
    "cookies = {\"CONSENT\": \"YES+cb.20210720-07-p0.en+FX+410\"}\n",
    "\n",
    "req = Request(url, headers=headers)\n",
    "\n",
    "try:\n",
    "    contents = urlopen(req).read() \n",
    "    soup = BeautifulSoup(contents, features=\"html.parser\")\n",
    "\n",
    "    sentence2 = []\n",
    "\n",
    "    for tag in soup.find_all('a'):\n",
    "\n",
    "        sentence = tag.text.split(\".\")\n",
    "        sentence2.append(sentence)\n",
    "\n",
    "except urllib.error.HTTPError as err:\n",
    "    print(err.code)\n",
    "\n",
    "except socket.timeout as se:\n",
    "    print(\"socket timeout\")"
   ]
  },
  {
   "cell_type": "code",
   "execution_count": 31,
   "metadata": {},
   "outputs": [],
   "source": [
    "df = pd.DataFrame(sentence2)"
   ]
  },
  {
   "cell_type": "code",
   "execution_count": 32,
   "metadata": {},
   "outputs": [],
   "source": [
    "df['Headline'] = df[0]\n",
    "df['Sentiment'] = -2\n",
    "df = pd.DataFrame(list(zip(df['Headline'], df['Sentiment'])), columns=['Headline', 'Sentiment'])"
   ]
  },
  {
   "cell_type": "code",
   "execution_count": 33,
   "metadata": {},
   "outputs": [],
   "source": [
    "i = []\n",
    "\n",
    "for string in df['Headline']:\n",
    "    i.append(count_words(string))\n",
    "\n",
    "df['word_count'] = i\n"
   ]
  },
  {
   "cell_type": "code",
   "execution_count": 34,
   "metadata": {},
   "outputs": [],
   "source": [
    "sentiment = [None] * len(df)\n",
    "sentiment_score = [None] * len(df)\n",
    "index = -1\n",
    "for sentence in df['Headline']:\n",
    "    index+=1\n",
    "    result = sentiment_pipeline(sentence[:512])[0]\n",
    "    sentiment[index] = result['label']\n",
    "    sentiment_score[index] = result['score']\n",
    "df['Sentiment'] = sentiment\n",
    "df['Score'] = sentiment_score\n"
   ]
  },
  {
   "cell_type": "code",
   "execution_count": 35,
   "metadata": {},
   "outputs": [],
   "source": [
    "df = df[df['word_count'] > 10]\n",
    "df['Headline_Lower'] = df['Headline'].str.lower()"
   ]
  },
  {
   "cell_type": "code",
   "execution_count": 75,
   "metadata": {},
   "outputs": [
    {
     "data": {
      "text/html": [
       "<div>\n",
       "<style scoped>\n",
       "    .dataframe tbody tr th:only-of-type {\n",
       "        vertical-align: middle;\n",
       "    }\n",
       "\n",
       "    .dataframe tbody tr th {\n",
       "        vertical-align: top;\n",
       "    }\n",
       "\n",
       "    .dataframe thead th {\n",
       "        text-align: right;\n",
       "    }\n",
       "</style>\n",
       "<table border=\"1\" class=\"dataframe\">\n",
       "  <thead>\n",
       "    <tr style=\"text-align: right;\">\n",
       "      <th></th>\n",
       "      <th>Headline</th>\n",
       "      <th>Sentiment</th>\n",
       "      <th>word_count</th>\n",
       "      <th>Score</th>\n",
       "      <th>Headline_Lower</th>\n",
       "    </tr>\n",
       "  </thead>\n",
       "  <tbody>\n",
       "    <tr>\n",
       "      <th>26</th>\n",
       "      <td>Jackson Hole Capital Partners, LLC Buys Rent-A-Center Inc, Direxion Daily S&amp;P 500 Bear 3X</td>\n",
       "      <td>NEGATIVE</td>\n",
       "      <td>14</td>\n",
       "      <td>0.974540</td>\n",
       "      <td>jackson hole capital partners, llc buys rent-a-center inc, direxion daily s&amp;p 500 bear 3x</td>\n",
       "    </tr>\n",
       "    <tr>\n",
       "      <th>27</th>\n",
       "      <td>Hengehold Capital Management Llc Buys Schwab US Aggregate Bond ETF, iShares National Muni Bond</td>\n",
       "      <td>NEGATIVE</td>\n",
       "      <td>14</td>\n",
       "      <td>0.969672</td>\n",
       "      <td>hengehold capital management llc buys schwab us aggregate bond etf, ishares national muni bond</td>\n",
       "    </tr>\n",
       "    <tr>\n",
       "      <th>30</th>\n",
       "      <td>St Denis J Villere &amp; Co LLC Buys Bank of America Corp, Paya Holdings Inc, Open Lending</td>\n",
       "      <td>POSITIVE</td>\n",
       "      <td>17</td>\n",
       "      <td>0.978686</td>\n",
       "      <td>st denis j villere &amp; co llc buys bank of america corp, paya holdings inc, open lending</td>\n",
       "    </tr>\n",
       "    <tr>\n",
       "      <th>42</th>\n",
       "      <td>Rise of online ordering will continue after COVID-19: Yum China CEO</td>\n",
       "      <td>POSITIVE</td>\n",
       "      <td>11</td>\n",
       "      <td>0.998168</td>\n",
       "      <td>rise of online ordering will continue after covid-19: yum china ceo</td>\n",
       "    </tr>\n",
       "    <tr>\n",
       "      <th>49</th>\n",
       "      <td>NASDAQ Makes It Four Days of Gains as Stocks Resume Rally</td>\n",
       "      <td>NEGATIVE</td>\n",
       "      <td>11</td>\n",
       "      <td>0.972605</td>\n",
       "      <td>nasdaq makes it four days of gains as stocks resume rally</td>\n",
       "    </tr>\n",
       "    <tr>\n",
       "      <th>51</th>\n",
       "      <td>The stock market is getting dangerously close to the mother of support zones</td>\n",
       "      <td>NEGATIVE</td>\n",
       "      <td>13</td>\n",
       "      <td>0.995923</td>\n",
       "      <td>the stock market is getting dangerously close to the mother of support zones</td>\n",
       "    </tr>\n",
       "    <tr>\n",
       "      <th>52</th>\n",
       "      <td>To the investors gobbling up stocks: The intraweek rally attempt faces a better-than-even chance of failure</td>\n",
       "      <td>NEGATIVE</td>\n",
       "      <td>16</td>\n",
       "      <td>0.998739</td>\n",
       "      <td>to the investors gobbling up stocks: the intraweek rally attempt faces a better-than-even chance of failure</td>\n",
       "    </tr>\n",
       "    <tr>\n",
       "      <th>53</th>\n",
       "      <td>How low can the stock market go? Watch these two support zones</td>\n",
       "      <td>NEGATIVE</td>\n",
       "      <td>12</td>\n",
       "      <td>0.999458</td>\n",
       "      <td>how low can the stock market go? watch these two support zones</td>\n",
       "    </tr>\n",
       "    <tr>\n",
       "      <th>54</th>\n",
       "      <td>Dos and donts in this stock market: Dont panic, do develop a plan  even if you didnt have one before</td>\n",
       "      <td>NEGATIVE</td>\n",
       "      <td>21</td>\n",
       "      <td>0.993685</td>\n",
       "      <td>dos and donts in this stock market: dont panic, do develop a plan  even if you didnt have one before</td>\n",
       "    </tr>\n",
       "    <tr>\n",
       "      <th>55</th>\n",
       "      <td>Stock market investors are asking should I buy or sell? Heres how to decide</td>\n",
       "      <td>NEGATIVE</td>\n",
       "      <td>14</td>\n",
       "      <td>0.998444</td>\n",
       "      <td>stock market investors are asking should i buy or sell? heres how to decide</td>\n",
       "    </tr>\n",
       "    <tr>\n",
       "      <th>56</th>\n",
       "      <td>IBD Live: Dow Jones Plunges 2,000 Points: What To Do As Coronavirus Stock Market Correction Hits New Lows</td>\n",
       "      <td>NEGATIVE</td>\n",
       "      <td>18</td>\n",
       "      <td>0.998793</td>\n",
       "      <td>ibd live: dow jones plunges 2,000 points: what to do as coronavirus stock market correction hits new lows</td>\n",
       "    </tr>\n",
       "    <tr>\n",
       "      <th>59</th>\n",
       "      <td>Buffett is bullish on stocks but says the market can drop 50%  is he wrong?</td>\n",
       "      <td>NEGATIVE</td>\n",
       "      <td>16</td>\n",
       "      <td>0.998950</td>\n",
       "      <td>buffett is bullish on stocks but says the market can drop 50%  is he wrong?</td>\n",
       "    </tr>\n",
       "    <tr>\n",
       "      <th>60</th>\n",
       "      <td>The triple-short Nasdaq 100 ETF is the most active stock in the premarket, as the Nasdaq 100 tumbles</td>\n",
       "      <td>NEGATIVE</td>\n",
       "      <td>18</td>\n",
       "      <td>0.998018</td>\n",
       "      <td>the triple-short nasdaq 100 etf is the most active stock in the premarket, as the nasdaq 100 tumbles</td>\n",
       "    </tr>\n",
       "    <tr>\n",
       "      <th>63</th>\n",
       "      <td>Central banks money printing buoys stocks, but for how much longer?</td>\n",
       "      <td>NEGATIVE</td>\n",
       "      <td>11</td>\n",
       "      <td>0.998249</td>\n",
       "      <td>central banks money printing buoys stocks, but for how much longer?</td>\n",
       "    </tr>\n",
       "    <tr>\n",
       "      <th>66</th>\n",
       "      <td>How the coronavirus scare has driven dangerous arrogance and greed in the stock market</td>\n",
       "      <td>NEGATIVE</td>\n",
       "      <td>14</td>\n",
       "      <td>0.997036</td>\n",
       "      <td>how the coronavirus scare has driven dangerous arrogance and greed in the stock market</td>\n",
       "    </tr>\n",
       "    <tr>\n",
       "      <th>67</th>\n",
       "      <td>IBD Live: With Coronavirus Threat, Here's How To Hedge Against Losses</td>\n",
       "      <td>NEGATIVE</td>\n",
       "      <td>11</td>\n",
       "      <td>0.995592</td>\n",
       "      <td>ibd live: with coronavirus threat, here's how to hedge against losses</td>\n",
       "    </tr>\n",
       "    <tr>\n",
       "      <th>68</th>\n",
       "      <td>IBD Live: Stock Market Falls On Coronavirus; Time To Take Profits?</td>\n",
       "      <td>NEGATIVE</td>\n",
       "      <td>11</td>\n",
       "      <td>0.999236</td>\n",
       "      <td>ibd live: stock market falls on coronavirus; time to take profits?</td>\n",
       "    </tr>\n",
       "    <tr>\n",
       "      <th>69</th>\n",
       "      <td>Watch these stocks and ETFs to gauge the impact of the coronavirus on markets</td>\n",
       "      <td>POSITIVE</td>\n",
       "      <td>14</td>\n",
       "      <td>0.967010</td>\n",
       "      <td>watch these stocks and etfs to gauge the impact of the coronavirus on markets</td>\n",
       "    </tr>\n",
       "    <tr>\n",
       "      <th>71</th>\n",
       "      <td>Stock Market Today At New Highs, But This Hedging Strategy Means You Don't Have To Sell  Yet</td>\n",
       "      <td>POSITIVE</td>\n",
       "      <td>18</td>\n",
       "      <td>0.995608</td>\n",
       "      <td>stock market today at new highs, but this hedging strategy means you don't have to sell  yet</td>\n",
       "    </tr>\n",
       "    <tr>\n",
       "      <th>74</th>\n",
       "      <td>Believe in a Santa Claus rally if you want, but first look at this chart</td>\n",
       "      <td>NEGATIVE</td>\n",
       "      <td>15</td>\n",
       "      <td>0.972901</td>\n",
       "      <td>believe in a santa claus rally if you want, but first look at this chart</td>\n",
       "    </tr>\n",
       "    <tr>\n",
       "      <th>79</th>\n",
       "      <td>President Trump might just be the best stock market timer ever</td>\n",
       "      <td>POSITIVE</td>\n",
       "      <td>11</td>\n",
       "      <td>0.997398</td>\n",
       "      <td>president trump might just be the best stock market timer ever</td>\n",
       "    </tr>\n",
       "    <tr>\n",
       "      <th>88</th>\n",
       "      <td>Why this time is different rings true in todays stock market</td>\n",
       "      <td>POSITIVE</td>\n",
       "      <td>11</td>\n",
       "      <td>0.999510</td>\n",
       "      <td>why this time is different rings true in todays stock market</td>\n",
       "    </tr>\n",
       "    <tr>\n",
       "      <th>89</th>\n",
       "      <td>Stock market steps back from the cliffs edge  heres what to watch for next</td>\n",
       "      <td>NEGATIVE</td>\n",
       "      <td>15</td>\n",
       "      <td>0.931890</td>\n",
       "      <td>stock market steps back from the cliffs edge  heres what to watch for next</td>\n",
       "    </tr>\n",
       "    <tr>\n",
       "      <th>90</th>\n",
       "      <td>Fed &amp;amp; Trade Trigger Market Bloodbath: 6 Hot Inverse ETF Areas</td>\n",
       "      <td>NEGATIVE</td>\n",
       "      <td>11</td>\n",
       "      <td>0.990411</td>\n",
       "      <td>fed &amp;amp; trade trigger market bloodbath: 6 hot inverse etf areas</td>\n",
       "    </tr>\n",
       "  </tbody>\n",
       "</table>\n",
       "</div>"
      ],
      "text/plain": [
       "                                                                                                       Headline  \\\n",
       "26                   Jackson Hole Capital Partners, LLC Buys Rent-A-Center Inc, Direxion Daily S&P 500 Bear 3X    \n",
       "27              Hengehold Capital Management Llc Buys Schwab US Aggregate Bond ETF, iShares National Muni Bond    \n",
       "30                      St Denis J Villere & Co LLC Buys Bank of America Corp, Paya Holdings Inc, Open Lending    \n",
       "42                                          Rise of online ordering will continue after COVID-19: Yum China CEO   \n",
       "49                                                    NASDAQ Makes It Four Days of Gains as Stocks Resume Rally   \n",
       "51                                 The stock market is getting dangerously close to the mother of support zones   \n",
       "52  To the investors gobbling up stocks: The intraweek rally attempt faces a better-than-even chance of failure   \n",
       "53                                               How low can the stock market go? Watch these two support zones   \n",
       "54         Dos and donts in this stock market: Dont panic, do develop a plan  even if you didnt have one before   \n",
       "55                                  Stock market investors are asking should I buy or sell? Heres how to decide   \n",
       "56    IBD Live: Dow Jones Plunges 2,000 Points: What To Do As Coronavirus Stock Market Correction Hits New Lows   \n",
       "59                                  Buffett is bullish on stocks but says the market can drop 50%  is he wrong?   \n",
       "60         The triple-short Nasdaq 100 ETF is the most active stock in the premarket, as the Nasdaq 100 tumbles   \n",
       "63                                          Central banks money printing buoys stocks, but for how much longer?   \n",
       "66                       How the coronavirus scare has driven dangerous arrogance and greed in the stock market   \n",
       "67                                        IBD Live: With Coronavirus Threat, Here's How To Hedge Against Losses   \n",
       "68                                           IBD Live: Stock Market Falls On Coronavirus; Time To Take Profits?   \n",
       "69                                Watch these stocks and ETFs to gauge the impact of the coronavirus on markets   \n",
       "71                 Stock Market Today At New Highs, But This Hedging Strategy Means You Don't Have To Sell  Yet   \n",
       "74                                     Believe in a Santa Claus rally if you want, but first look at this chart   \n",
       "79                                               President Trump might just be the best stock market timer ever   \n",
       "88                                                 Why this time is different rings true in todays stock market   \n",
       "89                                   Stock market steps back from the cliffs edge  heres what to watch for next   \n",
       "90                                            Fed &amp; Trade Trigger Market Bloodbath: 6 Hot Inverse ETF Areas   \n",
       "\n",
       "   Sentiment  word_count     Score  \\\n",
       "26  NEGATIVE          14  0.974540   \n",
       "27  NEGATIVE          14  0.969672   \n",
       "30  POSITIVE          17  0.978686   \n",
       "42  POSITIVE          11  0.998168   \n",
       "49  NEGATIVE          11  0.972605   \n",
       "51  NEGATIVE          13  0.995923   \n",
       "52  NEGATIVE          16  0.998739   \n",
       "53  NEGATIVE          12  0.999458   \n",
       "54  NEGATIVE          21  0.993685   \n",
       "55  NEGATIVE          14  0.998444   \n",
       "56  NEGATIVE          18  0.998793   \n",
       "59  NEGATIVE          16  0.998950   \n",
       "60  NEGATIVE          18  0.998018   \n",
       "63  NEGATIVE          11  0.998249   \n",
       "66  NEGATIVE          14  0.997036   \n",
       "67  NEGATIVE          11  0.995592   \n",
       "68  NEGATIVE          11  0.999236   \n",
       "69  POSITIVE          14  0.967010   \n",
       "71  POSITIVE          18  0.995608   \n",
       "74  NEGATIVE          15  0.972901   \n",
       "79  POSITIVE          11  0.997398   \n",
       "88  POSITIVE          11  0.999510   \n",
       "89  NEGATIVE          15  0.931890   \n",
       "90  NEGATIVE          11  0.990411   \n",
       "\n",
       "                                                                                                 Headline_Lower  \n",
       "26                   jackson hole capital partners, llc buys rent-a-center inc, direxion daily s&p 500 bear 3x   \n",
       "27              hengehold capital management llc buys schwab us aggregate bond etf, ishares national muni bond   \n",
       "30                      st denis j villere & co llc buys bank of america corp, paya holdings inc, open lending   \n",
       "42                                          rise of online ordering will continue after covid-19: yum china ceo  \n",
       "49                                                    nasdaq makes it four days of gains as stocks resume rally  \n",
       "51                                 the stock market is getting dangerously close to the mother of support zones  \n",
       "52  to the investors gobbling up stocks: the intraweek rally attempt faces a better-than-even chance of failure  \n",
       "53                                               how low can the stock market go? watch these two support zones  \n",
       "54         dos and donts in this stock market: dont panic, do develop a plan  even if you didnt have one before  \n",
       "55                                  stock market investors are asking should i buy or sell? heres how to decide  \n",
       "56    ibd live: dow jones plunges 2,000 points: what to do as coronavirus stock market correction hits new lows  \n",
       "59                                  buffett is bullish on stocks but says the market can drop 50%  is he wrong?  \n",
       "60         the triple-short nasdaq 100 etf is the most active stock in the premarket, as the nasdaq 100 tumbles  \n",
       "63                                          central banks money printing buoys stocks, but for how much longer?  \n",
       "66                       how the coronavirus scare has driven dangerous arrogance and greed in the stock market  \n",
       "67                                        ibd live: with coronavirus threat, here's how to hedge against losses  \n",
       "68                                           ibd live: stock market falls on coronavirus; time to take profits?  \n",
       "69                                watch these stocks and etfs to gauge the impact of the coronavirus on markets  \n",
       "71                 stock market today at new highs, but this hedging strategy means you don't have to sell  yet  \n",
       "74                                     believe in a santa claus rally if you want, but first look at this chart  \n",
       "79                                               president trump might just be the best stock market timer ever  \n",
       "88                                                 why this time is different rings true in todays stock market  \n",
       "89                                   stock market steps back from the cliffs edge  heres what to watch for next  \n",
       "90                                            fed &amp; trade trigger market bloodbath: 6 hot inverse etf areas  "
      ]
     },
     "execution_count": 75,
     "metadata": {},
     "output_type": "execute_result"
    }
   ],
   "source": [
    "df[df['Score'] > 0.8]"
   ]
  },
  {
   "cell_type": "code",
   "execution_count": 36,
   "metadata": {},
   "outputs": [
    {
     "data": {
      "text/plain": [
       "<AxesSubplot:xlabel='Sentiment', ylabel='Count'>"
      ]
     },
     "execution_count": 36,
     "metadata": {},
     "output_type": "execute_result"
    },
    {
     "data": {
      "image/png": "[encoded data removed]",
      "text/plain": [
       "<Figure size 432x288 with 1 Axes>"
      ]
     },
     "metadata": {
      "needs_background": "light"
     },
     "output_type": "display_data"
    }
   ],
   "source": [
    "sns.histplot(x = 'Sentiment', data = df[df['Score'] > 0.8], hue = 'Sentiment', hue_order=['POSITIVE', 'NEGATIVE'])"
   ]
  },
  {
   "cell_type": "markdown",
   "metadata": {},
   "source": [
    "# XOM YF"
   ]
  },
  {
   "cell_type": "code",
   "execution_count": 37,
   "metadata": {},
   "outputs": [
    {
     "name": "stdout",
     "output_type": "stream",
     "text": [
      "Requesting html page\n",
      "Extracting news tags\n",
      "Parsing news tags\n",
      "Save the data to a CSV\n"
     ]
    }
   ],
   "source": [
    "YAHOO_NEWS_URL = 'https://finance.yahoo.com/quote/XOM/news?p=XOM'\n",
    "news_df = scrape_yahoo_news(YAHOO_NEWS_URL)"
   ]
  },
  {
   "cell_type": "code",
   "execution_count": 38,
   "metadata": {},
   "outputs": [],
   "source": [
    "from transformers import pipeline\n",
    "\n",
    "import warnings\n",
    "warnings.filterwarnings(\"ignore\")\n",
    "\n",
    "from IPython.core.interactiveshell import InteractiveShell\n",
    "InteractiveShell.ast_node_interactivity = 'all'\n",
    "\n",
    "pd.set_option('display.max_columns', None) "
   ]
  },
  {
   "cell_type": "code",
   "execution_count": 39,
   "metadata": {},
   "outputs": [],
   "source": [
    "sentiment_pipeline = pipeline(\"sentiment-analysis\", model=\"distilbert-base-uncased-finetuned-sst-2-english\")"
   ]
  },
  {
   "cell_type": "code",
   "execution_count": 40,
   "metadata": {},
   "outputs": [],
   "source": [
    "sentiment = [None] * len(news_df)\n",
    "sentiment_score = [None] * len(news_df)\n",
    "index = -1\n",
    "for sentence in news_df['headline']:\n",
    "    index+=1\n",
    "    result = sentiment_pipeline(sentence[:512])[0]\n",
    "    sentiment[index] = result['label']\n",
    "    sentiment_score[index] = result['score']\n",
    "news_df['Sentiment'] = sentiment\n",
    "news_df['Score'] = sentiment_score\n",
    "\n",
    "\n",
    "sentiment = [None] * len(news_df)\n",
    "sentiment_score = [None] * len(news_df)\n",
    "index = -1\n",
    "for sentence in news_df['content']:\n",
    "    index+=1\n",
    "    result = sentiment_pipeline(sentence[:512])[0]\n",
    "    sentiment[index] = result['label']\n",
    "    sentiment_score[index] = result['score']\n",
    "news_df['Sentiment2'] = sentiment\n",
    "news_df['Score2'] = sentiment_score"
   ]
  },
  {
   "cell_type": "code",
   "execution_count": 41,
   "metadata": {},
   "outputs": [],
   "source": [
    "import seaborn as sns"
   ]
  },
  {
   "cell_type": "code",
   "execution_count": 76,
   "metadata": {},
   "outputs": [
    {
     "data": {
      "text/html": [
       "<div>\n",
       "<style scoped>\n",
       "    .dataframe tbody tr th:only-of-type {\n",
       "        vertical-align: middle;\n",
       "    }\n",
       "\n",
       "    .dataframe tbody tr th {\n",
       "        vertical-align: top;\n",
       "    }\n",
       "\n",
       "    .dataframe thead th {\n",
       "        text-align: right;\n",
       "    }\n",
       "</style>\n",
       "<table border=\"1\" class=\"dataframe\">\n",
       "  <thead>\n",
       "    <tr style=\"text-align: right;\">\n",
       "      <th></th>\n",
       "      <th>source</th>\n",
       "      <th>time</th>\n",
       "      <th>headline</th>\n",
       "      <th>content</th>\n",
       "      <th>Sentiment</th>\n",
       "      <th>Score</th>\n",
       "      <th>Sentiment2</th>\n",
       "      <th>Score2</th>\n",
       "    </tr>\n",
       "  </thead>\n",
       "  <tbody>\n",
       "    <tr>\n",
       "      <th>0</th>\n",
       "      <td>Insider Monkey</td>\n",
       "      <td>2 days ago</td>\n",
       "      <td>12 Best Communication Stocks To Buy Today</td>\n",
       "      <td>In this article, we discuss the 12 best communication stocks to buy today. If you want to read about some more communication stocks to buy today, go directly to 5 Best Communication Stocks To Buy Today. The communications industry has grown from a sector that used to include just telecommunications, newspapers, magazines, books, and radio […]</td>\n",
       "      <td>POSITIVE</td>\n",
       "      <td>0.999457</td>\n",
       "      <td>POSITIVE</td>\n",
       "      <td>0.994583</td>\n",
       "    </tr>\n",
       "    <tr>\n",
       "      <th>1</th>\n",
       "      <td>Simply Wall St.</td>\n",
       "      <td>3 days ago</td>\n",
       "      <td>TELUS Corporation (TSE:T) is largely controlled by institutional shareholders who own 54% of the company</td>\n",
       "      <td>If you want to know who really controls TELUS Corporation ( TSE:T ), then you'll have to look at the makeup of its...</td>\n",
       "      <td>NEGATIVE</td>\n",
       "      <td>0.892858</td>\n",
       "      <td>NEGATIVE</td>\n",
       "      <td>0.999047</td>\n",
       "    </tr>\n",
       "    <tr>\n",
       "      <th>2</th>\n",
       "      <td>Simply Wall St.</td>\n",
       "      <td>22 days ago</td>\n",
       "      <td>TELUS' (TSE:T) Dividend Will Be Increased To CA$0.3511</td>\n",
       "      <td>TELUS Corporation ( TSE:T ) has announced that it will be increasing its dividend from last year's comparable payment...</td>\n",
       "      <td>NEGATIVE</td>\n",
       "      <td>0.988017</td>\n",
       "      <td>NEGATIVE</td>\n",
       "      <td>0.933608</td>\n",
       "    </tr>\n",
       "    <tr>\n",
       "      <th>3</th>\n",
       "      <td>Financial Post</td>\n",
       "      <td>24 days ago</td>\n",
       "      <td>Telus had strategy to 'kill, shape and slow' Rogers-Shaw merger, document shows</td>\n",
       "      <td>Telus’s efforts included company executives meeting with political leaders to try to persuade them to reject the takeover</td>\n",
       "      <td>NEGATIVE</td>\n",
       "      <td>0.997785</td>\n",
       "      <td>NEGATIVE</td>\n",
       "      <td>0.913936</td>\n",
       "    </tr>\n",
       "    <tr>\n",
       "      <th>4</th>\n",
       "      <td>Reuters</td>\n",
       "      <td>24 days ago</td>\n",
       "      <td>Rogers says Telus documents show rival tried to 'kill' Shaw deal</td>\n",
       "      <td>In its effort to win takeover approval, telecom provider Rogers Communications Inc on Monday presented documents to a tribunal that show Canada's second-largest telecom company Telus Corp attempted to sabotage Rogers' C$20 billion ($15 billion) deal to buy Shaw Communications Inc.  Challenging Canadian regulators' rejection of the deal on anti-trust grounds, Rogers may seek to argue that Telus wanted to kill the acquisition because it would increase cellphone competition, benefiting Canadian...</td>\n",
       "      <td>NEGATIVE</td>\n",
       "      <td>0.994781</td>\n",
       "      <td>NEGATIVE</td>\n",
       "      <td>0.996364</td>\n",
       "    </tr>\n",
       "    <tr>\n",
       "      <th>5</th>\n",
       "      <td>Zacks</td>\n",
       "      <td>24 days ago</td>\n",
       "      <td>DTEGY or TU: Which Is the Better Value Stock Right Now?</td>\n",
       "      <td>DTEGY vs. TU: Which Stock Is the Better Value Option?</td>\n",
       "      <td>NEGATIVE</td>\n",
       "      <td>0.998896</td>\n",
       "      <td>NEGATIVE</td>\n",
       "      <td>0.998626</td>\n",
       "    </tr>\n",
       "    <tr>\n",
       "      <th>6</th>\n",
       "      <td>Simply Wall St.</td>\n",
       "      <td>last month</td>\n",
       "      <td>Is TELUS Corporation's (TSE:T) 12% ROE Better Than Average?</td>\n",
       "      <td>While some investors are already well versed in financial metrics (hat tip), this article is for those who would like...</td>\n",
       "      <td>NEGATIVE</td>\n",
       "      <td>0.999067</td>\n",
       "      <td>POSITIVE</td>\n",
       "      <td>0.996413</td>\n",
       "    </tr>\n",
       "    <tr>\n",
       "      <th>7</th>\n",
       "      <td>Zacks</td>\n",
       "      <td>last month</td>\n",
       "      <td>TELUS (TU) Q3 Earnings &amp; Revenues Top Estimates, Increase Y/Y</td>\n",
       "      <td>TELUS (TU) third-quarter performance boosted by high service revenue in TELUS technology solutions and TELUS International.</td>\n",
       "      <td>NEGATIVE</td>\n",
       "      <td>0.692262</td>\n",
       "      <td>POSITIVE</td>\n",
       "      <td>0.791908</td>\n",
       "    </tr>\n",
       "    <tr>\n",
       "      <th>8</th>\n",
       "      <td>Benzinga</td>\n",
       "      <td>last month</td>\n",
       "      <td>Telus Clocks ~10% Revenue Growth In Q3 Backed By Customer Additions; Boosts Dividend By 7.2%</td>\n",
       "      <td>Telus Corp (NYSE: TU) reported third-quarter FY22 operating revenues and other income growth of 9.9% year-on-year to CA$4.67 billion. Total telecom subscriber connections grew 6.3% Y/Y to 17.7 million. It made 347,000 new customer net additions in the quarter, up 27,000 over last year, including 150,000 mobile phones, 124,000 connected devices, 36,000 internet, 25,000 security, and 18,000 TV customer connections. The mobile phone churn was 0.95%. Adjusted basic EPS was CA$0.34, up 17% Y/Y. A...</td>\n",
       "      <td>NEGATIVE</td>\n",
       "      <td>0.561149</td>\n",
       "      <td>NEGATIVE</td>\n",
       "      <td>0.983207</td>\n",
       "    </tr>\n",
       "    <tr>\n",
       "      <th>9</th>\n",
       "      <td>Zacks</td>\n",
       "      <td>last month</td>\n",
       "      <td>Telus (TU) Q3 Earnings and Revenues Beat Estimates</td>\n",
       "      <td>Telus (TU) delivered earnings and revenue surprises of 4% and 1.93%, respectively, for the quarter ended September 2022. Do the numbers hold clues to what lies ahead for the stock?</td>\n",
       "      <td>NEGATIVE</td>\n",
       "      <td>0.955190</td>\n",
       "      <td>NEGATIVE</td>\n",
       "      <td>0.994703</td>\n",
       "    </tr>\n",
       "    <tr>\n",
       "      <th>10</th>\n",
       "      <td>Zacks</td>\n",
       "      <td>last month</td>\n",
       "      <td>Should You Buy Telus (TU) Ahead of Earnings?</td>\n",
       "      <td>Telus (TU) is seeing favorable earnings estimate revision activity and has a positive Zacks Earnings ESP heading into earnings season.</td>\n",
       "      <td>NEGATIVE</td>\n",
       "      <td>0.997798</td>\n",
       "      <td>POSITIVE</td>\n",
       "      <td>0.998531</td>\n",
       "    </tr>\n",
       "    <tr>\n",
       "      <th>11</th>\n",
       "      <td>Zacks</td>\n",
       "      <td>last month</td>\n",
       "      <td>BCE (BCE) Beats Q3 Earnings and Revenue Estimates</td>\n",
       "      <td>BCE (BCE) delivered earnings and revenue surprises of 4.69% and 2.66%, respectively, for the quarter ended September 2022. Do the numbers hold clues to what lies ahead for the stock?</td>\n",
       "      <td>NEGATIVE</td>\n",
       "      <td>0.921792</td>\n",
       "      <td>NEGATIVE</td>\n",
       "      <td>0.991835</td>\n",
       "    </tr>\n",
       "    <tr>\n",
       "      <th>12</th>\n",
       "      <td>Financial Post</td>\n",
       "      <td>last month</td>\n",
       "      <td>Telus doesn't need CRTC approval to surcharge majority of customers, regulator says</td>\n",
       "      <td>Telus implemented 1.5% charge last month for most wireless, home-service customers who pay bills by credit card</td>\n",
       "      <td>POSITIVE</td>\n",
       "      <td>0.974716</td>\n",
       "      <td>NEGATIVE</td>\n",
       "      <td>0.951092</td>\n",
       "    </tr>\n",
       "    <tr>\n",
       "      <th>13</th>\n",
       "      <td>Zacks</td>\n",
       "      <td>last month</td>\n",
       "      <td>Shenandoah Telecommunications (SHEN) Reports Q3 Loss, Tops Revenue Estimates</td>\n",
       "      <td>Shenandoah Telecom (SHEN) delivered earnings and revenue surprises of -200% and 1.49%, respectively, for the quarter ended September 2022. Do the numbers hold clues to what lies ahead for the stock?</td>\n",
       "      <td>NEGATIVE</td>\n",
       "      <td>0.999294</td>\n",
       "      <td>NEGATIVE</td>\n",
       "      <td>0.986180</td>\n",
       "    </tr>\n",
       "    <tr>\n",
       "      <th>14</th>\n",
       "      <td>Zacks</td>\n",
       "      <td>last month</td>\n",
       "      <td>Halliburton Company and M.D.C. Holdings have been highlighted as Zacks Bull and Bear of the Day</td>\n",
       "      <td>Halliburton Company and M.D.C. Holdings are part of the Zacks Bull and Bear of the Day article.</td>\n",
       "      <td>POSITIVE</td>\n",
       "      <td>0.994775</td>\n",
       "      <td>POSITIVE</td>\n",
       "      <td>0.797511</td>\n",
       "    </tr>\n",
       "    <tr>\n",
       "      <th>15</th>\n",
       "      <td>Zacks</td>\n",
       "      <td>last month</td>\n",
       "      <td>3 Telecom Stocks Likely to Surpass Q3 Earnings Estimates</td>\n",
       "      <td>USM, TU and CMTL are poised to benefit from higher demand for scalable infrastructure for seamless connectivity amid a wide proliferation of IoT and a steady pace of 5G rollout.</td>\n",
       "      <td>NEGATIVE</td>\n",
       "      <td>0.974039</td>\n",
       "      <td>POSITIVE</td>\n",
       "      <td>0.995971</td>\n",
       "    </tr>\n",
       "    <tr>\n",
       "      <th>16</th>\n",
       "      <td>Insider Monkey</td>\n",
       "      <td>last month</td>\n",
       "      <td>10 Best TSX Stocks To Buy Now</td>\n",
       "      <td>In this article, we discuss 10 best TSX stocks to buy now. If you want to see more stocks in this selection, check out 5 Best TSX Stocks To Buy Now. Finance Minister Chrystia Freeland warned Canadians on October 19, saying the next few months will be hard as increasing interest rates erode a once-thriving […]</td>\n",
       "      <td>POSITIVE</td>\n",
       "      <td>0.999652</td>\n",
       "      <td>NEGATIVE</td>\n",
       "      <td>0.981137</td>\n",
       "    </tr>\n",
       "    <tr>\n",
       "      <th>17</th>\n",
       "      <td>Zacks</td>\n",
       "      <td>2 months ago</td>\n",
       "      <td>Here's Why Investors May Consider Betting on TELUS (TU) Stock</td>\n",
       "      <td>TELUS' (TU) performance is benefiting from continued momentum in both business segments</td>\n",
       "      <td>NEGATIVE</td>\n",
       "      <td>0.994778</td>\n",
       "      <td>POSITIVE</td>\n",
       "      <td>0.999602</td>\n",
       "    </tr>\n",
       "    <tr>\n",
       "      <th>18</th>\n",
       "      <td>Zacks</td>\n",
       "      <td>2 months ago</td>\n",
       "      <td>Here's Why Telus (TU) is a Strong Value Stock</td>\n",
       "      <td>Wondering how to pick strong, market-beating stocks for your investment portfolio? Look no further than the Zacks Style Scores.</td>\n",
       "      <td>POSITIVE</td>\n",
       "      <td>0.992807</td>\n",
       "      <td>POSITIVE</td>\n",
       "      <td>0.972559</td>\n",
       "    </tr>\n",
       "    <tr>\n",
       "      <th>19</th>\n",
       "      <td>Zacks</td>\n",
       "      <td>2 months ago</td>\n",
       "      <td>Zacks.com featured highlights include W.R. Berkley, Crocs, Boyd Gaming, Boise Cascade and TELUS</td>\n",
       "      <td>W.R. Berkley, Crocs, Boyd Gaming, Boise Cascade and TELUS have been highlighted in this Screen of The Week article.</td>\n",
       "      <td>POSITIVE</td>\n",
       "      <td>0.988196</td>\n",
       "      <td>POSITIVE</td>\n",
       "      <td>0.998186</td>\n",
       "    </tr>\n",
       "    <tr>\n",
       "      <th>20</th>\n",
       "      <td>Zacks</td>\n",
       "      <td>2 months ago</td>\n",
       "      <td>5 Stocks With Solid Sales Growth to Bet On Amid Market Mayhem</td>\n",
       "      <td>Consistent sales growth is vital for the survival of a business, even during an economic slowdown. Let's check W.R. Berkley (WRB), Crocs (CROX), Boyd Gaming (BYD), Boise Cascade (BCC) &amp; TELUS (TU) that are recording top-line growth.</td>\n",
       "      <td>POSITIVE</td>\n",
       "      <td>0.999484</td>\n",
       "      <td>POSITIVE</td>\n",
       "      <td>0.999790</td>\n",
       "    </tr>\n",
       "    <tr>\n",
       "      <th>21</th>\n",
       "      <td>Zacks</td>\n",
       "      <td>2 months ago</td>\n",
       "      <td>TEF or TU: Which Is the Better Value Stock Right Now?</td>\n",
       "      <td>TEF vs. TU: Which Stock Is the Better Value Option?</td>\n",
       "      <td>NEGATIVE</td>\n",
       "      <td>0.999223</td>\n",
       "      <td>NEGATIVE</td>\n",
       "      <td>0.998727</td>\n",
       "    </tr>\n",
       "    <tr>\n",
       "      <th>22</th>\n",
       "      <td>Insider Monkey</td>\n",
       "      <td>2 months ago</td>\n",
       "      <td>10 Best Telecom Stocks to Buy Right Now</td>\n",
       "      <td>In this article, we discuss 10 best telecom stocks to buy right now. If you want to read about some more telecom stocks to buy right now, go directly to 5 Best Telecom Stocks to Buy Right Now. Although cable broadband providers continue to control over 66% of the market share in the telecommunications business, […]</td>\n",
       "      <td>POSITIVE</td>\n",
       "      <td>0.999606</td>\n",
       "      <td>POSITIVE</td>\n",
       "      <td>0.702828</td>\n",
       "    </tr>\n",
       "    <tr>\n",
       "      <th>23</th>\n",
       "      <td>Insider Monkey</td>\n",
       "      <td>2 months ago</td>\n",
       "      <td>10 Best Cheap Dividend Stocks to Buy Now</td>\n",
       "      <td>In this article, we discuss 10 best cheap dividend stocks to buy now. You can skip our detailed analysis of the best dividend stocks and their returns over the years, and go directly to read 5 Best Cheap Dividend Stocks to Buy Now. Inflation and continuous interest rate hikes have brought dividend investing to the […]</td>\n",
       "      <td>POSITIVE</td>\n",
       "      <td>0.993969</td>\n",
       "      <td>NEGATIVE</td>\n",
       "      <td>0.863058</td>\n",
       "    </tr>\n",
       "    <tr>\n",
       "      <th>24</th>\n",
       "      <td>Insider Monkey</td>\n",
       "      <td>2 months ago</td>\n",
       "      <td>10 Best Canadian Dividend Stocks</td>\n",
       "      <td>In this article, we will take a look at the 10 Best Canadian Dividend Stocks. To skip our analysis of the Canadian economy, recent market trends, and dividend stocks, you can go directly to see the 5 Best Canadian Dividend Stocks. Dividend stocks are the shares of publicly listed companies that regularly distribute a portion […]</td>\n",
       "      <td>POSITIVE</td>\n",
       "      <td>0.999667</td>\n",
       "      <td>POSITIVE</td>\n",
       "      <td>0.997285</td>\n",
       "    </tr>\n",
       "    <tr>\n",
       "      <th>25</th>\n",
       "      <td>Simply Wall St.</td>\n",
       "      <td>3 months ago</td>\n",
       "      <td>TELUS' (TSE:T) Returns On Capital Not Reflecting Well On The Business</td>\n",
       "      <td>If you're looking for a multi-bagger, there's a few things to keep an eye out for. Ideally, a business will show two...</td>\n",
       "      <td>NEGATIVE</td>\n",
       "      <td>0.999341</td>\n",
       "      <td>POSITIVE</td>\n",
       "      <td>0.994703</td>\n",
       "    </tr>\n",
       "    <tr>\n",
       "      <th>26</th>\n",
       "      <td>Zacks</td>\n",
       "      <td>3 months ago</td>\n",
       "      <td>TEF vs. TU: Which Stock Is the Better Value Option?</td>\n",
       "      <td>TEF vs. TU: Which Stock Is the Better Value Option?</td>\n",
       "      <td>NEGATIVE</td>\n",
       "      <td>0.998727</td>\n",
       "      <td>NEGATIVE</td>\n",
       "      <td>0.998727</td>\n",
       "    </tr>\n",
       "    <tr>\n",
       "      <th>27</th>\n",
       "      <td>Zacks</td>\n",
       "      <td>3 months ago</td>\n",
       "      <td>Why This 1 Growth Stock Could Be a Great Addition to Your Portfolio</td>\n",
       "      <td>Whether you're a value, growth, or momentum investor, finding strong stocks becomes easier with the Zacks Style Scores, a top feature of the Zacks Premium research service.</td>\n",
       "      <td>POSITIVE</td>\n",
       "      <td>0.985008</td>\n",
       "      <td>POSITIVE</td>\n",
       "      <td>0.988758</td>\n",
       "    </tr>\n",
       "    <tr>\n",
       "      <th>28</th>\n",
       "      <td>Zacks</td>\n",
       "      <td>3 months ago</td>\n",
       "      <td>Why Telus (TU) is a Top Value Stock for the Long-Term</td>\n",
       "      <td>Wondering how to pick strong, market-beating stocks for your investment portfolio? Look no further than the Zacks Style Scores.</td>\n",
       "      <td>NEGATIVE</td>\n",
       "      <td>0.821055</td>\n",
       "      <td>POSITIVE</td>\n",
       "      <td>0.972559</td>\n",
       "    </tr>\n",
       "    <tr>\n",
       "      <th>29</th>\n",
       "      <td>Zacks</td>\n",
       "      <td>3 months ago</td>\n",
       "      <td>3 Communication Stocks Likely to Transcend Margin Blues</td>\n",
       "      <td>The accelerated pace of 5G deployment and demand for scalable infrastructure should help the Zacks Diversified Communication Services industry thrive despite short-term woes. DTEGY, TU and TEF are well-positioned to make the most of the infrastructure upgrade for seamless connectivity.</td>\n",
       "      <td>NEGATIVE</td>\n",
       "      <td>0.951531</td>\n",
       "      <td>POSITIVE</td>\n",
       "      <td>0.997666</td>\n",
       "    </tr>\n",
       "    <tr>\n",
       "      <th>30</th>\n",
       "      <td>Financial Post</td>\n",
       "      <td>3 months ago</td>\n",
       "      <td>Telus sees global opportunity in employee wellness as it closes LifeWorks acquisition</td>\n",
       "      <td>Telus finalized the LifeWorks deal for $2.3 billion, plans to roll it into its growing Telus Health unit</td>\n",
       "      <td>POSITIVE</td>\n",
       "      <td>0.992128</td>\n",
       "      <td>POSITIVE</td>\n",
       "      <td>0.994748</td>\n",
       "    </tr>\n",
       "    <tr>\n",
       "      <th>31</th>\n",
       "      <td>Zacks</td>\n",
       "      <td>3 months ago</td>\n",
       "      <td>Here's Why Telus (TU) is a Strong Growth Stock</td>\n",
       "      <td>Wondering how to pick strong, market-beating stocks for your investment portfolio? Look no further than the Zacks Style Scores.</td>\n",
       "      <td>POSITIVE</td>\n",
       "      <td>0.998283</td>\n",
       "      <td>POSITIVE</td>\n",
       "      <td>0.972559</td>\n",
       "    </tr>\n",
       "    <tr>\n",
       "      <th>32</th>\n",
       "      <td>Simply Wall St.</td>\n",
       "      <td>4 months ago</td>\n",
       "      <td>TELUS (TSE:T) jumps 3.3% this week, though earnings growth is still tracking behind five-year shareholder returns</td>\n",
       "      <td>Passive investing in index funds can generate returns that roughly match the overall market. But you can do a lot...</td>\n",
       "      <td>NEGATIVE</td>\n",
       "      <td>0.952150</td>\n",
       "      <td>POSITIVE</td>\n",
       "      <td>0.997491</td>\n",
       "    </tr>\n",
       "    <tr>\n",
       "      <th>33</th>\n",
       "      <td>Zacks</td>\n",
       "      <td>4 months ago</td>\n",
       "      <td>TELUS (TU) Gets Court Approval for Acquisition of LifeWorks</td>\n",
       "      <td>TELUS (TU) had inked an agreement to acquire Canada-based LifeWorks to expand its presence in the lucrative digital health services market in June 2022.</td>\n",
       "      <td>POSITIVE</td>\n",
       "      <td>0.798274</td>\n",
       "      <td>POSITIVE</td>\n",
       "      <td>0.856943</td>\n",
       "    </tr>\n",
       "    <tr>\n",
       "      <th>34</th>\n",
       "      <td>Financial Post</td>\n",
       "      <td>4 months ago</td>\n",
       "      <td>Telus wants to charge customers a fee for paying their bills with a credit card</td>\n",
       "      <td>Telus has asked the CRTC for approval to charge a 1.5% fee starting in October</td>\n",
       "      <td>NEGATIVE</td>\n",
       "      <td>0.996684</td>\n",
       "      <td>NEGATIVE</td>\n",
       "      <td>0.975548</td>\n",
       "    </tr>\n",
       "    <tr>\n",
       "      <th>35</th>\n",
       "      <td>Zacks</td>\n",
       "      <td>4 months ago</td>\n",
       "      <td>TU vs. TLSYY: Which Stock Should Value Investors Buy Now?</td>\n",
       "      <td>TU vs. TLSYY: Which Stock Is the Better Value Option?</td>\n",
       "      <td>NEGATIVE</td>\n",
       "      <td>0.995367</td>\n",
       "      <td>NEGATIVE</td>\n",
       "      <td>0.998135</td>\n",
       "    </tr>\n",
       "    <tr>\n",
       "      <th>36</th>\n",
       "      <td>Zacks</td>\n",
       "      <td>4 months ago</td>\n",
       "      <td>Are You a Value Investor? This 1 Stock Could Be the Perfect Pick</td>\n",
       "      <td>The Zacks Style Scores offers investors a way to easily find top-rated stocks based on their investing style. Here's why you should take advantage.</td>\n",
       "      <td>POSITIVE</td>\n",
       "      <td>0.656753</td>\n",
       "      <td>POSITIVE</td>\n",
       "      <td>0.997777</td>\n",
       "    </tr>\n",
       "    <tr>\n",
       "      <th>37</th>\n",
       "      <td>Zacks</td>\n",
       "      <td>4 months ago</td>\n",
       "      <td>TELUS (TU) Q2 Earnings &amp; Revenue Top Estimates, Increase Y/Y</td>\n",
       "      <td>TELUS Corporation (TU) second-quarter 2022 performance benefits from higher mobile network revenues and premium bundled offerings.</td>\n",
       "      <td>NEGATIVE</td>\n",
       "      <td>0.869352</td>\n",
       "      <td>POSITIVE</td>\n",
       "      <td>0.993693</td>\n",
       "    </tr>\n",
       "    <tr>\n",
       "      <th>38</th>\n",
       "      <td>Zacks</td>\n",
       "      <td>4 months ago</td>\n",
       "      <td>Telus (TU) Q2 Earnings and Revenues Beat Estimates</td>\n",
       "      <td>Telus (TU) delivered earnings and revenue surprises of 13.64% and 0.25%, respectively, for the quarter ended June 2022. Do the numbers hold clues to what lies ahead for the stock?</td>\n",
       "      <td>NEGATIVE</td>\n",
       "      <td>0.952956</td>\n",
       "      <td>NEGATIVE</td>\n",
       "      <td>0.995295</td>\n",
       "    </tr>\n",
       "    <tr>\n",
       "      <th>39</th>\n",
       "      <td>Zacks</td>\n",
       "      <td>4 months ago</td>\n",
       "      <td>New Jersey Resources (NJR) Reports Q3 Loss, Tops Revenue Estimates</td>\n",
       "      <td>New Jersey Resources (NJR) delivered earnings and revenue surprises of -150% and 34.14%, respectively, for the quarter ended June 2022. Do the numbers hold clues to what lies ahead for the stock?</td>\n",
       "      <td>NEGATIVE</td>\n",
       "      <td>0.998883</td>\n",
       "      <td>NEGATIVE</td>\n",
       "      <td>0.973600</td>\n",
       "    </tr>\n",
       "    <tr>\n",
       "      <th>40</th>\n",
       "      <td>Insider Monkey</td>\n",
       "      <td>4 months ago</td>\n",
       "      <td>10 Undervalued Canadian Stocks to Buy Now</td>\n",
       "      <td>In this article, we discuss the 10 undervalued Canadian stocks to buy now. If you want to read about some more undervalued Canadian stocks, go directly to 5 Undervalued Canadian Stocks to Buy Now. Major indexes of the stock market in Canada, like the S&amp;P/TSX Composite, have so far managed to outperform other global indices […]</td>\n",
       "      <td>NEGATIVE</td>\n",
       "      <td>0.977195</td>\n",
       "      <td>NEGATIVE</td>\n",
       "      <td>0.560107</td>\n",
       "    </tr>\n",
       "    <tr>\n",
       "      <th>41</th>\n",
       "      <td>Zacks</td>\n",
       "      <td>5 months ago</td>\n",
       "      <td>Telus (TU) Earnings Expected to Grow: What to Know Ahead of Q2 Release</td>\n",
       "      <td>Telus (TU) doesn't possess the right combination of the two key ingredients for a likely earnings beat in its upcoming report. Get prepared with the key expectations.</td>\n",
       "      <td>POSITIVE</td>\n",
       "      <td>0.924825</td>\n",
       "      <td>NEGATIVE</td>\n",
       "      <td>0.999748</td>\n",
       "    </tr>\n",
       "    <tr>\n",
       "      <th>42</th>\n",
       "      <td>Zacks</td>\n",
       "      <td>5 months ago</td>\n",
       "      <td>Will Revenue Contraction Affect AT&amp;T's (T) Q2 Earnings?</td>\n",
       "      <td>Adverse foreign currency translations, high operating costs for 5G deployments and fiber expansion and divestment are likely to have led to soft revenues for AT&amp;T (T) in the second quarter.</td>\n",
       "      <td>NEGATIVE</td>\n",
       "      <td>0.998305</td>\n",
       "      <td>NEGATIVE</td>\n",
       "      <td>0.999572</td>\n",
       "    </tr>\n",
       "    <tr>\n",
       "      <th>43</th>\n",
       "      <td>Zacks</td>\n",
       "      <td>5 months ago</td>\n",
       "      <td>Does Telus (TU) Have the Potential to Rally 26% as Wall Street Analysts Expect?</td>\n",
       "      <td>The average of price targets set by Wall Street analysts indicates a potential upside of 25.8% in Telus (TU). While the effectiveness of this highly sought-after metric is questionable, the positive trend in earnings estimate revisions might translate into an upside in the stock.</td>\n",
       "      <td>NEGATIVE</td>\n",
       "      <td>0.991505</td>\n",
       "      <td>NEGATIVE</td>\n",
       "      <td>0.961102</td>\n",
       "    </tr>\n",
       "    <tr>\n",
       "      <th>44</th>\n",
       "      <td>Zacks</td>\n",
       "      <td>5 months ago</td>\n",
       "      <td>DTEGY vs. TU: Which Stock Is the Better Value Option?</td>\n",
       "      <td>DTEGY vs. TU: Which Stock Is the Better Value Option?</td>\n",
       "      <td>NEGATIVE</td>\n",
       "      <td>0.998626</td>\n",
       "      <td>NEGATIVE</td>\n",
       "      <td>0.998626</td>\n",
       "    </tr>\n",
       "    <tr>\n",
       "      <th>45</th>\n",
       "      <td>Insider Monkey</td>\n",
       "      <td>5 months ago</td>\n",
       "      <td>10 Stocks Canadian Investors Love</td>\n",
       "      <td>In this article, we discuss 10 stocks Canadian investors love. If you want to read about some more Canadian stocks, go directly to 5 Stocks Canadian Investors Love. In mid-June, the central bank in the United States raised the benchmark interest rate by 75 basis points, the biggest rate hike since 1994. The bank cited […]</td>\n",
       "      <td>POSITIVE</td>\n",
       "      <td>0.999716</td>\n",
       "      <td>POSITIVE</td>\n",
       "      <td>0.979115</td>\n",
       "    </tr>\n",
       "    <tr>\n",
       "      <th>46</th>\n",
       "      <td>Zacks</td>\n",
       "      <td>5 months ago</td>\n",
       "      <td>TELUS (TU) Sets Up New Headquarters in Downtown Calgary</td>\n",
       "      <td>TELUS (TU) new headquarters will create more than 1000 jobs and provide housing to more than 1,600 local team members, per company reports.</td>\n",
       "      <td>POSITIVE</td>\n",
       "      <td>0.817481</td>\n",
       "      <td>POSITIVE</td>\n",
       "      <td>0.995409</td>\n",
       "    </tr>\n",
       "    <tr>\n",
       "      <th>47</th>\n",
       "      <td>Zacks</td>\n",
       "      <td>5 months ago</td>\n",
       "      <td>TELUS (TU) Continues to Boost PureFibre &amp; 5G Network Expansion</td>\n",
       "      <td>TELUS Corporation (TU) invests C$430 million and C$10 million across Calgary and Haida Gwaii, respectively, to enhance network connectivity.</td>\n",
       "      <td>POSITIVE</td>\n",
       "      <td>0.998772</td>\n",
       "      <td>POSITIVE</td>\n",
       "      <td>0.985059</td>\n",
       "    </tr>\n",
       "    <tr>\n",
       "      <th>48</th>\n",
       "      <td>Simply Wall St.</td>\n",
       "      <td>5 months ago</td>\n",
       "      <td>Are Institutions Heavily Invested In TELUS Corporation's (TSE:T) Shares?</td>\n",
       "      <td>The big shareholder groups in TELUS Corporation ( TSE:T ) have power over the company. Generally speaking, as a company...</td>\n",
       "      <td>NEGATIVE</td>\n",
       "      <td>0.997710</td>\n",
       "      <td>POSITIVE</td>\n",
       "      <td>0.992960</td>\n",
       "    </tr>\n",
       "  </tbody>\n",
       "</table>\n",
       "</div>"
      ],
      "text/plain": [
       "             source          time  \\\n",
       "0    Insider Monkey    2 days ago   \n",
       "1   Simply Wall St.    3 days ago   \n",
       "2   Simply Wall St.   22 days ago   \n",
       "3    Financial Post   24 days ago   \n",
       "4           Reuters   24 days ago   \n",
       "5             Zacks   24 days ago   \n",
       "6   Simply Wall St.    last month   \n",
       "7             Zacks    last month   \n",
       "8          Benzinga    last month   \n",
       "9             Zacks    last month   \n",
       "10            Zacks    last month   \n",
       "11            Zacks    last month   \n",
       "12   Financial Post    last month   \n",
       "13            Zacks    last month   \n",
       "14            Zacks    last month   \n",
       "15            Zacks    last month   \n",
       "16   Insider Monkey    last month   \n",
       "17            Zacks  2 months ago   \n",
       "18            Zacks  2 months ago   \n",
       "19            Zacks  2 months ago   \n",
       "20            Zacks  2 months ago   \n",
       "21            Zacks  2 months ago   \n",
       "22   Insider Monkey  2 months ago   \n",
       "23   Insider Monkey  2 months ago   \n",
       "24   Insider Monkey  2 months ago   \n",
       "25  Simply Wall St.  3 months ago   \n",
       "26            Zacks  3 months ago   \n",
       "27            Zacks  3 months ago   \n",
       "28            Zacks  3 months ago   \n",
       "29            Zacks  3 months ago   \n",
       "30   Financial Post  3 months ago   \n",
       "31            Zacks  3 months ago   \n",
       "32  Simply Wall St.  4 months ago   \n",
       "33            Zacks  4 months ago   \n",
       "34   Financial Post  4 months ago   \n",
       "35            Zacks  4 months ago   \n",
       "36            Zacks  4 months ago   \n",
       "37            Zacks  4 months ago   \n",
       "38            Zacks  4 months ago   \n",
       "39            Zacks  4 months ago   \n",
       "40   Insider Monkey  4 months ago   \n",
       "41            Zacks  5 months ago   \n",
       "42            Zacks  5 months ago   \n",
       "43            Zacks  5 months ago   \n",
       "44            Zacks  5 months ago   \n",
       "45   Insider Monkey  5 months ago   \n",
       "46            Zacks  5 months ago   \n",
       "47            Zacks  5 months ago   \n",
       "48  Simply Wall St.  5 months ago   \n",
       "\n",
       "                                                                                                             headline  \\\n",
       "0                                                                           12 Best Communication Stocks To Buy Today   \n",
       "1            TELUS Corporation (TSE:T) is largely controlled by institutional shareholders who own 54% of the company   \n",
       "2                                                              TELUS' (TSE:T) Dividend Will Be Increased To CA$0.3511   \n",
       "3                                     Telus had strategy to 'kill, shape and slow' Rogers-Shaw merger, document shows   \n",
       "4                                                    Rogers says Telus documents show rival tried to 'kill' Shaw deal   \n",
       "5                                                             DTEGY or TU: Which Is the Better Value Stock Right Now?   \n",
       "6                                                         Is TELUS Corporation's (TSE:T) 12% ROE Better Than Average?   \n",
       "7                                                       TELUS (TU) Q3 Earnings & Revenues Top Estimates, Increase Y/Y   \n",
       "8                        Telus Clocks ~10% Revenue Growth In Q3 Backed By Customer Additions; Boosts Dividend By 7.2%   \n",
       "9                                                                  Telus (TU) Q3 Earnings and Revenues Beat Estimates   \n",
       "10                                                                       Should You Buy Telus (TU) Ahead of Earnings?   \n",
       "11                                                                  BCE (BCE) Beats Q3 Earnings and Revenue Estimates   \n",
       "12                                Telus doesn't need CRTC approval to surcharge majority of customers, regulator says   \n",
       "13                                       Shenandoah Telecommunications (SHEN) Reports Q3 Loss, Tops Revenue Estimates   \n",
       "14                    Halliburton Company and M.D.C. Holdings have been highlighted as Zacks Bull and Bear of the Day   \n",
       "15                                                           3 Telecom Stocks Likely to Surpass Q3 Earnings Estimates   \n",
       "16                                                                                      10 Best TSX Stocks To Buy Now   \n",
       "17                                                      Here's Why Investors May Consider Betting on TELUS (TU) Stock   \n",
       "18                                                                      Here's Why Telus (TU) is a Strong Value Stock   \n",
       "19                    Zacks.com featured highlights include W.R. Berkley, Crocs, Boyd Gaming, Boise Cascade and TELUS   \n",
       "20                                                      5 Stocks With Solid Sales Growth to Bet On Amid Market Mayhem   \n",
       "21                                                              TEF or TU: Which Is the Better Value Stock Right Now?   \n",
       "22                                                                            10 Best Telecom Stocks to Buy Right Now   \n",
       "23                                                                           10 Best Cheap Dividend Stocks to Buy Now   \n",
       "24                                                                                   10 Best Canadian Dividend Stocks   \n",
       "25                                              TELUS' (TSE:T) Returns On Capital Not Reflecting Well On The Business   \n",
       "26                                                                TEF vs. TU: Which Stock Is the Better Value Option?   \n",
       "27                                                Why This 1 Growth Stock Could Be a Great Addition to Your Portfolio   \n",
       "28                                                              Why Telus (TU) is a Top Value Stock for the Long-Term   \n",
       "29                                                            3 Communication Stocks Likely to Transcend Margin Blues   \n",
       "30                              Telus sees global opportunity in employee wellness as it closes LifeWorks acquisition   \n",
       "31                                                                     Here's Why Telus (TU) is a Strong Growth Stock   \n",
       "32  TELUS (TSE:T) jumps 3.3% this week, though earnings growth is still tracking behind five-year shareholder returns   \n",
       "33                                                        TELUS (TU) Gets Court Approval for Acquisition of LifeWorks   \n",
       "34                                    Telus wants to charge customers a fee for paying their bills with a credit card   \n",
       "35                                                          TU vs. TLSYY: Which Stock Should Value Investors Buy Now?   \n",
       "36                                                   Are You a Value Investor? This 1 Stock Could Be the Perfect Pick   \n",
       "37                                                       TELUS (TU) Q2 Earnings & Revenue Top Estimates, Increase Y/Y   \n",
       "38                                                                 Telus (TU) Q2 Earnings and Revenues Beat Estimates   \n",
       "39                                                 New Jersey Resources (NJR) Reports Q3 Loss, Tops Revenue Estimates   \n",
       "40                                                                          10 Undervalued Canadian Stocks to Buy Now   \n",
       "41                                             Telus (TU) Earnings Expected to Grow: What to Know Ahead of Q2 Release   \n",
       "42                                                            Will Revenue Contraction Affect AT&T's (T) Q2 Earnings?   \n",
       "43                                    Does Telus (TU) Have the Potential to Rally 26% as Wall Street Analysts Expect?   \n",
       "44                                                              DTEGY vs. TU: Which Stock Is the Better Value Option?   \n",
       "45                                                                                  10 Stocks Canadian Investors Love   \n",
       "46                                                            TELUS (TU) Sets Up New Headquarters in Downtown Calgary   \n",
       "47                                                     TELUS (TU) Continues to Boost PureFibre & 5G Network Expansion   \n",
       "48                                           Are Institutions Heavily Invested In TELUS Corporation's (TSE:T) Shares?   \n",
       "\n",
       "                                                                                                                                                                                                                                                                                                                                                                                                                                                                                                                content  \\\n",
       "0                                                                                                                                                              In this article, we discuss the 12 best communication stocks to buy today. If you want to read about some more communication stocks to buy today, go directly to 5 Best Communication Stocks To Buy Today. The communications industry has grown from a sector that used to include just telecommunications, newspapers, magazines, books, and radio […]   \n",
       "1                                                                                                                                                                                                                                                                                                                                                                                                 If you want to know who really controls TELUS Corporation ( TSE:T ), then you'll have to look at the makeup of its...   \n",
       "2                                                                                                                                                                                                                                                                                                                                                                                              TELUS Corporation ( TSE:T ) has announced that it will be increasing its dividend from last year's comparable payment...   \n",
       "3                                                                                                                                                                                                                                                                                                                                                                                             Telus’s efforts included company executives meeting with political leaders to try to persuade them to reject the takeover   \n",
       "4   In its effort to win takeover approval, telecom provider Rogers Communications Inc on Monday presented documents to a tribunal that show Canada's second-largest telecom company Telus Corp attempted to sabotage Rogers' C$20 billion ($15 billion) deal to buy Shaw Communications Inc.  Challenging Canadian regulators' rejection of the deal on anti-trust grounds, Rogers may seek to argue that Telus wanted to kill the acquisition because it would increase cellphone competition, benefiting Canadian...   \n",
       "5                                                                                                                                                                                                                                                                                                                                                                                                                                                                 DTEGY vs. TU: Which Stock Is the Better Value Option?   \n",
       "6                                                                                                                                                                                                                                                                                                                                                                                              While some investors are already well versed in financial metrics (hat tip), this article is for those who would like...   \n",
       "7                                                                                                                                                                                                                                                                                                                                                                                           TELUS (TU) third-quarter performance boosted by high service revenue in TELUS technology solutions and TELUS International.   \n",
       "8   Telus Corp (NYSE: TU) reported third-quarter FY22 operating revenues and other income growth of 9.9% year-on-year to CA$4.67 billion. Total telecom subscriber connections grew 6.3% Y/Y to 17.7 million. It made 347,000 new customer net additions in the quarter, up 27,000 over last year, including 150,000 mobile phones, 124,000 connected devices, 36,000 internet, 25,000 security, and 18,000 TV customer connections. The mobile phone churn was 0.95%. Adjusted basic EPS was CA$0.34, up 17% Y/Y. A...   \n",
       "9                                                                                                                                                                                                                                                                                                                                  Telus (TU) delivered earnings and revenue surprises of 4% and 1.93%, respectively, for the quarter ended September 2022. Do the numbers hold clues to what lies ahead for the stock?   \n",
       "10                                                                                                                                                                                                                                                                                                                                                                               Telus (TU) is seeing favorable earnings estimate revision activity and has a positive Zacks Earnings ESP heading into earnings season.   \n",
       "11                                                                                                                                                                                                                                                                                                                               BCE (BCE) delivered earnings and revenue surprises of 4.69% and 2.66%, respectively, for the quarter ended September 2022. Do the numbers hold clues to what lies ahead for the stock?   \n",
       "12                                                                                                                                                                                                                                                                                                                                                                                                      Telus implemented 1.5% charge last month for most wireless, home-service customers who pay bills by credit card   \n",
       "13                                                                                                                                                                                                                                                                                                               Shenandoah Telecom (SHEN) delivered earnings and revenue surprises of -200% and 1.49%, respectively, for the quarter ended September 2022. Do the numbers hold clues to what lies ahead for the stock?   \n",
       "14                                                                                                                                                                                                                                                                                                                                                                                                                      Halliburton Company and M.D.C. Holdings are part of the Zacks Bull and Bear of the Day article.   \n",
       "15                                                                                                                                                                                                                                                                                                                                    USM, TU and CMTL are poised to benefit from higher demand for scalable infrastructure for seamless connectivity amid a wide proliferation of IoT and a steady pace of 5G rollout.   \n",
       "16                                                                                                                                                                                               In this article, we discuss 10 best TSX stocks to buy now. If you want to see more stocks in this selection, check out 5 Best TSX Stocks To Buy Now. Finance Minister Chrystia Freeland warned Canadians on October 19, saying the next few months will be hard as increasing interest rates erode a once-thriving […]   \n",
       "17                                                                                                                                                                                                                                                                                                                                                                                                                              TELUS' (TU) performance is benefiting from continued momentum in both business segments   \n",
       "18                                                                                                                                                                                                                                                                                                                                                                                      Wondering how to pick strong, market-beating stocks for your investment portfolio? Look no further than the Zacks Style Scores.   \n",
       "19                                                                                                                                                                                                                                                                                                                                                                                                  W.R. Berkley, Crocs, Boyd Gaming, Boise Cascade and TELUS have been highlighted in this Screen of The Week article.   \n",
       "20                                                                                                                                                                                                                                                                             Consistent sales growth is vital for the survival of a business, even during an economic slowdown. Let's check W.R. Berkley (WRB), Crocs (CROX), Boyd Gaming (BYD), Boise Cascade (BCC) & TELUS (TU) that are recording top-line growth.   \n",
       "21                                                                                                                                                                                                                                                                                                                                                                                                                                                                  TEF vs. TU: Which Stock Is the Better Value Option?   \n",
       "22                                                                                                                                                                                         In this article, we discuss 10 best telecom stocks to buy right now. If you want to read about some more telecom stocks to buy right now, go directly to 5 Best Telecom Stocks to Buy Right Now. Although cable broadband providers continue to control over 66% of the market share in the telecommunications business, […]   \n",
       "23                                                                                                                                                                                      In this article, we discuss 10 best cheap dividend stocks to buy now. You can skip our detailed analysis of the best dividend stocks and their returns over the years, and go directly to read 5 Best Cheap Dividend Stocks to Buy Now. Inflation and continuous interest rate hikes have brought dividend investing to the […]   \n",
       "24                                                                                                                                                                           In this article, we will take a look at the 10 Best Canadian Dividend Stocks. To skip our analysis of the Canadian economy, recent market trends, and dividend stocks, you can go directly to see the 5 Best Canadian Dividend Stocks. Dividend stocks are the shares of publicly listed companies that regularly distribute a portion […]   \n",
       "25                                                                                                                                                                                                                                                                                                                                                                                              If you're looking for a multi-bagger, there's a few things to keep an eye out for. Ideally, a business will show two...   \n",
       "26                                                                                                                                                                                                                                                                                                                                                                                                                                                                  TEF vs. TU: Which Stock Is the Better Value Option?   \n",
       "27                                                                                                                                                                                                                                                                                                                                         Whether you're a value, growth, or momentum investor, finding strong stocks becomes easier with the Zacks Style Scores, a top feature of the Zacks Premium research service.   \n",
       "28                                                                                                                                                                                                                                                                                                                                                                                      Wondering how to pick strong, market-beating stocks for your investment portfolio? Look no further than the Zacks Style Scores.   \n",
       "29                                                                                                                                                                                                                       The accelerated pace of 5G deployment and demand for scalable infrastructure should help the Zacks Diversified Communication Services industry thrive despite short-term woes. DTEGY, TU and TEF are well-positioned to make the most of the infrastructure upgrade for seamless connectivity.   \n",
       "30                                                                                                                                                                                                                                                                                                                                                                                                             Telus finalized the LifeWorks deal for $2.3 billion, plans to roll it into its growing Telus Health unit   \n",
       "31                                                                                                                                                                                                                                                                                                                                                                                      Wondering how to pick strong, market-beating stocks for your investment portfolio? Look no further than the Zacks Style Scores.   \n",
       "32                                                                                                                                                                                                                                                                                                                                                                                                 Passive investing in index funds can generate returns that roughly match the overall market. But you can do a lot...   \n",
       "33                                                                                                                                                                                                                                                                                                                                                             TELUS (TU) had inked an agreement to acquire Canada-based LifeWorks to expand its presence in the lucrative digital health services market in June 2022.   \n",
       "34                                                                                                                                                                                                                                                                                                                                                                                                                                       Telus has asked the CRTC for approval to charge a 1.5% fee starting in October   \n",
       "35                                                                                                                                                                                                                                                                                                                                                                                                                                                                TU vs. TLSYY: Which Stock Is the Better Value Option?   \n",
       "36                                                                                                                                                                                                                                                                                                                                                                  The Zacks Style Scores offers investors a way to easily find top-rated stocks based on their investing style. Here's why you should take advantage.   \n",
       "37                                                                                                                                                                                                                                                                                                                                                                                   TELUS Corporation (TU) second-quarter 2022 performance benefits from higher mobile network revenues and premium bundled offerings.   \n",
       "38                                                                                                                                                                                                                                                                                                                                  Telus (TU) delivered earnings and revenue surprises of 13.64% and 0.25%, respectively, for the quarter ended June 2022. Do the numbers hold clues to what lies ahead for the stock?   \n",
       "39                                                                                                                                                                                                                                                                                                                  New Jersey Resources (NJR) delivered earnings and revenue surprises of -150% and 34.14%, respectively, for the quarter ended June 2022. Do the numbers hold clues to what lies ahead for the stock?   \n",
       "40                                                                                                                                                                             In this article, we discuss the 10 undervalued Canadian stocks to buy now. If you want to read about some more undervalued Canadian stocks, go directly to 5 Undervalued Canadian Stocks to Buy Now. Major indexes of the stock market in Canada, like the S&P/TSX Composite, have so far managed to outperform other global indices […]   \n",
       "41                                                                                                                                                                                                                                                                                                                                               Telus (TU) doesn't possess the right combination of the two key ingredients for a likely earnings beat in its upcoming report. Get prepared with the key expectations.   \n",
       "42                                                                                                                                                                                                                                                                                                                        Adverse foreign currency translations, high operating costs for 5G deployments and fiber expansion and divestment are likely to have led to soft revenues for AT&T (T) in the second quarter.   \n",
       "43                                                                                                                                                                                                                             The average of price targets set by Wall Street analysts indicates a potential upside of 25.8% in Telus (TU). While the effectiveness of this highly sought-after metric is questionable, the positive trend in earnings estimate revisions might translate into an upside in the stock.   \n",
       "44                                                                                                                                                                                                                                                                                                                                                                                                                                                                DTEGY vs. TU: Which Stock Is the Better Value Option?   \n",
       "45                                                                                                                                                                                  In this article, we discuss 10 stocks Canadian investors love. If you want to read about some more Canadian stocks, go directly to 5 Stocks Canadian Investors Love. In mid-June, the central bank in the United States raised the benchmark interest rate by 75 basis points, the biggest rate hike since 1994. The bank cited […]   \n",
       "46                                                                                                                                                                                                                                                                                                                                                                          TELUS (TU) new headquarters will create more than 1000 jobs and provide housing to more than 1,600 local team members, per company reports.   \n",
       "47                                                                                                                                                                                                                                                                                                                                                                         TELUS Corporation (TU) invests C$430 million and C$10 million across Calgary and Haida Gwaii, respectively, to enhance network connectivity.   \n",
       "48                                                                                                                                                                                                                                                                                                                                                                                           The big shareholder groups in TELUS Corporation ( TSE:T ) have power over the company. Generally speaking, as a company...   \n",
       "\n",
       "   Sentiment     Score Sentiment2    Score2  \n",
       "0   POSITIVE  0.999457   POSITIVE  0.994583  \n",
       "1   NEGATIVE  0.892858   NEGATIVE  0.999047  \n",
       "2   NEGATIVE  0.988017   NEGATIVE  0.933608  \n",
       "3   NEGATIVE  0.997785   NEGATIVE  0.913936  \n",
       "4   NEGATIVE  0.994781   NEGATIVE  0.996364  \n",
       "5   NEGATIVE  0.998896   NEGATIVE  0.998626  \n",
       "6   NEGATIVE  0.999067   POSITIVE  0.996413  \n",
       "7   NEGATIVE  0.692262   POSITIVE  0.791908  \n",
       "8   NEGATIVE  0.561149   NEGATIVE  0.983207  \n",
       "9   NEGATIVE  0.955190   NEGATIVE  0.994703  \n",
       "10  NEGATIVE  0.997798   POSITIVE  0.998531  \n",
       "11  NEGATIVE  0.921792   NEGATIVE  0.991835  \n",
       "12  POSITIVE  0.974716   NEGATIVE  0.951092  \n",
       "13  NEGATIVE  0.999294   NEGATIVE  0.986180  \n",
       "14  POSITIVE  0.994775   POSITIVE  0.797511  \n",
       "15  NEGATIVE  0.974039   POSITIVE  0.995971  \n",
       "16  POSITIVE  0.999652   NEGATIVE  0.981137  \n",
       "17  NEGATIVE  0.994778   POSITIVE  0.999602  \n",
       "18  POSITIVE  0.992807   POSITIVE  0.972559  \n",
       "19  POSITIVE  0.988196   POSITIVE  0.998186  \n",
       "20  POSITIVE  0.999484   POSITIVE  0.999790  \n",
       "21  NEGATIVE  0.999223   NEGATIVE  0.998727  \n",
       "22  POSITIVE  0.999606   POSITIVE  0.702828  \n",
       "23  POSITIVE  0.993969   NEGATIVE  0.863058  \n",
       "24  POSITIVE  0.999667   POSITIVE  0.997285  \n",
       "25  NEGATIVE  0.999341   POSITIVE  0.994703  \n",
       "26  NEGATIVE  0.998727   NEGATIVE  0.998727  \n",
       "27  POSITIVE  0.985008   POSITIVE  0.988758  \n",
       "28  NEGATIVE  0.821055   POSITIVE  0.972559  \n",
       "29  NEGATIVE  0.951531   POSITIVE  0.997666  \n",
       "30  POSITIVE  0.992128   POSITIVE  0.994748  \n",
       "31  POSITIVE  0.998283   POSITIVE  0.972559  \n",
       "32  NEGATIVE  0.952150   POSITIVE  0.997491  \n",
       "33  POSITIVE  0.798274   POSITIVE  0.856943  \n",
       "34  NEGATIVE  0.996684   NEGATIVE  0.975548  \n",
       "35  NEGATIVE  0.995367   NEGATIVE  0.998135  \n",
       "36  POSITIVE  0.656753   POSITIVE  0.997777  \n",
       "37  NEGATIVE  0.869352   POSITIVE  0.993693  \n",
       "38  NEGATIVE  0.952956   NEGATIVE  0.995295  \n",
       "39  NEGATIVE  0.998883   NEGATIVE  0.973600  \n",
       "40  NEGATIVE  0.977195   NEGATIVE  0.560107  \n",
       "41  POSITIVE  0.924825   NEGATIVE  0.999748  \n",
       "42  NEGATIVE  0.998305   NEGATIVE  0.999572  \n",
       "43  NEGATIVE  0.991505   NEGATIVE  0.961102  \n",
       "44  NEGATIVE  0.998626   NEGATIVE  0.998626  \n",
       "45  POSITIVE  0.999716   POSITIVE  0.979115  \n",
       "46  POSITIVE  0.817481   POSITIVE  0.995409  \n",
       "47  POSITIVE  0.998772   POSITIVE  0.985059  \n",
       "48  NEGATIVE  0.997710   POSITIVE  0.992960  "
      ]
     },
     "execution_count": 76,
     "metadata": {},
     "output_type": "execute_result"
    }
   ],
   "source": [
    "news_df"
   ]
  },
  {
   "cell_type": "code",
   "execution_count": 42,
   "metadata": {},
   "outputs": [
    {
     "data": {
      "text/plain": [
       "<AxesSubplot:xlabel='Sentiment', ylabel='Count'>"
      ]
     },
     "execution_count": 42,
     "metadata": {},
     "output_type": "execute_result"
    },
    {
     "data": {
      "image/png": "[encoded data removed]",
      "text/plain": [
       "<Figure size 432x288 with 1 Axes>"
      ]
     },
     "metadata": {
      "needs_background": "light"
     },
     "output_type": "display_data"
    }
   ],
   "source": [
    "sns.histplot(x = 'Sentiment', data = news_df[news_df['Score'] > 0.8], hue = 'Sentiment', hue_order=['POSITIVE', 'NEGATIVE'])"
   ]
  },
  {
   "cell_type": "code",
   "execution_count": 43,
   "metadata": {},
   "outputs": [
    {
     "data": {
      "text/plain": [
       "<AxesSubplot:xlabel='Sentiment2', ylabel='Count'>"
      ]
     },
     "execution_count": 43,
     "metadata": {},
     "output_type": "execute_result"
    },
    {
     "data": {
      "image/png": "[encoded data removed]",
      "text/plain": [
       "<Figure size 432x288 with 1 Axes>"
      ]
     },
     "metadata": {
      "needs_background": "light"
     },
     "output_type": "display_data"
    }
   ],
   "source": [
    "sns.histplot(x = 'Sentiment2', data = news_df[news_df['Score2'] > 0.8], hue = 'Sentiment2', hue_order=['POSITIVE', 'NEGATIVE'])"
   ]
  },
  {
   "cell_type": "markdown",
   "metadata": {},
   "source": [
    "# XOM Ticker"
   ]
  },
  {
   "cell_type": "code",
   "execution_count": 44,
   "metadata": {},
   "outputs": [],
   "source": [
    "url = \"https://finviz.com/quote.ashx?t=XOM&p=d\"\n",
    "\n",
    "\n",
    "headers = {\"User-Agent\": \"Mozilla/5.0\"}\n",
    "cookies = {\"CONSENT\": \"YES+cb.20210720-07-p0.en+FX+410\"}\n",
    "\n",
    "req = Request(url, headers=headers)\n",
    "\n",
    "try:\n",
    "    contents = urlopen(req).read() \n",
    "    soup = BeautifulSoup(contents, features=\"html.parser\")\n",
    "\n",
    "    sentence2 = []\n",
    "\n",
    "    for tag in soup.find_all('a'):\n",
    "\n",
    "        sentence = tag.text.split(\".\")\n",
    "        sentence2.append(sentence)\n",
    "\n",
    "except urllib.error.HTTPError as err:\n",
    "    print(err.code)\n",
    "\n",
    "except socket.timeout as se:\n",
    "    print(\"socket timeout\")"
   ]
  },
  {
   "cell_type": "code",
   "execution_count": 45,
   "metadata": {},
   "outputs": [],
   "source": [
    "df = pd.DataFrame(sentence2)"
   ]
  },
  {
   "cell_type": "code",
   "execution_count": 46,
   "metadata": {},
   "outputs": [],
   "source": [
    "df['Headline'] = df[0]\n",
    "df['Sentiment'] = -2\n",
    "df = pd.DataFrame(list(zip(df['Headline'], df['Sentiment'])), columns=['Headline', 'Sentiment'])"
   ]
  },
  {
   "cell_type": "code",
   "execution_count": 47,
   "metadata": {},
   "outputs": [],
   "source": [
    "i = []\n",
    "\n",
    "for string in df['Headline']:\n",
    "    i.append(count_words(string))\n",
    "\n",
    "df['word_count'] = i\n"
   ]
  },
  {
   "cell_type": "code",
   "execution_count": 48,
   "metadata": {},
   "outputs": [],
   "source": [
    "sentiment = [None] * len(df)\n",
    "sentiment_score = [None] * len(df)\n",
    "index = -1\n",
    "for sentence in df['Headline']:\n",
    "    index+=1\n",
    "    result = sentiment_pipeline(sentence[:512])[0]\n",
    "    sentiment[index] = result['label']\n",
    "    sentiment_score[index] = result['score']\n",
    "df['Sentiment'] = sentiment\n",
    "df['Score'] = sentiment_score\n"
   ]
  },
  {
   "cell_type": "code",
   "execution_count": 49,
   "metadata": {},
   "outputs": [],
   "source": [
    "df = df[df['word_count'] > 10]\n",
    "df['Headline_Lower'] = df['Headline'].str.lower()"
   ]
  },
  {
   "cell_type": "code",
   "execution_count": null,
   "metadata": {},
   "outputs": [],
   "source": [
    "df[df['Score'] > 0.8]"
   ]
  },
  {
   "cell_type": "code",
   "execution_count": 50,
   "metadata": {},
   "outputs": [
    {
     "data": {
      "text/plain": [
       "<AxesSubplot:xlabel='Sentiment', ylabel='Count'>"
      ]
     },
     "execution_count": 50,
     "metadata": {},
     "output_type": "execute_result"
    },
    {
     "data": {
      "image/png": "[encoded data removed]",
      "text/plain": [
       "<Figure size 432x288 with 1 Axes>"
      ]
     },
     "metadata": {
      "needs_background": "light"
     },
     "output_type": "display_data"
    }
   ],
   "source": [
    "sns.histplot(x = 'Sentiment', data = df[df['Score'] > 0.8], hue = 'Sentiment', hue_order=['POSITIVE', 'NEGATIVE'])"
   ]
  },
  {
   "cell_type": "markdown",
   "metadata": {},
   "source": [
    "# SQQQ Ticker"
   ]
  },
  {
   "cell_type": "code",
   "execution_count": 51,
   "metadata": {},
   "outputs": [],
   "source": [
    "url = \"https://finviz.com/quote.ashx?t=SQQQ&ty=c&ta=1&p=d\"\n",
    "\n",
    "\n",
    "headers = {\"User-Agent\": \"Mozilla/5.0\"}\n",
    "cookies = {\"CONSENT\": \"YES+cb.20210720-07-p0.en+FX+410\"}\n",
    "\n",
    "req = Request(url, headers=headers)\n",
    "\n",
    "try:\n",
    "    contents = urlopen(req).read() \n",
    "    soup = BeautifulSoup(contents, features=\"html.parser\")\n",
    "\n",
    "    sentence2 = []\n",
    "\n",
    "    for tag in soup.find_all('a'):\n",
    "\n",
    "        sentence = tag.text.split(\".\")\n",
    "        sentence2.append(sentence)\n",
    "\n",
    "except urllib.error.HTTPError as err:\n",
    "    print(err.code)\n",
    "\n",
    "except socket.timeout as se:\n",
    "    print(\"socket timeout\")"
   ]
  },
  {
   "cell_type": "code",
   "execution_count": 52,
   "metadata": {},
   "outputs": [],
   "source": [
    "df = pd.DataFrame(sentence2)"
   ]
  },
  {
   "cell_type": "code",
   "execution_count": 53,
   "metadata": {},
   "outputs": [],
   "source": [
    "df['Headline'] = df[0]\n",
    "df['Sentiment'] = -2\n",
    "df = pd.DataFrame(list(zip(df['Headline'], df['Sentiment'])), columns=['Headline', 'Sentiment'])"
   ]
  },
  {
   "cell_type": "code",
   "execution_count": 54,
   "metadata": {},
   "outputs": [],
   "source": [
    "i = []\n",
    "\n",
    "for string in df['Headline']:\n",
    "    i.append(count_words(string))\n",
    "\n",
    "df['word_count'] = i\n"
   ]
  },
  {
   "cell_type": "code",
   "execution_count": 55,
   "metadata": {},
   "outputs": [],
   "source": [
    "sentiment = [None] * len(df)\n",
    "sentiment_score = [None] * len(df)\n",
    "index = -1\n",
    "for sentence in df['Headline']:\n",
    "    index+=1\n",
    "    result = sentiment_pipeline(sentence[:512])[0]\n",
    "    sentiment[index] = result['label']\n",
    "    sentiment_score[index] = result['score']\n",
    "df['Sentiment'] = sentiment\n",
    "df['Score'] = sentiment_score\n"
   ]
  },
  {
   "cell_type": "code",
   "execution_count": 56,
   "metadata": {},
   "outputs": [],
   "source": [
    "df = df[df['word_count'] > 10]\n",
    "df['Headline_Lower'] = df['Headline'].str.lower()"
   ]
  },
  {
   "cell_type": "code",
   "execution_count": null,
   "metadata": {},
   "outputs": [],
   "source": [
    "df[df['Score'] > 0.8]"
   ]
  },
  {
   "cell_type": "code",
   "execution_count": 57,
   "metadata": {},
   "outputs": [
    {
     "data": {
      "text/plain": [
       "<AxesSubplot:xlabel='Sentiment', ylabel='Count'>"
      ]
     },
     "execution_count": 57,
     "metadata": {},
     "output_type": "execute_result"
    },
    {
     "data": {
      "image/png": "[encoded data removed]",
      "text/plain": [
       "<Figure size 432x288 with 1 Axes>"
      ]
     },
     "metadata": {
      "needs_background": "light"
     },
     "output_type": "display_data"
    }
   ],
   "source": [
    "sns.histplot(x = 'Sentiment', data = df[df['Score'] > 0.8], hue = 'Sentiment', hue_order=['POSITIVE', 'NEGATIVE'])"
   ]
  },
  {
   "cell_type": "markdown",
   "metadata": {},
   "source": [
    "# T.TO"
   ]
  },
  {
   "cell_type": "code",
   "execution_count": 58,
   "metadata": {},
   "outputs": [
    {
     "name": "stdout",
     "output_type": "stream",
     "text": [
      "Requesting html page\n",
      "Extracting news tags\n",
      "Parsing news tags\n",
      "Save the data to a CSV\n"
     ]
    }
   ],
   "source": [
    "YAHOO_NEWS_URL = 'https://finance.yahoo.com/quote/T.TO/news?p=T.TO'\n",
    "news_df = scrape_yahoo_news(YAHOO_NEWS_URL)"
   ]
  },
  {
   "cell_type": "code",
   "execution_count": 59,
   "metadata": {},
   "outputs": [],
   "source": [
    "from transformers import pipeline\n",
    "\n",
    "import warnings\n",
    "warnings.filterwarnings(\"ignore\")\n",
    "\n",
    "from IPython.core.interactiveshell import InteractiveShell\n",
    "InteractiveShell.ast_node_interactivity = 'all'\n",
    "\n",
    "pd.set_option('display.max_columns', None) "
   ]
  },
  {
   "cell_type": "code",
   "execution_count": 60,
   "metadata": {},
   "outputs": [],
   "source": [
    "sentiment_pipeline = pipeline(\"sentiment-analysis\", model=\"distilbert-base-uncased-finetuned-sst-2-english\")"
   ]
  },
  {
   "cell_type": "code",
   "execution_count": 61,
   "metadata": {},
   "outputs": [],
   "source": [
    "sentiment = [None] * len(news_df)\n",
    "sentiment_score = [None] * len(news_df)\n",
    "index = -1\n",
    "for sentence in news_df['headline']:\n",
    "    index+=1\n",
    "    result = sentiment_pipeline(sentence[:512])[0]\n",
    "    sentiment[index] = result['label']\n",
    "    sentiment_score[index] = result['score']\n",
    "news_df['Sentiment'] = sentiment\n",
    "news_df['Score'] = sentiment_score\n",
    "\n",
    "\n",
    "sentiment = [None] * len(news_df)\n",
    "sentiment_score = [None] * len(news_df)\n",
    "index = -1\n",
    "for sentence in news_df['content']:\n",
    "    index+=1\n",
    "    result = sentiment_pipeline(sentence[:512])[0]\n",
    "    sentiment[index] = result['label']\n",
    "    sentiment_score[index] = result['score']\n",
    "news_df['Sentiment2'] = sentiment\n",
    "news_df['Score2'] = sentiment_score"
   ]
  },
  {
   "cell_type": "code",
   "execution_count": 62,
   "metadata": {},
   "outputs": [],
   "source": [
    "import seaborn as sns"
   ]
  },
  {
   "cell_type": "code",
   "execution_count": null,
   "metadata": {},
   "outputs": [],
   "source": [
    "news_df"
   ]
  },
  {
   "cell_type": "code",
   "execution_count": 63,
   "metadata": {},
   "outputs": [
    {
     "data": {
      "text/plain": [
       "<AxesSubplot:xlabel='Sentiment', ylabel='Count'>"
      ]
     },
     "execution_count": 63,
     "metadata": {},
     "output_type": "execute_result"
    },
    {
     "data": {
      "image/png": "[encoded data removed]",
      "text/plain": [
       "<Figure size 432x288 with 1 Axes>"
      ]
     },
     "metadata": {
      "needs_background": "light"
     },
     "output_type": "display_data"
    }
   ],
   "source": [
    "sns.histplot(x = 'Sentiment', data = news_df[news_df['Score'] > 0.8], hue = 'Sentiment', hue_order=['POSITIVE', 'NEGATIVE'])"
   ]
  },
  {
   "cell_type": "code",
   "execution_count": 64,
   "metadata": {},
   "outputs": [
    {
     "data": {
      "text/plain": [
       "<AxesSubplot:xlabel='Sentiment2', ylabel='Count'>"
      ]
     },
     "execution_count": 64,
     "metadata": {},
     "output_type": "execute_result"
    },
    {
     "data": {
      "image/png": "[encoded data removed]",
      "text/plain": [
       "<Figure size 432x288 with 1 Axes>"
      ]
     },
     "metadata": {
      "needs_background": "light"
     },
     "output_type": "display_data"
    }
   ],
   "source": [
    "sns.histplot(x = 'Sentiment2', data = news_df[news_df['Score2'] > 0.8], hue = 'Sentiment2', hue_order=['POSITIVE', 'NEGATIVE'])"
   ]
  }
 ],
 "metadata": {
  "kernelspec": {
   "display_name": "Python 3.10.1 64-bit",
   "language": "python",
   "name": "python3"
  },
  "language_info": {
   "codemirror_mode": {
    "name": "ipython",
    "version": 3
   },
   "file_extension": ".py",
   "mimetype": "text/x-python",
   "name": "python",
   "nbconvert_exporter": "python",
   "pygments_lexer": "ipython3",
   "version": "3.10.1"
  },
  "orig_nbformat": 4,
  "vscode": {
   "interpreter": {
    "hash": "998c911629ba937bcf1bf80465453e12e8c5c2c818cb936f93ef7cf495a937a9"
   }
  }
 },
 "nbformat": 4,
 "nbformat_minor": 2
}
