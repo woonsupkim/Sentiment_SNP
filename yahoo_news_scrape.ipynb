{
 "cells": [
  {
   "cell_type": "code",
   "execution_count": 1,
   "metadata": {},
   "outputs": [],
   "source": [
    "import bs4 as bs\n",
    "import requests\n",
    "import yfinance as yf\n",
    "import datetime"
   ]
  },
  {
   "cell_type": "code",
   "execution_count": 2,
   "metadata": {},
   "outputs": [],
   "source": [
    "resp = requests.get('http://en.wikipedia.org/wiki/List_of_S%26P_500_companies')\n",
    "soup = bs.BeautifulSoup(resp.text, 'lxml')\n",
    "table = soup.find('table', {'class': 'wikitable sortable'})"
   ]
  },
  {
   "cell_type": "code",
   "execution_count": 3,
   "metadata": {},
   "outputs": [],
   "source": [
    "tickers = []\n",
    "\n",
    "for row in table.findAll('tr')[1:]:\n",
    "    ticker = row.findAll('td')[0].text\n",
    "    tickers.append(ticker)"
   ]
  },
  {
   "cell_type": "code",
   "execution_count": 5,
   "metadata": {},
   "outputs": [],
   "source": [
    "tickers = [s.replace('\\n', '') for s in tickers]"
   ]
  },
  {
   "cell_type": "code",
   "execution_count": 7,
   "metadata": {},
   "outputs": [
    {
     "name": "stdout",
     "output_type": "stream",
     "text": [
      "[*********************100%***********************]  503 of 503 completed\n",
      "\n",
      "3 Failed downloads:\n",
      "- BRK.B: No data found for this date range, symbol may be delisted\n",
      "- BF.B: No data found for this date range, symbol may be delisted\n",
      "- CEG: Data doesn't exist for startDate = 1577854800, endDate = 1641013200\n"
     ]
    }
   ],
   "source": [
    "start = datetime.datetime(2020, 1, 1)\n",
    "end = datetime.datetime(2022, 1, 1)\n",
    "data = yf.download(tickers, start=start, end=end)"
   ]
  },
  {
   "cell_type": "code",
   "execution_count": 8,
   "metadata": {},
   "outputs": [],
   "source": [
    "df = data.stack().reset_index().rename(index=str, columns={\"level_1\": \"Symbol\"}).sort_values(['Symbol','Date'])"
   ]
  },
  {
   "cell_type": "code",
   "execution_count": 9,
   "metadata": {},
   "outputs": [],
   "source": [
    "import seaborn as sns"
   ]
  },
  {
   "cell_type": "code",
   "execution_count": 10,
   "metadata": {},
   "outputs": [
    {
     "data": {
      "text/html": [
       "<div>\n",
       "<style scoped>\n",
       "    .dataframe tbody tr th:only-of-type {\n",
       "        vertical-align: middle;\n",
       "    }\n",
       "\n",
       "    .dataframe tbody tr th {\n",
       "        vertical-align: top;\n",
       "    }\n",
       "\n",
       "    .dataframe thead th {\n",
       "        text-align: right;\n",
       "    }\n",
       "</style>\n",
       "<table border=\"1\" class=\"dataframe\">\n",
       "  <thead>\n",
       "    <tr style=\"text-align: right;\">\n",
       "      <th></th>\n",
       "      <th>Date</th>\n",
       "      <th>Symbol</th>\n",
       "      <th>Adj Close</th>\n",
       "      <th>Close</th>\n",
       "      <th>High</th>\n",
       "      <th>Low</th>\n",
       "      <th>Open</th>\n",
       "      <th>Volume</th>\n",
       "    </tr>\n",
       "  </thead>\n",
       "  <tbody>\n",
       "    <tr>\n",
       "      <th>0</th>\n",
       "      <td>2020-01-02</td>\n",
       "      <td>A</td>\n",
       "      <td>84.371025</td>\n",
       "      <td>85.949997</td>\n",
       "      <td>86.349998</td>\n",
       "      <td>85.199997</td>\n",
       "      <td>85.900002</td>\n",
       "      <td>1410500.0</td>\n",
       "    </tr>\n",
       "    <tr>\n",
       "      <th>497</th>\n",
       "      <td>2020-01-03</td>\n",
       "      <td>A</td>\n",
       "      <td>83.016373</td>\n",
       "      <td>84.570000</td>\n",
       "      <td>85.330002</td>\n",
       "      <td>84.500000</td>\n",
       "      <td>84.669998</td>\n",
       "      <td>1118300.0</td>\n",
       "    </tr>\n",
       "    <tr>\n",
       "      <th>994</th>\n",
       "      <td>2020-01-06</td>\n",
       "      <td>A</td>\n",
       "      <td>83.261787</td>\n",
       "      <td>84.820000</td>\n",
       "      <td>84.820000</td>\n",
       "      <td>83.599998</td>\n",
       "      <td>84.000000</td>\n",
       "      <td>1993200.0</td>\n",
       "    </tr>\n",
       "    <tr>\n",
       "      <th>1491</th>\n",
       "      <td>2020-01-07</td>\n",
       "      <td>A</td>\n",
       "      <td>83.516998</td>\n",
       "      <td>85.080002</td>\n",
       "      <td>85.260002</td>\n",
       "      <td>83.940002</td>\n",
       "      <td>83.959999</td>\n",
       "      <td>1684700.0</td>\n",
       "    </tr>\n",
       "    <tr>\n",
       "      <th>1988</th>\n",
       "      <td>2020-01-08</td>\n",
       "      <td>A</td>\n",
       "      <td>84.341583</td>\n",
       "      <td>85.919998</td>\n",
       "      <td>86.470001</td>\n",
       "      <td>85.199997</td>\n",
       "      <td>85.959999</td>\n",
       "      <td>1847600.0</td>\n",
       "    </tr>\n",
       "    <tr>\n",
       "      <th>...</th>\n",
       "      <td>...</td>\n",
       "      <td>...</td>\n",
       "      <td>...</td>\n",
       "      <td>...</td>\n",
       "      <td>...</td>\n",
       "      <td>...</td>\n",
       "      <td>...</td>\n",
       "      <td>...</td>\n",
       "    </tr>\n",
       "    <tr>\n",
       "      <th>250049</th>\n",
       "      <td>2021-12-27</td>\n",
       "      <td>ZTS</td>\n",
       "      <td>246.114746</td>\n",
       "      <td>246.509995</td>\n",
       "      <td>246.720001</td>\n",
       "      <td>243.080002</td>\n",
       "      <td>244.389999</td>\n",
       "      <td>807000.0</td>\n",
       "    </tr>\n",
       "    <tr>\n",
       "      <th>250549</th>\n",
       "      <td>2021-12-28</td>\n",
       "      <td>ZTS</td>\n",
       "      <td>243.858383</td>\n",
       "      <td>244.250000</td>\n",
       "      <td>247.839996</td>\n",
       "      <td>243.639999</td>\n",
       "      <td>247.000000</td>\n",
       "      <td>1004400.0</td>\n",
       "    </tr>\n",
       "    <tr>\n",
       "      <th>251049</th>\n",
       "      <td>2021-12-29</td>\n",
       "      <td>ZTS</td>\n",
       "      <td>246.633926</td>\n",
       "      <td>247.029999</td>\n",
       "      <td>247.850006</td>\n",
       "      <td>243.639999</td>\n",
       "      <td>244.020004</td>\n",
       "      <td>939900.0</td>\n",
       "    </tr>\n",
       "    <tr>\n",
       "      <th>251549</th>\n",
       "      <td>2021-12-30</td>\n",
       "      <td>ZTS</td>\n",
       "      <td>244.766922</td>\n",
       "      <td>245.160004</td>\n",
       "      <td>249.270004</td>\n",
       "      <td>244.960007</td>\n",
       "      <td>247.050003</td>\n",
       "      <td>859100.0</td>\n",
       "    </tr>\n",
       "    <tr>\n",
       "      <th>252049</th>\n",
       "      <td>2021-12-31</td>\n",
       "      <td>ZTS</td>\n",
       "      <td>243.638733</td>\n",
       "      <td>244.029999</td>\n",
       "      <td>246.990005</td>\n",
       "      <td>243.740005</td>\n",
       "      <td>245.160004</td>\n",
       "      <td>1073400.0</td>\n",
       "    </tr>\n",
       "  </tbody>\n",
       "</table>\n",
       "<p>252050 rows × 8 columns</p>\n",
       "</div>"
      ],
      "text/plain": [
       "             Date Symbol   Adj Close       Close        High         Low  \\\n",
       "0      2020-01-02      A   84.371025   85.949997   86.349998   85.199997   \n",
       "497    2020-01-03      A   83.016373   84.570000   85.330002   84.500000   \n",
       "994    2020-01-06      A   83.261787   84.820000   84.820000   83.599998   \n",
       "1491   2020-01-07      A   83.516998   85.080002   85.260002   83.940002   \n",
       "1988   2020-01-08      A   84.341583   85.919998   86.470001   85.199997   \n",
       "...           ...    ...         ...         ...         ...         ...   \n",
       "250049 2021-12-27    ZTS  246.114746  246.509995  246.720001  243.080002   \n",
       "250549 2021-12-28    ZTS  243.858383  244.250000  247.839996  243.639999   \n",
       "251049 2021-12-29    ZTS  246.633926  247.029999  247.850006  243.639999   \n",
       "251549 2021-12-30    ZTS  244.766922  245.160004  249.270004  244.960007   \n",
       "252049 2021-12-31    ZTS  243.638733  244.029999  246.990005  243.740005   \n",
       "\n",
       "              Open     Volume  \n",
       "0        85.900002  1410500.0  \n",
       "497      84.669998  1118300.0  \n",
       "994      84.000000  1993200.0  \n",
       "1491     83.959999  1684700.0  \n",
       "1988     85.959999  1847600.0  \n",
       "...            ...        ...  \n",
       "250049  244.389999   807000.0  \n",
       "250549  247.000000  1004400.0  \n",
       "251049  244.020004   939900.0  \n",
       "251549  247.050003   859100.0  \n",
       "252049  245.160004  1073400.0  \n",
       "\n",
       "[252050 rows x 8 columns]"
      ]
     },
     "execution_count": 10,
     "metadata": {},
     "output_type": "execute_result"
    }
   ],
   "source": [
    "df"
   ]
  },
  {
   "cell_type": "code",
   "execution_count": 12,
   "metadata": {},
   "outputs": [
    {
     "data": {
      "text/plain": [
       "<AxesSubplot:xlabel='Date', ylabel='Close'>"
      ]
     },
     "execution_count": 12,
     "metadata": {},
     "output_type": "execute_result"
    },
    {
     "data": {
      "image/png": "[encoded data removed]",
      "text/plain": [
       "<Figure size 432x288 with 1 Axes>"
      ]
     },
     "metadata": {
      "needs_background": "light"
     },
     "output_type": "display_data"
    }
   ],
   "source": [
    "sns.lineplot(x = 'Date', y = 'Close', data = df)"
   ]
  }
 ],
 "metadata": {
  "kernelspec": {
   "display_name": "Python 3.10.1 64-bit",
   "language": "python",
   "name": "python3"
  },
  "language_info": {
   "codemirror_mode": {
    "name": "ipython",
    "version": 3
   },
   "file_extension": ".py",
   "mimetype": "text/x-python",
   "name": "python",
   "nbconvert_exporter": "python",
   "pygments_lexer": "ipython3",
   "version": "3.10.1"
  },
  "orig_nbformat": 4,
  "vscode": {
   "interpreter": {
    "hash": "998c911629ba937bcf1bf80465453e12e8c5c2c818cb936f93ef7cf495a937a9"
   }
  }
 },
 "nbformat": 4,
 "nbformat_minor": 2
}
