{
 "cells": [
  {
   "cell_type": "code",
   "execution_count": 1,
   "metadata": {},
   "outputs": [],
   "source": [
    "import bs4 as bs\n",
    "import requests\n",
    "import yfinance as yf\n",
    "import datetime"
   ]
  },
  {
   "cell_type": "code",
   "execution_count": 2,
   "metadata": {},
   "outputs": [],
   "source": [
    "resp = requests.get('http://en.wikipedia.org/wiki/List_of_S%26P_500_companies')\n",
    "soup = bs.BeautifulSoup(resp.text, 'lxml')\n",
    "table = soup.find('table', {'class': 'wikitable sortable'})"
   ]
  },
  {
   "cell_type": "code",
   "execution_count": 3,
   "metadata": {},
   "outputs": [],
   "source": [
    "tickers = []\n",
    "\n",
    "for row in table.findAll('tr')[1:]:\n",
    "    ticker = row.findAll('td')[0].text\n",
    "    tickers.append(ticker)"
   ]
  },
  {
   "cell_type": "code",
   "execution_count": 4,
   "metadata": {},
   "outputs": [],
   "source": [
    "tickers = [s.replace('\\n', '') for s in tickers]"
   ]
  },
  {
   "cell_type": "code",
   "execution_count": 55,
   "metadata": {},
   "outputs": [
    {
     "name": "stdout",
     "output_type": "stream",
     "text": [
      "[*********************100%***********************]  503 of 503 completed\n",
      "\n",
      "2 Failed downloads:\n",
      "- BRK.B: No data found for this date range, symbol may be delisted\n",
      "- BF.B: No data found for this date range, symbol may be delisted\n"
     ]
    }
   ],
   "source": [
    "start = datetime.date.today() - datetime.timedelta(days=365)\n",
    "end = datetime.date.today()\n",
    "data = yf.download(tickers, start=start, end=end)"
   ]
  },
  {
   "cell_type": "code",
   "execution_count": 56,
   "metadata": {},
   "outputs": [],
   "source": [
    "df = data.stack().reset_index().rename(index=str, columns={\"level_1\": \"Symbol\"}).sort_values(['Symbol','Date'])"
   ]
  },
  {
   "cell_type": "code",
   "execution_count": 57,
   "metadata": {},
   "outputs": [],
   "source": [
    "import seaborn as sns\n",
    "import numpy as np"
   ]
  },
  {
   "cell_type": "code",
   "execution_count": 58,
   "metadata": {},
   "outputs": [
    {
     "data": {
      "text/plain": [
       "array(['TSLA', 'AAPL', 'AMD', 'AMZN', 'F', 'NVDA', 'CCL', 'BAC', 'INTC',\n",
       "       'T'], dtype=object)"
      ]
     },
     "execution_count": 58,
     "metadata": {},
     "output_type": "execute_result"
    }
   ],
   "source": [
    "X = np.array(df.groupby(['Symbol'])['Volume'].mean().reset_index().sort_values(by='Volume', ascending = False)[:10]['Symbol'])\n",
    "X"
   ]
  },
  {
   "cell_type": "code",
   "execution_count": 59,
   "metadata": {},
   "outputs": [],
   "source": [
    "df2 = df.groupby(['Date', 'Symbol'])['Close'].mean().reset_index()"
   ]
  },
  {
   "cell_type": "code",
   "execution_count": 60,
   "metadata": {},
   "outputs": [
    {
     "data": {
      "text/html": [
       "<div>\n",
       "<style scoped>\n",
       "    .dataframe tbody tr th:only-of-type {\n",
       "        vertical-align: middle;\n",
       "    }\n",
       "\n",
       "    .dataframe tbody tr th {\n",
       "        vertical-align: top;\n",
       "    }\n",
       "\n",
       "    .dataframe thead th {\n",
       "        text-align: right;\n",
       "    }\n",
       "</style>\n",
       "<table border=\"1\" class=\"dataframe\">\n",
       "  <thead>\n",
       "    <tr style=\"text-align: right;\">\n",
       "      <th></th>\n",
       "      <th>Date</th>\n",
       "      <th>Symbol</th>\n",
       "      <th>Close</th>\n",
       "    </tr>\n",
       "  </thead>\n",
       "  <tbody>\n",
       "    <tr>\n",
       "      <th>3</th>\n",
       "      <td>2022-04-13</td>\n",
       "      <td>AAPL</td>\n",
       "      <td>170.399994</td>\n",
       "    </tr>\n",
       "    <tr>\n",
       "      <th>29</th>\n",
       "      <td>2022-04-13</td>\n",
       "      <td>AMD</td>\n",
       "      <td>97.739998</td>\n",
       "    </tr>\n",
       "    <tr>\n",
       "      <th>34</th>\n",
       "      <td>2022-04-13</td>\n",
       "      <td>AMZN</td>\n",
       "      <td>155.541000</td>\n",
       "    </tr>\n",
       "    <tr>\n",
       "      <th>53</th>\n",
       "      <td>2022-04-13</td>\n",
       "      <td>BAC</td>\n",
       "      <td>38.820000</td>\n",
       "    </tr>\n",
       "    <tr>\n",
       "      <th>82</th>\n",
       "      <td>2022-04-13</td>\n",
       "      <td>CCL</td>\n",
       "      <td>19.510000</td>\n",
       "    </tr>\n",
       "    <tr>\n",
       "      <th>...</th>\n",
       "      <td>...</td>\n",
       "      <td>...</td>\n",
       "      <td>...</td>\n",
       "    </tr>\n",
       "    <tr>\n",
       "      <th>124754</th>\n",
       "      <td>2023-04-12</td>\n",
       "      <td>F</td>\n",
       "      <td>12.670000</td>\n",
       "    </tr>\n",
       "    <tr>\n",
       "      <th>124818</th>\n",
       "      <td>2023-04-12</td>\n",
       "      <td>INTC</td>\n",
       "      <td>32.020000</td>\n",
       "    </tr>\n",
       "    <tr>\n",
       "      <th>124918</th>\n",
       "      <td>2023-04-12</td>\n",
       "      <td>NVDA</td>\n",
       "      <td>264.950012</td>\n",
       "    </tr>\n",
       "    <tr>\n",
       "      <th>125007</th>\n",
       "      <td>2023-04-12</td>\n",
       "      <td>T</td>\n",
       "      <td>19.770000</td>\n",
       "    </tr>\n",
       "    <tr>\n",
       "      <th>125026</th>\n",
       "      <td>2023-04-12</td>\n",
       "      <td>TSLA</td>\n",
       "      <td>180.539993</td>\n",
       "    </tr>\n",
       "  </tbody>\n",
       "</table>\n",
       "<p>2500 rows × 3 columns</p>\n",
       "</div>"
      ],
      "text/plain": [
       "             Date Symbol       Close\n",
       "3      2022-04-13   AAPL  170.399994\n",
       "29     2022-04-13    AMD   97.739998\n",
       "34     2022-04-13   AMZN  155.541000\n",
       "53     2022-04-13    BAC   38.820000\n",
       "82     2022-04-13    CCL   19.510000\n",
       "...           ...    ...         ...\n",
       "124754 2023-04-12      F   12.670000\n",
       "124818 2023-04-12   INTC   32.020000\n",
       "124918 2023-04-12   NVDA  264.950012\n",
       "125007 2023-04-12      T   19.770000\n",
       "125026 2023-04-12   TSLA  180.539993\n",
       "\n",
       "[2500 rows x 3 columns]"
      ]
     },
     "execution_count": 60,
     "metadata": {},
     "output_type": "execute_result"
    }
   ],
   "source": [
    "df3 = df2[df2['Symbol'].isin(X)]\n",
    "df3"
   ]
  },
  {
   "cell_type": "code",
   "execution_count": 61,
   "metadata": {},
   "outputs": [
    {
     "name": "stdout",
     "output_type": "stream",
     "text": [
      "<class 'pandas.core.frame.DataFrame'>\n",
      "Int64Index: 2500 entries, 3 to 125026\n",
      "Data columns (total 3 columns):\n",
      " #   Column  Non-Null Count  Dtype         \n",
      "---  ------  --------------  -----         \n",
      " 0   Date    2500 non-null   datetime64[ns]\n",
      " 1   Symbol  2500 non-null   object        \n",
      " 2   Close   2500 non-null   float64       \n",
      "dtypes: datetime64[ns](1), float64(1), object(1)\n",
      "memory usage: 78.1+ KB\n"
     ]
    }
   ],
   "source": [
    "df3.info()"
   ]
  },
  {
   "cell_type": "code",
   "execution_count": 66,
   "metadata": {},
   "outputs": [],
   "source": [
    "import matplotlib.pyplot as plt\n",
    "\n",
    "fig, ax = plt.subplots()\n",
    "fig.set_size_inches(15,10)\n",
    "sns.lineplot(x = 'Date', y = 'Close', hue = 'Symbol', data = df3)\n",
    "\n",
    "i = 1\n",
    "for line in plt.gca().lines:\n",
    "    if i > 10:\n",
    "        label = line.get_label()\n",
    "        #print(label)\n",
    "        plt.text(line.get_xdata()[0] + 0.5, line.get_ydata()[0], label, ha='left', va='center', fontsize=10)\n",
    "    i = i + 1\n",
    "\n",
    "\n",
    "\n",
    "# for line in plt.gca().lines:\n",
    "#     label = line.get_label()\n",
    "#     #print(label)\n",
    "#     plt.text(line.get_xdata()[0] + 0.5, line.get_ydata()[0], label, ha='left', va='center', fontsize=10)\n",
    "\n",
    "\n",
    "# show the plot\n",
    "plt.show()"
   ]
  },
  {
   "cell_type": "code",
   "execution_count": null,
   "metadata": {},
   "outputs": [],
   "source": []
  }
 ],
 "metadata": {
  "kernelspec": {
   "display_name": "Python 3.10.1 64-bit",
   "language": "python",
   "name": "python3"
  },
  "language_info": {
   "codemirror_mode": {
    "name": "ipython",
    "version": 3
   },
   "file_extension": ".py",
   "mimetype": "text/x-python",
   "name": "python",
   "nbconvert_exporter": "python",
   "pygments_lexer": "ipython3",
   "version": "3.10.1"
  },
  "orig_nbformat": 4,
  "vscode": {
   "interpreter": {
    "hash": "998c911629ba937bcf1bf80465453e12e8c5c2c818cb936f93ef7cf495a937a9"
   }
  }
 },
 "nbformat": 4,
 "nbformat_minor": 2
}
