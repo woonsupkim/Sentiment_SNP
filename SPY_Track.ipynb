{
 "cells": [
  {
   "cell_type": "code",
   "execution_count": 23,
   "metadata": {},
   "outputs": [],
   "source": [
    "import pandas as pd\n",
    "import numpy as np\n",
    "import yfinance as yf\n",
    "import seaborn as sns\n",
    "import matplotlib.pyplot as plt"
   ]
  },
  {
   "cell_type": "code",
   "execution_count": 26,
   "metadata": {},
   "outputs": [
    {
     "name": "stdout",
     "output_type": "stream",
     "text": [
      "[*********************100%***********************]  1 of 1 completed\n"
     ]
    }
   ],
   "source": [
    "spy_ohlc_df = yf.download('SPY', start='2022-12-05', end='2022-12-06', interval='1m')"
   ]
  },
  {
   "cell_type": "code",
   "execution_count": 27,
   "metadata": {},
   "outputs": [
    {
     "data": {
      "text/html": [
       "<div>\n",
       "<style scoped>\n",
       "    .dataframe tbody tr th:only-of-type {\n",
       "        vertical-align: middle;\n",
       "    }\n",
       "\n",
       "    .dataframe tbody tr th {\n",
       "        vertical-align: top;\n",
       "    }\n",
       "\n",
       "    .dataframe thead th {\n",
       "        text-align: right;\n",
       "    }\n",
       "</style>\n",
       "<table border=\"1\" class=\"dataframe\">\n",
       "  <thead>\n",
       "    <tr style=\"text-align: right;\">\n",
       "      <th></th>\n",
       "      <th>Datetime</th>\n",
       "      <th>Open</th>\n",
       "      <th>High</th>\n",
       "      <th>Low</th>\n",
       "      <th>Close</th>\n",
       "      <th>Adj Close</th>\n",
       "      <th>Volume</th>\n",
       "    </tr>\n",
       "  </thead>\n",
       "  <tbody>\n",
       "    <tr>\n",
       "      <th>0</th>\n",
       "      <td>2022-12-05 09:30:00</td>\n",
       "      <td>403.950012</td>\n",
       "      <td>404.170013</td>\n",
       "      <td>403.809998</td>\n",
       "      <td>404.040009</td>\n",
       "      <td>404.040009</td>\n",
       "      <td>2298641</td>\n",
       "    </tr>\n",
       "    <tr>\n",
       "      <th>1</th>\n",
       "      <td>2022-12-05 09:31:00</td>\n",
       "      <td>404.049988</td>\n",
       "      <td>404.250000</td>\n",
       "      <td>403.869995</td>\n",
       "      <td>404.140015</td>\n",
       "      <td>404.140015</td>\n",
       "      <td>219476</td>\n",
       "    </tr>\n",
       "    <tr>\n",
       "      <th>2</th>\n",
       "      <td>2022-12-05 09:32:00</td>\n",
       "      <td>404.130005</td>\n",
       "      <td>404.290009</td>\n",
       "      <td>403.910004</td>\n",
       "      <td>403.910004</td>\n",
       "      <td>403.910004</td>\n",
       "      <td>228250</td>\n",
       "    </tr>\n",
       "    <tr>\n",
       "      <th>3</th>\n",
       "      <td>2022-12-05 09:33:00</td>\n",
       "      <td>403.920013</td>\n",
       "      <td>404.220001</td>\n",
       "      <td>403.890015</td>\n",
       "      <td>404.079987</td>\n",
       "      <td>404.079987</td>\n",
       "      <td>197559</td>\n",
       "    </tr>\n",
       "    <tr>\n",
       "      <th>4</th>\n",
       "      <td>2022-12-05 09:34:00</td>\n",
       "      <td>404.049988</td>\n",
       "      <td>404.454987</td>\n",
       "      <td>404.019989</td>\n",
       "      <td>404.429993</td>\n",
       "      <td>404.429993</td>\n",
       "      <td>218209</td>\n",
       "    </tr>\n",
       "    <tr>\n",
       "      <th>...</th>\n",
       "      <td>...</td>\n",
       "      <td>...</td>\n",
       "      <td>...</td>\n",
       "      <td>...</td>\n",
       "      <td>...</td>\n",
       "      <td>...</td>\n",
       "      <td>...</td>\n",
       "    </tr>\n",
       "    <tr>\n",
       "      <th>384</th>\n",
       "      <td>2022-12-05 15:55:00</td>\n",
       "      <td>399.540009</td>\n",
       "      <td>399.679993</td>\n",
       "      <td>399.480011</td>\n",
       "      <td>399.667511</td>\n",
       "      <td>399.667511</td>\n",
       "      <td>396176</td>\n",
       "    </tr>\n",
       "    <tr>\n",
       "      <th>385</th>\n",
       "      <td>2022-12-05 15:56:00</td>\n",
       "      <td>399.679993</td>\n",
       "      <td>399.760010</td>\n",
       "      <td>399.450012</td>\n",
       "      <td>399.565002</td>\n",
       "      <td>399.565002</td>\n",
       "      <td>526406</td>\n",
       "    </tr>\n",
       "    <tr>\n",
       "      <th>386</th>\n",
       "      <td>2022-12-05 15:57:00</td>\n",
       "      <td>399.570007</td>\n",
       "      <td>399.920013</td>\n",
       "      <td>399.570007</td>\n",
       "      <td>399.869995</td>\n",
       "      <td>399.869995</td>\n",
       "      <td>762826</td>\n",
       "    </tr>\n",
       "    <tr>\n",
       "      <th>387</th>\n",
       "      <td>2022-12-05 15:58:00</td>\n",
       "      <td>399.869995</td>\n",
       "      <td>399.950012</td>\n",
       "      <td>399.709991</td>\n",
       "      <td>399.760193</td>\n",
       "      <td>399.760193</td>\n",
       "      <td>781471</td>\n",
       "    </tr>\n",
       "    <tr>\n",
       "      <th>388</th>\n",
       "      <td>2022-12-05 15:59:00</td>\n",
       "      <td>399.779999</td>\n",
       "      <td>399.859985</td>\n",
       "      <td>399.570007</td>\n",
       "      <td>399.619995</td>\n",
       "      <td>399.619995</td>\n",
       "      <td>2076869</td>\n",
       "    </tr>\n",
       "  </tbody>\n",
       "</table>\n",
       "<p>389 rows × 7 columns</p>\n",
       "</div>"
      ],
      "text/plain": [
       "               Datetime        Open        High         Low       Close  \\\n",
       "0   2022-12-05 09:30:00  403.950012  404.170013  403.809998  404.040009   \n",
       "1   2022-12-05 09:31:00  404.049988  404.250000  403.869995  404.140015   \n",
       "2   2022-12-05 09:32:00  404.130005  404.290009  403.910004  403.910004   \n",
       "3   2022-12-05 09:33:00  403.920013  404.220001  403.890015  404.079987   \n",
       "4   2022-12-05 09:34:00  404.049988  404.454987  404.019989  404.429993   \n",
       "..                  ...         ...         ...         ...         ...   \n",
       "384 2022-12-05 15:55:00  399.540009  399.679993  399.480011  399.667511   \n",
       "385 2022-12-05 15:56:00  399.679993  399.760010  399.450012  399.565002   \n",
       "386 2022-12-05 15:57:00  399.570007  399.920013  399.570007  399.869995   \n",
       "387 2022-12-05 15:58:00  399.869995  399.950012  399.709991  399.760193   \n",
       "388 2022-12-05 15:59:00  399.779999  399.859985  399.570007  399.619995   \n",
       "\n",
       "      Adj Close   Volume  \n",
       "0    404.040009  2298641  \n",
       "1    404.140015   219476  \n",
       "2    403.910004   228250  \n",
       "3    404.079987   197559  \n",
       "4    404.429993   218209  \n",
       "..          ...      ...  \n",
       "384  399.667511   396176  \n",
       "385  399.565002   526406  \n",
       "386  399.869995   762826  \n",
       "387  399.760193   781471  \n",
       "388  399.619995  2076869  \n",
       "\n",
       "[389 rows x 7 columns]"
      ]
     },
     "execution_count": 27,
     "metadata": {},
     "output_type": "execute_result"
    }
   ],
   "source": [
    "df=spy_ohlc_df.reset_index()\n",
    "df"
   ]
  },
  {
   "cell_type": "code",
   "execution_count": 31,
   "metadata": {},
   "outputs": [
    {
     "data": {
      "image/png": "[encoded data removed]",
      "text/plain": [
       "<Figure size 1080x432 with 1 Axes>"
      ]
     },
     "metadata": {
      "needs_background": "light"
     },
     "output_type": "display_data"
    }
   ],
   "source": [
    "fig, ax = plt.subplots()\n",
    "fig.set_size_inches(15,6)\n",
    "sns.lineplot(x = 'Datetime', y = 'Close', data = df)\n",
    "plt.show()"
   ]
  },
  {
   "cell_type": "code",
   "execution_count": null,
   "metadata": {},
   "outputs": [],
   "source": []
  }
 ],
 "metadata": {
  "kernelspec": {
   "display_name": "Python 3.10.1 64-bit",
   "language": "python",
   "name": "python3"
  },
  "language_info": {
   "codemirror_mode": {
    "name": "ipython",
    "version": 3
   },
   "file_extension": ".py",
   "mimetype": "text/x-python",
   "name": "python",
   "nbconvert_exporter": "python",
   "pygments_lexer": "ipython3",
   "version": "3.10.1"
  },
  "orig_nbformat": 4,
  "vscode": {
   "interpreter": {
    "hash": "998c911629ba937bcf1bf80465453e12e8c5c2c818cb936f93ef7cf495a937a9"
   }
  }
 },
 "nbformat": 4,
 "nbformat_minor": 2
}
