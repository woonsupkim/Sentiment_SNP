{
 "cells": [
  {
   "cell_type": "code",
   "execution_count": 1,
   "metadata": {},
   "outputs": [
    {
     "name": "stderr",
     "output_type": "stream",
     "text": [
      "c:\\Users\\Woon\\AppData\\Local\\Programs\\Python\\Python310\\lib\\site-packages\\tqdm\\auto.py:22: TqdmWarning: IProgress not found. Please update jupyter and ipywidgets. See https://ipywidgets.readthedocs.io/en/stable/user_install.html\n",
      "  from .autonotebook import tqdm as notebook_tqdm\n"
     ]
    }
   ],
   "source": [
    "import pandas as pd\n",
    "import numpy as np\n",
    "import yfinance as yf\n",
    "import seaborn as sns\n",
    "import matplotlib.pyplot as plt\n",
    "from prophet import Prophet\n",
    "import datetime as dt\n",
    "from datetime import date\n",
    "import tkinter.messagebox as mbox\n",
    "\n",
    "from bs4 import BeautifulSoup\n",
    "import time\n",
    "from selenium import webdriver\n",
    "from urllib.parse import urljoin\n",
    "\n",
    "import warnings\n",
    "warnings.filterwarnings(\"ignore\")\n",
    "\n",
    "from IPython.core.interactiveshell import InteractiveShell\n",
    "InteractiveShell.ast_node_interactivity = 'all'\n",
    "\n",
    "# Environment settings: \n",
    "pd.set_option('display.max_column', None)\n",
    "pd.set_option('display.max_rows', None)\n",
    "pd.set_option('display.max_seq_items', None)\n",
    "pd.set_option('display.max_colwidth', 500)\n",
    "pd.set_option('expand_frame_repr', True)"
   ]
  },
  {
   "cell_type": "code",
   "execution_count": 2,
   "metadata": {},
   "outputs": [],
   "source": [
    "def get_page(url):\n",
    "    \"\"\"Download a webpage and return a beautiful soup doc\"\"\"\n",
    "    ##### Web scrapper for infinite scrolling page #####\n",
    "    driver = webdriver.Chrome(executable_path=r\"E:\\Chromedriver\\chromedriver_win32_chrome83\\chromedriver.exe\")\n",
    "    driver.get(url)\n",
    "    time.sleep(2)  # Allow 2 seconds for the web page to open\n",
    "    scroll_pause_time = 1 # You can set your own pause time. My laptop is a bit slow so I use 1 sec\n",
    "    screen_height = driver.execute_script(\"return window.screen.height;\")   # get the screen height of the web\n",
    "    i = 1\n",
    "\n",
    "    while True:\n",
    "        # scroll one screen height each time\n",
    "        driver.execute_script(\"window.scrollTo(0, {screen_height}*{i});\".format(screen_height=screen_height, i=i))  \n",
    "        i += 1\n",
    "        time.sleep(scroll_pause_time)\n",
    "        # update scroll height each time after scrolled, as the scroll height can change after we scrolled the page\n",
    "        scroll_height = driver.execute_script(\"return document.body.scrollHeight;\")  \n",
    "        # Break the loop when the height we need to scroll to is larger than the total scroll height\n",
    "        if i == 20:\n",
    "            break \n",
    "\n",
    "    ##### Extract Reddit URLs #####\n",
    "    soup = BeautifulSoup(driver.page_source, \"html.parser\")\n",
    "    return soup"
   ]
  },
  {
   "cell_type": "code",
   "execution_count": 3,
   "metadata": {},
   "outputs": [],
   "source": [
    "def get_news_tags(doc):\n",
    "    \"\"\"Get the list of tags containing news information\"\"\"\n",
    "    news_class = \"Ov(h) Pend(44px) Pstart(25px)\" ## class name of div tag \n",
    "    news_list  = doc.find_all('div', {'class': news_class})\n",
    "    return news_list"
   ]
  },
  {
   "cell_type": "code",
   "execution_count": 4,
   "metadata": {},
   "outputs": [],
   "source": [
    "def parse_news(news_tag):\n",
    "    \"\"\"Get the news data point and return dictionary\"\"\"\n",
    "    news_source = news_tag.find_all('span')[0].text #source\n",
    "    news_time = news_tag.find_all('span')[1].text #link\n",
    "    news_headline = news_tag.find('a').text #heading\n",
    "    news_content = news_tag.find('p').text #content\n",
    "    news_image = news_tag.findParent().find('img')['src'] #thumb image\n",
    "    return { 'source' : news_source,\n",
    "            'time' : news_time,    \n",
    "            'headline' : news_headline,\n",
    "            'content' : news_content,\n",
    "           }"
   ]
  },
  {
   "cell_type": "code",
   "execution_count": 5,
   "metadata": {},
   "outputs": [],
   "source": [
    "def scrape_yahoo_news(url, path=None):\n",
    "    \"\"\"Get the yahoo finance market news and write them to CSV file \"\"\"\n",
    "    if path is None:\n",
    "        path = 'stock-market-news.csv'\n",
    "        \n",
    "    #print('Requesting html page')\n",
    "    doc = get_page(url)\n",
    "\n",
    "    #print('Extracting news tags')\n",
    "    news_list = get_news_tags(doc)\n",
    "\n",
    "    #print('Parsing news tags')\n",
    "    news_data = [parse_news(news_tag) for news_tag in news_list]\n",
    "\n",
    "    #print('Save the data to a CSV')\n",
    "    news_df = pd.DataFrame(news_data)\n",
    "    #news_df.to_csv(path, index=None)\n",
    "    \n",
    "    #This return statement is optional, we are doing this just analyze the final output \n",
    "    return news_df "
   ]
  },
  {
   "cell_type": "code",
   "execution_count": 6,
   "metadata": {},
   "outputs": [],
   "source": [
    "import sys\n",
    "sys.path.insert(1, 'C:/Users/Woon/Desktop/Columbia/Applied Analytics/Term3/Sentiment_SNP')\n",
    "\n",
    "import helper_functions\n",
    "from helper_functions import *"
   ]
  },
  {
   "cell_type": "code",
   "execution_count": 7,
   "metadata": {},
   "outputs": [
    {
     "data": {
      "text/html": [
       "        <script type=\"text/javascript\">\n",
       "        window.PlotlyConfig = {MathJaxConfig: 'local'};\n",
       "        if (window.MathJax && window.MathJax.Hub && window.MathJax.Hub.Config) {window.MathJax.Hub.Config({SVG: {font: \"STIX-Web\"}});}\n",
       "        if (typeof require !== 'undefined') {\n",
       "        require.undef(\"plotly\");\n",
       "        requirejs.config({\n",
       "            paths: {\n",
       "                'plotly': ['https://cdn.plot.ly/plotly-2.14.0.min']\n",
       "            }\n",
       "        });\n",
       "        require(['plotly'], function(Plotly) {\n",
       "            window._Plotly = Plotly;\n",
       "        });\n",
       "        }\n",
       "        </script>\n",
       "        "
      ]
     },
     "metadata": {},
     "output_type": "display_data"
    }
   ],
   "source": [
    "from collections import defaultdict\n",
    "from plotly import tools\n",
    "import plotly.offline as py\n",
    "py.init_notebook_mode(connected=True)\n",
    "\n",
    "from transformers import pipeline"
   ]
  },
  {
   "cell_type": "code",
   "execution_count": 8,
   "metadata": {},
   "outputs": [],
   "source": [
    "sentiment_pipeline = pipeline(\"sentiment-analysis\", model=\"distilbert-base-uncased-finetuned-sst-2-english\")"
   ]
  },
  {
   "attachments": {},
   "cell_type": "markdown",
   "metadata": {},
   "source": [
    "# Ticker"
   ]
  },
  {
   "cell_type": "code",
   "execution_count": 9,
   "metadata": {},
   "outputs": [],
   "source": [
    "from urllib.request import Request, urlopen\n",
    "from urllib.error import HTTPError\n",
    "import socket\n",
    "import urllib"
   ]
  },
  {
   "cell_type": "code",
   "execution_count": 10,
   "metadata": {},
   "outputs": [],
   "source": [
    "# text_input = input(\"Type in the Ticker: \")\n",
    "# print(\"You entered:\", text_input)\n",
    "\n",
    "text_input = 'xom'"
   ]
  },
  {
   "attachments": {},
   "cell_type": "markdown",
   "metadata": {},
   "source": [
    "# Yahoo Finance News"
   ]
  },
  {
   "cell_type": "code",
   "execution_count": 11,
   "metadata": {},
   "outputs": [
    {
     "name": "stdout",
     "output_type": "stream",
     "text": [
      "Report Date =  2023-04-12\n",
      "Report Time = 23:27:39\n"
     ]
    }
   ],
   "source": [
    "from datetime import datetime\n",
    "\n",
    "now = datetime.now()\n",
    "current_time = now.strftime(\"%H:%M:%S\")\n",
    "print(\"Report Date = \", date.today())\n",
    "print(\"Report Time =\", current_time)\n",
    "YAHOO_NEWS_URL = f'https://finance.yahoo.com/quote/{text_input}?p={text_input}&.tsrc=fin-srch'\n",
    "news_df = scrape_yahoo_news(YAHOO_NEWS_URL)"
   ]
  },
  {
   "cell_type": "code",
   "execution_count": 12,
   "metadata": {},
   "outputs": [
    {
     "data": {
      "text/html": [
       "<div>\n",
       "<style scoped>\n",
       "    .dataframe tbody tr th:only-of-type {\n",
       "        vertical-align: middle;\n",
       "    }\n",
       "\n",
       "    .dataframe tbody tr th {\n",
       "        vertical-align: top;\n",
       "    }\n",
       "\n",
       "    .dataframe thead th {\n",
       "        text-align: right;\n",
       "    }\n",
       "</style>\n",
       "<table border=\"1\" class=\"dataframe\">\n",
       "  <thead>\n",
       "    <tr style=\"text-align: right;\">\n",
       "      <th></th>\n",
       "      <th>source</th>\n",
       "      <th>time</th>\n",
       "      <th>headline</th>\n",
       "      <th>content</th>\n",
       "    </tr>\n",
       "  </thead>\n",
       "  <tbody>\n",
       "    <tr>\n",
       "      <th>0</th>\n",
       "      <td>Insider Monkey</td>\n",
       "      <td>12 hours ago</td>\n",
       "      <td>11 Best Undervalued Energy Stocks to Buy According to Analysts</td>\n",
       "      <td>In this article, we will discuss the 11 best undervalued energy stocks to buy according to analysts. If you want to explore similar stocks, you can also take a look at 5 Best Undervalued Energy Stocks to Buy According to Analysts. “It’s Obviously A Positive For The Energy Sector” On April 2, OPEC+ announced an […]</td>\n",
       "    </tr>\n",
       "    <tr>\n",
       "      <th>1</th>\n",
       "      <td>TheStreet.com</td>\n",
       "      <td>12 hours ago</td>\n",
       "      <td>With the Oil Patch Facing Consolidation, One Stock Stands Out</td>\n",
       "      <td>Energy giants are investing on finding ways to contribute to the still developing global transition to a green energy future, and they'd like to remain permanently relevant.</td>\n",
       "    </tr>\n",
       "    <tr>\n",
       "      <th>2</th>\n",
       "      <td>Zacks</td>\n",
       "      <td>13 hours ago</td>\n",
       "      <td>ExxonMobil's (XOM) Prosperity FPSO Reaches Guyana Stabroek Block</td>\n",
       "      <td>The Prosperity vessel will be permitted to ExxonMobil (XOM) to operate on the Payara project offshore Guyana.</td>\n",
       "    </tr>\n",
       "    <tr>\n",
       "      <th>3</th>\n",
       "      <td>Insider Monkey</td>\n",
       "      <td>17 hours ago</td>\n",
       "      <td>12 Best Energy Stocks To Invest In According to Analysts</td>\n",
       "      <td>In this article, we will take a look at the 12 best energy stocks to invest in according to analysts. If you want to explore similar stocks, you can also take a look at 5 Best Energy Stocks To Invest In According to Analysts. On April 7, the Wall Street Journal reported that oil giant Exxon Mobil […]</td>\n",
       "    </tr>\n",
       "    <tr>\n",
       "      <th>4</th>\n",
       "      <td>MoneyWise</td>\n",
       "      <td>17 hours ago</td>\n",
       "      <td>Oil faces a 'serious problem' by 2024 as production capacity runs out, warns Goldman Sachs — here are 3 big oil stocks with yields as high as 3.8%</td>\n",
       "      <td>The days of $100 oil may not be over.</td>\n",
       "    </tr>\n",
       "  </tbody>\n",
       "</table>\n",
       "</div>"
      ],
      "text/plain": [
       "           source          time  \\\n",
       "0  Insider Monkey  12 hours ago   \n",
       "1   TheStreet.com  12 hours ago   \n",
       "2           Zacks  13 hours ago   \n",
       "3  Insider Monkey  17 hours ago   \n",
       "4       MoneyWise  17 hours ago   \n",
       "\n",
       "                                                                                                                                             headline  \\\n",
       "0                                                                                      11 Best Undervalued Energy Stocks to Buy According to Analysts   \n",
       "1                                                                                       With the Oil Patch Facing Consolidation, One Stock Stands Out   \n",
       "2                                                                                    ExxonMobil's (XOM) Prosperity FPSO Reaches Guyana Stabroek Block   \n",
       "3                                                                                            12 Best Energy Stocks To Invest In According to Analysts   \n",
       "4  Oil faces a 'serious problem' by 2024 as production capacity runs out, warns Goldman Sachs — here are 3 big oil stocks with yields as high as 3.8%   \n",
       "\n",
       "                                                                                                                                                                                                                                                                                                                       content  \n",
       "0  In this article, we will discuss the 11 best undervalued energy stocks to buy according to analysts. If you want to explore similar stocks, you can also take a look at 5 Best Undervalued Energy Stocks to Buy According to Analysts. “It’s Obviously A Positive For The Energy Sector” On April 2, OPEC+ announced an […]  \n",
       "1                                                                                                                                                Energy giants are investing on finding ways to contribute to the still developing global transition to a green energy future, and they'd like to remain permanently relevant.  \n",
       "2                                                                                                                                                                                                                The Prosperity vessel will be permitted to ExxonMobil (XOM) to operate on the Payara project offshore Guyana.  \n",
       "3                In this article, we will take a look at the 12 best energy stocks to invest in according to analysts. If you want to explore similar stocks, you can also take a look at 5 Best Energy Stocks To Invest In According to Analysts. On April 7, the Wall Street Journal reported that oil giant Exxon Mobil […]  \n",
       "4                                                                                                                                                                                                                                                                                        The days of $100 oil may not be over.  "
      ]
     },
     "execution_count": 12,
     "metadata": {},
     "output_type": "execute_result"
    }
   ],
   "source": [
    "news_df.head()"
   ]
  },
  {
   "cell_type": "code",
   "execution_count": 13,
   "metadata": {},
   "outputs": [],
   "source": [
    "sentiment = [None] * len(news_df)\n",
    "sentiment_score = [None] * len(news_df)\n",
    "index = -1\n",
    "for sentence in news_df['headline']:\n",
    "    index+=1\n",
    "    result = sentiment_pipeline(sentence[:512])[0]\n",
    "    sentiment[index] = result['label']\n",
    "    sentiment_score[index] = result['score']\n",
    "news_df['Sentiment'] = sentiment\n",
    "news_df['Score'] = sentiment_score\n",
    "\n",
    "\n",
    "sentiment = [None] * len(news_df)\n",
    "sentiment_score = [None] * len(news_df)\n",
    "index = -1\n",
    "for sentence in news_df['content']:\n",
    "    index+=1\n",
    "    result = sentiment_pipeline(sentence[:512])[0]\n",
    "    sentiment[index] = result['label']\n",
    "    sentiment_score[index] = result['score']\n",
    "news_df['Sentiment2'] = sentiment\n",
    "news_df['Score2'] = sentiment_score"
   ]
  },
  {
   "cell_type": "code",
   "execution_count": 14,
   "metadata": {},
   "outputs": [
    {
     "data": {
      "text/html": [
       "<div>\n",
       "<style scoped>\n",
       "    .dataframe tbody tr th:only-of-type {\n",
       "        vertical-align: middle;\n",
       "    }\n",
       "\n",
       "    .dataframe tbody tr th {\n",
       "        vertical-align: top;\n",
       "    }\n",
       "\n",
       "    .dataframe thead th {\n",
       "        text-align: right;\n",
       "    }\n",
       "</style>\n",
       "<table border=\"1\" class=\"dataframe\">\n",
       "  <thead>\n",
       "    <tr style=\"text-align: right;\">\n",
       "      <th></th>\n",
       "      <th>source</th>\n",
       "      <th>time</th>\n",
       "      <th>headline</th>\n",
       "      <th>content</th>\n",
       "      <th>Sentiment</th>\n",
       "      <th>Score</th>\n",
       "      <th>Sentiment2</th>\n",
       "      <th>Score2</th>\n",
       "    </tr>\n",
       "  </thead>\n",
       "  <tbody>\n",
       "    <tr>\n",
       "      <th>0</th>\n",
       "      <td>Insider Monkey</td>\n",
       "      <td>12 hours ago</td>\n",
       "      <td>11 Best Undervalued Energy Stocks to Buy According to Analysts</td>\n",
       "      <td>In this article, we will discuss the 11 best undervalued energy stocks to buy according to analysts. If you want to explore similar stocks, you can also take a look at 5 Best Undervalued Energy Stocks to Buy According to Analysts. “It’s Obviously A Positive For The Energy Sector” On April 2, OPEC+ announced an […]</td>\n",
       "      <td>POSITIVE</td>\n",
       "      <td>0.998835</td>\n",
       "      <td>POSITIVE</td>\n",
       "      <td>0.999089</td>\n",
       "    </tr>\n",
       "    <tr>\n",
       "      <th>1</th>\n",
       "      <td>TheStreet.com</td>\n",
       "      <td>12 hours ago</td>\n",
       "      <td>With the Oil Patch Facing Consolidation, One Stock Stands Out</td>\n",
       "      <td>Energy giants are investing on finding ways to contribute to the still developing global transition to a green energy future, and they'd like to remain permanently relevant.</td>\n",
       "      <td>POSITIVE</td>\n",
       "      <td>0.998394</td>\n",
       "      <td>POSITIVE</td>\n",
       "      <td>0.999688</td>\n",
       "    </tr>\n",
       "    <tr>\n",
       "      <th>2</th>\n",
       "      <td>Zacks</td>\n",
       "      <td>13 hours ago</td>\n",
       "      <td>ExxonMobil's (XOM) Prosperity FPSO Reaches Guyana Stabroek Block</td>\n",
       "      <td>The Prosperity vessel will be permitted to ExxonMobil (XOM) to operate on the Payara project offshore Guyana.</td>\n",
       "      <td>NEGATIVE</td>\n",
       "      <td>0.990843</td>\n",
       "      <td>NEGATIVE</td>\n",
       "      <td>0.936813</td>\n",
       "    </tr>\n",
       "    <tr>\n",
       "      <th>3</th>\n",
       "      <td>Insider Monkey</td>\n",
       "      <td>17 hours ago</td>\n",
       "      <td>12 Best Energy Stocks To Invest In According to Analysts</td>\n",
       "      <td>In this article, we will take a look at the 12 best energy stocks to invest in according to analysts. If you want to explore similar stocks, you can also take a look at 5 Best Energy Stocks To Invest In According to Analysts. On April 7, the Wall Street Journal reported that oil giant Exxon Mobil […]</td>\n",
       "      <td>POSITIVE</td>\n",
       "      <td>0.999674</td>\n",
       "      <td>POSITIVE</td>\n",
       "      <td>0.995061</td>\n",
       "    </tr>\n",
       "    <tr>\n",
       "      <th>4</th>\n",
       "      <td>MoneyWise</td>\n",
       "      <td>17 hours ago</td>\n",
       "      <td>Oil faces a 'serious problem' by 2024 as production capacity runs out, warns Goldman Sachs — here are 3 big oil stocks with yields as high as 3.8%</td>\n",
       "      <td>The days of $100 oil may not be over.</td>\n",
       "      <td>NEGATIVE</td>\n",
       "      <td>0.993669</td>\n",
       "      <td>NEGATIVE</td>\n",
       "      <td>0.597216</td>\n",
       "    </tr>\n",
       "    <tr>\n",
       "      <th>5</th>\n",
       "      <td>The Wall Street Journal</td>\n",
       "      <td>yesterday</td>\n",
       "      <td>Biggest Gains in Innovation in the Management Top 250</td>\n",
       "      <td>Exxon Mobil  score for innovation rose more than that of any other company in the latest Management Top 250, followed by  Allstate  and Crown Castle.  The Management Top 250 ranking, developed by the Drucker Institute, measures corporate effectiveness by examining performance in customer satisfaction, employee engagement and development, innovation, social responsibility and financial strength.  The innovation scores of Allstate and Crown Castle  both jumped 31.5 points, to 105.3 and 76.7, r...</td>\n",
       "      <td>POSITIVE</td>\n",
       "      <td>0.999655</td>\n",
       "      <td>POSITIVE</td>\n",
       "      <td>0.973598</td>\n",
       "    </tr>\n",
       "    <tr>\n",
       "      <th>7</th>\n",
       "      <td>Zacks</td>\n",
       "      <td>yesterday</td>\n",
       "      <td>Oil &amp; Gas Stock Roundup: Q1 Updates From ExxonMobil and Shell in Focus</td>\n",
       "      <td>Apart from ExxonMobil (XOM) and Shell (SHEL), Ovintiv (OVV), Halliburton (HAL) and Enbridge (ENB) hogged attention during the week.</td>\n",
       "      <td>NEGATIVE</td>\n",
       "      <td>0.895621</td>\n",
       "      <td>POSITIVE</td>\n",
       "      <td>0.959791</td>\n",
       "    </tr>\n",
       "    <tr>\n",
       "      <th>8</th>\n",
       "      <td>Motley Fool</td>\n",
       "      <td>yesterday</td>\n",
       "      <td>ExxonMobil May Buy Pioneer Natural Resources, but Is It a Good Move?</td>\n",
       "      <td>With oil prices having plunged during the pandemic, spiked hard after Russia's invasion of Ukraine, and then fallen again as the Federal Reserve raised interest rates, the oil and gas industry has seen its fair share of volatility in recent years.  Over the weekend, it was reported that oil giant ExxonMobil (NYSE: XOM) is in talks to potentially acquire shale pure play Pioneer Natural Resources (NYSE: PXD).  The first thing to note about Pioneer is that it's a pure play in the Midland Basin ...</td>\n",
       "      <td>POSITIVE</td>\n",
       "      <td>0.895717</td>\n",
       "      <td>NEGATIVE</td>\n",
       "      <td>0.528328</td>\n",
       "    </tr>\n",
       "    <tr>\n",
       "      <th>9</th>\n",
       "      <td>Zacks</td>\n",
       "      <td>yesterday</td>\n",
       "      <td>Zacks Investment Ideas feature highlights: Exxon Mobil, Pioneer Resources, Chevron, British Petroleum and Occidental Petroleum</td>\n",
       "      <td>Exxon Mobil, Pioneer Resources, Chevron, British Petroleum and Occidental Petroleum are part of the Zacks Investment Ideas article.</td>\n",
       "      <td>POSITIVE</td>\n",
       "      <td>0.998883</td>\n",
       "      <td>POSITIVE</td>\n",
       "      <td>0.544142</td>\n",
       "    </tr>\n",
       "    <tr>\n",
       "      <th>10</th>\n",
       "      <td>The Wall Street Journal</td>\n",
       "      <td>yesterday</td>\n",
       "      <td>Exxon Deal Hunt Signals Possible Shale M&amp;A Wave</td>\n",
       "      <td>A transaction involving Pioneer Natural Resources would indicate that drillers are looking to put their large war chests of cash to work.</td>\n",
       "      <td>NEGATIVE</td>\n",
       "      <td>0.992457</td>\n",
       "      <td>NEGATIVE</td>\n",
       "      <td>0.996657</td>\n",
       "    </tr>\n",
       "    <tr>\n",
       "      <th>11</th>\n",
       "      <td>Zacks</td>\n",
       "      <td>2 days ago</td>\n",
       "      <td>Markets Flat (Russell +1%) with Econ Data Pending</td>\n",
       "      <td>What we see here in a flat trading day is market participants biding their time before the next potential market catalyst.</td>\n",
       "      <td>NEGATIVE</td>\n",
       "      <td>0.999744</td>\n",
       "      <td>NEGATIVE</td>\n",
       "      <td>0.999530</td>\n",
       "    </tr>\n",
       "    <tr>\n",
       "      <th>12</th>\n",
       "      <td>Zacks</td>\n",
       "      <td>2 days ago</td>\n",
       "      <td>Exxon Mobil (XOM) Stock Sinks As Market Gains: What You Should Know</td>\n",
       "      <td>Exxon Mobil (XOM) closed the most recent trading day at $114.54, moving -0.44% from the previous trading session.</td>\n",
       "      <td>NEGATIVE</td>\n",
       "      <td>0.999705</td>\n",
       "      <td>NEGATIVE</td>\n",
       "      <td>0.971162</td>\n",
       "    </tr>\n",
       "    <tr>\n",
       "      <th>13</th>\n",
       "      <td>Fox Business</td>\n",
       "      <td>2 days ago</td>\n",
       "      <td>Exxon Mobil, Pioneer rumors spark fracking M&amp;A talk</td>\n",
       "      <td>Exxon Mobil is reportedly in preliminary discussions to acquire Pioneer Natural Resources as part of the oil and natural gas producer’s Permian Basin strategy.</td>\n",
       "      <td>NEGATIVE</td>\n",
       "      <td>0.989955</td>\n",
       "      <td>NEGATIVE</td>\n",
       "      <td>0.830148</td>\n",
       "    </tr>\n",
       "    <tr>\n",
       "      <th>15</th>\n",
       "      <td>Investor's Business Daily</td>\n",
       "      <td>2 days ago</td>\n",
       "      <td>Pioneer Natural Resources Jumps On Reported Exxon Takeover Talks</td>\n",
       "      <td>Pioneer Natural Resources jumped Monday after the Wall Street Journal reported Exxon Mobil has held early talks in buying the Permian Basin shale giant.</td>\n",
       "      <td>NEGATIVE</td>\n",
       "      <td>0.884014</td>\n",
       "      <td>NEGATIVE</td>\n",
       "      <td>0.980788</td>\n",
       "    </tr>\n",
       "    <tr>\n",
       "      <th>16</th>\n",
       "      <td>Investopedia</td>\n",
       "      <td>2 days ago</td>\n",
       "      <td>ExxonMobil Eyes Takeover of Shale Fracker Pioneer Natural Resources</td>\n",
       "      <td>Shares of Pioneer Natural Resources (PXD) are jumping on a report ExxonMobil (XOM) has had preliminary discussions to purchase the shale fracker, in what could become the biggest acquisition for the oil giant in more than two decades.</td>\n",
       "      <td>NEGATIVE</td>\n",
       "      <td>0.973616</td>\n",
       "      <td>NEGATIVE</td>\n",
       "      <td>0.963278</td>\n",
       "    </tr>\n",
       "    <tr>\n",
       "      <th>17</th>\n",
       "      <td>Barrons.com</td>\n",
       "      <td>2 days ago</td>\n",
       "      <td>These Stocks Are Moving the Most Today: Micron, Pioneer Natural, Tesla, Apple, Emergent Bio, and More</td>\n",
       "      <td>Micron stock rises after Samsung Electronics says it will make 'meaningful' cuts to production of memory chips, a report says Exxon Mobil has had preliminary acquisition talks with Pioneer Natural, and Tesla stock falls after the EV maker slashes prices across it U.S. electric-vehicle lineup.</td>\n",
       "      <td>POSITIVE</td>\n",
       "      <td>0.999367</td>\n",
       "      <td>NEGATIVE</td>\n",
       "      <td>0.999609</td>\n",
       "    </tr>\n",
       "    <tr>\n",
       "      <th>18</th>\n",
       "      <td>CorpGov.com</td>\n",
       "      <td>2 days ago</td>\n",
       "      <td>Turning Waste to Fuel with Pfizer, Shell and Exxon: Join ESGL in Fireside Ahead of Going Public Tues at 10 ET</td>\n",
       "      <td>IPO Edge, CorpGov and the Palm Beach Hedge Fund Association will host a fireside chat with Environmental Solutions Group Holdings Ltd. and Genesis Unicorn Acquisition Corp. (NASDAQ:GENQ) on Tuesday, April 11 at 10 AM ET. The live event will feature Lawrence Law, Chief Growth and Sustainability Officer and Director at ESGL and Samuel Lui, President, Chief […] The post Turning Waste to Fuel with Pfizer, Shell and Exxon: Join ESGL in Fireside Ahead of Going Public Tues at 10 ET appeared first o...</td>\n",
       "      <td>NEGATIVE</td>\n",
       "      <td>0.969920</td>\n",
       "      <td>POSITIVE</td>\n",
       "      <td>0.978619</td>\n",
       "    </tr>\n",
       "    <tr>\n",
       "      <th>19</th>\n",
       "      <td>Reuters</td>\n",
       "      <td>2 days ago</td>\n",
       "      <td>Pioneer Natural jumps on report of buyout talks with Exxon</td>\n",
       "      <td>Shares of Pioneer were up 6.5% at $221.74, while Exxon Mobil inched up 0.2% to $115.25.  The Wall Street Journal had reported the news on Friday, citing people familiar with the matter.  Pioneer is the third-largest oil producer after Chevron Corp and ConocoPhillips in the Permian basin, the biggest in the United States.</td>\n",
       "      <td>POSITIVE</td>\n",
       "      <td>0.953294</td>\n",
       "      <td>POSITIVE</td>\n",
       "      <td>0.578931</td>\n",
       "    </tr>\n",
       "    <tr>\n",
       "      <th>20</th>\n",
       "      <td>TheStreet.com</td>\n",
       "      <td>2 days ago</td>\n",
       "      <td>Pioneer Natural Resources Rallies as Exxon Considers a Takeover</td>\n",
       "      <td>Pioneer Natural Resources  gapped higher Monday morning on media reports that Exxon Mobil  was studying the possible acquisition of PXD, an independent oil and natural gas exploration and production company.  The On-Balance-Volume (OBV) line has been weak until the middle of March and shows only limited improvement.  The weekly OBV line has been \"softish\" the past 12 months but shows a slight \"uptick\" in March.</td>\n",
       "      <td>NEGATIVE</td>\n",
       "      <td>0.983293</td>\n",
       "      <td>NEGATIVE</td>\n",
       "      <td>0.998797</td>\n",
       "    </tr>\n",
       "    <tr>\n",
       "      <th>21</th>\n",
       "      <td>Zacks</td>\n",
       "      <td>2 days ago</td>\n",
       "      <td>Here is What to Know Beyond Why Exxon Mobil Corporation (XOM) is a Trending Stock</td>\n",
       "      <td>Recently, Zacks.com users have been paying close attention to Exxon (XOM). This makes it worthwhile to examine what the stock has in store.</td>\n",
       "      <td>NEGATIVE</td>\n",
       "      <td>0.997149</td>\n",
       "      <td>POSITIVE</td>\n",
       "      <td>0.999326</td>\n",
       "    </tr>\n",
       "    <tr>\n",
       "      <th>25</th>\n",
       "      <td>TheStreet.com</td>\n",
       "      <td>2 days ago</td>\n",
       "      <td>Stocks Edge Higher, Inflation Data, First Republic Slides, Tesla China Plans , Pioneer Takeover Talks - Five Things To Know</td>\n",
       "      <td>Stock futures edge higher as traders dig through March jobs report; Week Ahead: Inflation data, big bank earnings in focus; First Republic suspends preferred dividend ahead of Q1 earnings; Tesla confirms Shanghai 'megapack' battery plant plans and Pioneer shares leap on report of Exxon takeover talks.</td>\n",
       "      <td>POSITIVE</td>\n",
       "      <td>0.860592</td>\n",
       "      <td>NEGATIVE</td>\n",
       "      <td>0.866756</td>\n",
       "    </tr>\n",
       "    <tr>\n",
       "      <th>26</th>\n",
       "      <td>The Wall Street Journal</td>\n",
       "      <td>4 days ago</td>\n",
       "      <td>Exxon Mobil: Eyes on the Permian Prize</td>\n",
       "      <td>Exxon Mobil was once known for exploring for oil in all sorts of exotic places, but right now its own backyard is looking like the best option.</td>\n",
       "      <td>POSITIVE</td>\n",
       "      <td>0.994967</td>\n",
       "      <td>POSITIVE</td>\n",
       "      <td>0.998954</td>\n",
       "    </tr>\n",
       "    <tr>\n",
       "      <th>27</th>\n",
       "      <td>The Wall Street Journal</td>\n",
       "      <td>5 days ago</td>\n",
       "      <td>Exxon Mobil Eyes Potential Megadeal With Shale Driller Pioneer</td>\n",
       "      <td>The oil and gas giant has held informal, early-stage talks to buy Pioneer Natural Resources, which is valued at $49 billion.</td>\n",
       "      <td>POSITIVE</td>\n",
       "      <td>0.977278</td>\n",
       "      <td>POSITIVE</td>\n",
       "      <td>0.846124</td>\n",
       "    </tr>\n",
       "    <tr>\n",
       "      <th>28</th>\n",
       "      <td>Reuters</td>\n",
       "      <td>5 days ago</td>\n",
       "      <td>UPDATE 2-Exxon eyes potential purchase of shale driller Pioneer -WSJ</td>\n",
       "      <td>Exxon Mobil Corp has held preliminary talks with Pioneer Natural Resources Co about a possible acquisition of the  U.S. shale oil producer, the Wall Street Journal reported on Friday, citing people familiar with the matter.  Discussions between the two companies about a potential deal have been informal, the newspaper said, adding that Exxon executives have discussed a potential tie-up with at least one other company.  Exxon and Pioneer declined to comment on the report.</td>\n",
       "      <td>NEGATIVE</td>\n",
       "      <td>0.889585</td>\n",
       "      <td>NEGATIVE</td>\n",
       "      <td>0.984472</td>\n",
       "    </tr>\n",
       "    <tr>\n",
       "      <th>29</th>\n",
       "      <td>Motley Fool</td>\n",
       "      <td>5 days ago</td>\n",
       "      <td>Want Decades of Passive Income? 2 Stocks to Buy Now.</td>\n",
       "      <td>You may be worried that oil stocks are heading for the dustbin of history, but that's not likely to happen very fast.</td>\n",
       "      <td>NEGATIVE</td>\n",
       "      <td>0.997552</td>\n",
       "      <td>NEGATIVE</td>\n",
       "      <td>0.999174</td>\n",
       "    </tr>\n",
       "    <tr>\n",
       "      <th>30</th>\n",
       "      <td>Zacks</td>\n",
       "      <td>6 days ago</td>\n",
       "      <td>What to Watch for in Q1 Earnings Season</td>\n",
       "      <td>Tracey and Sheraz discuss bank earnings, tech, and the underdog energy sector.</td>\n",
       "      <td>POSITIVE</td>\n",
       "      <td>0.997667</td>\n",
       "      <td>POSITIVE</td>\n",
       "      <td>0.990060</td>\n",
       "    </tr>\n",
       "    <tr>\n",
       "      <th>31</th>\n",
       "      <td>Simply Wall St.</td>\n",
       "      <td>6 days ago</td>\n",
       "      <td>These 4 Measures Indicate That Exxon Mobil (NYSE:XOM) Is Using Debt Safely</td>\n",
       "      <td>Warren Buffett famously said, 'Volatility is far from synonymous with risk.' When we think about how risky a company...</td>\n",
       "      <td>POSITIVE</td>\n",
       "      <td>0.988135</td>\n",
       "      <td>NEGATIVE</td>\n",
       "      <td>0.926171</td>\n",
       "    </tr>\n",
       "    <tr>\n",
       "      <th>32</th>\n",
       "      <td>Zacks</td>\n",
       "      <td>6 days ago</td>\n",
       "      <td>ExxonMobil (XOM) Expects Its Low-Carbon Business to Surpass Oil</td>\n",
       "      <td>ExxonMobil (XOM) plans to spend $7 billion through 2027 in its Low Carbon Solutions business unit to help others lower emissions.</td>\n",
       "      <td>NEGATIVE</td>\n",
       "      <td>0.998939</td>\n",
       "      <td>NEGATIVE</td>\n",
       "      <td>0.996935</td>\n",
       "    </tr>\n",
       "    <tr>\n",
       "      <th>33</th>\n",
       "      <td>Motley Fool</td>\n",
       "      <td>6 days ago</td>\n",
       "      <td>ExxonMobil: Buy, Sell, or Hold?</td>\n",
       "      <td>Exxon is a reliable dividend stock, but it isn't a simple call on whether it is a buy, sell, or hold.</td>\n",
       "      <td>NEGATIVE</td>\n",
       "      <td>0.995080</td>\n",
       "      <td>NEGATIVE</td>\n",
       "      <td>0.990691</td>\n",
       "    </tr>\n",
       "    <tr>\n",
       "      <th>34</th>\n",
       "      <td>Zacks</td>\n",
       "      <td>6 days ago</td>\n",
       "      <td>3 Energy Stocks With Strong Dividend Yields &amp; Safe Payouts</td>\n",
       "      <td>DINO, XOM and FANG are three fundamentally and operationally strong energy companies that should enable you to live off dividends through sector volatility.</td>\n",
       "      <td>POSITIVE</td>\n",
       "      <td>0.998953</td>\n",
       "      <td>POSITIVE</td>\n",
       "      <td>0.999731</td>\n",
       "    </tr>\n",
       "    <tr>\n",
       "      <th>35</th>\n",
       "      <td>Motley Fool</td>\n",
       "      <td>6 days ago</td>\n",
       "      <td>Best Dividend Stock to Buy: AT&amp;T vs. ExxonMobil vs. Home Depot</td>\n",
       "      <td>This video will compare these three dividend stocks to determine the best one to buy -- and it's not just about dividend yield.  *Stock prices used were the afternoon prices of April 3, 2023. The video was published on April 6, 2023.</td>\n",
       "      <td>POSITIVE</td>\n",
       "      <td>0.976469</td>\n",
       "      <td>NEGATIVE</td>\n",
       "      <td>0.953491</td>\n",
       "    </tr>\n",
       "    <tr>\n",
       "      <th>37</th>\n",
       "      <td>InvestorPlace</td>\n",
       "      <td>7 days ago</td>\n",
       "      <td>The 7 Best Oil and Gas Stocks to Buy in April 2023</td>\n",
       "      <td>With crude oil prices zooming back above $80 per barrel, you may be wondering about the best oil and gas stocks to buy. A further rise in spot petroleum prices could spark a bigger rally in energy stocks, which have perked up after trending lower in early 2023. Some may argue that oil’s latest rally, driven by surprise news of production cuts from OPEC+, will not last. Yet, several analysts have argued that, with the prospect of more preemptive supply cuts from OPEC+ and the rebound in deman...</td>\n",
       "      <td>POSITIVE</td>\n",
       "      <td>0.999626</td>\n",
       "      <td>NEGATIVE</td>\n",
       "      <td>0.919968</td>\n",
       "    </tr>\n",
       "    <tr>\n",
       "      <th>38</th>\n",
       "      <td>The Wall Street Journal</td>\n",
       "      <td>7 days ago</td>\n",
       "      <td>Exxon Quits Drilling in Brazil After Failing to Find Oil</td>\n",
       "      <td>The oil giant has spent billions on the offshore campaign and hasn’t ruled out other projects in the country.</td>\n",
       "      <td>NEGATIVE</td>\n",
       "      <td>0.999721</td>\n",
       "      <td>POSITIVE</td>\n",
       "      <td>0.999111</td>\n",
       "    </tr>\n",
       "    <tr>\n",
       "      <th>39</th>\n",
       "      <td>Barrons.com</td>\n",
       "      <td>7 days ago</td>\n",
       "      <td>Exxon Thinks Low-Carbon Sales May One Day Rival Oil’s</td>\n",
       "      <td>On Tuesday, Exxon told analysts that its low-carbon revenue could eventually be “measured in the hundreds of billions of dollars.\"</td>\n",
       "      <td>NEGATIVE</td>\n",
       "      <td>0.998465</td>\n",
       "      <td>NEGATIVE</td>\n",
       "      <td>0.996607</td>\n",
       "    </tr>\n",
       "    <tr>\n",
       "      <th>40</th>\n",
       "      <td>Benzinga</td>\n",
       "      <td>7 days ago</td>\n",
       "      <td>After Failing For Third Time, Exxon Ends Oil Drilling In Brazilian Offshore Waters</td>\n",
       "      <td>Exxon Mobil Corp (NYSE: XOM) has reportedly stopped drilling in the offshore acreage after failing to find commercially viable amounts of crude in Brazil's deep waters for the third time. In 2021, Exxon drilled two wells in Brazil's Campos and Santos basins. Last year, it drilled a third in the Sergipe-Alagoas basin. None of the three wells off Brazil had enough oil to be commercially viable. Related: Exxon, Chevron Retreat From Big International Projects, Shift Focus On Oil Projects In Amer...</td>\n",
       "      <td>NEGATIVE</td>\n",
       "      <td>0.995020</td>\n",
       "      <td>NEGATIVE</td>\n",
       "      <td>0.999035</td>\n",
       "    </tr>\n",
       "    <tr>\n",
       "      <th>41</th>\n",
       "      <td>Zacks</td>\n",
       "      <td>7 days ago</td>\n",
       "      <td>ExxonMobil (XOM) Projects $9.6B Operating Profit for Q1</td>\n",
       "      <td>ExxonMobil (XOM) expects an operational profit of $9.6 billion for the first quarter, suggesting a decline from the $12.8 billion net profit reported in the fourth quarter of 2022.</td>\n",
       "      <td>NEGATIVE</td>\n",
       "      <td>0.991282</td>\n",
       "      <td>NEGATIVE</td>\n",
       "      <td>0.996993</td>\n",
       "    </tr>\n",
       "    <tr>\n",
       "      <th>42</th>\n",
       "      <td>Motley Fool</td>\n",
       "      <td>7 days ago</td>\n",
       "      <td>ExxonMobil Is Racing to Capture This Multitrillion-Dollar Opportunity</td>\n",
       "      <td>The oil and gas giant believes it could eventually generate substantial revenue by providing decarbonization services to customers.</td>\n",
       "      <td>POSITIVE</td>\n",
       "      <td>0.999035</td>\n",
       "      <td>NEGATIVE</td>\n",
       "      <td>0.996437</td>\n",
       "    </tr>\n",
       "    <tr>\n",
       "      <th>43</th>\n",
       "      <td>Barrons.com</td>\n",
       "      <td>7 days ago</td>\n",
       "      <td>Exxon Pulls Back From Oil Drilling in Brazil. The Stock Slips.</td>\n",
       "      <td>Exxon has stopped drilling efforts in offshore Brazil and shifted geologists and engineers to other countries, The Wall Street Journal reported.</td>\n",
       "      <td>NEGATIVE</td>\n",
       "      <td>0.999644</td>\n",
       "      <td>NEGATIVE</td>\n",
       "      <td>0.991990</td>\n",
       "    </tr>\n",
       "    <tr>\n",
       "      <th>44</th>\n",
       "      <td>Reuters</td>\n",
       "      <td>7 days ago</td>\n",
       "      <td>Exxon quits drilling in Brazil after failing to find oil - WSJ</td>\n",
       "      <td>Exxon said in an e-mail to Reuters its initial exploration drilling program in Brazil is now complete and that it is \"still engaged in Brazil and continues to pursue exploration activity in the country\".  Exxon changed its Brazil country head last year and has been saying in presentations that it will focus efforts in the country with Bacalhau field, a successful exploration campaign led by its Norwegian partner Equinor ASA.</td>\n",
       "      <td>NEGATIVE</td>\n",
       "      <td>0.999731</td>\n",
       "      <td>POSITIVE</td>\n",
       "      <td>0.996515</td>\n",
       "    </tr>\n",
       "    <tr>\n",
       "      <th>45</th>\n",
       "      <td>Zacks</td>\n",
       "      <td>7 days ago</td>\n",
       "      <td>The Zacks Analyst Blog Highlights ExxonMobil, Transocean, BP, ConocoPhillips and Shell</td>\n",
       "      <td>ExxonMobil, Transocean, BP, ConocoPhillips and Shell are included in this Analyst Blog.</td>\n",
       "      <td>POSITIVE</td>\n",
       "      <td>0.982670</td>\n",
       "      <td>POSITIVE</td>\n",
       "      <td>0.540447</td>\n",
       "    </tr>\n",
       "    <tr>\n",
       "      <th>46</th>\n",
       "      <td>Zacks</td>\n",
       "      <td>8 days ago</td>\n",
       "      <td>Exxon Mobil (XOM) Dips More Than Broader Markets: What You Should Know</td>\n",
       "      <td>Exxon Mobil (XOM) closed at $115.02 in the latest trading session, marking a -0.96% move from the prior day.</td>\n",
       "      <td>NEGATIVE</td>\n",
       "      <td>0.999226</td>\n",
       "      <td>NEGATIVE</td>\n",
       "      <td>0.965523</td>\n",
       "    </tr>\n",
       "    <tr>\n",
       "      <th>48</th>\n",
       "      <td>Zacks</td>\n",
       "      <td>8 days ago</td>\n",
       "      <td>Oil &amp; Gas Stock Roundup: Exxon's Canada Sale, Transocean's Contract Awards &amp; More</td>\n",
       "      <td>Apart from ExxonMobil (XOM) and Transocean (RIG), BP plc (BP), ConocoPhillips (COP) and Shell (SHEL) hogged attention during the week.</td>\n",
       "      <td>NEGATIVE</td>\n",
       "      <td>0.948317</td>\n",
       "      <td>POSITIVE</td>\n",
       "      <td>0.610009</td>\n",
       "    </tr>\n",
       "    <tr>\n",
       "      <th>49</th>\n",
       "      <td>Reuters</td>\n",
       "      <td>8 days ago</td>\n",
       "      <td>Exxon says its decarbonization business could outgrow oil, in multi-trillion market</td>\n",
       "      <td>HOUSTON (Reuters) -Exxon Mobil Corp's Low Carbon business has the potential to generate hundreds of billions of dollars in revenue and outperform the company's traditional oil and gas as soon as a decade from now, CEO Darren Woods said.  The largest U.S. oil producer on Tuesday laid out to investors the aims of its emerging energy transition strategy in a meeting with Wall Street.  Exxon is tackling what should be a multi-trillion market in 10 years or more, Woods said.</td>\n",
       "      <td>NEGATIVE</td>\n",
       "      <td>0.986818</td>\n",
       "      <td>POSITIVE</td>\n",
       "      <td>0.978044</td>\n",
       "    </tr>\n",
       "    <tr>\n",
       "      <th>50</th>\n",
       "      <td>Barrons.com</td>\n",
       "      <td>8 days ago</td>\n",
       "      <td>Oil Prices Push Higher on OPEC Cuts. Energy Stocks Are Gaining.</td>\n",
       "      <td>Oil prices and energy stocks were still moving higher early Tuesday as traders digest OPEC's planned production cuts.</td>\n",
       "      <td>POSITIVE</td>\n",
       "      <td>0.996705</td>\n",
       "      <td>NEGATIVE</td>\n",
       "      <td>0.960666</td>\n",
       "    </tr>\n",
       "    <tr>\n",
       "      <th>51</th>\n",
       "      <td>Investor's Business Daily</td>\n",
       "      <td>9 days ago</td>\n",
       "      <td>Chevron, Energy Stocks Surge After OPEC+ Surprise Production Cut</td>\n",
       "      <td>Energy stocks rallied with oil prices Monday after OPEC+ announced a surprise production cut Sunday.</td>\n",
       "      <td>POSITIVE</td>\n",
       "      <td>0.992557</td>\n",
       "      <td>POSITIVE</td>\n",
       "      <td>0.929653</td>\n",
       "    </tr>\n",
       "    <tr>\n",
       "      <th>52</th>\n",
       "      <td>Motley Fool</td>\n",
       "      <td>9 days ago</td>\n",
       "      <td>Why Energy Stocks Like ExxonMobil and Chevron Are Rallying on Monday</td>\n",
       "      <td>As of 1:10 p.m. ET, ExxonMobil (NYSE: XOM) was up 5.6% while Chevron (NYSE: CVX) had gained 4%.  Smaller drillers like Transocean (NYSE: RIG) and Diamondback Energy (NASDAQ: FANG) were higher to the tune of 9% and 6.2%, respectively, as the underlying driver of the groupwide rally means even more to them.  On Sunday, eight members of OPEC (the Organization of the Petroleum Exporting Countries) announced that they will be further cutting their output starting in May, crimping global supply.</td>\n",
       "      <td>NEGATIVE</td>\n",
       "      <td>0.974446</td>\n",
       "      <td>NEGATIVE</td>\n",
       "      <td>0.975220</td>\n",
       "    </tr>\n",
       "    <tr>\n",
       "      <th>53</th>\n",
       "      <td>Zacks</td>\n",
       "      <td>9 days ago</td>\n",
       "      <td>Top Research Reports for Apple, Meta Platforms &amp; Visa</td>\n",
       "      <td>Today's Research Daily features new research reports on 16 major stocks, including Apple Inc. (AAPL), Meta Platforms, Inc. (META) and Visa Inc. (V).</td>\n",
       "      <td>POSITIVE</td>\n",
       "      <td>0.990133</td>\n",
       "      <td>POSITIVE</td>\n",
       "      <td>0.957894</td>\n",
       "    </tr>\n",
       "    <tr>\n",
       "      <th>54</th>\n",
       "      <td>TheStreet.com</td>\n",
       "      <td>9 days ago</td>\n",
       "      <td>Stick With Exxon as the U.S. Gets Smacked by Foreign Oil Producers</td>\n",
       "      <td>This may be seen as early steps toward moving at least some part of the oil trade away from trading in U.S. dollars.</td>\n",
       "      <td>NEGATIVE</td>\n",
       "      <td>0.997572</td>\n",
       "      <td>NEGATIVE</td>\n",
       "      <td>0.763446</td>\n",
       "    </tr>\n",
       "    <tr>\n",
       "      <th>55</th>\n",
       "      <td>InvestorPlace</td>\n",
       "      <td>9 days ago</td>\n",
       "      <td>3 Energy Stocks to Buy as Oil Prices Soar</td>\n",
       "      <td>Finding the right energy stocks to buy is worth the time and effort. The energy sector has long been a favorite among investors looking for steady returns and reliable growth. However, in recent years, the industry has been facing increased pressure from investors and society to become more sustainable. Also, oil and gas’s volatile price behavior critically influences the best energy stocks to buy. Despite the industry’s challenges, all three of the following energy stocks to buy have been a...</td>\n",
       "      <td>POSITIVE</td>\n",
       "      <td>0.936807</td>\n",
       "      <td>POSITIVE</td>\n",
       "      <td>0.998545</td>\n",
       "    </tr>\n",
       "    <tr>\n",
       "      <th>56</th>\n",
       "      <td>Bloomberg</td>\n",
       "      <td>10 days ago</td>\n",
       "      <td>Five Key Charts to Watch in Global Commodities This Week</td>\n",
       "      <td>(Bloomberg) -- The Organization of Petroleum Exporting Countries and its allies announced a surprise output cut, while Exxon Mobil Corp. is due to update investors on the company’s plans to help reduce greenhouse gas emissions in support of a net-zero future. Here are five notable charts to watch in global commodities as the first trading week of April gets underway.Most Read from BloombergOPEC+ Makes Shock Million-Barrel Cut in New Inflation RiskSwiss Prosecutors Probe Credit Suisse Deal, J...</td>\n",
       "      <td>POSITIVE</td>\n",
       "      <td>0.996002</td>\n",
       "      <td>NEGATIVE</td>\n",
       "      <td>0.876812</td>\n",
       "    </tr>\n",
       "    <tr>\n",
       "      <th>57</th>\n",
       "      <td>Simply Wall St.</td>\n",
       "      <td>10 days ago</td>\n",
       "      <td>Exxon Mobil's (NYSE:XOM) 49% CAGR outpaced the company's earnings growth over the same three-year period</td>\n",
       "      <td>The most you can lose on any stock (assuming you don't use leverage) is 100% of your money. But when you pick a company...</td>\n",
       "      <td>NEGATIVE</td>\n",
       "      <td>0.997335</td>\n",
       "      <td>NEGATIVE</td>\n",
       "      <td>0.984164</td>\n",
       "    </tr>\n",
       "    <tr>\n",
       "      <th>58</th>\n",
       "      <td>Zacks</td>\n",
       "      <td>12 days ago</td>\n",
       "      <td>ExxonMobil (XOM) to Sell Stake in Canada Exploration Blocks</td>\n",
       "      <td>ExxonMobil (XOM) will continue to operate EL 1167 with a 50% interest.</td>\n",
       "      <td>NEGATIVE</td>\n",
       "      <td>0.973409</td>\n",
       "      <td>POSITIVE</td>\n",
       "      <td>0.856774</td>\n",
       "    </tr>\n",
       "    <tr>\n",
       "      <th>59</th>\n",
       "      <td>Insider Monkey</td>\n",
       "      <td>13 days ago</td>\n",
       "      <td>Starter Stock Portfolio: 15 Safe Stocks To Buy</td>\n",
       "      <td>In this article, we will take a look at the 15 safe stocks to buy. To see more such companies, go directly to Starter Stock Portfolio: 5 Safe Stocks To Buy. Amid the current market turmoil which seems to have no end in sight, it feels weird to label anything as “safe,” especially stocks, which […]</td>\n",
       "      <td>POSITIVE</td>\n",
       "      <td>0.979362</td>\n",
       "      <td>NEGATIVE</td>\n",
       "      <td>0.993890</td>\n",
       "    </tr>\n",
       "    <tr>\n",
       "      <th>60</th>\n",
       "      <td>Motley Fool</td>\n",
       "      <td>13 days ago</td>\n",
       "      <td>2 Dividend Growth Stalwarts With Impressive Streaks Going and Yield Twice That of the S&amp;P 500</td>\n",
       "      <td>Are you looking for a reasonably high-yielding dividend stock to add to your portfolio?  There are two dividend stocks that offer both a high yield and impressive track records for dividend growth and are good buys today: Medtronic (NYSE: MDT) and ExxonMobil (NYSE: XOM).  Medtronic is a top medical-device company with operations all over the world.</td>\n",
       "      <td>POSITIVE</td>\n",
       "      <td>0.999343</td>\n",
       "      <td>POSITIVE</td>\n",
       "      <td>0.999599</td>\n",
       "    </tr>\n",
       "    <tr>\n",
       "      <th>61</th>\n",
       "      <td>Insider Monkey</td>\n",
       "      <td>13 days ago</td>\n",
       "      <td>15 Cheap Beginner Stocks to Buy</td>\n",
       "      <td>In this article, we will take a look at 15 cheap stocks to buy now for beginners. If you want to explore similar stocks, you can also take a look at 5 Cheap Beginner Stocks to Buy. Morgan Stanley’s Big Bear: “It’s Just A Much Less Predictable World” On March 27 Morgan Stanley’s chief U.S. […]</td>\n",
       "      <td>NEGATIVE</td>\n",
       "      <td>0.999185</td>\n",
       "      <td>NEGATIVE</td>\n",
       "      <td>0.790117</td>\n",
       "    </tr>\n",
       "    <tr>\n",
       "      <th>62</th>\n",
       "      <td>Zacks</td>\n",
       "      <td>14 days ago</td>\n",
       "      <td>Exxon Mobil (XOM) Outpaces Stock Market Gains: What You Should Know</td>\n",
       "      <td>Exxon Mobil (XOM) closed at $108.96 in the latest trading session, marking a +1.72% move from the prior day.</td>\n",
       "      <td>POSITIVE</td>\n",
       "      <td>0.850611</td>\n",
       "      <td>NEGATIVE</td>\n",
       "      <td>0.645700</td>\n",
       "    </tr>\n",
       "    <tr>\n",
       "      <th>63</th>\n",
       "      <td>The Wall Street Journal</td>\n",
       "      <td>14 days ago</td>\n",
       "      <td>Biggest Gains in Financial Strength in the Management Top 250</td>\n",
       "      <td>The Management Top 250 ranking, developed by the Drucker Institute, measures corporate effectiveness by examining performance in customer satisfaction, employee engagement and development, innovation, social responsibility and financial strength.  Exxon’s financial-strength score improved 42.9 points, to 81.3, Chevron added 29.8 points to its score in the category, to 72.9, and ConocoPhillips’s score rose 28.2 points to 67.1.</td>\n",
       "      <td>POSITIVE</td>\n",
       "      <td>0.999573</td>\n",
       "      <td>POSITIVE</td>\n",
       "      <td>0.974959</td>\n",
       "    </tr>\n",
       "    <tr>\n",
       "      <th>64</th>\n",
       "      <td>Motley Fool</td>\n",
       "      <td>14 days ago</td>\n",
       "      <td>3 Dividend Stocks That Have Been Paying Investors Since the 1800s</td>\n",
       "      <td>Three businesses that have not only been around for more than a century but have also been paying dividends going back to the 1800s are Eli Lilly (NYSE: LLY), ExxonMobil (NYSE: XOM), and the Toronto-Dominion Bank (NYSE: TD).  Healthcare giant Eli Lilly has been paying a dividend since 1885.</td>\n",
       "      <td>POSITIVE</td>\n",
       "      <td>0.912811</td>\n",
       "      <td>POSITIVE</td>\n",
       "      <td>0.775271</td>\n",
       "    </tr>\n",
       "    <tr>\n",
       "      <th>65</th>\n",
       "      <td>Simply Wall St.</td>\n",
       "      <td>14 days ago</td>\n",
       "      <td>An Intrinsic Calculation For Exxon Mobil Corporation (NYSE:XOM) Suggests It's 23% Undervalued</td>\n",
       "      <td>Key Insights The projected fair value for Exxon Mobil is US$139 based on 2 Stage Free Cash Flow to Equity Exxon Mobil's...</td>\n",
       "      <td>NEGATIVE</td>\n",
       "      <td>0.996294</td>\n",
       "      <td>NEGATIVE</td>\n",
       "      <td>0.659827</td>\n",
       "    </tr>\n",
       "    <tr>\n",
       "      <th>66</th>\n",
       "      <td>The Wall Street Journal</td>\n",
       "      <td>14 days ago</td>\n",
       "      <td>Exxon’s Climate Opponents Were Infiltrated by Massive Hacking-for-Hire Operation</td>\n",
       "      <td>A charity created by some Rockefeller heirs is among the groups targeted by hackers. The oil giant hasn’t been accused of wrongdoing.</td>\n",
       "      <td>NEGATIVE</td>\n",
       "      <td>0.998580</td>\n",
       "      <td>NEGATIVE</td>\n",
       "      <td>0.946820</td>\n",
       "    </tr>\n",
       "    <tr>\n",
       "      <th>68</th>\n",
       "      <td>Insider Monkey</td>\n",
       "      <td>15 days ago</td>\n",
       "      <td>12 Best Diversified Dividend Stocks to Buy Now</td>\n",
       "      <td>In this article, we discuss 12 diversified dividend stocks to buy now. You can skip our detailed analysis of dividend stocks and their performance over the years, and go directly to read 5 Best Diversified Dividend Stocks to Buy Now. Diversified companies can provide investors with diversification across different industries and sectors, which can help reduce […]</td>\n",
       "      <td>POSITIVE</td>\n",
       "      <td>0.999542</td>\n",
       "      <td>NEGATIVE</td>\n",
       "      <td>0.953546</td>\n",
       "    </tr>\n",
       "    <tr>\n",
       "      <th>69</th>\n",
       "      <td>Bloomberg</td>\n",
       "      <td>16 days ago</td>\n",
       "      <td>French Refining Is Barely Running as Strikes Enter Week Four</td>\n",
       "      <td>(Bloomberg) -- France’s oil-processing industry is running at a fraction of normal capacity as strikes over the government’s plans to reform pensions enter their fourth week.Most Read from BloombergBinance and Its CEO Sued by CFTC Over US Regulatory ViolationsSaudi National Bank Chair Resigns After Credit Suisse RemarkSchwab’s $7 Trillion Empire Built on Low Rates Is Showing CracksFirst Citizens to Buy SVB After Biggest Failure Since 2008Four of the nation’s six refineries are barely operati...</td>\n",
       "      <td>NEGATIVE</td>\n",
       "      <td>0.995353</td>\n",
       "      <td>NEGATIVE</td>\n",
       "      <td>0.998772</td>\n",
       "    </tr>\n",
       "    <tr>\n",
       "      <th>70</th>\n",
       "      <td>Zacks</td>\n",
       "      <td>16 days ago</td>\n",
       "      <td>Is Trending Stock Exxon Mobil Corporation (XOM) a Buy Now?</td>\n",
       "      <td>Exxon (XOM) has received quite a bit of attention from Zacks.com users lately. Therefore, it is wise to be aware of the facts that can impact the stock's prospects.</td>\n",
       "      <td>NEGATIVE</td>\n",
       "      <td>0.995795</td>\n",
       "      <td>POSITIVE</td>\n",
       "      <td>0.989044</td>\n",
       "    </tr>\n",
       "    <tr>\n",
       "      <th>71</th>\n",
       "      <td>Insider Monkey</td>\n",
       "      <td>17 days ago</td>\n",
       "      <td>16 Best Places to Live in Texas</td>\n",
       "      <td>In this article, we will take a look at the 16 best places to live in Texas. If you want to see more places in this selection, go to the 5 Best Places to Live in Texas. Texas is the second most populous state in the US and also happens to be the second biggest […]</td>\n",
       "      <td>POSITIVE</td>\n",
       "      <td>0.999707</td>\n",
       "      <td>POSITIVE</td>\n",
       "      <td>0.999025</td>\n",
       "    </tr>\n",
       "    <tr>\n",
       "      <th>72</th>\n",
       "      <td>Simply Wall St.</td>\n",
       "      <td>18 days ago</td>\n",
       "      <td>Investors Should Be Encouraged By Exxon Mobil's (NYSE:XOM) Returns On Capital</td>\n",
       "      <td>If you're not sure where to start when looking for the next multi-bagger, there are a few key trends you should keep an...</td>\n",
       "      <td>NEGATIVE</td>\n",
       "      <td>0.935111</td>\n",
       "      <td>NEGATIVE</td>\n",
       "      <td>0.984955</td>\n",
       "    </tr>\n",
       "    <tr>\n",
       "      <th>73</th>\n",
       "      <td>Motley Fool</td>\n",
       "      <td>19 days ago</td>\n",
       "      <td>Why ExxonMobil Stock Was a Drag on the Market Today</td>\n",
       "      <td>Friday wasn't the ideal day to be in the oil business.  The performance of bellwether industry stock ExxonMobil (NYSE: XOM) reflected the situation; it closed the day essentially flat over Thursday's closing price, while the S&amp;P 500 index enjoyed a nearly 0.6% bump.  The influential party pooper in this case was U.S. Energy Secretary Jennifer Granholm, who on Thursday admitted that it could take years for the country to refill the SPR.</td>\n",
       "      <td>NEGATIVE</td>\n",
       "      <td>0.999514</td>\n",
       "      <td>NEGATIVE</td>\n",
       "      <td>0.997244</td>\n",
       "    </tr>\n",
       "    <tr>\n",
       "      <th>74</th>\n",
       "      <td>AP Finance</td>\n",
       "      <td>19 days ago</td>\n",
       "      <td>Chad nationalizes assets by oil giant Exxon, says government</td>\n",
       "      <td>Chad is nationalizing all assets from multinational oil giant Exxon Mobil, including its hydrocarbon and exploration permits, said the government.  The nationalization of a private company means that all assets are now owned by the government.</td>\n",
       "      <td>NEGATIVE</td>\n",
       "      <td>0.989552</td>\n",
       "      <td>NEGATIVE</td>\n",
       "      <td>0.987578</td>\n",
       "    </tr>\n",
       "    <tr>\n",
       "      <th>75</th>\n",
       "      <td>The Wall Street Journal</td>\n",
       "      <td>20 days ago</td>\n",
       "      <td>Top Companies for Innovation</td>\n",
       "      <td>JOURNAL REPORTS: LEADERSHIP   Microsoft scored highest for innovation in the latest Management Top 250 ranking, followed by Amazon com Inc. and Exxon Mobil Corp. The Management Top 250 ranking, developed by the Drucker Institute, measures corporate effectiveness by examining performance in customer satisfaction, employee engagement and development, innovation, social responsibility and financial strength.</td>\n",
       "      <td>POSITIVE</td>\n",
       "      <td>0.999736</td>\n",
       "      <td>POSITIVE</td>\n",
       "      <td>0.984442</td>\n",
       "    </tr>\n",
       "    <tr>\n",
       "      <th>76</th>\n",
       "      <td>Bloomberg</td>\n",
       "      <td>20 days ago</td>\n",
       "      <td>Oil Drops as Investors Assess Fed’s Message, Outlook for Dollar</td>\n",
       "      <td>(Bloomberg) -- Oil fell as investors weighed the Federal Reserve policy outlook after another hike and digested a mixed snapshot of US supply and demand.Most Read from BloombergJack Dorsey’s Block Vows to Fight Back After Hindenburg Says It’s Short the StockShort Seller Hindenburg Says ‘Another Big One’ Coming SoonUS Fears a War-Weary World May Embrace China’s Ukraine Peace BidJPMorgan Sold $10 Million in Jewels Left in Bank Safe Deposit Box, Suit ClaimsAckman Warns of Accelerated Deposit Ou...</td>\n",
       "      <td>NEGATIVE</td>\n",
       "      <td>0.999372</td>\n",
       "      <td>NEGATIVE</td>\n",
       "      <td>0.998743</td>\n",
       "    </tr>\n",
       "    <tr>\n",
       "      <th>77</th>\n",
       "      <td>Zacks</td>\n",
       "      <td>21 days ago</td>\n",
       "      <td>Exxon (XOM) Surges 4.5%: Is This an Indication of Further Gains?</td>\n",
       "      <td>Exxon (XOM) was a big mover last session on higher-than-average trading volume. The latest trend in earnings estimate revisions might not help the stock continue moving higher in the near term.</td>\n",
       "      <td>NEGATIVE</td>\n",
       "      <td>0.950006</td>\n",
       "      <td>NEGATIVE</td>\n",
       "      <td>0.991148</td>\n",
       "    </tr>\n",
       "    <tr>\n",
       "      <th>78</th>\n",
       "      <td>Insider Monkey</td>\n",
       "      <td>21 days ago</td>\n",
       "      <td>11 Extreme Dividend Stocks With Upside Potential</td>\n",
       "      <td>In this article, we discuss 11 extreme dividend stocks with upside potential. You can skip our detailed analysis of dividend stocks and their historical performance, and go directly to read 5 Extreme Dividend Stocks With Upside Potential. In the current inflationary environment, dividend stocks help reduce a portfolio’s volatility and provide a hedge against inflation. […]</td>\n",
       "      <td>NEGATIVE</td>\n",
       "      <td>0.895512</td>\n",
       "      <td>NEGATIVE</td>\n",
       "      <td>0.996000</td>\n",
       "    </tr>\n",
       "    <tr>\n",
       "      <th>79</th>\n",
       "      <td>Zacks</td>\n",
       "      <td>21 days ago</td>\n",
       "      <td>Here's Why Hold Strategy is Apt for ExxonMobil (XOM) Now</td>\n",
       "      <td>Favorable oil price is a boon for ExxonMobil's (XOM) upstream operations.</td>\n",
       "      <td>NEGATIVE</td>\n",
       "      <td>0.996197</td>\n",
       "      <td>POSITIVE</td>\n",
       "      <td>0.991648</td>\n",
       "    </tr>\n",
       "    <tr>\n",
       "      <th>80</th>\n",
       "      <td>InvestorPlace</td>\n",
       "      <td>22 days ago</td>\n",
       "      <td>7 Oil Stocks Bound to Gush in 2023</td>\n",
       "      <td>After many years of being cast aside, oil stocks came roaring back in a world rocked by inflation and geopolitical uncertainty. Unfortunately, those same oil stocks started off 2023 on the wrong foot. All with oil prices slumping on fears of a potential recession and ensuing slowdown in global demand. In addition, recent problems in the banking sector have caused a liquidity squeeze that is impacting many sectors, including energy. But investors shouldn’t lose the faith in oil stocks. The in...</td>\n",
       "      <td>POSITIVE</td>\n",
       "      <td>0.986317</td>\n",
       "      <td>NEGATIVE</td>\n",
       "      <td>0.957962</td>\n",
       "    </tr>\n",
       "    <tr>\n",
       "      <th>81</th>\n",
       "      <td>Motley Fool</td>\n",
       "      <td>22 days ago</td>\n",
       "      <td>Early Retirement Portfolio: 3 Dividend Stocks to Buy With No Hesitation</td>\n",
       "      <td>Dividend stocks are a good source of passive income that will help support you in retirement.  ExxonMobil operates in the oil and natural gas business, and has an impressive record of raising its dividend annually for 40 consecutive years.</td>\n",
       "      <td>POSITIVE</td>\n",
       "      <td>0.963440</td>\n",
       "      <td>POSITIVE</td>\n",
       "      <td>0.999430</td>\n",
       "    </tr>\n",
       "    <tr>\n",
       "      <th>82</th>\n",
       "      <td>Simply Wall St.</td>\n",
       "      <td>22 days ago</td>\n",
       "      <td>Exxon Mobil Corporation's (NYSE:XOM)) market cap declines to US$417b but insiders who sold US$3.0m stock were able to hedge their losses</td>\n",
       "      <td>By selling US$3.0m worth of Exxon Mobil Corporation ( NYSE:XOM ) stock at an average sell price of US$103 over the last...</td>\n",
       "      <td>NEGATIVE</td>\n",
       "      <td>0.993042</td>\n",
       "      <td>NEGATIVE</td>\n",
       "      <td>0.996408</td>\n",
       "    </tr>\n",
       "    <tr>\n",
       "      <th>83</th>\n",
       "      <td>InvestorPlace</td>\n",
       "      <td>23 days ago</td>\n",
       "      <td>7 Defensive Stocks to Buy During This Chaotic Spell</td>\n",
       "      <td>While it’s always a good idea to balance your portfolio with defensive stocks, the present chaos dramatically incentivizes this subsegment. As you’ve no doubt heard, the U.S. and the rest of the world presently reel from two major banks failing. Moreover, the main concern centers on the contagion spreading to other components of the global economy. What really adds weight to the drama here is of course the Federal Reserve. The central bank must decide how to navigate monetary policy in light of</td>\n",
       "      <td>NEGATIVE</td>\n",
       "      <td>0.994501</td>\n",
       "      <td>NEGATIVE</td>\n",
       "      <td>0.995356</td>\n",
       "    </tr>\n",
       "    <tr>\n",
       "      <th>85</th>\n",
       "      <td>Insider Monkey</td>\n",
       "      <td>23 days ago</td>\n",
       "      <td>13 Best Monthly Dividend Stocks to Buy According to Analysts</td>\n",
       "      <td>In this article, we discuss 13 best monthly dividend stocks to buy according to analysts. You can skip our detailed analysis of dividend stocks and their performance, and go directly to read 5 Best Monthly Dividend Stocks to Buy According to Analysts. In 2022, dividends remained a bright spot for investors, despite a stock market […]</td>\n",
       "      <td>POSITIVE</td>\n",
       "      <td>0.999338</td>\n",
       "      <td>POSITIVE</td>\n",
       "      <td>0.966172</td>\n",
       "    </tr>\n",
       "    <tr>\n",
       "      <th>86</th>\n",
       "      <td>MoneyWise</td>\n",
       "      <td>23 days ago</td>\n",
       "      <td>Home Depot co-founder blames ‘woke diversity’ for businesses failing to ‘hit the bottom line’ — don't sleep on these 3 stock picks if you agree</td>\n",
       "      <td>Invest in what matters to you.</td>\n",
       "      <td>NEGATIVE</td>\n",
       "      <td>0.990800</td>\n",
       "      <td>POSITIVE</td>\n",
       "      <td>0.999732</td>\n",
       "    </tr>\n",
       "    <tr>\n",
       "      <th>87</th>\n",
       "      <td>Motley Fool</td>\n",
       "      <td>24 days ago</td>\n",
       "      <td>If You Invested $10,000 in ExxonMobil in 2020, This Is How Much You Would Have Today</td>\n",
       "      <td>It seems like ages ago that a pandemic and massive supply glut forced oil prices to temporarily fall below zero, meaning that sellers were paying buyers to take their oil.  It decimated stocks like oil major ExxonMobil (NYSE: XOM), which fell as much as 70% from its high.  The lessons learned from this scenario can prepare investors for the next potential downturn in a historically cyclical industry.</td>\n",
       "      <td>POSITIVE</td>\n",
       "      <td>0.998002</td>\n",
       "      <td>NEGATIVE</td>\n",
       "      <td>0.997427</td>\n",
       "    </tr>\n",
       "    <tr>\n",
       "      <th>88</th>\n",
       "      <td>Insider Monkey</td>\n",
       "      <td>25 days ago</td>\n",
       "      <td>15 Most Promising Long-Term Stocks According to Analysts</td>\n",
       "      <td>In this article, we will take a look at the 15 most promising long-term stocks according to analysts. To see more such companies, go directly to 5 Most Promising Long-Term Stocks According to Analysts. Investing in the stock market for the long term is perhaps the surest of the ways to expand your wealth. On […]</td>\n",
       "      <td>POSITIVE</td>\n",
       "      <td>0.997321</td>\n",
       "      <td>POSITIVE</td>\n",
       "      <td>0.998356</td>\n",
       "    </tr>\n",
       "    <tr>\n",
       "      <th>89</th>\n",
       "      <td>Zacks</td>\n",
       "      <td>26 days ago</td>\n",
       "      <td>ExxonMobil (XOM) Contemplates Divesting LNG Offshore Terminal</td>\n",
       "      <td>ExxonMobil (XOM) is considering selling its ownership interest in LNG Offshore Terminal Italy while gauging market interest. However, no decision has been made regarding a potential sale.</td>\n",
       "      <td>NEGATIVE</td>\n",
       "      <td>0.961272</td>\n",
       "      <td>NEGATIVE</td>\n",
       "      <td>0.996572</td>\n",
       "    </tr>\n",
       "    <tr>\n",
       "      <th>90</th>\n",
       "      <td>Simply Wall St.</td>\n",
       "      <td>26 days ago</td>\n",
       "      <td>Declining Stock and Solid Fundamentals: Is The Market Wrong About Exxon Mobil Corporation (NYSE:XOM)?</td>\n",
       "      <td>With its stock down 13% over the past month, it is easy to disregard Exxon Mobil (NYSE:XOM). However, stock prices are...</td>\n",
       "      <td>NEGATIVE</td>\n",
       "      <td>0.999654</td>\n",
       "      <td>NEGATIVE</td>\n",
       "      <td>0.996510</td>\n",
       "    </tr>\n",
       "    <tr>\n",
       "      <th>91</th>\n",
       "      <td>MarketWatch</td>\n",
       "      <td>27 days ago</td>\n",
       "      <td>Exxon has started production at expanded refinery in Beaumont after $2 billion investment</td>\n",
       "      <td>Exxon Mobil Corp.  (XOM)  said Thursday it has started production at its expanded refinery in Beaumont, a $2 billion project that was equal to adding a medium-size refinery.  The oil major said the move has increased capacity for transportation fuels by 250,000 barrels a day.  “Supported by the company’s growing crude production in the Permian Basin, the largest refinery expansion in more than a decade will help meet growing demand for affordable, reliable energy,” the company said in a stat...</td>\n",
       "      <td>NEGATIVE</td>\n",
       "      <td>0.951243</td>\n",
       "      <td>POSITIVE</td>\n",
       "      <td>0.995849</td>\n",
       "    </tr>\n",
       "    <tr>\n",
       "      <th>92</th>\n",
       "      <td>Business Wire</td>\n",
       "      <td>27 days ago</td>\n",
       "      <td>ExxonMobil Boosts Fuel Supply with $2 Billion Beaumont Refinery Expansion</td>\n",
       "      <td>IRVING, Texas, March 16, 2023--ExxonMobil today announced the successful startup of its Beaumont refinery expansion project, which adds 250,000 barrels per day of capacity to one of the largest refining and petrochemical complexes along the U.S. Gulf Coast. Supported by the company’s growing crude production in the Permian Basin, the largest refinery expansion in more than a decade will help meet growing demand for affordable, reliable energy.</td>\n",
       "      <td>POSITIVE</td>\n",
       "      <td>0.997166</td>\n",
       "      <td>POSITIVE</td>\n",
       "      <td>0.999590</td>\n",
       "    </tr>\n",
       "    <tr>\n",
       "      <th>93</th>\n",
       "      <td>Investor's Business Daily</td>\n",
       "      <td>28 days ago</td>\n",
       "      <td>Is It Time To Buy XOM Stock As Exxon Mobil Gets Beaten Down By Banking Crisis?</td>\n",
       "      <td>XOM stock is down 15% from February's all-time high. Did XOM get unduly punished during the bank crisis, giving investors a chance to buy?</td>\n",
       "      <td>NEGATIVE</td>\n",
       "      <td>0.998539</td>\n",
       "      <td>NEGATIVE</td>\n",
       "      <td>0.999618</td>\n",
       "    </tr>\n",
       "    <tr>\n",
       "      <th>94</th>\n",
       "      <td>Investor's Business Daily</td>\n",
       "      <td>28 days ago</td>\n",
       "      <td>Chevron, Exxon Mobil Falter As Oil Prices Skid To 15-Month Lows</td>\n",
       "      <td>U.S. oil prices dropped Wednesday to their lowest levels since December 2021 and energy stocks responded.</td>\n",
       "      <td>NEGATIVE</td>\n",
       "      <td>0.999713</td>\n",
       "      <td>NEGATIVE</td>\n",
       "      <td>0.989896</td>\n",
       "    </tr>\n",
       "    <tr>\n",
       "      <th>95</th>\n",
       "      <td>Reuters</td>\n",
       "      <td>28 days ago</td>\n",
       "      <td>Exxon considers selling stake in LNG terminal offshore Italy</td>\n",
       "      <td>Exxon Mobil Corp. is considering selling its majority stake in the Rovigo LNG terminal offshore Italy as part of a strategy to divest from non-core assets, the company said in a statement on Wednesday.  The terminal, also named, Adriatic LNG, is owned by Exxon's subsidiary ExxonMobil Italiana Gas S.r.l.  Exxon said that while it was verifying market interest, it had not made a decision about a potential sale nor has it identified a buyer at this early stage.</td>\n",
       "      <td>NEGATIVE</td>\n",
       "      <td>0.964898</td>\n",
       "      <td>NEGATIVE</td>\n",
       "      <td>0.997883</td>\n",
       "    </tr>\n",
       "    <tr>\n",
       "      <th>96</th>\n",
       "      <td>Motley Fool</td>\n",
       "      <td>28 days ago</td>\n",
       "      <td>Why Chevron, Devon, and ExxonMobil Stocks Are Still Going Down</td>\n",
       "      <td>After falling basically nonstop for a full week, oil prices briefly bounced back on Tuesday, then just turned around and resumed falling this morning.  Unsurprisingly, oil stocks are continuing to follow oil prices lower.  Chevron (NYSE: CVX) stock slid 3.3%, ExxonMobil (NYSE: XOM) exxed out 4%, and Devon Energy (NYSE: DVN) dropped 6.1%.</td>\n",
       "      <td>NEGATIVE</td>\n",
       "      <td>0.999697</td>\n",
       "      <td>NEGATIVE</td>\n",
       "      <td>0.999093</td>\n",
       "    </tr>\n",
       "    <tr>\n",
       "      <th>97</th>\n",
       "      <td>Bloomberg</td>\n",
       "      <td>28 days ago</td>\n",
       "      <td>Exxon’s Texas Plant Is Likely the Last Major US Refinery Project</td>\n",
       "      <td>(Bloomberg) -- When Exxon Mobil Corp.’s newest addition to its southeast Texas refinery ramps up to full production in the next few weeks, it’ll be the first major expansion of US fuel-making capacity in at least a decade. And probably the last.Most Read from BloombergCredit Suisse Reels After Top Shareholder Rules Out Raising StakeRyan Reynolds-Backed Mint Is Bought by T-Mobile for $1.35 BillionStocks See Some Relief After Bank-Driven Selloff: Markets WrapBofA Gets More Than $15 Billion in ...</td>\n",
       "      <td>NEGATIVE</td>\n",
       "      <td>0.993341</td>\n",
       "      <td>NEGATIVE</td>\n",
       "      <td>0.973812</td>\n",
       "    </tr>\n",
       "    <tr>\n",
       "      <th>98</th>\n",
       "      <td>Insider Monkey</td>\n",
       "      <td>29 days ago</td>\n",
       "      <td>11 Best Crude Oil Stocks To Buy As Tensions Rise</td>\n",
       "      <td>In this article, we discuss the 11 best crude oil stocks to buy as tensions rise. To skip the detailed analysis of the crude oil market, go directly to the 5 Best Crude Oil Stocks To Buy. Crude oil is one of the most primed industries in the world. However, it is also quite volatile […]</td>\n",
       "      <td>POSITIVE</td>\n",
       "      <td>0.982396</td>\n",
       "      <td>NEGATIVE</td>\n",
       "      <td>0.968442</td>\n",
       "    </tr>\n",
       "    <tr>\n",
       "      <th>99</th>\n",
       "      <td>InvestorPlace</td>\n",
       "      <td>29 days ago</td>\n",
       "      <td>The 7 Best Investments for Passive Income in 2023</td>\n",
       "      <td>While it’s always a good time to consider the best investments for passive income, this category enjoys significantly boosted relevance based on recent events. As you’ve undoubtedly heard, the banking sector suffered a severe confidence hit due to the collapse of SVB Financial Group. As CNN Business pointed out, it’s the biggest failure of a U.S. bank since Washington Mutual in 2008. Fundamentally, a deadly combination of higher interest rates, exposure to low-yielding bonds, and pain among ...</td>\n",
       "      <td>POSITIVE</td>\n",
       "      <td>0.998762</td>\n",
       "      <td>NEGATIVE</td>\n",
       "      <td>0.992154</td>\n",
       "    </tr>\n",
       "  </tbody>\n",
       "</table>\n",
       "</div>"
      ],
      "text/plain": [
       "                       source          time  \\\n",
       "0              Insider Monkey  12 hours ago   \n",
       "1               TheStreet.com  12 hours ago   \n",
       "2                       Zacks  13 hours ago   \n",
       "3              Insider Monkey  17 hours ago   \n",
       "4                   MoneyWise  17 hours ago   \n",
       "5     The Wall Street Journal     yesterday   \n",
       "7                       Zacks     yesterday   \n",
       "8                 Motley Fool     yesterday   \n",
       "9                       Zacks     yesterday   \n",
       "10    The Wall Street Journal     yesterday   \n",
       "11                      Zacks    2 days ago   \n",
       "12                      Zacks    2 days ago   \n",
       "13               Fox Business    2 days ago   \n",
       "15  Investor's Business Daily    2 days ago   \n",
       "16               Investopedia    2 days ago   \n",
       "17                Barrons.com    2 days ago   \n",
       "18                CorpGov.com    2 days ago   \n",
       "19                    Reuters    2 days ago   \n",
       "20              TheStreet.com    2 days ago   \n",
       "21                      Zacks    2 days ago   \n",
       "25              TheStreet.com    2 days ago   \n",
       "26    The Wall Street Journal    4 days ago   \n",
       "27    The Wall Street Journal    5 days ago   \n",
       "28                    Reuters    5 days ago   \n",
       "29                Motley Fool    5 days ago   \n",
       "30                      Zacks    6 days ago   \n",
       "31            Simply Wall St.    6 days ago   \n",
       "32                      Zacks    6 days ago   \n",
       "33                Motley Fool    6 days ago   \n",
       "34                      Zacks    6 days ago   \n",
       "35                Motley Fool    6 days ago   \n",
       "37              InvestorPlace    7 days ago   \n",
       "38    The Wall Street Journal    7 days ago   \n",
       "39                Barrons.com    7 days ago   \n",
       "40                   Benzinga    7 days ago   \n",
       "41                      Zacks    7 days ago   \n",
       "42                Motley Fool    7 days ago   \n",
       "43                Barrons.com    7 days ago   \n",
       "44                    Reuters    7 days ago   \n",
       "45                      Zacks    7 days ago   \n",
       "46                      Zacks    8 days ago   \n",
       "48                      Zacks    8 days ago   \n",
       "49                    Reuters    8 days ago   \n",
       "50                Barrons.com    8 days ago   \n",
       "51  Investor's Business Daily    9 days ago   \n",
       "52                Motley Fool    9 days ago   \n",
       "53                      Zacks    9 days ago   \n",
       "54              TheStreet.com    9 days ago   \n",
       "55              InvestorPlace    9 days ago   \n",
       "56                  Bloomberg   10 days ago   \n",
       "57            Simply Wall St.   10 days ago   \n",
       "58                      Zacks   12 days ago   \n",
       "59             Insider Monkey   13 days ago   \n",
       "60                Motley Fool   13 days ago   \n",
       "61             Insider Monkey   13 days ago   \n",
       "62                      Zacks   14 days ago   \n",
       "63    The Wall Street Journal   14 days ago   \n",
       "64                Motley Fool   14 days ago   \n",
       "65            Simply Wall St.   14 days ago   \n",
       "66    The Wall Street Journal   14 days ago   \n",
       "68             Insider Monkey   15 days ago   \n",
       "69                  Bloomberg   16 days ago   \n",
       "70                      Zacks   16 days ago   \n",
       "71             Insider Monkey   17 days ago   \n",
       "72            Simply Wall St.   18 days ago   \n",
       "73                Motley Fool   19 days ago   \n",
       "74                 AP Finance   19 days ago   \n",
       "75    The Wall Street Journal   20 days ago   \n",
       "76                  Bloomberg   20 days ago   \n",
       "77                      Zacks   21 days ago   \n",
       "78             Insider Monkey   21 days ago   \n",
       "79                      Zacks   21 days ago   \n",
       "80              InvestorPlace   22 days ago   \n",
       "81                Motley Fool   22 days ago   \n",
       "82            Simply Wall St.   22 days ago   \n",
       "83              InvestorPlace   23 days ago   \n",
       "85             Insider Monkey   23 days ago   \n",
       "86                  MoneyWise   23 days ago   \n",
       "87                Motley Fool   24 days ago   \n",
       "88             Insider Monkey   25 days ago   \n",
       "89                      Zacks   26 days ago   \n",
       "90            Simply Wall St.   26 days ago   \n",
       "91                MarketWatch   27 days ago   \n",
       "92              Business Wire   27 days ago   \n",
       "93  Investor's Business Daily   28 days ago   \n",
       "94  Investor's Business Daily   28 days ago   \n",
       "95                    Reuters   28 days ago   \n",
       "96                Motley Fool   28 days ago   \n",
       "97                  Bloomberg   28 days ago   \n",
       "98             Insider Monkey   29 days ago   \n",
       "99              InvestorPlace   29 days ago   \n",
       "\n",
       "                                                                                                                                              headline  \\\n",
       "0                                                                                       11 Best Undervalued Energy Stocks to Buy According to Analysts   \n",
       "1                                                                                        With the Oil Patch Facing Consolidation, One Stock Stands Out   \n",
       "2                                                                                     ExxonMobil's (XOM) Prosperity FPSO Reaches Guyana Stabroek Block   \n",
       "3                                                                                             12 Best Energy Stocks To Invest In According to Analysts   \n",
       "4   Oil faces a 'serious problem' by 2024 as production capacity runs out, warns Goldman Sachs — here are 3 big oil stocks with yields as high as 3.8%   \n",
       "5                                                                                                Biggest Gains in Innovation in the Management Top 250   \n",
       "7                                                                               Oil & Gas Stock Roundup: Q1 Updates From ExxonMobil and Shell in Focus   \n",
       "8                                                                                 ExxonMobil May Buy Pioneer Natural Resources, but Is It a Good Move?   \n",
       "9                       Zacks Investment Ideas feature highlights: Exxon Mobil, Pioneer Resources, Chevron, British Petroleum and Occidental Petroleum   \n",
       "10                                                                                                     Exxon Deal Hunt Signals Possible Shale M&A Wave   \n",
       "11                                                                                                   Markets Flat (Russell +1%) with Econ Data Pending   \n",
       "12                                                                                 Exxon Mobil (XOM) Stock Sinks As Market Gains: What You Should Know   \n",
       "13                                                                                                 Exxon Mobil, Pioneer rumors spark fracking M&A talk   \n",
       "15                                                                                    Pioneer Natural Resources Jumps On Reported Exxon Takeover Talks   \n",
       "16                                                                                 ExxonMobil Eyes Takeover of Shale Fracker Pioneer Natural Resources   \n",
       "17                                               These Stocks Are Moving the Most Today: Micron, Pioneer Natural, Tesla, Apple, Emergent Bio, and More   \n",
       "18                                       Turning Waste to Fuel with Pfizer, Shell and Exxon: Join ESGL in Fireside Ahead of Going Public Tues at 10 ET   \n",
       "19                                                                                          Pioneer Natural jumps on report of buyout talks with Exxon   \n",
       "20                                                                                     Pioneer Natural Resources Rallies as Exxon Considers a Takeover   \n",
       "21                                                                   Here is What to Know Beyond Why Exxon Mobil Corporation (XOM) is a Trending Stock   \n",
       "25                         Stocks Edge Higher, Inflation Data, First Republic Slides, Tesla China Plans , Pioneer Takeover Talks - Five Things To Know   \n",
       "26                                                                                                              Exxon Mobil: Eyes on the Permian Prize   \n",
       "27                                                                                      Exxon Mobil Eyes Potential Megadeal With Shale Driller Pioneer   \n",
       "28                                                                                UPDATE 2-Exxon eyes potential purchase of shale driller Pioneer -WSJ   \n",
       "29                                                                                                Want Decades of Passive Income? 2 Stocks to Buy Now.   \n",
       "30                                                                                                             What to Watch for in Q1 Earnings Season   \n",
       "31                                                                          These 4 Measures Indicate That Exxon Mobil (NYSE:XOM) Is Using Debt Safely   \n",
       "32                                                                                     ExxonMobil (XOM) Expects Its Low-Carbon Business to Surpass Oil   \n",
       "33                                                                                                                     ExxonMobil: Buy, Sell, or Hold?   \n",
       "34                                                                                          3 Energy Stocks With Strong Dividend Yields & Safe Payouts   \n",
       "35                                                                                      Best Dividend Stock to Buy: AT&T vs. ExxonMobil vs. Home Depot   \n",
       "37                                                                                                  The 7 Best Oil and Gas Stocks to Buy in April 2023   \n",
       "38                                                                                            Exxon Quits Drilling in Brazil After Failing to Find Oil   \n",
       "39                                                                                               Exxon Thinks Low-Carbon Sales May One Day Rival Oil’s   \n",
       "40                                                                  After Failing For Third Time, Exxon Ends Oil Drilling In Brazilian Offshore Waters   \n",
       "41                                                                                             ExxonMobil (XOM) Projects $9.6B Operating Profit for Q1   \n",
       "42                                                                               ExxonMobil Is Racing to Capture This Multitrillion-Dollar Opportunity   \n",
       "43                                                                                      Exxon Pulls Back From Oil Drilling in Brazil. The Stock Slips.   \n",
       "44                                                                                      Exxon quits drilling in Brazil after failing to find oil - WSJ   \n",
       "45                                                              The Zacks Analyst Blog Highlights ExxonMobil, Transocean, BP, ConocoPhillips and Shell   \n",
       "46                                                                              Exxon Mobil (XOM) Dips More Than Broader Markets: What You Should Know   \n",
       "48                                                                   Oil & Gas Stock Roundup: Exxon's Canada Sale, Transocean's Contract Awards & More   \n",
       "49                                                                 Exxon says its decarbonization business could outgrow oil, in multi-trillion market   \n",
       "50                                                                                     Oil Prices Push Higher on OPEC Cuts. Energy Stocks Are Gaining.   \n",
       "51                                                                                    Chevron, Energy Stocks Surge After OPEC+ Surprise Production Cut   \n",
       "52                                                                                Why Energy Stocks Like ExxonMobil and Chevron Are Rallying on Monday   \n",
       "53                                                                                               Top Research Reports for Apple, Meta Platforms & Visa   \n",
       "54                                                                                  Stick With Exxon as the U.S. Gets Smacked by Foreign Oil Producers   \n",
       "55                                                                                                           3 Energy Stocks to Buy as Oil Prices Soar   \n",
       "56                                                                                            Five Key Charts to Watch in Global Commodities This Week   \n",
       "57                                            Exxon Mobil's (NYSE:XOM) 49% CAGR outpaced the company's earnings growth over the same three-year period   \n",
       "58                                                                                         ExxonMobil (XOM) to Sell Stake in Canada Exploration Blocks   \n",
       "59                                                                                                      Starter Stock Portfolio: 15 Safe Stocks To Buy   \n",
       "60                                                       2 Dividend Growth Stalwarts With Impressive Streaks Going and Yield Twice That of the S&P 500   \n",
       "61                                                                                                                     15 Cheap Beginner Stocks to Buy   \n",
       "62                                                                                 Exxon Mobil (XOM) Outpaces Stock Market Gains: What You Should Know   \n",
       "63                                                                                       Biggest Gains in Financial Strength in the Management Top 250   \n",
       "64                                                                                   3 Dividend Stocks That Have Been Paying Investors Since the 1800s   \n",
       "65                                                       An Intrinsic Calculation For Exxon Mobil Corporation (NYSE:XOM) Suggests It's 23% Undervalued   \n",
       "66                                                                    Exxon’s Climate Opponents Were Infiltrated by Massive Hacking-for-Hire Operation   \n",
       "68                                                                                                      12 Best Diversified Dividend Stocks to Buy Now   \n",
       "69                                                                                        French Refining Is Barely Running as Strikes Enter Week Four   \n",
       "70                                                                                          Is Trending Stock Exxon Mobil Corporation (XOM) a Buy Now?   \n",
       "71                                                                                                                     16 Best Places to Live in Texas   \n",
       "72                                                                       Investors Should Be Encouraged By Exxon Mobil's (NYSE:XOM) Returns On Capital   \n",
       "73                                                                                                 Why ExxonMobil Stock Was a Drag on the Market Today   \n",
       "74                                                                                        Chad nationalizes assets by oil giant Exxon, says government   \n",
       "75                                                                                                                        Top Companies for Innovation   \n",
       "76                                                                                     Oil Drops as Investors Assess Fed’s Message, Outlook for Dollar   \n",
       "77                                                                                    Exxon (XOM) Surges 4.5%: Is This an Indication of Further Gains?   \n",
       "78                                                                                                    11 Extreme Dividend Stocks With Upside Potential   \n",
       "79                                                                                            Here's Why Hold Strategy is Apt for ExxonMobil (XOM) Now   \n",
       "80                                                                                                                  7 Oil Stocks Bound to Gush in 2023   \n",
       "81                                                                             Early Retirement Portfolio: 3 Dividend Stocks to Buy With No Hesitation   \n",
       "82            Exxon Mobil Corporation's (NYSE:XOM)) market cap declines to US$417b but insiders who sold US$3.0m stock were able to hedge their losses   \n",
       "83                                                                                                 7 Defensive Stocks to Buy During This Chaotic Spell   \n",
       "85                                                                                        13 Best Monthly Dividend Stocks to Buy According to Analysts   \n",
       "86     Home Depot co-founder blames ‘woke diversity’ for businesses failing to ‘hit the bottom line’ — don't sleep on these 3 stock picks if you agree   \n",
       "87                                                                If You Invested $10,000 in ExxonMobil in 2020, This Is How Much You Would Have Today   \n",
       "88                                                                                            15 Most Promising Long-Term Stocks According to Analysts   \n",
       "89                                                                                       ExxonMobil (XOM) Contemplates Divesting LNG Offshore Terminal   \n",
       "90                                               Declining Stock and Solid Fundamentals: Is The Market Wrong About Exxon Mobil Corporation (NYSE:XOM)?   \n",
       "91                                                           Exxon has started production at expanded refinery in Beaumont after $2 billion investment   \n",
       "92                                                                           ExxonMobil Boosts Fuel Supply with $2 Billion Beaumont Refinery Expansion   \n",
       "93                                                                      Is It Time To Buy XOM Stock As Exxon Mobil Gets Beaten Down By Banking Crisis?   \n",
       "94                                                                                     Chevron, Exxon Mobil Falter As Oil Prices Skid To 15-Month Lows   \n",
       "95                                                                                        Exxon considers selling stake in LNG terminal offshore Italy   \n",
       "96                                                                                      Why Chevron, Devon, and ExxonMobil Stocks Are Still Going Down   \n",
       "97                                                                                    Exxon’s Texas Plant Is Likely the Last Major US Refinery Project   \n",
       "98                                                                                                    11 Best Crude Oil Stocks To Buy As Tensions Rise   \n",
       "99                                                                                                   The 7 Best Investments for Passive Income in 2023   \n",
       "\n",
       "                                                                                                                                                                                                                                                                                                                                                                                                                                                                                                                content  \\\n",
       "0                                                                                                                                                                                           In this article, we will discuss the 11 best undervalued energy stocks to buy according to analysts. If you want to explore similar stocks, you can also take a look at 5 Best Undervalued Energy Stocks to Buy According to Analysts. “It’s Obviously A Positive For The Energy Sector” On April 2, OPEC+ announced an […]   \n",
       "1                                                                                                                                                                                                                                                                                                                                         Energy giants are investing on finding ways to contribute to the still developing global transition to a green energy future, and they'd like to remain permanently relevant.   \n",
       "2                                                                                                                                                                                                                                                                                                                                                                                                         The Prosperity vessel will be permitted to ExxonMobil (XOM) to operate on the Payara project offshore Guyana.   \n",
       "3                                                                                                                                                                                                         In this article, we will take a look at the 12 best energy stocks to invest in according to analysts. If you want to explore similar stocks, you can also take a look at 5 Best Energy Stocks To Invest In According to Analysts. On April 7, the Wall Street Journal reported that oil giant Exxon Mobil […]   \n",
       "4                                                                                                                                                                                                                                                                                                                                                                                                                                                                                 The days of $100 oil may not be over.   \n",
       "5   Exxon Mobil  score for innovation rose more than that of any other company in the latest Management Top 250, followed by  Allstate  and Crown Castle.  The Management Top 250 ranking, developed by the Drucker Institute, measures corporate effectiveness by examining performance in customer satisfaction, employee engagement and development, innovation, social responsibility and financial strength.  The innovation scores of Allstate and Crown Castle  both jumped 31.5 points, to 105.3 and 76.7, r...   \n",
       "7                                                                                                                                                                                                                                                                                                                                                                                   Apart from ExxonMobil (XOM) and Shell (SHEL), Ovintiv (OVV), Halliburton (HAL) and Enbridge (ENB) hogged attention during the week.   \n",
       "8   With oil prices having plunged during the pandemic, spiked hard after Russia's invasion of Ukraine, and then fallen again as the Federal Reserve raised interest rates, the oil and gas industry has seen its fair share of volatility in recent years.  Over the weekend, it was reported that oil giant ExxonMobil (NYSE: XOM) is in talks to potentially acquire shale pure play Pioneer Natural Resources (NYSE: PXD).  The first thing to note about Pioneer is that it's a pure play in the Midland Basin ...   \n",
       "9                                                                                                                                                                                                                                                                                                                                                                                   Exxon Mobil, Pioneer Resources, Chevron, British Petroleum and Occidental Petroleum are part of the Zacks Investment Ideas article.   \n",
       "10                                                                                                                                                                                                                                                                                                                                                                            A transaction involving Pioneer Natural Resources would indicate that drillers are looking to put their large war chests of cash to work.   \n",
       "11                                                                                                                                                                                                                                                                                                                                                                                           What we see here in a flat trading day is market participants biding their time before the next potential market catalyst.   \n",
       "12                                                                                                                                                                                                                                                                                                                                                                                                    Exxon Mobil (XOM) closed the most recent trading day at $114.54, moving -0.44% from the previous trading session.   \n",
       "13                                                                                                                                                                                                                                                                                                                                                      Exxon Mobil is reportedly in preliminary discussions to acquire Pioneer Natural Resources as part of the oil and natural gas producer’s Permian Basin strategy.   \n",
       "15                                                                                                                                                                                                                                                                                                                                                             Pioneer Natural Resources jumped Monday after the Wall Street Journal reported Exxon Mobil has held early talks in buying the Permian Basin shale giant.   \n",
       "16                                                                                                                                                                                                                                                                           Shares of Pioneer Natural Resources (PXD) are jumping on a report ExxonMobil (XOM) has had preliminary discussions to purchase the shale fracker, in what could become the biggest acquisition for the oil giant in more than two decades.   \n",
       "17                                                                                                                                                                                                                Micron stock rises after Samsung Electronics says it will make 'meaningful' cuts to production of memory chips, a report says Exxon Mobil has had preliminary acquisition talks with Pioneer Natural, and Tesla stock falls after the EV maker slashes prices across it U.S. electric-vehicle lineup.   \n",
       "18  IPO Edge, CorpGov and the Palm Beach Hedge Fund Association will host a fireside chat with Environmental Solutions Group Holdings Ltd. and Genesis Unicorn Acquisition Corp. (NASDAQ:GENQ) on Tuesday, April 11 at 10 AM ET. The live event will feature Lawrence Law, Chief Growth and Sustainability Officer and Director at ESGL and Samuel Lui, President, Chief […] The post Turning Waste to Fuel with Pfizer, Shell and Exxon: Join ESGL in Fireside Ahead of Going Public Tues at 10 ET appeared first o...   \n",
       "19                                                                                                                                                                                   Shares of Pioneer were up 6.5% at $221.74, while Exxon Mobil inched up 0.2% to $115.25.  The Wall Street Journal had reported the news on Friday, citing people familiar with the matter.  Pioneer is the third-largest oil producer after Chevron Corp and ConocoPhillips in the Permian basin, the biggest in the United States.   \n",
       "20                                                                                       Pioneer Natural Resources  gapped higher Monday morning on media reports that Exxon Mobil  was studying the possible acquisition of PXD, an independent oil and natural gas exploration and production company.  The On-Balance-Volume (OBV) line has been weak until the middle of March and shows only limited improvement.  The weekly OBV line has been \"softish\" the past 12 months but shows a slight \"uptick\" in March.   \n",
       "21                                                                                                                                                                                                                                                                                                                                                                          Recently, Zacks.com users have been paying close attention to Exxon (XOM). This makes it worthwhile to examine what the stock has in store.   \n",
       "25                                                                                                                                                                                                       Stock futures edge higher as traders dig through March jobs report; Week Ahead: Inflation data, big bank earnings in focus; First Republic suspends preferred dividend ahead of Q1 earnings; Tesla confirms Shanghai 'megapack' battery plant plans and Pioneer shares leap on report of Exxon takeover talks.   \n",
       "26                                                                                                                                                                                                                                                                                                                                                                      Exxon Mobil was once known for exploring for oil in all sorts of exotic places, but right now its own backyard is looking like the best option.   \n",
       "27                                                                                                                                                                                                                                                                                                                                                                                         The oil and gas giant has held informal, early-stage talks to buy Pioneer Natural Resources, which is valued at $49 billion.   \n",
       "28                          Exxon Mobil Corp has held preliminary talks with Pioneer Natural Resources Co about a possible acquisition of the  U.S. shale oil producer, the Wall Street Journal reported on Friday, citing people familiar with the matter.  Discussions between the two companies about a potential deal have been informal, the newspaper said, adding that Exxon executives have discussed a potential tie-up with at least one other company.  Exxon and Pioneer declined to comment on the report.   \n",
       "29                                                                                                                                                                                                                                                                                                                                                                                                You may be worried that oil stocks are heading for the dustbin of history, but that's not likely to happen very fast.   \n",
       "30                                                                                                                                                                                                                                                                                                                                                                                                                                       Tracey and Sheraz discuss bank earnings, tech, and the underdog energy sector.   \n",
       "31                                                                                                                                                                                                                                                                                                                                                                                              Warren Buffett famously said, 'Volatility is far from synonymous with risk.' When we think about how risky a company...   \n",
       "32                                                                                                                                                                                                                                                                                                                                                                                    ExxonMobil (XOM) plans to spend $7 billion through 2027 in its Low Carbon Solutions business unit to help others lower emissions.   \n",
       "33                                                                                                                                                                                                                                                                                                                                                                                                                Exxon is a reliable dividend stock, but it isn't a simple call on whether it is a buy, sell, or hold.   \n",
       "34                                                                                                                                                                                                                                                                                                                                                         DINO, XOM and FANG are three fundamentally and operationally strong energy companies that should enable you to live off dividends through sector volatility.   \n",
       "35                                                                                                                                                                                                                                                                            This video will compare these three dividend stocks to determine the best one to buy -- and it's not just about dividend yield.  *Stock prices used were the afternoon prices of April 3, 2023. The video was published on April 6, 2023.   \n",
       "37  With crude oil prices zooming back above $80 per barrel, you may be wondering about the best oil and gas stocks to buy. A further rise in spot petroleum prices could spark a bigger rally in energy stocks, which have perked up after trending lower in early 2023. Some may argue that oil’s latest rally, driven by surprise news of production cuts from OPEC+, will not last. Yet, several analysts have argued that, with the prospect of more preemptive supply cuts from OPEC+ and the rebound in deman...   \n",
       "38                                                                                                                                                                                                                                                                                                                                                                                                        The oil giant has spent billions on the offshore campaign and hasn’t ruled out other projects in the country.   \n",
       "39                                                                                                                                                                                                                                                                                                                                                                                   On Tuesday, Exxon told analysts that its low-carbon revenue could eventually be “measured in the hundreds of billions of dollars.\"   \n",
       "40  Exxon Mobil Corp (NYSE: XOM) has reportedly stopped drilling in the offshore acreage after failing to find commercially viable amounts of crude in Brazil's deep waters for the third time. In 2021, Exxon drilled two wells in Brazil's Campos and Santos basins. Last year, it drilled a third in the Sergipe-Alagoas basin. None of the three wells off Brazil had enough oil to be commercially viable. Related: Exxon, Chevron Retreat From Big International Projects, Shift Focus On Oil Projects In Amer...   \n",
       "41                                                                                                                                                                                                                                                                                                                                 ExxonMobil (XOM) expects an operational profit of $9.6 billion for the first quarter, suggesting a decline from the $12.8 billion net profit reported in the fourth quarter of 2022.   \n",
       "42                                                                                                                                                                                                                                                                                                                                                                                  The oil and gas giant believes it could eventually generate substantial revenue by providing decarbonization services to customers.   \n",
       "43                                                                                                                                                                                                                                                                                                                                                                     Exxon has stopped drilling efforts in offshore Brazil and shifted geologists and engineers to other countries, The Wall Street Journal reported.   \n",
       "44                                                                         Exxon said in an e-mail to Reuters its initial exploration drilling program in Brazil is now complete and that it is \"still engaged in Brazil and continues to pursue exploration activity in the country\".  Exxon changed its Brazil country head last year and has been saying in presentations that it will focus efforts in the country with Bacalhau field, a successful exploration campaign led by its Norwegian partner Equinor ASA.   \n",
       "45                                                                                                                                                                                                                                                                                                                                                                                                                              ExxonMobil, Transocean, BP, ConocoPhillips and Shell are included in this Analyst Blog.   \n",
       "46                                                                                                                                                                                                                                                                                                                                                                                                         Exxon Mobil (XOM) closed at $115.02 in the latest trading session, marking a -0.96% move from the prior day.   \n",
       "48                                                                                                                                                                                                                                                                                                                                                                               Apart from ExxonMobil (XOM) and Transocean (RIG), BP plc (BP), ConocoPhillips (COP) and Shell (SHEL) hogged attention during the week.   \n",
       "49                           HOUSTON (Reuters) -Exxon Mobil Corp's Low Carbon business has the potential to generate hundreds of billions of dollars in revenue and outperform the company's traditional oil and gas as soon as a decade from now, CEO Darren Woods said.  The largest U.S. oil producer on Tuesday laid out to investors the aims of its emerging energy transition strategy in a meeting with Wall Street.  Exxon is tackling what should be a multi-trillion market in 10 years or more, Woods said.   \n",
       "50                                                                                                                                                                                                                                                                                                                                                                                                Oil prices and energy stocks were still moving higher early Tuesday as traders digest OPEC's planned production cuts.   \n",
       "51                                                                                                                                                                                                                                                                                                                                                                                                                 Energy stocks rallied with oil prices Monday after OPEC+ announced a surprise production cut Sunday.   \n",
       "52       As of 1:10 p.m. ET, ExxonMobil (NYSE: XOM) was up 5.6% while Chevron (NYSE: CVX) had gained 4%.  Smaller drillers like Transocean (NYSE: RIG) and Diamondback Energy (NASDAQ: FANG) were higher to the tune of 9% and 6.2%, respectively, as the underlying driver of the groupwide rally means even more to them.  On Sunday, eight members of OPEC (the Organization of the Petroleum Exporting Countries) announced that they will be further cutting their output starting in May, crimping global supply.   \n",
       "53                                                                                                                                                                                                                                                                                                                                                                 Today's Research Daily features new research reports on 16 major stocks, including Apple Inc. (AAPL), Meta Platforms, Inc. (META) and Visa Inc. (V).   \n",
       "54                                                                                                                                                                                                                                                                                                                                                                                                 This may be seen as early steps toward moving at least some part of the oil trade away from trading in U.S. dollars.   \n",
       "55  Finding the right energy stocks to buy is worth the time and effort. The energy sector has long been a favorite among investors looking for steady returns and reliable growth. However, in recent years, the industry has been facing increased pressure from investors and society to become more sustainable. Also, oil and gas’s volatile price behavior critically influences the best energy stocks to buy. Despite the industry’s challenges, all three of the following energy stocks to buy have been a...   \n",
       "56  (Bloomberg) -- The Organization of Petroleum Exporting Countries and its allies announced a surprise output cut, while Exxon Mobil Corp. is due to update investors on the company’s plans to help reduce greenhouse gas emissions in support of a net-zero future. Here are five notable charts to watch in global commodities as the first trading week of April gets underway.Most Read from BloombergOPEC+ Makes Shock Million-Barrel Cut in New Inflation RiskSwiss Prosecutors Probe Credit Suisse Deal, J...   \n",
       "57                                                                                                                                                                                                                                                                                                                                                                                           The most you can lose on any stock (assuming you don't use leverage) is 100% of your money. But when you pick a company...   \n",
       "58                                                                                                                                                                                                                                                                                                                                                                                                                                               ExxonMobil (XOM) will continue to operate EL 1167 with a 50% interest.   \n",
       "59                                                                                                                                                                                                           In this article, we will take a look at the 15 safe stocks to buy. To see more such companies, go directly to Starter Stock Portfolio: 5 Safe Stocks To Buy. Amid the current market turmoil which seems to have no end in sight, it feels weird to label anything as “safe,” especially stocks, which […]   \n",
       "60                                                                                                                                                       Are you looking for a reasonably high-yielding dividend stock to add to your portfolio?  There are two dividend stocks that offer both a high yield and impressive track records for dividend growth and are good buys today: Medtronic (NYSE: MDT) and ExxonMobil (NYSE: XOM).  Medtronic is a top medical-device company with operations all over the world.   \n",
       "61                                                                                                                                                                                                                In this article, we will take a look at 15 cheap stocks to buy now for beginners. If you want to explore similar stocks, you can also take a look at 5 Cheap Beginner Stocks to Buy. Morgan Stanley’s Big Bear: “It’s Just A Much Less Predictable World” On March 27 Morgan Stanley’s chief U.S. […]   \n",
       "62                                                                                                                                                                                                                                                                                                                                                                                                         Exxon Mobil (XOM) closed at $108.96 in the latest trading session, marking a +1.72% move from the prior day.   \n",
       "63                                                                        The Management Top 250 ranking, developed by the Drucker Institute, measures corporate effectiveness by examining performance in customer satisfaction, employee engagement and development, innovation, social responsibility and financial strength.  Exxon’s financial-strength score improved 42.9 points, to 81.3, Chevron added 29.8 points to its score in the category, to 72.9, and ConocoPhillips’s score rose 28.2 points to 67.1.   \n",
       "64                                                                                                                                                                                                                  Three businesses that have not only been around for more than a century but have also been paying dividends going back to the 1800s are Eli Lilly (NYSE: LLY), ExxonMobil (NYSE: XOM), and the Toronto-Dominion Bank (NYSE: TD).  Healthcare giant Eli Lilly has been paying a dividend since 1885.   \n",
       "65                                                                                                                                                                                                                                                                                                                                                                                           Key Insights The projected fair value for Exxon Mobil is US$139 based on 2 Stage Free Cash Flow to Equity Exxon Mobil's...   \n",
       "66                                                                                                                                                                                                                                                                                                                                                                                A charity created by some Rockefeller heirs is among the groups targeted by hackers. The oil giant hasn’t been accused of wrongdoing.   \n",
       "68                                                                                                                                        In this article, we discuss 12 diversified dividend stocks to buy now. You can skip our detailed analysis of dividend stocks and their performance over the years, and go directly to read 5 Best Diversified Dividend Stocks to Buy Now. Diversified companies can provide investors with diversification across different industries and sectors, which can help reduce […]   \n",
       "69  (Bloomberg) -- France’s oil-processing industry is running at a fraction of normal capacity as strikes over the government’s plans to reform pensions enter their fourth week.Most Read from BloombergBinance and Its CEO Sued by CFTC Over US Regulatory ViolationsSaudi National Bank Chair Resigns After Credit Suisse RemarkSchwab’s $7 Trillion Empire Built on Low Rates Is Showing CracksFirst Citizens to Buy SVB After Biggest Failure Since 2008Four of the nation’s six refineries are barely operati...   \n",
       "70                                                                                                                                                                                                                                                                                                                                                 Exxon (XOM) has received quite a bit of attention from Zacks.com users lately. Therefore, it is wise to be aware of the facts that can impact the stock's prospects.   \n",
       "71                                                                                                                                                                                                                                             In this article, we will take a look at the 16 best places to live in Texas. If you want to see more places in this selection, go to the 5 Best Places to Live in Texas. Texas is the second most populous state in the US and also happens to be the second biggest […]   \n",
       "72                                                                                                                                                                                                                                                                                                                                                                                           If you're not sure where to start when looking for the next multi-bagger, there are a few key trends you should keep an...   \n",
       "73                                                              Friday wasn't the ideal day to be in the oil business.  The performance of bellwether industry stock ExxonMobil (NYSE: XOM) reflected the situation; it closed the day essentially flat over Thursday's closing price, while the S&P 500 index enjoyed a nearly 0.6% bump.  The influential party pooper in this case was U.S. Energy Secretary Jennifer Granholm, who on Thursday admitted that it could take years for the country to refill the SPR.   \n",
       "74                                                                                                                                                                                                                                                                  Chad is nationalizing all assets from multinational oil giant Exxon Mobil, including its hydrocarbon and exploration permits, said the government.  The nationalization of a private company means that all assets are now owned by the government.   \n",
       "75                                                                                             JOURNAL REPORTS: LEADERSHIP   Microsoft scored highest for innovation in the latest Management Top 250 ranking, followed by Amazon com Inc. and Exxon Mobil Corp. The Management Top 250 ranking, developed by the Drucker Institute, measures corporate effectiveness by examining performance in customer satisfaction, employee engagement and development, innovation, social responsibility and financial strength.   \n",
       "76  (Bloomberg) -- Oil fell as investors weighed the Federal Reserve policy outlook after another hike and digested a mixed snapshot of US supply and demand.Most Read from BloombergJack Dorsey’s Block Vows to Fight Back After Hindenburg Says It’s Short the StockShort Seller Hindenburg Says ‘Another Big One’ Coming SoonUS Fears a War-Weary World May Embrace China’s Ukraine Peace BidJPMorgan Sold $10 Million in Jewels Left in Bank Safe Deposit Box, Suit ClaimsAckman Warns of Accelerated Deposit Ou...   \n",
       "77                                                                                                                                                                                                                                                                                                                    Exxon (XOM) was a big mover last session on higher-than-average trading volume. The latest trend in earnings estimate revisions might not help the stock continue moving higher in the near term.   \n",
       "78                                                                                                                              In this article, we discuss 11 extreme dividend stocks with upside potential. You can skip our detailed analysis of dividend stocks and their historical performance, and go directly to read 5 Extreme Dividend Stocks With Upside Potential. In the current inflationary environment, dividend stocks help reduce a portfolio’s volatility and provide a hedge against inflation. […]   \n",
       "79                                                                                                                                                                                                                                                                                                                                                                                                                                            Favorable oil price is a boon for ExxonMobil's (XOM) upstream operations.   \n",
       "80  After many years of being cast aside, oil stocks came roaring back in a world rocked by inflation and geopolitical uncertainty. Unfortunately, those same oil stocks started off 2023 on the wrong foot. All with oil prices slumping on fears of a potential recession and ensuing slowdown in global demand. In addition, recent problems in the banking sector have caused a liquidity squeeze that is impacting many sectors, including energy. But investors shouldn’t lose the faith in oil stocks. The in...   \n",
       "81                                                                                                                                                                                                                                                                      Dividend stocks are a good source of passive income that will help support you in retirement.  ExxonMobil operates in the oil and natural gas business, and has an impressive record of raising its dividend annually for 40 consecutive years.   \n",
       "82                                                                                                                                                                                                                                                                                                                                                                                           By selling US$3.0m worth of Exxon Mobil Corporation ( NYSE:XOM ) stock at an average sell price of US$103 over the last...   \n",
       "83  While it’s always a good idea to balance your portfolio with defensive stocks, the present chaos dramatically incentivizes this subsegment. As you’ve no doubt heard, the U.S. and the rest of the world presently reel from two major banks failing. Moreover, the main concern centers on the contagion spreading to other components of the global economy. What really adds weight to the drama here is of course the Federal Reserve. The central bank must decide how to navigate monetary policy in light of   \n",
       "85                                                                                                                                                                      In this article, we discuss 13 best monthly dividend stocks to buy according to analysts. You can skip our detailed analysis of dividend stocks and their performance, and go directly to read 5 Best Monthly Dividend Stocks to Buy According to Analysts. In 2022, dividends remained a bright spot for investors, despite a stock market […]   \n",
       "86                                                                                                                                                                                                                                                                                                                                                                                                                                                                                       Invest in what matters to you.   \n",
       "87                                                                                                  It seems like ages ago that a pandemic and massive supply glut forced oil prices to temporarily fall below zero, meaning that sellers were paying buyers to take their oil.  It decimated stocks like oil major ExxonMobil (NYSE: XOM), which fell as much as 70% from its high.  The lessons learned from this scenario can prepare investors for the next potential downturn in a historically cyclical industry.   \n",
       "88                                                                                                                                                                                            In this article, we will take a look at the 15 most promising long-term stocks according to analysts. To see more such companies, go directly to 5 Most Promising Long-Term Stocks According to Analysts. Investing in the stock market for the long term is perhaps the surest of the ways to expand your wealth. On […]   \n",
       "89                                                                                                                                                                                                                                                                                                                          ExxonMobil (XOM) is considering selling its ownership interest in LNG Offshore Terminal Italy while gauging market interest. However, no decision has been made regarding a potential sale.   \n",
       "90                                                                                                                                                                                                                                                                                                                                                                                            With its stock down 13% over the past month, it is easy to disregard Exxon Mobil (NYSE:XOM). However, stock prices are...   \n",
       "91  Exxon Mobil Corp.  (XOM)  said Thursday it has started production at its expanded refinery in Beaumont, a $2 billion project that was equal to adding a medium-size refinery.  The oil major said the move has increased capacity for transportation fuels by 250,000 barrels a day.  “Supported by the company’s growing crude production in the Permian Basin, the largest refinery expansion in more than a decade will help meet growing demand for affordable, reliable energy,” the company said in a stat...   \n",
       "92                                                      IRVING, Texas, March 16, 2023--ExxonMobil today announced the successful startup of its Beaumont refinery expansion project, which adds 250,000 barrels per day of capacity to one of the largest refining and petrochemical complexes along the U.S. Gulf Coast. Supported by the company’s growing crude production in the Permian Basin, the largest refinery expansion in more than a decade will help meet growing demand for affordable, reliable energy.   \n",
       "93                                                                                                                                                                                                                                                                                                                                                                           XOM stock is down 15% from February's all-time high. Did XOM get unduly punished during the bank crisis, giving investors a chance to buy?   \n",
       "94                                                                                                                                                                                                                                                                                                                                                                                                            U.S. oil prices dropped Wednesday to their lowest levels since December 2021 and energy stocks responded.   \n",
       "95                                       Exxon Mobil Corp. is considering selling its majority stake in the Rovigo LNG terminal offshore Italy as part of a strategy to divest from non-core assets, the company said in a statement on Wednesday.  The terminal, also named, Adriatic LNG, is owned by Exxon's subsidiary ExxonMobil Italiana Gas S.r.l.  Exxon said that while it was verifying market interest, it had not made a decision about a potential sale nor has it identified a buyer at this early stage.   \n",
       "96                                                                                                                                                                  After falling basically nonstop for a full week, oil prices briefly bounced back on Tuesday, then just turned around and resumed falling this morning.  Unsurprisingly, oil stocks are continuing to follow oil prices lower.  Chevron (NYSE: CVX) stock slid 3.3%, ExxonMobil (NYSE: XOM) exxed out 4%, and Devon Energy (NYSE: DVN) dropped 6.1%.   \n",
       "97  (Bloomberg) -- When Exxon Mobil Corp.’s newest addition to its southeast Texas refinery ramps up to full production in the next few weeks, it’ll be the first major expansion of US fuel-making capacity in at least a decade. And probably the last.Most Read from BloombergCredit Suisse Reels After Top Shareholder Rules Out Raising StakeRyan Reynolds-Backed Mint Is Bought by T-Mobile for $1.35 BillionStocks See Some Relief After Bank-Driven Selloff: Markets WrapBofA Gets More Than $15 Billion in ...   \n",
       "98                                                                                                                                                                                                                      In this article, we discuss the 11 best crude oil stocks to buy as tensions rise. To skip the detailed analysis of the crude oil market, go directly to the 5 Best Crude Oil Stocks To Buy. Crude oil is one of the most primed industries in the world. However, it is also quite volatile […]   \n",
       "99  While it’s always a good time to consider the best investments for passive income, this category enjoys significantly boosted relevance based on recent events. As you’ve undoubtedly heard, the banking sector suffered a severe confidence hit due to the collapse of SVB Financial Group. As CNN Business pointed out, it’s the biggest failure of a U.S. bank since Washington Mutual in 2008. Fundamentally, a deadly combination of higher interest rates, exposure to low-yielding bonds, and pain among ...   \n",
       "\n",
       "   Sentiment     Score Sentiment2    Score2  \n",
       "0   POSITIVE  0.998835   POSITIVE  0.999089  \n",
       "1   POSITIVE  0.998394   POSITIVE  0.999688  \n",
       "2   NEGATIVE  0.990843   NEGATIVE  0.936813  \n",
       "3   POSITIVE  0.999674   POSITIVE  0.995061  \n",
       "4   NEGATIVE  0.993669   NEGATIVE  0.597216  \n",
       "5   POSITIVE  0.999655   POSITIVE  0.973598  \n",
       "7   NEGATIVE  0.895621   POSITIVE  0.959791  \n",
       "8   POSITIVE  0.895717   NEGATIVE  0.528328  \n",
       "9   POSITIVE  0.998883   POSITIVE  0.544142  \n",
       "10  NEGATIVE  0.992457   NEGATIVE  0.996657  \n",
       "11  NEGATIVE  0.999744   NEGATIVE  0.999530  \n",
       "12  NEGATIVE  0.999705   NEGATIVE  0.971162  \n",
       "13  NEGATIVE  0.989955   NEGATIVE  0.830148  \n",
       "15  NEGATIVE  0.884014   NEGATIVE  0.980788  \n",
       "16  NEGATIVE  0.973616   NEGATIVE  0.963278  \n",
       "17  POSITIVE  0.999367   NEGATIVE  0.999609  \n",
       "18  NEGATIVE  0.969920   POSITIVE  0.978619  \n",
       "19  POSITIVE  0.953294   POSITIVE  0.578931  \n",
       "20  NEGATIVE  0.983293   NEGATIVE  0.998797  \n",
       "21  NEGATIVE  0.997149   POSITIVE  0.999326  \n",
       "25  POSITIVE  0.860592   NEGATIVE  0.866756  \n",
       "26  POSITIVE  0.994967   POSITIVE  0.998954  \n",
       "27  POSITIVE  0.977278   POSITIVE  0.846124  \n",
       "28  NEGATIVE  0.889585   NEGATIVE  0.984472  \n",
       "29  NEGATIVE  0.997552   NEGATIVE  0.999174  \n",
       "30  POSITIVE  0.997667   POSITIVE  0.990060  \n",
       "31  POSITIVE  0.988135   NEGATIVE  0.926171  \n",
       "32  NEGATIVE  0.998939   NEGATIVE  0.996935  \n",
       "33  NEGATIVE  0.995080   NEGATIVE  0.990691  \n",
       "34  POSITIVE  0.998953   POSITIVE  0.999731  \n",
       "35  POSITIVE  0.976469   NEGATIVE  0.953491  \n",
       "37  POSITIVE  0.999626   NEGATIVE  0.919968  \n",
       "38  NEGATIVE  0.999721   POSITIVE  0.999111  \n",
       "39  NEGATIVE  0.998465   NEGATIVE  0.996607  \n",
       "40  NEGATIVE  0.995020   NEGATIVE  0.999035  \n",
       "41  NEGATIVE  0.991282   NEGATIVE  0.996993  \n",
       "42  POSITIVE  0.999035   NEGATIVE  0.996437  \n",
       "43  NEGATIVE  0.999644   NEGATIVE  0.991990  \n",
       "44  NEGATIVE  0.999731   POSITIVE  0.996515  \n",
       "45  POSITIVE  0.982670   POSITIVE  0.540447  \n",
       "46  NEGATIVE  0.999226   NEGATIVE  0.965523  \n",
       "48  NEGATIVE  0.948317   POSITIVE  0.610009  \n",
       "49  NEGATIVE  0.986818   POSITIVE  0.978044  \n",
       "50  POSITIVE  0.996705   NEGATIVE  0.960666  \n",
       "51  POSITIVE  0.992557   POSITIVE  0.929653  \n",
       "52  NEGATIVE  0.974446   NEGATIVE  0.975220  \n",
       "53  POSITIVE  0.990133   POSITIVE  0.957894  \n",
       "54  NEGATIVE  0.997572   NEGATIVE  0.763446  \n",
       "55  POSITIVE  0.936807   POSITIVE  0.998545  \n",
       "56  POSITIVE  0.996002   NEGATIVE  0.876812  \n",
       "57  NEGATIVE  0.997335   NEGATIVE  0.984164  \n",
       "58  NEGATIVE  0.973409   POSITIVE  0.856774  \n",
       "59  POSITIVE  0.979362   NEGATIVE  0.993890  \n",
       "60  POSITIVE  0.999343   POSITIVE  0.999599  \n",
       "61  NEGATIVE  0.999185   NEGATIVE  0.790117  \n",
       "62  POSITIVE  0.850611   NEGATIVE  0.645700  \n",
       "63  POSITIVE  0.999573   POSITIVE  0.974959  \n",
       "64  POSITIVE  0.912811   POSITIVE  0.775271  \n",
       "65  NEGATIVE  0.996294   NEGATIVE  0.659827  \n",
       "66  NEGATIVE  0.998580   NEGATIVE  0.946820  \n",
       "68  POSITIVE  0.999542   NEGATIVE  0.953546  \n",
       "69  NEGATIVE  0.995353   NEGATIVE  0.998772  \n",
       "70  NEGATIVE  0.995795   POSITIVE  0.989044  \n",
       "71  POSITIVE  0.999707   POSITIVE  0.999025  \n",
       "72  NEGATIVE  0.935111   NEGATIVE  0.984955  \n",
       "73  NEGATIVE  0.999514   NEGATIVE  0.997244  \n",
       "74  NEGATIVE  0.989552   NEGATIVE  0.987578  \n",
       "75  POSITIVE  0.999736   POSITIVE  0.984442  \n",
       "76  NEGATIVE  0.999372   NEGATIVE  0.998743  \n",
       "77  NEGATIVE  0.950006   NEGATIVE  0.991148  \n",
       "78  NEGATIVE  0.895512   NEGATIVE  0.996000  \n",
       "79  NEGATIVE  0.996197   POSITIVE  0.991648  \n",
       "80  POSITIVE  0.986317   NEGATIVE  0.957962  \n",
       "81  POSITIVE  0.963440   POSITIVE  0.999430  \n",
       "82  NEGATIVE  0.993042   NEGATIVE  0.996408  \n",
       "83  NEGATIVE  0.994501   NEGATIVE  0.995356  \n",
       "85  POSITIVE  0.999338   POSITIVE  0.966172  \n",
       "86  NEGATIVE  0.990800   POSITIVE  0.999732  \n",
       "87  POSITIVE  0.998002   NEGATIVE  0.997427  \n",
       "88  POSITIVE  0.997321   POSITIVE  0.998356  \n",
       "89  NEGATIVE  0.961272   NEGATIVE  0.996572  \n",
       "90  NEGATIVE  0.999654   NEGATIVE  0.996510  \n",
       "91  NEGATIVE  0.951243   POSITIVE  0.995849  \n",
       "92  POSITIVE  0.997166   POSITIVE  0.999590  \n",
       "93  NEGATIVE  0.998539   NEGATIVE  0.999618  \n",
       "94  NEGATIVE  0.999713   NEGATIVE  0.989896  \n",
       "95  NEGATIVE  0.964898   NEGATIVE  0.997883  \n",
       "96  NEGATIVE  0.999697   NEGATIVE  0.999093  \n",
       "97  NEGATIVE  0.993341   NEGATIVE  0.973812  \n",
       "98  POSITIVE  0.982396   NEGATIVE  0.968442  \n",
       "99  POSITIVE  0.998762   NEGATIVE  0.992154  "
      ]
     },
     "execution_count": 14,
     "metadata": {},
     "output_type": "execute_result"
    }
   ],
   "source": [
    "news_df[news_df['Score'] > 0.8]"
   ]
  },
  {
   "attachments": {},
   "cell_type": "markdown",
   "metadata": {},
   "source": [
    "# Headline Sentiment"
   ]
  },
  {
   "cell_type": "code",
   "execution_count": 15,
   "metadata": {},
   "outputs": [
    {
     "data": {
      "text/plain": [
       "<AxesSubplot:xlabel='Sentiment', ylabel='Count'>"
      ]
     },
     "execution_count": 15,
     "metadata": {},
     "output_type": "execute_result"
    },
    {
     "data": {
      "image/png": "[encoded data removed]",
      "text/plain": [
       "<Figure size 432x288 with 1 Axes>"
      ]
     },
     "metadata": {
      "needs_background": "light"
     },
     "output_type": "display_data"
    }
   ],
   "source": [
    "sns.histplot(x = 'Sentiment', data = news_df[news_df['Score'] > 0.8], hue = 'Sentiment', hue_order=['POSITIVE', 'NEGATIVE'])"
   ]
  },
  {
   "attachments": {},
   "cell_type": "markdown",
   "metadata": {},
   "source": [
    "# Content Sentiment"
   ]
  },
  {
   "cell_type": "code",
   "execution_count": 16,
   "metadata": {},
   "outputs": [
    {
     "data": {
      "text/plain": [
       "<AxesSubplot:xlabel='Sentiment2', ylabel='Count'>"
      ]
     },
     "execution_count": 16,
     "metadata": {},
     "output_type": "execute_result"
    },
    {
     "data": {
      "image/png": "[encoded data removed]",
      "text/plain": [
       "<Figure size 432x288 with 1 Axes>"
      ]
     },
     "metadata": {
      "needs_background": "light"
     },
     "output_type": "display_data"
    }
   ],
   "source": [
    "sns.histplot(x = 'Sentiment2', data = news_df[news_df['Score2'] > 0.8], hue = 'Sentiment2', hue_order=['POSITIVE', 'NEGATIVE'])"
   ]
  },
  {
   "attachments": {},
   "cell_type": "markdown",
   "metadata": {},
   "source": [
    "# Headline Trigram"
   ]
  },
  {
   "cell_type": "code",
   "execution_count": 17,
   "metadata": {},
   "outputs": [
    {
     "name": "stderr",
     "output_type": "stream",
     "text": [
      "c:\\Users\\Woon\\AppData\\Local\\Programs\\Python\\Python310\\lib\\site-packages\\plotly\\tools.py:460: DeprecationWarning:\n",
      "\n",
      "plotly.tools.make_subplots is deprecated, please use plotly.subplots.make_subplots instead\n",
      "\n"
     ]
    },
    {
     "data": {
      "application/vnd.plotly.v1+json": {
       "config": {
        "linkText": "Export to plot.ly",
        "plotlyServerURL": "https://plot.ly",
        "showLink": false
       },
       "data": [
        {
         "marker": {
          "color": "green"
         },
         "orientation": "h",
         "showlegend": false,
         "type": "bar",
         "x": [
          2,
          2,
          2,
          2,
          2,
          2,
          2,
          2,
          2,
          2,
          2,
          2,
          2,
          3,
          3,
          3,
          3,
          3,
          4,
          5
         ],
         "xaxis": "x",
         "y": [
          "Gas Stock Roundup",
          "Exxon Mobil Pioneer",
          "Market Gains What",
          "Gains What You",
          "Mobil Corporation XOM",
          "Shale Driller Pioneer",
          "Exxon Mobil Eyes",
          "Stocks Buy Now",
          "3 Energy Stocks",
          "The 7 Best",
          "Exxon Mobils NYSEXOM",
          "Stocks To Buy",
          "3 Dividend Stocks",
          "Exxon Mobil XOM",
          "What You Should",
          "You Should Know",
          "Mobil Corporation NYSEXOM",
          "Dividend Stocks Buy",
          "Pioneer Natural Resources",
          "Exxon Mobil Corporation"
         ],
         "yaxis": "y"
        }
       ],
       "layout": {
        "annotations": [
         {
          "font": {
           "size": 16
          },
          "showarrow": false,
          "text": "Frequent words",
          "x": 0.5,
          "xanchor": "center",
          "xref": "paper",
          "y": 1,
          "yanchor": "bottom",
          "yref": "paper"
         }
        ],
        "height": 600,
        "paper_bgcolor": "rgb(233,233,233)",
        "template": {
         "data": {
          "bar": [
           {
            "error_x": {
             "color": "#2a3f5f"
            },
            "error_y": {
             "color": "#2a3f5f"
            },
            "marker": {
             "line": {
              "color": "#E5ECF6",
              "width": 0.5
             },
             "pattern": {
              "fillmode": "overlay",
              "size": 10,
              "solidity": 0.2
             }
            },
            "type": "bar"
           }
          ],
          "barpolar": [
           {
            "marker": {
             "line": {
              "color": "#E5ECF6",
              "width": 0.5
             },
             "pattern": {
              "fillmode": "overlay",
              "size": 10,
              "solidity": 0.2
             }
            },
            "type": "barpolar"
           }
          ],
          "carpet": [
           {
            "aaxis": {
             "endlinecolor": "#2a3f5f",
             "gridcolor": "white",
             "linecolor": "white",
             "minorgridcolor": "white",
             "startlinecolor": "#2a3f5f"
            },
            "baxis": {
             "endlinecolor": "#2a3f5f",
             "gridcolor": "white",
             "linecolor": "white",
             "minorgridcolor": "white",
             "startlinecolor": "#2a3f5f"
            },
            "type": "carpet"
           }
          ],
          "choropleth": [
           {
            "colorbar": {
             "outlinewidth": 0,
             "ticks": ""
            },
            "type": "choropleth"
           }
          ],
          "contour": [
           {
            "colorbar": {
             "outlinewidth": 0,
             "ticks": ""
            },
            "colorscale": [
             [
              0,
              "#0d0887"
             ],
             [
              0.1111111111111111,
              "#46039f"
             ],
             [
              0.2222222222222222,
              "#7201a8"
             ],
             [
              0.3333333333333333,
              "#9c179e"
             ],
             [
              0.4444444444444444,
              "#bd3786"
             ],
             [
              0.5555555555555556,
              "#d8576b"
             ],
             [
              0.6666666666666666,
              "#ed7953"
             ],
             [
              0.7777777777777778,
              "#fb9f3a"
             ],
             [
              0.8888888888888888,
              "#fdca26"
             ],
             [
              1,
              "#f0f921"
             ]
            ],
            "type": "contour"
           }
          ],
          "contourcarpet": [
           {
            "colorbar": {
             "outlinewidth": 0,
             "ticks": ""
            },
            "type": "contourcarpet"
           }
          ],
          "heatmap": [
           {
            "colorbar": {
             "outlinewidth": 0,
             "ticks": ""
            },
            "colorscale": [
             [
              0,
              "#0d0887"
             ],
             [
              0.1111111111111111,
              "#46039f"
             ],
             [
              0.2222222222222222,
              "#7201a8"
             ],
             [
              0.3333333333333333,
              "#9c179e"
             ],
             [
              0.4444444444444444,
              "#bd3786"
             ],
             [
              0.5555555555555556,
              "#d8576b"
             ],
             [
              0.6666666666666666,
              "#ed7953"
             ],
             [
              0.7777777777777778,
              "#fb9f3a"
             ],
             [
              0.8888888888888888,
              "#fdca26"
             ],
             [
              1,
              "#f0f921"
             ]
            ],
            "type": "heatmap"
           }
          ],
          "heatmapgl": [
           {
            "colorbar": {
             "outlinewidth": 0,
             "ticks": ""
            },
            "colorscale": [
             [
              0,
              "#0d0887"
             ],
             [
              0.1111111111111111,
              "#46039f"
             ],
             [
              0.2222222222222222,
              "#7201a8"
             ],
             [
              0.3333333333333333,
              "#9c179e"
             ],
             [
              0.4444444444444444,
              "#bd3786"
             ],
             [
              0.5555555555555556,
              "#d8576b"
             ],
             [
              0.6666666666666666,
              "#ed7953"
             ],
             [
              0.7777777777777778,
              "#fb9f3a"
             ],
             [
              0.8888888888888888,
              "#fdca26"
             ],
             [
              1,
              "#f0f921"
             ]
            ],
            "type": "heatmapgl"
           }
          ],
          "histogram": [
           {
            "marker": {
             "pattern": {
              "fillmode": "overlay",
              "size": 10,
              "solidity": 0.2
             }
            },
            "type": "histogram"
           }
          ],
          "histogram2d": [
           {
            "colorbar": {
             "outlinewidth": 0,
             "ticks": ""
            },
            "colorscale": [
             [
              0,
              "#0d0887"
             ],
             [
              0.1111111111111111,
              "#46039f"
             ],
             [
              0.2222222222222222,
              "#7201a8"
             ],
             [
              0.3333333333333333,
              "#9c179e"
             ],
             [
              0.4444444444444444,
              "#bd3786"
             ],
             [
              0.5555555555555556,
              "#d8576b"
             ],
             [
              0.6666666666666666,
              "#ed7953"
             ],
             [
              0.7777777777777778,
              "#fb9f3a"
             ],
             [
              0.8888888888888888,
              "#fdca26"
             ],
             [
              1,
              "#f0f921"
             ]
            ],
            "type": "histogram2d"
           }
          ],
          "histogram2dcontour": [
           {
            "colorbar": {
             "outlinewidth": 0,
             "ticks": ""
            },
            "colorscale": [
             [
              0,
              "#0d0887"
             ],
             [
              0.1111111111111111,
              "#46039f"
             ],
             [
              0.2222222222222222,
              "#7201a8"
             ],
             [
              0.3333333333333333,
              "#9c179e"
             ],
             [
              0.4444444444444444,
              "#bd3786"
             ],
             [
              0.5555555555555556,
              "#d8576b"
             ],
             [
              0.6666666666666666,
              "#ed7953"
             ],
             [
              0.7777777777777778,
              "#fb9f3a"
             ],
             [
              0.8888888888888888,
              "#fdca26"
             ],
             [
              1,
              "#f0f921"
             ]
            ],
            "type": "histogram2dcontour"
           }
          ],
          "mesh3d": [
           {
            "colorbar": {
             "outlinewidth": 0,
             "ticks": ""
            },
            "type": "mesh3d"
           }
          ],
          "parcoords": [
           {
            "line": {
             "colorbar": {
              "outlinewidth": 0,
              "ticks": ""
             }
            },
            "type": "parcoords"
           }
          ],
          "pie": [
           {
            "automargin": true,
            "type": "pie"
           }
          ],
          "scatter": [
           {
            "fillpattern": {
             "fillmode": "overlay",
             "size": 10,
             "solidity": 0.2
            },
            "type": "scatter"
           }
          ],
          "scatter3d": [
           {
            "line": {
             "colorbar": {
              "outlinewidth": 0,
              "ticks": ""
             }
            },
            "marker": {
             "colorbar": {
              "outlinewidth": 0,
              "ticks": ""
             }
            },
            "type": "scatter3d"
           }
          ],
          "scattercarpet": [
           {
            "marker": {
             "colorbar": {
              "outlinewidth": 0,
              "ticks": ""
             }
            },
            "type": "scattercarpet"
           }
          ],
          "scattergeo": [
           {
            "marker": {
             "colorbar": {
              "outlinewidth": 0,
              "ticks": ""
             }
            },
            "type": "scattergeo"
           }
          ],
          "scattergl": [
           {
            "marker": {
             "colorbar": {
              "outlinewidth": 0,
              "ticks": ""
             }
            },
            "type": "scattergl"
           }
          ],
          "scattermapbox": [
           {
            "marker": {
             "colorbar": {
              "outlinewidth": 0,
              "ticks": ""
             }
            },
            "type": "scattermapbox"
           }
          ],
          "scatterpolar": [
           {
            "marker": {
             "colorbar": {
              "outlinewidth": 0,
              "ticks": ""
             }
            },
            "type": "scatterpolar"
           }
          ],
          "scatterpolargl": [
           {
            "marker": {
             "colorbar": {
              "outlinewidth": 0,
              "ticks": ""
             }
            },
            "type": "scatterpolargl"
           }
          ],
          "scatterternary": [
           {
            "marker": {
             "colorbar": {
              "outlinewidth": 0,
              "ticks": ""
             }
            },
            "type": "scatterternary"
           }
          ],
          "surface": [
           {
            "colorbar": {
             "outlinewidth": 0,
             "ticks": ""
            },
            "colorscale": [
             [
              0,
              "#0d0887"
             ],
             [
              0.1111111111111111,
              "#46039f"
             ],
             [
              0.2222222222222222,
              "#7201a8"
             ],
             [
              0.3333333333333333,
              "#9c179e"
             ],
             [
              0.4444444444444444,
              "#bd3786"
             ],
             [
              0.5555555555555556,
              "#d8576b"
             ],
             [
              0.6666666666666666,
              "#ed7953"
             ],
             [
              0.7777777777777778,
              "#fb9f3a"
             ],
             [
              0.8888888888888888,
              "#fdca26"
             ],
             [
              1,
              "#f0f921"
             ]
            ],
            "type": "surface"
           }
          ],
          "table": [
           {
            "cells": {
             "fill": {
              "color": "#EBF0F8"
             },
             "line": {
              "color": "white"
             }
            },
            "header": {
             "fill": {
              "color": "#C8D4E3"
             },
             "line": {
              "color": "white"
             }
            },
            "type": "table"
           }
          ]
         },
         "layout": {
          "annotationdefaults": {
           "arrowcolor": "#2a3f5f",
           "arrowhead": 0,
           "arrowwidth": 1
          },
          "autotypenumbers": "strict",
          "coloraxis": {
           "colorbar": {
            "outlinewidth": 0,
            "ticks": ""
           }
          },
          "colorscale": {
           "diverging": [
            [
             0,
             "#8e0152"
            ],
            [
             0.1,
             "#c51b7d"
            ],
            [
             0.2,
             "#de77ae"
            ],
            [
             0.3,
             "#f1b6da"
            ],
            [
             0.4,
             "#fde0ef"
            ],
            [
             0.5,
             "#f7f7f7"
            ],
            [
             0.6,
             "#e6f5d0"
            ],
            [
             0.7,
             "#b8e186"
            ],
            [
             0.8,
             "#7fbc41"
            ],
            [
             0.9,
             "#4d9221"
            ],
            [
             1,
             "#276419"
            ]
           ],
           "sequential": [
            [
             0,
             "#0d0887"
            ],
            [
             0.1111111111111111,
             "#46039f"
            ],
            [
             0.2222222222222222,
             "#7201a8"
            ],
            [
             0.3333333333333333,
             "#9c179e"
            ],
            [
             0.4444444444444444,
             "#bd3786"
            ],
            [
             0.5555555555555556,
             "#d8576b"
            ],
            [
             0.6666666666666666,
             "#ed7953"
            ],
            [
             0.7777777777777778,
             "#fb9f3a"
            ],
            [
             0.8888888888888888,
             "#fdca26"
            ],
            [
             1,
             "#f0f921"
            ]
           ],
           "sequentialminus": [
            [
             0,
             "#0d0887"
            ],
            [
             0.1111111111111111,
             "#46039f"
            ],
            [
             0.2222222222222222,
             "#7201a8"
            ],
            [
             0.3333333333333333,
             "#9c179e"
            ],
            [
             0.4444444444444444,
             "#bd3786"
            ],
            [
             0.5555555555555556,
             "#d8576b"
            ],
            [
             0.6666666666666666,
             "#ed7953"
            ],
            [
             0.7777777777777778,
             "#fb9f3a"
            ],
            [
             0.8888888888888888,
             "#fdca26"
            ],
            [
             1,
             "#f0f921"
            ]
           ]
          },
          "colorway": [
           "#636efa",
           "#EF553B",
           "#00cc96",
           "#ab63fa",
           "#FFA15A",
           "#19d3f3",
           "#FF6692",
           "#B6E880",
           "#FF97FF",
           "#FECB52"
          ],
          "font": {
           "color": "#2a3f5f"
          },
          "geo": {
           "bgcolor": "white",
           "lakecolor": "white",
           "landcolor": "#E5ECF6",
           "showlakes": true,
           "showland": true,
           "subunitcolor": "white"
          },
          "hoverlabel": {
           "align": "left"
          },
          "hovermode": "closest",
          "mapbox": {
           "style": "light"
          },
          "paper_bgcolor": "white",
          "plot_bgcolor": "#E5ECF6",
          "polar": {
           "angularaxis": {
            "gridcolor": "white",
            "linecolor": "white",
            "ticks": ""
           },
           "bgcolor": "#E5ECF6",
           "radialaxis": {
            "gridcolor": "white",
            "linecolor": "white",
            "ticks": ""
           }
          },
          "scene": {
           "xaxis": {
            "backgroundcolor": "#E5ECF6",
            "gridcolor": "white",
            "gridwidth": 2,
            "linecolor": "white",
            "showbackground": true,
            "ticks": "",
            "zerolinecolor": "white"
           },
           "yaxis": {
            "backgroundcolor": "#E5ECF6",
            "gridcolor": "white",
            "gridwidth": 2,
            "linecolor": "white",
            "showbackground": true,
            "ticks": "",
            "zerolinecolor": "white"
           },
           "zaxis": {
            "backgroundcolor": "#E5ECF6",
            "gridcolor": "white",
            "gridwidth": 2,
            "linecolor": "white",
            "showbackground": true,
            "ticks": "",
            "zerolinecolor": "white"
           }
          },
          "shapedefaults": {
           "line": {
            "color": "#2a3f5f"
           }
          },
          "ternary": {
           "aaxis": {
            "gridcolor": "white",
            "linecolor": "white",
            "ticks": ""
           },
           "baxis": {
            "gridcolor": "white",
            "linecolor": "white",
            "ticks": ""
           },
           "bgcolor": "#E5ECF6",
           "caxis": {
            "gridcolor": "white",
            "linecolor": "white",
            "ticks": ""
           }
          },
          "title": {
           "x": 0.05
          },
          "xaxis": {
           "automargin": true,
           "gridcolor": "white",
           "linecolor": "white",
           "ticks": "",
           "title": {
            "standoff": 15
           },
           "zerolinecolor": "white",
           "zerolinewidth": 2
          },
          "yaxis": {
           "automargin": true,
           "gridcolor": "white",
           "linecolor": "white",
           "ticks": "",
           "title": {
            "standoff": 15
           },
           "zerolinecolor": "white",
           "zerolinewidth": 2
          }
         }
        },
        "title": {
         "text": "Word Count Plots"
        },
        "width": 600,
        "xaxis": {
         "anchor": "y",
         "domain": [
          0,
          1
         ]
        },
        "yaxis": {
         "anchor": "x",
         "domain": [
          0,
          1
         ]
        }
       }
      },
      "text/html": [
       "<div>                            <div id=\"9704c7a8-b621-4a58-b2a5-148234c3bf9a\" class=\"plotly-graph-div\" style=\"height:600px; width:600px;\"></div>            <script type=\"text/javascript\">                require([\"plotly\"], function(Plotly) {                    window.PLOTLYENV=window.PLOTLYENV || {};                                    if (document.getElementById(\"9704c7a8-b621-4a58-b2a5-148234c3bf9a\")) {                    Plotly.newPlot(                        \"9704c7a8-b621-4a58-b2a5-148234c3bf9a\",                        [{\"marker\":{\"color\":\"green\"},\"orientation\":\"h\",\"showlegend\":false,\"x\":[2,2,2,2,2,2,2,2,2,2,2,2,2,3,3,3,3,3,4,5],\"xaxis\":\"x\",\"y\":[\"Gas Stock Roundup\",\"Exxon Mobil Pioneer\",\"Market Gains What\",\"Gains What You\",\"Mobil Corporation XOM\",\"Shale Driller Pioneer\",\"Exxon Mobil Eyes\",\"Stocks Buy Now\",\"3 Energy Stocks\",\"The 7 Best\",\"Exxon Mobils NYSEXOM\",\"Stocks To Buy\",\"3 Dividend Stocks\",\"Exxon Mobil XOM\",\"What You Should\",\"You Should Know\",\"Mobil Corporation NYSEXOM\",\"Dividend Stocks Buy\",\"Pioneer Natural Resources\",\"Exxon Mobil Corporation\"],\"yaxis\":\"y\",\"type\":\"bar\"}],                        {\"annotations\":[{\"font\":{\"size\":16},\"showarrow\":false,\"text\":\"Frequent words\",\"x\":0.5,\"xanchor\":\"center\",\"xref\":\"paper\",\"y\":1.0,\"yanchor\":\"bottom\",\"yref\":\"paper\"}],\"height\":600,\"paper_bgcolor\":\"rgb(233,233,233)\",\"template\":{\"data\":{\"barpolar\":[{\"marker\":{\"line\":{\"color\":\"#E5ECF6\",\"width\":0.5},\"pattern\":{\"fillmode\":\"overlay\",\"size\":10,\"solidity\":0.2}},\"type\":\"barpolar\"}],\"bar\":[{\"error_x\":{\"color\":\"#2a3f5f\"},\"error_y\":{\"color\":\"#2a3f5f\"},\"marker\":{\"line\":{\"color\":\"#E5ECF6\",\"width\":0.5},\"pattern\":{\"fillmode\":\"overlay\",\"size\":10,\"solidity\":0.2}},\"type\":\"bar\"}],\"carpet\":[{\"aaxis\":{\"endlinecolor\":\"#2a3f5f\",\"gridcolor\":\"white\",\"linecolor\":\"white\",\"minorgridcolor\":\"white\",\"startlinecolor\":\"#2a3f5f\"},\"baxis\":{\"endlinecolor\":\"#2a3f5f\",\"gridcolor\":\"white\",\"linecolor\":\"white\",\"minorgridcolor\":\"white\",\"startlinecolor\":\"#2a3f5f\"},\"type\":\"carpet\"}],\"choropleth\":[{\"colorbar\":{\"outlinewidth\":0,\"ticks\":\"\"},\"type\":\"choropleth\"}],\"contourcarpet\":[{\"colorbar\":{\"outlinewidth\":0,\"ticks\":\"\"},\"type\":\"contourcarpet\"}],\"contour\":[{\"colorbar\":{\"outlinewidth\":0,\"ticks\":\"\"},\"colorscale\":[[0.0,\"#0d0887\"],[0.1111111111111111,\"#46039f\"],[0.2222222222222222,\"#7201a8\"],[0.3333333333333333,\"#9c179e\"],[0.4444444444444444,\"#bd3786\"],[0.5555555555555556,\"#d8576b\"],[0.6666666666666666,\"#ed7953\"],[0.7777777777777778,\"#fb9f3a\"],[0.8888888888888888,\"#fdca26\"],[1.0,\"#f0f921\"]],\"type\":\"contour\"}],\"heatmapgl\":[{\"colorbar\":{\"outlinewidth\":0,\"ticks\":\"\"},\"colorscale\":[[0.0,\"#0d0887\"],[0.1111111111111111,\"#46039f\"],[0.2222222222222222,\"#7201a8\"],[0.3333333333333333,\"#9c179e\"],[0.4444444444444444,\"#bd3786\"],[0.5555555555555556,\"#d8576b\"],[0.6666666666666666,\"#ed7953\"],[0.7777777777777778,\"#fb9f3a\"],[0.8888888888888888,\"#fdca26\"],[1.0,\"#f0f921\"]],\"type\":\"heatmapgl\"}],\"heatmap\":[{\"colorbar\":{\"outlinewidth\":0,\"ticks\":\"\"},\"colorscale\":[[0.0,\"#0d0887\"],[0.1111111111111111,\"#46039f\"],[0.2222222222222222,\"#7201a8\"],[0.3333333333333333,\"#9c179e\"],[0.4444444444444444,\"#bd3786\"],[0.5555555555555556,\"#d8576b\"],[0.6666666666666666,\"#ed7953\"],[0.7777777777777778,\"#fb9f3a\"],[0.8888888888888888,\"#fdca26\"],[1.0,\"#f0f921\"]],\"type\":\"heatmap\"}],\"histogram2dcontour\":[{\"colorbar\":{\"outlinewidth\":0,\"ticks\":\"\"},\"colorscale\":[[0.0,\"#0d0887\"],[0.1111111111111111,\"#46039f\"],[0.2222222222222222,\"#7201a8\"],[0.3333333333333333,\"#9c179e\"],[0.4444444444444444,\"#bd3786\"],[0.5555555555555556,\"#d8576b\"],[0.6666666666666666,\"#ed7953\"],[0.7777777777777778,\"#fb9f3a\"],[0.8888888888888888,\"#fdca26\"],[1.0,\"#f0f921\"]],\"type\":\"histogram2dcontour\"}],\"histogram2d\":[{\"colorbar\":{\"outlinewidth\":0,\"ticks\":\"\"},\"colorscale\":[[0.0,\"#0d0887\"],[0.1111111111111111,\"#46039f\"],[0.2222222222222222,\"#7201a8\"],[0.3333333333333333,\"#9c179e\"],[0.4444444444444444,\"#bd3786\"],[0.5555555555555556,\"#d8576b\"],[0.6666666666666666,\"#ed7953\"],[0.7777777777777778,\"#fb9f3a\"],[0.8888888888888888,\"#fdca26\"],[1.0,\"#f0f921\"]],\"type\":\"histogram2d\"}],\"histogram\":[{\"marker\":{\"pattern\":{\"fillmode\":\"overlay\",\"size\":10,\"solidity\":0.2}},\"type\":\"histogram\"}],\"mesh3d\":[{\"colorbar\":{\"outlinewidth\":0,\"ticks\":\"\"},\"type\":\"mesh3d\"}],\"parcoords\":[{\"line\":{\"colorbar\":{\"outlinewidth\":0,\"ticks\":\"\"}},\"type\":\"parcoords\"}],\"pie\":[{\"automargin\":true,\"type\":\"pie\"}],\"scatter3d\":[{\"line\":{\"colorbar\":{\"outlinewidth\":0,\"ticks\":\"\"}},\"marker\":{\"colorbar\":{\"outlinewidth\":0,\"ticks\":\"\"}},\"type\":\"scatter3d\"}],\"scattercarpet\":[{\"marker\":{\"colorbar\":{\"outlinewidth\":0,\"ticks\":\"\"}},\"type\":\"scattercarpet\"}],\"scattergeo\":[{\"marker\":{\"colorbar\":{\"outlinewidth\":0,\"ticks\":\"\"}},\"type\":\"scattergeo\"}],\"scattergl\":[{\"marker\":{\"colorbar\":{\"outlinewidth\":0,\"ticks\":\"\"}},\"type\":\"scattergl\"}],\"scattermapbox\":[{\"marker\":{\"colorbar\":{\"outlinewidth\":0,\"ticks\":\"\"}},\"type\":\"scattermapbox\"}],\"scatterpolargl\":[{\"marker\":{\"colorbar\":{\"outlinewidth\":0,\"ticks\":\"\"}},\"type\":\"scatterpolargl\"}],\"scatterpolar\":[{\"marker\":{\"colorbar\":{\"outlinewidth\":0,\"ticks\":\"\"}},\"type\":\"scatterpolar\"}],\"scatter\":[{\"fillpattern\":{\"fillmode\":\"overlay\",\"size\":10,\"solidity\":0.2},\"type\":\"scatter\"}],\"scatterternary\":[{\"marker\":{\"colorbar\":{\"outlinewidth\":0,\"ticks\":\"\"}},\"type\":\"scatterternary\"}],\"surface\":[{\"colorbar\":{\"outlinewidth\":0,\"ticks\":\"\"},\"colorscale\":[[0.0,\"#0d0887\"],[0.1111111111111111,\"#46039f\"],[0.2222222222222222,\"#7201a8\"],[0.3333333333333333,\"#9c179e\"],[0.4444444444444444,\"#bd3786\"],[0.5555555555555556,\"#d8576b\"],[0.6666666666666666,\"#ed7953\"],[0.7777777777777778,\"#fb9f3a\"],[0.8888888888888888,\"#fdca26\"],[1.0,\"#f0f921\"]],\"type\":\"surface\"}],\"table\":[{\"cells\":{\"fill\":{\"color\":\"#EBF0F8\"},\"line\":{\"color\":\"white\"}},\"header\":{\"fill\":{\"color\":\"#C8D4E3\"},\"line\":{\"color\":\"white\"}},\"type\":\"table\"}]},\"layout\":{\"annotationdefaults\":{\"arrowcolor\":\"#2a3f5f\",\"arrowhead\":0,\"arrowwidth\":1},\"autotypenumbers\":\"strict\",\"coloraxis\":{\"colorbar\":{\"outlinewidth\":0,\"ticks\":\"\"}},\"colorscale\":{\"diverging\":[[0,\"#8e0152\"],[0.1,\"#c51b7d\"],[0.2,\"#de77ae\"],[0.3,\"#f1b6da\"],[0.4,\"#fde0ef\"],[0.5,\"#f7f7f7\"],[0.6,\"#e6f5d0\"],[0.7,\"#b8e186\"],[0.8,\"#7fbc41\"],[0.9,\"#4d9221\"],[1,\"#276419\"]],\"sequential\":[[0.0,\"#0d0887\"],[0.1111111111111111,\"#46039f\"],[0.2222222222222222,\"#7201a8\"],[0.3333333333333333,\"#9c179e\"],[0.4444444444444444,\"#bd3786\"],[0.5555555555555556,\"#d8576b\"],[0.6666666666666666,\"#ed7953\"],[0.7777777777777778,\"#fb9f3a\"],[0.8888888888888888,\"#fdca26\"],[1.0,\"#f0f921\"]],\"sequentialminus\":[[0.0,\"#0d0887\"],[0.1111111111111111,\"#46039f\"],[0.2222222222222222,\"#7201a8\"],[0.3333333333333333,\"#9c179e\"],[0.4444444444444444,\"#bd3786\"],[0.5555555555555556,\"#d8576b\"],[0.6666666666666666,\"#ed7953\"],[0.7777777777777778,\"#fb9f3a\"],[0.8888888888888888,\"#fdca26\"],[1.0,\"#f0f921\"]]},\"colorway\":[\"#636efa\",\"#EF553B\",\"#00cc96\",\"#ab63fa\",\"#FFA15A\",\"#19d3f3\",\"#FF6692\",\"#B6E880\",\"#FF97FF\",\"#FECB52\"],\"font\":{\"color\":\"#2a3f5f\"},\"geo\":{\"bgcolor\":\"white\",\"lakecolor\":\"white\",\"landcolor\":\"#E5ECF6\",\"showlakes\":true,\"showland\":true,\"subunitcolor\":\"white\"},\"hoverlabel\":{\"align\":\"left\"},\"hovermode\":\"closest\",\"mapbox\":{\"style\":\"light\"},\"paper_bgcolor\":\"white\",\"plot_bgcolor\":\"#E5ECF6\",\"polar\":{\"angularaxis\":{\"gridcolor\":\"white\",\"linecolor\":\"white\",\"ticks\":\"\"},\"bgcolor\":\"#E5ECF6\",\"radialaxis\":{\"gridcolor\":\"white\",\"linecolor\":\"white\",\"ticks\":\"\"}},\"scene\":{\"xaxis\":{\"backgroundcolor\":\"#E5ECF6\",\"gridcolor\":\"white\",\"gridwidth\":2,\"linecolor\":\"white\",\"showbackground\":true,\"ticks\":\"\",\"zerolinecolor\":\"white\"},\"yaxis\":{\"backgroundcolor\":\"#E5ECF6\",\"gridcolor\":\"white\",\"gridwidth\":2,\"linecolor\":\"white\",\"showbackground\":true,\"ticks\":\"\",\"zerolinecolor\":\"white\"},\"zaxis\":{\"backgroundcolor\":\"#E5ECF6\",\"gridcolor\":\"white\",\"gridwidth\":2,\"linecolor\":\"white\",\"showbackground\":true,\"ticks\":\"\",\"zerolinecolor\":\"white\"}},\"shapedefaults\":{\"line\":{\"color\":\"#2a3f5f\"}},\"ternary\":{\"aaxis\":{\"gridcolor\":\"white\",\"linecolor\":\"white\",\"ticks\":\"\"},\"baxis\":{\"gridcolor\":\"white\",\"linecolor\":\"white\",\"ticks\":\"\"},\"bgcolor\":\"#E5ECF6\",\"caxis\":{\"gridcolor\":\"white\",\"linecolor\":\"white\",\"ticks\":\"\"}},\"title\":{\"x\":0.05},\"xaxis\":{\"automargin\":true,\"gridcolor\":\"white\",\"linecolor\":\"white\",\"ticks\":\"\",\"title\":{\"standoff\":15},\"zerolinecolor\":\"white\",\"zerolinewidth\":2},\"yaxis\":{\"automargin\":true,\"gridcolor\":\"white\",\"linecolor\":\"white\",\"ticks\":\"\",\"title\":{\"standoff\":15},\"zerolinecolor\":\"white\",\"zerolinewidth\":2}}},\"title\":{\"text\":\"Word Count Plots\"},\"width\":600,\"xaxis\":{\"anchor\":\"y\",\"domain\":[0.0,1.0]},\"yaxis\":{\"anchor\":\"x\",\"domain\":[0.0,1.0]}},                        {\"responsive\": true}                    ).then(function(){\n",
       "                            \n",
       "var gd = document.getElementById('9704c7a8-b621-4a58-b2a5-148234c3bf9a');\n",
       "var x = new MutationObserver(function (mutations, observer) {{\n",
       "        var display = window.getComputedStyle(gd).display;\n",
       "        if (!display || display === 'none') {{\n",
       "            console.log([gd, 'removed!']);\n",
       "            Plotly.purge(gd);\n",
       "            observer.disconnect();\n",
       "        }}\n",
       "}});\n",
       "\n",
       "// Listen for the removal of the full notebook cells\n",
       "var notebookContainer = gd.closest('#notebook-container');\n",
       "if (notebookContainer) {{\n",
       "    x.observe(notebookContainer, {childList: true});\n",
       "}}\n",
       "\n",
       "// Listen for the clearing of the current output cell\n",
       "var outputEl = gd.closest('.output');\n",
       "if (outputEl) {{\n",
       "    x.observe(outputEl, {childList: true});\n",
       "}}\n",
       "\n",
       "                        })                };                });            </script>        </div>"
      ]
     },
     "metadata": {},
     "output_type": "display_data"
    }
   ],
   "source": [
    "## Get the bar chart from 5 rated reviews ##\n",
    "freq_dict = defaultdict(int)\n",
    "for sent in news_df[\"headline\"]:\n",
    "    for word in generate_ngrams(sent,3):\n",
    "        freq_dict[word] += 1\n",
    "fd_sorted = pd.DataFrame(sorted(freq_dict.items(), key=lambda x: x[1])[::-1])\n",
    "fd_sorted.columns = [\"word\", \"wordcount\"]\n",
    "trace0 = horizontal_bar_chart(fd_sorted.head(20), 'green')\n",
    "\n",
    "# Creating two subplots\n",
    "fig = tools.make_subplots(rows=1, cols=1, vertical_spacing=0.04,\n",
    "                          subplot_titles=[\"Frequent words\"])\n",
    "fig.append_trace(trace0, 1, 1)\n",
    "#fig.append_trace(trace1, 1, 2)\n",
    "fig['layout'].update(height=600, width=600, paper_bgcolor='rgb(233,233,233)', title=\"Word Count Plots\")\n",
    "py.iplot(fig, filename='word-plots');"
   ]
  },
  {
   "attachments": {},
   "cell_type": "markdown",
   "metadata": {},
   "source": [
    "# Content Trigram"
   ]
  },
  {
   "cell_type": "code",
   "execution_count": 18,
   "metadata": {},
   "outputs": [
    {
     "name": "stderr",
     "output_type": "stream",
     "text": [
      "c:\\Users\\Woon\\AppData\\Local\\Programs\\Python\\Python310\\lib\\site-packages\\plotly\\tools.py:460: DeprecationWarning:\n",
      "\n",
      "plotly.tools.make_subplots is deprecated, please use plotly.subplots.make_subplots instead\n",
      "\n"
     ]
    },
    {
     "data": {
      "application/vnd.plotly.v1+json": {
       "config": {
        "linkText": "Export to plot.ly",
        "plotlyServerURL": "https://plot.ly",
        "showLink": false
       },
       "data": [
        {
         "marker": {
          "color": "green"
         },
         "orientation": "h",
         "showlegend": false,
         "type": "bar",
         "x": [
          3,
          3,
          3,
          3,
          3,
          3,
          3,
          4,
          4,
          4,
          4,
          5,
          5,
          5,
          5,
          5,
          6,
          6,
          7,
          9
         ],
         "xaxis": "x",
         "y": [
          "Chevron NYSE CVX",
          "take look 15",
          "You skip detailed",
          "detailed analysis dividend",
          "analysis dividend stocks",
          "go directly read",
          "directly read 5",
          "energy stocks buy",
          "Top 250 ranking",
          "In article discuss",
          "skip detailed analysis",
          "article will take",
          "will take look",
          "Wall Street Journal",
          "Street Journal reported",
          "Management Top 250",
          "In article will",
          "Exxon Mobil Corp",
          "ExxonMobil NYSE XOM",
          "Pioneer Natural Resources"
         ],
         "yaxis": "y"
        }
       ],
       "layout": {
        "annotations": [
         {
          "font": {
           "size": 16
          },
          "showarrow": false,
          "text": "Frequent words",
          "x": 0.5,
          "xanchor": "center",
          "xref": "paper",
          "y": 1,
          "yanchor": "bottom",
          "yref": "paper"
         }
        ],
        "height": 600,
        "paper_bgcolor": "rgb(233,233,233)",
        "template": {
         "data": {
          "bar": [
           {
            "error_x": {
             "color": "#2a3f5f"
            },
            "error_y": {
             "color": "#2a3f5f"
            },
            "marker": {
             "line": {
              "color": "#E5ECF6",
              "width": 0.5
             },
             "pattern": {
              "fillmode": "overlay",
              "size": 10,
              "solidity": 0.2
             }
            },
            "type": "bar"
           }
          ],
          "barpolar": [
           {
            "marker": {
             "line": {
              "color": "#E5ECF6",
              "width": 0.5
             },
             "pattern": {
              "fillmode": "overlay",
              "size": 10,
              "solidity": 0.2
             }
            },
            "type": "barpolar"
           }
          ],
          "carpet": [
           {
            "aaxis": {
             "endlinecolor": "#2a3f5f",
             "gridcolor": "white",
             "linecolor": "white",
             "minorgridcolor": "white",
             "startlinecolor": "#2a3f5f"
            },
            "baxis": {
             "endlinecolor": "#2a3f5f",
             "gridcolor": "white",
             "linecolor": "white",
             "minorgridcolor": "white",
             "startlinecolor": "#2a3f5f"
            },
            "type": "carpet"
           }
          ],
          "choropleth": [
           {
            "colorbar": {
             "outlinewidth": 0,
             "ticks": ""
            },
            "type": "choropleth"
           }
          ],
          "contour": [
           {
            "colorbar": {
             "outlinewidth": 0,
             "ticks": ""
            },
            "colorscale": [
             [
              0,
              "#0d0887"
             ],
             [
              0.1111111111111111,
              "#46039f"
             ],
             [
              0.2222222222222222,
              "#7201a8"
             ],
             [
              0.3333333333333333,
              "#9c179e"
             ],
             [
              0.4444444444444444,
              "#bd3786"
             ],
             [
              0.5555555555555556,
              "#d8576b"
             ],
             [
              0.6666666666666666,
              "#ed7953"
             ],
             [
              0.7777777777777778,
              "#fb9f3a"
             ],
             [
              0.8888888888888888,
              "#fdca26"
             ],
             [
              1,
              "#f0f921"
             ]
            ],
            "type": "contour"
           }
          ],
          "contourcarpet": [
           {
            "colorbar": {
             "outlinewidth": 0,
             "ticks": ""
            },
            "type": "contourcarpet"
           }
          ],
          "heatmap": [
           {
            "colorbar": {
             "outlinewidth": 0,
             "ticks": ""
            },
            "colorscale": [
             [
              0,
              "#0d0887"
             ],
             [
              0.1111111111111111,
              "#46039f"
             ],
             [
              0.2222222222222222,
              "#7201a8"
             ],
             [
              0.3333333333333333,
              "#9c179e"
             ],
             [
              0.4444444444444444,
              "#bd3786"
             ],
             [
              0.5555555555555556,
              "#d8576b"
             ],
             [
              0.6666666666666666,
              "#ed7953"
             ],
             [
              0.7777777777777778,
              "#fb9f3a"
             ],
             [
              0.8888888888888888,
              "#fdca26"
             ],
             [
              1,
              "#f0f921"
             ]
            ],
            "type": "heatmap"
           }
          ],
          "heatmapgl": [
           {
            "colorbar": {
             "outlinewidth": 0,
             "ticks": ""
            },
            "colorscale": [
             [
              0,
              "#0d0887"
             ],
             [
              0.1111111111111111,
              "#46039f"
             ],
             [
              0.2222222222222222,
              "#7201a8"
             ],
             [
              0.3333333333333333,
              "#9c179e"
             ],
             [
              0.4444444444444444,
              "#bd3786"
             ],
             [
              0.5555555555555556,
              "#d8576b"
             ],
             [
              0.6666666666666666,
              "#ed7953"
             ],
             [
              0.7777777777777778,
              "#fb9f3a"
             ],
             [
              0.8888888888888888,
              "#fdca26"
             ],
             [
              1,
              "#f0f921"
             ]
            ],
            "type": "heatmapgl"
           }
          ],
          "histogram": [
           {
            "marker": {
             "pattern": {
              "fillmode": "overlay",
              "size": 10,
              "solidity": 0.2
             }
            },
            "type": "histogram"
           }
          ],
          "histogram2d": [
           {
            "colorbar": {
             "outlinewidth": 0,
             "ticks": ""
            },
            "colorscale": [
             [
              0,
              "#0d0887"
             ],
             [
              0.1111111111111111,
              "#46039f"
             ],
             [
              0.2222222222222222,
              "#7201a8"
             ],
             [
              0.3333333333333333,
              "#9c179e"
             ],
             [
              0.4444444444444444,
              "#bd3786"
             ],
             [
              0.5555555555555556,
              "#d8576b"
             ],
             [
              0.6666666666666666,
              "#ed7953"
             ],
             [
              0.7777777777777778,
              "#fb9f3a"
             ],
             [
              0.8888888888888888,
              "#fdca26"
             ],
             [
              1,
              "#f0f921"
             ]
            ],
            "type": "histogram2d"
           }
          ],
          "histogram2dcontour": [
           {
            "colorbar": {
             "outlinewidth": 0,
             "ticks": ""
            },
            "colorscale": [
             [
              0,
              "#0d0887"
             ],
             [
              0.1111111111111111,
              "#46039f"
             ],
             [
              0.2222222222222222,
              "#7201a8"
             ],
             [
              0.3333333333333333,
              "#9c179e"
             ],
             [
              0.4444444444444444,
              "#bd3786"
             ],
             [
              0.5555555555555556,
              "#d8576b"
             ],
             [
              0.6666666666666666,
              "#ed7953"
             ],
             [
              0.7777777777777778,
              "#fb9f3a"
             ],
             [
              0.8888888888888888,
              "#fdca26"
             ],
             [
              1,
              "#f0f921"
             ]
            ],
            "type": "histogram2dcontour"
           }
          ],
          "mesh3d": [
           {
            "colorbar": {
             "outlinewidth": 0,
             "ticks": ""
            },
            "type": "mesh3d"
           }
          ],
          "parcoords": [
           {
            "line": {
             "colorbar": {
              "outlinewidth": 0,
              "ticks": ""
             }
            },
            "type": "parcoords"
           }
          ],
          "pie": [
           {
            "automargin": true,
            "type": "pie"
           }
          ],
          "scatter": [
           {
            "fillpattern": {
             "fillmode": "overlay",
             "size": 10,
             "solidity": 0.2
            },
            "type": "scatter"
           }
          ],
          "scatter3d": [
           {
            "line": {
             "colorbar": {
              "outlinewidth": 0,
              "ticks": ""
             }
            },
            "marker": {
             "colorbar": {
              "outlinewidth": 0,
              "ticks": ""
             }
            },
            "type": "scatter3d"
           }
          ],
          "scattercarpet": [
           {
            "marker": {
             "colorbar": {
              "outlinewidth": 0,
              "ticks": ""
             }
            },
            "type": "scattercarpet"
           }
          ],
          "scattergeo": [
           {
            "marker": {
             "colorbar": {
              "outlinewidth": 0,
              "ticks": ""
             }
            },
            "type": "scattergeo"
           }
          ],
          "scattergl": [
           {
            "marker": {
             "colorbar": {
              "outlinewidth": 0,
              "ticks": ""
             }
            },
            "type": "scattergl"
           }
          ],
          "scattermapbox": [
           {
            "marker": {
             "colorbar": {
              "outlinewidth": 0,
              "ticks": ""
             }
            },
            "type": "scattermapbox"
           }
          ],
          "scatterpolar": [
           {
            "marker": {
             "colorbar": {
              "outlinewidth": 0,
              "ticks": ""
             }
            },
            "type": "scatterpolar"
           }
          ],
          "scatterpolargl": [
           {
            "marker": {
             "colorbar": {
              "outlinewidth": 0,
              "ticks": ""
             }
            },
            "type": "scatterpolargl"
           }
          ],
          "scatterternary": [
           {
            "marker": {
             "colorbar": {
              "outlinewidth": 0,
              "ticks": ""
             }
            },
            "type": "scatterternary"
           }
          ],
          "surface": [
           {
            "colorbar": {
             "outlinewidth": 0,
             "ticks": ""
            },
            "colorscale": [
             [
              0,
              "#0d0887"
             ],
             [
              0.1111111111111111,
              "#46039f"
             ],
             [
              0.2222222222222222,
              "#7201a8"
             ],
             [
              0.3333333333333333,
              "#9c179e"
             ],
             [
              0.4444444444444444,
              "#bd3786"
             ],
             [
              0.5555555555555556,
              "#d8576b"
             ],
             [
              0.6666666666666666,
              "#ed7953"
             ],
             [
              0.7777777777777778,
              "#fb9f3a"
             ],
             [
              0.8888888888888888,
              "#fdca26"
             ],
             [
              1,
              "#f0f921"
             ]
            ],
            "type": "surface"
           }
          ],
          "table": [
           {
            "cells": {
             "fill": {
              "color": "#EBF0F8"
             },
             "line": {
              "color": "white"
             }
            },
            "header": {
             "fill": {
              "color": "#C8D4E3"
             },
             "line": {
              "color": "white"
             }
            },
            "type": "table"
           }
          ]
         },
         "layout": {
          "annotationdefaults": {
           "arrowcolor": "#2a3f5f",
           "arrowhead": 0,
           "arrowwidth": 1
          },
          "autotypenumbers": "strict",
          "coloraxis": {
           "colorbar": {
            "outlinewidth": 0,
            "ticks": ""
           }
          },
          "colorscale": {
           "diverging": [
            [
             0,
             "#8e0152"
            ],
            [
             0.1,
             "#c51b7d"
            ],
            [
             0.2,
             "#de77ae"
            ],
            [
             0.3,
             "#f1b6da"
            ],
            [
             0.4,
             "#fde0ef"
            ],
            [
             0.5,
             "#f7f7f7"
            ],
            [
             0.6,
             "#e6f5d0"
            ],
            [
             0.7,
             "#b8e186"
            ],
            [
             0.8,
             "#7fbc41"
            ],
            [
             0.9,
             "#4d9221"
            ],
            [
             1,
             "#276419"
            ]
           ],
           "sequential": [
            [
             0,
             "#0d0887"
            ],
            [
             0.1111111111111111,
             "#46039f"
            ],
            [
             0.2222222222222222,
             "#7201a8"
            ],
            [
             0.3333333333333333,
             "#9c179e"
            ],
            [
             0.4444444444444444,
             "#bd3786"
            ],
            [
             0.5555555555555556,
             "#d8576b"
            ],
            [
             0.6666666666666666,
             "#ed7953"
            ],
            [
             0.7777777777777778,
             "#fb9f3a"
            ],
            [
             0.8888888888888888,
             "#fdca26"
            ],
            [
             1,
             "#f0f921"
            ]
           ],
           "sequentialminus": [
            [
             0,
             "#0d0887"
            ],
            [
             0.1111111111111111,
             "#46039f"
            ],
            [
             0.2222222222222222,
             "#7201a8"
            ],
            [
             0.3333333333333333,
             "#9c179e"
            ],
            [
             0.4444444444444444,
             "#bd3786"
            ],
            [
             0.5555555555555556,
             "#d8576b"
            ],
            [
             0.6666666666666666,
             "#ed7953"
            ],
            [
             0.7777777777777778,
             "#fb9f3a"
            ],
            [
             0.8888888888888888,
             "#fdca26"
            ],
            [
             1,
             "#f0f921"
            ]
           ]
          },
          "colorway": [
           "#636efa",
           "#EF553B",
           "#00cc96",
           "#ab63fa",
           "#FFA15A",
           "#19d3f3",
           "#FF6692",
           "#B6E880",
           "#FF97FF",
           "#FECB52"
          ],
          "font": {
           "color": "#2a3f5f"
          },
          "geo": {
           "bgcolor": "white",
           "lakecolor": "white",
           "landcolor": "#E5ECF6",
           "showlakes": true,
           "showland": true,
           "subunitcolor": "white"
          },
          "hoverlabel": {
           "align": "left"
          },
          "hovermode": "closest",
          "mapbox": {
           "style": "light"
          },
          "paper_bgcolor": "white",
          "plot_bgcolor": "#E5ECF6",
          "polar": {
           "angularaxis": {
            "gridcolor": "white",
            "linecolor": "white",
            "ticks": ""
           },
           "bgcolor": "#E5ECF6",
           "radialaxis": {
            "gridcolor": "white",
            "linecolor": "white",
            "ticks": ""
           }
          },
          "scene": {
           "xaxis": {
            "backgroundcolor": "#E5ECF6",
            "gridcolor": "white",
            "gridwidth": 2,
            "linecolor": "white",
            "showbackground": true,
            "ticks": "",
            "zerolinecolor": "white"
           },
           "yaxis": {
            "backgroundcolor": "#E5ECF6",
            "gridcolor": "white",
            "gridwidth": 2,
            "linecolor": "white",
            "showbackground": true,
            "ticks": "",
            "zerolinecolor": "white"
           },
           "zaxis": {
            "backgroundcolor": "#E5ECF6",
            "gridcolor": "white",
            "gridwidth": 2,
            "linecolor": "white",
            "showbackground": true,
            "ticks": "",
            "zerolinecolor": "white"
           }
          },
          "shapedefaults": {
           "line": {
            "color": "#2a3f5f"
           }
          },
          "ternary": {
           "aaxis": {
            "gridcolor": "white",
            "linecolor": "white",
            "ticks": ""
           },
           "baxis": {
            "gridcolor": "white",
            "linecolor": "white",
            "ticks": ""
           },
           "bgcolor": "#E5ECF6",
           "caxis": {
            "gridcolor": "white",
            "linecolor": "white",
            "ticks": ""
           }
          },
          "title": {
           "x": 0.05
          },
          "xaxis": {
           "automargin": true,
           "gridcolor": "white",
           "linecolor": "white",
           "ticks": "",
           "title": {
            "standoff": 15
           },
           "zerolinecolor": "white",
           "zerolinewidth": 2
          },
          "yaxis": {
           "automargin": true,
           "gridcolor": "white",
           "linecolor": "white",
           "ticks": "",
           "title": {
            "standoff": 15
           },
           "zerolinecolor": "white",
           "zerolinewidth": 2
          }
         }
        },
        "title": {
         "text": "Word Count Plots"
        },
        "width": 600,
        "xaxis": {
         "anchor": "y",
         "domain": [
          0,
          1
         ]
        },
        "yaxis": {
         "anchor": "x",
         "domain": [
          0,
          1
         ]
        }
       }
      },
      "text/html": [
       "<div>                            <div id=\"99bac1b8-ad0f-4ed6-b12c-cb242f76e342\" class=\"plotly-graph-div\" style=\"height:600px; width:600px;\"></div>            <script type=\"text/javascript\">                require([\"plotly\"], function(Plotly) {                    window.PLOTLYENV=window.PLOTLYENV || {};                                    if (document.getElementById(\"99bac1b8-ad0f-4ed6-b12c-cb242f76e342\")) {                    Plotly.newPlot(                        \"99bac1b8-ad0f-4ed6-b12c-cb242f76e342\",                        [{\"marker\":{\"color\":\"green\"},\"orientation\":\"h\",\"showlegend\":false,\"x\":[3,3,3,3,3,3,3,4,4,4,4,5,5,5,5,5,6,6,7,9],\"xaxis\":\"x\",\"y\":[\"Chevron NYSE CVX\",\"take look 15\",\"You skip detailed\",\"detailed analysis dividend\",\"analysis dividend stocks\",\"go directly read\",\"directly read 5\",\"energy stocks buy\",\"Top 250 ranking\",\"In article discuss\",\"skip detailed analysis\",\"article will take\",\"will take look\",\"Wall Street Journal\",\"Street Journal reported\",\"Management Top 250\",\"In article will\",\"Exxon Mobil Corp\",\"ExxonMobil NYSE XOM\",\"Pioneer Natural Resources\"],\"yaxis\":\"y\",\"type\":\"bar\"}],                        {\"annotations\":[{\"font\":{\"size\":16},\"showarrow\":false,\"text\":\"Frequent words\",\"x\":0.5,\"xanchor\":\"center\",\"xref\":\"paper\",\"y\":1.0,\"yanchor\":\"bottom\",\"yref\":\"paper\"}],\"height\":600,\"paper_bgcolor\":\"rgb(233,233,233)\",\"template\":{\"data\":{\"barpolar\":[{\"marker\":{\"line\":{\"color\":\"#E5ECF6\",\"width\":0.5},\"pattern\":{\"fillmode\":\"overlay\",\"size\":10,\"solidity\":0.2}},\"type\":\"barpolar\"}],\"bar\":[{\"error_x\":{\"color\":\"#2a3f5f\"},\"error_y\":{\"color\":\"#2a3f5f\"},\"marker\":{\"line\":{\"color\":\"#E5ECF6\",\"width\":0.5},\"pattern\":{\"fillmode\":\"overlay\",\"size\":10,\"solidity\":0.2}},\"type\":\"bar\"}],\"carpet\":[{\"aaxis\":{\"endlinecolor\":\"#2a3f5f\",\"gridcolor\":\"white\",\"linecolor\":\"white\",\"minorgridcolor\":\"white\",\"startlinecolor\":\"#2a3f5f\"},\"baxis\":{\"endlinecolor\":\"#2a3f5f\",\"gridcolor\":\"white\",\"linecolor\":\"white\",\"minorgridcolor\":\"white\",\"startlinecolor\":\"#2a3f5f\"},\"type\":\"carpet\"}],\"choropleth\":[{\"colorbar\":{\"outlinewidth\":0,\"ticks\":\"\"},\"type\":\"choropleth\"}],\"contourcarpet\":[{\"colorbar\":{\"outlinewidth\":0,\"ticks\":\"\"},\"type\":\"contourcarpet\"}],\"contour\":[{\"colorbar\":{\"outlinewidth\":0,\"ticks\":\"\"},\"colorscale\":[[0.0,\"#0d0887\"],[0.1111111111111111,\"#46039f\"],[0.2222222222222222,\"#7201a8\"],[0.3333333333333333,\"#9c179e\"],[0.4444444444444444,\"#bd3786\"],[0.5555555555555556,\"#d8576b\"],[0.6666666666666666,\"#ed7953\"],[0.7777777777777778,\"#fb9f3a\"],[0.8888888888888888,\"#fdca26\"],[1.0,\"#f0f921\"]],\"type\":\"contour\"}],\"heatmapgl\":[{\"colorbar\":{\"outlinewidth\":0,\"ticks\":\"\"},\"colorscale\":[[0.0,\"#0d0887\"],[0.1111111111111111,\"#46039f\"],[0.2222222222222222,\"#7201a8\"],[0.3333333333333333,\"#9c179e\"],[0.4444444444444444,\"#bd3786\"],[0.5555555555555556,\"#d8576b\"],[0.6666666666666666,\"#ed7953\"],[0.7777777777777778,\"#fb9f3a\"],[0.8888888888888888,\"#fdca26\"],[1.0,\"#f0f921\"]],\"type\":\"heatmapgl\"}],\"heatmap\":[{\"colorbar\":{\"outlinewidth\":0,\"ticks\":\"\"},\"colorscale\":[[0.0,\"#0d0887\"],[0.1111111111111111,\"#46039f\"],[0.2222222222222222,\"#7201a8\"],[0.3333333333333333,\"#9c179e\"],[0.4444444444444444,\"#bd3786\"],[0.5555555555555556,\"#d8576b\"],[0.6666666666666666,\"#ed7953\"],[0.7777777777777778,\"#fb9f3a\"],[0.8888888888888888,\"#fdca26\"],[1.0,\"#f0f921\"]],\"type\":\"heatmap\"}],\"histogram2dcontour\":[{\"colorbar\":{\"outlinewidth\":0,\"ticks\":\"\"},\"colorscale\":[[0.0,\"#0d0887\"],[0.1111111111111111,\"#46039f\"],[0.2222222222222222,\"#7201a8\"],[0.3333333333333333,\"#9c179e\"],[0.4444444444444444,\"#bd3786\"],[0.5555555555555556,\"#d8576b\"],[0.6666666666666666,\"#ed7953\"],[0.7777777777777778,\"#fb9f3a\"],[0.8888888888888888,\"#fdca26\"],[1.0,\"#f0f921\"]],\"type\":\"histogram2dcontour\"}],\"histogram2d\":[{\"colorbar\":{\"outlinewidth\":0,\"ticks\":\"\"},\"colorscale\":[[0.0,\"#0d0887\"],[0.1111111111111111,\"#46039f\"],[0.2222222222222222,\"#7201a8\"],[0.3333333333333333,\"#9c179e\"],[0.4444444444444444,\"#bd3786\"],[0.5555555555555556,\"#d8576b\"],[0.6666666666666666,\"#ed7953\"],[0.7777777777777778,\"#fb9f3a\"],[0.8888888888888888,\"#fdca26\"],[1.0,\"#f0f921\"]],\"type\":\"histogram2d\"}],\"histogram\":[{\"marker\":{\"pattern\":{\"fillmode\":\"overlay\",\"size\":10,\"solidity\":0.2}},\"type\":\"histogram\"}],\"mesh3d\":[{\"colorbar\":{\"outlinewidth\":0,\"ticks\":\"\"},\"type\":\"mesh3d\"}],\"parcoords\":[{\"line\":{\"colorbar\":{\"outlinewidth\":0,\"ticks\":\"\"}},\"type\":\"parcoords\"}],\"pie\":[{\"automargin\":true,\"type\":\"pie\"}],\"scatter3d\":[{\"line\":{\"colorbar\":{\"outlinewidth\":0,\"ticks\":\"\"}},\"marker\":{\"colorbar\":{\"outlinewidth\":0,\"ticks\":\"\"}},\"type\":\"scatter3d\"}],\"scattercarpet\":[{\"marker\":{\"colorbar\":{\"outlinewidth\":0,\"ticks\":\"\"}},\"type\":\"scattercarpet\"}],\"scattergeo\":[{\"marker\":{\"colorbar\":{\"outlinewidth\":0,\"ticks\":\"\"}},\"type\":\"scattergeo\"}],\"scattergl\":[{\"marker\":{\"colorbar\":{\"outlinewidth\":0,\"ticks\":\"\"}},\"type\":\"scattergl\"}],\"scattermapbox\":[{\"marker\":{\"colorbar\":{\"outlinewidth\":0,\"ticks\":\"\"}},\"type\":\"scattermapbox\"}],\"scatterpolargl\":[{\"marker\":{\"colorbar\":{\"outlinewidth\":0,\"ticks\":\"\"}},\"type\":\"scatterpolargl\"}],\"scatterpolar\":[{\"marker\":{\"colorbar\":{\"outlinewidth\":0,\"ticks\":\"\"}},\"type\":\"scatterpolar\"}],\"scatter\":[{\"fillpattern\":{\"fillmode\":\"overlay\",\"size\":10,\"solidity\":0.2},\"type\":\"scatter\"}],\"scatterternary\":[{\"marker\":{\"colorbar\":{\"outlinewidth\":0,\"ticks\":\"\"}},\"type\":\"scatterternary\"}],\"surface\":[{\"colorbar\":{\"outlinewidth\":0,\"ticks\":\"\"},\"colorscale\":[[0.0,\"#0d0887\"],[0.1111111111111111,\"#46039f\"],[0.2222222222222222,\"#7201a8\"],[0.3333333333333333,\"#9c179e\"],[0.4444444444444444,\"#bd3786\"],[0.5555555555555556,\"#d8576b\"],[0.6666666666666666,\"#ed7953\"],[0.7777777777777778,\"#fb9f3a\"],[0.8888888888888888,\"#fdca26\"],[1.0,\"#f0f921\"]],\"type\":\"surface\"}],\"table\":[{\"cells\":{\"fill\":{\"color\":\"#EBF0F8\"},\"line\":{\"color\":\"white\"}},\"header\":{\"fill\":{\"color\":\"#C8D4E3\"},\"line\":{\"color\":\"white\"}},\"type\":\"table\"}]},\"layout\":{\"annotationdefaults\":{\"arrowcolor\":\"#2a3f5f\",\"arrowhead\":0,\"arrowwidth\":1},\"autotypenumbers\":\"strict\",\"coloraxis\":{\"colorbar\":{\"outlinewidth\":0,\"ticks\":\"\"}},\"colorscale\":{\"diverging\":[[0,\"#8e0152\"],[0.1,\"#c51b7d\"],[0.2,\"#de77ae\"],[0.3,\"#f1b6da\"],[0.4,\"#fde0ef\"],[0.5,\"#f7f7f7\"],[0.6,\"#e6f5d0\"],[0.7,\"#b8e186\"],[0.8,\"#7fbc41\"],[0.9,\"#4d9221\"],[1,\"#276419\"]],\"sequential\":[[0.0,\"#0d0887\"],[0.1111111111111111,\"#46039f\"],[0.2222222222222222,\"#7201a8\"],[0.3333333333333333,\"#9c179e\"],[0.4444444444444444,\"#bd3786\"],[0.5555555555555556,\"#d8576b\"],[0.6666666666666666,\"#ed7953\"],[0.7777777777777778,\"#fb9f3a\"],[0.8888888888888888,\"#fdca26\"],[1.0,\"#f0f921\"]],\"sequentialminus\":[[0.0,\"#0d0887\"],[0.1111111111111111,\"#46039f\"],[0.2222222222222222,\"#7201a8\"],[0.3333333333333333,\"#9c179e\"],[0.4444444444444444,\"#bd3786\"],[0.5555555555555556,\"#d8576b\"],[0.6666666666666666,\"#ed7953\"],[0.7777777777777778,\"#fb9f3a\"],[0.8888888888888888,\"#fdca26\"],[1.0,\"#f0f921\"]]},\"colorway\":[\"#636efa\",\"#EF553B\",\"#00cc96\",\"#ab63fa\",\"#FFA15A\",\"#19d3f3\",\"#FF6692\",\"#B6E880\",\"#FF97FF\",\"#FECB52\"],\"font\":{\"color\":\"#2a3f5f\"},\"geo\":{\"bgcolor\":\"white\",\"lakecolor\":\"white\",\"landcolor\":\"#E5ECF6\",\"showlakes\":true,\"showland\":true,\"subunitcolor\":\"white\"},\"hoverlabel\":{\"align\":\"left\"},\"hovermode\":\"closest\",\"mapbox\":{\"style\":\"light\"},\"paper_bgcolor\":\"white\",\"plot_bgcolor\":\"#E5ECF6\",\"polar\":{\"angularaxis\":{\"gridcolor\":\"white\",\"linecolor\":\"white\",\"ticks\":\"\"},\"bgcolor\":\"#E5ECF6\",\"radialaxis\":{\"gridcolor\":\"white\",\"linecolor\":\"white\",\"ticks\":\"\"}},\"scene\":{\"xaxis\":{\"backgroundcolor\":\"#E5ECF6\",\"gridcolor\":\"white\",\"gridwidth\":2,\"linecolor\":\"white\",\"showbackground\":true,\"ticks\":\"\",\"zerolinecolor\":\"white\"},\"yaxis\":{\"backgroundcolor\":\"#E5ECF6\",\"gridcolor\":\"white\",\"gridwidth\":2,\"linecolor\":\"white\",\"showbackground\":true,\"ticks\":\"\",\"zerolinecolor\":\"white\"},\"zaxis\":{\"backgroundcolor\":\"#E5ECF6\",\"gridcolor\":\"white\",\"gridwidth\":2,\"linecolor\":\"white\",\"showbackground\":true,\"ticks\":\"\",\"zerolinecolor\":\"white\"}},\"shapedefaults\":{\"line\":{\"color\":\"#2a3f5f\"}},\"ternary\":{\"aaxis\":{\"gridcolor\":\"white\",\"linecolor\":\"white\",\"ticks\":\"\"},\"baxis\":{\"gridcolor\":\"white\",\"linecolor\":\"white\",\"ticks\":\"\"},\"bgcolor\":\"#E5ECF6\",\"caxis\":{\"gridcolor\":\"white\",\"linecolor\":\"white\",\"ticks\":\"\"}},\"title\":{\"x\":0.05},\"xaxis\":{\"automargin\":true,\"gridcolor\":\"white\",\"linecolor\":\"white\",\"ticks\":\"\",\"title\":{\"standoff\":15},\"zerolinecolor\":\"white\",\"zerolinewidth\":2},\"yaxis\":{\"automargin\":true,\"gridcolor\":\"white\",\"linecolor\":\"white\",\"ticks\":\"\",\"title\":{\"standoff\":15},\"zerolinecolor\":\"white\",\"zerolinewidth\":2}}},\"title\":{\"text\":\"Word Count Plots\"},\"width\":600,\"xaxis\":{\"anchor\":\"y\",\"domain\":[0.0,1.0]},\"yaxis\":{\"anchor\":\"x\",\"domain\":[0.0,1.0]}},                        {\"responsive\": true}                    ).then(function(){\n",
       "                            \n",
       "var gd = document.getElementById('99bac1b8-ad0f-4ed6-b12c-cb242f76e342');\n",
       "var x = new MutationObserver(function (mutations, observer) {{\n",
       "        var display = window.getComputedStyle(gd).display;\n",
       "        if (!display || display === 'none') {{\n",
       "            console.log([gd, 'removed!']);\n",
       "            Plotly.purge(gd);\n",
       "            observer.disconnect();\n",
       "        }}\n",
       "}});\n",
       "\n",
       "// Listen for the removal of the full notebook cells\n",
       "var notebookContainer = gd.closest('#notebook-container');\n",
       "if (notebookContainer) {{\n",
       "    x.observe(notebookContainer, {childList: true});\n",
       "}}\n",
       "\n",
       "// Listen for the clearing of the current output cell\n",
       "var outputEl = gd.closest('.output');\n",
       "if (outputEl) {{\n",
       "    x.observe(outputEl, {childList: true});\n",
       "}}\n",
       "\n",
       "                        })                };                });            </script>        </div>"
      ]
     },
     "metadata": {},
     "output_type": "display_data"
    }
   ],
   "source": [
    "## Get the bar chart from 5 rated reviews ##\n",
    "freq_dict = defaultdict(int)\n",
    "for sent in news_df[\"content\"]:\n",
    "    for word in generate_ngrams(sent,3):\n",
    "        freq_dict[word] += 1\n",
    "fd_sorted = pd.DataFrame(sorted(freq_dict.items(), key=lambda x: x[1])[::-1])\n",
    "fd_sorted.columns = [\"word\", \"wordcount\"]\n",
    "trace0 = horizontal_bar_chart(fd_sorted.head(20), 'green')\n",
    "\n",
    "# Creating two subplots\n",
    "fig = tools.make_subplots(rows=1, cols=1, vertical_spacing=0.04,\n",
    "                          subplot_titles=[\"Frequent words\"])\n",
    "fig.append_trace(trace0, 1, 1)\n",
    "#fig.append_trace(trace1, 1, 2)\n",
    "fig['layout'].update(height=600, width=600, paper_bgcolor='rgb(233,233,233)', title=\"Word Count Plots\")\n",
    "py.iplot(fig, filename='word-plots');"
   ]
  },
  {
   "attachments": {},
   "cell_type": "markdown",
   "metadata": {},
   "source": [
    "# Finviz"
   ]
  },
  {
   "cell_type": "code",
   "execution_count": 19,
   "metadata": {},
   "outputs": [],
   "source": [
    "url = f\"https://finviz.com/quote.ashx?t={text_input}&ty=c&ta=1&p=d\"\n",
    "\n",
    "\n",
    "headers = {\"User-Agent\": \"Mozilla/5.0\"}\n",
    "cookies = {\"CONSENT\": \"YES+cb.20210720-07-p0.en+FX+410\"}\n",
    "\n",
    "req = Request(url, headers=headers)\n",
    "\n",
    "try:\n",
    "    contents = urlopen(req).read() \n",
    "    soup = BeautifulSoup(contents, features=\"html.parser\")\n",
    "\n",
    "    sentence2 = []\n",
    "\n",
    "    for tag in soup.find_all('a'):\n",
    "\n",
    "        sentence = tag.text.split(\".\")\n",
    "        sentence2.append(sentence)\n",
    "\n",
    "except urllib.error.HTTPError as err:\n",
    "    print(err.code)\n",
    "\n",
    "except socket.timeout as se:\n",
    "    print(\"socket timeout\")"
   ]
  },
  {
   "cell_type": "code",
   "execution_count": 20,
   "metadata": {},
   "outputs": [],
   "source": [
    "df = pd.DataFrame(sentence2)"
   ]
  },
  {
   "cell_type": "code",
   "execution_count": 21,
   "metadata": {},
   "outputs": [],
   "source": [
    "df['Headline'] = df[0]\n",
    "df['Sentiment'] = -2\n",
    "df = pd.DataFrame(list(zip(df['Headline'], df['Sentiment'])), columns=['Headline', 'Sentiment'])"
   ]
  },
  {
   "cell_type": "code",
   "execution_count": 22,
   "metadata": {},
   "outputs": [],
   "source": [
    "i = []\n",
    "\n",
    "for string in df['Headline']:\n",
    "    i.append(count_words(string))\n",
    "\n",
    "df['word_count'] = i"
   ]
  },
  {
   "cell_type": "code",
   "execution_count": 23,
   "metadata": {},
   "outputs": [],
   "source": [
    "sentiment = [None] * len(df)\n",
    "sentiment_score = [None] * len(df)\n",
    "index = -1\n",
    "for sentence in df['Headline']:\n",
    "    index+=1\n",
    "    result = sentiment_pipeline(sentence[:512])[0]\n",
    "    sentiment[index] = result['label']\n",
    "    sentiment_score[index] = result['score']\n",
    "df['Sentiment'] = sentiment\n",
    "df['Score'] = sentiment_score"
   ]
  },
  {
   "cell_type": "code",
   "execution_count": 24,
   "metadata": {},
   "outputs": [],
   "source": [
    "df = df[df['word_count'] > 10]\n",
    "df['Headline_Lower'] = df['Headline'].str.lower()"
   ]
  },
  {
   "cell_type": "code",
   "execution_count": 25,
   "metadata": {},
   "outputs": [
    {
     "data": {
      "text/plain": [
       "<AxesSubplot:xlabel='Sentiment', ylabel='Count'>"
      ]
     },
     "execution_count": 25,
     "metadata": {},
     "output_type": "execute_result"
    },
    {
     "data": {
      "image/png": "[encoded data removed]",
      "text/plain": [
       "<Figure size 432x288 with 1 Axes>"
      ]
     },
     "metadata": {
      "needs_background": "light"
     },
     "output_type": "display_data"
    }
   ],
   "source": [
    "sns.histplot(x = 'Sentiment', data = df[df['Score'] > 0.8], hue = 'Sentiment', hue_order=['POSITIVE', 'NEGATIVE'])"
   ]
  },
  {
   "cell_type": "code",
   "execution_count": 26,
   "metadata": {},
   "outputs": [
    {
     "name": "stderr",
     "output_type": "stream",
     "text": [
      "c:\\Users\\Woon\\AppData\\Local\\Programs\\Python\\Python310\\lib\\site-packages\\plotly\\tools.py:460: DeprecationWarning:\n",
      "\n",
      "plotly.tools.make_subplots is deprecated, please use plotly.subplots.make_subplots instead\n",
      "\n"
     ]
    },
    {
     "data": {
      "application/vnd.plotly.v1+json": {
       "config": {
        "linkText": "Export to plot.ly",
        "plotlyServerURL": "https://plot.ly",
        "showLink": false
       },
       "data": [
        {
         "marker": {
          "color": "green"
         },
         "orientation": "h",
         "showlegend": false,
         "type": "bar",
         "x": [
          2,
          2,
          2,
          2,
          2,
          2,
          2,
          3,
          3,
          4
         ],
         "xaxis": "x",
         "y": [
          "says lowcarbon business",
          "lowcarbon business one",
          "business one day",
          "one day eclipse",
          "day eclipse oil",
          "eclipse oil gas",
          "exxon mobils nysexom",
          "market gains know",
          "exxon mobil corporation",
          "exxon mobil xom"
         ],
         "yaxis": "y"
        }
       ],
       "layout": {
        "annotations": [
         {
          "font": {
           "size": 16
          },
          "showarrow": false,
          "text": "Frequent words",
          "x": 0.5,
          "xanchor": "center",
          "xref": "paper",
          "y": 1,
          "yanchor": "bottom",
          "yref": "paper"
         }
        ],
        "height": 600,
        "paper_bgcolor": "rgb(233,233,233)",
        "template": {
         "data": {
          "bar": [
           {
            "error_x": {
             "color": "#2a3f5f"
            },
            "error_y": {
             "color": "#2a3f5f"
            },
            "marker": {
             "line": {
              "color": "#E5ECF6",
              "width": 0.5
             },
             "pattern": {
              "fillmode": "overlay",
              "size": 10,
              "solidity": 0.2
             }
            },
            "type": "bar"
           }
          ],
          "barpolar": [
           {
            "marker": {
             "line": {
              "color": "#E5ECF6",
              "width": 0.5
             },
             "pattern": {
              "fillmode": "overlay",
              "size": 10,
              "solidity": 0.2
             }
            },
            "type": "barpolar"
           }
          ],
          "carpet": [
           {
            "aaxis": {
             "endlinecolor": "#2a3f5f",
             "gridcolor": "white",
             "linecolor": "white",
             "minorgridcolor": "white",
             "startlinecolor": "#2a3f5f"
            },
            "baxis": {
             "endlinecolor": "#2a3f5f",
             "gridcolor": "white",
             "linecolor": "white",
             "minorgridcolor": "white",
             "startlinecolor": "#2a3f5f"
            },
            "type": "carpet"
           }
          ],
          "choropleth": [
           {
            "colorbar": {
             "outlinewidth": 0,
             "ticks": ""
            },
            "type": "choropleth"
           }
          ],
          "contour": [
           {
            "colorbar": {
             "outlinewidth": 0,
             "ticks": ""
            },
            "colorscale": [
             [
              0,
              "#0d0887"
             ],
             [
              0.1111111111111111,
              "#46039f"
             ],
             [
              0.2222222222222222,
              "#7201a8"
             ],
             [
              0.3333333333333333,
              "#9c179e"
             ],
             [
              0.4444444444444444,
              "#bd3786"
             ],
             [
              0.5555555555555556,
              "#d8576b"
             ],
             [
              0.6666666666666666,
              "#ed7953"
             ],
             [
              0.7777777777777778,
              "#fb9f3a"
             ],
             [
              0.8888888888888888,
              "#fdca26"
             ],
             [
              1,
              "#f0f921"
             ]
            ],
            "type": "contour"
           }
          ],
          "contourcarpet": [
           {
            "colorbar": {
             "outlinewidth": 0,
             "ticks": ""
            },
            "type": "contourcarpet"
           }
          ],
          "heatmap": [
           {
            "colorbar": {
             "outlinewidth": 0,
             "ticks": ""
            },
            "colorscale": [
             [
              0,
              "#0d0887"
             ],
             [
              0.1111111111111111,
              "#46039f"
             ],
             [
              0.2222222222222222,
              "#7201a8"
             ],
             [
              0.3333333333333333,
              "#9c179e"
             ],
             [
              0.4444444444444444,
              "#bd3786"
             ],
             [
              0.5555555555555556,
              "#d8576b"
             ],
             [
              0.6666666666666666,
              "#ed7953"
             ],
             [
              0.7777777777777778,
              "#fb9f3a"
             ],
             [
              0.8888888888888888,
              "#fdca26"
             ],
             [
              1,
              "#f0f921"
             ]
            ],
            "type": "heatmap"
           }
          ],
          "heatmapgl": [
           {
            "colorbar": {
             "outlinewidth": 0,
             "ticks": ""
            },
            "colorscale": [
             [
              0,
              "#0d0887"
             ],
             [
              0.1111111111111111,
              "#46039f"
             ],
             [
              0.2222222222222222,
              "#7201a8"
             ],
             [
              0.3333333333333333,
              "#9c179e"
             ],
             [
              0.4444444444444444,
              "#bd3786"
             ],
             [
              0.5555555555555556,
              "#d8576b"
             ],
             [
              0.6666666666666666,
              "#ed7953"
             ],
             [
              0.7777777777777778,
              "#fb9f3a"
             ],
             [
              0.8888888888888888,
              "#fdca26"
             ],
             [
              1,
              "#f0f921"
             ]
            ],
            "type": "heatmapgl"
           }
          ],
          "histogram": [
           {
            "marker": {
             "pattern": {
              "fillmode": "overlay",
              "size": 10,
              "solidity": 0.2
             }
            },
            "type": "histogram"
           }
          ],
          "histogram2d": [
           {
            "colorbar": {
             "outlinewidth": 0,
             "ticks": ""
            },
            "colorscale": [
             [
              0,
              "#0d0887"
             ],
             [
              0.1111111111111111,
              "#46039f"
             ],
             [
              0.2222222222222222,
              "#7201a8"
             ],
             [
              0.3333333333333333,
              "#9c179e"
             ],
             [
              0.4444444444444444,
              "#bd3786"
             ],
             [
              0.5555555555555556,
              "#d8576b"
             ],
             [
              0.6666666666666666,
              "#ed7953"
             ],
             [
              0.7777777777777778,
              "#fb9f3a"
             ],
             [
              0.8888888888888888,
              "#fdca26"
             ],
             [
              1,
              "#f0f921"
             ]
            ],
            "type": "histogram2d"
           }
          ],
          "histogram2dcontour": [
           {
            "colorbar": {
             "outlinewidth": 0,
             "ticks": ""
            },
            "colorscale": [
             [
              0,
              "#0d0887"
             ],
             [
              0.1111111111111111,
              "#46039f"
             ],
             [
              0.2222222222222222,
              "#7201a8"
             ],
             [
              0.3333333333333333,
              "#9c179e"
             ],
             [
              0.4444444444444444,
              "#bd3786"
             ],
             [
              0.5555555555555556,
              "#d8576b"
             ],
             [
              0.6666666666666666,
              "#ed7953"
             ],
             [
              0.7777777777777778,
              "#fb9f3a"
             ],
             [
              0.8888888888888888,
              "#fdca26"
             ],
             [
              1,
              "#f0f921"
             ]
            ],
            "type": "histogram2dcontour"
           }
          ],
          "mesh3d": [
           {
            "colorbar": {
             "outlinewidth": 0,
             "ticks": ""
            },
            "type": "mesh3d"
           }
          ],
          "parcoords": [
           {
            "line": {
             "colorbar": {
              "outlinewidth": 0,
              "ticks": ""
             }
            },
            "type": "parcoords"
           }
          ],
          "pie": [
           {
            "automargin": true,
            "type": "pie"
           }
          ],
          "scatter": [
           {
            "fillpattern": {
             "fillmode": "overlay",
             "size": 10,
             "solidity": 0.2
            },
            "type": "scatter"
           }
          ],
          "scatter3d": [
           {
            "line": {
             "colorbar": {
              "outlinewidth": 0,
              "ticks": ""
             }
            },
            "marker": {
             "colorbar": {
              "outlinewidth": 0,
              "ticks": ""
             }
            },
            "type": "scatter3d"
           }
          ],
          "scattercarpet": [
           {
            "marker": {
             "colorbar": {
              "outlinewidth": 0,
              "ticks": ""
             }
            },
            "type": "scattercarpet"
           }
          ],
          "scattergeo": [
           {
            "marker": {
             "colorbar": {
              "outlinewidth": 0,
              "ticks": ""
             }
            },
            "type": "scattergeo"
           }
          ],
          "scattergl": [
           {
            "marker": {
             "colorbar": {
              "outlinewidth": 0,
              "ticks": ""
             }
            },
            "type": "scattergl"
           }
          ],
          "scattermapbox": [
           {
            "marker": {
             "colorbar": {
              "outlinewidth": 0,
              "ticks": ""
             }
            },
            "type": "scattermapbox"
           }
          ],
          "scatterpolar": [
           {
            "marker": {
             "colorbar": {
              "outlinewidth": 0,
              "ticks": ""
             }
            },
            "type": "scatterpolar"
           }
          ],
          "scatterpolargl": [
           {
            "marker": {
             "colorbar": {
              "outlinewidth": 0,
              "ticks": ""
             }
            },
            "type": "scatterpolargl"
           }
          ],
          "scatterternary": [
           {
            "marker": {
             "colorbar": {
              "outlinewidth": 0,
              "ticks": ""
             }
            },
            "type": "scatterternary"
           }
          ],
          "surface": [
           {
            "colorbar": {
             "outlinewidth": 0,
             "ticks": ""
            },
            "colorscale": [
             [
              0,
              "#0d0887"
             ],
             [
              0.1111111111111111,
              "#46039f"
             ],
             [
              0.2222222222222222,
              "#7201a8"
             ],
             [
              0.3333333333333333,
              "#9c179e"
             ],
             [
              0.4444444444444444,
              "#bd3786"
             ],
             [
              0.5555555555555556,
              "#d8576b"
             ],
             [
              0.6666666666666666,
              "#ed7953"
             ],
             [
              0.7777777777777778,
              "#fb9f3a"
             ],
             [
              0.8888888888888888,
              "#fdca26"
             ],
             [
              1,
              "#f0f921"
             ]
            ],
            "type": "surface"
           }
          ],
          "table": [
           {
            "cells": {
             "fill": {
              "color": "#EBF0F8"
             },
             "line": {
              "color": "white"
             }
            },
            "header": {
             "fill": {
              "color": "#C8D4E3"
             },
             "line": {
              "color": "white"
             }
            },
            "type": "table"
           }
          ]
         },
         "layout": {
          "annotationdefaults": {
           "arrowcolor": "#2a3f5f",
           "arrowhead": 0,
           "arrowwidth": 1
          },
          "autotypenumbers": "strict",
          "coloraxis": {
           "colorbar": {
            "outlinewidth": 0,
            "ticks": ""
           }
          },
          "colorscale": {
           "diverging": [
            [
             0,
             "#8e0152"
            ],
            [
             0.1,
             "#c51b7d"
            ],
            [
             0.2,
             "#de77ae"
            ],
            [
             0.3,
             "#f1b6da"
            ],
            [
             0.4,
             "#fde0ef"
            ],
            [
             0.5,
             "#f7f7f7"
            ],
            [
             0.6,
             "#e6f5d0"
            ],
            [
             0.7,
             "#b8e186"
            ],
            [
             0.8,
             "#7fbc41"
            ],
            [
             0.9,
             "#4d9221"
            ],
            [
             1,
             "#276419"
            ]
           ],
           "sequential": [
            [
             0,
             "#0d0887"
            ],
            [
             0.1111111111111111,
             "#46039f"
            ],
            [
             0.2222222222222222,
             "#7201a8"
            ],
            [
             0.3333333333333333,
             "#9c179e"
            ],
            [
             0.4444444444444444,
             "#bd3786"
            ],
            [
             0.5555555555555556,
             "#d8576b"
            ],
            [
             0.6666666666666666,
             "#ed7953"
            ],
            [
             0.7777777777777778,
             "#fb9f3a"
            ],
            [
             0.8888888888888888,
             "#fdca26"
            ],
            [
             1,
             "#f0f921"
            ]
           ],
           "sequentialminus": [
            [
             0,
             "#0d0887"
            ],
            [
             0.1111111111111111,
             "#46039f"
            ],
            [
             0.2222222222222222,
             "#7201a8"
            ],
            [
             0.3333333333333333,
             "#9c179e"
            ],
            [
             0.4444444444444444,
             "#bd3786"
            ],
            [
             0.5555555555555556,
             "#d8576b"
            ],
            [
             0.6666666666666666,
             "#ed7953"
            ],
            [
             0.7777777777777778,
             "#fb9f3a"
            ],
            [
             0.8888888888888888,
             "#fdca26"
            ],
            [
             1,
             "#f0f921"
            ]
           ]
          },
          "colorway": [
           "#636efa",
           "#EF553B",
           "#00cc96",
           "#ab63fa",
           "#FFA15A",
           "#19d3f3",
           "#FF6692",
           "#B6E880",
           "#FF97FF",
           "#FECB52"
          ],
          "font": {
           "color": "#2a3f5f"
          },
          "geo": {
           "bgcolor": "white",
           "lakecolor": "white",
           "landcolor": "#E5ECF6",
           "showlakes": true,
           "showland": true,
           "subunitcolor": "white"
          },
          "hoverlabel": {
           "align": "left"
          },
          "hovermode": "closest",
          "mapbox": {
           "style": "light"
          },
          "paper_bgcolor": "white",
          "plot_bgcolor": "#E5ECF6",
          "polar": {
           "angularaxis": {
            "gridcolor": "white",
            "linecolor": "white",
            "ticks": ""
           },
           "bgcolor": "#E5ECF6",
           "radialaxis": {
            "gridcolor": "white",
            "linecolor": "white",
            "ticks": ""
           }
          },
          "scene": {
           "xaxis": {
            "backgroundcolor": "#E5ECF6",
            "gridcolor": "white",
            "gridwidth": 2,
            "linecolor": "white",
            "showbackground": true,
            "ticks": "",
            "zerolinecolor": "white"
           },
           "yaxis": {
            "backgroundcolor": "#E5ECF6",
            "gridcolor": "white",
            "gridwidth": 2,
            "linecolor": "white",
            "showbackground": true,
            "ticks": "",
            "zerolinecolor": "white"
           },
           "zaxis": {
            "backgroundcolor": "#E5ECF6",
            "gridcolor": "white",
            "gridwidth": 2,
            "linecolor": "white",
            "showbackground": true,
            "ticks": "",
            "zerolinecolor": "white"
           }
          },
          "shapedefaults": {
           "line": {
            "color": "#2a3f5f"
           }
          },
          "ternary": {
           "aaxis": {
            "gridcolor": "white",
            "linecolor": "white",
            "ticks": ""
           },
           "baxis": {
            "gridcolor": "white",
            "linecolor": "white",
            "ticks": ""
           },
           "bgcolor": "#E5ECF6",
           "caxis": {
            "gridcolor": "white",
            "linecolor": "white",
            "ticks": ""
           }
          },
          "title": {
           "x": 0.05
          },
          "xaxis": {
           "automargin": true,
           "gridcolor": "white",
           "linecolor": "white",
           "ticks": "",
           "title": {
            "standoff": 15
           },
           "zerolinecolor": "white",
           "zerolinewidth": 2
          },
          "yaxis": {
           "automargin": true,
           "gridcolor": "white",
           "linecolor": "white",
           "ticks": "",
           "title": {
            "standoff": 15
           },
           "zerolinecolor": "white",
           "zerolinewidth": 2
          }
         }
        },
        "title": {
         "text": "Word Count Plots"
        },
        "width": 600,
        "xaxis": {
         "anchor": "y",
         "domain": [
          0,
          1
         ]
        },
        "yaxis": {
         "anchor": "x",
         "domain": [
          0,
          1
         ]
        }
       }
      },
      "text/html": [
       "<div>                            <div id=\"813cd9a7-1b04-4b13-ba31-a911a76148b1\" class=\"plotly-graph-div\" style=\"height:600px; width:600px;\"></div>            <script type=\"text/javascript\">                require([\"plotly\"], function(Plotly) {                    window.PLOTLYENV=window.PLOTLYENV || {};                                    if (document.getElementById(\"813cd9a7-1b04-4b13-ba31-a911a76148b1\")) {                    Plotly.newPlot(                        \"813cd9a7-1b04-4b13-ba31-a911a76148b1\",                        [{\"marker\":{\"color\":\"green\"},\"orientation\":\"h\",\"showlegend\":false,\"x\":[2,2,2,2,2,2,2,3,3,4],\"xaxis\":\"x\",\"y\":[\"says lowcarbon business\",\"lowcarbon business one\",\"business one day\",\"one day eclipse\",\"day eclipse oil\",\"eclipse oil gas\",\"exxon mobils nysexom\",\"market gains know\",\"exxon mobil corporation\",\"exxon mobil xom\"],\"yaxis\":\"y\",\"type\":\"bar\"}],                        {\"annotations\":[{\"font\":{\"size\":16},\"showarrow\":false,\"text\":\"Frequent words\",\"x\":0.5,\"xanchor\":\"center\",\"xref\":\"paper\",\"y\":1.0,\"yanchor\":\"bottom\",\"yref\":\"paper\"}],\"height\":600,\"paper_bgcolor\":\"rgb(233,233,233)\",\"template\":{\"data\":{\"barpolar\":[{\"marker\":{\"line\":{\"color\":\"#E5ECF6\",\"width\":0.5},\"pattern\":{\"fillmode\":\"overlay\",\"size\":10,\"solidity\":0.2}},\"type\":\"barpolar\"}],\"bar\":[{\"error_x\":{\"color\":\"#2a3f5f\"},\"error_y\":{\"color\":\"#2a3f5f\"},\"marker\":{\"line\":{\"color\":\"#E5ECF6\",\"width\":0.5},\"pattern\":{\"fillmode\":\"overlay\",\"size\":10,\"solidity\":0.2}},\"type\":\"bar\"}],\"carpet\":[{\"aaxis\":{\"endlinecolor\":\"#2a3f5f\",\"gridcolor\":\"white\",\"linecolor\":\"white\",\"minorgridcolor\":\"white\",\"startlinecolor\":\"#2a3f5f\"},\"baxis\":{\"endlinecolor\":\"#2a3f5f\",\"gridcolor\":\"white\",\"linecolor\":\"white\",\"minorgridcolor\":\"white\",\"startlinecolor\":\"#2a3f5f\"},\"type\":\"carpet\"}],\"choropleth\":[{\"colorbar\":{\"outlinewidth\":0,\"ticks\":\"\"},\"type\":\"choropleth\"}],\"contourcarpet\":[{\"colorbar\":{\"outlinewidth\":0,\"ticks\":\"\"},\"type\":\"contourcarpet\"}],\"contour\":[{\"colorbar\":{\"outlinewidth\":0,\"ticks\":\"\"},\"colorscale\":[[0.0,\"#0d0887\"],[0.1111111111111111,\"#46039f\"],[0.2222222222222222,\"#7201a8\"],[0.3333333333333333,\"#9c179e\"],[0.4444444444444444,\"#bd3786\"],[0.5555555555555556,\"#d8576b\"],[0.6666666666666666,\"#ed7953\"],[0.7777777777777778,\"#fb9f3a\"],[0.8888888888888888,\"#fdca26\"],[1.0,\"#f0f921\"]],\"type\":\"contour\"}],\"heatmapgl\":[{\"colorbar\":{\"outlinewidth\":0,\"ticks\":\"\"},\"colorscale\":[[0.0,\"#0d0887\"],[0.1111111111111111,\"#46039f\"],[0.2222222222222222,\"#7201a8\"],[0.3333333333333333,\"#9c179e\"],[0.4444444444444444,\"#bd3786\"],[0.5555555555555556,\"#d8576b\"],[0.6666666666666666,\"#ed7953\"],[0.7777777777777778,\"#fb9f3a\"],[0.8888888888888888,\"#fdca26\"],[1.0,\"#f0f921\"]],\"type\":\"heatmapgl\"}],\"heatmap\":[{\"colorbar\":{\"outlinewidth\":0,\"ticks\":\"\"},\"colorscale\":[[0.0,\"#0d0887\"],[0.1111111111111111,\"#46039f\"],[0.2222222222222222,\"#7201a8\"],[0.3333333333333333,\"#9c179e\"],[0.4444444444444444,\"#bd3786\"],[0.5555555555555556,\"#d8576b\"],[0.6666666666666666,\"#ed7953\"],[0.7777777777777778,\"#fb9f3a\"],[0.8888888888888888,\"#fdca26\"],[1.0,\"#f0f921\"]],\"type\":\"heatmap\"}],\"histogram2dcontour\":[{\"colorbar\":{\"outlinewidth\":0,\"ticks\":\"\"},\"colorscale\":[[0.0,\"#0d0887\"],[0.1111111111111111,\"#46039f\"],[0.2222222222222222,\"#7201a8\"],[0.3333333333333333,\"#9c179e\"],[0.4444444444444444,\"#bd3786\"],[0.5555555555555556,\"#d8576b\"],[0.6666666666666666,\"#ed7953\"],[0.7777777777777778,\"#fb9f3a\"],[0.8888888888888888,\"#fdca26\"],[1.0,\"#f0f921\"]],\"type\":\"histogram2dcontour\"}],\"histogram2d\":[{\"colorbar\":{\"outlinewidth\":0,\"ticks\":\"\"},\"colorscale\":[[0.0,\"#0d0887\"],[0.1111111111111111,\"#46039f\"],[0.2222222222222222,\"#7201a8\"],[0.3333333333333333,\"#9c179e\"],[0.4444444444444444,\"#bd3786\"],[0.5555555555555556,\"#d8576b\"],[0.6666666666666666,\"#ed7953\"],[0.7777777777777778,\"#fb9f3a\"],[0.8888888888888888,\"#fdca26\"],[1.0,\"#f0f921\"]],\"type\":\"histogram2d\"}],\"histogram\":[{\"marker\":{\"pattern\":{\"fillmode\":\"overlay\",\"size\":10,\"solidity\":0.2}},\"type\":\"histogram\"}],\"mesh3d\":[{\"colorbar\":{\"outlinewidth\":0,\"ticks\":\"\"},\"type\":\"mesh3d\"}],\"parcoords\":[{\"line\":{\"colorbar\":{\"outlinewidth\":0,\"ticks\":\"\"}},\"type\":\"parcoords\"}],\"pie\":[{\"automargin\":true,\"type\":\"pie\"}],\"scatter3d\":[{\"line\":{\"colorbar\":{\"outlinewidth\":0,\"ticks\":\"\"}},\"marker\":{\"colorbar\":{\"outlinewidth\":0,\"ticks\":\"\"}},\"type\":\"scatter3d\"}],\"scattercarpet\":[{\"marker\":{\"colorbar\":{\"outlinewidth\":0,\"ticks\":\"\"}},\"type\":\"scattercarpet\"}],\"scattergeo\":[{\"marker\":{\"colorbar\":{\"outlinewidth\":0,\"ticks\":\"\"}},\"type\":\"scattergeo\"}],\"scattergl\":[{\"marker\":{\"colorbar\":{\"outlinewidth\":0,\"ticks\":\"\"}},\"type\":\"scattergl\"}],\"scattermapbox\":[{\"marker\":{\"colorbar\":{\"outlinewidth\":0,\"ticks\":\"\"}},\"type\":\"scattermapbox\"}],\"scatterpolargl\":[{\"marker\":{\"colorbar\":{\"outlinewidth\":0,\"ticks\":\"\"}},\"type\":\"scatterpolargl\"}],\"scatterpolar\":[{\"marker\":{\"colorbar\":{\"outlinewidth\":0,\"ticks\":\"\"}},\"type\":\"scatterpolar\"}],\"scatter\":[{\"fillpattern\":{\"fillmode\":\"overlay\",\"size\":10,\"solidity\":0.2},\"type\":\"scatter\"}],\"scatterternary\":[{\"marker\":{\"colorbar\":{\"outlinewidth\":0,\"ticks\":\"\"}},\"type\":\"scatterternary\"}],\"surface\":[{\"colorbar\":{\"outlinewidth\":0,\"ticks\":\"\"},\"colorscale\":[[0.0,\"#0d0887\"],[0.1111111111111111,\"#46039f\"],[0.2222222222222222,\"#7201a8\"],[0.3333333333333333,\"#9c179e\"],[0.4444444444444444,\"#bd3786\"],[0.5555555555555556,\"#d8576b\"],[0.6666666666666666,\"#ed7953\"],[0.7777777777777778,\"#fb9f3a\"],[0.8888888888888888,\"#fdca26\"],[1.0,\"#f0f921\"]],\"type\":\"surface\"}],\"table\":[{\"cells\":{\"fill\":{\"color\":\"#EBF0F8\"},\"line\":{\"color\":\"white\"}},\"header\":{\"fill\":{\"color\":\"#C8D4E3\"},\"line\":{\"color\":\"white\"}},\"type\":\"table\"}]},\"layout\":{\"annotationdefaults\":{\"arrowcolor\":\"#2a3f5f\",\"arrowhead\":0,\"arrowwidth\":1},\"autotypenumbers\":\"strict\",\"coloraxis\":{\"colorbar\":{\"outlinewidth\":0,\"ticks\":\"\"}},\"colorscale\":{\"diverging\":[[0,\"#8e0152\"],[0.1,\"#c51b7d\"],[0.2,\"#de77ae\"],[0.3,\"#f1b6da\"],[0.4,\"#fde0ef\"],[0.5,\"#f7f7f7\"],[0.6,\"#e6f5d0\"],[0.7,\"#b8e186\"],[0.8,\"#7fbc41\"],[0.9,\"#4d9221\"],[1,\"#276419\"]],\"sequential\":[[0.0,\"#0d0887\"],[0.1111111111111111,\"#46039f\"],[0.2222222222222222,\"#7201a8\"],[0.3333333333333333,\"#9c179e\"],[0.4444444444444444,\"#bd3786\"],[0.5555555555555556,\"#d8576b\"],[0.6666666666666666,\"#ed7953\"],[0.7777777777777778,\"#fb9f3a\"],[0.8888888888888888,\"#fdca26\"],[1.0,\"#f0f921\"]],\"sequentialminus\":[[0.0,\"#0d0887\"],[0.1111111111111111,\"#46039f\"],[0.2222222222222222,\"#7201a8\"],[0.3333333333333333,\"#9c179e\"],[0.4444444444444444,\"#bd3786\"],[0.5555555555555556,\"#d8576b\"],[0.6666666666666666,\"#ed7953\"],[0.7777777777777778,\"#fb9f3a\"],[0.8888888888888888,\"#fdca26\"],[1.0,\"#f0f921\"]]},\"colorway\":[\"#636efa\",\"#EF553B\",\"#00cc96\",\"#ab63fa\",\"#FFA15A\",\"#19d3f3\",\"#FF6692\",\"#B6E880\",\"#FF97FF\",\"#FECB52\"],\"font\":{\"color\":\"#2a3f5f\"},\"geo\":{\"bgcolor\":\"white\",\"lakecolor\":\"white\",\"landcolor\":\"#E5ECF6\",\"showlakes\":true,\"showland\":true,\"subunitcolor\":\"white\"},\"hoverlabel\":{\"align\":\"left\"},\"hovermode\":\"closest\",\"mapbox\":{\"style\":\"light\"},\"paper_bgcolor\":\"white\",\"plot_bgcolor\":\"#E5ECF6\",\"polar\":{\"angularaxis\":{\"gridcolor\":\"white\",\"linecolor\":\"white\",\"ticks\":\"\"},\"bgcolor\":\"#E5ECF6\",\"radialaxis\":{\"gridcolor\":\"white\",\"linecolor\":\"white\",\"ticks\":\"\"}},\"scene\":{\"xaxis\":{\"backgroundcolor\":\"#E5ECF6\",\"gridcolor\":\"white\",\"gridwidth\":2,\"linecolor\":\"white\",\"showbackground\":true,\"ticks\":\"\",\"zerolinecolor\":\"white\"},\"yaxis\":{\"backgroundcolor\":\"#E5ECF6\",\"gridcolor\":\"white\",\"gridwidth\":2,\"linecolor\":\"white\",\"showbackground\":true,\"ticks\":\"\",\"zerolinecolor\":\"white\"},\"zaxis\":{\"backgroundcolor\":\"#E5ECF6\",\"gridcolor\":\"white\",\"gridwidth\":2,\"linecolor\":\"white\",\"showbackground\":true,\"ticks\":\"\",\"zerolinecolor\":\"white\"}},\"shapedefaults\":{\"line\":{\"color\":\"#2a3f5f\"}},\"ternary\":{\"aaxis\":{\"gridcolor\":\"white\",\"linecolor\":\"white\",\"ticks\":\"\"},\"baxis\":{\"gridcolor\":\"white\",\"linecolor\":\"white\",\"ticks\":\"\"},\"bgcolor\":\"#E5ECF6\",\"caxis\":{\"gridcolor\":\"white\",\"linecolor\":\"white\",\"ticks\":\"\"}},\"title\":{\"x\":0.05},\"xaxis\":{\"automargin\":true,\"gridcolor\":\"white\",\"linecolor\":\"white\",\"ticks\":\"\",\"title\":{\"standoff\":15},\"zerolinecolor\":\"white\",\"zerolinewidth\":2},\"yaxis\":{\"automargin\":true,\"gridcolor\":\"white\",\"linecolor\":\"white\",\"ticks\":\"\",\"title\":{\"standoff\":15},\"zerolinecolor\":\"white\",\"zerolinewidth\":2}}},\"title\":{\"text\":\"Word Count Plots\"},\"width\":600,\"xaxis\":{\"anchor\":\"y\",\"domain\":[0.0,1.0]},\"yaxis\":{\"anchor\":\"x\",\"domain\":[0.0,1.0]}},                        {\"responsive\": true}                    ).then(function(){\n",
       "                            \n",
       "var gd = document.getElementById('813cd9a7-1b04-4b13-ba31-a911a76148b1');\n",
       "var x = new MutationObserver(function (mutations, observer) {{\n",
       "        var display = window.getComputedStyle(gd).display;\n",
       "        if (!display || display === 'none') {{\n",
       "            console.log([gd, 'removed!']);\n",
       "            Plotly.purge(gd);\n",
       "            observer.disconnect();\n",
       "        }}\n",
       "}});\n",
       "\n",
       "// Listen for the removal of the full notebook cells\n",
       "var notebookContainer = gd.closest('#notebook-container');\n",
       "if (notebookContainer) {{\n",
       "    x.observe(notebookContainer, {childList: true});\n",
       "}}\n",
       "\n",
       "// Listen for the clearing of the current output cell\n",
       "var outputEl = gd.closest('.output');\n",
       "if (outputEl) {{\n",
       "    x.observe(outputEl, {childList: true});\n",
       "}}\n",
       "\n",
       "                        })                };                });            </script>        </div>"
      ]
     },
     "metadata": {},
     "output_type": "display_data"
    }
   ],
   "source": [
    "## Get the bar chart from 5 rated reviews ##\n",
    "freq_dict = defaultdict(int)\n",
    "for sent in df[\"Headline_Lower\"]:\n",
    "    for word in generate_ngrams(sent,3):\n",
    "        freq_dict[word] += 1\n",
    "fd_sorted = pd.DataFrame(sorted(freq_dict.items(), key=lambda x: x[1])[::-1])\n",
    "fd_sorted.columns = [\"word\", \"wordcount\"]\n",
    "trace0 = horizontal_bar_chart(fd_sorted.head(10), 'green')\n",
    "\n",
    "# Creating two subplots\n",
    "fig = tools.make_subplots(rows=1, cols=1, vertical_spacing=0.04,\n",
    "                          subplot_titles=[\"Frequent words\"])\n",
    "fig.append_trace(trace0, 1, 1)\n",
    "#fig.append_trace(trace1, 1, 2)\n",
    "fig['layout'].update(height=600, width=600, paper_bgcolor='rgb(233,233,233)', title=\"Word Count Plots\")\n",
    "py.iplot(fig, filename='word-plots');"
   ]
  },
  {
   "cell_type": "code",
   "execution_count": 27,
   "metadata": {},
   "outputs": [
    {
     "name": "stdout",
     "output_type": "stream",
     "text": [
      "[*********************100%***********************]  1 of 1 completed\n"
     ]
    }
   ],
   "source": [
    "spy_ohlc_df = yf.download(text_input, start=dt.date.today() - dt.timedelta(days=1095), end=dt.date.today())\n",
    "df=spy_ohlc_df.reset_index()"
   ]
  },
  {
   "cell_type": "code",
   "execution_count": 28,
   "metadata": {},
   "outputs": [],
   "source": [
    "# fig, ax = plt.subplots()\n",
    "# fig.set_size_inches(15,6)\n",
    "# sns.lineplot(x = 'Date', y = 'Close', data = df)\n",
    "# plt.show()"
   ]
  },
  {
   "cell_type": "code",
   "execution_count": 54,
   "metadata": {},
   "outputs": [
    {
     "name": "stderr",
     "output_type": "stream",
     "text": [
      "23:35:38 - cmdstanpy - INFO - Chain [1] start processing\n",
      "23:35:39 - cmdstanpy - INFO - Chain [1] done processing\n"
     ]
    },
    {
     "data": {
      "text/plain": [
       "<prophet.forecaster.Prophet at 0x217caac60b0>"
      ]
     },
     "execution_count": 54,
     "metadata": {},
     "output_type": "execute_result"
    }
   ],
   "source": [
    "# Load SPY price data\n",
    "spy_data = df\n",
    "spy_data = df[['Date', 'Close']]\n",
    "spy_data.columns = ['ds', 'y']\n",
    "\n",
    "# Initialize Prophet model\n",
    "model = Prophet()\n",
    "\n",
    "# Fit the model on SPY data\n",
    "model.fit(spy_data)\n",
    "\n",
    "# Create future dates for forecasting\n",
    "future_dates = model.make_future_dataframe(periods=365, include_history=False)\n",
    "\n",
    "# Make predictions for future dates\n",
    "forecast = model.predict(future_dates)"
   ]
  },
  {
   "cell_type": "code",
   "execution_count": 55,
   "metadata": {},
   "outputs": [],
   "source": [
    "# fig = model.plot(forecast, xlabel='Date', ylabel='SPY Price')\n",
    "# fig.set_size_inches(15,6)\n",
    "# plt.title('Forecasted Price')\n",
    "# plt.xlabel('dt')\n",
    "# plt.ylabel('Price')\n",
    "# plt.show()"
   ]
  },
  {
   "cell_type": "code",
   "execution_count": 60,
   "metadata": {},
   "outputs": [
    {
     "data": {
      "image/png": "[encoded data removed]",
      "text/plain": [
       "<Figure size 720x432 with 1 Axes>"
      ]
     },
     "execution_count": 60,
     "metadata": {},
     "output_type": "execute_result"
    },
    {
     "data": {
      "text/plain": [
       "(19094.0, 19824.0)"
      ]
     },
     "execution_count": 60,
     "metadata": {},
     "output_type": "execute_result"
    },
    {
     "data": {
      "image/png": "[encoded data removed]",
      "text/plain": [
       "<Figure size 720x432 with 1 Axes>"
      ]
     },
     "metadata": {},
     "output_type": "display_data"
    },
    {
     "data": {
      "image/png": "[encoded data removed]",
      "text/plain": [
       "<Figure size 648x648 with 3 Axes>"
      ]
     },
     "metadata": {},
     "output_type": "display_data"
    }
   ],
   "source": [
    "# Plot the forecasted data\n",
    "model.plot(forecast, xlabel='Date', ylabel='SPY Price')\n",
    "plt.xlim(dt.date.today() - dt.timedelta(days=365), dt.date.today() + dt.timedelta(days=365))\n",
    "\n",
    "# Plot the forecasted trend and seasonality components\n",
    "fig = model.plot_components(forecast)\n",
    "plt.show()"
   ]
  },
  {
   "cell_type": "code",
   "execution_count": 61,
   "metadata": {},
   "outputs": [
    {
     "name": "stdout",
     "output_type": "stream",
     "text": [
      "[*********************100%***********************]  1 of 1 completed\n"
     ]
    }
   ],
   "source": [
    "spy_ohlc_df = yf.download(text_input, start=dt.date.today() - dt.timedelta(days=30), end=dt.date.today())\n",
    "df1=spy_ohlc_df.reset_index()\n",
    "\n",
    "# spy_ohlc_df = yf.download(text_input, start=dt.date.today() - dt.timedelta(days=7), end=dt.date.today())\n",
    "# df1=spy_ohlc_df.reset_index()"
   ]
  },
  {
   "cell_type": "code",
   "execution_count": 62,
   "metadata": {},
   "outputs": [],
   "source": [
    "# fig, ax = plt.subplots()\n",
    "# fig.set_size_inches(15,6)\n",
    "# sns.lineplot(x = 'Datetime', y = 'Close', data = df1)\n",
    "# plt.show()"
   ]
  },
  {
   "cell_type": "code",
   "execution_count": 64,
   "metadata": {},
   "outputs": [
    {
     "name": "stderr",
     "output_type": "stream",
     "text": [
      "23:38:05 - cmdstanpy - INFO - Chain [1] start processing\n",
      "23:38:05 - cmdstanpy - INFO - Chain [1] done processing\n"
     ]
    },
    {
     "data": {
      "text/plain": [
       "<prophet.forecaster.Prophet at 0x217eb059720>"
      ]
     },
     "execution_count": 64,
     "metadata": {},
     "output_type": "execute_result"
    }
   ],
   "source": [
    "# Load SPY price data\n",
    "spy_data = df1\n",
    "spy_data = df1[['Date', 'Close']]\n",
    "#spy_data = df1[['Date', 'Close']]\n",
    "spy_data.columns = ['ds', 'y']\n",
    "\n",
    "# Initialize Prophet model\n",
    "model = Prophet()\n",
    "\n",
    "# Fit the model on SPY data\n",
    "model.fit(spy_data)\n",
    "\n",
    "# Create future dates for forecasting\n",
    "future_dates = model.make_future_dataframe(periods=30, include_history=False)\n",
    "\n",
    "# Make predictions for future dates\n",
    "forecast = model.predict(future_dates)\n"
   ]
  },
  {
   "cell_type": "code",
   "execution_count": null,
   "metadata": {},
   "outputs": [],
   "source": [
    "# fig = model.plot(forecast, xlabel='Date', ylabel='SPY Price')\n",
    "# fig.set_size_inches(15,6)\n",
    "# plt.title('Forecasted Price')\n",
    "# plt.xlabel('dt')\n",
    "# plt.ylabel('Price')\n",
    "# plt.show()"
   ]
  },
  {
   "cell_type": "code",
   "execution_count": 65,
   "metadata": {},
   "outputs": [
    {
     "data": {
      "image/png": "[encoded data removed]",
      "text/plain": [
       "<Figure size 720x432 with 1 Axes>"
      ]
     },
     "execution_count": 65,
     "metadata": {},
     "output_type": "execute_result"
    },
    {
     "data": {
      "text/plain": [
       "(19429.0, 19489.0)"
      ]
     },
     "execution_count": 65,
     "metadata": {},
     "output_type": "execute_result"
    },
    {
     "data": {
      "image/png": "[encoded data removed]",
      "text/plain": [
       "<Figure size 720x432 with 1 Axes>"
      ]
     },
     "metadata": {},
     "output_type": "display_data"
    },
    {
     "data": {
      "image/png": "[encoded data removed]",
      "text/plain": [
       "<Figure size 648x432 with 2 Axes>"
      ]
     },
     "metadata": {},
     "output_type": "display_data"
    }
   ],
   "source": [
    "# Plot the forecasted data\n",
    "model.plot(forecast, xlabel='Date', ylabel='SPY Price')\n",
    "plt.xlim(dt.date.today() - dt.timedelta(days=30), dt.date.today() + dt.timedelta(days=30))\n",
    "\n",
    "# Plot the forecasted trend and seasonality components\n",
    "fig = model.plot_components(forecast)\n",
    "plt.show()"
   ]
  },
  {
   "cell_type": "code",
   "execution_count": 66,
   "metadata": {},
   "outputs": [
    {
     "name": "stdout",
     "output_type": "stream",
     "text": [
      "[*********************100%***********************]  1 of 1 completed\n"
     ]
    }
   ],
   "source": [
    "spy_ohlc_df = yf.download(text_input, start=dt.date.today() - dt.timedelta(days=7), end=dt.date.today(), interval='1m')\n",
    "df1=spy_ohlc_df.reset_index()\n",
    "\n",
    "# spy_ohlc_df = yf.download(text_input, start=dt.date.today() - dt.timedelta(days=7), end=dt.date.today())\n",
    "# df1=spy_ohlc_df.reset_index()"
   ]
  },
  {
   "cell_type": "code",
   "execution_count": 67,
   "metadata": {},
   "outputs": [],
   "source": [
    "# fig, ax = plt.subplots()\n",
    "# fig.set_size_inches(15,6)\n",
    "# sns.lineplot(x = 'Datetime', y = 'Close', data = df1)\n",
    "# plt.show()"
   ]
  },
  {
   "cell_type": "code",
   "execution_count": 68,
   "metadata": {},
   "outputs": [
    {
     "name": "stderr",
     "output_type": "stream",
     "text": [
      "23:38:59 - cmdstanpy - INFO - Chain [1] start processing\n",
      "23:39:00 - cmdstanpy - INFO - Chain [1] done processing\n"
     ]
    },
    {
     "data": {
      "text/plain": [
       "<prophet.forecaster.Prophet at 0x217eb059900>"
      ]
     },
     "execution_count": 68,
     "metadata": {},
     "output_type": "execute_result"
    }
   ],
   "source": [
    "# Load SPY price data\n",
    "spy_data = df1\n",
    "spy_data = df1[['Datetime', 'Close']]\n",
    "#spy_data = df1[['Date', 'Close']]\n",
    "spy_data.columns = ['ds', 'y']\n",
    "\n",
    "# Initialize Prophet model\n",
    "model = Prophet()\n",
    "\n",
    "# Fit the model on SPY data\n",
    "model.fit(spy_data)\n",
    "\n",
    "# Create future dates for forecasting\n",
    "future_dates = model.make_future_dataframe(periods=2880, freq='T', include_history=False)\n",
    "\n",
    "\n",
    "# Make predictions for future dates\n",
    "forecast = model.predict(future_dates)\n"
   ]
  },
  {
   "cell_type": "code",
   "execution_count": 69,
   "metadata": {},
   "outputs": [],
   "source": [
    "# fig = model.plot(forecast, xlabel='Date', ylabel='SPY Price')\n",
    "# fig.set_size_inches(15,6)\n",
    "# plt.title('Forecasted Price')\n",
    "# plt.xlabel('dt')\n",
    "# plt.ylabel('Price')\n",
    "# plt.show()"
   ]
  },
  {
   "cell_type": "code",
   "execution_count": 70,
   "metadata": {},
   "outputs": [
    {
     "data": {
      "image/png": "[encoded data removed]",
      "text/plain": [
       "<Figure size 720x432 with 1 Axes>"
      ]
     },
     "execution_count": 70,
     "metadata": {},
     "output_type": "execute_result"
    },
    {
     "data": {
      "text/plain": [
       "(19458.0, 19460.0)"
      ]
     },
     "execution_count": 70,
     "metadata": {},
     "output_type": "execute_result"
    },
    {
     "data": {
      "image/png": "[encoded data removed]",
      "text/plain": [
       "<Figure size 720x432 with 1 Axes>"
      ]
     },
     "metadata": {},
     "output_type": "display_data"
    },
    {
     "data": {
      "image/png": "[encoded data removed]",
      "text/plain": [
       "<Figure size 648x432 with 2 Axes>"
      ]
     },
     "metadata": {},
     "output_type": "display_data"
    }
   ],
   "source": [
    "# Plot the forecasted data\n",
    "model.plot(forecast, xlabel='Date', ylabel='SPY Price')\n",
    "plt.xlim(dt.date.today() - dt.timedelta(days=1), dt.date.today() + dt.timedelta(minutes=1440))\n",
    "\n",
    "# Plot the forecasted trend and seasonality components\n",
    "fig = model.plot_components(forecast)\n",
    "plt.show()"
   ]
  }
 ],
 "metadata": {
  "kernelspec": {
   "display_name": "Python 3.10.1 64-bit",
   "language": "python",
   "name": "python3"
  },
  "language_info": {
   "codemirror_mode": {
    "name": "ipython",
    "version": 3
   },
   "file_extension": ".py",
   "mimetype": "text/x-python",
   "name": "python",
   "nbconvert_exporter": "python",
   "pygments_lexer": "ipython3",
   "version": "3.10.1"
  },
  "orig_nbformat": 4,
  "vscode": {
   "interpreter": {
    "hash": "998c911629ba937bcf1bf80465453e12e8c5c2c818cb936f93ef7cf495a937a9"
   }
  }
 },
 "nbformat": 4,
 "nbformat_minor": 2
}
