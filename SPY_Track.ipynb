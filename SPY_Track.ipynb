{
 "cells": [
  {
   "cell_type": "code",
   "execution_count": 1,
   "metadata": {},
   "outputs": [
    {
     "name": "stderr",
     "output_type": "stream",
     "text": [
      "c:\\Users\\Woon\\AppData\\Local\\Programs\\Python\\Python310\\lib\\site-packages\\tqdm\\auto.py:22: TqdmWarning: IProgress not found. Please update jupyter and ipywidgets. See https://ipywidgets.readthedocs.io/en/stable/user_install.html\n",
      "  from .autonotebook import tqdm as notebook_tqdm\n"
     ]
    }
   ],
   "source": [
    "import pandas as pd\n",
    "import numpy as np\n",
    "import yfinance as yf\n",
    "import seaborn as sns\n",
    "import matplotlib.pyplot as plt\n",
    "from prophet import Prophet\n",
    "import datetime as dt\n",
    "from datetime import date\n",
    "import tkinter.messagebox as mbox\n",
    "\n",
    "from bs4 import BeautifulSoup\n",
    "import time\n",
    "from selenium import webdriver\n",
    "from urllib.parse import urljoin\n",
    "\n",
    "import warnings\n",
    "warnings.filterwarnings(\"ignore\")\n",
    "\n",
    "from IPython.core.interactiveshell import InteractiveShell\n",
    "InteractiveShell.ast_node_interactivity = 'all'\n",
    "\n",
    "# Environment settings: \n",
    "pd.set_option('display.max_column', None)\n",
    "pd.set_option('display.max_rows', None)\n",
    "pd.set_option('display.max_seq_items', None)\n",
    "pd.set_option('display.max_colwidth', 500)\n",
    "pd.set_option('expand_frame_repr', True)"
   ]
  },
  {
   "cell_type": "code",
   "execution_count": 2,
   "metadata": {},
   "outputs": [],
   "source": [
    "def get_page(url):\n",
    "    \"\"\"Download a webpage and return a beautiful soup doc\"\"\"\n",
    "    ##### Web scrapper for infinite scrolling page #####\n",
    "    driver = webdriver.Chrome(executable_path=r\"E:\\Chromedriver\\chromedriver_win32_chrome83\\chromedriver.exe\")\n",
    "    driver.get(url)\n",
    "    time.sleep(2)  # Allow 2 seconds for the web page to open\n",
    "    scroll_pause_time = 1 # You can set your own pause time. My laptop is a bit slow so I use 1 sec\n",
    "    screen_height = driver.execute_script(\"return window.screen.height;\")   # get the screen height of the web\n",
    "    i = 1\n",
    "\n",
    "    while True:\n",
    "        # scroll one screen height each time\n",
    "        driver.execute_script(\"window.scrollTo(0, {screen_height}*{i});\".format(screen_height=screen_height, i=i))  \n",
    "        i += 1\n",
    "        time.sleep(scroll_pause_time)\n",
    "        # update scroll height each time after scrolled, as the scroll height can change after we scrolled the page\n",
    "        scroll_height = driver.execute_script(\"return document.body.scrollHeight;\")  \n",
    "        # Break the loop when the height we need to scroll to is larger than the total scroll height\n",
    "        if i == 20:\n",
    "            break \n",
    "\n",
    "    ##### Extract Reddit URLs #####\n",
    "    soup = BeautifulSoup(driver.page_source, \"html.parser\")\n",
    "    return soup"
   ]
  },
  {
   "cell_type": "code",
   "execution_count": 3,
   "metadata": {},
   "outputs": [],
   "source": [
    "def get_news_tags(doc):\n",
    "    \"\"\"Get the list of tags containing news information\"\"\"\n",
    "    news_class = \"Ov(h) Pend(44px) Pstart(25px)\" ## class name of div tag \n",
    "    news_list  = doc.find_all('div', {'class': news_class})\n",
    "    return news_list"
   ]
  },
  {
   "cell_type": "code",
   "execution_count": 4,
   "metadata": {},
   "outputs": [],
   "source": [
    "def parse_news(news_tag):\n",
    "    \"\"\"Get the news data point and return dictionary\"\"\"\n",
    "    news_source = news_tag.find_all('span')[0].text #source\n",
    "    news_time = news_tag.find_all('span')[1].text #link\n",
    "    news_headline = news_tag.find('a').text #heading\n",
    "    news_content = news_tag.find('p').text #content\n",
    "    news_image = news_tag.findParent().find('img')['src'] #thumb image\n",
    "    return { 'source' : news_source,\n",
    "            'time' : news_time,    \n",
    "            'headline' : news_headline,\n",
    "            'content' : news_content,\n",
    "           }"
   ]
  },
  {
   "cell_type": "code",
   "execution_count": 5,
   "metadata": {},
   "outputs": [],
   "source": [
    "def scrape_yahoo_news(url, path=None):\n",
    "    \"\"\"Get the yahoo finance market news and write them to CSV file \"\"\"\n",
    "    if path is None:\n",
    "        path = 'stock-market-news.csv'\n",
    "        \n",
    "    #print('Requesting html page')\n",
    "    doc = get_page(url)\n",
    "\n",
    "    #print('Extracting news tags')\n",
    "    news_list = get_news_tags(doc)\n",
    "\n",
    "    #print('Parsing news tags')\n",
    "    news_data = [parse_news(news_tag) for news_tag in news_list]\n",
    "\n",
    "    #print('Save the data to a CSV')\n",
    "    news_df = pd.DataFrame(news_data)\n",
    "    #news_df.to_csv(path, index=None)\n",
    "    \n",
    "    #This return statement is optional, we are doing this just analyze the final output \n",
    "    return news_df "
   ]
  },
  {
   "cell_type": "code",
   "execution_count": 6,
   "metadata": {},
   "outputs": [],
   "source": [
    "import sys\n",
    "sys.path.insert(1, 'C:/Users/Woon/Desktop/Columbia/Applied Analytics/Term3/Sentiment_SNP')\n",
    "\n",
    "import helper_functions\n",
    "from helper_functions import *"
   ]
  },
  {
   "cell_type": "code",
   "execution_count": 7,
   "metadata": {},
   "outputs": [
    {
     "data": {
      "text/html": [
       "        <script type=\"text/javascript\">\n",
       "        window.PlotlyConfig = {MathJaxConfig: 'local'};\n",
       "        if (window.MathJax && window.MathJax.Hub && window.MathJax.Hub.Config) {window.MathJax.Hub.Config({SVG: {font: \"STIX-Web\"}});}\n",
       "        if (typeof require !== 'undefined') {\n",
       "        require.undef(\"plotly\");\n",
       "        requirejs.config({\n",
       "            paths: {\n",
       "                'plotly': ['https://cdn.plot.ly/plotly-2.14.0.min']\n",
       "            }\n",
       "        });\n",
       "        require(['plotly'], function(Plotly) {\n",
       "            window._Plotly = Plotly;\n",
       "        });\n",
       "        }\n",
       "        </script>\n",
       "        "
      ]
     },
     "metadata": {},
     "output_type": "display_data"
    }
   ],
   "source": [
    "from collections import defaultdict\n",
    "from plotly import tools\n",
    "import plotly.offline as py\n",
    "py.init_notebook_mode(connected=True)\n",
    "\n",
    "from transformers import pipeline"
   ]
  },
  {
   "cell_type": "code",
   "execution_count": 8,
   "metadata": {},
   "outputs": [],
   "source": [
    "sentiment_pipeline = pipeline(\"sentiment-analysis\", model=\"distilbert-base-uncased-finetuned-sst-2-english\")"
   ]
  },
  {
   "attachments": {},
   "cell_type": "markdown",
   "metadata": {},
   "source": [
    "# Ticker"
   ]
  },
  {
   "cell_type": "code",
   "execution_count": 9,
   "metadata": {},
   "outputs": [],
   "source": [
    "from urllib.request import Request, urlopen\n",
    "from urllib.error import HTTPError\n",
    "import socket\n",
    "import urllib"
   ]
  },
  {
   "cell_type": "code",
   "execution_count": 10,
   "metadata": {},
   "outputs": [],
   "source": [
    "# text_input = input(\"Type in the Ticker: \")\n",
    "# print(\"You entered:\", text_input)\n",
    "\n",
    "text_input = 'nusi'"
   ]
  },
  {
   "attachments": {},
   "cell_type": "markdown",
   "metadata": {},
   "source": [
    "# Yahoo Finance News"
   ]
  },
  {
   "cell_type": "code",
   "execution_count": 11,
   "metadata": {},
   "outputs": [
    {
     "name": "stdout",
     "output_type": "stream",
     "text": [
      "Report Date =  2023-04-12\n",
      "Report Time = 23:17:57\n"
     ]
    }
   ],
   "source": [
    "from datetime import datetime\n",
    "\n",
    "now = datetime.now()\n",
    "current_time = now.strftime(\"%H:%M:%S\")\n",
    "print(\"Report Date = \", date.today())\n",
    "print(\"Report Time =\", current_time)\n",
    "YAHOO_NEWS_URL = f'https://finance.yahoo.com/quote/{text_input}?p={text_input}&.tsrc=fin-srch'\n",
    "news_df = scrape_yahoo_news(YAHOO_NEWS_URL)"
   ]
  },
  {
   "cell_type": "code",
   "execution_count": 12,
   "metadata": {},
   "outputs": [],
   "source": [
    "sentiment = [None] * len(news_df)\n",
    "sentiment_score = [None] * len(news_df)\n",
    "index = -1\n",
    "for sentence in news_df['headline']:\n",
    "    index+=1\n",
    "    result = sentiment_pipeline(sentence[:512])[0]\n",
    "    sentiment[index] = result['label']\n",
    "    sentiment_score[index] = result['score']\n",
    "news_df['Sentiment'] = sentiment\n",
    "news_df['Score'] = sentiment_score\n",
    "\n",
    "\n",
    "sentiment = [None] * len(news_df)\n",
    "sentiment_score = [None] * len(news_df)\n",
    "index = -1\n",
    "for sentence in news_df['content']:\n",
    "    index+=1\n",
    "    result = sentiment_pipeline(sentence[:512])[0]\n",
    "    sentiment[index] = result['label']\n",
    "    sentiment_score[index] = result['score']\n",
    "news_df['Sentiment2'] = sentiment\n",
    "news_df['Score2'] = sentiment_score"
   ]
  },
  {
   "cell_type": "code",
   "execution_count": 13,
   "metadata": {},
   "outputs": [
    {
     "data": {
      "text/html": [
       "<div>\n",
       "<style scoped>\n",
       "    .dataframe tbody tr th:only-of-type {\n",
       "        vertical-align: middle;\n",
       "    }\n",
       "\n",
       "    .dataframe tbody tr th {\n",
       "        vertical-align: top;\n",
       "    }\n",
       "\n",
       "    .dataframe thead th {\n",
       "        text-align: right;\n",
       "    }\n",
       "</style>\n",
       "<table border=\"1\" class=\"dataframe\">\n",
       "  <thead>\n",
       "    <tr style=\"text-align: right;\">\n",
       "      <th></th>\n",
       "      <th>source</th>\n",
       "      <th>time</th>\n",
       "      <th>headline</th>\n",
       "      <th>content</th>\n",
       "      <th>Sentiment</th>\n",
       "      <th>Score</th>\n",
       "      <th>Sentiment2</th>\n",
       "      <th>Score2</th>\n",
       "    </tr>\n",
       "  </thead>\n",
       "  <tbody>\n",
       "    <tr>\n",
       "      <th>0</th>\n",
       "      <td>Zacks</td>\n",
       "      <td>17 hours ago</td>\n",
       "      <td>Should SPDR S&amp;P 500 ETF (SPY) Be on Your Investing Radar?</td>\n",
       "      <td>Style Box ETF report for SPY</td>\n",
       "      <td>NEGATIVE</td>\n",
       "      <td>0.998921</td>\n",
       "      <td>NEGATIVE</td>\n",
       "      <td>0.931347</td>\n",
       "    </tr>\n",
       "    <tr>\n",
       "      <th>2</th>\n",
       "      <td>The Wall Street Journal</td>\n",
       "      <td>6 days ago</td>\n",
       "      <td>Options Investors Face Challenges in a Volatile, but Flat, Stock Market</td>\n",
       "      <td>The lack of a sustained move up or down in the market increases the likelihood that options contracts will expire worthless</td>\n",
       "      <td>NEGATIVE</td>\n",
       "      <td>0.998616</td>\n",
       "      <td>NEGATIVE</td>\n",
       "      <td>0.999663</td>\n",
       "    </tr>\n",
       "    <tr>\n",
       "      <th>3</th>\n",
       "      <td>Zacks</td>\n",
       "      <td>6 days ago</td>\n",
       "      <td>Jobless Claims Makeover: 228K, 200K+ for 8 Weeks</td>\n",
       "      <td>Seasonal adjustments now show we've been above 200K new claims for the past eight weeks.</td>\n",
       "      <td>NEGATIVE</td>\n",
       "      <td>0.988532</td>\n",
       "      <td>NEGATIVE</td>\n",
       "      <td>0.975258</td>\n",
       "    </tr>\n",
       "    <tr>\n",
       "      <th>4</th>\n",
       "      <td>Motley Fool</td>\n",
       "      <td>7 days ago</td>\n",
       "      <td>Could This Alternative S&amp;P 500 Index ETF Make You More Money Than the Most Popular ETFs?</td>\n",
       "      <td>Is investing in index exchange-traded funds (ETFs) boring?  Actually, an S&amp;P 500 index fund offers a great way to retire as a millionaire.  Two S&amp;P 500 ETFs -- SPDR S&amp;P 500 ETF Trust (NYSEMKT: SPY) and Vanguard 500 Index Fund ETF (NYSEMKT: VOO) -- are by far the most widely traded.</td>\n",
       "      <td>NEGATIVE</td>\n",
       "      <td>0.999154</td>\n",
       "      <td>NEGATIVE</td>\n",
       "      <td>0.808636</td>\n",
       "    </tr>\n",
       "    <tr>\n",
       "      <th>5</th>\n",
       "      <td>TheStreet.com</td>\n",
       "      <td>9 days ago</td>\n",
       "      <td>What the Technicals Say for the S&amp;P 500 and Nasdaq in the Second Quarter</td>\n",
       "      <td>The Nasdaq roared in the first quarter, while the S&amp;P 500 put up respectable gains. Here are the major levels for the indexes in the second quarter.</td>\n",
       "      <td>NEGATIVE</td>\n",
       "      <td>0.979748</td>\n",
       "      <td>POSITIVE</td>\n",
       "      <td>0.776594</td>\n",
       "    </tr>\n",
       "    <tr>\n",
       "      <th>6</th>\n",
       "      <td>ETF.com</td>\n",
       "      <td>9 days ago</td>\n",
       "      <td>Bond ETFs Reign Supreme as Equity Funds Hemorrhage Assets</td>\n",
       "      <td>U.S. fixed income funds lured in nearly $44 billion in the first quarter.</td>\n",
       "      <td>POSITIVE</td>\n",
       "      <td>0.994163</td>\n",
       "      <td>NEGATIVE</td>\n",
       "      <td>0.521789</td>\n",
       "    </tr>\n",
       "    <tr>\n",
       "      <th>7</th>\n",
       "      <td>Yahoo Finance</td>\n",
       "      <td>12 days ago</td>\n",
       "      <td>The first quarter of the year sent investors back to the future: Morning Brief</td>\n",
       "      <td>The tech sector's current boom feels like 2021, but there's a ton of differences between then and now.</td>\n",
       "      <td>NEGATIVE</td>\n",
       "      <td>0.970662</td>\n",
       "      <td>NEGATIVE</td>\n",
       "      <td>0.927400</td>\n",
       "    </tr>\n",
       "    <tr>\n",
       "      <th>8</th>\n",
       "      <td>ETF.com</td>\n",
       "      <td>13 days ago</td>\n",
       "      <td>Tech Charges QQQ as Nasdaq Enters Bull Market</td>\n",
       "      <td>The ETF’s 20% surge from its December low handily beats the broader market.</td>\n",
       "      <td>NEGATIVE</td>\n",
       "      <td>0.997395</td>\n",
       "      <td>POSITIVE</td>\n",
       "      <td>0.998760</td>\n",
       "    </tr>\n",
       "    <tr>\n",
       "      <th>9</th>\n",
       "      <td>Zacks</td>\n",
       "      <td>13 days ago</td>\n",
       "      <td>Q4 GDP Ticks Down to +2.6%; Jobless Claims Stay Low</td>\n",
       "      <td>Year over year GDP for 2022 comes in at +3.9%, 200 bps lower than the very strong 2021, which provided the Great Reopening from the Covid pandemic.</td>\n",
       "      <td>NEGATIVE</td>\n",
       "      <td>0.998402</td>\n",
       "      <td>NEGATIVE</td>\n",
       "      <td>0.989929</td>\n",
       "    </tr>\n",
       "    <tr>\n",
       "      <th>10</th>\n",
       "      <td>Zacks</td>\n",
       "      <td>13 days ago</td>\n",
       "      <td>Defined Outcome ETF (BALT) Hits New 52-Week High</td>\n",
       "      <td>This defined outcome ETF hits a new 52-week high. Are more gains in store for this ETF?</td>\n",
       "      <td>POSITIVE</td>\n",
       "      <td>0.892606</td>\n",
       "      <td>NEGATIVE</td>\n",
       "      <td>0.856478</td>\n",
       "    </tr>\n",
       "    <tr>\n",
       "      <th>11</th>\n",
       "      <td>ETF.com</td>\n",
       "      <td>15 days ago</td>\n",
       "      <td>ETFs Lost Assets Last Month, While Active Funds Grabbed Share</td>\n",
       "      <td>Wavering markets, rising inflation pushed investors toward active products.</td>\n",
       "      <td>NEGATIVE</td>\n",
       "      <td>0.998937</td>\n",
       "      <td>NEGATIVE</td>\n",
       "      <td>0.952135</td>\n",
       "    </tr>\n",
       "    <tr>\n",
       "      <th>12</th>\n",
       "      <td>Yahoo Finance</td>\n",
       "      <td>16 days ago</td>\n",
       "      <td>Charts: Three key readings to track financial market stress</td>\n",
       "      <td>A bank crisis has pressured financial markets and made it hard for investors to know where to turn for signs of stability or worry. A few key readings on volatility, the bond market, and the currency market offer some guidance.</td>\n",
       "      <td>POSITIVE</td>\n",
       "      <td>0.970314</td>\n",
       "      <td>NEGATIVE</td>\n",
       "      <td>0.995688</td>\n",
       "    </tr>\n",
       "    <tr>\n",
       "      <th>13</th>\n",
       "      <td>Zacks</td>\n",
       "      <td>16 days ago</td>\n",
       "      <td>Filling ETFs in March Madness \"Final Four\" Brackets</td>\n",
       "      <td>The excitement surrounding the NCAA Division I Men's Basketball Tournament and its impact on the stock world has led investors to look at ETFs that could act as a proxy for the game. Since the tournament has reached Elite Eight, let;s start filling the brackets from this level.</td>\n",
       "      <td>NEGATIVE</td>\n",
       "      <td>0.939425</td>\n",
       "      <td>NEGATIVE</td>\n",
       "      <td>0.886003</td>\n",
       "    </tr>\n",
       "    <tr>\n",
       "      <th>14</th>\n",
       "      <td>Yahoo Finance</td>\n",
       "      <td>19 days ago</td>\n",
       "      <td>The Fed gave stocks a reprieve, but the all-clear is a ways off: Morning Brief</td>\n",
       "      <td>The market may have some answers post-Fed decision, but things are still on edge.</td>\n",
       "      <td>NEGATIVE</td>\n",
       "      <td>0.993816</td>\n",
       "      <td>POSITIVE</td>\n",
       "      <td>0.990081</td>\n",
       "    </tr>\n",
       "    <tr>\n",
       "      <th>15</th>\n",
       "      <td>Investopedia</td>\n",
       "      <td>20 days ago</td>\n",
       "      <td>SPY ETF: What the SPDR S&amp;P 500 ETF Trust Is and What It Holds</td>\n",
       "      <td>Learn about the SPY ETF (SPDR S&amp;P 500 ETF Trust), its characteristics, and the suitability of investing in the fund.</td>\n",
       "      <td>NEGATIVE</td>\n",
       "      <td>0.954220</td>\n",
       "      <td>POSITIVE</td>\n",
       "      <td>0.997961</td>\n",
       "    </tr>\n",
       "    <tr>\n",
       "      <th>16</th>\n",
       "      <td>Zacks</td>\n",
       "      <td>27 days ago</td>\n",
       "      <td>Should You Invest in Europe ETFs Despite Credit Suisse Crisis?</td>\n",
       "      <td>Europe investing has outperformed the United States in the initial phase of 2023. While the Credit Suisse crisis has weighed on the Europe investing in recent times, there are some factors that could led investors to buy the dip in Europe ETFs.</td>\n",
       "      <td>NEGATIVE</td>\n",
       "      <td>0.990637</td>\n",
       "      <td>POSITIVE</td>\n",
       "      <td>0.719923</td>\n",
       "    </tr>\n",
       "    <tr>\n",
       "      <th>17</th>\n",
       "      <td>TheStreet.com</td>\n",
       "      <td>28 days ago</td>\n",
       "      <td>Credit Suisse, Europe Banks Drag Down S&amp;P 500. Here's the SPY Trade.</td>\n",
       "      <td>The SPY ETF looks vulnerable as it leans on key support. How it trades from here will be critical for the next development on the charts.</td>\n",
       "      <td>NEGATIVE</td>\n",
       "      <td>0.999182</td>\n",
       "      <td>NEGATIVE</td>\n",
       "      <td>0.998569</td>\n",
       "    </tr>\n",
       "    <tr>\n",
       "      <th>18</th>\n",
       "      <td>Motley Fool</td>\n",
       "      <td>28 days ago</td>\n",
       "      <td>Help Safeguard Your Retirement With This Key Warren Buffett Investment Strategy</td>\n",
       "      <td>By investing in the battle-tested S&amp;P 500, investors can simplify and be confident in their retirement savings.</td>\n",
       "      <td>POSITIVE</td>\n",
       "      <td>0.997553</td>\n",
       "      <td>POSITIVE</td>\n",
       "      <td>0.999017</td>\n",
       "    </tr>\n",
       "    <tr>\n",
       "      <th>19</th>\n",
       "      <td>Zacks</td>\n",
       "      <td>29 days ago</td>\n",
       "      <td>CPI Shrinks as Expected; Will the Fed Pause?</td>\n",
       "      <td>Year-over-year CPI, or the \"inflation Rate,\" came in at +6.0%, just as expected, and 40 bps lower than January.</td>\n",
       "      <td>NEGATIVE</td>\n",
       "      <td>0.999365</td>\n",
       "      <td>NEGATIVE</td>\n",
       "      <td>0.998427</td>\n",
       "    </tr>\n",
       "    <tr>\n",
       "      <th>20</th>\n",
       "      <td>Zacks</td>\n",
       "      <td>29 days ago</td>\n",
       "      <td>5 ETFs That Gained Investors' Love Amid Market Turmoil</td>\n",
       "      <td>Last week, ETFs pulled in $7 billion in capital. The inflows came despite a rough week for stock markets.</td>\n",
       "      <td>POSITIVE</td>\n",
       "      <td>0.992858</td>\n",
       "      <td>POSITIVE</td>\n",
       "      <td>0.991115</td>\n",
       "    </tr>\n",
       "    <tr>\n",
       "      <th>21</th>\n",
       "      <td>Yahoo Finance</td>\n",
       "      <td>last month</td>\n",
       "      <td>Construction jobs hold the key to understanding Friday's February jobs report</td>\n",
       "      <td>Wall Street is looking for signs of a labor market slowdown ahead of a potential recession.</td>\n",
       "      <td>POSITIVE</td>\n",
       "      <td>0.993048</td>\n",
       "      <td>NEGATIVE</td>\n",
       "      <td>0.996906</td>\n",
       "    </tr>\n",
       "    <tr>\n",
       "      <th>22</th>\n",
       "      <td>Zacks</td>\n",
       "      <td>last month</td>\n",
       "      <td>Jobless Claims Show Signs of Weakness (Finally!)</td>\n",
       "      <td>Initial Jobless Claims raced ahead to 211K last week from an unrevised 190K the previous week -- the highest read we've seen so far in 2023.</td>\n",
       "      <td>NEGATIVE</td>\n",
       "      <td>0.997190</td>\n",
       "      <td>POSITIVE</td>\n",
       "      <td>0.794451</td>\n",
       "    </tr>\n",
       "    <tr>\n",
       "      <th>23</th>\n",
       "      <td>Yahoo Finance</td>\n",
       "      <td>last month</td>\n",
       "      <td>Why recession odds just spiked after Powell addressed Congress: Morning Brief</td>\n",
       "      <td>A hawkish Jerome Powell is upending market expectations of a \"no landing\" scenario.</td>\n",
       "      <td>NEGATIVE</td>\n",
       "      <td>0.971626</td>\n",
       "      <td>NEGATIVE</td>\n",
       "      <td>0.994159</td>\n",
       "    </tr>\n",
       "    <tr>\n",
       "      <th>24</th>\n",
       "      <td>MarketWatch</td>\n",
       "      <td>last month</td>\n",
       "      <td>This cash-cow stock strategy is attracting lots of money. Here are its top 10 picks.</td>\n",
       "      <td>DEEP DIVE  Following a year in which a rapid rise in interest rates caused stock and bond prices to tumble, investors are focusing on quality. One way to do this is to look at free cash flow — and doing so might make for better long-term returns for growth investors.</td>\n",
       "      <td>POSITIVE</td>\n",
       "      <td>0.998973</td>\n",
       "      <td>NEGATIVE</td>\n",
       "      <td>0.952244</td>\n",
       "    </tr>\n",
       "    <tr>\n",
       "      <th>25</th>\n",
       "      <td>Motley Fool</td>\n",
       "      <td>last month</td>\n",
       "      <td>This Is Why Graham Stephan Likes Investing in the $SPY Over 'Any' Fund</td>\n",
       "      <td>Recently, finance expert and YouTube personality Graham Stephan posted a chart on Twitter comparing the performance of several different investments, including the Fidelity Magellan Fund, an actively managed mutual fund (a fund manager chooses investments).  Fidelity's fund seeks capital appreciation and primarily invests money in large U.S. companies.  The purpose of this chart was to explain why Stephan believes that investing in $SPY is going to be the best bet for most investors, rather ...</td>\n",
       "      <td>NEGATIVE</td>\n",
       "      <td>0.991902</td>\n",
       "      <td>NEGATIVE</td>\n",
       "      <td>0.993605</td>\n",
       "    </tr>\n",
       "    <tr>\n",
       "      <th>26</th>\n",
       "      <td>ETF.com</td>\n",
       "      <td>last month</td>\n",
       "      <td>State Street to Merge Small Cap ETFs into $7B Behemoth</td>\n",
       "      <td>A $1.8 billion fund will be merged into a $5.2 billion fund.</td>\n",
       "      <td>NEGATIVE</td>\n",
       "      <td>0.992642</td>\n",
       "      <td>NEGATIVE</td>\n",
       "      <td>0.979438</td>\n",
       "    </tr>\n",
       "    <tr>\n",
       "      <th>27</th>\n",
       "      <td>ETF.com</td>\n",
       "      <td>last month</td>\n",
       "      <td>Meet the Finalists for the 2023 etf.com Awards</td>\n",
       "      <td>The etf.com awards are back to celebrate outstanding achievements in our industry.</td>\n",
       "      <td>POSITIVE</td>\n",
       "      <td>0.997830</td>\n",
       "      <td>POSITIVE</td>\n",
       "      <td>0.999703</td>\n",
       "    </tr>\n",
       "    <tr>\n",
       "      <th>28</th>\n",
       "      <td>Insider Monkey</td>\n",
       "      <td>2 months ago</td>\n",
       "      <td>10 Best Stocks to Buy and Hold for a Lifetime</td>\n",
       "      <td>In this article, we take a look at 10 best stocks to buy and hold for a lifetime. If you want to see more best stocks to buy and hold for a lifetime, go directly to 5 Best Stocks to Buy and Hold for a Lifetime. If the investment timeline is greater than 10 years, […]</td>\n",
       "      <td>POSITIVE</td>\n",
       "      <td>0.999815</td>\n",
       "      <td>POSITIVE</td>\n",
       "      <td>0.746109</td>\n",
       "    </tr>\n",
       "    <tr>\n",
       "      <th>29</th>\n",
       "      <td>MarketWatch</td>\n",
       "      <td>2 months ago</td>\n",
       "      <td>Are you nearing retirement? Here’s how to transition your portfolio from growth to income.</td>\n",
       "      <td>After decades of saving and investing, it's time to start taking income from your retirement account. Here are a few things to keep in mind.</td>\n",
       "      <td>POSITIVE</td>\n",
       "      <td>0.922336</td>\n",
       "      <td>POSITIVE</td>\n",
       "      <td>0.985849</td>\n",
       "    </tr>\n",
       "    <tr>\n",
       "      <th>30</th>\n",
       "      <td>Yahoo Finance</td>\n",
       "      <td>2 months ago</td>\n",
       "      <td>Why the 2023 rally might be in trouble: Morning Brief</td>\n",
       "      <td>Everyone's looking at the same market but people are seeing different things.</td>\n",
       "      <td>NEGATIVE</td>\n",
       "      <td>0.989918</td>\n",
       "      <td>POSITIVE</td>\n",
       "      <td>0.990407</td>\n",
       "    </tr>\n",
       "    <tr>\n",
       "      <th>31</th>\n",
       "      <td>Yahoo Finance</td>\n",
       "      <td>2 months ago</td>\n",
       "      <td>Retail investors are pouring a record $1.5 billion per day into the stock market</td>\n",
       "      <td>Individual investors have been snapping up stocks at the fastest pace ever as U.S. equity markets charge higher this year.</td>\n",
       "      <td>NEGATIVE</td>\n",
       "      <td>0.991865</td>\n",
       "      <td>POSITIVE</td>\n",
       "      <td>0.992896</td>\n",
       "    </tr>\n",
       "    <tr>\n",
       "      <th>32</th>\n",
       "      <td>Insider Monkey</td>\n",
       "      <td>2 months ago</td>\n",
       "      <td>10 Best Stocks to Buy for an 18 Year Old</td>\n",
       "      <td>In this article, we take a look at 10 best stocks to buy for an 18 year old. If you want to see more best stocks to buy for an 18 year old, go directly to 5 Best Stocks to Buy for an 18 Year Old. The broader stock market has declined substantially in bear […]</td>\n",
       "      <td>POSITIVE</td>\n",
       "      <td>0.999532</td>\n",
       "      <td>NEGATIVE</td>\n",
       "      <td>0.993852</td>\n",
       "    </tr>\n",
       "    <tr>\n",
       "      <th>33</th>\n",
       "      <td>ETF.com</td>\n",
       "      <td>2 months ago</td>\n",
       "      <td>Tidal to Launch ETF Covering Fickle Music Industry</td>\n",
       "      <td>New issue follows KPOP, and will be among the few music-tracking funds.</td>\n",
       "      <td>POSITIVE</td>\n",
       "      <td>0.821759</td>\n",
       "      <td>POSITIVE</td>\n",
       "      <td>0.995702</td>\n",
       "    </tr>\n",
       "    <tr>\n",
       "      <th>34</th>\n",
       "      <td>ETF.com</td>\n",
       "      <td>2 months ago</td>\n",
       "      <td>ETFs Seesaw After Disappointing CPI Report</td>\n",
       "      <td>The Federal Reserve may announce more rate hikes than expected.</td>\n",
       "      <td>NEGATIVE</td>\n",
       "      <td>0.995338</td>\n",
       "      <td>NEGATIVE</td>\n",
       "      <td>0.973117</td>\n",
       "    </tr>\n",
       "    <tr>\n",
       "      <th>35</th>\n",
       "      <td>Yahoo Finance</td>\n",
       "      <td>2 months ago</td>\n",
       "      <td>Current stock market rally 'likely to mark the high point' for 2023: JPMorgan</td>\n",
       "      <td>JP Morgan's Matejka recommends investors slash their exposure to stocks and eye more defense areas of the market.</td>\n",
       "      <td>POSITIVE</td>\n",
       "      <td>0.995537</td>\n",
       "      <td>NEGATIVE</td>\n",
       "      <td>0.999308</td>\n",
       "    </tr>\n",
       "    <tr>\n",
       "      <th>36</th>\n",
       "      <td>ETF.com</td>\n",
       "      <td>2 months ago</td>\n",
       "      <td>Zero Fee ETF Crosses $1B in AUM for First Time</td>\n",
       "      <td>Zero-fee exchange-traded funds may be catching on.</td>\n",
       "      <td>NEGATIVE</td>\n",
       "      <td>0.993484</td>\n",
       "      <td>NEGATIVE</td>\n",
       "      <td>0.724756</td>\n",
       "    </tr>\n",
       "    <tr>\n",
       "      <th>37</th>\n",
       "      <td>Yahoo Finance</td>\n",
       "      <td>2 months ago</td>\n",
       "      <td>The little-known market indicator keeping tech bearish: Morning Brief</td>\n",
       "      <td>What to know in markets on Thursday, February 9, 2023.</td>\n",
       "      <td>NEGATIVE</td>\n",
       "      <td>0.995785</td>\n",
       "      <td>POSITIVE</td>\n",
       "      <td>0.971586</td>\n",
       "    </tr>\n",
       "    <tr>\n",
       "      <th>38</th>\n",
       "      <td>MarketWatch</td>\n",
       "      <td>2 months ago</td>\n",
       "      <td>This investment firm is actively working toward a potential ETF mimicking private equity</td>\n",
       "      <td>Unlimited Funds is actively working toward a potential ETF that would mimic private equity, according to co-founder Bob Elliott, a former Bridgewater executive.</td>\n",
       "      <td>POSITIVE</td>\n",
       "      <td>0.937496</td>\n",
       "      <td>POSITIVE</td>\n",
       "      <td>0.844671</td>\n",
       "    </tr>\n",
       "    <tr>\n",
       "      <th>39</th>\n",
       "      <td>MarketWatch</td>\n",
       "      <td>2 months ago</td>\n",
       "      <td>15 dividend stocks whose 5% to 10% yields appear safe in 2023 and 2024 by this analysis</td>\n",
       "      <td>V.F., an S&amp;P 500 Dividend Aristocrat, raised its payout for at least 25 straight years before cutting. Here's how to select dividend stocks for safety.</td>\n",
       "      <td>NEGATIVE</td>\n",
       "      <td>0.827663</td>\n",
       "      <td>NEGATIVE</td>\n",
       "      <td>0.997624</td>\n",
       "    </tr>\n",
       "    <tr>\n",
       "      <th>40</th>\n",
       "      <td>Business Wire</td>\n",
       "      <td>2 months ago</td>\n",
       "      <td>State Street Global Advisors Survey: US Investors Remain Confident in Their Advisors' Ability to Navigate Market Volatility Despite Lingering Concerns About Investment Prospects for 2023</td>\n",
       "      <td>BOSTON, February 06, 2023--State Street Global Advisors, the asset management business of State Street Corporation (NYSE: STT), today released the results of its ETF Impact Survey: Advisor Edition which found an overwhelming majority of investors who work with an advisor remain confident in their insight and guidance, even as 2022 closed with lingering concerns over inflation and the potential for continued market volatility.</td>\n",
       "      <td>POSITIVE</td>\n",
       "      <td>0.995312</td>\n",
       "      <td>POSITIVE</td>\n",
       "      <td>0.994957</td>\n",
       "    </tr>\n",
       "    <tr>\n",
       "      <th>41</th>\n",
       "      <td>InvestorPlace</td>\n",
       "      <td>2 months ago</td>\n",
       "      <td>AMD, PTON, SPY Predictions: 3 Hot Stocks for Tomorrow</td>\n",
       "      <td>This week is already one of the busier weeks in quite some time. It’s loaded with end-of-the-month fund rebalancing, earnings and economic reports. It has investors scouring for some hot stocks for tomorrow — and rightfully so. On Wednesday, we’ll hear from the Federal Reserve, while Thursday boasts earnings from three of the five FAANG holdings. On Friday, we’ll get the monthly jobs number. To say it’s a busy three-day stretch would be a bit of an understatement. With that said, let’s break...</td>\n",
       "      <td>NEGATIVE</td>\n",
       "      <td>0.987600</td>\n",
       "      <td>NEGATIVE</td>\n",
       "      <td>0.992513</td>\n",
       "    </tr>\n",
       "    <tr>\n",
       "      <th>42</th>\n",
       "      <td>Zacks</td>\n",
       "      <td>2 months ago</td>\n",
       "      <td>5 ETFs That Gained Investors' Love Last Week</td>\n",
       "      <td>Overall, ETFs pulled in $8.2 billion in capital in the week ended Jan 27. International equity ETFs led the way higher with $7.5 billion in inflows, closely followed by $1.4 billion in international fixed-income ETFs and $1 billion in inverse ETFs, per etf.com.</td>\n",
       "      <td>POSITIVE</td>\n",
       "      <td>0.961858</td>\n",
       "      <td>POSITIVE</td>\n",
       "      <td>0.924602</td>\n",
       "    </tr>\n",
       "    <tr>\n",
       "      <th>43</th>\n",
       "      <td>Yahoo Finance</td>\n",
       "      <td>2 months ago</td>\n",
       "      <td>Stock market: 3 expert observations about January 2023's spirited move</td>\n",
       "      <td>Impressive start to the year for the stock market.</td>\n",
       "      <td>POSITIVE</td>\n",
       "      <td>0.997547</td>\n",
       "      <td>POSITIVE</td>\n",
       "      <td>0.999856</td>\n",
       "    </tr>\n",
       "    <tr>\n",
       "      <th>44</th>\n",
       "      <td>ETF.com</td>\n",
       "      <td>2 months ago</td>\n",
       "      <td>Issuers, Experts Reflect on SPY’s 30th Anniversary</td>\n",
       "      <td>ETF industry leaders also project what’s in store for the next 30 years.</td>\n",
       "      <td>POSITIVE</td>\n",
       "      <td>0.999526</td>\n",
       "      <td>POSITIVE</td>\n",
       "      <td>0.988684</td>\n",
       "    </tr>\n",
       "    <tr>\n",
       "      <th>45</th>\n",
       "      <td>Investopedia</td>\n",
       "      <td>2 months ago</td>\n",
       "      <td>SPY, First U.S. ETF, Still on Top at 30 as Rivals Gain</td>\n",
       "      <td>The first U.S. exchange-traded fund turned 30 this week, facing growing competition in the industry it leads.  The SPDR S&amp;P 500 ETF Trust (SPY) has accumulated $375 billion in assets to put it at the pinnacle of a $9 trillion global industry that's reshaped the investing landscape -- even as rival funds from BlackRock and Vanguard gain ground.  In recent years, exchange-traded funds, which can be traded during market hours and offer tax advantages over mutual funds, have attracted the lion's...</td>\n",
       "      <td>POSITIVE</td>\n",
       "      <td>0.993445</td>\n",
       "      <td>POSITIVE</td>\n",
       "      <td>0.998671</td>\n",
       "    </tr>\n",
       "    <tr>\n",
       "      <th>46</th>\n",
       "      <td>Yahoo Finance</td>\n",
       "      <td>2 months ago</td>\n",
       "      <td>The 2023 stock market rally is facing its first technical challenge: Morning Brief</td>\n",
       "      <td>What to know in markets on Thursday, January 26, 2023.</td>\n",
       "      <td>NEGATIVE</td>\n",
       "      <td>0.967859</td>\n",
       "      <td>POSITIVE</td>\n",
       "      <td>0.923619</td>\n",
       "    </tr>\n",
       "    <tr>\n",
       "      <th>47</th>\n",
       "      <td>MarketWatch</td>\n",
       "      <td>3 months ago</td>\n",
       "      <td>Private equity may be up next for ETF innovation as State Street celebrates SPY</td>\n",
       "      <td>Private equity may be the next frontier for the exchange-traded-fund industry, thirty years after the first U.S.-listed ETF was launched, according to Sue Thompson, head of Americas distribution for SPDR ETFs at State Street Global Advisors.</td>\n",
       "      <td>POSITIVE</td>\n",
       "      <td>0.952740</td>\n",
       "      <td>POSITIVE</td>\n",
       "      <td>0.957776</td>\n",
       "    </tr>\n",
       "    <tr>\n",
       "      <th>48</th>\n",
       "      <td>TheStreet.com</td>\n",
       "      <td>3 months ago</td>\n",
       "      <td>At 30, This ETF Is Still the Gift That Keeps on Giving</td>\n",
       "      <td>SPY is just the top 500 U.S. companies by market cap.  The index in question of course is the S&amp;P 500 Index, or \"SPX.\"  The S&amp;P has many methodologies that cover everything from corporate action handling to the mathematics behind index calculation to the process to adjust for free float (shares determined to be free and available to trade) and even the Global Industries Classification Standard (GICS) they use to classify and categorize every listed equity.</td>\n",
       "      <td>POSITIVE</td>\n",
       "      <td>0.999437</td>\n",
       "      <td>POSITIVE</td>\n",
       "      <td>0.676843</td>\n",
       "    </tr>\n",
       "    <tr>\n",
       "      <th>49</th>\n",
       "      <td>ETF.com</td>\n",
       "      <td>3 months ago</td>\n",
       "      <td>State Street ETF Assets Dropped 14% Last Year in Down Market</td>\n",
       "      <td>SPY owner’s 4Q inflows slumped while overall revenue beat estimates.</td>\n",
       "      <td>NEGATIVE</td>\n",
       "      <td>0.999268</td>\n",
       "      <td>NEGATIVE</td>\n",
       "      <td>0.999523</td>\n",
       "    </tr>\n",
       "    <tr>\n",
       "      <th>50</th>\n",
       "      <td>Investor's Business Daily</td>\n",
       "      <td>3 months ago</td>\n",
       "      <td>Is SPY Stock A Buy Right Now? What To Know About World's Top Index</td>\n",
       "      <td>If you own SPY stock, you'll never trail the S&amp;P 500. The expense ratio is low and you're diversified across 500 stocks and 11 sectors. Just know, you'll never beat the market, either.</td>\n",
       "      <td>NEGATIVE</td>\n",
       "      <td>0.991594</td>\n",
       "      <td>NEGATIVE</td>\n",
       "      <td>0.904669</td>\n",
       "    </tr>\n",
       "    <tr>\n",
       "      <th>51</th>\n",
       "      <td>Motley Fool</td>\n",
       "      <td>3 months ago</td>\n",
       "      <td>2 Warren Buffett ETFs to Stock Up On in 2023</td>\n",
       "      <td>Through his holding company Berkshire Hathaway, Warren Buffett invests in only two ETFs: the Vanguard S&amp;P 500 ETF (NYSEMKT: VOO) and the SPDR S&amp;P 500 ETF Trust (NYSEMKT: SPY).  An S&amp;P 500 ETF is an investment that aims to track the S&amp;P 500 index itself, which means it includes all the same stocks as the index.  Instant diversification: Because each fund contains roughly 500 stocks from a wide variety of industries, you can achieve a well-diversified portfolio with a single investment.</td>\n",
       "      <td>POSITIVE</td>\n",
       "      <td>0.935951</td>\n",
       "      <td>POSITIVE</td>\n",
       "      <td>0.997327</td>\n",
       "    </tr>\n",
       "    <tr>\n",
       "      <th>52</th>\n",
       "      <td>Motley Fool</td>\n",
       "      <td>3 months ago</td>\n",
       "      <td>Here's the Best Thing I Did in This Bear Market</td>\n",
       "      <td>I outperformed the overall market and saw my investment income increase twice as fast as inflation, while making fewer than a handful of trades.</td>\n",
       "      <td>NEGATIVE</td>\n",
       "      <td>0.988589</td>\n",
       "      <td>NEGATIVE</td>\n",
       "      <td>0.995247</td>\n",
       "    </tr>\n",
       "    <tr>\n",
       "      <th>53</th>\n",
       "      <td>InvestorPlace</td>\n",
       "      <td>3 months ago</td>\n",
       "      <td>Wednesday Predictions: 3 Hot Stocks for Tomorrow</td>\n",
       "      <td>Now more than ever, it seems like investors are glued to the financial news. Not just because it’s interesting, but because we’ve been in a tough bear market for the past 12 months. It’s got investors wondering what’s happening today and what are the hot stocks for tomorrow. With earnings season underway, focus on the Federal Reserve, and various economic reports, there’s seemingly more information now than ever. Let’s look at a few names that are jumping out to us and what some of the hot s...</td>\n",
       "      <td>NEGATIVE</td>\n",
       "      <td>0.942241</td>\n",
       "      <td>POSITIVE</td>\n",
       "      <td>0.990704</td>\n",
       "    </tr>\n",
       "    <tr>\n",
       "      <th>54</th>\n",
       "      <td>ETF.com</td>\n",
       "      <td>3 months ago</td>\n",
       "      <td>SPY, TLT: Lessons From 2022’s ‘Insanity’</td>\n",
       "      <td>As the Fed decides between action and reaction, markets appear set for more volatility.</td>\n",
       "      <td>NEGATIVE</td>\n",
       "      <td>0.985713</td>\n",
       "      <td>NEGATIVE</td>\n",
       "      <td>0.990720</td>\n",
       "    </tr>\n",
       "    <tr>\n",
       "      <th>55</th>\n",
       "      <td>Zacks</td>\n",
       "      <td>3 months ago</td>\n",
       "      <td>BLS Jobs: 223K, 3.5% Unemployment Strong, Wage Growth Down</td>\n",
       "      <td>At 3.5%, we are officially back down to pre-pandemic levels on unemployment.</td>\n",
       "      <td>NEGATIVE</td>\n",
       "      <td>0.996018</td>\n",
       "      <td>NEGATIVE</td>\n",
       "      <td>0.996754</td>\n",
       "    </tr>\n",
       "    <tr>\n",
       "      <th>56</th>\n",
       "      <td>InvestorPlace</td>\n",
       "      <td>3 months ago</td>\n",
       "      <td>The Top 5 Risks to Your Investment Portfolio in 2023</td>\n",
       "      <td>Just because the calendar has changed doesn’t mean the investing environment has changed. The same problems we had when leaving 2022 are still here in 2023, presenting investment risks to investors. Let’s not sugarcoat it: 2022 was a hard and painful year. Equities suffered as the S&amp;P 500 fell about 20%, while the Nasdaq dropped even more, falling 33%. Because of the financial power of mega-cap tech, the Nasdaq has usually kept pace with the S&amp;P 500 on the downside while demonstrating more u...</td>\n",
       "      <td>POSITIVE</td>\n",
       "      <td>0.900123</td>\n",
       "      <td>NEGATIVE</td>\n",
       "      <td>0.994920</td>\n",
       "    </tr>\n",
       "    <tr>\n",
       "      <th>58</th>\n",
       "      <td>Zacks</td>\n",
       "      <td>3 months ago</td>\n",
       "      <td>ETF Asset Report of December</td>\n",
       "      <td>Wall Street was downbeat in December with muted Santa Clause Rally. However, these ETF areas amassed decent assets in the month.</td>\n",
       "      <td>NEGATIVE</td>\n",
       "      <td>0.943552</td>\n",
       "      <td>POSITIVE</td>\n",
       "      <td>0.970780</td>\n",
       "    </tr>\n",
       "    <tr>\n",
       "      <th>59</th>\n",
       "      <td>Zacks</td>\n",
       "      <td>3 months ago</td>\n",
       "      <td>5 Stocks in S&amp;P 500 ETF With 40% Gains in 2022</td>\n",
       "      <td>The S&amp;P 500 wrapped up its worst year since 2008, tumbling 20%. Persistently high inflation, a hawkish Fed, Russia's invasion of Ukraine and a resurgence of COVID-19 cases in China weighed heavily on investor sentiment.</td>\n",
       "      <td>POSITIVE</td>\n",
       "      <td>0.994743</td>\n",
       "      <td>NEGATIVE</td>\n",
       "      <td>0.999264</td>\n",
       "    </tr>\n",
       "    <tr>\n",
       "      <th>60</th>\n",
       "      <td>TheStreet.com</td>\n",
       "      <td>3 months ago</td>\n",
       "      <td>Here's the 2023 Chart Setup for the S&amp;P 500 and Nasdaq</td>\n",
       "      <td>Despite a brutal year, the trend is still not a friend for the bulls. Here's how the charts look going into 2023.</td>\n",
       "      <td>NEGATIVE</td>\n",
       "      <td>0.995135</td>\n",
       "      <td>NEGATIVE</td>\n",
       "      <td>0.999223</td>\n",
       "    </tr>\n",
       "    <tr>\n",
       "      <th>61</th>\n",
       "      <td>Zacks</td>\n",
       "      <td>3 months ago</td>\n",
       "      <td>Once 2023 Starts, Investors Have Work to Do</td>\n",
       "      <td>We'll know a lot more about our economic situation a week from today than we do now.</td>\n",
       "      <td>POSITIVE</td>\n",
       "      <td>0.985088</td>\n",
       "      <td>NEGATIVE</td>\n",
       "      <td>0.996513</td>\n",
       "    </tr>\n",
       "    <tr>\n",
       "      <th>63</th>\n",
       "      <td>Zacks</td>\n",
       "      <td>4 months ago</td>\n",
       "      <td>PCE Stays Healthy, Durable Goods Drop</td>\n",
       "      <td>Volumes ought to be rather low today, if we go by history. It's Christmas weekend, after all.</td>\n",
       "      <td>POSITIVE</td>\n",
       "      <td>0.879668</td>\n",
       "      <td>NEGATIVE</td>\n",
       "      <td>0.999746</td>\n",
       "    </tr>\n",
       "    <tr>\n",
       "      <th>64</th>\n",
       "      <td>ETF.com</td>\n",
       "      <td>4 months ago</td>\n",
       "      <td>‘SPDR Woman’ Kathleen Moriarty Leaves Legacy of Firsts</td>\n",
       "      <td>Attorney who helped launch SPY, first U.S. ETF, mourned as pioneer.</td>\n",
       "      <td>POSITIVE</td>\n",
       "      <td>0.995342</td>\n",
       "      <td>POSITIVE</td>\n",
       "      <td>0.541507</td>\n",
       "    </tr>\n",
       "    <tr>\n",
       "      <th>65</th>\n",
       "      <td>TheStreet.com</td>\n",
       "      <td>4 months ago</td>\n",
       "      <td>For NightShares Funds, Don't Expect Big Gains to Happen ... Overnight</td>\n",
       "      <td>Just because the market closes at 4 p.m. ET, does that mean the world stops turning and markets around the globe abide by the same schedule?  Remember earlier when I talked about how timing is an element of the success of a strategy?</td>\n",
       "      <td>POSITIVE</td>\n",
       "      <td>0.974888</td>\n",
       "      <td>NEGATIVE</td>\n",
       "      <td>0.985367</td>\n",
       "    </tr>\n",
       "    <tr>\n",
       "      <th>66</th>\n",
       "      <td>ETF.com</td>\n",
       "      <td>4 months ago</td>\n",
       "      <td>Biotech May Offer Compelling Value</td>\n",
       "      <td>IBB has fallen less than the S&amp;P 500 this year, and may beat again in 2023.</td>\n",
       "      <td>POSITIVE</td>\n",
       "      <td>0.999486</td>\n",
       "      <td>NEGATIVE</td>\n",
       "      <td>0.986073</td>\n",
       "    </tr>\n",
       "    <tr>\n",
       "      <th>67</th>\n",
       "      <td>Zacks</td>\n",
       "      <td>4 months ago</td>\n",
       "      <td>Fed Funds Expected to Come In at 50bps; Import/Exports Report</td>\n",
       "      <td>The FOMC statement today will be parsed carefully to see if there are any clues in the language whether this era of aggressive rate hikes is about to come to an end.</td>\n",
       "      <td>NEGATIVE</td>\n",
       "      <td>0.973069</td>\n",
       "      <td>NEGATIVE</td>\n",
       "      <td>0.997467</td>\n",
       "    </tr>\n",
       "    <tr>\n",
       "      <th>68</th>\n",
       "      <td>Zacks</td>\n",
       "      <td>4 months ago</td>\n",
       "      <td>5 Hot ETFs of Last Week</td>\n",
       "      <td>Overall, ETFs pulled in $8.5 billion capital in the week ended Nov 9, pushing year-to-date inflows to $574.4 billion.</td>\n",
       "      <td>POSITIVE</td>\n",
       "      <td>0.972057</td>\n",
       "      <td>POSITIVE</td>\n",
       "      <td>0.801371</td>\n",
       "    </tr>\n",
       "    <tr>\n",
       "      <th>69</th>\n",
       "      <td>ETF.com</td>\n",
       "      <td>4 months ago</td>\n",
       "      <td>Mutual Fund to ETF Conversions May Accelerate, CFRA Says</td>\n",
       "      <td>More issuers will likely follow route taken by JPMorgan, Dimensional, Ullal writes.</td>\n",
       "      <td>POSITIVE</td>\n",
       "      <td>0.887243</td>\n",
       "      <td>NEGATIVE</td>\n",
       "      <td>0.996417</td>\n",
       "    </tr>\n",
       "    <tr>\n",
       "      <th>70</th>\n",
       "      <td>TheStreet.com</td>\n",
       "      <td>4 months ago</td>\n",
       "      <td>Make-or-Break Chart Potential for Stocks as Inflation Report, Fed on Tap</td>\n",
       "      <td>The S&amp;P 500 and Nasdaq have been trading better but are not out of the woods, with the inflation report and the Fed's rate-hike decision on tap.</td>\n",
       "      <td>NEGATIVE</td>\n",
       "      <td>0.993894</td>\n",
       "      <td>NEGATIVE</td>\n",
       "      <td>0.985591</td>\n",
       "    </tr>\n",
       "    <tr>\n",
       "      <th>71</th>\n",
       "      <td>Zacks</td>\n",
       "      <td>4 months ago</td>\n",
       "      <td>5 Stocks in S&amp;P 500 ETF That Gained Over Past Week</td>\n",
       "      <td>The S&amp;P 500 declined for the fifth consecutive day on recession fears.</td>\n",
       "      <td>POSITIVE</td>\n",
       "      <td>0.904971</td>\n",
       "      <td>NEGATIVE</td>\n",
       "      <td>0.999225</td>\n",
       "    </tr>\n",
       "    <tr>\n",
       "      <th>72</th>\n",
       "      <td>Yahoo Finance</td>\n",
       "      <td>4 months ago</td>\n",
       "      <td>Why stock bulls are sitting on their hands again: Morning Brief</td>\n",
       "      <td>What to watch in markets on Thursday, December 8, 2022.</td>\n",
       "      <td>NEGATIVE</td>\n",
       "      <td>0.988901</td>\n",
       "      <td>POSITIVE</td>\n",
       "      <td>0.997920</td>\n",
       "    </tr>\n",
       "    <tr>\n",
       "      <th>74</th>\n",
       "      <td>Motley Fool</td>\n",
       "      <td>4 months ago</td>\n",
       "      <td>The 3 Most Popular Robinhood ETFs -- and Why Warren Buffett Loves 2 of Them</td>\n",
       "      <td>Both the Oracle of Omaha and Robinhood's retail investors think highly of two ETFs in particular.</td>\n",
       "      <td>POSITIVE</td>\n",
       "      <td>0.998836</td>\n",
       "      <td>POSITIVE</td>\n",
       "      <td>0.968803</td>\n",
       "    </tr>\n",
       "    <tr>\n",
       "      <th>75</th>\n",
       "      <td>InvestorPlace</td>\n",
       "      <td>4 months ago</td>\n",
       "      <td>7 Safe Stocks to Buy and Hold Forever</td>\n",
       "      <td>In October and November, I suggested safe stocks to buy and hold. I’m pleased to say that those stocks have increased by an average of around 21% since the beginning of October. Those lists focused heavily on dividend stocks. And I still believe that now is a good time to invest in companies that are among the best in their respective sectors. For my third attempt at picking safe stocks to buy and hold., however, I’m offering investors a different strategy for finding safe stocks. That strategy</td>\n",
       "      <td>POSITIVE</td>\n",
       "      <td>0.994939</td>\n",
       "      <td>POSITIVE</td>\n",
       "      <td>0.998751</td>\n",
       "    </tr>\n",
       "    <tr>\n",
       "      <th>76</th>\n",
       "      <td>ETF.com</td>\n",
       "      <td>4 months ago</td>\n",
       "      <td>Bonds Were Investors’ November Favorite</td>\n",
       "      <td>ETF inflows netted $64 billion last month, less than in October.</td>\n",
       "      <td>POSITIVE</td>\n",
       "      <td>0.995118</td>\n",
       "      <td>NEGATIVE</td>\n",
       "      <td>0.984023</td>\n",
       "    </tr>\n",
       "    <tr>\n",
       "      <th>77</th>\n",
       "      <td>InvestorPlace</td>\n",
       "      <td>5 months ago</td>\n",
       "      <td>7 Index Funds to Buy to Retire a Millionaire</td>\n",
       "      <td>Recently, Barron’s published a thought-provoking op-ed which triumphantly declared that stocks have already bottomed, which might not be the positive catalyst for index funds, as you might think it is. After all, one of the key advantages of this broad-stroke investment strategy is to mitigate volatility. Through multiple bets via a benchmark indicator, investors are less likely to suffer catastrophic losses. Among the central points of the aforementioned op-ed centered on inflation; namely,...</td>\n",
       "      <td>POSITIVE</td>\n",
       "      <td>0.800813</td>\n",
       "      <td>NEGATIVE</td>\n",
       "      <td>0.532274</td>\n",
       "    </tr>\n",
       "    <tr>\n",
       "      <th>78</th>\n",
       "      <td>Zacks</td>\n",
       "      <td>5 months ago</td>\n",
       "      <td>Jobless Claims, Goods Orders, Airline Metrics Up Ahead of Holiday</td>\n",
       "      <td>We see higher-than-expected numbers this morning on weekly jobless claims, durable goods and airline travel.</td>\n",
       "      <td>NEGATIVE</td>\n",
       "      <td>0.994262</td>\n",
       "      <td>POSITIVE</td>\n",
       "      <td>0.777667</td>\n",
       "    </tr>\n",
       "    <tr>\n",
       "      <th>79</th>\n",
       "      <td>Zacks</td>\n",
       "      <td>5 months ago</td>\n",
       "      <td>5 ETFs That Saw the Biggest Inflows Last week</td>\n",
       "      <td>Last week, ETFs pulled in $27.2 billion in capital, pushing year-to-date inflows to $558.7 billion.</td>\n",
       "      <td>POSITIVE</td>\n",
       "      <td>0.920650</td>\n",
       "      <td>POSITIVE</td>\n",
       "      <td>0.968732</td>\n",
       "    </tr>\n",
       "    <tr>\n",
       "      <th>80</th>\n",
       "      <td>Investopedia</td>\n",
       "      <td>5 months ago</td>\n",
       "      <td>Top Mutual Fund Holders of FedEx (FDX)</td>\n",
       "      <td>Discover the five mutual funds that own the largest number of shares in FedEx, along with their five-year annualized returns.</td>\n",
       "      <td>POSITIVE</td>\n",
       "      <td>0.999208</td>\n",
       "      <td>POSITIVE</td>\n",
       "      <td>0.992168</td>\n",
       "    </tr>\n",
       "    <tr>\n",
       "      <th>81</th>\n",
       "      <td>ETF.com</td>\n",
       "      <td>5 months ago</td>\n",
       "      <td>Gold’s Performance Mixed in Year of High Inflation</td>\n",
       "      <td>The metal is down in dollars, but up in most other currencies.</td>\n",
       "      <td>NEGATIVE</td>\n",
       "      <td>0.995126</td>\n",
       "      <td>NEGATIVE</td>\n",
       "      <td>0.985410</td>\n",
       "    </tr>\n",
       "    <tr>\n",
       "      <th>83</th>\n",
       "      <td>ETF.com</td>\n",
       "      <td>5 months ago</td>\n",
       "      <td>Elections May Bring Market Growth ... or Gridlock</td>\n",
       "      <td>Election-related volatility often, not always, brings higher returns.</td>\n",
       "      <td>POSITIVE</td>\n",
       "      <td>0.992411</td>\n",
       "      <td>POSITIVE</td>\n",
       "      <td>0.968674</td>\n",
       "    </tr>\n",
       "    <tr>\n",
       "      <th>84</th>\n",
       "      <td>Zacks</td>\n",
       "      <td>5 months ago</td>\n",
       "      <td>ETF Asset Report of October</td>\n",
       "      <td>S&amp;P 500 and the total stock market ETFs amassed huge assets in the month of October while gold ETFs lost assets.</td>\n",
       "      <td>NEGATIVE</td>\n",
       "      <td>0.949596</td>\n",
       "      <td>NEGATIVE</td>\n",
       "      <td>0.998154</td>\n",
       "    </tr>\n",
       "    <tr>\n",
       "      <th>85</th>\n",
       "      <td>Motley Fool</td>\n",
       "      <td>5 months ago</td>\n",
       "      <td>The Only 2 Index Funds in Warren Buffett's Portfolio -- and How They Could Make You Money</td>\n",
       "      <td>Buffett highly recommends owning S&amp;P 500 index funds. And he practices what he preaches with these two.</td>\n",
       "      <td>NEGATIVE</td>\n",
       "      <td>0.992571</td>\n",
       "      <td>NEGATIVE</td>\n",
       "      <td>0.711700</td>\n",
       "    </tr>\n",
       "    <tr>\n",
       "      <th>86</th>\n",
       "      <td>Reuters</td>\n",
       "      <td>5 months ago</td>\n",
       "      <td>Traders scramble for protection after Fed spooks markets</td>\n",
       "      <td>Investors rushed to guard against further declines in U.S. stocks on Thursday, a day after the Federal Reserve dashed hopes for a downshift in the central bank’s inflation-fighting rate hikes.  Trading in S&amp;P 500 put options, typically used as a play in defensive positions, outnumbered calls, usually employed for upside wagers, 1.5-to-1 on Thursday afternoon, the most defensive the measure has been since mid-October, according to Trade Alert data.  The rush for protection comes after Fed Cha...</td>\n",
       "      <td>NEGATIVE</td>\n",
       "      <td>0.997839</td>\n",
       "      <td>NEGATIVE</td>\n",
       "      <td>0.998536</td>\n",
       "    </tr>\n",
       "    <tr>\n",
       "      <th>87</th>\n",
       "      <td>ETF.com</td>\n",
       "      <td>5 months ago</td>\n",
       "      <td>Cathie Wood’s ARKK Slips on Roku Downgrade</td>\n",
       "      <td>Shares of the ETF dropped as much as 3% during morning trading.</td>\n",
       "      <td>NEGATIVE</td>\n",
       "      <td>0.999163</td>\n",
       "      <td>NEGATIVE</td>\n",
       "      <td>0.999536</td>\n",
       "    </tr>\n",
       "    <tr>\n",
       "      <th>88</th>\n",
       "      <td>Zacks</td>\n",
       "      <td>5 months ago</td>\n",
       "      <td>Economic Data Gradually Dwindles: Jobless Claims, Productivity &amp; More</td>\n",
       "      <td>With a Fed meeting still in our rearview mirror, these data points will not be directly consequential.</td>\n",
       "      <td>NEGATIVE</td>\n",
       "      <td>0.999726</td>\n",
       "      <td>NEGATIVE</td>\n",
       "      <td>0.998996</td>\n",
       "    </tr>\n",
       "    <tr>\n",
       "      <th>89</th>\n",
       "      <td>Motley Fool</td>\n",
       "      <td>5 months ago</td>\n",
       "      <td>Can You Actually Retire a Millionaire With ETFs Alone?</td>\n",
       "      <td>Conversely, ETFs are just big baskets of equities bundled into logical groupings, and their results can be weighed down by their laggards as much as they're lifted by their leaders.  Exchange-traded funds generally perform just as well as most portfolios of hand-picked stocks do -- if not better -- and are just as capable of turning your consistent stream of moderate investments into a million-dollar retirement stash.  In fact, ETFs may actually be better suited for the task of retirement in...</td>\n",
       "      <td>NEGATIVE</td>\n",
       "      <td>0.997866</td>\n",
       "      <td>NEGATIVE</td>\n",
       "      <td>0.830459</td>\n",
       "    </tr>\n",
       "  </tbody>\n",
       "</table>\n",
       "</div>"
      ],
      "text/plain": [
       "                       source          time  \\\n",
       "0                       Zacks  17 hours ago   \n",
       "2     The Wall Street Journal    6 days ago   \n",
       "3                       Zacks    6 days ago   \n",
       "4                 Motley Fool    7 days ago   \n",
       "5               TheStreet.com    9 days ago   \n",
       "6                     ETF.com    9 days ago   \n",
       "7               Yahoo Finance   12 days ago   \n",
       "8                     ETF.com   13 days ago   \n",
       "9                       Zacks   13 days ago   \n",
       "10                      Zacks   13 days ago   \n",
       "11                    ETF.com   15 days ago   \n",
       "12              Yahoo Finance   16 days ago   \n",
       "13                      Zacks   16 days ago   \n",
       "14              Yahoo Finance   19 days ago   \n",
       "15               Investopedia   20 days ago   \n",
       "16                      Zacks   27 days ago   \n",
       "17              TheStreet.com   28 days ago   \n",
       "18                Motley Fool   28 days ago   \n",
       "19                      Zacks   29 days ago   \n",
       "20                      Zacks   29 days ago   \n",
       "21              Yahoo Finance    last month   \n",
       "22                      Zacks    last month   \n",
       "23              Yahoo Finance    last month   \n",
       "24                MarketWatch    last month   \n",
       "25                Motley Fool    last month   \n",
       "26                    ETF.com    last month   \n",
       "27                    ETF.com    last month   \n",
       "28             Insider Monkey  2 months ago   \n",
       "29                MarketWatch  2 months ago   \n",
       "30              Yahoo Finance  2 months ago   \n",
       "31              Yahoo Finance  2 months ago   \n",
       "32             Insider Monkey  2 months ago   \n",
       "33                    ETF.com  2 months ago   \n",
       "34                    ETF.com  2 months ago   \n",
       "35              Yahoo Finance  2 months ago   \n",
       "36                    ETF.com  2 months ago   \n",
       "37              Yahoo Finance  2 months ago   \n",
       "38                MarketWatch  2 months ago   \n",
       "39                MarketWatch  2 months ago   \n",
       "40              Business Wire  2 months ago   \n",
       "41              InvestorPlace  2 months ago   \n",
       "42                      Zacks  2 months ago   \n",
       "43              Yahoo Finance  2 months ago   \n",
       "44                    ETF.com  2 months ago   \n",
       "45               Investopedia  2 months ago   \n",
       "46              Yahoo Finance  2 months ago   \n",
       "47                MarketWatch  3 months ago   \n",
       "48              TheStreet.com  3 months ago   \n",
       "49                    ETF.com  3 months ago   \n",
       "50  Investor's Business Daily  3 months ago   \n",
       "51                Motley Fool  3 months ago   \n",
       "52                Motley Fool  3 months ago   \n",
       "53              InvestorPlace  3 months ago   \n",
       "54                    ETF.com  3 months ago   \n",
       "55                      Zacks  3 months ago   \n",
       "56              InvestorPlace  3 months ago   \n",
       "58                      Zacks  3 months ago   \n",
       "59                      Zacks  3 months ago   \n",
       "60              TheStreet.com  3 months ago   \n",
       "61                      Zacks  3 months ago   \n",
       "63                      Zacks  4 months ago   \n",
       "64                    ETF.com  4 months ago   \n",
       "65              TheStreet.com  4 months ago   \n",
       "66                    ETF.com  4 months ago   \n",
       "67                      Zacks  4 months ago   \n",
       "68                      Zacks  4 months ago   \n",
       "69                    ETF.com  4 months ago   \n",
       "70              TheStreet.com  4 months ago   \n",
       "71                      Zacks  4 months ago   \n",
       "72              Yahoo Finance  4 months ago   \n",
       "74                Motley Fool  4 months ago   \n",
       "75              InvestorPlace  4 months ago   \n",
       "76                    ETF.com  4 months ago   \n",
       "77              InvestorPlace  5 months ago   \n",
       "78                      Zacks  5 months ago   \n",
       "79                      Zacks  5 months ago   \n",
       "80               Investopedia  5 months ago   \n",
       "81                    ETF.com  5 months ago   \n",
       "83                    ETF.com  5 months ago   \n",
       "84                      Zacks  5 months ago   \n",
       "85                Motley Fool  5 months ago   \n",
       "86                    Reuters  5 months ago   \n",
       "87                    ETF.com  5 months ago   \n",
       "88                      Zacks  5 months ago   \n",
       "89                Motley Fool  5 months ago   \n",
       "\n",
       "                                                                                                                                                                                      headline  \\\n",
       "0                                                                                                                                    Should SPDR S&P 500 ETF (SPY) Be on Your Investing Radar?   \n",
       "2                                                                                                                      Options Investors Face Challenges in a Volatile, but Flat, Stock Market   \n",
       "3                                                                                                                                             Jobless Claims Makeover: 228K, 200K+ for 8 Weeks   \n",
       "4                                                                                                     Could This Alternative S&P 500 Index ETF Make You More Money Than the Most Popular ETFs?   \n",
       "5                                                                                                                     What the Technicals Say for the S&P 500 and Nasdaq in the Second Quarter   \n",
       "6                                                                                                                                    Bond ETFs Reign Supreme as Equity Funds Hemorrhage Assets   \n",
       "7                                                                                                               The first quarter of the year sent investors back to the future: Morning Brief   \n",
       "8                                                                                                                                                Tech Charges QQQ as Nasdaq Enters Bull Market   \n",
       "9                                                                                                                                          Q4 GDP Ticks Down to +2.6%; Jobless Claims Stay Low   \n",
       "10                                                                                                                                            Defined Outcome ETF (BALT) Hits New 52-Week High   \n",
       "11                                                                                                                               ETFs Lost Assets Last Month, While Active Funds Grabbed Share   \n",
       "12                                                                                                                                 Charts: Three key readings to track financial market stress   \n",
       "13                                                                                                                                         Filling ETFs in March Madness \"Final Four\" Brackets   \n",
       "14                                                                                                              The Fed gave stocks a reprieve, but the all-clear is a ways off: Morning Brief   \n",
       "15                                                                                                                               SPY ETF: What the SPDR S&P 500 ETF Trust Is and What It Holds   \n",
       "16                                                                                                                              Should You Invest in Europe ETFs Despite Credit Suisse Crisis?   \n",
       "17                                                                                                                        Credit Suisse, Europe Banks Drag Down S&P 500. Here's the SPY Trade.   \n",
       "18                                                                                                             Help Safeguard Your Retirement With This Key Warren Buffett Investment Strategy   \n",
       "19                                                                                                                                                CPI Shrinks as Expected; Will the Fed Pause?   \n",
       "20                                                                                                                                      5 ETFs That Gained Investors' Love Amid Market Turmoil   \n",
       "21                                                                                                               Construction jobs hold the key to understanding Friday's February jobs report   \n",
       "22                                                                                                                                            Jobless Claims Show Signs of Weakness (Finally!)   \n",
       "23                                                                                                               Why recession odds just spiked after Powell addressed Congress: Morning Brief   \n",
       "24                                                                                                        This cash-cow stock strategy is attracting lots of money. Here are its top 10 picks.   \n",
       "25                                                                                                                      This Is Why Graham Stephan Likes Investing in the $SPY Over 'Any' Fund   \n",
       "26                                                                                                                                      State Street to Merge Small Cap ETFs into $7B Behemoth   \n",
       "27                                                                                                                                              Meet the Finalists for the 2023 etf.com Awards   \n",
       "28                                                                                                                                               10 Best Stocks to Buy and Hold for a Lifetime   \n",
       "29                                                                                                  Are you nearing retirement? Here’s how to transition your portfolio from growth to income.   \n",
       "30                                                                                                                                       Why the 2023 rally might be in trouble: Morning Brief   \n",
       "31                                                                                                            Retail investors are pouring a record $1.5 billion per day into the stock market   \n",
       "32                                                                                                                                                    10 Best Stocks to Buy for an 18 Year Old   \n",
       "33                                                                                                                                          Tidal to Launch ETF Covering Fickle Music Industry   \n",
       "34                                                                                                                                                  ETFs Seesaw After Disappointing CPI Report   \n",
       "35                                                                                                               Current stock market rally 'likely to mark the high point' for 2023: JPMorgan   \n",
       "36                                                                                                                                              Zero Fee ETF Crosses $1B in AUM for First Time   \n",
       "37                                                                                                                       The little-known market indicator keeping tech bearish: Morning Brief   \n",
       "38                                                                                                    This investment firm is actively working toward a potential ETF mimicking private equity   \n",
       "39                                                                                                     15 dividend stocks whose 5% to 10% yields appear safe in 2023 and 2024 by this analysis   \n",
       "40  State Street Global Advisors Survey: US Investors Remain Confident in Their Advisors' Ability to Navigate Market Volatility Despite Lingering Concerns About Investment Prospects for 2023   \n",
       "41                                                                                                                                       AMD, PTON, SPY Predictions: 3 Hot Stocks for Tomorrow   \n",
       "42                                                                                                                                                5 ETFs That Gained Investors' Love Last Week   \n",
       "43                                                                                                                      Stock market: 3 expert observations about January 2023's spirited move   \n",
       "44                                                                                                                                          Issuers, Experts Reflect on SPY’s 30th Anniversary   \n",
       "45                                                                                                                                      SPY, First U.S. ETF, Still on Top at 30 as Rivals Gain   \n",
       "46                                                                                                          The 2023 stock market rally is facing its first technical challenge: Morning Brief   \n",
       "47                                                                                                             Private equity may be up next for ETF innovation as State Street celebrates SPY   \n",
       "48                                                                                                                                      At 30, This ETF Is Still the Gift That Keeps on Giving   \n",
       "49                                                                                                                                State Street ETF Assets Dropped 14% Last Year in Down Market   \n",
       "50                                                                                                                          Is SPY Stock A Buy Right Now? What To Know About World's Top Index   \n",
       "51                                                                                                                                                2 Warren Buffett ETFs to Stock Up On in 2023   \n",
       "52                                                                                                                                             Here's the Best Thing I Did in This Bear Market   \n",
       "53                                                                                                                                            Wednesday Predictions: 3 Hot Stocks for Tomorrow   \n",
       "54                                                                                                                                                    SPY, TLT: Lessons From 2022’s ‘Insanity’   \n",
       "55                                                                                                                                  BLS Jobs: 223K, 3.5% Unemployment Strong, Wage Growth Down   \n",
       "56                                                                                                                                        The Top 5 Risks to Your Investment Portfolio in 2023   \n",
       "58                                                                                                                                                                ETF Asset Report of December   \n",
       "59                                                                                                                                              5 Stocks in S&P 500 ETF With 40% Gains in 2022   \n",
       "60                                                                                                                                      Here's the 2023 Chart Setup for the S&P 500 and Nasdaq   \n",
       "61                                                                                                                                                 Once 2023 Starts, Investors Have Work to Do   \n",
       "63                                                                                                                                                       PCE Stays Healthy, Durable Goods Drop   \n",
       "64                                                                                                                                      ‘SPDR Woman’ Kathleen Moriarty Leaves Legacy of Firsts   \n",
       "65                                                                                                                       For NightShares Funds, Don't Expect Big Gains to Happen ... Overnight   \n",
       "66                                                                                                                                                          Biotech May Offer Compelling Value   \n",
       "67                                                                                                                               Fed Funds Expected to Come In at 50bps; Import/Exports Report   \n",
       "68                                                                                                                                                                     5 Hot ETFs of Last Week   \n",
       "69                                                                                                                                    Mutual Fund to ETF Conversions May Accelerate, CFRA Says   \n",
       "70                                                                                                                    Make-or-Break Chart Potential for Stocks as Inflation Report, Fed on Tap   \n",
       "71                                                                                                                                          5 Stocks in S&P 500 ETF That Gained Over Past Week   \n",
       "72                                                                                                                             Why stock bulls are sitting on their hands again: Morning Brief   \n",
       "74                                                                                                                 The 3 Most Popular Robinhood ETFs -- and Why Warren Buffett Loves 2 of Them   \n",
       "75                                                                                                                                                       7 Safe Stocks to Buy and Hold Forever   \n",
       "76                                                                                                                                                     Bonds Were Investors’ November Favorite   \n",
       "77                                                                                                                                                7 Index Funds to Buy to Retire a Millionaire   \n",
       "78                                                                                                                           Jobless Claims, Goods Orders, Airline Metrics Up Ahead of Holiday   \n",
       "79                                                                                                                                               5 ETFs That Saw the Biggest Inflows Last week   \n",
       "80                                                                                                                                                      Top Mutual Fund Holders of FedEx (FDX)   \n",
       "81                                                                                                                                          Gold’s Performance Mixed in Year of High Inflation   \n",
       "83                                                                                                                                           Elections May Bring Market Growth ... or Gridlock   \n",
       "84                                                                                                                                                                 ETF Asset Report of October   \n",
       "85                                                                                                   The Only 2 Index Funds in Warren Buffett's Portfolio -- and How They Could Make You Money   \n",
       "86                                                                                                                                    Traders scramble for protection after Fed spooks markets   \n",
       "87                                                                                                                                                  Cathie Wood’s ARKK Slips on Roku Downgrade   \n",
       "88                                                                                                                       Economic Data Gradually Dwindles: Jobless Claims, Productivity & More   \n",
       "89                                                                                                                                      Can You Actually Retire a Millionaire With ETFs Alone?   \n",
       "\n",
       "                                                                                                                                                                                                                                                                                                                                                                                                                                                                                                                content  \\\n",
       "0                                                                                                                                                                                                                                                                                                                                                                                                                                                                                          Style Box ETF report for SPY   \n",
       "2                                                                                                                                                                                                                                                                                                                                                                                           The lack of a sustained move up or down in the market increases the likelihood that options contracts will expire worthless   \n",
       "3                                                                                                                                                                                                                                                                                                                                                                                                                              Seasonal adjustments now show we've been above 200K new claims for the past eight weeks.   \n",
       "4                                                                                                                                                                                                                            Is investing in index exchange-traded funds (ETFs) boring?  Actually, an S&P 500 index fund offers a great way to retire as a millionaire.  Two S&P 500 ETFs -- SPDR S&P 500 ETF Trust (NYSEMKT: SPY) and Vanguard 500 Index Fund ETF (NYSEMKT: VOO) -- are by far the most widely traded.   \n",
       "5                                                                                                                                                                                                                                                                                                                                                                  The Nasdaq roared in the first quarter, while the S&P 500 put up respectable gains. Here are the major levels for the indexes in the second quarter.   \n",
       "6                                                                                                                                                                                                                                                                                                                                                                                                                                             U.S. fixed income funds lured in nearly $44 billion in the first quarter.   \n",
       "7                                                                                                                                                                                                                                                                                                                                                                                                                The tech sector's current boom feels like 2021, but there's a ton of differences between then and now.   \n",
       "8                                                                                                                                                                                                                                                                                                                                                                                                                                           The ETF’s 20% surge from its December low handily beats the broader market.   \n",
       "9                                                                                                                                                                                                                                                                                                                                                                   Year over year GDP for 2022 comes in at +3.9%, 200 bps lower than the very strong 2021, which provided the Great Reopening from the Covid pandemic.   \n",
       "10                                                                                                                                                                                                                                                                                                                                                                                                                              This defined outcome ETF hits a new 52-week high. Are more gains in store for this ETF?   \n",
       "11                                                                                                                                                                                                                                                                                                                                                                                                                                          Wavering markets, rising inflation pushed investors toward active products.   \n",
       "12                                                                                                                                                                                                                                                                                  A bank crisis has pressured financial markets and made it hard for investors to know where to turn for signs of stability or worry. A few key readings on volatility, the bond market, and the currency market offer some guidance.   \n",
       "13                                                                                                                                                                                                                               The excitement surrounding the NCAA Division I Men's Basketball Tournament and its impact on the stock world has led investors to look at ETFs that could act as a proxy for the game. Since the tournament has reached Elite Eight, let;s start filling the brackets from this level.   \n",
       "14                                                                                                                                                                                                                                                                                                                                                                                                                                    The market may have some answers post-Fed decision, but things are still on edge.   \n",
       "15                                                                                                                                                                                                                                                                                                                                                                                                 Learn about the SPY ETF (SPDR S&P 500 ETF Trust), its characteristics, and the suitability of investing in the fund.   \n",
       "16                                                                                                                                                                                                                                                                 Europe investing has outperformed the United States in the initial phase of 2023. While the Credit Suisse crisis has weighed on the Europe investing in recent times, there are some factors that could led investors to buy the dip in Europe ETFs.   \n",
       "17                                                                                                                                                                                                                                                                                                                                                                            The SPY ETF looks vulnerable as it leans on key support. How it trades from here will be critical for the next development on the charts.   \n",
       "18                                                                                                                                                                                                                                                                                                                                                                                                      By investing in the battle-tested S&P 500, investors can simplify and be confident in their retirement savings.   \n",
       "19                                                                                                                                                                                                                                                                                                                                                                                                      Year-over-year CPI, or the \"inflation Rate,\" came in at +6.0%, just as expected, and 40 bps lower than January.   \n",
       "20                                                                                                                                                                                                                                                                                                                                                                                                            Last week, ETFs pulled in $7 billion in capital. The inflows came despite a rough week for stock markets.   \n",
       "21                                                                                                                                                                                                                                                                                                                                                                                                                          Wall Street is looking for signs of a labor market slowdown ahead of a potential recession.   \n",
       "22                                                                                                                                                                                                                                                                                                                                                                         Initial Jobless Claims raced ahead to 211K last week from an unrevised 190K the previous week -- the highest read we've seen so far in 2023.   \n",
       "23                                                                                                                                                                                                                                                                                                                                                                                                                                  A hawkish Jerome Powell is upending market expectations of a \"no landing\" scenario.   \n",
       "24                                                                                                                                                                                                                                          DEEP DIVE  Following a year in which a rapid rise in interest rates caused stock and bond prices to tumble, investors are focusing on quality. One way to do this is to look at free cash flow — and doing so might make for better long-term returns for growth investors.   \n",
       "25  Recently, finance expert and YouTube personality Graham Stephan posted a chart on Twitter comparing the performance of several different investments, including the Fidelity Magellan Fund, an actively managed mutual fund (a fund manager chooses investments).  Fidelity's fund seeks capital appreciation and primarily invests money in large U.S. companies.  The purpose of this chart was to explain why Stephan believes that investing in $SPY is going to be the best bet for most investors, rather ...   \n",
       "26                                                                                                                                                                                                                                                                                                                                                                                                                                                         A $1.8 billion fund will be merged into a $5.2 billion fund.   \n",
       "27                                                                                                                                                                                                                                                                                                                                                                                                                                   The etf.com awards are back to celebrate outstanding achievements in our industry.   \n",
       "28                                                                                                                                                                                                                                          In this article, we take a look at 10 best stocks to buy and hold for a lifetime. If you want to see more best stocks to buy and hold for a lifetime, go directly to 5 Best Stocks to Buy and Hold for a Lifetime. If the investment timeline is greater than 10 years, […]   \n",
       "29                                                                                                                                                                                                                                                                                                                                                                         After decades of saving and investing, it's time to start taking income from your retirement account. Here are a few things to keep in mind.   \n",
       "30                                                                                                                                                                                                                                                                                                                                                                                                                                        Everyone's looking at the same market but people are seeing different things.   \n",
       "31                                                                                                                                                                                                                                                                                                                                                                                           Individual investors have been snapping up stocks at the fastest pace ever as U.S. equity markets charge higher this year.   \n",
       "32                                                                                                                                                                                                                                                  In this article, we take a look at 10 best stocks to buy for an 18 year old. If you want to see more best stocks to buy for an 18 year old, go directly to 5 Best Stocks to Buy for an 18 Year Old. The broader stock market has declined substantially in bear […]   \n",
       "33                                                                                                                                                                                                                                                                                                                                                                                                                                              New issue follows KPOP, and will be among the few music-tracking funds.   \n",
       "34                                                                                                                                                                                                                                                                                                                                                                                                                                                      The Federal Reserve may announce more rate hikes than expected.   \n",
       "35                                                                                                                                                                                                                                                                                                                                                                                                    JP Morgan's Matejka recommends investors slash their exposure to stocks and eye more defense areas of the market.   \n",
       "36                                                                                                                                                                                                                                                                                                                                                                                                                                                                   Zero-fee exchange-traded funds may be catching on.   \n",
       "37                                                                                                                                                                                                                                                                                                                                                                                                                                                               What to know in markets on Thursday, February 9, 2023.   \n",
       "38                                                                                                                                                                                                                                                                                                                                                     Unlimited Funds is actively working toward a potential ETF that would mimic private equity, according to co-founder Bob Elliott, a former Bridgewater executive.   \n",
       "39                                                                                                                                                                                                                                                                                                                                                              V.F., an S&P 500 Dividend Aristocrat, raised its payout for at least 25 straight years before cutting. Here's how to select dividend stocks for safety.   \n",
       "40                                                                        BOSTON, February 06, 2023--State Street Global Advisors, the asset management business of State Street Corporation (NYSE: STT), today released the results of its ETF Impact Survey: Advisor Edition which found an overwhelming majority of investors who work with an advisor remain confident in their insight and guidance, even as 2022 closed with lingering concerns over inflation and the potential for continued market volatility.   \n",
       "41  This week is already one of the busier weeks in quite some time. It’s loaded with end-of-the-month fund rebalancing, earnings and economic reports. It has investors scouring for some hot stocks for tomorrow — and rightfully so. On Wednesday, we’ll hear from the Federal Reserve, while Thursday boasts earnings from three of the five FAANG holdings. On Friday, we’ll get the monthly jobs number. To say it’s a busy three-day stretch would be a bit of an understatement. With that said, let’s break...   \n",
       "42                                                                                                                                                                                                                                                Overall, ETFs pulled in $8.2 billion in capital in the week ended Jan 27. International equity ETFs led the way higher with $7.5 billion in inflows, closely followed by $1.4 billion in international fixed-income ETFs and $1 billion in inverse ETFs, per etf.com.   \n",
       "43                                                                                                                                                                                                                                                                                                                                                                                                                                                                   Impressive start to the year for the stock market.   \n",
       "44                                                                                                                                                                                                                                                                                                                                                                                                                                             ETF industry leaders also project what’s in store for the next 30 years.   \n",
       "45  The first U.S. exchange-traded fund turned 30 this week, facing growing competition in the industry it leads.  The SPDR S&P 500 ETF Trust (SPY) has accumulated $375 billion in assets to put it at the pinnacle of a $9 trillion global industry that's reshaped the investing landscape -- even as rival funds from BlackRock and Vanguard gain ground.  In recent years, exchange-traded funds, which can be traded during market hours and offer tax advantages over mutual funds, have attracted the lion's...   \n",
       "46                                                                                                                                                                                                                                                                                                                                                                                                                                                               What to know in markets on Thursday, January 26, 2023.   \n",
       "47                                                                                                                                                                                                                                                                    Private equity may be the next frontier for the exchange-traded-fund industry, thirty years after the first U.S.-listed ETF was launched, according to Sue Thompson, head of Americas distribution for SPDR ETFs at State Street Global Advisors.   \n",
       "48                                         SPY is just the top 500 U.S. companies by market cap.  The index in question of course is the S&P 500 Index, or \"SPX.\"  The S&P has many methodologies that cover everything from corporate action handling to the mathematics behind index calculation to the process to adjust for free float (shares determined to be free and available to trade) and even the Global Industries Classification Standard (GICS) they use to classify and categorize every listed equity.   \n",
       "49                                                                                                                                                                                                                                                                                                                                                                                                                                                 SPY owner’s 4Q inflows slumped while overall revenue beat estimates.   \n",
       "50                                                                                                                                                                                                                                                                                                                             If you own SPY stock, you'll never trail the S&P 500. The expense ratio is low and you're diversified across 500 stocks and 11 sectors. Just know, you'll never beat the market, either.   \n",
       "51            Through his holding company Berkshire Hathaway, Warren Buffett invests in only two ETFs: the Vanguard S&P 500 ETF (NYSEMKT: VOO) and the SPDR S&P 500 ETF Trust (NYSEMKT: SPY).  An S&P 500 ETF is an investment that aims to track the S&P 500 index itself, which means it includes all the same stocks as the index.  Instant diversification: Because each fund contains roughly 500 stocks from a wide variety of industries, you can achieve a well-diversified portfolio with a single investment.   \n",
       "52                                                                                                                                                                                                                                                                                                                                                                     I outperformed the overall market and saw my investment income increase twice as fast as inflation, while making fewer than a handful of trades.   \n",
       "53  Now more than ever, it seems like investors are glued to the financial news. Not just because it’s interesting, but because we’ve been in a tough bear market for the past 12 months. It’s got investors wondering what’s happening today and what are the hot stocks for tomorrow. With earnings season underway, focus on the Federal Reserve, and various economic reports, there’s seemingly more information now than ever. Let’s look at a few names that are jumping out to us and what some of the hot s...   \n",
       "54                                                                                                                                                                                                                                                                                                                                                                                                                              As the Fed decides between action and reaction, markets appear set for more volatility.   \n",
       "55                                                                                                                                                                                                                                                                                                                                                                                                                                         At 3.5%, we are officially back down to pre-pandemic levels on unemployment.   \n",
       "56  Just because the calendar has changed doesn’t mean the investing environment has changed. The same problems we had when leaving 2022 are still here in 2023, presenting investment risks to investors. Let’s not sugarcoat it: 2022 was a hard and painful year. Equities suffered as the S&P 500 fell about 20%, while the Nasdaq dropped even more, falling 33%. Because of the financial power of mega-cap tech, the Nasdaq has usually kept pace with the S&P 500 on the downside while demonstrating more u...   \n",
       "58                                                                                                                                                                                                                                                                                                                                                                                     Wall Street was downbeat in December with muted Santa Clause Rally. However, these ETF areas amassed decent assets in the month.   \n",
       "59                                                                                                                                                                                                                                                                                          The S&P 500 wrapped up its worst year since 2008, tumbling 20%. Persistently high inflation, a hawkish Fed, Russia's invasion of Ukraine and a resurgence of COVID-19 cases in China weighed heavily on investor sentiment.   \n",
       "60                                                                                                                                                                                                                                                                                                                                                                                                    Despite a brutal year, the trend is still not a friend for the bulls. Here's how the charts look going into 2023.   \n",
       "61                                                                                                                                                                                                                                                                                                                                                                                                                                 We'll know a lot more about our economic situation a week from today than we do now.   \n",
       "63                                                                                                                                                                                                                                                                                                                                                                                                                        Volumes ought to be rather low today, if we go by history. It's Christmas weekend, after all.   \n",
       "64                                                                                                                                                                                                                                                                                                                                                                                                                                                  Attorney who helped launch SPY, first U.S. ETF, mourned as pioneer.   \n",
       "65                                                                                                                                                                                                                                                                            Just because the market closes at 4 p.m. ET, does that mean the world stops turning and markets around the globe abide by the same schedule?  Remember earlier when I talked about how timing is an element of the success of a strategy?   \n",
       "66                                                                                                                                                                                                                                                                                                                                                                                                                                          IBB has fallen less than the S&P 500 this year, and may beat again in 2023.   \n",
       "67                                                                                                                                                                                                                                                                                                                                                The FOMC statement today will be parsed carefully to see if there are any clues in the language whether this era of aggressive rate hikes is about to come to an end.   \n",
       "68                                                                                                                                                                                                                                                                                                                                                                                                Overall, ETFs pulled in $8.5 billion capital in the week ended Nov 9, pushing year-to-date inflows to $574.4 billion.   \n",
       "69                                                                                                                                                                                                                                                                                                                                                                                                                                  More issuers will likely follow route taken by JPMorgan, Dimensional, Ullal writes.   \n",
       "70                                                                                                                                                                                                                                                                                                                                                                     The S&P 500 and Nasdaq have been trading better but are not out of the woods, with the inflation report and the Fed's rate-hike decision on tap.   \n",
       "71                                                                                                                                                                                                                                                                                                                                                                                                                                               The S&P 500 declined for the fifth consecutive day on recession fears.   \n",
       "72                                                                                                                                                                                                                                                                                                                                                                                                                                                              What to watch in markets on Thursday, December 8, 2022.   \n",
       "74                                                                                                                                                                                                                                                                                                                                                                                                                    Both the Oracle of Omaha and Robinhood's retail investors think highly of two ETFs in particular.   \n",
       "75  In October and November, I suggested safe stocks to buy and hold. I’m pleased to say that those stocks have increased by an average of around 21% since the beginning of October. Those lists focused heavily on dividend stocks. And I still believe that now is a good time to invest in companies that are among the best in their respective sectors. For my third attempt at picking safe stocks to buy and hold., however, I’m offering investors a different strategy for finding safe stocks. That strategy   \n",
       "76                                                                                                                                                                                                                                                                                                                                                                                                                                                     ETF inflows netted $64 billion last month, less than in October.   \n",
       "77  Recently, Barron’s published a thought-provoking op-ed which triumphantly declared that stocks have already bottomed, which might not be the positive catalyst for index funds, as you might think it is. After all, one of the key advantages of this broad-stroke investment strategy is to mitigate volatility. Through multiple bets via a benchmark indicator, investors are less likely to suffer catastrophic losses. Among the central points of the aforementioned op-ed centered on inflation; namely,...   \n",
       "78                                                                                                                                                                                                                                                                                                                                                                                                         We see higher-than-expected numbers this morning on weekly jobless claims, durable goods and airline travel.   \n",
       "79                                                                                                                                                                                                                                                                                                                                                                                                                  Last week, ETFs pulled in $27.2 billion in capital, pushing year-to-date inflows to $558.7 billion.   \n",
       "80                                                                                                                                                                                                                                                                                                                                                                                        Discover the five mutual funds that own the largest number of shares in FedEx, along with their five-year annualized returns.   \n",
       "81                                                                                                                                                                                                                                                                                                                                                                                                                                                       The metal is down in dollars, but up in most other currencies.   \n",
       "83                                                                                                                                                                                                                                                                                                                                                                                                                                                Election-related volatility often, not always, brings higher returns.   \n",
       "84                                                                                                                                                                                                                                                                                                                                                                                                     S&P 500 and the total stock market ETFs amassed huge assets in the month of October while gold ETFs lost assets.   \n",
       "85                                                                                                                                                                                                                                                                                                                                                                                                              Buffett highly recommends owning S&P 500 index funds. And he practices what he preaches with these two.   \n",
       "86  Investors rushed to guard against further declines in U.S. stocks on Thursday, a day after the Federal Reserve dashed hopes for a downshift in the central bank’s inflation-fighting rate hikes.  Trading in S&P 500 put options, typically used as a play in defensive positions, outnumbered calls, usually employed for upside wagers, 1.5-to-1 on Thursday afternoon, the most defensive the measure has been since mid-October, according to Trade Alert data.  The rush for protection comes after Fed Cha...   \n",
       "87                                                                                                                                                                                                                                                                                                                                                                                                                                                      Shares of the ETF dropped as much as 3% during morning trading.   \n",
       "88                                                                                                                                                                                                                                                                                                                                                                                                               With a Fed meeting still in our rearview mirror, these data points will not be directly consequential.   \n",
       "89  Conversely, ETFs are just big baskets of equities bundled into logical groupings, and their results can be weighed down by their laggards as much as they're lifted by their leaders.  Exchange-traded funds generally perform just as well as most portfolios of hand-picked stocks do -- if not better -- and are just as capable of turning your consistent stream of moderate investments into a million-dollar retirement stash.  In fact, ETFs may actually be better suited for the task of retirement in...   \n",
       "\n",
       "   Sentiment     Score Sentiment2    Score2  \n",
       "0   NEGATIVE  0.998921   NEGATIVE  0.931347  \n",
       "2   NEGATIVE  0.998616   NEGATIVE  0.999663  \n",
       "3   NEGATIVE  0.988532   NEGATIVE  0.975258  \n",
       "4   NEGATIVE  0.999154   NEGATIVE  0.808636  \n",
       "5   NEGATIVE  0.979748   POSITIVE  0.776594  \n",
       "6   POSITIVE  0.994163   NEGATIVE  0.521789  \n",
       "7   NEGATIVE  0.970662   NEGATIVE  0.927400  \n",
       "8   NEGATIVE  0.997395   POSITIVE  0.998760  \n",
       "9   NEGATIVE  0.998402   NEGATIVE  0.989929  \n",
       "10  POSITIVE  0.892606   NEGATIVE  0.856478  \n",
       "11  NEGATIVE  0.998937   NEGATIVE  0.952135  \n",
       "12  POSITIVE  0.970314   NEGATIVE  0.995688  \n",
       "13  NEGATIVE  0.939425   NEGATIVE  0.886003  \n",
       "14  NEGATIVE  0.993816   POSITIVE  0.990081  \n",
       "15  NEGATIVE  0.954220   POSITIVE  0.997961  \n",
       "16  NEGATIVE  0.990637   POSITIVE  0.719923  \n",
       "17  NEGATIVE  0.999182   NEGATIVE  0.998569  \n",
       "18  POSITIVE  0.997553   POSITIVE  0.999017  \n",
       "19  NEGATIVE  0.999365   NEGATIVE  0.998427  \n",
       "20  POSITIVE  0.992858   POSITIVE  0.991115  \n",
       "21  POSITIVE  0.993048   NEGATIVE  0.996906  \n",
       "22  NEGATIVE  0.997190   POSITIVE  0.794451  \n",
       "23  NEGATIVE  0.971626   NEGATIVE  0.994159  \n",
       "24  POSITIVE  0.998973   NEGATIVE  0.952244  \n",
       "25  NEGATIVE  0.991902   NEGATIVE  0.993605  \n",
       "26  NEGATIVE  0.992642   NEGATIVE  0.979438  \n",
       "27  POSITIVE  0.997830   POSITIVE  0.999703  \n",
       "28  POSITIVE  0.999815   POSITIVE  0.746109  \n",
       "29  POSITIVE  0.922336   POSITIVE  0.985849  \n",
       "30  NEGATIVE  0.989918   POSITIVE  0.990407  \n",
       "31  NEGATIVE  0.991865   POSITIVE  0.992896  \n",
       "32  POSITIVE  0.999532   NEGATIVE  0.993852  \n",
       "33  POSITIVE  0.821759   POSITIVE  0.995702  \n",
       "34  NEGATIVE  0.995338   NEGATIVE  0.973117  \n",
       "35  POSITIVE  0.995537   NEGATIVE  0.999308  \n",
       "36  NEGATIVE  0.993484   NEGATIVE  0.724756  \n",
       "37  NEGATIVE  0.995785   POSITIVE  0.971586  \n",
       "38  POSITIVE  0.937496   POSITIVE  0.844671  \n",
       "39  NEGATIVE  0.827663   NEGATIVE  0.997624  \n",
       "40  POSITIVE  0.995312   POSITIVE  0.994957  \n",
       "41  NEGATIVE  0.987600   NEGATIVE  0.992513  \n",
       "42  POSITIVE  0.961858   POSITIVE  0.924602  \n",
       "43  POSITIVE  0.997547   POSITIVE  0.999856  \n",
       "44  POSITIVE  0.999526   POSITIVE  0.988684  \n",
       "45  POSITIVE  0.993445   POSITIVE  0.998671  \n",
       "46  NEGATIVE  0.967859   POSITIVE  0.923619  \n",
       "47  POSITIVE  0.952740   POSITIVE  0.957776  \n",
       "48  POSITIVE  0.999437   POSITIVE  0.676843  \n",
       "49  NEGATIVE  0.999268   NEGATIVE  0.999523  \n",
       "50  NEGATIVE  0.991594   NEGATIVE  0.904669  \n",
       "51  POSITIVE  0.935951   POSITIVE  0.997327  \n",
       "52  NEGATIVE  0.988589   NEGATIVE  0.995247  \n",
       "53  NEGATIVE  0.942241   POSITIVE  0.990704  \n",
       "54  NEGATIVE  0.985713   NEGATIVE  0.990720  \n",
       "55  NEGATIVE  0.996018   NEGATIVE  0.996754  \n",
       "56  POSITIVE  0.900123   NEGATIVE  0.994920  \n",
       "58  NEGATIVE  0.943552   POSITIVE  0.970780  \n",
       "59  POSITIVE  0.994743   NEGATIVE  0.999264  \n",
       "60  NEGATIVE  0.995135   NEGATIVE  0.999223  \n",
       "61  POSITIVE  0.985088   NEGATIVE  0.996513  \n",
       "63  POSITIVE  0.879668   NEGATIVE  0.999746  \n",
       "64  POSITIVE  0.995342   POSITIVE  0.541507  \n",
       "65  POSITIVE  0.974888   NEGATIVE  0.985367  \n",
       "66  POSITIVE  0.999486   NEGATIVE  0.986073  \n",
       "67  NEGATIVE  0.973069   NEGATIVE  0.997467  \n",
       "68  POSITIVE  0.972057   POSITIVE  0.801371  \n",
       "69  POSITIVE  0.887243   NEGATIVE  0.996417  \n",
       "70  NEGATIVE  0.993894   NEGATIVE  0.985591  \n",
       "71  POSITIVE  0.904971   NEGATIVE  0.999225  \n",
       "72  NEGATIVE  0.988901   POSITIVE  0.997920  \n",
       "74  POSITIVE  0.998836   POSITIVE  0.968803  \n",
       "75  POSITIVE  0.994939   POSITIVE  0.998751  \n",
       "76  POSITIVE  0.995118   NEGATIVE  0.984023  \n",
       "77  POSITIVE  0.800813   NEGATIVE  0.532274  \n",
       "78  NEGATIVE  0.994262   POSITIVE  0.777667  \n",
       "79  POSITIVE  0.920650   POSITIVE  0.968732  \n",
       "80  POSITIVE  0.999208   POSITIVE  0.992168  \n",
       "81  NEGATIVE  0.995126   NEGATIVE  0.985410  \n",
       "83  POSITIVE  0.992411   POSITIVE  0.968674  \n",
       "84  NEGATIVE  0.949596   NEGATIVE  0.998154  \n",
       "85  NEGATIVE  0.992571   NEGATIVE  0.711700  \n",
       "86  NEGATIVE  0.997839   NEGATIVE  0.998536  \n",
       "87  NEGATIVE  0.999163   NEGATIVE  0.999536  \n",
       "88  NEGATIVE  0.999726   NEGATIVE  0.998996  \n",
       "89  NEGATIVE  0.997866   NEGATIVE  0.830459  "
      ]
     },
     "execution_count": 13,
     "metadata": {},
     "output_type": "execute_result"
    }
   ],
   "source": [
    "news_df[news_df['Score'] > 0.8]"
   ]
  },
  {
   "attachments": {},
   "cell_type": "markdown",
   "metadata": {},
   "source": [
    "# Headline Sentiment"
   ]
  },
  {
   "cell_type": "code",
   "execution_count": 14,
   "metadata": {},
   "outputs": [
    {
     "data": {
      "text/plain": [
       "<AxesSubplot:xlabel='Sentiment', ylabel='Count'>"
      ]
     },
     "execution_count": 14,
     "metadata": {},
     "output_type": "execute_result"
    },
    {
     "data": {
      "image/png": "[encoded data removed]",
      "text/plain": [
       "<Figure size 432x288 with 1 Axes>"
      ]
     },
     "metadata": {
      "needs_background": "light"
     },
     "output_type": "display_data"
    }
   ],
   "source": [
    "sns.histplot(x = 'Sentiment', data = news_df[news_df['Score'] > 0.8], hue = 'Sentiment', hue_order=['POSITIVE', 'NEGATIVE'])"
   ]
  },
  {
   "attachments": {},
   "cell_type": "markdown",
   "metadata": {},
   "source": [
    "# Content Sentiment"
   ]
  },
  {
   "cell_type": "code",
   "execution_count": 15,
   "metadata": {},
   "outputs": [
    {
     "data": {
      "text/plain": [
       "<AxesSubplot:xlabel='Sentiment2', ylabel='Count'>"
      ]
     },
     "execution_count": 15,
     "metadata": {},
     "output_type": "execute_result"
    },
    {
     "data": {
      "image/png": "[encoded data removed]",
      "text/plain": [
       "<Figure size 432x288 with 1 Axes>"
      ]
     },
     "metadata": {
      "needs_background": "light"
     },
     "output_type": "display_data"
    }
   ],
   "source": [
    "sns.histplot(x = 'Sentiment2', data = news_df[news_df['Score2'] > 0.8], hue = 'Sentiment2', hue_order=['POSITIVE', 'NEGATIVE'])"
   ]
  },
  {
   "attachments": {},
   "cell_type": "markdown",
   "metadata": {},
   "source": [
    "# Headline Trigram"
   ]
  },
  {
   "cell_type": "code",
   "execution_count": 20,
   "metadata": {},
   "outputs": [
    {
     "name": "stderr",
     "output_type": "stream",
     "text": [
      "c:\\Users\\Woon\\AppData\\Local\\Programs\\Python\\Python310\\lib\\site-packages\\plotly\\tools.py:460: DeprecationWarning:\n",
      "\n",
      "plotly.tools.make_subplots is deprecated, please use plotly.subplots.make_subplots instead\n",
      "\n"
     ]
    },
    {
     "data": {
      "application/vnd.plotly.v1+json": {
       "config": {
        "linkText": "Export to plot.ly",
        "plotlyServerURL": "https://plot.ly",
        "showLink": false
       },
       "data": [
        {
         "marker": {
          "color": "green"
         },
         "orientation": "h",
         "showlegend": false,
         "type": "bar",
         "x": [
          1,
          1,
          1,
          2,
          2,
          2,
          2,
          2,
          2,
          2,
          2,
          2,
          2,
          2,
          2,
          2,
          2,
          3,
          3,
          4
         ],
         "xaxis": "x",
         "y": [
          "Retire Millionaire With",
          "Millionaire With ETFs",
          "With ETFs Alone",
          "SPDR SP 500",
          "SP 500 Nasdaq",
          "ETFs That Gained",
          "That Gained Investors",
          "Gained Investors Love",
          "10 Best Stocks",
          "Best Stocks Buy",
          "Stocks Buy Hold",
          "stock market rally",
          "Predictions 3 Hot",
          "3 Hot Stocks",
          "Hot Stocks Tomorrow",
          "5 Stocks SP",
          "Stocks SP 500",
          "5 ETFs That",
          "ETF Asset Report",
          "SP 500 ETF"
         ],
         "yaxis": "y"
        }
       ],
       "layout": {
        "annotations": [
         {
          "font": {
           "size": 16
          },
          "showarrow": false,
          "text": "Frequent words",
          "x": 0.5,
          "xanchor": "center",
          "xref": "paper",
          "y": 1,
          "yanchor": "bottom",
          "yref": "paper"
         }
        ],
        "height": 600,
        "paper_bgcolor": "rgb(233,233,233)",
        "template": {
         "data": {
          "bar": [
           {
            "error_x": {
             "color": "#2a3f5f"
            },
            "error_y": {
             "color": "#2a3f5f"
            },
            "marker": {
             "line": {
              "color": "#E5ECF6",
              "width": 0.5
             },
             "pattern": {
              "fillmode": "overlay",
              "size": 10,
              "solidity": 0.2
             }
            },
            "type": "bar"
           }
          ],
          "barpolar": [
           {
            "marker": {
             "line": {
              "color": "#E5ECF6",
              "width": 0.5
             },
             "pattern": {
              "fillmode": "overlay",
              "size": 10,
              "solidity": 0.2
             }
            },
            "type": "barpolar"
           }
          ],
          "carpet": [
           {
            "aaxis": {
             "endlinecolor": "#2a3f5f",
             "gridcolor": "white",
             "linecolor": "white",
             "minorgridcolor": "white",
             "startlinecolor": "#2a3f5f"
            },
            "baxis": {
             "endlinecolor": "#2a3f5f",
             "gridcolor": "white",
             "linecolor": "white",
             "minorgridcolor": "white",
             "startlinecolor": "#2a3f5f"
            },
            "type": "carpet"
           }
          ],
          "choropleth": [
           {
            "colorbar": {
             "outlinewidth": 0,
             "ticks": ""
            },
            "type": "choropleth"
           }
          ],
          "contour": [
           {
            "colorbar": {
             "outlinewidth": 0,
             "ticks": ""
            },
            "colorscale": [
             [
              0,
              "#0d0887"
             ],
             [
              0.1111111111111111,
              "#46039f"
             ],
             [
              0.2222222222222222,
              "#7201a8"
             ],
             [
              0.3333333333333333,
              "#9c179e"
             ],
             [
              0.4444444444444444,
              "#bd3786"
             ],
             [
              0.5555555555555556,
              "#d8576b"
             ],
             [
              0.6666666666666666,
              "#ed7953"
             ],
             [
              0.7777777777777778,
              "#fb9f3a"
             ],
             [
              0.8888888888888888,
              "#fdca26"
             ],
             [
              1,
              "#f0f921"
             ]
            ],
            "type": "contour"
           }
          ],
          "contourcarpet": [
           {
            "colorbar": {
             "outlinewidth": 0,
             "ticks": ""
            },
            "type": "contourcarpet"
           }
          ],
          "heatmap": [
           {
            "colorbar": {
             "outlinewidth": 0,
             "ticks": ""
            },
            "colorscale": [
             [
              0,
              "#0d0887"
             ],
             [
              0.1111111111111111,
              "#46039f"
             ],
             [
              0.2222222222222222,
              "#7201a8"
             ],
             [
              0.3333333333333333,
              "#9c179e"
             ],
             [
              0.4444444444444444,
              "#bd3786"
             ],
             [
              0.5555555555555556,
              "#d8576b"
             ],
             [
              0.6666666666666666,
              "#ed7953"
             ],
             [
              0.7777777777777778,
              "#fb9f3a"
             ],
             [
              0.8888888888888888,
              "#fdca26"
             ],
             [
              1,
              "#f0f921"
             ]
            ],
            "type": "heatmap"
           }
          ],
          "heatmapgl": [
           {
            "colorbar": {
             "outlinewidth": 0,
             "ticks": ""
            },
            "colorscale": [
             [
              0,
              "#0d0887"
             ],
             [
              0.1111111111111111,
              "#46039f"
             ],
             [
              0.2222222222222222,
              "#7201a8"
             ],
             [
              0.3333333333333333,
              "#9c179e"
             ],
             [
              0.4444444444444444,
              "#bd3786"
             ],
             [
              0.5555555555555556,
              "#d8576b"
             ],
             [
              0.6666666666666666,
              "#ed7953"
             ],
             [
              0.7777777777777778,
              "#fb9f3a"
             ],
             [
              0.8888888888888888,
              "#fdca26"
             ],
             [
              1,
              "#f0f921"
             ]
            ],
            "type": "heatmapgl"
           }
          ],
          "histogram": [
           {
            "marker": {
             "pattern": {
              "fillmode": "overlay",
              "size": 10,
              "solidity": 0.2
             }
            },
            "type": "histogram"
           }
          ],
          "histogram2d": [
           {
            "colorbar": {
             "outlinewidth": 0,
             "ticks": ""
            },
            "colorscale": [
             [
              0,
              "#0d0887"
             ],
             [
              0.1111111111111111,
              "#46039f"
             ],
             [
              0.2222222222222222,
              "#7201a8"
             ],
             [
              0.3333333333333333,
              "#9c179e"
             ],
             [
              0.4444444444444444,
              "#bd3786"
             ],
             [
              0.5555555555555556,
              "#d8576b"
             ],
             [
              0.6666666666666666,
              "#ed7953"
             ],
             [
              0.7777777777777778,
              "#fb9f3a"
             ],
             [
              0.8888888888888888,
              "#fdca26"
             ],
             [
              1,
              "#f0f921"
             ]
            ],
            "type": "histogram2d"
           }
          ],
          "histogram2dcontour": [
           {
            "colorbar": {
             "outlinewidth": 0,
             "ticks": ""
            },
            "colorscale": [
             [
              0,
              "#0d0887"
             ],
             [
              0.1111111111111111,
              "#46039f"
             ],
             [
              0.2222222222222222,
              "#7201a8"
             ],
             [
              0.3333333333333333,
              "#9c179e"
             ],
             [
              0.4444444444444444,
              "#bd3786"
             ],
             [
              0.5555555555555556,
              "#d8576b"
             ],
             [
              0.6666666666666666,
              "#ed7953"
             ],
             [
              0.7777777777777778,
              "#fb9f3a"
             ],
             [
              0.8888888888888888,
              "#fdca26"
             ],
             [
              1,
              "#f0f921"
             ]
            ],
            "type": "histogram2dcontour"
           }
          ],
          "mesh3d": [
           {
            "colorbar": {
             "outlinewidth": 0,
             "ticks": ""
            },
            "type": "mesh3d"
           }
          ],
          "parcoords": [
           {
            "line": {
             "colorbar": {
              "outlinewidth": 0,
              "ticks": ""
             }
            },
            "type": "parcoords"
           }
          ],
          "pie": [
           {
            "automargin": true,
            "type": "pie"
           }
          ],
          "scatter": [
           {
            "fillpattern": {
             "fillmode": "overlay",
             "size": 10,
             "solidity": 0.2
            },
            "type": "scatter"
           }
          ],
          "scatter3d": [
           {
            "line": {
             "colorbar": {
              "outlinewidth": 0,
              "ticks": ""
             }
            },
            "marker": {
             "colorbar": {
              "outlinewidth": 0,
              "ticks": ""
             }
            },
            "type": "scatter3d"
           }
          ],
          "scattercarpet": [
           {
            "marker": {
             "colorbar": {
              "outlinewidth": 0,
              "ticks": ""
             }
            },
            "type": "scattercarpet"
           }
          ],
          "scattergeo": [
           {
            "marker": {
             "colorbar": {
              "outlinewidth": 0,
              "ticks": ""
             }
            },
            "type": "scattergeo"
           }
          ],
          "scattergl": [
           {
            "marker": {
             "colorbar": {
              "outlinewidth": 0,
              "ticks": ""
             }
            },
            "type": "scattergl"
           }
          ],
          "scattermapbox": [
           {
            "marker": {
             "colorbar": {
              "outlinewidth": 0,
              "ticks": ""
             }
            },
            "type": "scattermapbox"
           }
          ],
          "scatterpolar": [
           {
            "marker": {
             "colorbar": {
              "outlinewidth": 0,
              "ticks": ""
             }
            },
            "type": "scatterpolar"
           }
          ],
          "scatterpolargl": [
           {
            "marker": {
             "colorbar": {
              "outlinewidth": 0,
              "ticks": ""
             }
            },
            "type": "scatterpolargl"
           }
          ],
          "scatterternary": [
           {
            "marker": {
             "colorbar": {
              "outlinewidth": 0,
              "ticks": ""
             }
            },
            "type": "scatterternary"
           }
          ],
          "surface": [
           {
            "colorbar": {
             "outlinewidth": 0,
             "ticks": ""
            },
            "colorscale": [
             [
              0,
              "#0d0887"
             ],
             [
              0.1111111111111111,
              "#46039f"
             ],
             [
              0.2222222222222222,
              "#7201a8"
             ],
             [
              0.3333333333333333,
              "#9c179e"
             ],
             [
              0.4444444444444444,
              "#bd3786"
             ],
             [
              0.5555555555555556,
              "#d8576b"
             ],
             [
              0.6666666666666666,
              "#ed7953"
             ],
             [
              0.7777777777777778,
              "#fb9f3a"
             ],
             [
              0.8888888888888888,
              "#fdca26"
             ],
             [
              1,
              "#f0f921"
             ]
            ],
            "type": "surface"
           }
          ],
          "table": [
           {
            "cells": {
             "fill": {
              "color": "#EBF0F8"
             },
             "line": {
              "color": "white"
             }
            },
            "header": {
             "fill": {
              "color": "#C8D4E3"
             },
             "line": {
              "color": "white"
             }
            },
            "type": "table"
           }
          ]
         },
         "layout": {
          "annotationdefaults": {
           "arrowcolor": "#2a3f5f",
           "arrowhead": 0,
           "arrowwidth": 1
          },
          "autotypenumbers": "strict",
          "coloraxis": {
           "colorbar": {
            "outlinewidth": 0,
            "ticks": ""
           }
          },
          "colorscale": {
           "diverging": [
            [
             0,
             "#8e0152"
            ],
            [
             0.1,
             "#c51b7d"
            ],
            [
             0.2,
             "#de77ae"
            ],
            [
             0.3,
             "#f1b6da"
            ],
            [
             0.4,
             "#fde0ef"
            ],
            [
             0.5,
             "#f7f7f7"
            ],
            [
             0.6,
             "#e6f5d0"
            ],
            [
             0.7,
             "#b8e186"
            ],
            [
             0.8,
             "#7fbc41"
            ],
            [
             0.9,
             "#4d9221"
            ],
            [
             1,
             "#276419"
            ]
           ],
           "sequential": [
            [
             0,
             "#0d0887"
            ],
            [
             0.1111111111111111,
             "#46039f"
            ],
            [
             0.2222222222222222,
             "#7201a8"
            ],
            [
             0.3333333333333333,
             "#9c179e"
            ],
            [
             0.4444444444444444,
             "#bd3786"
            ],
            [
             0.5555555555555556,
             "#d8576b"
            ],
            [
             0.6666666666666666,
             "#ed7953"
            ],
            [
             0.7777777777777778,
             "#fb9f3a"
            ],
            [
             0.8888888888888888,
             "#fdca26"
            ],
            [
             1,
             "#f0f921"
            ]
           ],
           "sequentialminus": [
            [
             0,
             "#0d0887"
            ],
            [
             0.1111111111111111,
             "#46039f"
            ],
            [
             0.2222222222222222,
             "#7201a8"
            ],
            [
             0.3333333333333333,
             "#9c179e"
            ],
            [
             0.4444444444444444,
             "#bd3786"
            ],
            [
             0.5555555555555556,
             "#d8576b"
            ],
            [
             0.6666666666666666,
             "#ed7953"
            ],
            [
             0.7777777777777778,
             "#fb9f3a"
            ],
            [
             0.8888888888888888,
             "#fdca26"
            ],
            [
             1,
             "#f0f921"
            ]
           ]
          },
          "colorway": [
           "#636efa",
           "#EF553B",
           "#00cc96",
           "#ab63fa",
           "#FFA15A",
           "#19d3f3",
           "#FF6692",
           "#B6E880",
           "#FF97FF",
           "#FECB52"
          ],
          "font": {
           "color": "#2a3f5f"
          },
          "geo": {
           "bgcolor": "white",
           "lakecolor": "white",
           "landcolor": "#E5ECF6",
           "showlakes": true,
           "showland": true,
           "subunitcolor": "white"
          },
          "hoverlabel": {
           "align": "left"
          },
          "hovermode": "closest",
          "mapbox": {
           "style": "light"
          },
          "paper_bgcolor": "white",
          "plot_bgcolor": "#E5ECF6",
          "polar": {
           "angularaxis": {
            "gridcolor": "white",
            "linecolor": "white",
            "ticks": ""
           },
           "bgcolor": "#E5ECF6",
           "radialaxis": {
            "gridcolor": "white",
            "linecolor": "white",
            "ticks": ""
           }
          },
          "scene": {
           "xaxis": {
            "backgroundcolor": "#E5ECF6",
            "gridcolor": "white",
            "gridwidth": 2,
            "linecolor": "white",
            "showbackground": true,
            "ticks": "",
            "zerolinecolor": "white"
           },
           "yaxis": {
            "backgroundcolor": "#E5ECF6",
            "gridcolor": "white",
            "gridwidth": 2,
            "linecolor": "white",
            "showbackground": true,
            "ticks": "",
            "zerolinecolor": "white"
           },
           "zaxis": {
            "backgroundcolor": "#E5ECF6",
            "gridcolor": "white",
            "gridwidth": 2,
            "linecolor": "white",
            "showbackground": true,
            "ticks": "",
            "zerolinecolor": "white"
           }
          },
          "shapedefaults": {
           "line": {
            "color": "#2a3f5f"
           }
          },
          "ternary": {
           "aaxis": {
            "gridcolor": "white",
            "linecolor": "white",
            "ticks": ""
           },
           "baxis": {
            "gridcolor": "white",
            "linecolor": "white",
            "ticks": ""
           },
           "bgcolor": "#E5ECF6",
           "caxis": {
            "gridcolor": "white",
            "linecolor": "white",
            "ticks": ""
           }
          },
          "title": {
           "x": 0.05
          },
          "xaxis": {
           "automargin": true,
           "gridcolor": "white",
           "linecolor": "white",
           "ticks": "",
           "title": {
            "standoff": 15
           },
           "zerolinecolor": "white",
           "zerolinewidth": 2
          },
          "yaxis": {
           "automargin": true,
           "gridcolor": "white",
           "linecolor": "white",
           "ticks": "",
           "title": {
            "standoff": 15
           },
           "zerolinecolor": "white",
           "zerolinewidth": 2
          }
         }
        },
        "title": {
         "text": "Word Count Plots"
        },
        "width": 600,
        "xaxis": {
         "anchor": "y",
         "domain": [
          0,
          1
         ]
        },
        "yaxis": {
         "anchor": "x",
         "domain": [
          0,
          1
         ]
        }
       }
      },
      "text/html": [
       "<div>                            <div id=\"79d35b49-89bc-4ee0-ba1f-ce3c2c9ae641\" class=\"plotly-graph-div\" style=\"height:600px; width:600px;\"></div>            <script type=\"text/javascript\">                require([\"plotly\"], function(Plotly) {                    window.PLOTLYENV=window.PLOTLYENV || {};                                    if (document.getElementById(\"79d35b49-89bc-4ee0-ba1f-ce3c2c9ae641\")) {                    Plotly.newPlot(                        \"79d35b49-89bc-4ee0-ba1f-ce3c2c9ae641\",                        [{\"marker\":{\"color\":\"green\"},\"orientation\":\"h\",\"showlegend\":false,\"x\":[1,1,1,2,2,2,2,2,2,2,2,2,2,2,2,2,2,3,3,4],\"xaxis\":\"x\",\"y\":[\"Retire Millionaire With\",\"Millionaire With ETFs\",\"With ETFs Alone\",\"SPDR SP 500\",\"SP 500 Nasdaq\",\"ETFs That Gained\",\"That Gained Investors\",\"Gained Investors Love\",\"10 Best Stocks\",\"Best Stocks Buy\",\"Stocks Buy Hold\",\"stock market rally\",\"Predictions 3 Hot\",\"3 Hot Stocks\",\"Hot Stocks Tomorrow\",\"5 Stocks SP\",\"Stocks SP 500\",\"5 ETFs That\",\"ETF Asset Report\",\"SP 500 ETF\"],\"yaxis\":\"y\",\"type\":\"bar\"}],                        {\"annotations\":[{\"font\":{\"size\":16},\"showarrow\":false,\"text\":\"Frequent words\",\"x\":0.5,\"xanchor\":\"center\",\"xref\":\"paper\",\"y\":1.0,\"yanchor\":\"bottom\",\"yref\":\"paper\"}],\"height\":600,\"paper_bgcolor\":\"rgb(233,233,233)\",\"template\":{\"data\":{\"barpolar\":[{\"marker\":{\"line\":{\"color\":\"#E5ECF6\",\"width\":0.5},\"pattern\":{\"fillmode\":\"overlay\",\"size\":10,\"solidity\":0.2}},\"type\":\"barpolar\"}],\"bar\":[{\"error_x\":{\"color\":\"#2a3f5f\"},\"error_y\":{\"color\":\"#2a3f5f\"},\"marker\":{\"line\":{\"color\":\"#E5ECF6\",\"width\":0.5},\"pattern\":{\"fillmode\":\"overlay\",\"size\":10,\"solidity\":0.2}},\"type\":\"bar\"}],\"carpet\":[{\"aaxis\":{\"endlinecolor\":\"#2a3f5f\",\"gridcolor\":\"white\",\"linecolor\":\"white\",\"minorgridcolor\":\"white\",\"startlinecolor\":\"#2a3f5f\"},\"baxis\":{\"endlinecolor\":\"#2a3f5f\",\"gridcolor\":\"white\",\"linecolor\":\"white\",\"minorgridcolor\":\"white\",\"startlinecolor\":\"#2a3f5f\"},\"type\":\"carpet\"}],\"choropleth\":[{\"colorbar\":{\"outlinewidth\":0,\"ticks\":\"\"},\"type\":\"choropleth\"}],\"contourcarpet\":[{\"colorbar\":{\"outlinewidth\":0,\"ticks\":\"\"},\"type\":\"contourcarpet\"}],\"contour\":[{\"colorbar\":{\"outlinewidth\":0,\"ticks\":\"\"},\"colorscale\":[[0.0,\"#0d0887\"],[0.1111111111111111,\"#46039f\"],[0.2222222222222222,\"#7201a8\"],[0.3333333333333333,\"#9c179e\"],[0.4444444444444444,\"#bd3786\"],[0.5555555555555556,\"#d8576b\"],[0.6666666666666666,\"#ed7953\"],[0.7777777777777778,\"#fb9f3a\"],[0.8888888888888888,\"#fdca26\"],[1.0,\"#f0f921\"]],\"type\":\"contour\"}],\"heatmapgl\":[{\"colorbar\":{\"outlinewidth\":0,\"ticks\":\"\"},\"colorscale\":[[0.0,\"#0d0887\"],[0.1111111111111111,\"#46039f\"],[0.2222222222222222,\"#7201a8\"],[0.3333333333333333,\"#9c179e\"],[0.4444444444444444,\"#bd3786\"],[0.5555555555555556,\"#d8576b\"],[0.6666666666666666,\"#ed7953\"],[0.7777777777777778,\"#fb9f3a\"],[0.8888888888888888,\"#fdca26\"],[1.0,\"#f0f921\"]],\"type\":\"heatmapgl\"}],\"heatmap\":[{\"colorbar\":{\"outlinewidth\":0,\"ticks\":\"\"},\"colorscale\":[[0.0,\"#0d0887\"],[0.1111111111111111,\"#46039f\"],[0.2222222222222222,\"#7201a8\"],[0.3333333333333333,\"#9c179e\"],[0.4444444444444444,\"#bd3786\"],[0.5555555555555556,\"#d8576b\"],[0.6666666666666666,\"#ed7953\"],[0.7777777777777778,\"#fb9f3a\"],[0.8888888888888888,\"#fdca26\"],[1.0,\"#f0f921\"]],\"type\":\"heatmap\"}],\"histogram2dcontour\":[{\"colorbar\":{\"outlinewidth\":0,\"ticks\":\"\"},\"colorscale\":[[0.0,\"#0d0887\"],[0.1111111111111111,\"#46039f\"],[0.2222222222222222,\"#7201a8\"],[0.3333333333333333,\"#9c179e\"],[0.4444444444444444,\"#bd3786\"],[0.5555555555555556,\"#d8576b\"],[0.6666666666666666,\"#ed7953\"],[0.7777777777777778,\"#fb9f3a\"],[0.8888888888888888,\"#fdca26\"],[1.0,\"#f0f921\"]],\"type\":\"histogram2dcontour\"}],\"histogram2d\":[{\"colorbar\":{\"outlinewidth\":0,\"ticks\":\"\"},\"colorscale\":[[0.0,\"#0d0887\"],[0.1111111111111111,\"#46039f\"],[0.2222222222222222,\"#7201a8\"],[0.3333333333333333,\"#9c179e\"],[0.4444444444444444,\"#bd3786\"],[0.5555555555555556,\"#d8576b\"],[0.6666666666666666,\"#ed7953\"],[0.7777777777777778,\"#fb9f3a\"],[0.8888888888888888,\"#fdca26\"],[1.0,\"#f0f921\"]],\"type\":\"histogram2d\"}],\"histogram\":[{\"marker\":{\"pattern\":{\"fillmode\":\"overlay\",\"size\":10,\"solidity\":0.2}},\"type\":\"histogram\"}],\"mesh3d\":[{\"colorbar\":{\"outlinewidth\":0,\"ticks\":\"\"},\"type\":\"mesh3d\"}],\"parcoords\":[{\"line\":{\"colorbar\":{\"outlinewidth\":0,\"ticks\":\"\"}},\"type\":\"parcoords\"}],\"pie\":[{\"automargin\":true,\"type\":\"pie\"}],\"scatter3d\":[{\"line\":{\"colorbar\":{\"outlinewidth\":0,\"ticks\":\"\"}},\"marker\":{\"colorbar\":{\"outlinewidth\":0,\"ticks\":\"\"}},\"type\":\"scatter3d\"}],\"scattercarpet\":[{\"marker\":{\"colorbar\":{\"outlinewidth\":0,\"ticks\":\"\"}},\"type\":\"scattercarpet\"}],\"scattergeo\":[{\"marker\":{\"colorbar\":{\"outlinewidth\":0,\"ticks\":\"\"}},\"type\":\"scattergeo\"}],\"scattergl\":[{\"marker\":{\"colorbar\":{\"outlinewidth\":0,\"ticks\":\"\"}},\"type\":\"scattergl\"}],\"scattermapbox\":[{\"marker\":{\"colorbar\":{\"outlinewidth\":0,\"ticks\":\"\"}},\"type\":\"scattermapbox\"}],\"scatterpolargl\":[{\"marker\":{\"colorbar\":{\"outlinewidth\":0,\"ticks\":\"\"}},\"type\":\"scatterpolargl\"}],\"scatterpolar\":[{\"marker\":{\"colorbar\":{\"outlinewidth\":0,\"ticks\":\"\"}},\"type\":\"scatterpolar\"}],\"scatter\":[{\"fillpattern\":{\"fillmode\":\"overlay\",\"size\":10,\"solidity\":0.2},\"type\":\"scatter\"}],\"scatterternary\":[{\"marker\":{\"colorbar\":{\"outlinewidth\":0,\"ticks\":\"\"}},\"type\":\"scatterternary\"}],\"surface\":[{\"colorbar\":{\"outlinewidth\":0,\"ticks\":\"\"},\"colorscale\":[[0.0,\"#0d0887\"],[0.1111111111111111,\"#46039f\"],[0.2222222222222222,\"#7201a8\"],[0.3333333333333333,\"#9c179e\"],[0.4444444444444444,\"#bd3786\"],[0.5555555555555556,\"#d8576b\"],[0.6666666666666666,\"#ed7953\"],[0.7777777777777778,\"#fb9f3a\"],[0.8888888888888888,\"#fdca26\"],[1.0,\"#f0f921\"]],\"type\":\"surface\"}],\"table\":[{\"cells\":{\"fill\":{\"color\":\"#EBF0F8\"},\"line\":{\"color\":\"white\"}},\"header\":{\"fill\":{\"color\":\"#C8D4E3\"},\"line\":{\"color\":\"white\"}},\"type\":\"table\"}]},\"layout\":{\"annotationdefaults\":{\"arrowcolor\":\"#2a3f5f\",\"arrowhead\":0,\"arrowwidth\":1},\"autotypenumbers\":\"strict\",\"coloraxis\":{\"colorbar\":{\"outlinewidth\":0,\"ticks\":\"\"}},\"colorscale\":{\"diverging\":[[0,\"#8e0152\"],[0.1,\"#c51b7d\"],[0.2,\"#de77ae\"],[0.3,\"#f1b6da\"],[0.4,\"#fde0ef\"],[0.5,\"#f7f7f7\"],[0.6,\"#e6f5d0\"],[0.7,\"#b8e186\"],[0.8,\"#7fbc41\"],[0.9,\"#4d9221\"],[1,\"#276419\"]],\"sequential\":[[0.0,\"#0d0887\"],[0.1111111111111111,\"#46039f\"],[0.2222222222222222,\"#7201a8\"],[0.3333333333333333,\"#9c179e\"],[0.4444444444444444,\"#bd3786\"],[0.5555555555555556,\"#d8576b\"],[0.6666666666666666,\"#ed7953\"],[0.7777777777777778,\"#fb9f3a\"],[0.8888888888888888,\"#fdca26\"],[1.0,\"#f0f921\"]],\"sequentialminus\":[[0.0,\"#0d0887\"],[0.1111111111111111,\"#46039f\"],[0.2222222222222222,\"#7201a8\"],[0.3333333333333333,\"#9c179e\"],[0.4444444444444444,\"#bd3786\"],[0.5555555555555556,\"#d8576b\"],[0.6666666666666666,\"#ed7953\"],[0.7777777777777778,\"#fb9f3a\"],[0.8888888888888888,\"#fdca26\"],[1.0,\"#f0f921\"]]},\"colorway\":[\"#636efa\",\"#EF553B\",\"#00cc96\",\"#ab63fa\",\"#FFA15A\",\"#19d3f3\",\"#FF6692\",\"#B6E880\",\"#FF97FF\",\"#FECB52\"],\"font\":{\"color\":\"#2a3f5f\"},\"geo\":{\"bgcolor\":\"white\",\"lakecolor\":\"white\",\"landcolor\":\"#E5ECF6\",\"showlakes\":true,\"showland\":true,\"subunitcolor\":\"white\"},\"hoverlabel\":{\"align\":\"left\"},\"hovermode\":\"closest\",\"mapbox\":{\"style\":\"light\"},\"paper_bgcolor\":\"white\",\"plot_bgcolor\":\"#E5ECF6\",\"polar\":{\"angularaxis\":{\"gridcolor\":\"white\",\"linecolor\":\"white\",\"ticks\":\"\"},\"bgcolor\":\"#E5ECF6\",\"radialaxis\":{\"gridcolor\":\"white\",\"linecolor\":\"white\",\"ticks\":\"\"}},\"scene\":{\"xaxis\":{\"backgroundcolor\":\"#E5ECF6\",\"gridcolor\":\"white\",\"gridwidth\":2,\"linecolor\":\"white\",\"showbackground\":true,\"ticks\":\"\",\"zerolinecolor\":\"white\"},\"yaxis\":{\"backgroundcolor\":\"#E5ECF6\",\"gridcolor\":\"white\",\"gridwidth\":2,\"linecolor\":\"white\",\"showbackground\":true,\"ticks\":\"\",\"zerolinecolor\":\"white\"},\"zaxis\":{\"backgroundcolor\":\"#E5ECF6\",\"gridcolor\":\"white\",\"gridwidth\":2,\"linecolor\":\"white\",\"showbackground\":true,\"ticks\":\"\",\"zerolinecolor\":\"white\"}},\"shapedefaults\":{\"line\":{\"color\":\"#2a3f5f\"}},\"ternary\":{\"aaxis\":{\"gridcolor\":\"white\",\"linecolor\":\"white\",\"ticks\":\"\"},\"baxis\":{\"gridcolor\":\"white\",\"linecolor\":\"white\",\"ticks\":\"\"},\"bgcolor\":\"#E5ECF6\",\"caxis\":{\"gridcolor\":\"white\",\"linecolor\":\"white\",\"ticks\":\"\"}},\"title\":{\"x\":0.05},\"xaxis\":{\"automargin\":true,\"gridcolor\":\"white\",\"linecolor\":\"white\",\"ticks\":\"\",\"title\":{\"standoff\":15},\"zerolinecolor\":\"white\",\"zerolinewidth\":2},\"yaxis\":{\"automargin\":true,\"gridcolor\":\"white\",\"linecolor\":\"white\",\"ticks\":\"\",\"title\":{\"standoff\":15},\"zerolinecolor\":\"white\",\"zerolinewidth\":2}}},\"title\":{\"text\":\"Word Count Plots\"},\"width\":600,\"xaxis\":{\"anchor\":\"y\",\"domain\":[0.0,1.0]},\"yaxis\":{\"anchor\":\"x\",\"domain\":[0.0,1.0]}},                        {\"responsive\": true}                    ).then(function(){\n",
       "                            \n",
       "var gd = document.getElementById('79d35b49-89bc-4ee0-ba1f-ce3c2c9ae641');\n",
       "var x = new MutationObserver(function (mutations, observer) {{\n",
       "        var display = window.getComputedStyle(gd).display;\n",
       "        if (!display || display === 'none') {{\n",
       "            console.log([gd, 'removed!']);\n",
       "            Plotly.purge(gd);\n",
       "            observer.disconnect();\n",
       "        }}\n",
       "}});\n",
       "\n",
       "// Listen for the removal of the full notebook cells\n",
       "var notebookContainer = gd.closest('#notebook-container');\n",
       "if (notebookContainer) {{\n",
       "    x.observe(notebookContainer, {childList: true});\n",
       "}}\n",
       "\n",
       "// Listen for the clearing of the current output cell\n",
       "var outputEl = gd.closest('.output');\n",
       "if (outputEl) {{\n",
       "    x.observe(outputEl, {childList: true});\n",
       "}}\n",
       "\n",
       "                        })                };                });            </script>        </div>"
      ]
     },
     "metadata": {},
     "output_type": "display_data"
    }
   ],
   "source": [
    "## Get the bar chart from 5 rated reviews ##\n",
    "freq_dict = defaultdict(int)\n",
    "for sent in news_df[\"headline\"]:\n",
    "    for word in generate_ngrams(sent,3):\n",
    "        freq_dict[word] += 1\n",
    "fd_sorted = pd.DataFrame(sorted(freq_dict.items(), key=lambda x: x[1])[::-1])\n",
    "fd_sorted.columns = [\"word\", \"wordcount\"]\n",
    "trace0 = horizontal_bar_chart(fd_sorted.head(20), 'green')\n",
    "\n",
    "# Creating two subplots\n",
    "fig = tools.make_subplots(rows=1, cols=1, vertical_spacing=0.04,\n",
    "                          subplot_titles=[\"Frequent words\"])\n",
    "fig.append_trace(trace0, 1, 1)\n",
    "#fig.append_trace(trace1, 1, 2)\n",
    "fig['layout'].update(height=600, width=600, paper_bgcolor='rgb(233,233,233)', title=\"Word Count Plots\")\n",
    "py.iplot(fig, filename='word-plots');"
   ]
  },
  {
   "attachments": {},
   "cell_type": "markdown",
   "metadata": {},
   "source": [
    "# Content Trigram"
   ]
  },
  {
   "cell_type": "code",
   "execution_count": 19,
   "metadata": {},
   "outputs": [
    {
     "name": "stderr",
     "output_type": "stream",
     "text": [
      "c:\\Users\\Woon\\AppData\\Local\\Programs\\Python\\Python310\\lib\\site-packages\\plotly\\tools.py:460: DeprecationWarning:\n",
      "\n",
      "plotly.tools.make_subplots is deprecated, please use plotly.subplots.make_subplots instead\n",
      "\n"
     ]
    },
    {
     "data": {
      "application/vnd.plotly.v1+json": {
       "config": {
        "linkText": "Export to plot.ly",
        "plotlyServerURL": "https://plot.ly",
        "showLink": false
       },
       "data": [
        {
         "marker": {
          "color": "green"
         },
         "orientation": "h",
         "showlegend": false,
         "type": "bar",
         "x": [
          2,
          2,
          2,
          2,
          2,
          2,
          2,
          2,
          2,
          2,
          2,
          2,
          2,
          3,
          3,
          4,
          4,
          4,
          4,
          6
         ],
         "xaxis": "x",
         "y": [
          "Best Stocks Buy",
          "stocks buy 18",
          "buy 18 year",
          "18 year old",
          "What know markets",
          "know markets Thursday",
          "Street Global Advisors",
          "hot stocks tomorrow",
          "Overall ETFs pulled",
          "billion capital week",
          "capital week ended",
          "pushing yeartodate inflows",
          "safe stocks buy",
          "SP 500 index",
          "The SP 500",
          "SPDR SP 500",
          "500 ETF Trust",
          "best stocks buy",
          "stocks buy hold",
          "SP 500 ETF"
         ],
         "yaxis": "y"
        }
       ],
       "layout": {
        "annotations": [
         {
          "font": {
           "size": 16
          },
          "showarrow": false,
          "text": "Frequent words",
          "x": 0.5,
          "xanchor": "center",
          "xref": "paper",
          "y": 1,
          "yanchor": "bottom",
          "yref": "paper"
         }
        ],
        "height": 600,
        "paper_bgcolor": "rgb(233,233,233)",
        "template": {
         "data": {
          "bar": [
           {
            "error_x": {
             "color": "#2a3f5f"
            },
            "error_y": {
             "color": "#2a3f5f"
            },
            "marker": {
             "line": {
              "color": "#E5ECF6",
              "width": 0.5
             },
             "pattern": {
              "fillmode": "overlay",
              "size": 10,
              "solidity": 0.2
             }
            },
            "type": "bar"
           }
          ],
          "barpolar": [
           {
            "marker": {
             "line": {
              "color": "#E5ECF6",
              "width": 0.5
             },
             "pattern": {
              "fillmode": "overlay",
              "size": 10,
              "solidity": 0.2
             }
            },
            "type": "barpolar"
           }
          ],
          "carpet": [
           {
            "aaxis": {
             "endlinecolor": "#2a3f5f",
             "gridcolor": "white",
             "linecolor": "white",
             "minorgridcolor": "white",
             "startlinecolor": "#2a3f5f"
            },
            "baxis": {
             "endlinecolor": "#2a3f5f",
             "gridcolor": "white",
             "linecolor": "white",
             "minorgridcolor": "white",
             "startlinecolor": "#2a3f5f"
            },
            "type": "carpet"
           }
          ],
          "choropleth": [
           {
            "colorbar": {
             "outlinewidth": 0,
             "ticks": ""
            },
            "type": "choropleth"
           }
          ],
          "contour": [
           {
            "colorbar": {
             "outlinewidth": 0,
             "ticks": ""
            },
            "colorscale": [
             [
              0,
              "#0d0887"
             ],
             [
              0.1111111111111111,
              "#46039f"
             ],
             [
              0.2222222222222222,
              "#7201a8"
             ],
             [
              0.3333333333333333,
              "#9c179e"
             ],
             [
              0.4444444444444444,
              "#bd3786"
             ],
             [
              0.5555555555555556,
              "#d8576b"
             ],
             [
              0.6666666666666666,
              "#ed7953"
             ],
             [
              0.7777777777777778,
              "#fb9f3a"
             ],
             [
              0.8888888888888888,
              "#fdca26"
             ],
             [
              1,
              "#f0f921"
             ]
            ],
            "type": "contour"
           }
          ],
          "contourcarpet": [
           {
            "colorbar": {
             "outlinewidth": 0,
             "ticks": ""
            },
            "type": "contourcarpet"
           }
          ],
          "heatmap": [
           {
            "colorbar": {
             "outlinewidth": 0,
             "ticks": ""
            },
            "colorscale": [
             [
              0,
              "#0d0887"
             ],
             [
              0.1111111111111111,
              "#46039f"
             ],
             [
              0.2222222222222222,
              "#7201a8"
             ],
             [
              0.3333333333333333,
              "#9c179e"
             ],
             [
              0.4444444444444444,
              "#bd3786"
             ],
             [
              0.5555555555555556,
              "#d8576b"
             ],
             [
              0.6666666666666666,
              "#ed7953"
             ],
             [
              0.7777777777777778,
              "#fb9f3a"
             ],
             [
              0.8888888888888888,
              "#fdca26"
             ],
             [
              1,
              "#f0f921"
             ]
            ],
            "type": "heatmap"
           }
          ],
          "heatmapgl": [
           {
            "colorbar": {
             "outlinewidth": 0,
             "ticks": ""
            },
            "colorscale": [
             [
              0,
              "#0d0887"
             ],
             [
              0.1111111111111111,
              "#46039f"
             ],
             [
              0.2222222222222222,
              "#7201a8"
             ],
             [
              0.3333333333333333,
              "#9c179e"
             ],
             [
              0.4444444444444444,
              "#bd3786"
             ],
             [
              0.5555555555555556,
              "#d8576b"
             ],
             [
              0.6666666666666666,
              "#ed7953"
             ],
             [
              0.7777777777777778,
              "#fb9f3a"
             ],
             [
              0.8888888888888888,
              "#fdca26"
             ],
             [
              1,
              "#f0f921"
             ]
            ],
            "type": "heatmapgl"
           }
          ],
          "histogram": [
           {
            "marker": {
             "pattern": {
              "fillmode": "overlay",
              "size": 10,
              "solidity": 0.2
             }
            },
            "type": "histogram"
           }
          ],
          "histogram2d": [
           {
            "colorbar": {
             "outlinewidth": 0,
             "ticks": ""
            },
            "colorscale": [
             [
              0,
              "#0d0887"
             ],
             [
              0.1111111111111111,
              "#46039f"
             ],
             [
              0.2222222222222222,
              "#7201a8"
             ],
             [
              0.3333333333333333,
              "#9c179e"
             ],
             [
              0.4444444444444444,
              "#bd3786"
             ],
             [
              0.5555555555555556,
              "#d8576b"
             ],
             [
              0.6666666666666666,
              "#ed7953"
             ],
             [
              0.7777777777777778,
              "#fb9f3a"
             ],
             [
              0.8888888888888888,
              "#fdca26"
             ],
             [
              1,
              "#f0f921"
             ]
            ],
            "type": "histogram2d"
           }
          ],
          "histogram2dcontour": [
           {
            "colorbar": {
             "outlinewidth": 0,
             "ticks": ""
            },
            "colorscale": [
             [
              0,
              "#0d0887"
             ],
             [
              0.1111111111111111,
              "#46039f"
             ],
             [
              0.2222222222222222,
              "#7201a8"
             ],
             [
              0.3333333333333333,
              "#9c179e"
             ],
             [
              0.4444444444444444,
              "#bd3786"
             ],
             [
              0.5555555555555556,
              "#d8576b"
             ],
             [
              0.6666666666666666,
              "#ed7953"
             ],
             [
              0.7777777777777778,
              "#fb9f3a"
             ],
             [
              0.8888888888888888,
              "#fdca26"
             ],
             [
              1,
              "#f0f921"
             ]
            ],
            "type": "histogram2dcontour"
           }
          ],
          "mesh3d": [
           {
            "colorbar": {
             "outlinewidth": 0,
             "ticks": ""
            },
            "type": "mesh3d"
           }
          ],
          "parcoords": [
           {
            "line": {
             "colorbar": {
              "outlinewidth": 0,
              "ticks": ""
             }
            },
            "type": "parcoords"
           }
          ],
          "pie": [
           {
            "automargin": true,
            "type": "pie"
           }
          ],
          "scatter": [
           {
            "fillpattern": {
             "fillmode": "overlay",
             "size": 10,
             "solidity": 0.2
            },
            "type": "scatter"
           }
          ],
          "scatter3d": [
           {
            "line": {
             "colorbar": {
              "outlinewidth": 0,
              "ticks": ""
             }
            },
            "marker": {
             "colorbar": {
              "outlinewidth": 0,
              "ticks": ""
             }
            },
            "type": "scatter3d"
           }
          ],
          "scattercarpet": [
           {
            "marker": {
             "colorbar": {
              "outlinewidth": 0,
              "ticks": ""
             }
            },
            "type": "scattercarpet"
           }
          ],
          "scattergeo": [
           {
            "marker": {
             "colorbar": {
              "outlinewidth": 0,
              "ticks": ""
             }
            },
            "type": "scattergeo"
           }
          ],
          "scattergl": [
           {
            "marker": {
             "colorbar": {
              "outlinewidth": 0,
              "ticks": ""
             }
            },
            "type": "scattergl"
           }
          ],
          "scattermapbox": [
           {
            "marker": {
             "colorbar": {
              "outlinewidth": 0,
              "ticks": ""
             }
            },
            "type": "scattermapbox"
           }
          ],
          "scatterpolar": [
           {
            "marker": {
             "colorbar": {
              "outlinewidth": 0,
              "ticks": ""
             }
            },
            "type": "scatterpolar"
           }
          ],
          "scatterpolargl": [
           {
            "marker": {
             "colorbar": {
              "outlinewidth": 0,
              "ticks": ""
             }
            },
            "type": "scatterpolargl"
           }
          ],
          "scatterternary": [
           {
            "marker": {
             "colorbar": {
              "outlinewidth": 0,
              "ticks": ""
             }
            },
            "type": "scatterternary"
           }
          ],
          "surface": [
           {
            "colorbar": {
             "outlinewidth": 0,
             "ticks": ""
            },
            "colorscale": [
             [
              0,
              "#0d0887"
             ],
             [
              0.1111111111111111,
              "#46039f"
             ],
             [
              0.2222222222222222,
              "#7201a8"
             ],
             [
              0.3333333333333333,
              "#9c179e"
             ],
             [
              0.4444444444444444,
              "#bd3786"
             ],
             [
              0.5555555555555556,
              "#d8576b"
             ],
             [
              0.6666666666666666,
              "#ed7953"
             ],
             [
              0.7777777777777778,
              "#fb9f3a"
             ],
             [
              0.8888888888888888,
              "#fdca26"
             ],
             [
              1,
              "#f0f921"
             ]
            ],
            "type": "surface"
           }
          ],
          "table": [
           {
            "cells": {
             "fill": {
              "color": "#EBF0F8"
             },
             "line": {
              "color": "white"
             }
            },
            "header": {
             "fill": {
              "color": "#C8D4E3"
             },
             "line": {
              "color": "white"
             }
            },
            "type": "table"
           }
          ]
         },
         "layout": {
          "annotationdefaults": {
           "arrowcolor": "#2a3f5f",
           "arrowhead": 0,
           "arrowwidth": 1
          },
          "autotypenumbers": "strict",
          "coloraxis": {
           "colorbar": {
            "outlinewidth": 0,
            "ticks": ""
           }
          },
          "colorscale": {
           "diverging": [
            [
             0,
             "#8e0152"
            ],
            [
             0.1,
             "#c51b7d"
            ],
            [
             0.2,
             "#de77ae"
            ],
            [
             0.3,
             "#f1b6da"
            ],
            [
             0.4,
             "#fde0ef"
            ],
            [
             0.5,
             "#f7f7f7"
            ],
            [
             0.6,
             "#e6f5d0"
            ],
            [
             0.7,
             "#b8e186"
            ],
            [
             0.8,
             "#7fbc41"
            ],
            [
             0.9,
             "#4d9221"
            ],
            [
             1,
             "#276419"
            ]
           ],
           "sequential": [
            [
             0,
             "#0d0887"
            ],
            [
             0.1111111111111111,
             "#46039f"
            ],
            [
             0.2222222222222222,
             "#7201a8"
            ],
            [
             0.3333333333333333,
             "#9c179e"
            ],
            [
             0.4444444444444444,
             "#bd3786"
            ],
            [
             0.5555555555555556,
             "#d8576b"
            ],
            [
             0.6666666666666666,
             "#ed7953"
            ],
            [
             0.7777777777777778,
             "#fb9f3a"
            ],
            [
             0.8888888888888888,
             "#fdca26"
            ],
            [
             1,
             "#f0f921"
            ]
           ],
           "sequentialminus": [
            [
             0,
             "#0d0887"
            ],
            [
             0.1111111111111111,
             "#46039f"
            ],
            [
             0.2222222222222222,
             "#7201a8"
            ],
            [
             0.3333333333333333,
             "#9c179e"
            ],
            [
             0.4444444444444444,
             "#bd3786"
            ],
            [
             0.5555555555555556,
             "#d8576b"
            ],
            [
             0.6666666666666666,
             "#ed7953"
            ],
            [
             0.7777777777777778,
             "#fb9f3a"
            ],
            [
             0.8888888888888888,
             "#fdca26"
            ],
            [
             1,
             "#f0f921"
            ]
           ]
          },
          "colorway": [
           "#636efa",
           "#EF553B",
           "#00cc96",
           "#ab63fa",
           "#FFA15A",
           "#19d3f3",
           "#FF6692",
           "#B6E880",
           "#FF97FF",
           "#FECB52"
          ],
          "font": {
           "color": "#2a3f5f"
          },
          "geo": {
           "bgcolor": "white",
           "lakecolor": "white",
           "landcolor": "#E5ECF6",
           "showlakes": true,
           "showland": true,
           "subunitcolor": "white"
          },
          "hoverlabel": {
           "align": "left"
          },
          "hovermode": "closest",
          "mapbox": {
           "style": "light"
          },
          "paper_bgcolor": "white",
          "plot_bgcolor": "#E5ECF6",
          "polar": {
           "angularaxis": {
            "gridcolor": "white",
            "linecolor": "white",
            "ticks": ""
           },
           "bgcolor": "#E5ECF6",
           "radialaxis": {
            "gridcolor": "white",
            "linecolor": "white",
            "ticks": ""
           }
          },
          "scene": {
           "xaxis": {
            "backgroundcolor": "#E5ECF6",
            "gridcolor": "white",
            "gridwidth": 2,
            "linecolor": "white",
            "showbackground": true,
            "ticks": "",
            "zerolinecolor": "white"
           },
           "yaxis": {
            "backgroundcolor": "#E5ECF6",
            "gridcolor": "white",
            "gridwidth": 2,
            "linecolor": "white",
            "showbackground": true,
            "ticks": "",
            "zerolinecolor": "white"
           },
           "zaxis": {
            "backgroundcolor": "#E5ECF6",
            "gridcolor": "white",
            "gridwidth": 2,
            "linecolor": "white",
            "showbackground": true,
            "ticks": "",
            "zerolinecolor": "white"
           }
          },
          "shapedefaults": {
           "line": {
            "color": "#2a3f5f"
           }
          },
          "ternary": {
           "aaxis": {
            "gridcolor": "white",
            "linecolor": "white",
            "ticks": ""
           },
           "baxis": {
            "gridcolor": "white",
            "linecolor": "white",
            "ticks": ""
           },
           "bgcolor": "#E5ECF6",
           "caxis": {
            "gridcolor": "white",
            "linecolor": "white",
            "ticks": ""
           }
          },
          "title": {
           "x": 0.05
          },
          "xaxis": {
           "automargin": true,
           "gridcolor": "white",
           "linecolor": "white",
           "ticks": "",
           "title": {
            "standoff": 15
           },
           "zerolinecolor": "white",
           "zerolinewidth": 2
          },
          "yaxis": {
           "automargin": true,
           "gridcolor": "white",
           "linecolor": "white",
           "ticks": "",
           "title": {
            "standoff": 15
           },
           "zerolinecolor": "white",
           "zerolinewidth": 2
          }
         }
        },
        "title": {
         "text": "Word Count Plots"
        },
        "width": 600,
        "xaxis": {
         "anchor": "y",
         "domain": [
          0,
          1
         ]
        },
        "yaxis": {
         "anchor": "x",
         "domain": [
          0,
          1
         ]
        }
       }
      },
      "text/html": [
       "<div>                            <div id=\"135af30f-35ec-4213-8c96-3a0fa8f7b171\" class=\"plotly-graph-div\" style=\"height:600px; width:600px;\"></div>            <script type=\"text/javascript\">                require([\"plotly\"], function(Plotly) {                    window.PLOTLYENV=window.PLOTLYENV || {};                                    if (document.getElementById(\"135af30f-35ec-4213-8c96-3a0fa8f7b171\")) {                    Plotly.newPlot(                        \"135af30f-35ec-4213-8c96-3a0fa8f7b171\",                        [{\"marker\":{\"color\":\"green\"},\"orientation\":\"h\",\"showlegend\":false,\"x\":[2,2,2,2,2,2,2,2,2,2,2,2,2,3,3,4,4,4,4,6],\"xaxis\":\"x\",\"y\":[\"Best Stocks Buy\",\"stocks buy 18\",\"buy 18 year\",\"18 year old\",\"What know markets\",\"know markets Thursday\",\"Street Global Advisors\",\"hot stocks tomorrow\",\"Overall ETFs pulled\",\"billion capital week\",\"capital week ended\",\"pushing yeartodate inflows\",\"safe stocks buy\",\"SP 500 index\",\"The SP 500\",\"SPDR SP 500\",\"500 ETF Trust\",\"best stocks buy\",\"stocks buy hold\",\"SP 500 ETF\"],\"yaxis\":\"y\",\"type\":\"bar\"}],                        {\"annotations\":[{\"font\":{\"size\":16},\"showarrow\":false,\"text\":\"Frequent words\",\"x\":0.5,\"xanchor\":\"center\",\"xref\":\"paper\",\"y\":1.0,\"yanchor\":\"bottom\",\"yref\":\"paper\"}],\"height\":600,\"paper_bgcolor\":\"rgb(233,233,233)\",\"template\":{\"data\":{\"barpolar\":[{\"marker\":{\"line\":{\"color\":\"#E5ECF6\",\"width\":0.5},\"pattern\":{\"fillmode\":\"overlay\",\"size\":10,\"solidity\":0.2}},\"type\":\"barpolar\"}],\"bar\":[{\"error_x\":{\"color\":\"#2a3f5f\"},\"error_y\":{\"color\":\"#2a3f5f\"},\"marker\":{\"line\":{\"color\":\"#E5ECF6\",\"width\":0.5},\"pattern\":{\"fillmode\":\"overlay\",\"size\":10,\"solidity\":0.2}},\"type\":\"bar\"}],\"carpet\":[{\"aaxis\":{\"endlinecolor\":\"#2a3f5f\",\"gridcolor\":\"white\",\"linecolor\":\"white\",\"minorgridcolor\":\"white\",\"startlinecolor\":\"#2a3f5f\"},\"baxis\":{\"endlinecolor\":\"#2a3f5f\",\"gridcolor\":\"white\",\"linecolor\":\"white\",\"minorgridcolor\":\"white\",\"startlinecolor\":\"#2a3f5f\"},\"type\":\"carpet\"}],\"choropleth\":[{\"colorbar\":{\"outlinewidth\":0,\"ticks\":\"\"},\"type\":\"choropleth\"}],\"contourcarpet\":[{\"colorbar\":{\"outlinewidth\":0,\"ticks\":\"\"},\"type\":\"contourcarpet\"}],\"contour\":[{\"colorbar\":{\"outlinewidth\":0,\"ticks\":\"\"},\"colorscale\":[[0.0,\"#0d0887\"],[0.1111111111111111,\"#46039f\"],[0.2222222222222222,\"#7201a8\"],[0.3333333333333333,\"#9c179e\"],[0.4444444444444444,\"#bd3786\"],[0.5555555555555556,\"#d8576b\"],[0.6666666666666666,\"#ed7953\"],[0.7777777777777778,\"#fb9f3a\"],[0.8888888888888888,\"#fdca26\"],[1.0,\"#f0f921\"]],\"type\":\"contour\"}],\"heatmapgl\":[{\"colorbar\":{\"outlinewidth\":0,\"ticks\":\"\"},\"colorscale\":[[0.0,\"#0d0887\"],[0.1111111111111111,\"#46039f\"],[0.2222222222222222,\"#7201a8\"],[0.3333333333333333,\"#9c179e\"],[0.4444444444444444,\"#bd3786\"],[0.5555555555555556,\"#d8576b\"],[0.6666666666666666,\"#ed7953\"],[0.7777777777777778,\"#fb9f3a\"],[0.8888888888888888,\"#fdca26\"],[1.0,\"#f0f921\"]],\"type\":\"heatmapgl\"}],\"heatmap\":[{\"colorbar\":{\"outlinewidth\":0,\"ticks\":\"\"},\"colorscale\":[[0.0,\"#0d0887\"],[0.1111111111111111,\"#46039f\"],[0.2222222222222222,\"#7201a8\"],[0.3333333333333333,\"#9c179e\"],[0.4444444444444444,\"#bd3786\"],[0.5555555555555556,\"#d8576b\"],[0.6666666666666666,\"#ed7953\"],[0.7777777777777778,\"#fb9f3a\"],[0.8888888888888888,\"#fdca26\"],[1.0,\"#f0f921\"]],\"type\":\"heatmap\"}],\"histogram2dcontour\":[{\"colorbar\":{\"outlinewidth\":0,\"ticks\":\"\"},\"colorscale\":[[0.0,\"#0d0887\"],[0.1111111111111111,\"#46039f\"],[0.2222222222222222,\"#7201a8\"],[0.3333333333333333,\"#9c179e\"],[0.4444444444444444,\"#bd3786\"],[0.5555555555555556,\"#d8576b\"],[0.6666666666666666,\"#ed7953\"],[0.7777777777777778,\"#fb9f3a\"],[0.8888888888888888,\"#fdca26\"],[1.0,\"#f0f921\"]],\"type\":\"histogram2dcontour\"}],\"histogram2d\":[{\"colorbar\":{\"outlinewidth\":0,\"ticks\":\"\"},\"colorscale\":[[0.0,\"#0d0887\"],[0.1111111111111111,\"#46039f\"],[0.2222222222222222,\"#7201a8\"],[0.3333333333333333,\"#9c179e\"],[0.4444444444444444,\"#bd3786\"],[0.5555555555555556,\"#d8576b\"],[0.6666666666666666,\"#ed7953\"],[0.7777777777777778,\"#fb9f3a\"],[0.8888888888888888,\"#fdca26\"],[1.0,\"#f0f921\"]],\"type\":\"histogram2d\"}],\"histogram\":[{\"marker\":{\"pattern\":{\"fillmode\":\"overlay\",\"size\":10,\"solidity\":0.2}},\"type\":\"histogram\"}],\"mesh3d\":[{\"colorbar\":{\"outlinewidth\":0,\"ticks\":\"\"},\"type\":\"mesh3d\"}],\"parcoords\":[{\"line\":{\"colorbar\":{\"outlinewidth\":0,\"ticks\":\"\"}},\"type\":\"parcoords\"}],\"pie\":[{\"automargin\":true,\"type\":\"pie\"}],\"scatter3d\":[{\"line\":{\"colorbar\":{\"outlinewidth\":0,\"ticks\":\"\"}},\"marker\":{\"colorbar\":{\"outlinewidth\":0,\"ticks\":\"\"}},\"type\":\"scatter3d\"}],\"scattercarpet\":[{\"marker\":{\"colorbar\":{\"outlinewidth\":0,\"ticks\":\"\"}},\"type\":\"scattercarpet\"}],\"scattergeo\":[{\"marker\":{\"colorbar\":{\"outlinewidth\":0,\"ticks\":\"\"}},\"type\":\"scattergeo\"}],\"scattergl\":[{\"marker\":{\"colorbar\":{\"outlinewidth\":0,\"ticks\":\"\"}},\"type\":\"scattergl\"}],\"scattermapbox\":[{\"marker\":{\"colorbar\":{\"outlinewidth\":0,\"ticks\":\"\"}},\"type\":\"scattermapbox\"}],\"scatterpolargl\":[{\"marker\":{\"colorbar\":{\"outlinewidth\":0,\"ticks\":\"\"}},\"type\":\"scatterpolargl\"}],\"scatterpolar\":[{\"marker\":{\"colorbar\":{\"outlinewidth\":0,\"ticks\":\"\"}},\"type\":\"scatterpolar\"}],\"scatter\":[{\"fillpattern\":{\"fillmode\":\"overlay\",\"size\":10,\"solidity\":0.2},\"type\":\"scatter\"}],\"scatterternary\":[{\"marker\":{\"colorbar\":{\"outlinewidth\":0,\"ticks\":\"\"}},\"type\":\"scatterternary\"}],\"surface\":[{\"colorbar\":{\"outlinewidth\":0,\"ticks\":\"\"},\"colorscale\":[[0.0,\"#0d0887\"],[0.1111111111111111,\"#46039f\"],[0.2222222222222222,\"#7201a8\"],[0.3333333333333333,\"#9c179e\"],[0.4444444444444444,\"#bd3786\"],[0.5555555555555556,\"#d8576b\"],[0.6666666666666666,\"#ed7953\"],[0.7777777777777778,\"#fb9f3a\"],[0.8888888888888888,\"#fdca26\"],[1.0,\"#f0f921\"]],\"type\":\"surface\"}],\"table\":[{\"cells\":{\"fill\":{\"color\":\"#EBF0F8\"},\"line\":{\"color\":\"white\"}},\"header\":{\"fill\":{\"color\":\"#C8D4E3\"},\"line\":{\"color\":\"white\"}},\"type\":\"table\"}]},\"layout\":{\"annotationdefaults\":{\"arrowcolor\":\"#2a3f5f\",\"arrowhead\":0,\"arrowwidth\":1},\"autotypenumbers\":\"strict\",\"coloraxis\":{\"colorbar\":{\"outlinewidth\":0,\"ticks\":\"\"}},\"colorscale\":{\"diverging\":[[0,\"#8e0152\"],[0.1,\"#c51b7d\"],[0.2,\"#de77ae\"],[0.3,\"#f1b6da\"],[0.4,\"#fde0ef\"],[0.5,\"#f7f7f7\"],[0.6,\"#e6f5d0\"],[0.7,\"#b8e186\"],[0.8,\"#7fbc41\"],[0.9,\"#4d9221\"],[1,\"#276419\"]],\"sequential\":[[0.0,\"#0d0887\"],[0.1111111111111111,\"#46039f\"],[0.2222222222222222,\"#7201a8\"],[0.3333333333333333,\"#9c179e\"],[0.4444444444444444,\"#bd3786\"],[0.5555555555555556,\"#d8576b\"],[0.6666666666666666,\"#ed7953\"],[0.7777777777777778,\"#fb9f3a\"],[0.8888888888888888,\"#fdca26\"],[1.0,\"#f0f921\"]],\"sequentialminus\":[[0.0,\"#0d0887\"],[0.1111111111111111,\"#46039f\"],[0.2222222222222222,\"#7201a8\"],[0.3333333333333333,\"#9c179e\"],[0.4444444444444444,\"#bd3786\"],[0.5555555555555556,\"#d8576b\"],[0.6666666666666666,\"#ed7953\"],[0.7777777777777778,\"#fb9f3a\"],[0.8888888888888888,\"#fdca26\"],[1.0,\"#f0f921\"]]},\"colorway\":[\"#636efa\",\"#EF553B\",\"#00cc96\",\"#ab63fa\",\"#FFA15A\",\"#19d3f3\",\"#FF6692\",\"#B6E880\",\"#FF97FF\",\"#FECB52\"],\"font\":{\"color\":\"#2a3f5f\"},\"geo\":{\"bgcolor\":\"white\",\"lakecolor\":\"white\",\"landcolor\":\"#E5ECF6\",\"showlakes\":true,\"showland\":true,\"subunitcolor\":\"white\"},\"hoverlabel\":{\"align\":\"left\"},\"hovermode\":\"closest\",\"mapbox\":{\"style\":\"light\"},\"paper_bgcolor\":\"white\",\"plot_bgcolor\":\"#E5ECF6\",\"polar\":{\"angularaxis\":{\"gridcolor\":\"white\",\"linecolor\":\"white\",\"ticks\":\"\"},\"bgcolor\":\"#E5ECF6\",\"radialaxis\":{\"gridcolor\":\"white\",\"linecolor\":\"white\",\"ticks\":\"\"}},\"scene\":{\"xaxis\":{\"backgroundcolor\":\"#E5ECF6\",\"gridcolor\":\"white\",\"gridwidth\":2,\"linecolor\":\"white\",\"showbackground\":true,\"ticks\":\"\",\"zerolinecolor\":\"white\"},\"yaxis\":{\"backgroundcolor\":\"#E5ECF6\",\"gridcolor\":\"white\",\"gridwidth\":2,\"linecolor\":\"white\",\"showbackground\":true,\"ticks\":\"\",\"zerolinecolor\":\"white\"},\"zaxis\":{\"backgroundcolor\":\"#E5ECF6\",\"gridcolor\":\"white\",\"gridwidth\":2,\"linecolor\":\"white\",\"showbackground\":true,\"ticks\":\"\",\"zerolinecolor\":\"white\"}},\"shapedefaults\":{\"line\":{\"color\":\"#2a3f5f\"}},\"ternary\":{\"aaxis\":{\"gridcolor\":\"white\",\"linecolor\":\"white\",\"ticks\":\"\"},\"baxis\":{\"gridcolor\":\"white\",\"linecolor\":\"white\",\"ticks\":\"\"},\"bgcolor\":\"#E5ECF6\",\"caxis\":{\"gridcolor\":\"white\",\"linecolor\":\"white\",\"ticks\":\"\"}},\"title\":{\"x\":0.05},\"xaxis\":{\"automargin\":true,\"gridcolor\":\"white\",\"linecolor\":\"white\",\"ticks\":\"\",\"title\":{\"standoff\":15},\"zerolinecolor\":\"white\",\"zerolinewidth\":2},\"yaxis\":{\"automargin\":true,\"gridcolor\":\"white\",\"linecolor\":\"white\",\"ticks\":\"\",\"title\":{\"standoff\":15},\"zerolinecolor\":\"white\",\"zerolinewidth\":2}}},\"title\":{\"text\":\"Word Count Plots\"},\"width\":600,\"xaxis\":{\"anchor\":\"y\",\"domain\":[0.0,1.0]},\"yaxis\":{\"anchor\":\"x\",\"domain\":[0.0,1.0]}},                        {\"responsive\": true}                    ).then(function(){\n",
       "                            \n",
       "var gd = document.getElementById('135af30f-35ec-4213-8c96-3a0fa8f7b171');\n",
       "var x = new MutationObserver(function (mutations, observer) {{\n",
       "        var display = window.getComputedStyle(gd).display;\n",
       "        if (!display || display === 'none') {{\n",
       "            console.log([gd, 'removed!']);\n",
       "            Plotly.purge(gd);\n",
       "            observer.disconnect();\n",
       "        }}\n",
       "}});\n",
       "\n",
       "// Listen for the removal of the full notebook cells\n",
       "var notebookContainer = gd.closest('#notebook-container');\n",
       "if (notebookContainer) {{\n",
       "    x.observe(notebookContainer, {childList: true});\n",
       "}}\n",
       "\n",
       "// Listen for the clearing of the current output cell\n",
       "var outputEl = gd.closest('.output');\n",
       "if (outputEl) {{\n",
       "    x.observe(outputEl, {childList: true});\n",
       "}}\n",
       "\n",
       "                        })                };                });            </script>        </div>"
      ]
     },
     "metadata": {},
     "output_type": "display_data"
    }
   ],
   "source": [
    "## Get the bar chart from 5 rated reviews ##\n",
    "freq_dict = defaultdict(int)\n",
    "for sent in news_df[\"content\"]:\n",
    "    for word in generate_ngrams(sent,3):\n",
    "        freq_dict[word] += 1\n",
    "fd_sorted = pd.DataFrame(sorted(freq_dict.items(), key=lambda x: x[1])[::-1])\n",
    "fd_sorted.columns = [\"word\", \"wordcount\"]\n",
    "trace0 = horizontal_bar_chart(fd_sorted.head(20), 'green')\n",
    "\n",
    "# Creating two subplots\n",
    "fig = tools.make_subplots(rows=1, cols=1, vertical_spacing=0.04,\n",
    "                          subplot_titles=[\"Frequent words\"])\n",
    "fig.append_trace(trace0, 1, 1)\n",
    "#fig.append_trace(trace1, 1, 2)\n",
    "fig['layout'].update(height=600, width=600, paper_bgcolor='rgb(233,233,233)', title=\"Word Count Plots\")\n",
    "py.iplot(fig, filename='word-plots');"
   ]
  },
  {
   "attachments": {},
   "cell_type": "markdown",
   "metadata": {},
   "source": [
    "# Finviz"
   ]
  },
  {
   "cell_type": "code",
   "execution_count": null,
   "metadata": {},
   "outputs": [],
   "source": [
    "url = f\"https://finviz.com/quote.ashx?t={text_input}&ty=c&ta=1&p=d\"\n",
    "\n",
    "\n",
    "headers = {\"User-Agent\": \"Mozilla/5.0\"}\n",
    "cookies = {\"CONSENT\": \"YES+cb.20210720-07-p0.en+FX+410\"}\n",
    "\n",
    "req = Request(url, headers=headers)\n",
    "\n",
    "try:\n",
    "    contents = urlopen(req).read() \n",
    "    soup = BeautifulSoup(contents, features=\"html.parser\")\n",
    "\n",
    "    sentence2 = []\n",
    "\n",
    "    for tag in soup.find_all('a'):\n",
    "\n",
    "        sentence = tag.text.split(\".\")\n",
    "        sentence2.append(sentence)\n",
    "\n",
    "except urllib.error.HTTPError as err:\n",
    "    print(err.code)\n",
    "\n",
    "except socket.timeout as se:\n",
    "    print(\"socket timeout\")"
   ]
  },
  {
   "cell_type": "code",
   "execution_count": null,
   "metadata": {},
   "outputs": [],
   "source": [
    "df = pd.DataFrame(sentence2)"
   ]
  },
  {
   "cell_type": "code",
   "execution_count": null,
   "metadata": {},
   "outputs": [],
   "source": [
    "df['Headline'] = df[0]\n",
    "df['Sentiment'] = -2\n",
    "df = pd.DataFrame(list(zip(df['Headline'], df['Sentiment'])), columns=['Headline', 'Sentiment'])"
   ]
  },
  {
   "cell_type": "code",
   "execution_count": null,
   "metadata": {},
   "outputs": [],
   "source": [
    "i = []\n",
    "\n",
    "for string in df['Headline']:\n",
    "    i.append(count_words(string))\n",
    "\n",
    "df['word_count'] = i"
   ]
  },
  {
   "cell_type": "code",
   "execution_count": null,
   "metadata": {},
   "outputs": [],
   "source": [
    "sentiment = [None] * len(df)\n",
    "sentiment_score = [None] * len(df)\n",
    "index = -1\n",
    "for sentence in df['Headline']:\n",
    "    index+=1\n",
    "    result = sentiment_pipeline(sentence[:512])[0]\n",
    "    sentiment[index] = result['label']\n",
    "    sentiment_score[index] = result['score']\n",
    "df['Sentiment'] = sentiment\n",
    "df['Score'] = sentiment_score"
   ]
  },
  {
   "cell_type": "code",
   "execution_count": null,
   "metadata": {},
   "outputs": [],
   "source": [
    "df = df[df['word_count'] > 10]\n",
    "df['Headline_Lower'] = df['Headline'].str.lower()"
   ]
  },
  {
   "cell_type": "code",
   "execution_count": null,
   "metadata": {},
   "outputs": [],
   "source": [
    "sns.histplot(x = 'Sentiment', data = df[df['Score'] > 0.8], hue = 'Sentiment', hue_order=['POSITIVE', 'NEGATIVE'])"
   ]
  },
  {
   "cell_type": "code",
   "execution_count": null,
   "metadata": {},
   "outputs": [],
   "source": [
    "## Get the bar chart from 5 rated reviews ##\n",
    "freq_dict = defaultdict(int)\n",
    "for sent in df[\"Headline_Lower\"]:\n",
    "    for word in generate_ngrams(sent,3):\n",
    "        freq_dict[word] += 1\n",
    "fd_sorted = pd.DataFrame(sorted(freq_dict.items(), key=lambda x: x[1])[::-1])\n",
    "fd_sorted.columns = [\"word\", \"wordcount\"]\n",
    "trace0 = horizontal_bar_chart(fd_sorted.head(10), 'green')\n",
    "\n",
    "# Creating two subplots\n",
    "fig = tools.make_subplots(rows=1, cols=1, vertical_spacing=0.04,\n",
    "                          subplot_titles=[\"Frequent words\"])\n",
    "fig.append_trace(trace0, 1, 1)\n",
    "#fig.append_trace(trace1, 1, 2)\n",
    "fig['layout'].update(height=600, width=600, paper_bgcolor='rgb(233,233,233)', title=\"Word Count Plots\")\n",
    "py.iplot(fig, filename='word-plots');"
   ]
  },
  {
   "cell_type": "code",
   "execution_count": null,
   "metadata": {},
   "outputs": [],
   "source": [
    "spy_ohlc_df = yf.download(text_input, start=dt.date.today() - dt.timedelta(days=1095), end=dt.date.today())\n",
    "df=spy_ohlc_df.reset_index()"
   ]
  },
  {
   "cell_type": "code",
   "execution_count": null,
   "metadata": {},
   "outputs": [],
   "source": [
    "# fig, ax = plt.subplots()\n",
    "# fig.set_size_inches(15,6)\n",
    "# sns.lineplot(x = 'Date', y = 'Close', data = df)\n",
    "# plt.show()"
   ]
  },
  {
   "cell_type": "code",
   "execution_count": null,
   "metadata": {},
   "outputs": [],
   "source": [
    "# Load SPY price data\n",
    "spy_data = df\n",
    "spy_data = df[['Date', 'Close']]\n",
    "spy_data.columns = ['ds', 'y']\n",
    "\n",
    "# Initialize Prophet model\n",
    "model = Prophet()\n",
    "\n",
    "# Fit the model on SPY data\n",
    "model.fit(spy_data)\n",
    "\n",
    "# Create future dates for forecasting\n",
    "future_dates = model.make_future_dataframe(periods=3)\n",
    "\n",
    "# Make predictions for future dates\n",
    "forecast = model.predict(future_dates)"
   ]
  },
  {
   "cell_type": "code",
   "execution_count": null,
   "metadata": {},
   "outputs": [],
   "source": [
    "# fig = model.plot(forecast, xlabel='Date', ylabel='SPY Price')\n",
    "# fig.set_size_inches(15,6)\n",
    "# plt.title('Forecasted Price')\n",
    "# plt.xlabel('dt')\n",
    "# plt.ylabel('Price')\n",
    "# plt.show()"
   ]
  },
  {
   "cell_type": "code",
   "execution_count": null,
   "metadata": {},
   "outputs": [],
   "source": [
    "# Plot the forecasted data\n",
    "model.plot(forecast, xlabel='Date', ylabel='SPY Price')\n",
    "plt.xlim(dt.date.today() - dt.timedelta(days=7), dt.date.today() + dt.timedelta(days=3))\n",
    "\n",
    "# Plot the forecasted trend and seasonality components\n",
    "fig = model.plot_components(forecast)\n",
    "plt.show()"
   ]
  },
  {
   "cell_type": "code",
   "execution_count": null,
   "metadata": {},
   "outputs": [],
   "source": [
    "spy_ohlc_df = yf.download(text_input, start=dt.date.today() - dt.timedelta(days=7), end=dt.date.today(), interval='1m')\n",
    "df1=spy_ohlc_df.reset_index()\n",
    "\n",
    "# spy_ohlc_df = yf.download(text_input, start=dt.date.today() - dt.timedelta(days=7), end=dt.date.today())\n",
    "# df1=spy_ohlc_df.reset_index()"
   ]
  },
  {
   "cell_type": "code",
   "execution_count": null,
   "metadata": {},
   "outputs": [],
   "source": [
    "# fig, ax = plt.subplots()\n",
    "# fig.set_size_inches(15,6)\n",
    "# sns.lineplot(x = 'Datetime', y = 'Close', data = df1)\n",
    "# plt.show()"
   ]
  },
  {
   "cell_type": "code",
   "execution_count": null,
   "metadata": {},
   "outputs": [],
   "source": [
    "# Load SPY price data\n",
    "spy_data = df1\n",
    "spy_data = df1[['Datetime', 'Close']]\n",
    "#spy_data = df1[['Date', 'Close']]\n",
    "spy_data.columns = ['ds', 'y']\n",
    "\n",
    "# Initialize Prophet model\n",
    "model = Prophet()\n",
    "\n",
    "# Fit the model on SPY data\n",
    "model.fit(spy_data)\n",
    "\n",
    "# Create future dates for forecasting\n",
    "future_dates = model.make_future_dataframe(periods=2880, freq='T')\n",
    "\n",
    "# Make predictions for future dates\n",
    "forecast = model.predict(future_dates)\n"
   ]
  },
  {
   "cell_type": "code",
   "execution_count": null,
   "metadata": {},
   "outputs": [],
   "source": [
    "# fig = model.plot(forecast, xlabel='Date', ylabel='SPY Price')\n",
    "# fig.set_size_inches(15,6)\n",
    "# plt.title('Forecasted Price')\n",
    "# plt.xlabel('dt')\n",
    "# plt.ylabel('Price')\n",
    "# plt.show()"
   ]
  },
  {
   "cell_type": "code",
   "execution_count": null,
   "metadata": {},
   "outputs": [],
   "source": [
    "# Plot the forecasted data\n",
    "model.plot(forecast, xlabel='Date', ylabel='SPY Price')\n",
    "plt.xlim(dt.date.today() - dt.timedelta(days=1), dt.date.today() + dt.timedelta(minutes=1440))\n",
    "\n",
    "# Plot the forecasted trend and seasonality components\n",
    "fig = model.plot_components(forecast)\n",
    "plt.show()"
   ]
  }
 ],
 "metadata": {
  "kernelspec": {
   "display_name": "Python 3.10.1 64-bit",
   "language": "python",
   "name": "python3"
  },
  "language_info": {
   "codemirror_mode": {
    "name": "ipython",
    "version": 3
   },
   "file_extension": ".py",
   "mimetype": "text/x-python",
   "name": "python",
   "nbconvert_exporter": "python",
   "pygments_lexer": "ipython3",
   "version": "3.10.1"
  },
  "orig_nbformat": 4,
  "vscode": {
   "interpreter": {
    "hash": "998c911629ba937bcf1bf80465453e12e8c5c2c818cb936f93ef7cf495a937a9"
   }
  }
 },
 "nbformat": 4,
 "nbformat_minor": 2
}
